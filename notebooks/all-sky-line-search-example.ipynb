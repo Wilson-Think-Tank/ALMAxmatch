{
 "cells": [
  {
   "cell_type": "markdown",
   "metadata": {},
   "source": [
    "# An all-sky ALMA Archive search for some target lines within a given redshift range\n",
    "## (Authors: Toby Brown and Nathan Brunetti)\n",
    "\n",
    "## Uses the `ALMAxmatch` module's `runQueriesWithLines` method"
   ]
  },
  {
   "cell_type": "markdown",
   "metadata": {},
   "source": [
    "### Import the `ALMAxmatch` module\n",
    "- This requires installing the latest code branch for the `astroquery` moduledue to a bug in the release date format that should be fixed in the next release."
   ]
  },
  {
   "cell_type": "markdown",
   "metadata": {},
   "source": [
    "## Install  \"bleeding edge\" version of `astroquery`\n",
    "In the short-term it is necessary to install the \"bleeding edge\" version of `astroquery` to avoid a bug in the release date column. To do so, run the following commands in a terminal in a directory you do not mind downloading ~100 MB of code\n",
    "```\n",
    "git clone https://github.com/astropy/astroquery.git\n",
    "cd astroquery\n",
    "python setup.py build\n",
    "python setup.py install\n",
    "```"
   ]
  },
  {
   "cell_type": "markdown",
   "metadata": {},
   "source": [
    "### Import the `ALMAxmatch` tool"
   ]
  },
  {
   "cell_type": "code",
   "execution_count": 1,
   "metadata": {},
   "outputs": [],
   "source": [
    "import os\n",
    "import sys\n",
    "sys.path.insert(0, os.path.abspath('..'))\n",
    "from ALMAxmatch import archiveSearch"
   ]
  },
  {
   "cell_type": "markdown",
   "metadata": {},
   "source": [
    "## 1. Define lines of interest and redshift range\n",
    "\n",
    "### Lines:\n",
    "\n",
    "1. $^{12}$CO ($J=1-0$) @ 115.27120180 GHz rest frequency\n",
    "2. $^{13}$CO ($J=1-0$) @ 109.78217340 GHz rest frequency\n",
    "3. C$^{18}$O ($J=1-0$) @ 110.20135430 GHz rest frequency\n"
   ]
  },
  {
   "cell_type": "code",
   "execution_count": 2,
   "metadata": {},
   "outputs": [],
   "source": [
    "# rest frame frequencies\n",
    "rf_12CO_10 = 115.27120180 # 12CO J=1-0\n",
    "rf_13CO_10 = 110.20135430 # 13CO J=1-0\n",
    "rf_C18O_10 = 109.78217340 # C18O J=1-0\n",
    "\n",
    "rest_frequencies = [rf_C18O_10, rf_13CO_10, rf_12CO_10] # list of rest frequencies\n",
    "lineNames = ['C18O J=1-0', '13CO J=1-0', '12CO J=1-0'] # column names for observed boolean flags "
   ]
  },
  {
   "cell_type": "markdown",
   "metadata": {},
   "source": [
    "### Search Redshift Range:\n",
    "\n",
    "Search for the following lines at $0.0 \\leq z \\leq 0.05$:"
   ]
  },
  {
   "cell_type": "code",
   "execution_count": 3,
   "metadata": {},
   "outputs": [],
   "source": [
    "# search redshift range\n",
    "redshift_range = [0.0,0.05]"
   ]
  },
  {
   "cell_type": "markdown",
   "metadata": {},
   "source": [
    "## 2. Run the archive search\n",
    "\n",
    "\n",
    "### What does `runQueriesWithLines` do?\n",
    "1. Calculate min and max frequencies for the target lines in the redshift range\n",
    "1. Query the service using `astroquery.alma.Alma.query` with the min and max frequencies for the target lines and return a table object, selecting only science data\n",
    "1. Cross-match these observations with NED, returning the results in the following astropy tables:\n",
    "\n",
    "    `archiveSearch.queryResults`: ALMA Archive information for observations that match a NED object name and have a redshift, with flags for each line specifying if the spectral windows cover the line frequency at the object's redshift.\n",
    "\n",
    "    `archiveSearch.queryResultsNoNED`: Observations that did not have a match in NED, based on name.\n",
    "\n",
    "    `archiveSearch.queryResultsNoNEDz`: Observations that match a NED object name but do not have a redshift."
   ]
  },
  {
   "cell_type": "code",
   "execution_count": 4,
   "metadata": {},
   "outputs": [],
   "source": [
    "# Initialise the search object\n",
    "allSkyLinesQuery = archiveSearch(allSky=True)"
   ]
  },
  {
   "cell_type": "markdown",
   "metadata": {},
   "source": [
    "**Warning** Running this query takes about 12 minutes to run, so make sure you have something else to do while you wait (ALMA archive pro-tip: use this time to give your mom a quick call, you know it's been too long)."
   ]
  },
  {
   "cell_type": "code",
   "execution_count": 5,
   "metadata": {
    "scrolled": true
   },
   "outputs": [
    {
     "name": "stderr",
     "output_type": "stream",
     "text": [
      "NED cross matching:  25%|██▌       | 1406/5584 [12:02<2:37:23,  2.26s/ source] "
     ]
    },
    {
     "ename": "KeyError",
     "evalue": "'Type'",
     "output_type": "error",
     "traceback": [
      "\u001b[0;31m---------------------------------------------------------------------------\u001b[0m",
      "\u001b[0;31mKeyError\u001b[0m                                  Traceback (most recent call last)",
      "\u001b[0;32m<ipython-input-5-23f8aacfee62>\u001b[0m in \u001b[0;36m<module>\u001b[0;34m()\u001b[0m\n\u001b[1;32m      1\u001b[0m allSkyLinesQuery.runQueriesWithLines(restFreqs=rest_frequencies,\n\u001b[1;32m      2\u001b[0m                                      \u001b[0mredshiftRange\u001b[0m\u001b[0;34m=\u001b[0m\u001b[0mredshift_range\u001b[0m\u001b[0;34m,\u001b[0m\u001b[0;34m\u001b[0m\u001b[0m\n\u001b[0;32m----> 3\u001b[0;31m                                      lineNames=lineNames, science=True)\n\u001b[0m",
      "\u001b[0;32m~/ALMA/think_tank_code/tools/archiveDev/ALMAxmatch/core.py\u001b[0m in \u001b[0;36mrunQueriesWithLines\u001b[0;34m(self, restFreqs, redshiftRange, lineNames, public, science, **kwargs)\u001b[0m\n\u001b[1;32m    284\u001b[0m \u001b[0;34m\u001b[0m\u001b[0m\n\u001b[1;32m    285\u001b[0m                     \u001b[0;31m# only want galaxies\u001b[0m\u001b[0;34m\u001b[0m\u001b[0;34m\u001b[0m\u001b[0m\n\u001b[0;32m--> 286\u001b[0;31m                     \u001b[0mtypeInds\u001b[0m \u001b[0;34m=\u001b[0m \u001b[0mnp\u001b[0m\u001b[0;34m.\u001b[0m\u001b[0mwhere\u001b[0m\u001b[0;34m(\u001b[0m\u001b[0mnedSearch\u001b[0m\u001b[0;34m[\u001b[0m\u001b[0;34m'Type'\u001b[0m\u001b[0;34m]\u001b[0m \u001b[0;34m!=\u001b[0m \u001b[0;34mb'G'\u001b[0m\u001b[0;34m)\u001b[0m\u001b[0;34m\u001b[0m\u001b[0m\n\u001b[0m\u001b[1;32m    287\u001b[0m                     \u001b[0mnedSearch\u001b[0m\u001b[0;34m.\u001b[0m\u001b[0mremove_rows\u001b[0m\u001b[0;34m(\u001b[0m\u001b[0mtypeInds\u001b[0m\u001b[0;34m)\u001b[0m\u001b[0;34m\u001b[0m\u001b[0m\n\u001b[1;32m    288\u001b[0m \u001b[0;34m\u001b[0m\u001b[0m\n",
      "\u001b[0;32m~/Library/Python/3.6/lib/python/site-packages/astropy/table/table.py\u001b[0m in \u001b[0;36m__getitem__\u001b[0;34m(self, item)\u001b[0m\n\u001b[1;32m   1600\u001b[0m     \u001b[0;32mdef\u001b[0m \u001b[0m__getitem__\u001b[0m\u001b[0;34m(\u001b[0m\u001b[0mself\u001b[0m\u001b[0;34m,\u001b[0m \u001b[0mitem\u001b[0m\u001b[0;34m)\u001b[0m\u001b[0;34m:\u001b[0m\u001b[0;34m\u001b[0m\u001b[0m\n\u001b[1;32m   1601\u001b[0m         \u001b[0;32mif\u001b[0m \u001b[0misinstance\u001b[0m\u001b[0;34m(\u001b[0m\u001b[0mitem\u001b[0m\u001b[0;34m,\u001b[0m \u001b[0mstr\u001b[0m\u001b[0;34m)\u001b[0m\u001b[0;34m:\u001b[0m\u001b[0;34m\u001b[0m\u001b[0m\n\u001b[0;32m-> 1602\u001b[0;31m             \u001b[0;32mreturn\u001b[0m \u001b[0mself\u001b[0m\u001b[0;34m.\u001b[0m\u001b[0mcolumns\u001b[0m\u001b[0;34m[\u001b[0m\u001b[0mitem\u001b[0m\u001b[0;34m]\u001b[0m\u001b[0;34m\u001b[0m\u001b[0m\n\u001b[0m\u001b[1;32m   1603\u001b[0m         \u001b[0;32melif\u001b[0m \u001b[0misinstance\u001b[0m\u001b[0;34m(\u001b[0m\u001b[0mitem\u001b[0m\u001b[0;34m,\u001b[0m \u001b[0;34m(\u001b[0m\u001b[0mint\u001b[0m\u001b[0;34m,\u001b[0m \u001b[0mnp\u001b[0m\u001b[0;34m.\u001b[0m\u001b[0minteger\u001b[0m\u001b[0;34m)\u001b[0m\u001b[0;34m)\u001b[0m\u001b[0;34m:\u001b[0m\u001b[0;34m\u001b[0m\u001b[0m\n\u001b[1;32m   1604\u001b[0m             \u001b[0;32mreturn\u001b[0m \u001b[0mself\u001b[0m\u001b[0;34m.\u001b[0m\u001b[0mRow\u001b[0m\u001b[0;34m(\u001b[0m\u001b[0mself\u001b[0m\u001b[0;34m,\u001b[0m \u001b[0mitem\u001b[0m\u001b[0;34m)\u001b[0m\u001b[0;34m\u001b[0m\u001b[0m\n",
      "\u001b[0;32m~/Library/Python/3.6/lib/python/site-packages/astropy/table/table.py\u001b[0m in \u001b[0;36m__getitem__\u001b[0;34m(self, item)\u001b[0m\n\u001b[1;32m    237\u001b[0m         \"\"\"\n\u001b[1;32m    238\u001b[0m         \u001b[0;32mif\u001b[0m \u001b[0misinstance\u001b[0m\u001b[0;34m(\u001b[0m\u001b[0mitem\u001b[0m\u001b[0;34m,\u001b[0m \u001b[0mstr\u001b[0m\u001b[0;34m)\u001b[0m\u001b[0;34m:\u001b[0m\u001b[0;34m\u001b[0m\u001b[0m\n\u001b[0;32m--> 239\u001b[0;31m             \u001b[0;32mreturn\u001b[0m \u001b[0mOrderedDict\u001b[0m\u001b[0;34m.\u001b[0m\u001b[0m__getitem__\u001b[0m\u001b[0;34m(\u001b[0m\u001b[0mself\u001b[0m\u001b[0;34m,\u001b[0m \u001b[0mitem\u001b[0m\u001b[0;34m)\u001b[0m\u001b[0;34m\u001b[0m\u001b[0m\n\u001b[0m\u001b[1;32m    240\u001b[0m         \u001b[0;32melif\u001b[0m \u001b[0misinstance\u001b[0m\u001b[0;34m(\u001b[0m\u001b[0mitem\u001b[0m\u001b[0;34m,\u001b[0m \u001b[0;34m(\u001b[0m\u001b[0mint\u001b[0m\u001b[0;34m,\u001b[0m \u001b[0mnp\u001b[0m\u001b[0;34m.\u001b[0m\u001b[0minteger\u001b[0m\u001b[0;34m)\u001b[0m\u001b[0;34m)\u001b[0m\u001b[0;34m:\u001b[0m\u001b[0;34m\u001b[0m\u001b[0m\n\u001b[1;32m    241\u001b[0m             \u001b[0;32mreturn\u001b[0m \u001b[0mself\u001b[0m\u001b[0;34m.\u001b[0m\u001b[0mvalues\u001b[0m\u001b[0;34m(\u001b[0m\u001b[0;34m)\u001b[0m\u001b[0;34m[\u001b[0m\u001b[0mitem\u001b[0m\u001b[0;34m]\u001b[0m\u001b[0;34m\u001b[0m\u001b[0m\n",
      "\u001b[0;31mKeyError\u001b[0m: 'Type'"
     ]
    }
   ],
   "source": [
    "allSkyLinesQuery.runQueriesWithLines(restFreqs=rest_frequencies,\n",
    "                                     redshiftRange=redshift_range,\n",
    "                                     lineNames=lineNames, science=True)"
   ]
  },
  {
   "cell_type": "code",
   "execution_count": null,
   "metadata": {
    "scrolled": true
   },
   "outputs": [],
   "source": [
    "allSkyLinesQuery.queryResults['All sky'].show_in_notebook()"
   ]
  },
  {
   "cell_type": "code",
   "execution_count": null,
   "metadata": {},
   "outputs": [],
   "source": [
    "print(\"There are\", len(allSkyLinesQuery.queryResults['All sky']), \"observations of 12CO, 13CO, OR C18O in the target redshift range\")"
   ]
  },
  {
   "cell_type": "markdown",
   "metadata": {},
   "source": [
    "Because our search results have accompanying archival and NED data, we can take a"
   ]
  },
  {
   "cell_type": "markdown",
   "metadata": {},
   "source": [
    "## 3. Take a look at your results"
   ]
  },
  {
   "cell_type": "code",
   "execution_count": null,
   "metadata": {},
   "outputs": [],
   "source": [
    "import matplotlib.pyplot as plt\n",
    "\n",
    "plt.figure(figsize=(10,5))\n",
    "plt.hist(allSkyLinesQuery.queryResults['All sky']['NED Redshift'])\n",
    "plt.xlabel(\"redshift\")\n",
    "plt.show()"
   ]
  },
  {
   "cell_type": "code",
   "execution_count": null,
   "metadata": {},
   "outputs": [],
   "source": [
    "C18O_observed = allSkyLinesQuery.queryResults['All sky'][lineNames[0]]\n",
    "_13CO_observed = allSkyLinesQuery.queryResults['All sky'][lineNames[1]]\n",
    "_12CO_observed = allSkyLinesQuery.queryResults['All sky'][lineNames[2]]\n",
    "\n",
    "perfomance = [len(C18O_observed[C18O_observed==True]),\n",
    "               len(_13CO_observed[_13CO_observed==True]),\n",
    "               len(_12CO_observed[_12CO_observed==True])]\n",
    "\n",
    "xpos = [0,1,2]\n",
    "\n",
    "plt.figure(figsize=(10,5))\n",
    "plt.bar(xpos, perfomance)\n",
    "plt.xticks(xpos, lineNames, fontsize=15)\n",
    "plt.ylabel('No. Observations')"
   ]
  },
  {
   "cell_type": "markdown",
   "metadata": {},
   "source": [
    "### Group by NED source name"
   ]
  },
  {
   "cell_type": "code",
   "execution_count": null,
   "metadata": {},
   "outputs": [],
   "source": [
    "observations = allSkyLinesQuery.queryResults['All sky'].group_by('NED source name')"
   ]
  },
  {
   "cell_type": "markdown",
   "metadata": {},
   "source": [
    "Iterate over the group sub-tables and corresponding keys with:"
   ]
  },
  {
   "cell_type": "code",
   "execution_count": null,
   "metadata": {
    "scrolled": true
   },
   "outputs": [],
   "source": [
    "n = 0\n",
    "for key, group in zip(observations.groups.keys, observations.groups):\n",
    "    # if all three lines detected\n",
    "    if ((True in group['12CO J=1-0']) & \n",
    "        (True in group['13CO J=1-0']) &\n",
    "        (True in group['C18O J=1-0'])):\n",
    "        \n",
    "        print('****** {0} *******'.format(key['NED source name']))\n",
    "        display(group)\n",
    "        print('')\n",
    "        n= n+1\n"
   ]
  },
  {
   "cell_type": "code",
   "execution_count": null,
   "metadata": {},
   "outputs": [],
   "source": [
    "print(\"There are\", n, \"galaxies in the target redshift range with 12CO, 13CO, AND C18O observations.\")"
   ]
  },
  {
   "cell_type": "code",
   "execution_count": null,
   "metadata": {},
   "outputs": [],
   "source": []
  },
  {
   "cell_type": "code",
   "execution_count": null,
   "metadata": {},
   "outputs": [],
   "source": []
  },
  {
   "cell_type": "code",
   "execution_count": null,
   "metadata": {},
   "outputs": [],
   "source": []
  }
 ],
 "metadata": {
  "kernelspec": {
   "display_name": "Python 3",
   "language": "python",
   "name": "python3"
  },
  "language_info": {
   "codemirror_mode": {
    "name": "ipython",
    "version": 3
   },
   "file_extension": ".py",
   "mimetype": "text/x-python",
   "name": "python",
   "nbconvert_exporter": "python",
   "pygments_lexer": "ipython3",
   "version": "3.6.5"
  }
 },
 "nbformat": 4,
 "nbformat_minor": 2
}
