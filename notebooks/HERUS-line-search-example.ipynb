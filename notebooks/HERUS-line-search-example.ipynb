{
 "cells": [
  {
   "cell_type": "markdown",
   "metadata": {},
   "source": [
    "# Search HERUS for observed lines in ALMA archival data\n",
    "## - HERUS (Clements+2018) is a sample of 43 ULIRGs at z < 0.3\n",
    "## Search the ALMA archive using the `ALMAxmatch` module. Specifically we need the `runQueryWithLines` method"
   ]
  },
  {
   "cell_type": "code",
   "execution_count": 15,
   "metadata": {},
   "outputs": [],
   "source": [
    "from astropy.table import Table\n",
    "# read in sample\n",
    "HERUS_sample = Table.read('HERUS_sample.fits')"
   ]
  },
  {
   "cell_type": "markdown",
   "metadata": {},
   "source": [
    "Tidy up trailing white space in the name column (helps with matching later)"
   ]
  },
  {
   "cell_type": "code",
   "execution_count": 16,
   "metadata": {},
   "outputs": [],
   "source": [
    "names = [name.strip() for name in HERUS_sample['name']]\n",
    "HERUS_sample['name'] = names"
   ]
  },
  {
   "cell_type": "code",
   "execution_count": 17,
   "metadata": {
    "scrolled": false
   },
   "outputs": [
    {
     "data": {
      "text/html": [
       "<i>Table length=43</i>\n",
       "<table id=\"table4438000360\" class=\"table-striped table-bordered table-condensed\">\n",
       "<thead><tr><th>name</th><th>ra</th><th>dec</th><th>z</th><th>log(LIR/L)</th><th>ObsID_C18</th><th>F250</th><th>F350</th><th>F500</th><th>F250_err</th><th>F350_err</th><th>F500_err</th><th>Temp(K)</th><th>T+</th><th>T-</th><th>Beta</th><th>B+</th><th>B-</th><th>A</th><th>A+</th><th>A-</th><th>DustMass(logMsol)</th><th>HERUS</th></tr></thead>\n",
       "<thead><tr><th>str15</th><th>float64</th><th>float64</th><th>float32</th><th>float32</th><th>bytes11</th><th>float32</th><th>float32</th><th>float32</th><th>float32</th><th>float32</th><th>float32</th><th>float32</th><th>float32</th><th>float32</th><th>float32</th><th>float32</th><th>float32</th><th>bytes6</th><th>float32</th><th>float32</th><th>float32</th><th>bool</th></tr></thead>\n",
       "<tr><td>IRAS 00397-1312</td><td>10.5647</td><td>-12.93412</td><td>0.262</td><td>12.97</td><td>1342234696</td><td>0.389</td><td>0.13</td><td>0.04</td><td>0.004</td><td>0.004</td><td>0.005</td><td>41.73</td><td>1.19</td><td>1.19</td><td>2.03</td><td>0.08</td><td>0.08</td><td>- 1.21</td><td>0.05</td><td>0.05</td><td>8.9</td><td>True</td></tr>\n",
       "<tr><td>3C273</td><td>187.27792</td><td>2.05239</td><td>0.158</td><td>12.72</td><td>1342234882</td><td>0.437</td><td>0.633</td><td>0.994</td><td>0.004</td><td>0.004</td><td>0.005</td><td>nan</td><td>nan</td><td>nan</td><td>nan</td><td>nan</td><td>nan</td><td></td><td>nan</td><td>nan</td><td>nan</td><td>True</td></tr>\n",
       "<tr><td>IRAS 20100-4156</td><td>303.37308</td><td>-41.79303</td><td>0.13</td><td>12.63</td><td>1342230817</td><td>1.001</td><td>0.349</td><td>0.102</td><td>0.004</td><td>0.004</td><td>0.005</td><td>39.51</td><td>0.4</td><td>0.39</td><td>1.96</td><td>0.03</td><td>0.03</td><td>- 0.63</td><td>0.02</td><td>0.02</td><td>8.6</td><td>True</td></tr>\n",
       "<tr><td>Mrk1014</td><td>29.95921</td><td>0.39462</td><td>0.163</td><td>12.61</td><td>1342237540</td><td>0.46</td><td>0.175</td><td>0.063</td><td>0.004</td><td>0.004</td><td>0.005</td><td>46.89</td><td>1.1</td><td>1.14</td><td>1.5</td><td>0.07</td><td>0.06</td><td>- 1.30</td><td>0.04</td><td>0.04</td><td>8.4</td><td>True</td></tr>\n",
       "<tr><td>IRAS 03521+0028</td><td>58.6758</td><td>0.61761</td><td>0.152</td><td>12.56</td><td>1342239850</td><td>0.684</td><td>0.27</td><td>0.094</td><td>0.004</td><td>0.004</td><td>0.004</td><td>42.62</td><td>1.15</td><td>1.27</td><td>1.57</td><td>0.05</td><td>0.05</td><td>- 1.02</td><td>0.04</td><td>0.04</td><td>8.6</td><td>True</td></tr>\n",
       "<tr><td>IRAS 03158+4227</td><td>49.80167</td><td>42.64111</td><td>0.134</td><td>12.55</td><td>1342226656</td><td>0.973</td><td>0.377</td><td>0.137</td><td>0.004</td><td>0.004</td><td>0.005</td><td>42.3</td><td>1.26</td><td>1.37</td><td>1.58</td><td>0.04</td><td>0.04</td><td>- 0.84</td><td>0.04</td><td>0.04</td><td>8.6</td><td>True</td></tr>\n",
       "<tr><td>IRAS 16090-0139</td><td>242.91847</td><td>-1.78516</td><td>0.134</td><td>12.54</td><td>1342229565</td><td>1.067</td><td>0.404</td><td>0.116</td><td>0.004</td><td>0.004</td><td>0.005</td><td>37.5</td><td>0.43</td><td>0.44</td><td>1.84</td><td>0.03</td><td>0.03</td><td>- 0.60</td><td>0.02</td><td>0.02</td><td>8.7</td><td>True</td></tr>\n",
       "<tr><td>Mrk231</td><td>194.05931</td><td>56.87368</td><td>0.042</td><td>12.49</td><td>1342201218a</td><td>5.618</td><td>2.011</td><td>0.615</td><td>0.019</td><td>0.008</td><td>0.008</td><td>36.87</td><td>0.41</td><td>0.43</td><td>1.89</td><td>0.02</td><td>0.02</td><td>0.26</td><td>0.02</td><td>0.02</td><td>8.3</td><td>True</td></tr>\n",
       "<tr><td>IRAS 00188-0856</td><td>5.36051</td><td>-8.65722</td><td>0.128</td><td>12.47</td><td>1342234693</td><td>0.877</td><td>0.345</td><td>0.111</td><td>0.004</td><td>0.004</td><td>0.005</td><td>35.76</td><td>0.88</td><td>1.05</td><td>1.74</td><td>0.05</td><td>0.05</td><td>- 0.67</td><td>0.05</td><td>0.04</td><td>8.6</td><td>True</td></tr>\n",
       "<tr><td>IRAS 07598+6508</td><td>121.13783</td><td>64.99683</td><td>0.148</td><td>12.46</td><td>1342229642</td><td>0.5</td><td>0.197</td><td>0.058</td><td>0.004</td><td>0.004</td><td>0.005</td><td>40.34</td><td>0.83</td><td>0.81</td><td>1.6</td><td>0.05</td><td>0.05</td><td>- 1.09</td><td>0.04</td><td>0.04</td><td>8.5</td><td>True</td></tr>\n",
       "<tr><td>...</td><td>...</td><td>...</td><td>...</td><td>...</td><td>...</td><td>...</td><td>...</td><td>...</td><td>...</td><td>...</td><td>...</td><td>...</td><td>...</td><td>...</td><td>...</td><td>...</td><td>...</td><td>...</td><td>...</td><td>...</td><td>...</td><td>...</td></tr>\n",
       "<tr><td>Mrk273</td><td>206.17546</td><td>55.88685</td><td>0.038</td><td>12.13</td><td>1342201217a</td><td>4.19</td><td>1.493</td><td>0.471</td><td>0.011</td><td>0.006</td><td>0.006</td><td>36.34</td><td>0.32</td><td>0.33</td><td>1.89</td><td>0.01</td><td>0.01</td><td>0.15</td><td>0.01</td><td>0.01</td><td>8.1</td><td>True</td></tr>\n",
       "<tr><td>IRAS 05189-2524</td><td>80.2558</td><td>-25.3626</td><td>0.043</td><td>12.12</td><td>1342203632a</td><td>1.963</td><td>0.717</td><td>0.211</td><td>0.011</td><td>0.007</td><td>0.009</td><td>46.73</td><td>0.29</td><td>0.28</td><td>1.44</td><td>0.01</td><td>0.02</td><td>- 0.58</td><td>0.01</td><td>0.01</td><td>7.7</td><td>True</td></tr>\n",
       "<tr><td>IRAS 10565+2448</td><td>164.82549</td><td>24.54291</td><td>0.043</td><td>12.08</td><td>1342234869</td><td>3.619</td><td>1.319</td><td>0.407</td><td>0.011</td><td>0.004</td><td>0.005</td><td>36.6</td><td>0.12</td><td>0.11</td><td>1.67</td><td>0.01</td><td>0.01</td><td>- 0.03</td><td>0.01</td><td>0.01</td><td>8.2</td><td>True</td></tr>\n",
       "<tr><td>IRAS 19254-7245</td><td>292.83917</td><td>-72.655</td><td>0.062</td><td>12.06</td><td>1342206210a</td><td>1.545</td><td>0.587</td><td>0.185</td><td>0.005</td><td>0.004</td><td>0.005</td><td>35.97</td><td>0.24</td><td>0.24</td><td>1.76</td><td>0.02</td><td>0.02</td><td>- 0.35</td><td>0.01</td><td>0.01</td><td>8.2</td><td>True</td></tr>\n",
       "<tr><td>IRAS 23128-5919</td><td>348.94479</td><td>-59.05432</td><td>0.045</td><td>12.06</td><td>1342209299a</td><td>1.565</td><td>0.556</td><td>0.176</td><td>0.008</td><td>0.006</td><td>0.007</td><td>42.25</td><td>0.32</td><td>0.31</td><td>1.72</td><td>0.02</td><td>0.02</td><td>- 0.48</td><td>0.01</td><td>0.01</td><td>7.7</td><td>True</td></tr>\n",
       "<tr><td>IRAS 15250+3609</td><td>231.74752</td><td>35.97709</td><td>0.055</td><td>12.03</td><td>1342234775</td><td>0.966</td><td>0.368</td><td>0.136</td><td>0.004</td><td>0.004</td><td>0.005</td><td>47.67</td><td>1.06</td><td>0.97</td><td>1.45</td><td>0.03</td><td>0.04</td><td>- 0.90</td><td>0.03</td><td>0.03</td><td>7.7</td><td>True</td></tr>\n",
       "<tr><td>IRAS 20551-4250</td><td>314.61159</td><td>-42.65006</td><td>0.043</td><td>12.01</td><td>1342230815</td><td>1.629</td><td>0.556</td><td>0.17</td><td>0.005</td><td>0.004</td><td>0.005</td><td>45.43</td><td>0.21</td><td>0.2</td><td>1.58</td><td>0.01</td><td>0.01</td><td>- 0.58</td><td>0.01</td><td>0.01</td><td>7.6</td><td>True</td></tr>\n",
       "<tr><td>UGC5101</td><td>143.96498</td><td>61.35318</td><td>0.039</td><td>12.01</td><td>1342204962a</td><td>6.071</td><td>2.327</td><td>0.746</td><td>0.039</td><td>0.018</td><td>0.009</td><td>34.47</td><td>0.16</td><td>0.14</td><td>1.51</td><td>0.01</td><td>0.02</td><td>0.17</td><td>0.01</td><td>0.01</td><td>8.4</td><td>True</td></tr>\n",
       "<tr><td>NGC6240</td><td>253.24529</td><td>2.40093</td><td>0.024</td><td>11.93</td><td>1342203586a</td><td>5.166</td><td>2.031</td><td>0.744</td><td>0.029</td><td>0.009</td><td>0.008</td><td>41.36</td><td>0.18</td><td>0.16</td><td>1.41</td><td>0.01</td><td>0.01</td><td>- 0.04</td><td>0.01</td><td>0.01</td><td>7.7</td><td>True</td></tr>\n",
       "<tr><td>Mrk463</td><td>209.01196</td><td>18.37208</td><td>0.05</td><td>11.77</td><td>1342236151</td><td>0.344</td><td>0.134</td><td>0.052</td><td>0.004</td><td>0.004</td><td>0.005</td><td>43.39</td><td>3.84</td><td>4.28</td><td>1.46</td><td>0.15</td><td>0.11</td><td>- 1.26</td><td>0.14</td><td>0.11</td><td>7.2</td><td>True</td></tr>\n",
       "</table>"
      ],
      "text/plain": [
       "<Table length=43>\n",
       "      name          ra       dec       z    ...    A-   DustMass(logMsol) HERUS\n",
       "     str15       float64   float64  float32 ... float32      float32       bool\n",
       "--------------- --------- --------- ------- ... ------- ----------------- -----\n",
       "IRAS 00397-1312   10.5647 -12.93412   0.262 ...    0.05               8.9  True\n",
       "          3C273 187.27792   2.05239   0.158 ...     nan               nan  True\n",
       "IRAS 20100-4156 303.37308 -41.79303    0.13 ...    0.02               8.6  True\n",
       "        Mrk1014  29.95921   0.39462   0.163 ...    0.04               8.4  True\n",
       "IRAS 03521+0028   58.6758   0.61761   0.152 ...    0.04               8.6  True\n",
       "IRAS 03158+4227  49.80167  42.64111   0.134 ...    0.04               8.6  True\n",
       "IRAS 16090-0139 242.91847  -1.78516   0.134 ...    0.02               8.7  True\n",
       "         Mrk231 194.05931  56.87368   0.042 ...    0.02               8.3  True\n",
       "IRAS 00188-0856   5.36051  -8.65722   0.128 ...    0.04               8.6  True\n",
       "IRAS 07598+6508 121.13783  64.99683   0.148 ...    0.04               8.5  True\n",
       "            ...       ...       ...     ... ...     ...               ...   ...\n",
       "         Mrk273 206.17546  55.88685   0.038 ...    0.01               8.1  True\n",
       "IRAS 05189-2524   80.2558  -25.3626   0.043 ...    0.01               7.7  True\n",
       "IRAS 10565+2448 164.82549  24.54291   0.043 ...    0.01               8.2  True\n",
       "IRAS 19254-7245 292.83917   -72.655   0.062 ...    0.01               8.2  True\n",
       "IRAS 23128-5919 348.94479 -59.05432   0.045 ...    0.01               7.7  True\n",
       "IRAS 15250+3609 231.74752  35.97709   0.055 ...    0.03               7.7  True\n",
       "IRAS 20551-4250 314.61159 -42.65006   0.043 ...    0.01               7.6  True\n",
       "        UGC5101 143.96498  61.35318   0.039 ...    0.01               8.4  True\n",
       "        NGC6240 253.24529   2.40093   0.024 ...    0.01               7.7  True\n",
       "         Mrk463 209.01196  18.37208    0.05 ...    0.11               7.2  True"
      ]
     },
     "execution_count": 17,
     "metadata": {},
     "output_type": "execute_result"
    }
   ],
   "source": [
    "HERUS_sample"
   ]
  },
  {
   "cell_type": "markdown",
   "metadata": {},
   "source": [
    "### Set path to custom `astroquery` module\n",
    "This is a temporary hack to \"use a version of ```astroquery``` that does not have a bug in the release date column. \n",
    "To get this set up run the following in terminal:\n",
    "\n",
    "`git clone https://github.com/astropy/astroquery.git`\n",
    "\n",
    "`cd astroquery`\n",
    "\n",
    "`python setup.py build`\n",
    "\n",
    "`python setup.py install`\n",
    "\n",
    "replace `python` with `python3` if necessary"
   ]
  },
  {
   "cell_type": "code",
   "execution_count": 18,
   "metadata": {},
   "outputs": [],
   "source": [
    "import sys\n",
    "sys.path = ['/Users/thbrown/astroquery'] + sys.path"
   ]
  },
  {
   "cell_type": "markdown",
   "metadata": {},
   "source": [
    "### Import the `ALMAxmatch` tool\n",
    "requires adding to the python path for now"
   ]
  },
  {
   "cell_type": "code",
   "execution_count": 19,
   "metadata": {},
   "outputs": [],
   "source": [
    "import sys\n",
    "sys.path = ['/Users/thbrown/ALMA/think_tank_code/tools/archiveDev'] + sys.path\n",
    "from ALMAxmatch import archiveSearch"
   ]
  },
  {
   "cell_type": "markdown",
   "metadata": {},
   "source": [
    "## Run the archive search\n",
    "1. Create list of tuples containing `SkyCoord` objects and search radii ie. (SkyCoord(ra,dec), searchRadius)*\n",
    "2. Define the line rest frequencies (names are optional, output defaults to *line 0*, *line 1*, ...)\n",
    "2. Pass tuple array along with lines of interest to `runQueries`, selecting only science data"
   ]
  },
  {
   "cell_type": "markdown",
   "metadata": {},
   "source": [
    "### 1. `archiveSearch` takes either a tuple ('ra dec', 'radius') or lists of tuples."
   ]
  },
  {
   "cell_type": "code",
   "execution_count": 20,
   "metadata": {},
   "outputs": [],
   "source": [
    "from astropy import units as u\n",
    "from astropy.coordinates import SkyCoord\n",
    "\n",
    "# archive search impact parameter\n",
    "searchradius = '20arcsec'\n",
    "\n",
    "# SkyCoord object\n",
    "herusCoords = [(SkyCoord(ra=ra*u.degree, dec=dec*u.degree), searchradius)\n",
    "                   for ra, dec in zip(HERUS_sample['ra'], HERUS_sample['dec'])]"
   ]
  },
  {
   "cell_type": "markdown",
   "metadata": {},
   "source": [
    "Generate target list in `herusLineQuery`"
   ]
  },
  {
   "cell_type": "code",
   "execution_count": 21,
   "metadata": {},
   "outputs": [],
   "source": [
    "# search using SkyCoord array\n",
    "herusLineQuery = archiveSearch(herusCoords)"
   ]
  },
  {
   "cell_type": "markdown",
   "metadata": {},
   "source": [
    "display the target dictionary"
   ]
  },
  {
   "cell_type": "code",
   "execution_count": 22,
   "metadata": {
    "scrolled": false
   },
   "outputs": [
    {
     "data": {
      "text/plain": [
       "{'coord=(10.5647 deg -12.93412 deg) radius=20arcsec': (<SkyCoord (ICRS): (ra, dec) in deg\n",
       "      (10.5647, -12.93412)>, '20arcsec'),\n",
       " 'coord=(187.27792 deg 2.05239 deg) radius=20arcsec': (<SkyCoord (ICRS): (ra, dec) in deg\n",
       "      (187.27792, 2.05239)>, '20arcsec'),\n",
       " 'coord=(303.37308 deg -41.79303 deg) radius=20arcsec': (<SkyCoord (ICRS): (ra, dec) in deg\n",
       "      (303.37308, -41.79303)>, '20arcsec'),\n",
       " 'coord=(29.95921 deg 0.39462 deg) radius=20arcsec': (<SkyCoord (ICRS): (ra, dec) in deg\n",
       "      (29.95921, 0.39462)>, '20arcsec'),\n",
       " 'coord=(58.6758 deg 0.61761 deg) radius=20arcsec': (<SkyCoord (ICRS): (ra, dec) in deg\n",
       "      (58.6758, 0.61761)>, '20arcsec'),\n",
       " 'coord=(49.80167 deg 42.64111 deg) radius=20arcsec': (<SkyCoord (ICRS): (ra, dec) in deg\n",
       "      (49.80167, 42.64111)>, '20arcsec'),\n",
       " 'coord=(242.91847 deg -1.78516 deg) radius=20arcsec': (<SkyCoord (ICRS): (ra, dec) in deg\n",
       "      (242.91847, -1.78516)>, '20arcsec'),\n",
       " 'coord=(194.05931 deg 56.87368 deg) radius=20arcsec': (<SkyCoord (ICRS): (ra, dec) in deg\n",
       "      (194.05931, 56.87368)>, '20arcsec'),\n",
       " 'coord=(5.36051 deg -8.65722 deg) radius=20arcsec': (<SkyCoord (ICRS): (ra, dec) in deg\n",
       "      (5.36051, -8.65722)>, '20arcsec'),\n",
       " 'coord=(121.13783 deg 64.99683 deg) radius=20arcsec': (<SkyCoord (ICRS): (ra, dec) in deg\n",
       "      (121.13783, 64.99683)>, '20arcsec'),\n",
       " 'coord=(128.33583 deg -25.15936 deg) radius=20arcsec': (<SkyCoord (ICRS): (ra, dec) in deg\n",
       "      (128.33583, -25.15936)>, '20arcsec'),\n",
       " 'coord=(302.84946 deg -2.99742 deg) radius=20arcsec': (<SkyCoord (ICRS): (ra, dec) in deg\n",
       "      (302.84946, -2.99742)>, '20arcsec'),\n",
       " 'coord=(160.12154 deg 10.88842 deg) radius=20arcsec': (<SkyCoord (ICRS): (ra, dec) in deg\n",
       "      (160.12154, 10.88842)>, '20arcsec'),\n",
       " 'coord=(293.08854 deg -3.99896 deg) radius=20arcsec': (<SkyCoord (ICRS): (ra, dec) in deg\n",
       "      (293.08854, -3.99896)>, '20arcsec'),\n",
       " 'coord=(260.84148 deg -0.28359 deg) radius=20arcsec': (<SkyCoord (ICRS): (ra, dec) in deg\n",
       "      (260.84148, -0.28359)>, '20arcsec'),\n",
       " 'coord=(219.41 deg -15.00556 deg) radius=20arcsec': (<SkyCoord (ICRS): (ra, dec) in deg\n",
       "      (219.41, -15.00556)>, '20arcsec'),\n",
       " 'coord=(206.88901 deg 12.29007 deg) radius=20arcsec': (<SkyCoord (ICRS): (ra, dec) in deg\n",
       "      (206.88901, 12.29007)>, '20arcsec'),\n",
       " 'coord=(351.51508 deg -69.17189 deg) radius=20arcsec': (<SkyCoord (ICRS): (ra, dec) in deg\n",
       "      (351.51508, -69.17189)>, '20arcsec'),\n",
       " 'coord=(182.43805 deg -5.02049 deg) radius=20arcsec': (<SkyCoord (ICRS): (ra, dec) in deg\n",
       "      (182.43805, -5.02049)>, '20arcsec'),\n",
       " 'coord=(168.01407 deg -2.90622 deg) radius=20arcsec': (<SkyCoord (ICRS): (ra, dec) in deg\n",
       "      (168.01407, -2.90622)>, '20arcsec'),\n",
       " 'coord=(352.02542 deg -53.97528 deg) radius=20arcsec': (<SkyCoord (ICRS): (ra, dec) in deg\n",
       "      (352.02542, -53.97528)>, '20arcsec'),\n",
       " 'coord=(15.70837 deg -22.36589 deg) radius=20arcsec': (<SkyCoord (ICRS): (ra, dec) in deg\n",
       "      (15.70837, -22.36589)>, '20arcsec'),\n",
       " 'coord=(237.23672 deg -4.99267 deg) radius=20arcsec': (<SkyCoord (ICRS): (ra, dec) in deg\n",
       "      (237.23672, -4.99267)>, '20arcsec'),\n",
       " 'coord=(311.07589 deg -16.67117 deg) radius=20arcsec': (<SkyCoord (ICRS): (ra, dec) in deg\n",
       "      (311.07589, -16.67117)>, '20arcsec'),\n",
       " 'coord=(136.05296 deg -36.45027 deg) radius=20arcsec': (<SkyCoord (ICRS): (ra, dec) in deg\n",
       "      (136.05296, -36.45027)>, '20arcsec'),\n",
       " 'coord=(95.25504 deg -63.28986 deg) radius=20arcsec': (<SkyCoord (ICRS): (ra, dec) in deg\n",
       "      (95.25504, -63.28986)>, '20arcsec'),\n",
       " 'coord=(198.77649 deg -55.15645 deg) radius=20arcsec': (<SkyCoord (ICRS): (ra, dec) in deg\n",
       "      (198.77649, -55.15645)>, '20arcsec'),\n",
       " 'coord=(342.95527 deg -17.87318 deg) radius=20arcsec': (<SkyCoord (ICRS): (ra, dec) in deg\n",
       "      (342.95527, -17.87318)>, '20arcsec'),\n",
       " 'coord=(354.75531 deg 36.35231 deg) radius=20arcsec': (<SkyCoord (ICRS): (ra, dec) in deg\n",
       "      (354.75531, 36.35231)>, '20arcsec'),\n",
       " 'coord=(135.10579 deg 39.06511 deg) radius=20arcsec': (<SkyCoord (ICRS): (ra, dec) in deg\n",
       "      (135.10579, 39.06511)>, '20arcsec'),\n",
       " 'coord=(90.72504 deg -71.05283 deg) radius=20arcsec': (<SkyCoord (ICRS): (ra, dec) in deg\n",
       "      (90.72504, -71.05283)>, '20arcsec'),\n",
       " 'coord=(220.24587 deg -37.07554 deg) radius=20arcsec': (<SkyCoord (ICRS): (ra, dec) in deg\n",
       "      (220.24587, -37.07554)>, '20arcsec'),\n",
       " 'coord=(233.73856 deg 23.50314 deg) radius=20arcsec': (<SkyCoord (ICRS): (ra, dec) in deg\n",
       "      (233.73856, 23.50314)>, '20arcsec'),\n",
       " 'coord=(206.17546 deg 55.88685 deg) radius=20arcsec': (<SkyCoord (ICRS): (ra, dec) in deg\n",
       "      (206.17546, 55.88685)>, '20arcsec'),\n",
       " 'coord=(80.2558 deg -25.3626 deg) radius=20arcsec': (<SkyCoord (ICRS): (ra, dec) in deg\n",
       "      (80.2558, -25.3626)>, '20arcsec'),\n",
       " 'coord=(164.82549 deg 24.54291 deg) radius=20arcsec': (<SkyCoord (ICRS): (ra, dec) in deg\n",
       "      (164.82549, 24.54291)>, '20arcsec'),\n",
       " 'coord=(292.83917 deg -72.655 deg) radius=20arcsec': (<SkyCoord (ICRS): (ra, dec) in deg\n",
       "      (292.83917, -72.655)>, '20arcsec'),\n",
       " 'coord=(348.94479 deg -59.05432 deg) radius=20arcsec': (<SkyCoord (ICRS): (ra, dec) in deg\n",
       "      (348.94479, -59.05432)>, '20arcsec'),\n",
       " 'coord=(231.74752 deg 35.97709 deg) radius=20arcsec': (<SkyCoord (ICRS): (ra, dec) in deg\n",
       "      (231.74752, 35.97709)>, '20arcsec'),\n",
       " 'coord=(314.61159 deg -42.65006 deg) radius=20arcsec': (<SkyCoord (ICRS): (ra, dec) in deg\n",
       "      (314.61159, -42.65006)>, '20arcsec'),\n",
       " 'coord=(143.96498 deg 61.35318 deg) radius=20arcsec': (<SkyCoord (ICRS): (ra, dec) in deg\n",
       "      (143.96498, 61.35318)>, '20arcsec'),\n",
       " 'coord=(253.24529 deg 2.40093 deg) radius=20arcsec': (<SkyCoord (ICRS): (ra, dec) in deg\n",
       "      (253.24529, 2.40093)>, '20arcsec'),\n",
       " 'coord=(209.01196 deg 18.37208 deg) radius=20arcsec': (<SkyCoord (ICRS): (ra, dec) in deg\n",
       "      (209.01196, 18.37208)>, '20arcsec')}"
      ]
     },
     "metadata": {},
     "output_type": "display_data"
    }
   ],
   "source": [
    "display(herusLineQuery.targets)"
   ]
  },
  {
   "cell_type": "markdown",
   "metadata": {},
   "source": [
    "### 2. Define lines of interest\n",
    "\n",
    "Search for the following lines:\n",
    "\n",
    "1. $^{12}$CO ($J=1-0$) @ 115.27120180 GHz rest frequency\n",
    "2. $^{13}$CO ($J=1-0$) @ 109.78217340 GHz rest frequency\n",
    "3. C$^{18}$O ($J=1-0$) @ 110.20135430 GHz rest frequency"
   ]
  },
  {
   "cell_type": "code",
   "execution_count": 23,
   "metadata": {},
   "outputs": [],
   "source": [
    "# rest frame frequencies\n",
    "rf_12CO_10 = 115.27120180 # 12CO J=1-0\n",
    "rf_13CO_10 = 110.20135430 # 13CO J=1-0\n",
    "rf_C18O_10 = 109.78217340 # C18O J=1-0\n",
    "\n",
<<<<<<< HEAD
    "rest_frequencies = [rf_C18O_10, rf_13CO_10, rf_12CO_10] # list of rest frequencies\n",
    "line_names = ['C18O J=1-0', '13CO J=1-0', '12CO J=1-0'] # column names for observed boolean flags "
||||||| merged common ancestors
    "rest_frequencies = [rf_12CO_10, rf_13CO_10, rf_C18O_10]\n",
    "line_names = ['12CO J=1-0', '13CO J=1-0', 'C18O J=1-0'] # column names for observed boolean flags "
=======
    "rest_frequencies = [rf_12CO_10, rf_13CO_10, rf_C18O_10]\n",
    "lineNames = ['12CO J=1-0', '13CO J=1-0', 'C18O J=1-0'] # column names for observed boolean flags "
>>>>>>> origin/master
   ]
  },
  {
   "cell_type": "markdown",
   "metadata": {},
   "source": [
    "Run the query, pulling only science data where lines are observed"
   ]
  },
  {
   "cell_type": "markdown",
   "metadata": {},
   "source": [
    "### 3. Search using `runQueriesWithLines`"
   ]
  },
  {
   "cell_type": "code",
   "execution_count": 24,
   "metadata": {
    "scrolled": false
   },
   "outputs": [
    {
     "name": "stdout",
     "output_type": "stream",
     "text": [
      "12CO J=1-0 observed frequency 99.51421975777384 GHz in range 99.33 - 101.2\n",
      "12CO J=1-0 observed frequency 99.51421975777384 GHz in range 99.33 - 101.2\n",
      "12CO J=1-0 observed frequency 102.04757136040467 GHz in range 101.11 - 102.99\n",
      "12CO J=1-0 observed frequency 99.10601903517293 GHz in range 98.14 - 100.01\n",
      "12CO J=1-0 observed frequency 101.68775190105683 GHz in range 100.69 - 102.68\n",
      "12CO J=1-0 observed frequency 102.1527461406214 GHz in range 101.19 - 103.19\n",
      "12CO J=1-0 observed frequency 104.25461647688732 GHz in range 103.25 - 105.25\n",
      "C18O J=1-0 observed frequency 105.2753362549266 GHz in range 104.34 - 106.22\n",
      "13CO J=1-0 observed frequency 105.67730871395557 GHz in range 104.34 - 106.22\n",
      "12CO J=1-0 observed frequency 110.53902609296037 GHz in range 109.6 - 111.48\n",
      "12CO J=1-0 observed frequency 110.53902609296037 GHz in range 109.6 - 111.47\n",
      "12CO J=1-0 observed frequency 102.76106923172928 GHz in range 102.04 - 103.91\n",
      "12CO J=1-0 observed frequency 104.16794097181432 GHz in range 103.23 - 105.23\n",
      "12CO J=1-0 observed frequency 102.15863075007422 GHz in range 101.22 - 103.1\n",
      "12CO J=1-0 observed frequency 103.12005063359084 GHz in range 102.16 - 104.04\n",
      "12CO J=1-0 observed frequency 104.81182059880413 GHz in range 103.85 - 105.73\n",
      "12CO J=1-0 observed frequency 111.83116338317029 GHz in range 110.86 - 112.74\n",
      "C18O J=1-0 observed frequency 106.5059440549264 GHz in range 104.76 - 106.63\n",
      "C18O J=1-0 observed frequency 106.5059440549264 GHz in range 106.36 - 108.24\n",
      "13CO J=1-0 observed frequency 106.9126153395404 GHz in range 106.36 - 108.24\n",
      "12CO J=1-0 observed frequency 111.83116338317029 GHz in range 110.87 - 112.74\n",
      "C18O J=1-0 observed frequency 106.5059440549264 GHz in range 105.97 - 107.84\n",
      "13CO J=1-0 observed frequency 106.9126153395404 GHz in range 105.97 - 107.84\n",
      "12CO J=1-0 observed frequency 106.78549262829273 GHz in range 105.87 - 107.74\n",
      "12CO J=1-0 observed frequency 106.78549262829273 GHz in range 105.81 - 107.8\n",
      "12CO J=1-0 observed frequency 107.96853406167078 GHz in range 106.92 - 108.91\n",
      "12CO J=1-0 observed frequency 107.96853406167078 GHz in range 106.98 - 108.85\n",
      "12CO J=1-0 observed frequency 113.2189943091523 GHz in range 112.29 - 114.17\n",
      "C18O J=1-0 observed frequency 107.82768871436345 GHz in range 106.56 - 108.44\n",
      "13CO J=1-0 observed frequency 108.23940681212345 GHz in range 106.56 - 108.44\n",
      "13CO J=1-0 observed frequency 108.23940681212345 GHz in range 107.94 - 109.81\n",
      "C18O J=1-0 observed frequency 107.82768871436345 GHz in range 106.56 - 108.44\n",
      "13CO J=1-0 observed frequency 108.23940681212345 GHz in range 106.56 - 108.44\n",
      "13CO J=1-0 observed frequency 108.23940681212345 GHz in range 107.94 - 109.81\n",
      "12CO J=1-0 observed frequency 113.2189943091523 GHz in range 112.13 - 114.0\n",
      "C18O J=1-0 observed frequency 107.82768871436345 GHz in range 106.81 - 108.68\n",
      "13CO J=1-0 observed frequency 108.23940681212345 GHz in range 106.81 - 108.68\n",
      "12CO J=1-0 observed frequency 113.2189943091523 GHz in range 112.29 - 114.17\n",
      "C18O J=1-0 observed frequency 107.82768871436345 GHz in range 106.51 - 108.49\n",
      "13CO J=1-0 observed frequency 108.23940681212345 GHz in range 106.51 - 108.49\n",
      "13CO J=1-0 observed frequency 108.23940681212345 GHz in range 107.88 - 109.87\n",
      "12CO J=1-0 observed frequency 113.2189943091523 GHz in range 112.29 - 114.17\n",
      "12CO J=1-0 observed frequency 113.2189943091523 GHz in range 112.29 - 114.17\n",
      "12CO J=1-0 observed frequency 113.2189943091523 GHz in range 112.29 - 114.17\n",
      "12CO J=1-0 observed frequency 110.56521457216495 GHz in range 109.62 - 111.49\n",
      "12CO J=1-0 observed frequency 110.50829431502254 GHz in range 109.14 - 111.02\n",
      "12CO J=1-0 observed frequency 110.34950359036607 GHz in range 109.37 - 111.25\n",
      "12CO J=1-0 observed frequency 110.34950359036607 GHz in range 109.43 - 111.3\n",
      "12CO J=1-0 observed frequency 110.51931340101017 GHz in range 109.57 - 111.45\n",
      "12CO J=1-0 observed frequency 110.51931340101017 GHz in range 109.52 - 111.52\n",
      "12CO J=1-0 observed frequency 110.51931340101017 GHz in range 109.52 - 111.52\n",
      "12CO J=1-0 observed frequency 110.51931340101017 GHz in range 109.59 - 111.46\n",
      "C18O J=1-0 observed frequency 107.15892296579729 GHz in range 106.64 - 108.52\n",
      "13CO J=1-0 observed frequency 107.5680875175699 GHz in range 106.64 - 108.52\n",
      "12CO J=1-0 observed frequency 112.51679076214273 GHz in range 111.59 - 113.46\n",
      "C18O J=1-0 observed frequency 107.15892296579729 GHz in range 106.94 - 108.8\n",
      "13CO J=1-0 observed frequency 107.5680875175699 GHz in range 106.94 - 108.8\n",
      "12CO J=1-0 observed frequency 112.51679076214273 GHz in range 111.59 - 113.46\n",
      "12CO J=1-0 observed frequency 112.51679076214273 GHz in range 111.54 - 113.53\n"
     ]
    }
   ],
   "source": [
<<<<<<< HEAD
    "herusLineQuery.runTargetQueryWithLines(restFreqs=rest_frequencies\n",
    "                                    , line_names=line_names\n",
||||||| merged common ancestors
    "herusLineQuery.runQueriesWithLines(restFreqs=rest_frequencies\n",
    "                                    , line_names=line_names\n",
=======
    "herusLineQuery.runQueriesWithLines(restFreqs=rest_frequencies\n",
    "                                    , lineNames=lineNames\n",
>>>>>>> origin/master
    "                                    , science=True)"
   ]
  },
  {
   "cell_type": "markdown",
   "metadata": {},
   "source": [
    "**Display the results**"
   ]
  },
  {
   "cell_type": "code",
   "execution_count": 25,
   "metadata": {
    "scrolled": true
   },
   "outputs": [
    {
     "data": {
      "text/html": [
       "<i>Table masked=True length=2</i>\n",
       "<table id=\"table4453981040\" class=\"table-striped table-bordered table-condensed\">\n",
       "<thead><tr><th>Project code</th><th>ALMA source name</th><th>ALMA RA</th><th>ALMA Dec</th><th>Galactic longitude</th><th>Galactic latitude</th><th>Band</th><th>Spatial resolution</th><th>Frequency resolution</th><th>Array</th><th>Mosaic</th><th>Integration</th><th>Release date</th><th>Frequency support</th><th>Velocity resolution</th><th>Pol products</th><th>Observation date</th><th>PI name</th><th>SB name</th><th>Proposal authors</th><th>Line sensitivity (10 km/s)</th><th>Continuum sensitivity</th><th>PWV</th><th>Group ous id</th><th>Member ous id</th><th>Asdm uid</th><th>Project title</th><th>Project type</th><th>Scan intent</th><th>Field of view</th><th>Largest angular scale</th><th>QA2 Status</th><th>COUNT</th><th>Science keyword</th><th>Scientific category</th><th>ASA_PROJECT_CODE</th><th>Frequency ranges</th><th>ALMA sanitized source name</th><th>NED source name</th><th>NED RA</th><th>NED Dec</th><th>NED Redshift</th><th>C18O J=1-0</th><th>13CO J=1-0</th><th>12CO J=1-0</th></tr></thead>\n",
       "<thead><tr><th></th><th></th><th>deg</th><th>deg</th><th>deg</th><th>deg</th><th></th><th></th><th>kHz</th><th></th><th></th><th>s</th><th></th><th>GHz</th><th>m / s</th><th></th><th></th><th></th><th></th><th></th><th></th><th>mJy/beam</th><th>mm</th><th></th><th></th><th></th><th></th><th></th><th></th><th>arcs</th><th>arcs</th><th></th><th></th><th></th><th></th><th></th><th>GHz</th><th></th><th></th><th>degrees</th><th>degrees</th><th></th><th></th><th></th><th></th></tr></thead>\n",
       "<thead><tr><th>bytes64</th><th>bytes256</th><th>float64</th><th>float64</th><th>float64</th><th>float64</th><th>object</th><th>float64</th><th>float64</th><th>object</th><th>object</th><th>float64</th><th>object</th><th>bytes2700</th><th>float64</th><th>bytes64</th><th>object</th><th>bytes256</th><th>bytes128</th><th>bytes512</th><th>float64</th><th>float64</th><th>float32</th><th>bytes64</th><th>bytes64</th><th>bytes32</th><th>bytes256</th><th>bytes16</th><th>bytes256</th><th>float64</th><th>float64</th><th>bytes1</th><th>int64</th><th>bytes200</th><th>bytes200</th><th>bytes64</th><th>object</th><th>str5</th><th>bytes30</th><th>float64</th><th>float64</th><th>float64</th><th>bool</th><th>bool</th><th>bool</th></tr></thead>\n",
       "<tr><td>2016.1.01216.V</td><td>3C273</td><td>187.27785368739794</td><td>2.052443798078459</td><td>289.95076175698233</td><td>64.35997011387919</td><td>[3]</td><td>3.2590125179667355</td><td>15624.786288841999</td><td>12m</td><td></td><td>6096.384</td><td>2018-10-21</td><td>[85.33..87.20GHz,15624.96kHz,843.4uJy/beam@10km/s,33uJy/beam@native, XX XY YY] U [87.33..89.20GHz,15624.96kHz,826.2uJy/beam@10km/s,32.7uJy/beam@native, XX XY YY] U [97.39..99.26GHz,15624.96kHz,776.2uJy/beam@10km/s,32.5uJy/beam@native, XX XY YY] U [99.33..101.20GHz,15624.96kHz,772.6uJy/beam@10km/s,32.6uJy/beam@native, XX XY YY]</td><td>46285.76402485768</td><td>XX XY YX YY</td><td>2017-04-04T00:24:39</td><td>Akiyama, Kazunori</td><td>vexed 4 April 3C273_a_03_TM1</td><td>Fish, Vincent; Asada, Keiichi; Johnson, Michael; Gomez, Jose L.; Pu, Hung-Yi; Nagai, Hiroshi; Nakamura, Masanori; Honma, Mareki; Hada, Kazuhiro; Blackburn, Lindy; Doeleman, Sheperd; Mizuno, Yosuke; Koyama, Shoko; Chael, Andrew; Lonsdale, Colin; Marscher, Alan; Gabuzda, Denise; Bouman, Katherine;</td><td>0.7726293315855453</td><td>0.016358689847191233</td><td>0.68157107</td><td>uid://A001/X11b3/Xa</td><td>uid://A001/X11b3/Xd</td><td>uid://A002/Xbeb207/X79e</td><td>Probing the active collimation region of the relativistic jet in 3C 273</td><td>V</td><td>APPPHASE_ACTIVE TARGET</td><td>67.54820924137793</td><td>20.45384637583945</td><td>Y</td><td>0</td><td>Active Galactic Nuclei (AGN)/Quasars (QSO), Outflows, jets, feedback</td><td>Active galaxies</td><td>2016.1.01216.V</td><td>[array([85.33, 87.2 ]), array([87.33, 89.2 ]), array([97.39, 99.26]), array([ 99.33, 101.2 ])]</td><td>3C273</td><td>3C 273</td><td>187.27792</td><td>2.05239</td><td>0.158339</td><td>False</td><td>False</td><td>True</td></tr>\n",
       "<tr><td>2017.1.01514.V</td><td>3C273</td><td>187.27785120888532</td><td>2.052446005849023</td><td>289.9507551278886</td><td>64.3599717815211</td><td>[3]</td><td>1.715912378406084</td><td>15625.041036234621</td><td>12m7m</td><td></td><td>8934.912</td><td>2020-03-19</td><td>[85.33..87.20GHz,15625.18kHz,735.5uJy/beam@10km/s,28.8uJy/beam@native, XX XY YY] U [87.33..89.20GHz,15625.18kHz,721.8uJy/beam@10km/s,28.6uJy/beam@native, XX XY YY] U [97.39..99.26GHz,15625.18kHz,683.9uJy/beam@10km/s,28.6uJy/beam@native, XX XY YY] U [99.33..101.20GHz,15625.18kHz,681.8uJy/beam@10km/s,28.8uJy/beam@native, XX XY YY]</td><td>46286.518670552214</td><td>XX XY YX YY</td><td>2018-04-13T23:20:54</td><td>Lobanov, Andrei</td><td>104_3C273_a_03_TM1</td><td>Akiyama, Kazunori; Fish, Vincent; Savolainen, Tuomas; Zensus, Anton; Asada, Keiichi; Agudo, Ivan; Azulay, Rebecca; Gomez, Jose L.; Krichbaum, Thomas; Kovalev, Yuri; Kim, Jae-Young; Traianou, Thalia; Marti-Vidal, Ivan; Sokolovsky, Kirill; Vega-Garcia, Laura; Bruni, Gabriele; Jorstad, Svetlana; Ros, Eduardo; Fuentes, Antonio; Marscher, Alan; Gabuzda, Denise; Lu, Rusen ;</td><td>0.6817644078476075</td><td>0.014351717557988386</td><td>2.3015764</td><td>uid://A001/X12cc/X5</td><td>uid://A001/X12d1/X4</td><td>uid://A002/Xcc0af2/X1028</td><td>Magnetic field in the vicinity of central black holes in 3C273 and 3C279</td><td>V</td><td>APPPHASE_ACTIVE TARGET</td><td>67.54710826965697</td><td>13.839208458914388</td><td>Y</td><td>0</td><td>Starbursts, star formation</td><td>Active galaxies</td><td>2017.1.01514.V</td><td>[array([85.33, 87.2 ]), array([87.33, 89.2 ]), array([97.39, 99.26]), array([ 99.33, 101.2 ])]</td><td>3C273</td><td>3C 273</td><td>187.27792</td><td>2.05239</td><td>0.158339</td><td>False</td><td>False</td><td>True</td></tr>\n",
       "</table>"
      ],
      "text/plain": [
       "<Table masked=True length=2>\n",
       " Project code  ALMA source name      ALMA RA       ... 13CO J=1-0 12CO J=1-0\n",
       "                                       deg         ...                      \n",
       "   bytes64         bytes256          float64       ...    bool       bool   \n",
       "-------------- ---------------- ------------------ ... ---------- ----------\n",
       "2016.1.01216.V            3C273 187.27785368739794 ...      False       True\n",
       "2017.1.01514.V            3C273 187.27785120888532 ...      False       True"
      ]
     },
     "metadata": {},
     "output_type": "display_data"
    },
    {
     "data": {
      "text/html": [
       "<i>Table masked=True length=1</i>\n",
       "<table id=\"table4455609232\" class=\"table-striped table-bordered table-condensed\">\n",
       "<thead><tr><th>Project code</th><th>ALMA source name</th><th>ALMA RA</th><th>ALMA Dec</th><th>Galactic longitude</th><th>Galactic latitude</th><th>Band</th><th>Spatial resolution</th><th>Frequency resolution</th><th>Array</th><th>Mosaic</th><th>Integration</th><th>Release date</th><th>Frequency support</th><th>Velocity resolution</th><th>Pol products</th><th>Observation date</th><th>PI name</th><th>SB name</th><th>Proposal authors</th><th>Line sensitivity (10 km/s)</th><th>Continuum sensitivity</th><th>PWV</th><th>Group ous id</th><th>Member ous id</th><th>Asdm uid</th><th>Project title</th><th>Project type</th><th>Scan intent</th><th>Field of view</th><th>Largest angular scale</th><th>QA2 Status</th><th>COUNT</th><th>Science keyword</th><th>Scientific category</th><th>ASA_PROJECT_CODE</th><th>Frequency ranges [2,2]</th><th>ALMA sanitized source name</th><th>NED source name</th><th>NED RA</th><th>NED Dec</th><th>NED Redshift</th><th>C18O J=1-0</th><th>13CO J=1-0</th><th>12CO J=1-0</th></tr></thead>\n",
       "<thead><tr><th></th><th></th><th>deg</th><th>deg</th><th>deg</th><th>deg</th><th></th><th></th><th>kHz</th><th></th><th></th><th>s</th><th></th><th>GHz</th><th>m / s</th><th></th><th></th><th></th><th></th><th></th><th></th><th>mJy/beam</th><th>mm</th><th></th><th></th><th></th><th></th><th></th><th></th><th>arcs</th><th>arcs</th><th></th><th></th><th></th><th></th><th></th><th>GHz</th><th></th><th></th><th>degrees</th><th>degrees</th><th></th><th></th><th></th><th></th></tr></thead>\n",
       "<thead><tr><th>bytes64</th><th>bytes256</th><th>float64</th><th>float64</th><th>float64</th><th>float64</th><th>object</th><th>float64</th><th>float64</th><th>object</th><th>object</th><th>float64</th><th>object</th><th>bytes2700</th><th>float64</th><th>bytes64</th><th>object</th><th>bytes256</th><th>bytes128</th><th>bytes512</th><th>float64</th><th>float64</th><th>float32</th><th>bytes64</th><th>bytes64</th><th>bytes32</th><th>bytes256</th><th>bytes16</th><th>bytes256</th><th>float64</th><th>float64</th><th>bytes1</th><th>int64</th><th>bytes200</th><th>bytes200</th><th>bytes64</th><th>float64</th><th>str14</th><th>bytes30</th><th>float64</th><th>float64</th><th>float64</th><th>bool</th><th>bool</th><th>bool</th></tr></thead>\n",
       "<tr><td>2013.1.00659.S</td><td>IRAS_20100-4156</td><td>303.372954</td><td>-41.793189</td><td>358.763123154025</td><td>-32.43952353691461</td><td>[3]</td><td>1.4766248761805358</td><td>976.4941902735678</td><td>12m</td><td></td><td>12670.56</td><td>2015-09-27</td><td>[99.20..101.19GHz,31247.92kHz,664.6uJy/beam@10km/s,27.2uJy/beam@native, XX YY] U [101.11..102.99GHz,976.50kHz,665.5uJy/beam@10km/s,28.4uJy/beam@native, XX YY]</td><td>2842.375726278533</td><td>XX YY</td><td>2014-06-09T09:25:29</td><td>Spoon, Henrik</td><td>IRAS_201_a_03_TE</td><td>Fischer, Jacqueline; Riechers, Dominik; Rigopoulou, Dimitra; Afonso, Jose; Gonzalez-Alfonso, Eduardo; Pearson, Chris; Farrah, Duncan; Bernard-Salas, Jeronimo;</td><td>0.6646029848565244</td><td>0.019617680035142075</td><td>0.7210153</td><td>uid://A001/X121/X2b1</td><td>uid://A001/X121/X2b2</td><td>uid://A002/X83b318/Xcda</td><td>Detecting in CO(1-0) the Strongest Molecular Outflow found by Herschel in the Southern Sky</td><td>S</td><td>TARGET WVR</td><td>62.31809481412121</td><td>12.646461432597606</td><td>Y</td><td>2</td><td>Merging and interacting galaxies, Outflows, jets, feedback</td><td>Galaxy evolution</td><td>2013.1.00659.S</td><td>99.2 .. 102.99</td><td>IRAS20100-4156</td><td>2MASX J20132950-4147354</td><td>303.37308</td><td>-41.79303</td><td>0.129583</td><td>False</td><td>False</td><td>True</td></tr>\n",
       "</table>"
      ],
      "text/plain": [
       "<Table masked=True length=1>\n",
       " Project code  ALMA source name  ALMA RA   ... C18O J=1-0 13CO J=1-0 12CO J=1-0\n",
       "                                   deg     ...                                 \n",
       "   bytes64         bytes256      float64   ...    bool       bool       bool   \n",
       "-------------- ---------------- ---------- ... ---------- ---------- ----------\n",
       "2013.1.00659.S  IRAS_20100-4156 303.372954 ...      False      False       True"
      ]
     },
     "metadata": {},
     "output_type": "display_data"
    },
    {
     "data": {
      "text/html": [
       "<i>Table masked=True length=1</i>\n",
       "<table id=\"table4455366160\" class=\"table-striped table-bordered table-condensed\">\n",
       "<thead><tr><th>Project code</th><th>ALMA source name</th><th>ALMA RA</th><th>ALMA Dec</th><th>Galactic longitude</th><th>Galactic latitude</th><th>Band</th><th>Spatial resolution</th><th>Frequency resolution</th><th>Array</th><th>Mosaic</th><th>Integration</th><th>Release date</th><th>Frequency support</th><th>Velocity resolution</th><th>Pol products</th><th>Observation date</th><th>PI name</th><th>SB name</th><th>Proposal authors</th><th>Line sensitivity (10 km/s)</th><th>Continuum sensitivity</th><th>PWV</th><th>Group ous id</th><th>Member ous id</th><th>Asdm uid</th><th>Project title</th><th>Project type</th><th>Scan intent</th><th>Field of view</th><th>Largest angular scale</th><th>QA2 Status</th><th>COUNT</th><th>Science keyword</th><th>Scientific category</th><th>ASA_PROJECT_CODE</th><th>Frequency ranges [4,2]</th><th>ALMA sanitized source name</th><th>NED source name</th><th>NED RA</th><th>NED Dec</th><th>NED Redshift</th><th>C18O J=1-0</th><th>13CO J=1-0</th><th>12CO J=1-0</th></tr></thead>\n",
       "<thead><tr><th></th><th></th><th>deg</th><th>deg</th><th>deg</th><th>deg</th><th></th><th></th><th>kHz</th><th></th><th></th><th>s</th><th></th><th>GHz</th><th>m / s</th><th></th><th></th><th></th><th></th><th></th><th></th><th>mJy/beam</th><th>mm</th><th></th><th></th><th></th><th></th><th></th><th></th><th>arcs</th><th>arcs</th><th></th><th></th><th></th><th></th><th></th><th>GHz</th><th></th><th></th><th>degrees</th><th>degrees</th><th></th><th></th><th></th><th></th></tr></thead>\n",
       "<thead><tr><th>bytes64</th><th>bytes256</th><th>float64</th><th>float64</th><th>float64</th><th>float64</th><th>object</th><th>float64</th><th>float64</th><th>object</th><th>object</th><th>float64</th><th>object</th><th>bytes2700</th><th>float64</th><th>bytes64</th><th>object</th><th>bytes256</th><th>bytes128</th><th>bytes512</th><th>float64</th><th>float64</th><th>float32</th><th>bytes64</th><th>bytes64</th><th>bytes32</th><th>bytes256</th><th>bytes16</th><th>bytes256</th><th>float64</th><th>float64</th><th>bytes1</th><th>int64</th><th>bytes200</th><th>bytes200</th><th>bytes64</th><th>float64</th><th>str7</th><th>bytes30</th><th>float64</th><th>float64</th><th>float64</th><th>bool</th><th>bool</th><th>bool</th></tr></thead>\n",
       "<tr><td>2013.1.00535.S</td><td>Mrk1014</td><td>29.9593917</td><td>0.3947228</td><td>156.568111665194</td><td>-57.938940388216686</td><td>[3]</td><td>0.7609453935160262</td><td>976.5154078423558</td><td>12m</td><td></td><td>120.96</td><td>2016-11-01</td><td>[84.52..86.51GHz,31248.49kHz,3.5mJy/beam@10km/s,132.5uJy/beam@native, XX YY] U [85.82..87.80GHz,31248.49kHz,3.5mJy/beam@10km/s,131.8uJy/beam@native, XX YY] U [96.57..98.55GHz,31248.49kHz,3.2mJy/beam@10km/s,130.4uJy/beam@native, XX YY] U [98.14..100.01GHz,976.52kHz,3.2mJy/beam@10km/s,135.2uJy/beam@native, XX YY]</td><td>2926.979563309536</td><td>XX YY</td><td>2015-08-30T04:28:17</td><td>Rangwala, Naseem</td><td>Mrk1014_a_03_TE</td><td>Maloney, Philip; Kamenetzky, Julia; Spinoglio, Luigi; Schirm, Maximilien; Wilson, Christine; Glenn, Jason; Pereira Santaella, Miguel;</td><td>3.2192805648408913</td><td>0.06621709972842167</td><td>1.7364967</td><td>uid://A001/X121/X28b</td><td>uid://A001/X121/X28c</td><td>uid://A002/Xa916fc/X6156</td><td>Probing the AGN activity and molecular interstellar medium in ultra-luminous infrared galaxies using CH</td><td>S</td><td>TARGET</td><td>68.27856664345201</td><td>4.076325965713067</td><td>Y</td><td>1</td><td>Active Galactic Nuclei (AGN)/Quasars (QSO), Luminous and Ultra-Luminous Infra-Red Galaxies (LIRG &amp; ULIRG)</td><td>Active galaxies</td><td>2013.1.00535.S</td><td>84.52 .. 100.01</td><td>MRK1014</td><td>MRK 1014</td><td>29.95921</td><td>0.39462</td><td>0.16311</td><td>False</td><td>False</td><td>True</td></tr>\n",
       "</table>"
      ],
      "text/plain": [
       "<Table masked=True length=1>\n",
       " Project code  ALMA source name  ALMA RA   ... C18O J=1-0 13CO J=1-0 12CO J=1-0\n",
       "                                   deg     ...                                 \n",
       "   bytes64         bytes256      float64   ...    bool       bool       bool   \n",
       "-------------- ---------------- ---------- ... ---------- ---------- ----------\n",
       "2013.1.00535.S          Mrk1014 29.9593917 ...      False      False       True"
      ]
     },
     "metadata": {},
     "output_type": "display_data"
    },
    {
     "data": {
      "text/html": [
       "<i>Table masked=True length=1</i>\n",
       "<table id=\"table4452963272\" class=\"table-striped table-bordered table-condensed\">\n",
       "<thead><tr><th>Project code</th><th>ALMA source name</th><th>ALMA RA</th><th>ALMA Dec</th><th>Galactic longitude</th><th>Galactic latitude</th><th>Band</th><th>Spatial resolution</th><th>Frequency resolution</th><th>Array</th><th>Mosaic</th><th>Integration</th><th>Release date</th><th>Frequency support</th><th>Velocity resolution</th><th>Pol products</th><th>Observation date</th><th>PI name</th><th>SB name</th><th>Proposal authors</th><th>Line sensitivity (10 km/s)</th><th>Continuum sensitivity</th><th>PWV</th><th>Group ous id</th><th>Member ous id</th><th>Asdm uid</th><th>Project title</th><th>Project type</th><th>Scan intent</th><th>Field of view</th><th>Largest angular scale</th><th>QA2 Status</th><th>COUNT</th><th>Science keyword</th><th>Scientific category</th><th>ASA_PROJECT_CODE</th><th>Frequency ranges [2,2]</th><th>ALMA sanitized source name</th><th>NED source name</th><th>NED RA</th><th>NED Dec</th><th>NED Redshift</th><th>C18O J=1-0</th><th>13CO J=1-0</th><th>12CO J=1-0</th></tr></thead>\n",
       "<thead><tr><th></th><th></th><th>deg</th><th>deg</th><th>deg</th><th>deg</th><th></th><th></th><th>kHz</th><th></th><th></th><th>s</th><th></th><th>GHz</th><th>m / s</th><th></th><th></th><th></th><th></th><th></th><th></th><th>mJy/beam</th><th>mm</th><th></th><th></th><th></th><th></th><th></th><th></th><th>arcs</th><th>arcs</th><th></th><th></th><th></th><th></th><th></th><th>GHz</th><th></th><th></th><th>degrees</th><th>degrees</th><th></th><th></th><th></th><th></th></tr></thead>\n",
       "<thead><tr><th>bytes64</th><th>bytes256</th><th>float64</th><th>float64</th><th>float64</th><th>float64</th><th>object</th><th>float64</th><th>float64</th><th>object</th><th>object</th><th>float64</th><th>object</th><th>bytes2700</th><th>float64</th><th>bytes64</th><th>object</th><th>bytes256</th><th>bytes128</th><th>bytes512</th><th>float64</th><th>float64</th><th>float32</th><th>bytes64</th><th>bytes64</th><th>bytes32</th><th>bytes256</th><th>bytes16</th><th>bytes256</th><th>float64</th><th>float64</th><th>bytes1</th><th>int64</th><th>bytes200</th><th>bytes200</th><th>bytes64</th><th>float64</th><th>str14</th><th>bytes30</th><th>float64</th><th>float64</th><th>float64</th><th>bool</th><th>bool</th><th>bool</th></tr></thead>\n",
       "<tr><td>2018.1.00503.S</td><td>IRAS_16090-0139</td><td>242.9184583333361</td><td>-1.785066666670016</td><td>10.247310138119815</td><td>33.84096830965373</td><td>[3]</td><td>11.260375954215514</td><td>15625.329118691894</td><td>7m</td><td></td><td>544.32</td><td>2019-10-23</td><td>[99.00..100.98GHz,31250.66kHz,15.5mJy/beam@10km/s,631.2uJy/beam@native, XX YY] U [100.69..102.68GHz,15625.33kHz,16mJy/beam@10km/s,657.4uJy/beam@native, XX YY]</td><td>45622.41062585483</td><td>XX YY</td><td>2018-10-04T19:45:00</td><td>Gowardhan, Avani</td><td>IRAS_160_a_03_7M</td><td>Spoon, Henrik; Fischer, Jacqueline; Riechers, Dominik; Feruglio, Chiara; Gonzalez-Alfonso, Eduardo; Farrah, Duncan;</td><td>15.45560190459261</td><td>0.45528981515242245</td><td>5.186</td><td>uid://A001/X133f/Xc4</td><td>uid://A001/X133f/Xc5</td><td>uid://A002/Xd2d9a0/X8b8e</td><td>The galaxy-wide impact of powerful feedback in ULIRGs</td><td>S</td><td>TARGET</td><td>62.476894396914744</td><td>41.54379966698691</td><td>Y</td><td>0</td><td>Active Galactic Nuclei (AGN)/Quasars (QSO)</td><td>Active galaxies</td><td>2018.1.00503.S</td><td>99.0 .. 102.68</td><td>IRAS16090-0139</td><td>2MASX J16114042-0147062</td><td>242.91847</td><td>-1.78516</td><td>0.13358</td><td>False</td><td>False</td><td>True</td></tr>\n",
       "</table>"
      ],
      "text/plain": [
       "<Table masked=True length=1>\n",
       " Project code  ALMA source name      ALMA RA      ... 13CO J=1-0 12CO J=1-0\n",
       "                                       deg        ...                      \n",
       "   bytes64         bytes256          float64      ...    bool       bool   \n",
       "-------------- ---------------- ----------------- ... ---------- ----------\n",
       "2018.1.00503.S  IRAS_16090-0139 242.9184583333361 ...      False       True"
      ]
     },
     "metadata": {},
     "output_type": "display_data"
    },
    {
     "data": {
      "text/html": [
       "<i>Table masked=True length=1</i>\n",
       "<table id=\"table4454243016\" class=\"table-striped table-bordered table-condensed\">\n",
       "<thead><tr><th>Project code</th><th>ALMA source name</th><th>ALMA RA</th><th>ALMA Dec</th><th>Galactic longitude</th><th>Galactic latitude</th><th>Band</th><th>Spatial resolution</th><th>Frequency resolution</th><th>Array</th><th>Mosaic</th><th>Integration</th><th>Release date</th><th>Frequency support</th><th>Velocity resolution</th><th>Pol products</th><th>Observation date</th><th>PI name</th><th>SB name</th><th>Proposal authors</th><th>Line sensitivity (10 km/s)</th><th>Continuum sensitivity</th><th>PWV</th><th>Group ous id</th><th>Member ous id</th><th>Asdm uid</th><th>Project title</th><th>Project type</th><th>Scan intent</th><th>Field of view</th><th>Largest angular scale</th><th>QA2 Status</th><th>COUNT</th><th>Science keyword</th><th>Scientific category</th><th>ASA_PROJECT_CODE</th><th>Frequency ranges [2,2]</th><th>ALMA sanitized source name</th><th>NED source name</th><th>NED RA</th><th>NED Dec</th><th>NED Redshift</th><th>C18O J=1-0</th><th>13CO J=1-0</th><th>12CO J=1-0</th></tr></thead>\n",
       "<thead><tr><th></th><th></th><th>deg</th><th>deg</th><th>deg</th><th>deg</th><th></th><th></th><th>kHz</th><th></th><th></th><th>s</th><th></th><th>GHz</th><th>m / s</th><th></th><th></th><th></th><th></th><th></th><th></th><th>mJy/beam</th><th>mm</th><th></th><th></th><th></th><th></th><th></th><th></th><th>arcs</th><th>arcs</th><th></th><th></th><th></th><th></th><th></th><th>GHz</th><th></th><th></th><th>degrees</th><th>degrees</th><th></th><th></th><th></th><th></th></tr></thead>\n",
       "<thead><tr><th>bytes64</th><th>bytes256</th><th>float64</th><th>float64</th><th>float64</th><th>float64</th><th>object</th><th>float64</th><th>float64</th><th>object</th><th>object</th><th>float64</th><th>object</th><th>bytes2700</th><th>float64</th><th>bytes64</th><th>object</th><th>bytes256</th><th>bytes128</th><th>bytes512</th><th>float64</th><th>float64</th><th>float32</th><th>bytes64</th><th>bytes64</th><th>bytes32</th><th>bytes256</th><th>bytes16</th><th>bytes256</th><th>float64</th><th>float64</th><th>bytes1</th><th>int64</th><th>bytes200</th><th>bytes200</th><th>bytes64</th><th>float64</th><th>str14</th><th>bytes30</th><th>float64</th><th>float64</th><th>float64</th><th>bool</th><th>bool</th><th>bool</th></tr></thead>\n",
       "<tr><td>2018.1.00503.S</td><td>IRAS_00188-0856</td><td>5.360541666619002</td><td>-8.65726388889439</td><td>100.52817663643293</td><td>-70.21321062743135</td><td>[3]</td><td>11.848804160649292</td><td>7812.714009633086</td><td>7m</td><td></td><td>2328.48</td><td>2019-10-30</td><td>[99.50..101.48GHz,31250.86kHz,7.4mJy/beam@10km/s,303.2uJy/beam@native, XX YY] U [101.19..103.19GHz,7812.71kHz,7.4mJy/beam@10km/s,306.9uJy/beam@native, XX YY]</td><td>22698.52547069554</td><td>XX YY</td><td>2018-10-05T01:41:23</td><td>Gowardhan, Avani</td><td>IRAS_001_a_03_7M</td><td>Spoon, Henrik; Fischer, Jacqueline; Riechers, Dominik; Feruglio, Chiara; Gonzalez-Alfonso, Eduardo; Farrah, Duncan;</td><td>7.4072406087182445</td><td>0.21570561577677</td><td>5.186</td><td>uid://A001/X133f/X98</td><td>uid://A001/X133f/X99</td><td>uid://A002/Xd2d9a0/Xa32e</td><td>The galaxy-wide impact of powerful feedback in ULIRGs</td><td>S</td><td>TARGET</td><td>62.16507519970266</td><td>43.71473460076572</td><td>Y</td><td>0</td><td>Active Galactic Nuclei (AGN)/Quasars (QSO)</td><td>Active galaxies</td><td>2018.1.00503.S</td><td>99.5 .. 103.19</td><td>IRAS00188-0856</td><td>2MASX J00212652-0839261</td><td>5.36051</td><td>-8.65722</td><td>0.12842</td><td>False</td><td>False</td><td>True</td></tr>\n",
       "</table>"
      ],
      "text/plain": [
       "<Table masked=True length=1>\n",
       " Project code  ALMA source name      ALMA RA      ... 13CO J=1-0 12CO J=1-0\n",
       "                                       deg        ...                      \n",
       "   bytes64         bytes256          float64      ...    bool       bool   \n",
       "-------------- ---------------- ----------------- ... ---------- ----------\n",
       "2018.1.00503.S  IRAS_00188-0856 5.360541666619002 ...      False       True"
      ]
     },
     "metadata": {},
     "output_type": "display_data"
    },
    {
     "data": {
      "text/html": [
       "<i>Table masked=True length=1</i>\n",
       "<table id=\"table4455041008\" class=\"table-striped table-bordered table-condensed\">\n",
       "<thead><tr><th>Project code</th><th>ALMA source name</th><th>ALMA RA</th><th>ALMA Dec</th><th>Galactic longitude</th><th>Galactic latitude</th><th>Band</th><th>Spatial resolution</th><th>Frequency resolution</th><th>Array</th><th>Mosaic</th><th>Integration</th><th>Release date</th><th>Frequency support</th><th>Velocity resolution</th><th>Pol products</th><th>Observation date</th><th>PI name</th><th>SB name</th><th>Proposal authors</th><th>Line sensitivity (10 km/s)</th><th>Continuum sensitivity</th><th>PWV</th><th>Group ous id</th><th>Member ous id</th><th>Asdm uid</th><th>Project title</th><th>Project type</th><th>Scan intent</th><th>Field of view</th><th>Largest angular scale</th><th>QA2 Status</th><th>COUNT</th><th>Science keyword</th><th>Scientific category</th><th>ASA_PROJECT_CODE</th><th>Frequency ranges [2,2]</th><th>ALMA sanitized source name</th><th>NED source name</th><th>NED RA</th><th>NED Dec</th><th>NED Redshift</th><th>C18O J=1-0</th><th>13CO J=1-0</th><th>12CO J=1-0</th></tr></thead>\n",
       "<thead><tr><th></th><th></th><th>deg</th><th>deg</th><th>deg</th><th>deg</th><th></th><th></th><th>kHz</th><th></th><th></th><th>s</th><th></th><th>GHz</th><th>m / s</th><th></th><th></th><th></th><th></th><th></th><th></th><th>mJy/beam</th><th>mm</th><th></th><th></th><th></th><th></th><th></th><th></th><th>arcs</th><th>arcs</th><th></th><th></th><th></th><th></th><th></th><th>GHz</th><th></th><th></th><th>degrees</th><th>degrees</th><th></th><th></th><th></th><th></th></tr></thead>\n",
       "<thead><tr><th>bytes64</th><th>bytes256</th><th>float64</th><th>float64</th><th>float64</th><th>float64</th><th>object</th><th>float64</th><th>float64</th><th>object</th><th>object</th><th>float64</th><th>object</th><th>bytes2700</th><th>float64</th><th>bytes64</th><th>object</th><th>bytes256</th><th>bytes128</th><th>bytes512</th><th>float64</th><th>float64</th><th>float32</th><th>bytes64</th><th>bytes64</th><th>bytes32</th><th>bytes256</th><th>bytes16</th><th>bytes256</th><th>float64</th><th>float64</th><th>bytes1</th><th>int64</th><th>bytes200</th><th>bytes200</th><th>bytes64</th><th>float64</th><th>str14</th><th>bytes30</th><th>float64</th><th>float64</th><th>float64</th><th>bool</th><th>bool</th><th>bool</th></tr></thead>\n",
       "<tr><td>2018.1.00503.S</td><td>IRAS_20087-0308</td><td>302.8492656019723</td><td>-2.9975144165397456</td><td>39.564591535209615</td><td>-19.127595898097724</td><td>[3]</td><td>12.171143414089673</td><td>3906.412697875495</td><td>7m</td><td></td><td>302.4</td><td>2019-10-25</td><td>[101.52..103.50GHz,31251.30kHz,20.8mJy/beam@10km/s,859uJy/beam@native, XX YY] U [103.25..105.25GHz,3906.41kHz,20.9mJy/beam@10km/s,870.7uJy/beam@native, XX YY]</td><td>11127.557543744286</td><td>XX YY</td><td>2018-10-05T01:08:30</td><td>Gowardhan, Avani</td><td>IRAS_200_a_03_7M</td><td>Spoon, Henrik; Fischer, Jacqueline; Riechers, Dominik; Feruglio, Chiara; Gonzalez-Alfonso, Eduardo; Farrah, Duncan;</td><td>20.773647591433495</td><td>0.6114724198210246</td><td>5.186</td><td>uid://A001/X133f/Xac</td><td>uid://A001/X133f/Xad</td><td>uid://A002/Xd2d9a0/Xa06e</td><td>The galaxy-wide impact of powerful feedback in ULIRGs</td><td>S</td><td>TARGET</td><td>60.93764373630389</td><td>44.903966418973354</td><td>Y</td><td>0</td><td>Active Galactic Nuclei (AGN)/Quasars (QSO)</td><td>Active galaxies</td><td>2018.1.00503.S</td><td>101.52 .. 105.25</td><td>IRAS20087-0308</td><td>2MASX J20112386-0259503</td><td>302.84946</td><td>-2.99742</td><td>0.10567</td><td>False</td><td>False</td><td>True</td></tr>\n",
       "</table>"
      ],
      "text/plain": [
       "<Table masked=True length=1>\n",
       " Project code  ALMA source name      ALMA RA      ... 13CO J=1-0 12CO J=1-0\n",
       "                                       deg        ...                      \n",
       "   bytes64         bytes256          float64      ...    bool       bool   \n",
       "-------------- ---------------- ----------------- ... ---------- ----------\n",
       "2018.1.00503.S  IRAS_20087-0308 302.8492656019723 ...      False       True"
      ]
     },
     "metadata": {},
     "output_type": "display_data"
    },
    {
     "data": {
      "text/html": [
       "<i>Table masked=True length=3</i>\n",
       "<table id=\"table4452965904\" class=\"table-striped table-bordered table-condensed\">\n",
       "<thead><tr><th>Project code</th><th>ALMA source name</th><th>ALMA RA</th><th>ALMA Dec</th><th>Galactic longitude</th><th>Galactic latitude</th><th>Band</th><th>Spatial resolution</th><th>Frequency resolution</th><th>Array</th><th>Mosaic</th><th>Integration</th><th>Release date</th><th>Frequency support</th><th>Velocity resolution</th><th>Pol products</th><th>Observation date</th><th>PI name</th><th>SB name</th><th>Proposal authors</th><th>Line sensitivity (10 km/s)</th><th>Continuum sensitivity</th><th>PWV</th><th>Group ous id</th><th>Member ous id</th><th>Asdm uid</th><th>Project title</th><th>Project type</th><th>Scan intent</th><th>Field of view</th><th>Largest angular scale</th><th>QA2 Status</th><th>COUNT</th><th>Science keyword</th><th>Scientific category</th><th>ASA_PROJECT_CODE</th><th>Frequency ranges [4,2]</th><th>ALMA sanitized source name</th><th>NED source name</th><th>NED RA</th><th>NED Dec</th><th>NED Redshift</th><th>C18O J=1-0</th><th>13CO J=1-0</th><th>12CO J=1-0</th></tr></thead>\n",
       "<thead><tr><th></th><th></th><th>deg</th><th>deg</th><th>deg</th><th>deg</th><th></th><th></th><th>kHz</th><th></th><th></th><th>s</th><th></th><th>GHz</th><th>m / s</th><th></th><th></th><th></th><th></th><th></th><th></th><th>mJy/beam</th><th>mm</th><th></th><th></th><th></th><th></th><th></th><th></th><th>arcs</th><th>arcs</th><th></th><th></th><th></th><th></th><th></th><th>GHz</th><th></th><th></th><th>degrees</th><th>degrees</th><th></th><th></th><th></th><th></th></tr></thead>\n",
       "<thead><tr><th>bytes64</th><th>bytes256</th><th>float64</th><th>float64</th><th>float64</th><th>float64</th><th>object</th><th>float64</th><th>float64</th><th>object</th><th>object</th><th>float64</th><th>object</th><th>bytes2700</th><th>float64</th><th>bytes64</th><th>object</th><th>bytes256</th><th>bytes128</th><th>bytes512</th><th>float64</th><th>float64</th><th>float32</th><th>bytes64</th><th>bytes64</th><th>bytes32</th><th>bytes256</th><th>bytes16</th><th>bytes256</th><th>float64</th><th>float64</th><th>bytes1</th><th>int64</th><th>bytes200</th><th>bytes200</th><th>bytes64</th><th>float64</th><th>str15</th><th>bytes30</th><th>float64</th><th>float64</th><th>float64</th><th>bool</th><th>bool</th><th>bool</th></tr></thead>\n",
       "<tr><td>2017.1.01306.S</td><td>IRAS17208-0014</td><td>260.8414291666761</td><td>-0.2836000000000146</td><td>22.221058227478323</td><td>19.353414843772196</td><td>[3]</td><td>0.3991153724632779</td><td>3905.8156169585013</td><td>12m</td><td></td><td>3568.32</td><td>2019-02-25</td><td>[92.48..94.35GHz,3905.83kHz,720.5uJy/beam@10km/s,29.4uJy/beam@native, XX YY] U [94.30..96.18GHz,3905.83kHz,714.7uJy/beam@10km/s,29.4uJy/beam@native, XX YY] U [104.34..106.22GHz,3905.83kHz,710.6uJy/beam@10km/s,30.8uJy/beam@native, XX YY] U [106.22..108.09GHz,3905.83kHz,719.4uJy/beam@10km/s,31.4uJy/beam@native, XX YY]</td><td>10831.671076503468</td><td>XX YY</td><td>2018-01-11T14:36:50</td><td>Sliwa, Kazimierz</td><td>IRAS1720_a_03_TM1</td><td></td><td>0.7105586564431904</td><td>0.015099803536581618</td><td>4.487539</td><td>uid://A001/X1284/X730</td><td>uid://A001/X1284/X731</td><td>uid://A002/Xc9020b/X7bcf</td><td>Tracing the Enrichment of the ISM in Extreme Starbursts</td><td>S</td><td>TARGET</td><td>62.82056617901485</td><td>4.291229220110475</td><td>Y</td><td>0</td><td>Luminous and Ultra-Luminous Infra-Red Galaxies (LIRG &amp; ULIRG)</td><td>Galaxy evolution</td><td>2017.1.01306.S</td><td>92.48 .. 108.09</td><td>IRAS17208-0014</td><td>2MASX J17232194-0017009</td><td>260.84148</td><td>-0.28359</td><td>0.04281</td><td>True</td><td>True</td><td>False</td></tr>\n",
       "<tr><td>2016.1.00140.S</td><td>IRASf17207-0014</td><td>260.84142916662347</td><td>-0.2836000000000549</td><td>22.221058227451238</td><td>19.353414843818218</td><td>[3]</td><td>0.35008472154933007</td><td>3906.351323620382</td><td>12m</td><td></td><td>151.2</td><td>2017-12-30</td><td>[97.50..99.49GHz,31250.81kHz,2.4mJy/beam@10km/s,95.8uJy/beam@native, XX YY] U [99.50..101.49GHz,31250.81kHz,2.4mJy/beam@10km/s,96.4uJy/beam@native, XX YY] U [109.60..111.48GHz,3906.35kHz,2.5mJy/beam@10km/s,112.6uJy/beam@native, XX YY] U [111.50..113.49GHz,31250.81kHz,2.8mJy/beam@10km/s,119.5uJy/beam@native, XX YY]</td><td>10505.476011329818</td><td>XX YY</td><td>2016-10-06T18:59:48</td><td>Iono, Daisuke</td><td>IRASf172_a_03_TM1</td><td>Yun, Min; Ando, Misaki; Michiyama, Tomonari; Saito, Toshiki; Nakanishi, Kouichiro; Ueda, Junko; Bouché, Nicolas; Motohara, Kentaro; Yamashita, Takuji; Inami, Hanae;</td><td>2.354359780271566</td><td>0.05230540863441503</td><td>0.95614845</td><td>uid://A001/X879/X783</td><td>uid://A001/X879/X784</td><td>uid://A002/Xb91513/X7a22</td><td>Molecular Gas in Local Merging ULIRGs</td><td>S</td><td>TARGET</td><td>59.71902479241174</td><td>1.6585007624704422</td><td>Y</td><td>1</td><td>Luminous and Ultra-Luminous Infra-Red Galaxies (LIRG &amp; ULIRG)</td><td>Galaxy evolution</td><td>2016.1.00140.S</td><td>97.5 .. 113.49</td><td>IRASF17207-0014</td><td>2MASX J17232194-0017009</td><td>260.84148</td><td>-0.28359</td><td>0.04281</td><td>False</td><td>False</td><td>True</td></tr>\n",
       "<tr><td>2016.1.00177.S</td><td>IRAS_F17207-0014</td><td>260.8415999999851</td><td>-0.283799999999998</td><td>22.220960676499203</td><td>19.353168445343538</td><td>[3]</td><td>1.852152329162209</td><td>3905.8732564140055</td><td>12m</td><td></td><td>1905.12</td><td>2018-03-30</td><td>[95.66..97.53GHz,3905.87kHz,805.2uJy/beam@10km/s,33.4uJy/beam@native, XX YY] U [97.66..99.53GHz,3905.87kHz,802uJy/beam@10km/s,33.6uJy/beam@native, XX YY] U [107.89..109.77GHz,3905.87kHz,844.5uJy/beam@10km/s,37.2uJy/beam@native, XX YY] U [109.60..111.47GHz,3905.87kHz,882.1uJy/beam@10km/s,39.1uJy/beam@native, XX YY]</td><td>10503.694943066204</td><td>XX YY</td><td>2017-01-05T14:17:16</td><td>Lutz, Dieter</td><td>IRAS_F17_a_03_TM1</td><td>Contursi, Alessandra; Gracia-Carpio, Javier; Genzel, Reinhard; Davies, Richard; Tacconi, Linda; Sturm, Eckhard; Janssen, Annemieke; Veilleux, Sylvain;</td><td>0.8020071225131031</td><td>0.01778386900493336</td><td>6.1821775</td><td>uid://A001/X87a/X28d</td><td>uid://A001/X87a/X28e</td><td>uid://A002/Xbc8613/X266c</td><td>Identifying molecular outflows in our neighborhood</td><td>S</td><td>TARGET</td><td>60.83215910789986</td><td>9.169622210249454</td><td>Y</td><td>0</td><td>Outflows, jets, feedback, Luminous and Ultra-Luminous Infra-Red Galaxies (LIRG &amp; ULIRG)</td><td>Active galaxies</td><td>2016.1.00177.S</td><td>95.66 .. 111.47</td><td>IRASF17207-0014</td><td>2MASX J17232194-0017009</td><td>260.84148</td><td>-0.28359</td><td>0.04281</td><td>False</td><td>False</td><td>True</td></tr>\n",
       "</table>"
      ],
      "text/plain": [
       "<Table masked=True length=3>\n",
       " Project code  ALMA source name      ALMA RA       ... 13CO J=1-0 12CO J=1-0\n",
       "                                       deg         ...                      \n",
       "   bytes64         bytes256          float64       ...    bool       bool   \n",
       "-------------- ---------------- ------------------ ... ---------- ----------\n",
       "2017.1.01306.S   IRAS17208-0014  260.8414291666761 ...       True      False\n",
       "2016.1.00140.S  IRASf17207-0014 260.84142916662347 ...      False       True\n",
       "2016.1.00177.S IRAS_F17207-0014  260.8415999999851 ...      False       True"
      ]
     },
     "metadata": {},
     "output_type": "display_data"
    },
    {
     "data": {
      "text/html": [
       "<i>Table masked=True length=1</i>\n",
       "<table id=\"table4458425536\" class=\"table-striped table-bordered table-condensed\">\n",
       "<thead><tr><th>Project code</th><th>ALMA source name</th><th>ALMA RA</th><th>ALMA Dec</th><th>Galactic longitude</th><th>Galactic latitude</th><th>Band</th><th>Spatial resolution</th><th>Frequency resolution</th><th>Array</th><th>Mosaic</th><th>Integration</th><th>Release date</th><th>Frequency support</th><th>Velocity resolution</th><th>Pol products</th><th>Observation date</th><th>PI name</th><th>SB name</th><th>Proposal authors</th><th>Line sensitivity (10 km/s)</th><th>Continuum sensitivity</th><th>PWV</th><th>Group ous id</th><th>Member ous id</th><th>Asdm uid</th><th>Project title</th><th>Project type</th><th>Scan intent</th><th>Field of view</th><th>Largest angular scale</th><th>QA2 Status</th><th>COUNT</th><th>Science keyword</th><th>Scientific category</th><th>ASA_PROJECT_CODE</th><th>Frequency ranges</th><th>ALMA sanitized source name</th><th>NED source name</th><th>NED RA</th><th>NED Dec</th><th>NED Redshift</th><th>C18O J=1-0</th><th>13CO J=1-0</th><th>12CO J=1-0</th></tr></thead>\n",
       "<thead><tr><th></th><th></th><th>deg</th><th>deg</th><th>deg</th><th>deg</th><th></th><th></th><th>kHz</th><th></th><th></th><th>s</th><th></th><th>GHz</th><th>m / s</th><th></th><th></th><th></th><th></th><th></th><th></th><th>mJy/beam</th><th>mm</th><th></th><th></th><th></th><th></th><th></th><th></th><th>arcs</th><th>arcs</th><th></th><th></th><th></th><th></th><th></th><th>GHz</th><th></th><th></th><th>degrees</th><th>degrees</th><th></th><th></th><th></th><th></th></tr></thead>\n",
       "<thead><tr><th>bytes64</th><th>bytes256</th><th>float64</th><th>float64</th><th>float64</th><th>float64</th><th>object</th><th>float64</th><th>float64</th><th>object</th><th>object</th><th>float64</th><th>object</th><th>bytes2700</th><th>float64</th><th>bytes64</th><th>object</th><th>bytes256</th><th>bytes128</th><th>bytes512</th><th>float64</th><th>float64</th><th>float32</th><th>bytes64</th><th>bytes64</th><th>bytes32</th><th>bytes256</th><th>bytes16</th><th>bytes256</th><th>float64</th><th>float64</th><th>bytes1</th><th>int64</th><th>bytes200</th><th>bytes200</th><th>bytes64</th><th>object</th><th>str7</th><th>bytes30</th><th>float64</th><th>float64</th><th>float64</th><th>bool</th><th>bool</th><th>bool</th></tr></thead>\n",
       "<tr><td>2013.1.00180.S</td><td>4C12.50</td><td>206.88875</td><td>12.290082500000002</td><td>347.2225304394816</td><td>70.17191685089827</td><td>[3]</td><td>0.42603509558846114</td><td>3906.472088161576</td><td>12m</td><td></td><td>1421.28</td><td>2016-11-27</td><td>[100.21..102.19GHz,31251.80kHz,790.6uJy/beam@10km/s,32.5uJy/beam@native, XX YY] U [102.04..103.91GHz,3906.48kHz,789.5uJy/beam@10km/s,33.8uJy/beam@native, XX YY] U [112.04..114.02GHz,31251.80kHz,992.3uJy/beam@10km/s,43.1uJy/beam@native, XX YY] U [113.71..115.58GHz,3906.48kHz,1.3mJy/beam@10km/s,56.6uJy/beam@native, XX YY]</td><td>10132.960689370671</td><td>XX YY</td><td>2015-06-30T22:56:08</td><td>Dasyra, Kalliopi</td><td>4C12.50_a_03_TE</td><td>Papadopoulos, Padelis; Onken, Christopher; Scharwaechter, Julia; Wagner, Alexander; Combes, Francoise; Salome, Philippe;</td><td>0.7894598000929647</td><td>0.019334702040371406</td><td>2.5265722</td><td>uid://A001/X13b/Xda</td><td>uid://A001/X13b/Xdb</td><td>uid://A002/Xa4efea/X1db</td><td>Does the CO excitation in an outflow differ from that in the ambient medium? Insights from 4C12.50</td><td>S</td><td>TARGET</td><td>58.389574548154336</td><td>2.4245512499135744</td><td>Y</td><td>0</td><td>Active Galactic Nuclei (AGN)/Quasars (QSO), Outflows, jets, feedback</td><td>Active galaxies</td><td>2013.1.00180.S</td><td>[array([100.21, 102.19]), array([102.04, 103.91]), array([112.04, 114.02]), array([113.71, 115.58])]</td><td>4C12.50</td><td>4C +12.50</td><td>206.88901</td><td>12.29007</td><td>0.12174</td><td>False</td><td>False</td><td>True</td></tr>\n",
       "</table>"
      ],
      "text/plain": [
       "<Table masked=True length=1>\n",
       " Project code  ALMA source name  ALMA RA  ... C18O J=1-0 13CO J=1-0 12CO J=1-0\n",
       "                                   deg    ...                                 \n",
       "   bytes64         bytes256      float64  ...    bool       bool       bool   \n",
       "-------------- ---------------- --------- ... ---------- ---------- ----------\n",
       "2013.1.00180.S          4C12.50 206.88875 ...      False      False       True"
      ]
     },
     "metadata": {},
     "output_type": "display_data"
    },
    {
     "data": {
      "text/html": [
       "<i>Table masked=True length=1</i>\n",
       "<table id=\"table4452164216\" class=\"table-striped table-bordered table-condensed\">\n",
       "<thead><tr><th>Project code</th><th>ALMA source name</th><th>ALMA RA</th><th>ALMA Dec</th><th>Galactic longitude</th><th>Galactic latitude</th><th>Band</th><th>Spatial resolution</th><th>Frequency resolution</th><th>Array</th><th>Mosaic</th><th>Integration</th><th>Release date</th><th>Frequency support</th><th>Velocity resolution</th><th>Pol products</th><th>Observation date</th><th>PI name</th><th>SB name</th><th>Proposal authors</th><th>Line sensitivity (10 km/s)</th><th>Continuum sensitivity</th><th>PWV</th><th>Group ous id</th><th>Member ous id</th><th>Asdm uid</th><th>Project title</th><th>Project type</th><th>Scan intent</th><th>Field of view</th><th>Largest angular scale</th><th>QA2 Status</th><th>COUNT</th><th>Science keyword</th><th>Scientific category</th><th>ASA_PROJECT_CODE</th><th>Frequency ranges [2,2]</th><th>ALMA sanitized source name</th><th>NED source name</th><th>NED RA</th><th>NED Dec</th><th>NED Redshift</th><th>C18O J=1-0</th><th>13CO J=1-0</th><th>12CO J=1-0</th></tr></thead>\n",
       "<thead><tr><th></th><th></th><th>deg</th><th>deg</th><th>deg</th><th>deg</th><th></th><th></th><th>kHz</th><th></th><th></th><th>s</th><th></th><th>GHz</th><th>m / s</th><th></th><th></th><th></th><th></th><th></th><th></th><th>mJy/beam</th><th>mm</th><th></th><th></th><th></th><th></th><th></th><th></th><th>arcs</th><th>arcs</th><th></th><th></th><th></th><th></th><th></th><th>GHz</th><th></th><th></th><th>degrees</th><th>degrees</th><th></th><th></th><th></th><th></th></tr></thead>\n",
       "<thead><tr><th>bytes64</th><th>bytes256</th><th>float64</th><th>float64</th><th>float64</th><th>float64</th><th>object</th><th>float64</th><th>float64</th><th>object</th><th>object</th><th>float64</th><th>object</th><th>bytes2700</th><th>float64</th><th>bytes64</th><th>object</th><th>bytes256</th><th>bytes128</th><th>bytes512</th><th>float64</th><th>float64</th><th>float32</th><th>bytes64</th><th>bytes64</th><th>bytes32</th><th>bytes256</th><th>bytes16</th><th>bytes256</th><th>float64</th><th>float64</th><th>bytes1</th><th>int64</th><th>bytes200</th><th>bytes200</th><th>bytes64</th><th>float64</th><th>str14</th><th>bytes30</th><th>float64</th><th>float64</th><th>float64</th><th>bool</th><th>bool</th><th>bool</th></tr></thead>\n",
       "<tr><td>2018.1.00503.S</td><td>IRAS_23230-6926</td><td>351.51510416665565</td><td>-69.17182777778206</td><td>313.6949057597961</td><td>-46.131386700812115</td><td>[3]</td><td>31.039223790752796</td><td>3906.5691153601183</td><td>7m</td><td></td><td>4656.96</td><td>2019-10-31</td><td>[101.50..103.48GHz,31252.56kHz,9.9mJy/beam@10km/s,410.1uJy/beam@native, XX YY] U [103.23..105.23GHz,3906.57kHz,10mJy/beam@10km/s,417.2uJy/beam@native, XX YY]</td><td>11130.909044594027</td><td>XX YY</td><td>2018-10-24T00:17:42</td><td>Gowardhan, Avani</td><td>IRAS_232_a_03_7M</td><td>Spoon, Henrik; Fischer, Jacqueline; Riechers, Dominik; Feruglio, Chiara; Gonzalez-Alfonso, Eduardo; Farrah, Duncan;</td><td>9.919393285605217</td><td>0.29245037793743267</td><td>5.186</td><td>uid://A001/X133f/Xb4</td><td>uid://A001/X133f/Xb5</td><td>uid://A002/Xd3c7c2/X8fd7</td><td>The galaxy-wide impact of powerful feedback in ULIRGs</td><td>S</td><td>TARGET</td><td>60.95126494778991</td><td>49.041171148477254</td><td>Y</td><td>0</td><td>Active Galactic Nuclei (AGN)/Quasars (QSO)</td><td>Active galaxies</td><td>2018.1.00503.S</td><td>101.5 .. 105.23</td><td>IRAS23230-6926</td><td>2MASX J23260362-6910185</td><td>351.51508</td><td>-69.17189</td><td>0.10659</td><td>False</td><td>False</td><td>True</td></tr>\n",
       "</table>"
      ],
      "text/plain": [
       "<Table masked=True length=1>\n",
       " Project code  ALMA source name      ALMA RA       ... 13CO J=1-0 12CO J=1-0\n",
       "                                       deg         ...                      \n",
       "   bytes64         bytes256          float64       ...    bool       bool   \n",
       "-------------- ---------------- ------------------ ... ---------- ----------\n",
       "2018.1.00503.S  IRAS_23230-6926 351.51510416665565 ...      False       True"
      ]
     },
     "metadata": {},
     "output_type": "display_data"
    },
    {
     "data": {
      "text/html": [
       "<i>Table masked=True length=1</i>\n",
       "<table id=\"table4451272128\" class=\"table-striped table-bordered table-condensed\">\n",
       "<thead><tr><th>Project code</th><th>ALMA source name</th><th>ALMA RA</th><th>ALMA Dec</th><th>Galactic longitude</th><th>Galactic latitude</th><th>Band</th><th>Spatial resolution</th><th>Frequency resolution</th><th>Array</th><th>Mosaic</th><th>Integration</th><th>Release date</th><th>Frequency support</th><th>Velocity resolution</th><th>Pol products</th><th>Observation date</th><th>PI name</th><th>SB name</th><th>Proposal authors</th><th>Line sensitivity (10 km/s)</th><th>Continuum sensitivity</th><th>PWV</th><th>Group ous id</th><th>Member ous id</th><th>Asdm uid</th><th>Project title</th><th>Project type</th><th>Scan intent</th><th>Field of view</th><th>Largest angular scale</th><th>QA2 Status</th><th>COUNT</th><th>Science keyword</th><th>Scientific category</th><th>ASA_PROJECT_CODE</th><th>Frequency ranges [4,2]</th><th>ALMA sanitized source name</th><th>NED source name</th><th>NED RA</th><th>NED Dec</th><th>NED Redshift</th><th>C18O J=1-0</th><th>13CO J=1-0</th><th>12CO J=1-0</th></tr></thead>\n",
       "<thead><tr><th></th><th></th><th>deg</th><th>deg</th><th>deg</th><th>deg</th><th></th><th></th><th>kHz</th><th></th><th></th><th>s</th><th></th><th>GHz</th><th>m / s</th><th></th><th></th><th></th><th></th><th></th><th></th><th>mJy/beam</th><th>mm</th><th></th><th></th><th></th><th></th><th></th><th></th><th>arcs</th><th>arcs</th><th></th><th></th><th></th><th></th><th></th><th>GHz</th><th></th><th></th><th>degrees</th><th>degrees</th><th></th><th></th><th></th><th></th></tr></thead>\n",
       "<thead><tr><th>bytes64</th><th>bytes256</th><th>float64</th><th>float64</th><th>float64</th><th>float64</th><th>object</th><th>float64</th><th>float64</th><th>object</th><th>object</th><th>float64</th><th>object</th><th>bytes2700</th><th>float64</th><th>bytes64</th><th>object</th><th>bytes256</th><th>bytes128</th><th>bytes512</th><th>float64</th><th>float64</th><th>float32</th><th>bytes64</th><th>bytes64</th><th>bytes32</th><th>bytes256</th><th>bytes16</th><th>bytes256</th><th>float64</th><th>float64</th><th>bytes1</th><th>int64</th><th>bytes200</th><th>bytes200</th><th>bytes64</th><th>float64</th><th>str14</th><th>bytes30</th><th>float64</th><th>float64</th><th>float64</th><th>bool</th><th>bool</th><th>bool</th></tr></thead>\n",
       "<tr><td>2013.1.00535.S</td><td>IRAS_12071-0444</td><td>182.43802099999996</td><td>-5.020578</td><td>283.9759237116557</td><td>56.30919889921598</td><td>[3]</td><td>0.5215833018179308</td><td>976.6589031347091</td><td>12m</td><td></td><td>120.96</td><td>2016-09-24</td><td>[87.65..89.63GHz,31253.08kHz,3.1mJy/beam@10km/s,118.9uJy/beam@native, XX YY] U [88.97..90.95GHz,31253.08kHz,3.1mJy/beam@10km/s,118.8uJy/beam@native, XX YY] U [99.60..101.59GHz,31253.08kHz,3mJy/beam@10km/s,121uJy/beam@native, XX YY] U [101.22..103.10GHz,976.66kHz,3mJy/beam@10km/s,126.1uJy/beam@native, XX YY]</td><td>2840.203501425562</td><td>XX YY</td><td>2015-07-03T23:14:34</td><td>Rangwala, Naseem</td><td>IRAS_120_a_03_TE</td><td>Maloney, Philip; Kamenetzky, Julia; Spinoglio, Luigi; Schirm, Maximilien; Wilson, Christine; Glenn, Jason; Pereira Santaella, Miguel;</td><td>2.9550647859364725</td><td>0.06055164855894379</td><td>4.3492694</td><td>uid://A001/X121/X287</td><td>uid://A001/X121/X288</td><td>uid://A002/Xa4fd6e/X2ea</td><td>Probing the AGN activity and molecular interstellar medium in ultra-luminous infrared galaxies using CH</td><td>S</td><td>TARGET</td><td>66.05582363228035</td><td>2.679551865937761</td><td>Y</td><td>1</td><td>Active Galactic Nuclei (AGN)/Quasars (QSO), Luminous and Ultra-Luminous Infra-Red Galaxies (LIRG &amp; ULIRG)</td><td>Active galaxies</td><td>2013.1.00535.S</td><td>87.65 .. 103.1</td><td>IRAS12071-0444</td><td>IRAS  12071-0444</td><td>182.43805</td><td>-5.02049</td><td>0.128355</td><td>False</td><td>False</td><td>True</td></tr>\n",
       "</table>"
      ],
      "text/plain": [
       "<Table masked=True length=1>\n",
       " Project code  ALMA source name      ALMA RA       ... 13CO J=1-0 12CO J=1-0\n",
       "                                       deg         ...                      \n",
       "   bytes64         bytes256          float64       ...    bool       bool   \n",
       "-------------- ---------------- ------------------ ... ---------- ----------\n",
       "2013.1.00535.S  IRAS_12071-0444 182.43802099999996 ...      False       True"
      ]
     },
     "metadata": {},
     "output_type": "display_data"
    },
    {
     "data": {
      "text/html": [
       "<i>Table masked=True length=1</i>\n",
       "<table id=\"table4440596152\" class=\"table-striped table-bordered table-condensed\">\n",
       "<thead><tr><th>Project code</th><th>ALMA source name</th><th>ALMA RA</th><th>ALMA Dec</th><th>Galactic longitude</th><th>Galactic latitude</th><th>Band</th><th>Spatial resolution</th><th>Frequency resolution</th><th>Array</th><th>Mosaic</th><th>Integration</th><th>Release date</th><th>Frequency support</th><th>Velocity resolution</th><th>Pol products</th><th>Observation date</th><th>PI name</th><th>SB name</th><th>Proposal authors</th><th>Line sensitivity (10 km/s)</th><th>Continuum sensitivity</th><th>PWV</th><th>Group ous id</th><th>Member ous id</th><th>Asdm uid</th><th>Project title</th><th>Project type</th><th>Scan intent</th><th>Field of view</th><th>Largest angular scale</th><th>QA2 Status</th><th>COUNT</th><th>Science keyword</th><th>Scientific category</th><th>ASA_PROJECT_CODE</th><th>Frequency ranges [4,2]</th><th>ALMA sanitized source name</th><th>NED source name</th><th>NED RA</th><th>NED Dec</th><th>NED Redshift</th><th>C18O J=1-0</th><th>13CO J=1-0</th><th>12CO J=1-0</th></tr></thead>\n",
       "<thead><tr><th></th><th></th><th>deg</th><th>deg</th><th>deg</th><th>deg</th><th></th><th></th><th>kHz</th><th></th><th></th><th>s</th><th></th><th>GHz</th><th>m / s</th><th></th><th></th><th></th><th></th><th></th><th></th><th>mJy/beam</th><th>mm</th><th></th><th></th><th></th><th></th><th></th><th></th><th>arcs</th><th>arcs</th><th></th><th></th><th></th><th></th><th></th><th>GHz</th><th></th><th></th><th>degrees</th><th>degrees</th><th></th><th></th><th></th><th></th></tr></thead>\n",
       "<thead><tr><th>bytes64</th><th>bytes256</th><th>float64</th><th>float64</th><th>float64</th><th>float64</th><th>object</th><th>float64</th><th>float64</th><th>object</th><th>object</th><th>float64</th><th>object</th><th>bytes2700</th><th>float64</th><th>bytes64</th><th>object</th><th>bytes256</th><th>bytes128</th><th>bytes512</th><th>float64</th><th>float64</th><th>float32</th><th>bytes64</th><th>bytes64</th><th>bytes32</th><th>bytes256</th><th>bytes16</th><th>bytes256</th><th>float64</th><th>float64</th><th>bytes1</th><th>int64</th><th>bytes200</th><th>bytes200</th><th>bytes64</th><th>float64</th><th>str14</th><th>bytes30</th><th>float64</th><th>float64</th><th>float64</th><th>bool</th><th>bool</th><th>bool</th></tr></thead>\n",
       "<tr><td>2013.1.00535.S</td><td>IRAS01003-2238</td><td>15.7079</td><td>-22.3658</td><td>152.04998520751792</td><td>-84.58090718271401</td><td>[3]</td><td>1.3223269327780893</td><td>976.5483297985982</td><td>12m</td><td></td><td>120.96</td><td>2015-11-25</td><td>[88.46..90.45GHz,31249.55kHz,3.3mJy/beam@10km/s,127.6uJy/beam@native, XX YY] U [89.98..91.96GHz,31249.55kHz,3.3mJy/beam@10km/s,127.4uJy/beam@native, XX YY] U [100.53..102.52GHz,31249.55kHz,3.2mJy/beam@10km/s,130.2uJy/beam@native, XX YY] U [102.16..104.04GHz,976.55kHz,3.1mJy/beam@10km/s,134.5uJy/beam@native, XX YY]</td><td>2813.9644873005045</td><td>XX YY</td><td>2014-08-31T02:35:50</td><td>Rangwala, Naseem</td><td>IRAS0100_a_03_TE</td><td>Maloney, Philip; Kamenetzky, Julia; Spinoglio, Luigi; Schirm, Maximilien; Wilson, Christine; Glenn, Jason; Pereira Santaella, Miguel;</td><td>3.140675198480431</td><td>0.0649331589374028</td><td>2.49572</td><td>uid://A001/X121/X297</td><td>uid://A001/X121/X298</td><td>uid://A002/X8a5fcf/X19f1</td><td>Probing the AGN activity and molecular interstellar medium in ultra-luminous infrared galaxies using CH</td><td>S</td><td>TARGET</td><td>65.45451079765284</td><td>6.969994607729872</td><td>Y</td><td>1</td><td>Active Galactic Nuclei (AGN)/Quasars (QSO), Luminous and Ultra-Luminous Infra-Red Galaxies (LIRG &amp; ULIRG)</td><td>Active galaxies</td><td>2013.1.00535.S</td><td>88.46 .. 104.04</td><td>IRAS01003-2238</td><td>2MASS J01024998-2221572</td><td>15.70837</td><td>-22.36589</td><td>0.117835</td><td>False</td><td>False</td><td>True</td></tr>\n",
       "</table>"
      ],
      "text/plain": [
       "<Table masked=True length=1>\n",
       " Project code  ALMA source name ALMA RA ... C18O J=1-0 13CO J=1-0 12CO J=1-0\n",
       "                                  deg   ...                                 \n",
       "   bytes64         bytes256     float64 ...    bool       bool       bool   \n",
       "-------------- ---------------- ------- ... ---------- ---------- ----------\n",
       "2013.1.00535.S   IRAS01003-2238 15.7079 ...      False      False       True"
      ]
     },
     "metadata": {},
     "output_type": "display_data"
    },
    {
     "data": {
      "text/html": [
       "<i>Table masked=True length=1</i>\n",
       "<table id=\"table4440594024\" class=\"table-striped table-bordered table-condensed\">\n",
       "<thead><tr><th>Project code</th><th>ALMA source name</th><th>ALMA RA</th><th>ALMA Dec</th><th>Galactic longitude</th><th>Galactic latitude</th><th>Band</th><th>Spatial resolution</th><th>Frequency resolution</th><th>Array</th><th>Mosaic</th><th>Integration</th><th>Release date</th><th>Frequency support</th><th>Velocity resolution</th><th>Pol products</th><th>Observation date</th><th>PI name</th><th>SB name</th><th>Proposal authors</th><th>Line sensitivity (10 km/s)</th><th>Continuum sensitivity</th><th>PWV</th><th>Group ous id</th><th>Member ous id</th><th>Asdm uid</th><th>Project title</th><th>Project type</th><th>Scan intent</th><th>Field of view</th><th>Largest angular scale</th><th>QA2 Status</th><th>COUNT</th><th>Science keyword</th><th>Scientific category</th><th>ASA_PROJECT_CODE</th><th>Frequency ranges [1,2]</th><th>ALMA sanitized source name</th><th>NED source name</th><th>NED RA</th><th>NED Dec</th><th>NED Redshift</th><th>C18O J=1-0</th><th>13CO J=1-0</th><th>12CO J=1-0</th></tr></thead>\n",
       "<thead><tr><th></th><th></th><th>deg</th><th>deg</th><th>deg</th><th>deg</th><th></th><th></th><th>kHz</th><th></th><th></th><th>s</th><th></th><th>GHz</th><th>m / s</th><th></th><th></th><th></th><th></th><th></th><th></th><th>mJy/beam</th><th>mm</th><th></th><th></th><th></th><th></th><th></th><th></th><th>arcs</th><th>arcs</th><th></th><th></th><th></th><th></th><th></th><th>GHz</th><th></th><th></th><th>degrees</th><th>degrees</th><th></th><th></th><th></th><th></th></tr></thead>\n",
       "<thead><tr><th>bytes64</th><th>bytes256</th><th>float64</th><th>float64</th><th>float64</th><th>float64</th><th>object</th><th>float64</th><th>float64</th><th>object</th><th>object</th><th>float64</th><th>object</th><th>bytes2700</th><th>float64</th><th>bytes64</th><th>object</th><th>bytes256</th><th>bytes128</th><th>bytes512</th><th>float64</th><th>float64</th><th>float32</th><th>bytes64</th><th>bytes64</th><th>bytes32</th><th>bytes256</th><th>bytes16</th><th>bytes256</th><th>float64</th><th>float64</th><th>bytes1</th><th>int64</th><th>bytes200</th><th>bytes200</th><th>bytes64</th><th>float64</th><th>str15</th><th>bytes30</th><th>float64</th><th>float64</th><th>float64</th><th>bool</th><th>bool</th><th>bool</th></tr></thead>\n",
       "<tr><td>2015.1.01147.S</td><td>IRAS_F15462-0450</td><td>237.2366666666519</td><td>-4.992638888889034</td><td>2.9394620517900876</td><td>36.44301190278096</td><td>[3]</td><td>0.3226433295882357</td><td>976.5934215560112</td><td>12m</td><td></td><td>1088.64</td><td>2018-03-09</td><td>[103.85..105.73GHz,976.59kHz,917.2uJy/beam@10km/s,39.6uJy/beam@native, XX YY]</td><td>2769.191117038839</td><td>XX YY</td><td>2016-09-24T19:29:11</td><td>Kohno, Kotaro</td><td>IRAS_F15_b_03_TE</td><td>Hao, Cai-Na; Omont, Alain; Tan, Qinghua; Gao, Yu; Zhao, Yinghe; Umehata, Hideki; Cox, Pierre; Leon, Stéphane; Daddi, Emanuele; Izumi, Takuma; Xia, Xiaoyang; Mao, Shude;</td><td>0.9172169690496007</td><td>0.03960273398879195</td><td>1.1649903</td><td>uid://A001/X2fb/Xd0a</td><td>uid://A001/X2fb/Xd0b</td><td>uid://A002/Xb88fca/X7c3d</td><td>CO Imaging of Ultraluminous Infrared QSO Hosts</td><td>S</td><td>TARGET</td><td>60.11909008976906</td><td>1.7147600434016617</td><td>Y</td><td>0</td><td>Starbursts, star formation, Active Galactic Nuclei (AGN)/Quasars (QSO)</td><td>Active galaxies</td><td>2015.1.01147.S</td><td>103.85 .. 105.73</td><td>IRASF15462-0450</td><td>2MASS J15485681-0459335</td><td>237.23672</td><td>-4.99267</td><td>0.099792</td><td>False</td><td>False</td><td>True</td></tr>\n",
       "</table>"
      ],
      "text/plain": [
       "<Table masked=True length=1>\n",
       " Project code  ALMA source name      ALMA RA      ... 13CO J=1-0 12CO J=1-0\n",
       "                                       deg        ...                      \n",
       "   bytes64         bytes256          float64      ...    bool       bool   \n",
       "-------------- ---------------- ----------------- ... ---------- ----------\n",
       "2015.1.01147.S IRAS_F15462-0450 237.2366666666519 ...      False       True"
      ]
     },
     "metadata": {},
     "output_type": "display_data"
    },
    {
     "data": {
      "text/html": [
       "<i>Table masked=True length=4</i>\n",
       "<table id=\"table4451574392\" class=\"table-striped table-bordered table-condensed\">\n",
       "<thead><tr><th>Project code</th><th>ALMA source name</th><th>ALMA RA</th><th>ALMA Dec</th><th>Galactic longitude</th><th>Galactic latitude</th><th>Band</th><th>Spatial resolution</th><th>Frequency resolution</th><th>Array</th><th>Mosaic</th><th>Integration</th><th>Release date</th><th>Frequency support</th><th>Velocity resolution</th><th>Pol products</th><th>Observation date</th><th>PI name</th><th>SB name</th><th>Proposal authors</th><th>Line sensitivity (10 km/s)</th><th>Continuum sensitivity</th><th>PWV</th><th>Group ous id</th><th>Member ous id</th><th>Asdm uid</th><th>Project title</th><th>Project type</th><th>Scan intent</th><th>Field of view</th><th>Largest angular scale</th><th>QA2 Status</th><th>COUNT</th><th>Science keyword</th><th>Scientific category</th><th>ASA_PROJECT_CODE</th><th>Frequency ranges [4,2]</th><th>ALMA sanitized source name</th><th>NED source name</th><th>NED RA</th><th>NED Dec</th><th>NED Redshift</th><th>C18O J=1-0</th><th>13CO J=1-0</th><th>12CO J=1-0</th></tr></thead>\n",
       "<thead><tr><th></th><th></th><th>deg</th><th>deg</th><th>deg</th><th>deg</th><th></th><th></th><th>kHz</th><th></th><th></th><th>s</th><th></th><th>GHz</th><th>m / s</th><th></th><th></th><th></th><th></th><th></th><th></th><th>mJy/beam</th><th>mm</th><th></th><th></th><th></th><th></th><th></th><th></th><th>arcs</th><th>arcs</th><th></th><th></th><th></th><th></th><th></th><th>GHz</th><th></th><th></th><th>degrees</th><th>degrees</th><th></th><th></th><th></th><th></th></tr></thead>\n",
       "<thead><tr><th>bytes64</th><th>bytes256</th><th>float64</th><th>float64</th><th>float64</th><th>float64</th><th>object</th><th>float64</th><th>float64</th><th>object</th><th>object</th><th>float64</th><th>object</th><th>bytes2700</th><th>float64</th><th>bytes64</th><th>object</th><th>bytes256</th><th>bytes128</th><th>bytes512</th><th>float64</th><th>float64</th><th>float32</th><th>bytes64</th><th>bytes64</th><th>bytes32</th><th>bytes256</th><th>bytes16</th><th>bytes256</th><th>float64</th><th>float64</th><th>bytes1</th><th>int64</th><th>bytes200</th><th>bytes200</th><th>bytes64</th><th>float64</th><th>str14</th><th>bytes30</th><th>float64</th><th>float64</th><th>float64</th><th>bool</th><th>bool</th><th>bool</th></tr></thead>\n",
       "<tr><td>2012.1.00306.S</td><td>IRAS13120-5453</td><td>198.7758333333333</td><td>-55.15666666666667</td><td>306.33773294773795</td><td>7.558461603721796</td><td>[3]</td><td>1.0216468471916724</td><td>7813.114377520317</td><td>12m</td><td></td><td>635.04</td><td>2016-08-04</td><td>[96.93..98.92GHz,31252.46kHz,1.2mJy/beam@10km/s,47.7uJy/beam@native, XX YY] U [98.81..100.79GHz,31252.46kHz,1.2mJy/beam@10km/s,48uJy/beam@native, XX YY] U [108.99..110.86GHz,7813.11kHz,1.3mJy/beam@10km/s,55.5uJy/beam@native, XX YY] U [110.86..112.74GHz,7813.11kHz,1.3mJy/beam@10km/s,60uJy/beam@native, XX YY]</td><td>20778.752293903617</td><td>XX YY</td><td>2015-07-03T01:30:39</td><td>Sturm, Eckhard</td><td>IRAS13120_B3_12m</td><td>Garcia-Burillo, Santiago; Gracia-Carpio, Javier; Lutz, Dieter; Sternberg, Amiel; Hailey-Dunsheath, Steven; Cicone, Claudia; Fischer, Jacqueline; Contursi, Alessandra; Poglitsch, Albrecht; Aalto, Susanne; Verma, Aprajita; Genzel, Reinhard; Weiss, Axel; Tacconi, Linda; Davies, Richard; Maiolino, Roberto; Gonzalez-Alfonso, Eduardo; Feruglio, Chiara; Christopher, Natalie; Veilleux, Sylvain;</td><td>1.1754694742634952</td><td>0.026013174724762746</td><td>2.34793</td><td>uid://A002/X7d1738/X147</td><td>uid://A002/X7d1738/X148</td><td>uid://A002/Xa4efea/X4ad</td><td>Massive molecular outflows and negative feedback in active galaxies</td><td>S</td><td>TARGET</td><td>60.095210912815425</td><td>5.777802123076612</td><td>Y</td><td>1</td><td>Outflows, jets, feedback, Luminous and Ultra-Luminous Infra-Red Galaxies (LIRG &amp; ULIRG)</td><td>Active galaxies</td><td>2012.1.00306.S</td><td>96.93 .. 112.74</td><td>IRAS13120-5453</td><td>WKK 2031</td><td>198.77649</td><td>-55.15645</td><td>0.030761</td><td>False</td><td>False</td><td>True</td></tr>\n",
       "<tr><td>2013.1.00379.S</td><td>IRAS_13120-5453</td><td>198.77642458333332</td><td>-55.156354722222225</td><td>306.33810137119167</td><td>7.558740947322939</td><td>[3]</td><td>0.8320832838686458</td><td>1953.295462665399</td><td>12m</td><td></td><td>3024.0</td><td>2016-09-11</td><td>[93.06..94.94GHz,1953.30kHz,561.7uJy/beam@10km/s,23uJy/beam@native, XX YY] U [94.67..96.55GHz,1953.30kHz,553uJy/beam@10km/s,22.8uJy/beam@native, XX YY] U [104.76..106.63GHz,1953.30kHz,553.1uJy/beam@10km/s,24uJy/beam@native, XX YY] U [106.36..108.24GHz,1953.30kHz,560.4uJy/beam@10km/s,24.5uJy/beam@native, XX YY]</td><td>5410.569269720324</td><td>XX YY</td><td>2015-07-22T21:35:34</td><td>Sliwa, Kazimierz</td><td>IRAS_131_b_03_TE</td><td>Wilson, Christine;</td><td>0.5529899194942456</td><td>0.011765087759369247</td><td>3.1714032</td><td>uid://A001/X145/X185</td><td>uid://A001/X145/X186</td><td>uid://A002/Xa66f35/X144</td><td>The Forgotten Local Ultra Luminous Infrared Galaxy: IRAS 13120-5453</td><td>S</td><td>TARGET</td><td>62.59205952663193</td><td>4.67502438693053</td><td>Y</td><td>2</td><td>Merging and interacting galaxies, Luminous and Ultra-Luminous Infra-Red Galaxies (LIRG &amp; ULIRG)</td><td>Galaxy evolution</td><td>2013.1.00379.S</td><td>93.06 .. 108.24</td><td>IRAS13120-5453</td><td>WKK 2031</td><td>198.77649</td><td>-55.15645</td><td>0.030761</td><td>True</td><td>True</td><td>False</td></tr>\n",
       "<tr><td>2015.1.00287.S</td><td>IRAS_13120-5453</td><td>198.77642458330507</td><td>-55.15635472222561</td><td>306.3381013711751</td><td>7.558740947321065</td><td>[3]</td><td>0.7077332154639278</td><td>3906.576224269008</td><td>12m</td><td></td><td>786.24</td><td>2018-03-17</td><td>[97.07..98.94GHz,3906.58kHz,1.3mJy/beam@10km/s,54.5uJy/beam@native, XX YY] U [98.70..100.58GHz,3906.58kHz,1.3mJy/beam@10km/s,54.8uJy/beam@native, XX YY] U [109.07..110.94GHz,3906.58kHz,1.4mJy/beam@10km/s,61.6uJy/beam@native, XX YY] U [110.87..112.74GHz,3906.58kHz,1.5mJy/beam@10km/s,66.4uJy/beam@native, XX YY]</td><td>10388.637662248837</td><td>XX YY</td><td>2016-08-27T18:16:42</td><td>Sliwa, Kazimierz</td><td>IRAS_131_c_03_TE</td><td>Wilson, Christine;</td><td>1.3016543849997846</td><td>0.02936122398060878</td><td>2.6087253</td><td>uid://A001/X5a4/X16f</td><td>uid://A001/X5a4/X170</td><td>uid://A002/Xb74a0f/X2b72</td><td>The Almost Forgotten Local Ultra Luminous Infrared Galaxy: IRAS 13120-5453</td><td>S</td><td>TARGET</td><td>60.05450244044836</td><td>3.6661755425721525</td><td>Y</td><td>0</td><td>Merging and interacting galaxies, Luminous and Ultra-Luminous Infra-Red Galaxies (LIRG &amp; ULIRG)</td><td>Galaxy evolution</td><td>2015.1.00287.S</td><td>97.07 .. 112.74</td><td>IRAS13120-5453</td><td>WKK 2031</td><td>198.77649</td><td>-55.15645</td><td>0.030761</td><td>False</td><td>False</td><td>True</td></tr>\n",
       "<tr><td>2015.1.00287.S</td><td>IRAS_13120-5453</td><td>198.77642458328958</td><td>-55.156354722231406</td><td>306.33810137116575</td><td>7.558740947316102</td><td>[3]</td><td>0.6304682493136776</td><td>3906.551321668138</td><td>12m</td><td></td><td>2782.08</td><td>2018-03-20</td><td>[94.08..95.95GHz,3906.55kHz,615.1uJy/beam@10km/s,25.3uJy/beam@native, XX YY] U [95.77..97.65GHz,3906.55kHz,610.4uJy/beam@10km/s,25.3uJy/beam@native, XX YY] U [105.97..107.84GHz,3906.55kHz,608.5uJy/beam@10km/s,26.5uJy/beam@native, XX YY] U [107.66..109.53GHz,3906.55kHz,620.9uJy/beam@10km/s,27.3uJy/beam@native, XX YY]</td><td>10692.913267880172</td><td>XX YY</td><td>2016-09-07T16:54:32</td><td>Sliwa, Kazimierz</td><td>IRAS_131_d_03_TE</td><td>Wilson, Christine;</td><td>0.6085407594125293</td><td>0.013034173471956222</td><td>0.64867234</td><td>uid://A001/X5a4/X173</td><td>uid://A001/X5a4/X174</td><td>uid://A002/Xb7d0ee/X516a</td><td>The Almost Forgotten Local Ultra Luminous Infrared Galaxy: IRAS 13120-5453</td><td>S</td><td>TARGET</td><td>61.88235961140821</td><td>3.097545393266775</td><td>Y</td><td>0</td><td>Merging and interacting galaxies, Luminous and Ultra-Luminous Infra-Red Galaxies (LIRG &amp; ULIRG)</td><td>Galaxy evolution</td><td>2015.1.00287.S</td><td>94.08 .. 109.53</td><td>IRAS13120-5453</td><td>WKK 2031</td><td>198.77649</td><td>-55.15645</td><td>0.030761</td><td>True</td><td>True</td><td>False</td></tr>\n",
       "</table>"
      ],
      "text/plain": [
       "<Table masked=True length=4>\n",
       " Project code  ALMA source name      ALMA RA       ... 13CO J=1-0 12CO J=1-0\n",
       "                                       deg         ...                      \n",
       "   bytes64         bytes256          float64       ...    bool       bool   \n",
       "-------------- ---------------- ------------------ ... ---------- ----------\n",
       "2012.1.00306.S   IRAS13120-5453  198.7758333333333 ...      False       True\n",
       "2013.1.00379.S  IRAS_13120-5453 198.77642458333332 ...       True      False\n",
       "2015.1.00287.S  IRAS_13120-5453 198.77642458330507 ...      False       True\n",
       "2015.1.00287.S  IRAS_13120-5453 198.77642458328958 ...       True      False"
      ]
     },
     "metadata": {},
     "output_type": "display_data"
    },
    {
     "data": {
      "text/html": [
       "<i>Table masked=True length=2</i>\n",
       "<table id=\"table4452396896\" class=\"table-striped table-bordered table-condensed\">\n",
       "<thead><tr><th>Project code</th><th>ALMA source name</th><th>ALMA RA</th><th>ALMA Dec</th><th>Galactic longitude</th><th>Galactic latitude</th><th>Band</th><th>Spatial resolution</th><th>Frequency resolution</th><th>Array</th><th>Mosaic</th><th>Integration</th><th>Release date</th><th>Frequency support</th><th>Velocity resolution</th><th>Pol products</th><th>Observation date</th><th>PI name</th><th>SB name</th><th>Proposal authors</th><th>Line sensitivity (10 km/s)</th><th>Continuum sensitivity</th><th>PWV</th><th>Group ous id</th><th>Member ous id</th><th>Asdm uid</th><th>Project title</th><th>Project type</th><th>Scan intent</th><th>Field of view</th><th>Largest angular scale</th><th>QA2 Status</th><th>COUNT</th><th>Science keyword</th><th>Scientific category</th><th>ASA_PROJECT_CODE</th><th>Frequency ranges</th><th>ALMA sanitized source name</th><th>NED source name</th><th>NED RA</th><th>NED Dec</th><th>NED Redshift</th><th>C18O J=1-0</th><th>13CO J=1-0</th><th>12CO J=1-0</th></tr></thead>\n",
       "<thead><tr><th></th><th></th><th>deg</th><th>deg</th><th>deg</th><th>deg</th><th></th><th></th><th>kHz</th><th></th><th></th><th>s</th><th></th><th>GHz</th><th>m / s</th><th></th><th></th><th></th><th></th><th></th><th></th><th>mJy/beam</th><th>mm</th><th></th><th></th><th></th><th></th><th></th><th></th><th>arcs</th><th>arcs</th><th></th><th></th><th></th><th></th><th></th><th>GHz</th><th></th><th></th><th>degrees</th><th>degrees</th><th></th><th></th><th></th><th></th></tr></thead>\n",
       "<thead><tr><th>bytes64</th><th>bytes256</th><th>float64</th><th>float64</th><th>float64</th><th>float64</th><th>object</th><th>float64</th><th>float64</th><th>object</th><th>object</th><th>float64</th><th>object</th><th>bytes2700</th><th>float64</th><th>bytes64</th><th>object</th><th>bytes256</th><th>bytes128</th><th>bytes512</th><th>float64</th><th>float64</th><th>float32</th><th>bytes64</th><th>bytes64</th><th>bytes32</th><th>bytes256</th><th>bytes16</th><th>bytes256</th><th>float64</th><th>float64</th><th>bytes1</th><th>int64</th><th>bytes200</th><th>bytes200</th><th>bytes64</th><th>object</th><th>str14</th><th>bytes30</th><th>float64</th><th>float64</th><th>float64</th><th>bool</th><th>bool</th><th>bool</th></tr></thead>\n",
       "<tr><td>2013.1.00535.S</td><td>IRAS_06035-7102</td><td>90.725275</td><td>-71.052911</td><td>281.54713485110074</td><td>-29.473558692820973</td><td>[3]</td><td>3.2560388572634626</td><td>976.6191487723341</td><td>12m</td><td></td><td>120.96</td><td>2016-12-01</td><td>[92.13..94.11GHz,31251.81kHz,3.5mJy/beam@10km/s,137.8uJy/beam@native, XX YY] U [93.98..95.97GHz,31251.81kHz,3.5mJy/beam@10km/s,137.6uJy/beam@native, XX YY] U [104.17..106.16GHz,31251.81kHz,3.4mJy/beam@10km/s,143.4uJy/beam@native, XX YY] U [105.87..107.74GHz,976.62kHz,3.5mJy/beam@10km/s,151.2uJy/beam@native, XX YY]</td><td>2717.597689595558</td><td>XX YY</td><td>2015-08-30T16:03:08</td><td>Rangwala, Naseem</td><td>IRAS_060_a_03_TE</td><td>Maloney, Philip; Kamenetzky, Julia; Spinoglio, Luigi; Schirm, Maximilien; Wilson, Christine; Glenn, Jason; Pereira Santaella, Miguel;</td><td>3.423039210641658</td><td>0.07109196237995642</td><td>0.9215283</td><td>uid://A001/X121/X29f</td><td>uid://A001/X121/X2a0</td><td>uid://A002/Xa916fc/X7fb2</td><td>Probing the AGN activity and molecular interstellar medium in ultra-luminous infrared galaxies using CH</td><td>S</td><td>TARGET</td><td>63.041496351157605</td><td>17.593095378689146</td><td>Y</td><td>1</td><td>Active Galactic Nuclei (AGN)/Quasars (QSO), Luminous and Ultra-Luminous Infra-Red Galaxies (LIRG &amp; ULIRG)</td><td>Active galaxies</td><td>2013.1.00535.S</td><td>[array([92.13, 94.11]), array([93.98, 95.97]), array([104.17, 106.16]), array([105.87, 107.74])]</td><td>IRAS06035-7102</td><td>2MASX J06025406-7103104</td><td>90.72504</td><td>-71.05283</td><td>0.079465</td><td>False</td><td>False</td><td>True</td></tr>\n",
       "<tr><td>2018.1.00503.S</td><td>IRAS_06035-7102</td><td>90.72725218874038</td><td>-71.05255357337884</td><td>281.5467000641478</td><td>-29.472928909799435</td><td>[3]</td><td>36.87935421969877</td><td>3906.4765958833245</td><td>7m</td><td></td><td>876.96</td><td>2019-10-23</td><td>[105.81..107.80GHz,3906.48kHz,13.9mJy/beam@10km/s,588.4uJy/beam@native, XX YY]</td><td>10864.152439570458</td><td>XX YY</td><td>2018-10-05T11:04:40</td><td>Gowardhan, Avani</td><td>IRAS_060_a_03_7M</td><td>Spoon, Henrik; Fischer, Jacqueline; Riechers, Dominik; Feruglio, Chiara; Gonzalez-Alfonso, Eduardo; Farrah, Duncan;</td><td>13.941742771829587</td><td>0.588420158558736</td><td>5.186</td><td>uid://A001/X133f/Xa0</td><td>uid://A001/X133f/Xa1</td><td>uid://A002/Xd2d9a0/Xdb0a</td><td>The galaxy-wide impact of powerful feedback in ULIRGs</td><td>S</td><td>TARGET</td><td>58.985993242758276</td><td>47.45992056175555</td><td>Y</td><td>0</td><td>Active Galactic Nuclei (AGN)/Quasars (QSO)</td><td>Active galaxies</td><td>2018.1.00503.S</td><td>[array([105.81, 107.8 ])]</td><td>IRAS06035-7102</td><td>2MASX J06025406-7103104</td><td>90.72504</td><td>-71.05283</td><td>0.079465</td><td>False</td><td>False</td><td>True</td></tr>\n",
       "</table>"
      ],
      "text/plain": [
       "<Table masked=True length=2>\n",
       " Project code  ALMA source name      ALMA RA      ... 13CO J=1-0 12CO J=1-0\n",
       "                                       deg        ...                      \n",
       "   bytes64         bytes256          float64      ...    bool       bool   \n",
       "-------------- ---------------- ----------------- ... ---------- ----------\n",
       "2013.1.00535.S  IRAS_06035-7102         90.725275 ...      False       True\n",
       "2018.1.00503.S  IRAS_06035-7102 90.72725218874038 ...      False       True"
      ]
     },
     "metadata": {},
     "output_type": "display_data"
    },
    {
     "data": {
      "text/html": [
       "<i>Table masked=True length=2</i>\n",
       "<table id=\"table4452966016\" class=\"table-striped table-bordered table-condensed\">\n",
       "<thead><tr><th>Project code</th><th>ALMA source name</th><th>ALMA RA</th><th>ALMA Dec</th><th>Galactic longitude</th><th>Galactic latitude</th><th>Band</th><th>Spatial resolution</th><th>Frequency resolution</th><th>Array</th><th>Mosaic</th><th>Integration</th><th>Release date</th><th>Frequency support</th><th>Velocity resolution</th><th>Pol products</th><th>Observation date</th><th>PI name</th><th>SB name</th><th>Proposal authors</th><th>Line sensitivity (10 km/s)</th><th>Continuum sensitivity</th><th>PWV</th><th>Group ous id</th><th>Member ous id</th><th>Asdm uid</th><th>Project title</th><th>Project type</th><th>Scan intent</th><th>Field of view</th><th>Largest angular scale</th><th>QA2 Status</th><th>COUNT</th><th>Science keyword</th><th>Scientific category</th><th>ASA_PROJECT_CODE</th><th>Frequency ranges</th><th>ALMA sanitized source name</th><th>NED source name</th><th>NED RA</th><th>NED Dec</th><th>NED Redshift</th><th>C18O J=1-0</th><th>13CO J=1-0</th><th>12CO J=1-0</th></tr></thead>\n",
       "<thead><tr><th></th><th></th><th>deg</th><th>deg</th><th>deg</th><th>deg</th><th></th><th></th><th>kHz</th><th></th><th></th><th>s</th><th></th><th>GHz</th><th>m / s</th><th></th><th></th><th></th><th></th><th></th><th></th><th>mJy/beam</th><th>mm</th><th></th><th></th><th></th><th></th><th></th><th></th><th>arcs</th><th>arcs</th><th></th><th></th><th></th><th></th><th></th><th>GHz</th><th></th><th></th><th>degrees</th><th>degrees</th><th></th><th></th><th></th><th></th></tr></thead>\n",
       "<thead><tr><th>bytes64</th><th>bytes256</th><th>float64</th><th>float64</th><th>float64</th><th>float64</th><th>object</th><th>float64</th><th>float64</th><th>object</th><th>object</th><th>float64</th><th>object</th><th>bytes2700</th><th>float64</th><th>bytes64</th><th>object</th><th>bytes256</th><th>bytes128</th><th>bytes512</th><th>float64</th><th>float64</th><th>float32</th><th>bytes64</th><th>bytes64</th><th>bytes32</th><th>bytes256</th><th>bytes16</th><th>bytes256</th><th>float64</th><th>float64</th><th>bytes1</th><th>int64</th><th>bytes200</th><th>bytes200</th><th>bytes64</th><th>object</th><th>str15</th><th>bytes30</th><th>float64</th><th>float64</th><th>float64</th><th>bool</th><th>bool</th><th>bool</th></tr></thead>\n",
       "<tr><td>2018.1.00503.S</td><td>IRAS_14378-3651</td><td>220.24589583328856</td><td>-37.07562222222823</td><td>326.0521382644848</td><td>20.829497620810706</td><td>[3]</td><td>13.943979518578882</td><td>15625.591125660125</td><td>7m</td><td></td><td>544.32</td><td>2019-10-26</td><td>[105.13..107.11GHz,31251.18kHz,15.6mJy/beam@10km/s,654.9uJy/beam@native, XX YY] U [106.92..108.91GHz,15625.59kHz,15.8mJy/beam@10km/s,671.5uJy/beam@native, XX YY]</td><td>43011.9595607951</td><td>XX YY</td><td>2018-10-11T16:10:39</td><td>Gowardhan, Avani</td><td>IRAS_143_a_03_7M</td><td>Spoon, Henrik; Fischer, Jacqueline; Riechers, Dominik; Feruglio, Chiara; Gonzalez-Alfonso, Eduardo; Farrah, Duncan;</td><td>15.567823218870215</td><td>0.4688572873416964</td><td>5.186</td><td>uid://A001/X133f/Xbc</td><td>uid://A001/X133f/Xbd</td><td>uid://A002/Xd32470/X6b00</td><td>The galaxy-wide impact of powerful feedback in ULIRGs</td><td>S</td><td>TARGET</td><td>58.86713776865193</td><td>47.364289869631726</td><td>Y</td><td>0</td><td>Active Galactic Nuclei (AGN)/Quasars (QSO)</td><td>Active galaxies</td><td>2018.1.00503.S</td><td>[array([105.13, 107.11]), array([106.92, 108.91])]</td><td>IRAS14378-3651</td><td>2MASX J14405901-3704322</td><td>220.24587</td><td>-37.07554</td><td>0.067637</td><td>False</td><td>False</td><td>True</td></tr>\n",
       "<tr><td>2012.1.00306.S</td><td>IRASF14378-3651</td><td>220.24587500000004</td><td>-37.07555555555555</td><td>326.0521535200015</td><td>20.82956483257251</td><td>[3]</td><td>0.6206217144403925</td><td>7812.971429098062</td><td>12m</td><td></td><td>1905.12</td><td>2016-09-23</td><td>[93.05..95.03GHz,31251.89kHz,722.8uJy/beam@10km/s,28.6uJy/beam@native, XX YY] U [94.92..96.91GHz,31251.89kHz,714.6uJy/beam@10km/s,28.6uJy/beam@native, XX YY] U [105.11..106.98GHz,7812.97kHz,711.7uJy/beam@10km/s,30.9uJy/beam@native, XX YY] U [106.98..108.85GHz,7812.97kHz,722.7uJy/beam@10km/s,31.7uJy/beam@native, XX YY]</td><td>21519.167249413553</td><td>XX YY</td><td>2015-07-01T21:49:06</td><td>Sturm, Eckhard</td><td>IRASF14378_B3_12m</td><td>Garcia-Burillo, Santiago; Gracia-Carpio, Javier; Lutz, Dieter; Sternberg, Amiel; Hailey-Dunsheath, Steven; Cicone, Claudia; Fischer, Jacqueline; Contursi, Alessandra; Poglitsch, Albrecht; Aalto, Susanne; Verma, Aprajita; Genzel, Reinhard; Weiss, Axel; Tacconi, Linda; Davies, Richard; Maiolino, Roberto; Gonzalez-Alfonso, Eduardo; Feruglio, Chiara; Christopher, Natalie; Veilleux, Sylvain;</td><td>0.7116545928799166</td><td>0.014926249180568986</td><td>3.6675372</td><td>uid://A002/X7d1738/X14b</td><td>uid://A002/X7d1738/X14c</td><td>uid://A002/Xa4dcb9/X1f8</td><td>Massive molecular outflows and negative feedback in active galaxies</td><td>S</td><td>TARGET</td><td>62.40654133414068</td><td>3.368191991347697</td><td>Y</td><td>1</td><td>Outflows, jets, feedback, Luminous and Ultra-Luminous Infra-Red Galaxies (LIRG &amp; ULIRG)</td><td>Active galaxies</td><td>2012.1.00306.S</td><td>[array([93.05, 95.03]), array([94.92, 96.91]), array([105.11, 106.98]), array([106.98, 108.85])]</td><td>IRASF14378-3651</td><td>2MASX J14405901-3704322</td><td>220.24587</td><td>-37.07554</td><td>0.067637</td><td>False</td><td>False</td><td>True</td></tr>\n",
       "</table>"
      ],
      "text/plain": [
       "<Table masked=True length=2>\n",
       " Project code  ALMA source name      ALMA RA       ... 13CO J=1-0 12CO J=1-0\n",
       "                                       deg         ...                      \n",
       "   bytes64         bytes256          float64       ...    bool       bool   \n",
       "-------------- ---------------- ------------------ ... ---------- ----------\n",
       "2018.1.00503.S  IRAS_14378-3651 220.24589583328856 ...      False       True\n",
       "2012.1.00306.S  IRASF14378-3651 220.24587500000004 ...      False       True"
      ]
     },
     "metadata": {},
     "output_type": "display_data"
    },
    {
     "data": {
      "text/html": [
       "<i>Table masked=True length=10</i>\n",
       "<table id=\"table4451777448\" class=\"table-striped table-bordered table-condensed\">\n",
       "<thead><tr><th>Project code</th><th>ALMA source name</th><th>ALMA RA</th><th>ALMA Dec</th><th>Galactic longitude</th><th>Galactic latitude</th><th>Band</th><th>Spatial resolution</th><th>Frequency resolution</th><th>Array</th><th>Mosaic</th><th>Integration</th><th>Release date</th><th>Frequency support</th><th>Velocity resolution</th><th>Pol products</th><th>Observation date</th><th>PI name</th><th>SB name</th><th>Proposal authors</th><th>Line sensitivity (10 km/s)</th><th>Continuum sensitivity</th><th>PWV</th><th>Group ous id</th><th>Member ous id</th><th>Asdm uid</th><th>Project title</th><th>Project type</th><th>Scan intent</th><th>Field of view</th><th>Largest angular scale</th><th>QA2 Status</th><th>COUNT</th><th>Science keyword</th><th>Scientific category</th><th>ASA_PROJECT_CODE</th><th>Frequency ranges [4,2]</th><th>ALMA sanitized source name</th><th>NED source name</th><th>NED RA</th><th>NED Dec</th><th>NED Redshift</th><th>C18O J=1-0</th><th>13CO J=1-0</th><th>12CO J=1-0</th></tr></thead>\n",
       "<thead><tr><th></th><th></th><th>deg</th><th>deg</th><th>deg</th><th>deg</th><th></th><th></th><th>kHz</th><th></th><th></th><th>s</th><th></th><th>GHz</th><th>m / s</th><th></th><th></th><th></th><th></th><th></th><th></th><th>mJy/beam</th><th>mm</th><th></th><th></th><th></th><th></th><th></th><th></th><th>arcs</th><th>arcs</th><th></th><th></th><th></th><th></th><th></th><th>GHz</th><th></th><th></th><th>degrees</th><th>degrees</th><th></th><th></th><th></th><th></th></tr></thead>\n",
       "<thead><tr><th>bytes64</th><th>bytes256</th><th>float64</th><th>float64</th><th>float64</th><th>float64</th><th>object</th><th>float64</th><th>float64</th><th>object</th><th>object</th><th>float64</th><th>object</th><th>bytes2700</th><th>float64</th><th>bytes64</th><th>object</th><th>bytes256</th><th>bytes128</th><th>bytes512</th><th>float64</th><th>float64</th><th>float32</th><th>bytes64</th><th>bytes64</th><th>bytes32</th><th>bytes256</th><th>bytes16</th><th>bytes256</th><th>float64</th><th>float64</th><th>bytes1</th><th>int64</th><th>bytes200</th><th>bytes200</th><th>bytes64</th><th>float64</th><th>str6</th><th>bytes30</th><th>float64</th><th>float64</th><th>float64</th><th>bool</th><th>bool</th><th>bool</th></tr></thead>\n",
       "<tr><td>2015.1.00113.S</td><td>ARP220</td><td>233.7384041666667</td><td>23.50317777777778</td><td>36.627305952700226</td><td>53.02850549164822</td><td>[3]</td><td>0.05044450856909384</td><td>3906.0786078211913</td><td>12m</td><td></td><td>1632.96</td><td>2016-11-27</td><td>[98.41..100.29GHz,3906.08kHz,782.5uJy/beam@10km/s,32.9uJy/beam@native, XX YY] U [100.31..102.18GHz,3906.08kHz,782.5uJy/beam@10km/s,33.2uJy/beam@native, XX YY] U [110.36..112.23GHz,3906.08kHz,898.7uJy/beam@10km/s,40uJy/beam@native, XX YY] U [112.29..114.17GHz,3906.08kHz,1mJy/beam@10km/s,46.9uJy/beam@native, XX YY]</td><td>10256.502457528233</td><td>XX YY</td><td>2015-10-27T16:36:13</td><td>Scoville, Nick</td><td>ARP220_a_03_TE</td><td>Torrey, Paul; Koda, Jin; Walter, Fabian; Murchikova, Lena; Hernquist, Lars; Sanders, David; Hayward, Christopher; Cox, Pierre; Barnes, Joshua; Thompson, Todd; Robertson, Brant; Vanden Bout, Paul; van der Werf, Paul; Decarli, Roberto; Genzel, Reinhard; Armus, Lee; Tacconi, Linda; Vlahakis, Catherine; Sheth, Kartik;</td><td>0.7824880706444973</td><td>0.018536834641801184</td><td>1.0464419</td><td>uid://A001/X2d6/X2e</td><td>uid://A001/X2d6/X2f</td><td>uid://A002/Xac2df7/X1967</td><td>Arp 220 Nuclear Disks at 50 mas Resolution</td><td>S</td><td>TARGET</td><td>59.27163314690586</td><td>0.38962803146741254</td><td>Y</td><td>3</td><td>Luminous and Ultra-Luminous Infra-Red Galaxies (LIRG &amp; ULIRG)</td><td>Galaxy evolution</td><td>2015.1.00113.S</td><td>98.41 .. 114.17</td><td>ARP220</td><td>ARP 220</td><td>233.73856</td><td>23.50314</td><td>0.018126</td><td>False</td><td>False</td><td>True</td></tr>\n",
       "<tr><td>2015.1.00113.S</td><td>ARP220</td><td>233.7384041666667</td><td>23.50317777777778</td><td>36.627305952700226</td><td>53.02850549164822</td><td>[3]</td><td>0.053279525709232764</td><td>3906.0797615918846</td><td>12m</td><td></td><td>1215.648</td><td>2016-11-27</td><td>[94.06..95.94GHz,3906.08kHz,921.4uJy/beam@10km/s,37.9uJy/beam@native, XX YY] U [95.94..97.81GHz,3906.08kHz,913.9uJy/beam@10km/s,37.9uJy/beam@native, XX YY] U [106.56..108.44GHz,3906.08kHz,930.9uJy/beam@10km/s,40.7uJy/beam@native, XX YY] U [107.94..109.81GHz,3906.08kHz,953.9uJy/beam@10km/s,42uJy/beam@native, XX YY]</td><td>10663.470009062945</td><td>XX YY</td><td>2015-10-18T17:29:47</td><td>Scoville, Nick</td><td>ARP220_b_03_TE</td><td>Torrey, Paul; Koda, Jin; Walter, Fabian; Murchikova, Lena; Hernquist, Lars; Sanders, David; Hayward, Christopher; Cox, Pierre; Barnes, Joshua; Thompson, Todd; Robertson, Brant; Vanden Bout, Paul; van der Werf, Paul; Decarli, Roberto; Genzel, Reinhard; Armus, Lee; Tacconi, Linda; Vlahakis, Catherine; Sheth, Kartik;</td><td>0.9138933291732583</td><td>0.019754150475718615</td><td>1.0218359</td><td>uid://A001/X2d6/X32</td><td>uid://A001/X2d6/X33</td><td>uid://A002/Xac2df7/X1b18</td><td>Arp 220 Nuclear Disks at 50 mas Resolution</td><td>S</td><td>TARGET</td><td>61.80306659404423</td><td>0.5478316056798604</td><td>Y</td><td>3</td><td>Luminous and Ultra-Luminous Infra-Red Galaxies (LIRG &amp; ULIRG)</td><td>Galaxy evolution</td><td>2015.1.00113.S</td><td>94.06 .. 109.81</td><td>ARP220</td><td>ARP 220</td><td>233.73856</td><td>23.50314</td><td>0.018126</td><td>True</td><td>True</td><td>False</td></tr>\n",
       "<tr><td>2015.1.00113.S</td><td>ARP220</td><td>233.73840416671834</td><td>23.50317777778901</td><td>36.627305952737856</td><td>53.028505491605166</td><td>[3]</td><td>0.4838313038510857</td><td>3906.2872119731464</td><td>12m</td><td></td><td>483.84</td><td>2017-11-19</td><td>[94.06..95.94GHz,3906.29kHz,1.5mJy/beam@10km/s,60.9uJy/beam@native, XX YY] U [95.94..97.81GHz,3906.29kHz,1.5mJy/beam@10km/s,61.1uJy/beam@native, XX YY] U [106.56..108.44GHz,3906.29kHz,1.5mJy/beam@10km/s,66uJy/beam@native, XX YY] U [107.94..109.81GHz,3906.29kHz,1.5mJy/beam@10km/s,68.1uJy/beam@native, XX YY]</td><td>10664.597821039306</td><td>XX YY</td><td>2016-09-04T23:05:11</td><td>Scoville, Nick</td><td>ARP220_d_03_TE</td><td>Torrey, Paul; Koda, Jin; Walter, Fabian; Murchikova, Lena; Hernquist, Lars; Sanders, David; Hayward, Christopher; Cox, Pierre; Barnes, Joshua; Thompson, Todd; Robertson, Brant; Vanden Bout, Paul; van der Werf, Paul; Decarli, Roberto; Genzel, Reinhard; Armus, Lee; Tacconi, Linda; Vlahakis, Catherine; Sheth, Kartik;</td><td>1.4719337778903994</td><td>0.031906308730580625</td><td>1.9294773</td><td>uid://A001/X2d6/X48</td><td>uid://A001/X2d6/X49</td><td>uid://A002/Xb7a3f8/X9513</td><td>Arp 220 Nuclear Disks at 50 mas Resolution</td><td>S</td><td>TARGET</td><td>61.80304306329056</td><td>2.425079524681709</td><td>Y</td><td>3</td><td>Luminous and Ultra-Luminous Infra-Red Galaxies (LIRG &amp; ULIRG)</td><td>Galaxy evolution</td><td>2015.1.00113.S</td><td>94.06 .. 109.81</td><td>ARP220</td><td>ARP 220</td><td>233.73856</td><td>23.50314</td><td>0.018126</td><td>True</td><td>True</td><td>False</td></tr>\n",
       "<tr><td>2015.1.00167.S</td><td>Arp220</td><td>233.73862916663217</td><td>23.50291111111523</td><td>36.62696198379416</td><td>53.02823924048599</td><td>[3]</td><td>0.5446771638858969</td><td>7812.620032978749</td><td>12m</td><td></td><td>967.68</td><td>2017-12-12</td><td>[98.36..100.23GHz,7812.62kHz,1.1mJy/beam@10km/s,45.3uJy/beam@native, XX YY] U [100.13..102.00GHz,7812.62kHz,1.1mJy/beam@10km/s,45.6uJy/beam@native, XX YY] U [110.36..112.23GHz,7812.62kHz,1.2mJy/beam@10km/s,54.9uJy/beam@native, XX YY] U [112.13..114.00GHz,7812.62kHz,1.4mJy/beam@10km/s,63.3uJy/beam@native, XX YY]</td><td>20545.180242456318</td><td>XX YY</td><td>2016-08-20T20:40:25</td><td>Martin, Sergio</td><td>Arp220_e_03_TE</td><td>Krips, Melanie; Garcia-Burillo, Santiago; Martin-Pintado, Jesus; Muehle, Stefanie; Harada, Nanase; Sakamoto, Kazushi; Aladro, Rebeca; van der Werf, Paul; Viti, Serena; Aalto, Susanne; Muller, Sebastien; Costagliola, Francesco; Henkel, Christian;</td><td>1.0749573961305148</td><td>0.025398225961024052</td><td>0.546057</td><td>uid://A001/X2fe/Xcdd</td><td>uid://A001/X2fe/Xcde</td><td>uid://A002/Xb6fb6f/X30d4</td><td>Spatially resolved wideband spectroscopy in ULIRG obscured nuclei II</td><td>S</td><td>TARGET</td><td>59.332360257545595</td><td>2.474002722976011</td><td>Y</td><td>0</td><td>Galaxy chemistry, Luminous and Ultra-Luminous Infra-Red Galaxies (LIRG &amp; ULIRG)</td><td>Galaxy evolution</td><td>2015.1.00167.S</td><td>98.36 .. 114.0</td><td>ARP220</td><td>ARP 220</td><td>233.73856</td><td>23.50314</td><td>0.018126</td><td>False</td><td>False</td><td>True</td></tr>\n",
       "<tr><td>2015.1.00167.S</td><td>Arp220</td><td>233.73862916664658</td><td>23.502911111112418</td><td>36.62696198379513</td><td>53.028239240472494</td><td>[3]</td><td>0.5070505257793383</td><td>7812.613604801035</td><td>12m</td><td></td><td>967.68</td><td>2017-12-15</td><td>[94.81..96.68GHz,7812.61kHz,1.2mJy/beam@10km/s,50.8uJy/beam@native, XX YY] U [96.58..98.45GHz,7812.61kHz,1.2mJy/beam@10km/s,50.7uJy/beam@native, XX YY] U [106.81..108.68GHz,7812.61kHz,1.3mJy/beam@10km/s,55.1uJy/beam@native, XX YY] U [108.58..110.45GHz,7812.61kHz,1.3mJy/beam@10km/s,58.2uJy/beam@native, XX YY]</td><td>21205.442752925406</td><td>XX YY</td><td>2016-08-23T21:10:04</td><td>Martin, Sergio</td><td>Arp220_d_03_TE</td><td>Krips, Melanie; Garcia-Burillo, Santiago; Martin-Pintado, Jesus; Muehle, Stefanie; Harada, Nanase; Sakamoto, Kazushi; Aladro, Rebeca; van der Werf, Paul; Viti, Serena; Aalto, Susanne; Muller, Sebastien; Costagliola, Francesco; Henkel, Christian;</td><td>1.2181162067839193</td><td>0.026724823904649957</td><td>1.9208107</td><td>uid://A001/X2fe/Xcd9</td><td>uid://A001/X2fe/Xcda</td><td>uid://A002/Xb7189f/X7864</td><td>Spatially resolved wideband spectroscopy in ULIRG obscured nuclei II</td><td>S</td><td>TARGET</td><td>61.38453781100242</td><td>2.514093347920131</td><td>Y</td><td>0</td><td>Galaxy chemistry, Luminous and Ultra-Luminous Infra-Red Galaxies (LIRG &amp; ULIRG)</td><td>Galaxy evolution</td><td>2015.1.00167.S</td><td>94.81 .. 110.45</td><td>ARP220</td><td>ARP 220</td><td>233.73856</td><td>23.50314</td><td>0.018126</td><td>True</td><td>True</td><td>False</td></tr>\n",
       "<tr><td>2015.1.00113.S</td><td>ARP220</td><td>233.73840416669236</td><td>23.50317777778138</td><td>36.62730595271577</td><td>53.02850549162631</td><td>[3]</td><td>0.40461948816483573</td><td>3906.27989561073</td><td>12m</td><td></td><td>1330.56</td><td>2018-07-17</td><td>[98.41..100.29GHz,3906.28kHz,1.2mJy/beam@10km/s,49.1uJy/beam@native, XX YY] U [100.31..102.18GHz,3906.28kHz,1.2mJy/beam@10km/s,49.5uJy/beam@native, XX YY] U [110.36..112.23GHz,3906.28kHz,1.3mJy/beam@10km/s,59.6uJy/beam@native, XX YY] U [112.29..114.17GHz,3906.28kHz,1.6mJy/beam@10km/s,70uJy/beam@native, XX YY]</td><td>10257.554832823467</td><td>XX YY</td><td>2016-09-04T22:37:38</td><td>Scoville, Nick</td><td>ARP220_c_03_TE</td><td>Torrey, Paul; Koda, Jin; Walter, Fabian; Murchikova, Lena; Hernquist, Lars; Sanders, David; Hayward, Christopher; Cox, Pierre; Barnes, Joshua; Thompson, Todd; Robertson, Brant; Vanden Bout, Paul; van der Werf, Paul; Decarli, Roberto; Genzel, Reinhard; Armus, Lee; Tacconi, Linda; Vlahakis, Catherine; Sheth, Kartik;</td><td>1.1668308432440675</td><td>0.027641803991879297</td><td>1.0759993</td><td>uid://A001/X2d6/X44</td><td>uid://A001/X2d6/X45</td><td>uid://A002/Xb7a3f8/X941b</td><td>Arp 220 Nuclear Disks at 50 mas Resolution</td><td>S</td><td>TARGET</td><td>59.27167755920384</td><td>2.3432809251755247</td><td>Y</td><td>3</td><td>Luminous and Ultra-Luminous Infra-Red Galaxies (LIRG &amp; ULIRG)</td><td>Galaxy evolution</td><td>2015.1.00113.S</td><td>98.41 .. 114.17</td><td>ARP220</td><td>ARP 220</td><td>233.73856</td><td>23.50314</td><td>0.018126</td><td>False</td><td>False</td><td>True</td></tr>\n",
       "<tr><td>2017.1.00042.S</td><td>ARP220</td><td>233.73843333330217</td><td>23.50318916667</td><td>36.62733536968483</td><td>53.028482424336694</td><td>[3]</td><td>0.09499703211970881</td><td>976.4962484675956</td><td>12m</td><td></td><td>2122.848</td><td>2018-12-02</td><td>[94.06..95.94GHz,976.50kHz,657.2uJy/beam@10km/s,27uJy/beam@native, XX YY] U [95.88..97.87GHz,31247.88kHz,654uJy/beam@10km/s,26.3uJy/beam@native, XX YY] U [106.51..108.49GHz,31247.88kHz,675.9uJy/beam@10km/s,28.6uJy/beam@native, XX YY] U [107.88..109.87GHz,31247.88kHz,692.9uJy/beam@10km/s,29.5uJy/beam@native, XX YY]</td><td>3051.228923472357</td><td>XX YY</td><td>2017-11-14T15:20:20</td><td>Scoville, Nick</td><td>ARP220_c_03_TM1</td><td>Koda, Jin; Walter, Fabian; Murchikova, Lena; Hernquist, Lars; Sanders, David; Hayward, Christopher; Barnes, Joshua; Thompson, Todd; Vanden Bout, Paul; Zschaechner, Laura; Yun, Min; Armus, Lee; Tacconi, Linda; Vlahakis, Catherine; Sheth, Kartik;</td><td>0.6540069615998098</td><td>0.013887624754324954</td><td>4.2110424</td><td>uid://A001/X1288/Xd60</td><td>uid://A001/X1288/Xd61</td><td>uid://A002/Xc6d2f9/X431f</td><td>Arp 220 Nuclear Disks at 0.027-0.05&apos;&apos; Resolution</td><td>S</td><td>TARGET</td><td>61.78592572419391</td><td>0.832956554067537</td><td>Y</td><td>0</td><td>Starbursts, star formation, Merging and interacting galaxies</td><td>Active galaxies</td><td>2017.1.00042.S</td><td>94.06 .. 109.87</td><td>ARP220</td><td>ARP 220</td><td>233.73856</td><td>23.50314</td><td>0.018126</td><td>True</td><td>True</td><td>False</td></tr>\n",
       "<tr><td>2017.1.00042.S</td><td>ARP220</td><td>233.7384333333084</td><td>23.503189166668733</td><td>36.62733536968517</td><td>53.028482424330875</td><td>[3]</td><td>0.1110934623721982</td><td>976.4937770664418</td><td>12m</td><td></td><td>2812.32</td><td>2019-01-04</td><td>[98.36..100.34GHz,31247.80kHz,541.4uJy/beam@10km/s,22uJy/beam@native, XX YY] U [100.24..102.23GHz,31247.80kHz,541.4uJy/beam@10km/s,22.2uJy/beam@native, XX YY] U [110.28..112.27GHz,31247.80kHz,621.5uJy/beam@10km/s,26.8uJy/beam@native, XX YY] U [112.29..114.17GHz,976.49kHz,723.4uJy/beam@10km/s,32.5uJy/beam@native, XX YY]</td><td>2563.953486080242</td><td>XX YY</td><td>2017-11-16T15:26:23</td><td>Scoville, Nick</td><td>ARP220_b_03_TM1</td><td>Koda, Jin; Walter, Fabian; Murchikova, Lena; Hernquist, Lars; Sanders, David; Hayward, Christopher; Barnes, Joshua; Thompson, Todd; Vanden Bout, Paul; Zschaechner, Laura; Yun, Min; Armus, Lee; Tacconi, Linda; Vlahakis, Catherine; Sheth, Kartik;</td><td>0.5413680017929067</td><td>0.012477539329992189</td><td>1.1511917</td><td>uid://A001/X1288/Xd5c</td><td>uid://A001/X1288/Xd5d</td><td>uid://A002/Xc6e968/X41cf</td><td>Arp 220 Nuclear Disks at 0.027-0.05&apos;&apos; Resolution</td><td>S</td><td>TARGET</td><td>59.28652231283213</td><td>1.0025363564557457</td><td>Y</td><td>0</td><td>Starbursts, star formation, Merging and interacting galaxies</td><td>Active galaxies</td><td>2017.1.00042.S</td><td>98.36 .. 114.17</td><td>ARP220</td><td>ARP 220</td><td>233.73856</td><td>23.50314</td><td>0.018126</td><td>False</td><td>False</td><td>True</td></tr>\n",
       "<tr><td>2017.1.00042.S</td><td>ARP220</td><td>233.73843333337174</td><td>23.503189166672037</td><td>36.6273353697145</td><td>53.028482424275424</td><td>[3]</td><td>0.32814923895087994</td><td>976.45030733727</td><td>12m</td><td></td><td>3084.48</td><td>2019-01-26</td><td>[98.36..100.34GHz,31246.60kHz,818.5uJy/beam@10km/s,33.3uJy/beam@native, XX YY] U [100.24..102.23GHz,31246.60kHz,820.6uJy/beam@10km/s,33.7uJy/beam@native, XX YY] U [110.28..112.27GHz,31246.60kHz,947.5uJy/beam@10km/s,40.8uJy/beam@native, XX YY] U [112.29..114.17GHz,976.46kHz,1.1mJy/beam@10km/s,49.2uJy/beam@native, XX YY]</td><td>2563.7261470781546</td><td>XX YY</td><td>2017-12-14T15:35:42</td><td>Scoville, Nick</td><td>ARP220_a_03_TM2</td><td>Koda, Jin; Walter, Fabian; Murchikova, Lena; Hernquist, Lars; Sanders, David; Hayward, Christopher; Barnes, Joshua; Thompson, Todd; Vanden Bout, Paul; Zschaechner, Laura; Yun, Min; Armus, Lee; Tacconi, Linda; Vlahakis, Catherine; Sheth, Kartik;</td><td>0.8184526680379411</td><td>0.018917087588161047</td><td>3.953352</td><td>uid://A001/X1288/Xd52</td><td>uid://A001/X1288/Xd55</td><td>uid://A002/Xc7e4e4/X361a</td><td>Arp 220 Nuclear Disks at 0.027-0.05&apos;&apos; Resolution</td><td>S</td><td>TARGET</td><td>59.2865217314806</td><td>3.0842070191081867</td><td>Y</td><td>0</td><td>Starbursts, star formation, Merging and interacting galaxies</td><td>Active galaxies</td><td>2017.1.00042.S</td><td>98.36 .. 114.17</td><td>ARP220</td><td>ARP 220</td><td>233.73856</td><td>23.50314</td><td>0.018126</td><td>False</td><td>False</td><td>True</td></tr>\n",
       "<tr><td>2017.1.00042.S</td><td>ARP220</td><td>233.7384333332796</td><td>23.503189166679903</td><td>36.62733536969219</td><td>53.028482424359225</td><td>[3]</td><td>0.05883011459793332</td><td>976.504805927172</td><td>12m</td><td></td><td>4154.976</td><td>NaT</td><td>[98.36..100.34GHz,31248.28kHz,564uJy/beam@10km/s,23uJy/beam@native, XX YY] U [100.24..102.23GHz,31248.28kHz,563.7uJy/beam@10km/s,23.2uJy/beam@native, XX YY] U [110.28..112.27GHz,31248.28kHz,646.6uJy/beam@10km/s,27.9uJy/beam@native, XX YY] U [112.29..114.17GHz,976.51kHz,753.4uJy/beam@10km/s,33.8uJy/beam@native, XX YY]</td><td>2564.0111931979563</td><td>XX YY</td><td>2017-11-01T15:13:58</td><td>Scoville, Nick</td><td>ARP220_a_03_TM1</td><td>Koda, Jin; Walter, Fabian; Murchikova, Lena; Hernquist, Lars; Sanders, David; Hayward, Christopher; Barnes, Joshua; Thompson, Todd; Vanden Bout, Paul; Zschaechner, Laura; Yun, Min; Armus, Lee; Tacconi, Linda; Vlahakis, Catherine; Sheth, Kartik;</td><td>0.5636972199784781</td><td>0.01299199832112588</td><td>0.9077588</td><td>uid://A001/X1288/Xd52</td><td>uid://A001/X1288/Xd53</td><td>uid://A002/Xc64412/X6d84</td><td>Arp 220 Nuclear Disks at 0.027-0.05&apos;&apos; Resolution</td><td>S</td><td>TARGET</td><td>59.28652315835306</td><td>0.682226892858946</td><td></td><td>0</td><td>Starbursts, star formation, Merging and interacting galaxies</td><td>Active galaxies</td><td>2017.1.00042.S</td><td>98.36 .. 114.17</td><td>ARP220</td><td>ARP 220</td><td>233.73856</td><td>23.50314</td><td>0.018126</td><td>False</td><td>False</td><td>True</td></tr>\n",
       "</table>"
      ],
      "text/plain": [
       "<Table masked=True length=10>\n",
       " Project code  ALMA source name      ALMA RA       ... 13CO J=1-0 12CO J=1-0\n",
       "                                       deg         ...                      \n",
       "   bytes64         bytes256          float64       ...    bool       bool   \n",
       "-------------- ---------------- ------------------ ... ---------- ----------\n",
       "2015.1.00113.S           ARP220  233.7384041666667 ...      False       True\n",
       "2015.1.00113.S           ARP220  233.7384041666667 ...       True      False\n",
       "2015.1.00113.S           ARP220 233.73840416671834 ...       True      False\n",
       "2015.1.00167.S           Arp220 233.73862916663217 ...      False       True\n",
       "2015.1.00167.S           Arp220 233.73862916664658 ...       True      False\n",
       "2015.1.00113.S           ARP220 233.73840416669236 ...      False       True\n",
       "2017.1.00042.S           ARP220 233.73843333330217 ...       True      False\n",
       "2017.1.00042.S           ARP220  233.7384333333084 ...      False       True\n",
       "2017.1.00042.S           ARP220 233.73843333337174 ...      False       True\n",
       "2017.1.00042.S           ARP220  233.7384333332796 ...      False       True"
      ]
     },
     "metadata": {},
     "output_type": "display_data"
    },
    {
     "data": {
      "text/html": [
       "<i>Table masked=True length=1</i>\n",
       "<table id=\"table4440319536\" class=\"table-striped table-bordered table-condensed\">\n",
       "<thead><tr><th>Project code</th><th>ALMA source name</th><th>ALMA RA</th><th>ALMA Dec</th><th>Galactic longitude</th><th>Galactic latitude</th><th>Band</th><th>Spatial resolution</th><th>Frequency resolution</th><th>Array</th><th>Mosaic</th><th>Integration</th><th>Release date</th><th>Frequency support</th><th>Velocity resolution</th><th>Pol products</th><th>Observation date</th><th>PI name</th><th>SB name</th><th>Proposal authors</th><th>Line sensitivity (10 km/s)</th><th>Continuum sensitivity</th><th>PWV</th><th>Group ous id</th><th>Member ous id</th><th>Asdm uid</th><th>Project title</th><th>Project type</th><th>Scan intent</th><th>Field of view</th><th>Largest angular scale</th><th>QA2 Status</th><th>COUNT</th><th>Science keyword</th><th>Scientific category</th><th>ASA_PROJECT_CODE</th><th>Frequency ranges [4,2]</th><th>ALMA sanitized source name</th><th>NED source name</th><th>NED RA</th><th>NED Dec</th><th>NED Redshift</th><th>C18O J=1-0</th><th>13CO J=1-0</th><th>12CO J=1-0</th></tr></thead>\n",
       "<thead><tr><th></th><th></th><th>deg</th><th>deg</th><th>deg</th><th>deg</th><th></th><th></th><th>kHz</th><th></th><th></th><th>s</th><th></th><th>GHz</th><th>m / s</th><th></th><th></th><th></th><th></th><th></th><th></th><th>mJy/beam</th><th>mm</th><th></th><th></th><th></th><th></th><th></th><th></th><th>arcs</th><th>arcs</th><th></th><th></th><th></th><th></th><th></th><th>GHz</th><th></th><th></th><th>degrees</th><th>degrees</th><th></th><th></th><th></th><th></th></tr></thead>\n",
       "<thead><tr><th>bytes64</th><th>bytes256</th><th>float64</th><th>float64</th><th>float64</th><th>float64</th><th>object</th><th>float64</th><th>float64</th><th>object</th><th>object</th><th>float64</th><th>object</th><th>bytes2700</th><th>float64</th><th>bytes64</th><th>object</th><th>bytes256</th><th>bytes128</th><th>bytes512</th><th>float64</th><th>float64</th><th>float32</th><th>bytes64</th><th>bytes64</th><th>bytes32</th><th>bytes256</th><th>bytes16</th><th>bytes256</th><th>float64</th><th>float64</th><th>bytes1</th><th>int64</th><th>bytes200</th><th>bytes200</th><th>bytes64</th><th>float64</th><th>str15</th><th>bytes30</th><th>float64</th><th>float64</th><th>float64</th><th>bool</th><th>bool</th><th>bool</th></tr></thead>\n",
       "<tr><td>2012.1.00306.S</td><td>IRASF05189-2524</td><td>80.25612500000001</td><td>-25.36261111111111</td><td>227.88913623665917</td><td>-30.29253490036127</td><td>[3]</td><td>0.4842542031718837</td><td>7812.499984810142</td><td>12m</td><td></td><td>5261.76</td><td>2016-10-31</td><td>[95.68..97.67GHz,31250.01kHz,723.1uJy/beam@10km/s,29uJy/beam@native, XX YY] U [97.56..99.54GHz,31250.01kHz,717.5uJy/beam@10km/s,29.1uJy/beam@native, XX YY] U [107.74..109.61GHz,7812.50kHz,735.4uJy/beam@10km/s,32.3uJy/beam@native, XX YY] U [109.62..111.49GHz,7812.50kHz,768.8uJy/beam@10km/s,34.1uJy/beam@native, XX YY]</td><td>21007.860476381265</td><td>XX YY</td><td>2015-09-03T10:55:01</td><td>Sturm, Eckhard</td><td>IRASF05189_B3_12m</td><td>Garcia-Burillo, Santiago; Gracia-Carpio, Javier; Lutz, Dieter; Sternberg, Amiel; Hailey-Dunsheath, Steven; Cicone, Claudia; Fischer, Jacqueline; Contursi, Alessandra; Poglitsch, Albrecht; Aalto, Susanne; Verma, Aprajita; Genzel, Reinhard; Weiss, Axel; Tacconi, Linda; Davies, Richard; Maiolino, Roberto; Gonzalez-Alfonso, Eduardo; Feruglio, Chiara; Christopher, Natalie; Veilleux, Sylvain;</td><td>0.7174642053045281</td><td>0.015458888364523648</td><td>2.6916893</td><td>uid://A002/X7d1738/X153</td><td>uid://A002/X7d1738/X154</td><td>uid://A002/Xa98f9c/X2cf6</td><td>Massive molecular outflows and negative feedback in active galaxies</td><td>S</td><td>TARGET</td><td>60.81880775943823</td><td>2.7042789876938147</td><td>Y</td><td>1</td><td>Outflows, jets, feedback, Luminous and Ultra-Luminous Infra-Red Galaxies (LIRG &amp; ULIRG)</td><td>Active galaxies</td><td>2012.1.00306.S</td><td>95.68 .. 111.49</td><td>IRASF05189-2524</td><td>2MASX J05210136-2521450</td><td>80.2558</td><td>-25.3626</td><td>0.042563</td><td>False</td><td>False</td><td>True</td></tr>\n",
       "</table>"
      ],
      "text/plain": [
       "<Table masked=True length=1>\n",
       " Project code  ALMA source name      ALMA RA      ... 13CO J=1-0 12CO J=1-0\n",
       "                                       deg        ...                      \n",
       "   bytes64         bytes256          float64      ...    bool       bool   \n",
       "-------------- ---------------- ----------------- ... ---------- ----------\n",
       "2012.1.00306.S  IRASF05189-2524 80.25612500000001 ...      False       True"
      ]
     },
     "metadata": {},
     "output_type": "display_data"
    },
    {
     "data": {
      "text/html": [
       "<i>Table masked=True length=1</i>\n",
       "<table id=\"table4455905488\" class=\"table-striped table-bordered table-condensed\">\n",
       "<thead><tr><th>Project code</th><th>ALMA source name</th><th>ALMA RA</th><th>ALMA Dec</th><th>Galactic longitude</th><th>Galactic latitude</th><th>Band</th><th>Spatial resolution</th><th>Frequency resolution</th><th>Array</th><th>Mosaic</th><th>Integration</th><th>Release date</th><th>Frequency support</th><th>Velocity resolution</th><th>Pol products</th><th>Observation date</th><th>PI name</th><th>SB name</th><th>Proposal authors</th><th>Line sensitivity (10 km/s)</th><th>Continuum sensitivity</th><th>PWV</th><th>Group ous id</th><th>Member ous id</th><th>Asdm uid</th><th>Project title</th><th>Project type</th><th>Scan intent</th><th>Field of view</th><th>Largest angular scale</th><th>QA2 Status</th><th>COUNT</th><th>Science keyword</th><th>Scientific category</th><th>ASA_PROJECT_CODE</th><th>Frequency ranges [4,2]</th><th>ALMA sanitized source name</th><th>NED source name</th><th>NED RA</th><th>NED Dec</th><th>NED Redshift</th><th>C18O J=1-0</th><th>13CO J=1-0</th><th>12CO J=1-0</th></tr></thead>\n",
       "<thead><tr><th></th><th></th><th>deg</th><th>deg</th><th>deg</th><th>deg</th><th></th><th></th><th>kHz</th><th></th><th></th><th>s</th><th></th><th>GHz</th><th>m / s</th><th></th><th></th><th></th><th></th><th></th><th></th><th>mJy/beam</th><th>mm</th><th></th><th></th><th></th><th></th><th></th><th></th><th>arcs</th><th>arcs</th><th></th><th></th><th></th><th></th><th></th><th>GHz</th><th></th><th></th><th>degrees</th><th>degrees</th><th></th><th></th><th></th><th></th></tr></thead>\n",
       "<thead><tr><th>bytes64</th><th>bytes256</th><th>float64</th><th>float64</th><th>float64</th><th>float64</th><th>object</th><th>float64</th><th>float64</th><th>object</th><th>object</th><th>float64</th><th>object</th><th>bytes2700</th><th>float64</th><th>bytes64</th><th>object</th><th>bytes256</th><th>bytes128</th><th>bytes512</th><th>float64</th><th>float64</th><th>float32</th><th>bytes64</th><th>bytes64</th><th>bytes32</th><th>bytes256</th><th>bytes16</th><th>bytes256</th><th>float64</th><th>float64</th><th>bytes1</th><th>int64</th><th>bytes200</th><th>bytes200</th><th>bytes64</th><th>float64</th><th>str14</th><th>bytes30</th><th>float64</th><th>float64</th><th>float64</th><th>bool</th><th>bool</th><th>bool</th></tr></thead>\n",
       "<tr><td>2017.1.01306.S</td><td>IRAS10565+2448</td><td>164.82563749999255</td><td>24.542861111111296</td><td>212.45515461316938</td><td>64.68818312928177</td><td>[3]</td><td>0.6054315526544365</td><td>3906.0631839661633</td><td>12m</td><td></td><td>816.48</td><td>2019-10-17</td><td>[95.57..97.44GHz,3906.06kHz,1mJy/beam@10km/s,43.2uJy/beam@native, XX YY] U [97.28..99.15GHz,3906.06kHz,1mJy/beam@10km/s,43.2uJy/beam@native, XX YY] U [107.32..109.19GHz,3906.06kHz,1.1mJy/beam@10km/s,47.1uJy/beam@native, XX YY] U [109.14..111.02GHz,3906.06kHz,1.1mJy/beam@10km/s,49.8uJy/beam@native, XX YY]</td><td>10547.525782261595</td><td>XX YY</td><td>2018-09-29T14:35:01</td><td>Sliwa, Kazimierz</td><td>IRAS1056_a_03_TM1</td><td></td><td>1.0328612819509058</td><td>0.022791804439496823</td><td>1.0139252</td><td>uid://A001/X1284/X718</td><td>uid://A001/X1284/X719</td><td>uid://A002/Xd29c1f/X54d0</td><td>Tracing the Enrichment of the ISM in Extreme Starbursts</td><td>S</td><td>TARGET</td><td>60.9910267805818</td><td>3.8258171038203495</td><td>Y</td><td>0</td><td>Luminous and Ultra-Luminous Infra-Red Galaxies (LIRG &amp; ULIRG)</td><td>Galaxy evolution</td><td>2017.1.01306.S</td><td>95.57 .. 111.02</td><td>IRAS10565+2448</td><td>2MASX J10591815+2432343</td><td>164.82549</td><td>24.54291</td><td>0.0431</td><td>False</td><td>False</td><td>True</td></tr>\n",
       "</table>"
      ],
      "text/plain": [
       "<Table masked=True length=1>\n",
       " Project code  ALMA source name      ALMA RA       ... 13CO J=1-0 12CO J=1-0\n",
       "                                       deg         ...                      \n",
       "   bytes64         bytes256          float64       ...    bool       bool   \n",
       "-------------- ---------------- ------------------ ... ---------- ----------\n",
       "2017.1.01306.S   IRAS10565+2448 164.82563749999255 ...      False       True"
      ]
     },
     "metadata": {},
     "output_type": "display_data"
    },
    {
     "data": {
      "text/html": [
       "<i>Table masked=True length=2</i>\n",
       "<table id=\"table4453416352\" class=\"table-striped table-bordered table-condensed\">\n",
       "<thead><tr><th>Project code</th><th>ALMA source name</th><th>ALMA RA</th><th>ALMA Dec</th><th>Galactic longitude</th><th>Galactic latitude</th><th>Band</th><th>Spatial resolution</th><th>Frequency resolution</th><th>Array</th><th>Mosaic</th><th>Integration</th><th>Release date</th><th>Frequency support</th><th>Velocity resolution</th><th>Pol products</th><th>Observation date</th><th>PI name</th><th>SB name</th><th>Proposal authors</th><th>Line sensitivity (10 km/s)</th><th>Continuum sensitivity</th><th>PWV</th><th>Group ous id</th><th>Member ous id</th><th>Asdm uid</th><th>Project title</th><th>Project type</th><th>Scan intent</th><th>Field of view</th><th>Largest angular scale</th><th>QA2 Status</th><th>COUNT</th><th>Science keyword</th><th>Scientific category</th><th>ASA_PROJECT_CODE</th><th>Frequency ranges [4,2]</th><th>ALMA sanitized source name</th><th>NED source name</th><th>NED RA</th><th>NED Dec</th><th>NED Redshift</th><th>C18O J=1-0</th><th>13CO J=1-0</th><th>12CO J=1-0</th></tr></thead>\n",
       "<thead><tr><th></th><th></th><th>deg</th><th>deg</th><th>deg</th><th>deg</th><th></th><th></th><th>kHz</th><th></th><th></th><th>s</th><th></th><th>GHz</th><th>m / s</th><th></th><th></th><th></th><th></th><th></th><th></th><th>mJy/beam</th><th>mm</th><th></th><th></th><th></th><th></th><th></th><th></th><th>arcs</th><th>arcs</th><th></th><th></th><th></th><th></th><th></th><th>GHz</th><th></th><th></th><th>degrees</th><th>degrees</th><th></th><th></th><th></th><th></th></tr></thead>\n",
       "<thead><tr><th>bytes64</th><th>bytes256</th><th>float64</th><th>float64</th><th>float64</th><th>float64</th><th>object</th><th>float64</th><th>float64</th><th>object</th><th>object</th><th>float64</th><th>object</th><th>bytes2700</th><th>float64</th><th>bytes64</th><th>object</th><th>bytes256</th><th>bytes128</th><th>bytes512</th><th>float64</th><th>float64</th><th>float32</th><th>bytes64</th><th>bytes64</th><th>bytes32</th><th>bytes256</th><th>bytes16</th><th>bytes256</th><th>float64</th><th>float64</th><th>bytes1</th><th>int64</th><th>bytes200</th><th>bytes200</th><th>bytes64</th><th>float64</th><th>str14</th><th>bytes30</th><th>float64</th><th>float64</th><th>float64</th><th>bool</th><th>bool</th><th>bool</th></tr></thead>\n",
       "<tr><td>2016.1.00140.S</td><td>ESO148-ig002</td><td>348.9448833299702</td><td>-59.054427780003536</td><td>323.7250628355581</td><td>-54.04139719528</td><td>[3]</td><td>0.6268153059835923</td><td>3906.5387012137435</td><td>12m</td><td></td><td>151.2</td><td>2017-12-23</td><td>[95.42..97.41GHz,31252.31kHz,2.4mJy/beam@10km/s,96.6uJy/beam@native, XX YY] U [97.38..99.37GHz,31252.31kHz,2.4mJy/beam@10km/s,96.3uJy/beam@native, XX YY] U [107.42..109.41GHz,31252.31kHz,2.5mJy/beam@10km/s,104.2uJy/beam@native, XX YY] U [109.37..111.25GHz,3906.54kHz,2.6mJy/beam@10km/s,113.7uJy/beam@native, XX YY]</td><td>10528.313599235355</td><td>XX YY</td><td>2016-10-03T01:50:59</td><td>Iono, Daisuke</td><td>ESO148-i_a_03_TM1</td><td>Yun, Min; Ando, Misaki; Michiyama, Tomonari; Saito, Toshiki; Nakanishi, Kouichiro; Ueda, Junko; Bouché, Nicolas; Motohara, Kentaro; Yamashita, Takuji; Inami, Hanae;</td><td>2.377156687692308</td><td>0.05100220202994324</td><td>1.7431756</td><td>uid://A001/X879/X79f</td><td>uid://A001/X879/X7a0</td><td>uid://A002/Xb8f857/X401</td><td>Molecular Gas in Local Merging ULIRGs</td><td>S</td><td>TARGET</td><td>60.966935154356605</td><td>2.939821576638712</td><td>Y</td><td>1</td><td>Luminous and Ultra-Luminous Infra-Red Galaxies (LIRG &amp; ULIRG)</td><td>Galaxy evolution</td><td>2016.1.00140.S</td><td>95.42 .. 111.25</td><td>ESO148-IG002</td><td>ESO 148-IG 002</td><td>348.94479</td><td>-59.05432</td><td>0.044601</td><td>False</td><td>False</td><td>True</td></tr>\n",
       "<tr><td>2017.1.01398.S</td><td>IRAS_23128-5919</td><td>348.94488333329747</td><td>-59.05442777778617</td><td>323.72506283557925</td><td>-54.04139719808074</td><td>[3]</td><td>1.619502826033913</td><td>7812.381376765686</td><td>12m</td><td></td><td>8164.8</td><td>2019-03-21</td><td>[95.57..97.44GHz,7812.40kHz,578.3uJy/beam@10km/s,24uJy/beam@native, XX YY] U [97.26..99.13GHz,7812.40kHz,573.2uJy/beam@10km/s,24uJy/beam@native, XX YY] U [107.74..109.61GHz,7812.40kHz,595.3uJy/beam@10km/s,26.2uJy/beam@native, XX YY] U [109.43..111.30GHz,7812.40kHz,622.1uJy/beam@10km/s,27.6uJy/beam@native, XX YY]</td><td>21043.08818392174</td><td>XX YY</td><td>2018-03-10T14:19:04</td><td>Maiolino, Roberto</td><td>IRAS_231_a_03_TM1</td><td>Gallagher, Rob; Bellocchi, Enrica; Cazzoli, Sara; Russell, Helen; Cresci, Giovanni; Carniani, Stefano; Sturm, Eckhard; Arribas, Santiago ; Marconi, Alessandro; Mannucci, Filippo; Flütsch, Andrin; Colina, Luis; Ishibashi, Wako; Belfiore, Francesco; Fabian, Andrew; Caselli, Paola;</td><td>0.5731615413348223</td><td>0.012639296116653773</td><td>2.2277715</td><td>uid://A001/X1284/X223d</td><td>uid://A001/X1284/X223e</td><td>uid://A002/Xca2b8a/X70a4</td><td>Star formation inside galactic outflows: properties of the associated molecular gas and star formation efficiency</td><td>S</td><td>TARGET</td><td>60.90934402635599</td><td>11.815041091821213</td><td>Y</td><td>0</td><td>Outflows, jets, feedback</td><td>Active galaxies</td><td>2017.1.01398.S</td><td>95.57 .. 111.3</td><td>IRAS23128-5919</td><td>ESO 148-IG 002</td><td>348.94479</td><td>-59.05432</td><td>0.044601</td><td>False</td><td>False</td><td>True</td></tr>\n",
       "</table>"
      ],
      "text/plain": [
       "<Table masked=True length=2>\n",
       " Project code  ALMA source name      ALMA RA       ... 13CO J=1-0 12CO J=1-0\n",
       "                                       deg         ...                      \n",
       "   bytes64         bytes256          float64       ...    bool       bool   \n",
       "-------------- ---------------- ------------------ ... ---------- ----------\n",
       "2016.1.00140.S     ESO148-ig002  348.9448833299702 ...      False       True\n",
       "2017.1.01398.S  IRAS_23128-5919 348.94488333329747 ...      False       True"
      ]
     },
     "metadata": {},
     "output_type": "display_data"
    },
    {
     "data": {
      "text/html": [
       "<i>Table masked=True length=4</i>\n",
       "<table id=\"table4452658088\" class=\"table-striped table-bordered table-condensed\">\n",
       "<thead><tr><th>Project code</th><th>ALMA source name</th><th>ALMA RA</th><th>ALMA Dec</th><th>Galactic longitude</th><th>Galactic latitude</th><th>Band</th><th>Spatial resolution</th><th>Frequency resolution</th><th>Array</th><th>Mosaic</th><th>Integration</th><th>Release date</th><th>Frequency support</th><th>Velocity resolution</th><th>Pol products</th><th>Observation date</th><th>PI name</th><th>SB name</th><th>Proposal authors</th><th>Line sensitivity (10 km/s)</th><th>Continuum sensitivity</th><th>PWV</th><th>Group ous id</th><th>Member ous id</th><th>Asdm uid</th><th>Project title</th><th>Project type</th><th>Scan intent</th><th>Field of view</th><th>Largest angular scale</th><th>QA2 Status</th><th>COUNT</th><th>Science keyword</th><th>Scientific category</th><th>ASA_PROJECT_CODE</th><th>Frequency ranges [4,2]</th><th>ALMA sanitized source name</th><th>NED source name</th><th>NED RA</th><th>NED Dec</th><th>NED Redshift</th><th>C18O J=1-0</th><th>13CO J=1-0</th><th>12CO J=1-0</th></tr></thead>\n",
       "<thead><tr><th></th><th></th><th>deg</th><th>deg</th><th>deg</th><th>deg</th><th></th><th></th><th>kHz</th><th></th><th></th><th>s</th><th></th><th>GHz</th><th>m / s</th><th></th><th></th><th></th><th></th><th></th><th></th><th>mJy/beam</th><th>mm</th><th></th><th></th><th></th><th></th><th></th><th></th><th>arcs</th><th>arcs</th><th></th><th></th><th></th><th></th><th></th><th>GHz</th><th></th><th></th><th>degrees</th><th>degrees</th><th></th><th></th><th></th><th></th></tr></thead>\n",
       "<thead><tr><th>bytes64</th><th>bytes256</th><th>float64</th><th>float64</th><th>float64</th><th>float64</th><th>object</th><th>float64</th><th>float64</th><th>object</th><th>object</th><th>float64</th><th>object</th><th>bytes2700</th><th>float64</th><th>bytes64</th><th>object</th><th>bytes256</th><th>bytes128</th><th>bytes512</th><th>float64</th><th>float64</th><th>float32</th><th>bytes64</th><th>bytes64</th><th>bytes32</th><th>bytes256</th><th>bytes16</th><th>bytes256</th><th>float64</th><th>float64</th><th>bytes1</th><th>int64</th><th>bytes200</th><th>bytes200</th><th>bytes64</th><th>float64</th><th>str15</th><th>bytes30</th><th>float64</th><th>float64</th><th>float64</th><th>bool</th><th>bool</th><th>bool</th></tr></thead>\n",
       "<tr><td>2011.0.00099.S</td><td>am2055-425</td><td>314.611663</td><td>-42.650086</td><td>358.64090039986894</td><td>-40.79950909879711</td><td>[3]</td><td>1.5851527436418775</td><td>976.4997367331086</td><td>12m</td><td></td><td>544.32</td><td>2013-08-24</td><td>[96.18..98.06GHz,976.50kHz,3.4mJy/beam@10km/s,140.9uJy/beam@native, XX YY] U [97.52..99.39GHz,976.50kHz,3.4mJy/beam@10km/s,141.1uJy/beam@native, XX YY] U [107.88..109.75GHz,976.50kHz,3.5mJy/beam@10km/s,152.4uJy/beam@native, XX YY] U [109.57..111.45GHz,976.50kHz,3.6mJy/beam@10km/s,160.3uJy/beam@native, XX YY]</td><td>2626.5675747178216</td><td>XX YY</td><td>2012-05-05T10:55:19</td><td>Iono, Daisuke</td><td>group 7-B3-EXTENDED</td><td>Kaneko, Hiroyuki; Narayanan, Desika; Espada, Daniel; Tamura, Yoichi; Yun, Min; Hatsukade, Bunyo; Kawabe, Ryohei; Crocker, Alison; Ueda, Junko;</td><td>3.3716441300933133</td><td>0.07401316667831156</td><td>1.3472952</td><td></td><td>uid://A002/X391d0b/X126</td><td>uid://A002/X3f99b1/X3ec</td><td>Reformation of Cold Molecular Disks in Merger Remnants</td><td>S</td><td>TARGET</td><td>60.6837112105593</td><td>6.78741766678039</td><td>Y</td><td>4</td><td>Merging and interacting galaxies</td><td>Galaxy evolution</td><td>2011.0.00099.S</td><td>96.18 .. 111.45</td><td>AM2055-425</td><td>ESO 286-IG 019</td><td>314.61159</td><td>-42.65006</td><td>0.042996</td><td>False</td><td>False</td><td>True</td></tr>\n",
       "<tr><td>2016.2.00006.S</td><td>AM_2055-425</td><td>314.6116629167161</td><td>-42.650085833346985</td><td>358.6409006180247</td><td>-40.79950903358268</td><td>[3]</td><td>16.319501000498352</td><td>976.5668103060661</td><td>7m</td><td></td><td>1421.28</td><td>2018-08-12</td><td>[95.78..97.76GHz,31250.14kHz,12.9mJy/beam@10km/s,520.2uJy/beam@native, XX YY] U [97.53..99.51GHz,31250.14kHz,12.9mJy/beam@10km/s,523.2uJy/beam@native, XX YY] U [107.78..109.76GHz,31250.14kHz,13.5mJy/beam@10km/s,576.8uJy/beam@native, XX YY] U [109.52..111.52GHz,976.57kHz,14.1mJy/beam@10km/s,606.9uJy/beam@native, XX YY]</td><td>2625.2627564015866</td><td>XX YY</td><td>2017-08-04T06:10:07</td><td>Ueda, Junko</td><td>AM_2055-_a_03_7M</td><td>Kaneko, Hiroyuki; Narayanan, Desika; Espada, Daniel; Tamura, Yoichi; Komugi, Shinya; Yun, Min; Iono, Daisuke; Crocker, Alison; Wilner, David;</td><td>12.907413013505208</td><td>0.27661571246555944</td><td>5.186</td><td>uid://A001/X1232/X23a</td><td>uid://A001/X1232/X23b</td><td>uid://A002/Xc3032e/X4aa8</td><td>Recovering Extended Structures in Merger Remnants</td><td>S</td><td>TARGET</td><td>60.782185053420484</td><td>48.905130110009964</td><td>Y</td><td>0</td><td>Merging and interacting galaxies</td><td>Galaxy evolution</td><td>2016.2.00006.S</td><td>95.78 .. 111.52</td><td>AM2055-425</td><td>ESO 286-IG 019</td><td>314.61159</td><td>-42.65006</td><td>0.042996</td><td>False</td><td>False</td><td>True</td></tr>\n",
       "<tr><td>2017.1.01003.S</td><td>AM_2055-425</td><td>314.61166291668945</td><td>-42.650085833338544</td><td>358.6409006180353</td><td>-40.7995090335629</td><td>[3]</td><td>50.745939908704514</td><td>976.4736892245538</td><td>TP</td><td></td><td>9370.368</td><td>2019-09-27</td><td>[95.78..97.76GHz,31251.79kHz,10.2mJy/beam@10km/s,411uJy/beam@native, XX YY] U [97.53..99.51GHz,31251.79kHz,10.1mJy/beam@10km/s,411.4uJy/beam@native, XX YY] U [107.78..109.76GHz,31251.79kHz,10.4mJy/beam@10km/s,443.1uJy/beam@native, XX YY] U [109.52..111.52GHz,976.62kHz,10.9mJy/beam@10km/s,466.6uJy/beam@native, XX YY]</td><td>2624.7667047719283</td><td>XX YY</td><td>2018-05-18T10:24:51</td><td>Ueda, Junko</td><td>AM_2055-_a_03_TP</td><td>Kaneko, Hiroyuki; Narayanan, Desika; Espada, Daniel; Tamura, Yoichi; Komugi, Shinya; Yun, Min; Iono, Daisuke; Crocker, Alison; Wilner, David;</td><td>10.148468217708912</td><td>0.21558288183862181</td><td>0.92218876</td><td>uid://A001/X1296/X771</td><td>uid://A001/X1296/X776</td><td>uid://A002/Xd1f23d/X16da</td><td>Recovering Extended Structures in Merger Remnants</td><td>S</td><td>TARGET</td><td>60.78221803571108</td><td>899.4966739437756</td><td>Y</td><td>0</td><td>Merging and interacting galaxies</td><td>Galaxy evolution</td><td>2017.1.01003.S</td><td>95.78 .. 111.52</td><td>AM2055-425</td><td>ESO 286-IG 019</td><td>314.61159</td><td>-42.65006</td><td>0.042996</td><td>False</td><td>False</td><td>True</td></tr>\n",
       "<tr><td>2012.1.00306.S</td><td>IRASF20551-4250</td><td>314.611625</td><td>-42.650083333333335</td><td>358.64090304064746</td><td>-40.799481093935015</td><td>[3]</td><td>0.6241855410706607</td><td>7812.116340528931</td><td>12m</td><td></td><td>3931.2</td><td>2016-08-18</td><td>[95.66..97.64GHz,31249.53kHz,733.7uJy/beam@10km/s,29.5uJy/beam@native, XX YY] U [97.53..99.52GHz,31249.53kHz,727.8uJy/beam@10km/s,29.5uJy/beam@native, XX YY] U [107.71..109.58GHz,7812.38kHz,748.5uJy/beam@10km/s,32.9uJy/beam@native, XX YY] U [109.59..111.46GHz,7812.38kHz,783.5uJy/beam@10km/s,34.7uJy/beam@native, XX YY]</td><td>21011.138604073345</td><td>XX YY</td><td>2014-08-15T02:00:09</td><td>Sturm, Eckhard</td><td>IRASF20551_B3_12m</td><td>Garcia-Burillo, Santiago; Gracia-Carpio, Javier; Lutz, Dieter; Sternberg, Amiel; Hailey-Dunsheath, Steven; Cicone, Claudia; Fischer, Jacqueline; Contursi, Alessandra; Poglitsch, Albrecht; Aalto, Susanne; Verma, Aprajita; Genzel, Reinhard; Weiss, Axel; Tacconi, Linda; Davies, Richard; Maiolino, Roberto; Gonzalez-Alfonso, Eduardo; Feruglio, Chiara; Christopher, Natalie; Veilleux, Sylvain;</td><td>0.7278368161989379</td><td>0.015707267237413322</td><td>2.5387964</td><td>uid://A002/X7d1738/X14f</td><td>uid://A002/X7d1738/X150</td><td>uid://A002/X894188/X21d</td><td>Massive molecular outflows and negative feedback in active galaxies</td><td>S</td><td>TARGET</td><td>60.835124201950336</td><td>4.154516786182331</td><td>Y</td><td>1</td><td>Outflows, jets, feedback, Luminous and Ultra-Luminous Infra-Red Galaxies (LIRG &amp; ULIRG)</td><td>Active galaxies</td><td>2012.1.00306.S</td><td>95.66 .. 111.46</td><td>IRASF20551-4250</td><td>ESO 286-IG 019</td><td>314.61159</td><td>-42.65006</td><td>0.042996</td><td>False</td><td>False</td><td>True</td></tr>\n",
       "</table>"
      ],
      "text/plain": [
       "<Table masked=True length=4>\n",
       " Project code  ALMA source name      ALMA RA       ... 13CO J=1-0 12CO J=1-0\n",
       "                                       deg         ...                      \n",
       "   bytes64         bytes256          float64       ...    bool       bool   \n",
       "-------------- ---------------- ------------------ ... ---------- ----------\n",
       "2011.0.00099.S       am2055-425         314.611663 ...      False       True\n",
       "2016.2.00006.S      AM_2055-425  314.6116629167161 ...      False       True\n",
       "2017.1.01003.S      AM_2055-425 314.61166291668945 ...      False       True\n",
       "2012.1.00306.S  IRASF20551-4250         314.611625 ...      False       True"
      ]
     },
     "metadata": {},
     "output_type": "display_data"
    },
    {
     "data": {
      "text/html": [
       "<i>Table masked=True length=5</i>\n",
       "<table id=\"table4452657864\" class=\"table-striped table-bordered table-condensed\">\n",
       "<thead><tr><th>Project code</th><th>ALMA source name</th><th>ALMA RA</th><th>ALMA Dec</th><th>Galactic longitude</th><th>Galactic latitude</th><th>Band</th><th>Spatial resolution</th><th>Frequency resolution</th><th>Array</th><th>Mosaic</th><th>Integration</th><th>Release date</th><th>Frequency support</th><th>Velocity resolution</th><th>Pol products</th><th>Observation date</th><th>PI name</th><th>SB name</th><th>Proposal authors</th><th>Line sensitivity (10 km/s)</th><th>Continuum sensitivity</th><th>PWV</th><th>Group ous id</th><th>Member ous id</th><th>Asdm uid</th><th>Project title</th><th>Project type</th><th>Scan intent</th><th>Field of view</th><th>Largest angular scale</th><th>QA2 Status</th><th>COUNT</th><th>Science keyword</th><th>Scientific category</th><th>ASA_PROJECT_CODE</th><th>Frequency ranges</th><th>ALMA sanitized source name</th><th>NED source name</th><th>NED RA</th><th>NED Dec</th><th>NED Redshift</th><th>C18O J=1-0</th><th>13CO J=1-0</th><th>12CO J=1-0</th></tr></thead>\n",
       "<thead><tr><th></th><th></th><th>deg</th><th>deg</th><th>deg</th><th>deg</th><th></th><th></th><th>kHz</th><th></th><th></th><th>s</th><th></th><th>GHz</th><th>m / s</th><th></th><th></th><th></th><th></th><th></th><th></th><th>mJy/beam</th><th>mm</th><th></th><th></th><th></th><th></th><th></th><th></th><th>arcs</th><th>arcs</th><th></th><th></th><th></th><th></th><th></th><th>GHz</th><th></th><th></th><th>degrees</th><th>degrees</th><th></th><th></th><th></th><th></th></tr></thead>\n",
       "<thead><tr><th>bytes64</th><th>bytes256</th><th>float64</th><th>float64</th><th>float64</th><th>float64</th><th>object</th><th>float64</th><th>float64</th><th>object</th><th>object</th><th>float64</th><th>object</th><th>bytes2700</th><th>float64</th><th>bytes64</th><th>object</th><th>bytes256</th><th>bytes128</th><th>bytes512</th><th>float64</th><th>float64</th><th>float32</th><th>bytes64</th><th>bytes64</th><th>bytes32</th><th>bytes256</th><th>bytes16</th><th>bytes256</th><th>float64</th><th>float64</th><th>bytes1</th><th>int64</th><th>bytes200</th><th>bytes200</th><th>bytes64</th><th>object</th><th>str7</th><th>bytes30</th><th>float64</th><th>float64</th><th>float64</th><th>bool</th><th>bool</th><th>bool</th></tr></thead>\n",
       "<tr><td>2013.1.00049.S</td><td>NGC_6240</td><td>253.24525416666663</td><td>2.400986</td><td>20.729013636056607</td><td>27.29104750337486</td><td>[3]</td><td>1.7466723039466299</td><td>1952.8728015528832</td><td>12m</td><td></td><td>2842.56</td><td>2016-08-07</td><td>[94.71..96.59GHz,1952.88kHz,697.6uJy/beam@10km/s,28.8uJy/beam@native, XX YY] U [106.64..108.52GHz,1952.88kHz,719.2uJy/beam@10km/s,31.5uJy/beam@native, XX YY]</td><td>5394.400598303093</td><td>XX YY</td><td>2015-04-11T06:03:58</td><td>Cicone, Claudia</td><td>NGC_6240_a_03_TE</td><td>Papadopoulos, Padelis; Thi, Wing-Fai; Wagg, Jeff; Maiolino, Roberto; Zhang, Zhiyu; Feruglio, Chiara;</td><td>0.6976460758163437</td><td>0.021235647531750175</td><td>7.0027866</td><td>uid://A001/X197/X1d</td><td>uid://A001/X197/X1e</td><td>uid://A002/X9de499/X28d7</td><td>An Unprecedented ALMA View of the Massive Molecular Outflow in NGC 6240</td><td>S</td><td>TARGET</td><td>61.99891585886438</td><td>11.355323532320442</td><td>Y</td><td>0</td><td>Outflows, jets, feedback</td><td>Active galaxies</td><td>2013.1.00049.S</td><td>[array([94.71, 96.59]), array([106.64, 108.52])]</td><td>NGC6240</td><td>NGC 6240</td><td>253.24529</td><td>2.40093</td><td>0.02448</td><td>True</td><td>True</td><td>False</td></tr>\n",
       "<tr><td>2015.1.00003.S</td><td>ngc6240</td><td>253.24525400004578</td><td>2.400986000000825</td><td>20.72901354390882</td><td>27.291047648315168</td><td>[3]</td><td>0.5400291865641982</td><td>1953.1780186712247</td><td>12m</td><td></td><td>635.04</td><td>2017-11-01</td><td>[97.64..99.51GHz,15625.42kHz,1.3mJy/beam@10km/s,54.1uJy/beam@native, XX YY] U [99.47..101.34GHz,7812.71kHz,1.3mJy/beam@10km/s,54.4uJy/beam@native, XX YY] U [109.72..111.59GHz,7812.71kHz,1.4mJy/beam@10km/s,62.3uJy/beam@native, XX YY] U [111.59..113.46GHz,1953.18kHz,1.5mJy/beam@10km/s,67.8uJy/beam@native, XX YY]</td><td>5160.753505336763</td><td>XX YY</td><td>2016-08-12T01:28:41</td><td>Saito, Toshiki</td><td>ngc6240_a_03_TE</td><td>Xu, C. Kevin; Sliwa, Kazimierz; Ando, Misaki; Nakanishi, Kouichiro; Yamashita, Takuji; Kaneko, Hiroyuki; Espada, Daniel; Yun, Min; Michiyama, Tomonari; Iono, Daisuke; Ueda, Junko; Motohara, Kentaro;</td><td>1.2871245916273053</td><td>0.029428988728299008</td><td>0.5699422</td><td>uid://A001/X5a3/X185</td><td>uid://A001/X5a3/X186</td><td>uid://A002/Xb68dbd/X72f9</td><td>SPATIALLY RESOLVED CO SLED IMAGING IN NEARBY LIRGS</td><td>S</td><td>TARGET</td><td>59.68562637206829</td><td>2.7141035201812467</td><td>Y</td><td>1</td><td>Merging and interacting galaxies, Luminous and Ultra-Luminous Infra-Red Galaxies (LIRG &amp; ULIRG)</td><td>Galaxy evolution</td><td>2015.1.00003.S</td><td>[array([97.64, 99.51]), array([ 99.47, 101.34]), array([109.72, 111.59]), array([111.59, 113.46])]</td><td>NGC6240</td><td>NGC 6240</td><td>253.24529</td><td>2.40093</td><td>0.02448</td><td>False</td><td>False</td><td>True</td></tr>\n",
       "<tr><td>2015.1.01439.S</td><td>ngc6240</td><td>253.24525420002365</td><td>2.40098610000017</td><td>20.72901375247403</td><td>27.291047523549974</td><td>[3]</td><td>0.49127181178248386</td><td>15625.497362928949</td><td>12m</td><td></td><td>937.44</td><td>2018-04-21</td><td>[93.27..95.14GHz,15625.50kHz,1.2mJy/beam@10km/s,49.4uJy/beam@native, XX YY] U [95.08..96.95GHz,15625.50kHz,1.2mJy/beam@10km/s,49.6uJy/beam@native, XX YY] U [105.07..107.05GHz,31250.99kHz,1.2mJy/beam@10km/s,50uJy/beam@native, XX YY] U [106.94..108.80GHz,15625.50kHz,1.2mJy/beam@10km/s,52.9uJy/beam@native, XX YY]</td><td>43054.99410637717</td><td>XX YY</td><td>2016-08-23T23:54:33</td><td>Saito, Toshiki</td><td>ngc6240_b_03_TE</td><td>Michiyama, Tomonari; Ando, Misaki; Kawabe, Ryohei; Iono, Daisuke; Ueda, Junko; Yamashita, Takuji;</td><td>1.1885420402544744</td><td>0.02519270787340361</td><td>2.0640316</td><td>uid://A001/X2fe/X727</td><td>uid://A001/X2fe/X728</td><td>uid://A002/Xb7189f/X84e2</td><td>UNVEILING MERGER-INDUCED SHOCKS IN MOLECULAR HYDROGEN EMITTING GALAXIES (MOHEGs)</td><td>S</td><td>TARGET</td><td>62.3536086848821</td><td>2.435858225616976</td><td>Y</td><td>0</td><td>Merging and interacting galaxies, Galaxy chemistry</td><td>Galaxy evolution</td><td>2015.1.01439.S</td><td>[array([93.27, 95.14]), array([95.08, 96.95]), array([105.07, 107.05]), array([106.94, 108.8 ])]</td><td>NGC6240</td><td>NGC 6240</td><td>253.24529</td><td>2.40093</td><td>0.02448</td><td>True</td><td>True</td><td>False</td></tr>\n",
       "<tr><td>2015.1.00003.S</td><td>ngc6240</td><td>253.24525399996847</td><td>2.4009860000004286</td><td>20.729013543865676</td><td>27.291047648382214</td><td>[3]</td><td>0.9536699259173603</td><td>1953.1002389481027</td><td>12m</td><td></td><td>332.64</td><td>2018-06-27</td><td>[97.64..99.51GHz,15624.80kHz,1.5mJy/beam@10km/s,64uJy/beam@native, XX YY] U [99.47..101.34GHz,7812.40kHz,1.5mJy/beam@10km/s,64.5uJy/beam@native, XX YY] U [109.72..111.59GHz,7812.40kHz,1.7mJy/beam@10km/s,74.5uJy/beam@native, XX YY] U [111.59..113.46GHz,1953.10kHz,1.8mJy/beam@10km/s,80.9uJy/beam@native, XX YY]</td><td>5160.344440188312</td><td>XX YY</td><td>2016-07-03T01:27:07</td><td>Saito, Toshiki</td><td>ngc6240_a_03_TC</td><td>Xu, C. Kevin; Sliwa, Kazimierz; Ando, Misaki; Nakanishi, Kouichiro; Yamashita, Takuji; Kaneko, Hiroyuki; Espada, Daniel; Yun, Min; Michiyama, Tomonari; Iono, Daisuke; Ueda, Junko; Motohara, Kentaro;</td><td>1.5257369213262302</td><td>0.0349718626392937</td><td>4.9229636</td><td>uid://A001/X5a3/X185</td><td>uid://A001/X5a3/X188</td><td>uid://A002/Xb51915/X1699</td><td>SPATIALLY RESOLVED CO SLED IMAGING IN NEARBY LIRGS</td><td>S</td><td>TARGET</td><td>59.68555106924069</td><td>4.83965145316753</td><td>Y</td><td>1</td><td>Merging and interacting galaxies, Luminous and Ultra-Luminous Infra-Red Galaxies (LIRG &amp; ULIRG)</td><td>Galaxy evolution</td><td>2015.1.00003.S</td><td>[array([97.64, 99.51]), array([ 99.47, 101.34]), array([109.72, 111.59]), array([111.59, 113.46])]</td><td>NGC6240</td><td>NGC 6240</td><td>253.24529</td><td>2.40093</td><td>0.02448</td><td>False</td><td>False</td><td>True</td></tr>\n",
       "<tr><td>2016.2.00042.S</td><td>ngc6240</td><td>253.2452541666758</td><td>2.4009861111101047</td><td>20.729013744915562</td><td>27.291047558023692</td><td>[3]</td><td>11.099542148547913</td><td>976.5781663597273</td><td>7m</td><td></td><td>3568.32</td><td>2018-08-21</td><td>[97.62..99.61GHz,15625.25kHz,13.2mJy/beam@10km/s,535.2uJy/beam@native, XX YY] U [99.50..101.49GHz,15625.25kHz,13.2mJy/beam@10km/s,541.4uJy/beam@native, XX YY] U [109.79..111.79GHz,976.58kHz,15.2mJy/beam@10km/s,655.4uJy/beam@native, XX YY] U [111.54..113.53GHz,976.58kHz,15.8mJy/beam@10km/s,683.5uJy/beam@native, XX YY]</td><td>2578.7248493074603</td><td>XX YY</td><td>2017-07-29T00:10:33</td><td>Saito, Toshiki</td><td>ngc6240_a_03_7M</td><td>Ando, Misaki; Michiyama, Tomonari; Yun, Min; Sliwa, Kazimierz; Iono, Daisuke; Nakanishi, Kouichiro; Ueda, Junko; Motohara, Kentaro; Yamashita, Takuji; Bouché, Nicolas; Inami, Hanae;</td><td>13.197744087178387</td><td>0.2965507148263334</td><td>5.186</td><td>uid://A001/X1262/Xe4</td><td>uid://A001/X1262/Xe5</td><td>uid://A002/Xc2c2f2/X8e2</td><td>The True Aspect of Gas-rich Merging Galaxies</td><td>S</td><td>TARGET</td><td>59.67128282698371</td><td>46.9710924064089</td><td>Y</td><td>0</td><td>Merging and interacting galaxies, Luminous and Ultra-Luminous Infra-Red Galaxies (LIRG &amp; ULIRG)</td><td>Galaxy evolution</td><td>2016.2.00042.S</td><td>[array([97.62, 99.61]), array([ 99.5 , 101.49]), array([109.79, 111.79]), array([111.54, 113.53])]</td><td>NGC6240</td><td>NGC 6240</td><td>253.24529</td><td>2.40093</td><td>0.02448</td><td>False</td><td>False</td><td>True</td></tr>\n",
       "</table>"
      ],
      "text/plain": [
       "<Table masked=True length=5>\n",
       " Project code  ALMA source name      ALMA RA       ... 13CO J=1-0 12CO J=1-0\n",
       "                                       deg         ...                      \n",
       "   bytes64         bytes256          float64       ...    bool       bool   \n",
       "-------------- ---------------- ------------------ ... ---------- ----------\n",
       "2013.1.00049.S         NGC_6240 253.24525416666663 ...       True      False\n",
       "2015.1.00003.S          ngc6240 253.24525400004578 ...      False       True\n",
       "2015.1.01439.S          ngc6240 253.24525420002365 ...       True      False\n",
       "2015.1.00003.S          ngc6240 253.24525399996847 ...      False       True\n",
       "2016.2.00042.S          ngc6240  253.2452541666758 ...      False       True"
      ]
     },
     "metadata": {},
     "output_type": "display_data"
    }
   ],
   "source": [
    "n=0 #counter\n",
    "for targetname in herusLineQuery.targets.keys():\n",
    "    if len(herusLineQuery.queryResults[targetname])>=1:\n",
    "        n = n+1\n",
    "        display(herusLineQuery.queryResults[targetname])"
   ]
  },
  {
   "cell_type": "code",
   "execution_count": 12,
   "metadata": {},
   "outputs": [
    {
     "name": "stdout",
     "output_type": "stream",
     "text": [
      "galaxies with 12CO, 13CO, OR C18O: 21\n"
     ]
    }
   ],
   "source": [
    "print(\"galaxies with 12CO, 13CO, OR C18O:\", n)"
   ]
  },
  {
   "cell_type": "code",
   "execution_count": 13,
   "metadata": {
    "scrolled": true
   },
   "outputs": [
    {
     "data": {
      "text/html": [
       "<i>Table masked=True length=3</i>\n",
       "<table id=\"table4444408744\" class=\"table-striped table-bordered table-condensed\">\n",
       "<thead><tr><th>Project code</th><th>ALMA source name</th><th>ALMA RA</th><th>ALMA Dec</th><th>Galactic longitude</th><th>Galactic latitude</th><th>Band</th><th>Spatial resolution</th><th>Frequency resolution</th><th>Array</th><th>Mosaic</th><th>Integration</th><th>Release date</th><th>Frequency support</th><th>Velocity resolution</th><th>Pol products</th><th>Observation date</th><th>PI name</th><th>SB name</th><th>Proposal authors</th><th>Line sensitivity (10 km/s)</th><th>Continuum sensitivity</th><th>PWV</th><th>Group ous id</th><th>Member ous id</th><th>Asdm uid</th><th>Project title</th><th>Project type</th><th>Scan intent</th><th>Field of view</th><th>Largest angular scale</th><th>QA2 Status</th><th>COUNT</th><th>Science keyword</th><th>Scientific category</th><th>ASA_PROJECT_CODE</th><th>Frequency ranges [4,2]</th><th>ALMA sanitized source name</th><th>NED source name</th><th>NED RA</th><th>NED Dec</th><th>NED Redshift</th><th>C18O J=1-0</th><th>13CO J=1-0</th><th>12CO J=1-0</th></tr></thead>\n",
       "<thead><tr><th></th><th></th><th>deg</th><th>deg</th><th>deg</th><th>deg</th><th></th><th></th><th>kHz</th><th></th><th></th><th>s</th><th></th><th>GHz</th><th>m / s</th><th></th><th></th><th></th><th></th><th></th><th></th><th>mJy/beam</th><th>mm</th><th></th><th></th><th></th><th></th><th></th><th></th><th>arcs</th><th>arcs</th><th></th><th></th><th></th><th></th><th></th><th>GHz</th><th></th><th></th><th>degrees</th><th>degrees</th><th></th><th></th><th></th><th></th></tr></thead>\n",
       "<thead><tr><th>bytes64</th><th>bytes256</th><th>float64</th><th>float64</th><th>float64</th><th>float64</th><th>object</th><th>float64</th><th>float64</th><th>object</th><th>object</th><th>float64</th><th>object</th><th>bytes2700</th><th>float64</th><th>bytes64</th><th>object</th><th>bytes256</th><th>bytes128</th><th>bytes512</th><th>float64</th><th>float64</th><th>float32</th><th>bytes64</th><th>bytes64</th><th>bytes32</th><th>bytes256</th><th>bytes16</th><th>bytes256</th><th>float64</th><th>float64</th><th>bytes1</th><th>int64</th><th>bytes200</th><th>bytes200</th><th>bytes64</th><th>float64</th><th>str15</th><th>bytes30</th><th>float64</th><th>float64</th><th>float64</th><th>bool</th><th>bool</th><th>bool</th></tr></thead>\n",
       "<tr><td>2017.1.01306.S</td><td>IRAS17208-0014</td><td>260.8414291666761</td><td>-0.2836000000000146</td><td>22.221058227478323</td><td>19.353414843772196</td><td>[3]</td><td>0.3991153724632779</td><td>3905.8156169585013</td><td>12m</td><td></td><td>3568.32</td><td>2019-02-25</td><td>[92.48..94.35GHz,3905.83kHz,720.5uJy/beam@10km/s,29.4uJy/beam@native, XX YY] U [94.30..96.18GHz,3905.83kHz,714.7uJy/beam@10km/s,29.4uJy/beam@native, XX YY] U [104.34..106.22GHz,3905.83kHz,710.6uJy/beam@10km/s,30.8uJy/beam@native, XX YY] U [106.22..108.09GHz,3905.83kHz,719.4uJy/beam@10km/s,31.4uJy/beam@native, XX YY]</td><td>10831.671076503468</td><td>XX YY</td><td>2018-01-11T14:36:50</td><td>Sliwa, Kazimierz</td><td>IRAS1720_a_03_TM1</td><td></td><td>0.7105586564431904</td><td>0.015099803536581618</td><td>4.487539</td><td>uid://A001/X1284/X730</td><td>uid://A001/X1284/X731</td><td>uid://A002/Xc9020b/X7bcf</td><td>Tracing the Enrichment of the ISM in Extreme Starbursts</td><td>S</td><td>TARGET</td><td>62.82056617901485</td><td>4.291229220110475</td><td>Y</td><td>0</td><td>Luminous and Ultra-Luminous Infra-Red Galaxies (LIRG &amp; ULIRG)</td><td>Galaxy evolution</td><td>2017.1.01306.S</td><td>92.48 .. 108.09</td><td>IRAS17208-0014</td><td>2MASX J17232194-0017009</td><td>260.84148</td><td>-0.28359</td><td>0.04281</td><td>True</td><td>True</td><td>False</td></tr>\n",
       "<tr><td>2016.1.00140.S</td><td>IRASf17207-0014</td><td>260.84142916662347</td><td>-0.2836000000000549</td><td>22.221058227451238</td><td>19.353414843818218</td><td>[3]</td><td>0.35008472154933007</td><td>3906.351323620382</td><td>12m</td><td></td><td>151.2</td><td>2017-12-30</td><td>[97.50..99.49GHz,31250.81kHz,2.4mJy/beam@10km/s,95.8uJy/beam@native, XX YY] U [99.50..101.49GHz,31250.81kHz,2.4mJy/beam@10km/s,96.4uJy/beam@native, XX YY] U [109.60..111.48GHz,3906.35kHz,2.5mJy/beam@10km/s,112.6uJy/beam@native, XX YY] U [111.50..113.49GHz,31250.81kHz,2.8mJy/beam@10km/s,119.5uJy/beam@native, XX YY]</td><td>10505.476011329818</td><td>XX YY</td><td>2016-10-06T18:59:48</td><td>Iono, Daisuke</td><td>IRASf172_a_03_TM1</td><td>Yun, Min; Ando, Misaki; Michiyama, Tomonari; Saito, Toshiki; Nakanishi, Kouichiro; Ueda, Junko; Bouché, Nicolas; Motohara, Kentaro; Yamashita, Takuji; Inami, Hanae;</td><td>2.354359780271566</td><td>0.05230540863441503</td><td>0.95614845</td><td>uid://A001/X879/X783</td><td>uid://A001/X879/X784</td><td>uid://A002/Xb91513/X7a22</td><td>Molecular Gas in Local Merging ULIRGs</td><td>S</td><td>TARGET</td><td>59.71902479241174</td><td>1.6585007624704422</td><td>Y</td><td>1</td><td>Luminous and Ultra-Luminous Infra-Red Galaxies (LIRG &amp; ULIRG)</td><td>Galaxy evolution</td><td>2016.1.00140.S</td><td>97.5 .. 113.49</td><td>IRASF17207-0014</td><td>2MASX J17232194-0017009</td><td>260.84148</td><td>-0.28359</td><td>0.04281</td><td>False</td><td>False</td><td>True</td></tr>\n",
       "<tr><td>2016.1.00177.S</td><td>IRAS_F17207-0014</td><td>260.8415999999851</td><td>-0.283799999999998</td><td>22.220960676499203</td><td>19.353168445343538</td><td>[3]</td><td>1.852152329162209</td><td>3905.8732564140055</td><td>12m</td><td></td><td>1905.12</td><td>2018-03-30</td><td>[95.66..97.53GHz,3905.87kHz,805.2uJy/beam@10km/s,33.4uJy/beam@native, XX YY] U [97.66..99.53GHz,3905.87kHz,802uJy/beam@10km/s,33.6uJy/beam@native, XX YY] U [107.89..109.77GHz,3905.87kHz,844.5uJy/beam@10km/s,37.2uJy/beam@native, XX YY] U [109.60..111.47GHz,3905.87kHz,882.1uJy/beam@10km/s,39.1uJy/beam@native, XX YY]</td><td>10503.694943066204</td><td>XX YY</td><td>2017-01-05T14:17:16</td><td>Lutz, Dieter</td><td>IRAS_F17_a_03_TM1</td><td>Contursi, Alessandra; Gracia-Carpio, Javier; Genzel, Reinhard; Davies, Richard; Tacconi, Linda; Sturm, Eckhard; Janssen, Annemieke; Veilleux, Sylvain;</td><td>0.8020071225131031</td><td>0.01778386900493336</td><td>6.1821775</td><td>uid://A001/X87a/X28d</td><td>uid://A001/X87a/X28e</td><td>uid://A002/Xbc8613/X266c</td><td>Identifying molecular outflows in our neighborhood</td><td>S</td><td>TARGET</td><td>60.83215910789986</td><td>9.169622210249454</td><td>Y</td><td>0</td><td>Outflows, jets, feedback, Luminous and Ultra-Luminous Infra-Red Galaxies (LIRG &amp; ULIRG)</td><td>Active galaxies</td><td>2016.1.00177.S</td><td>95.66 .. 111.47</td><td>IRASF17207-0014</td><td>2MASX J17232194-0017009</td><td>260.84148</td><td>-0.28359</td><td>0.04281</td><td>False</td><td>False</td><td>True</td></tr>\n",
       "</table>"
      ],
      "text/plain": [
       "<Table masked=True length=3>\n",
       " Project code  ALMA source name      ALMA RA       ... 13CO J=1-0 12CO J=1-0\n",
       "                                       deg         ...                      \n",
       "   bytes64         bytes256          float64       ...    bool       bool   \n",
       "-------------- ---------------- ------------------ ... ---------- ----------\n",
       "2017.1.01306.S   IRAS17208-0014  260.8414291666761 ...       True      False\n",
       "2016.1.00140.S  IRASf17207-0014 260.84142916662347 ...      False       True\n",
       "2016.1.00177.S IRAS_F17207-0014  260.8415999999851 ...      False       True"
      ]
     },
     "metadata": {},
     "output_type": "display_data"
    },
    {
     "data": {
      "text/html": [
       "<i>Table masked=True length=4</i>\n",
       "<table id=\"table4423144280\" class=\"table-striped table-bordered table-condensed\">\n",
       "<thead><tr><th>Project code</th><th>ALMA source name</th><th>ALMA RA</th><th>ALMA Dec</th><th>Galactic longitude</th><th>Galactic latitude</th><th>Band</th><th>Spatial resolution</th><th>Frequency resolution</th><th>Array</th><th>Mosaic</th><th>Integration</th><th>Release date</th><th>Frequency support</th><th>Velocity resolution</th><th>Pol products</th><th>Observation date</th><th>PI name</th><th>SB name</th><th>Proposal authors</th><th>Line sensitivity (10 km/s)</th><th>Continuum sensitivity</th><th>PWV</th><th>Group ous id</th><th>Member ous id</th><th>Asdm uid</th><th>Project title</th><th>Project type</th><th>Scan intent</th><th>Field of view</th><th>Largest angular scale</th><th>QA2 Status</th><th>COUNT</th><th>Science keyword</th><th>Scientific category</th><th>ASA_PROJECT_CODE</th><th>Frequency ranges [4,2]</th><th>ALMA sanitized source name</th><th>NED source name</th><th>NED RA</th><th>NED Dec</th><th>NED Redshift</th><th>C18O J=1-0</th><th>13CO J=1-0</th><th>12CO J=1-0</th></tr></thead>\n",
       "<thead><tr><th></th><th></th><th>deg</th><th>deg</th><th>deg</th><th>deg</th><th></th><th></th><th>kHz</th><th></th><th></th><th>s</th><th></th><th>GHz</th><th>m / s</th><th></th><th></th><th></th><th></th><th></th><th></th><th>mJy/beam</th><th>mm</th><th></th><th></th><th></th><th></th><th></th><th></th><th>arcs</th><th>arcs</th><th></th><th></th><th></th><th></th><th></th><th>GHz</th><th></th><th></th><th>degrees</th><th>degrees</th><th></th><th></th><th></th><th></th></tr></thead>\n",
       "<thead><tr><th>bytes64</th><th>bytes256</th><th>float64</th><th>float64</th><th>float64</th><th>float64</th><th>object</th><th>float64</th><th>float64</th><th>object</th><th>object</th><th>float64</th><th>object</th><th>bytes2700</th><th>float64</th><th>bytes64</th><th>object</th><th>bytes256</th><th>bytes128</th><th>bytes512</th><th>float64</th><th>float64</th><th>float32</th><th>bytes64</th><th>bytes64</th><th>bytes32</th><th>bytes256</th><th>bytes16</th><th>bytes256</th><th>float64</th><th>float64</th><th>bytes1</th><th>int64</th><th>bytes200</th><th>bytes200</th><th>bytes64</th><th>float64</th><th>str14</th><th>bytes30</th><th>float64</th><th>float64</th><th>float64</th><th>bool</th><th>bool</th><th>bool</th></tr></thead>\n",
       "<tr><td>2012.1.00306.S</td><td>IRAS13120-5453</td><td>198.7758333333333</td><td>-55.15666666666667</td><td>306.33773294773795</td><td>7.558461603721796</td><td>[3]</td><td>1.0216468471916724</td><td>7813.114377520317</td><td>12m</td><td></td><td>635.04</td><td>2016-08-04</td><td>[96.93..98.92GHz,31252.46kHz,1.2mJy/beam@10km/s,47.7uJy/beam@native, XX YY] U [98.81..100.79GHz,31252.46kHz,1.2mJy/beam@10km/s,48uJy/beam@native, XX YY] U [108.99..110.86GHz,7813.11kHz,1.3mJy/beam@10km/s,55.5uJy/beam@native, XX YY] U [110.86..112.74GHz,7813.11kHz,1.3mJy/beam@10km/s,60uJy/beam@native, XX YY]</td><td>20778.752293903617</td><td>XX YY</td><td>2015-07-03T01:30:39</td><td>Sturm, Eckhard</td><td>IRAS13120_B3_12m</td><td>Garcia-Burillo, Santiago; Gracia-Carpio, Javier; Lutz, Dieter; Sternberg, Amiel; Hailey-Dunsheath, Steven; Cicone, Claudia; Fischer, Jacqueline; Contursi, Alessandra; Poglitsch, Albrecht; Aalto, Susanne; Verma, Aprajita; Genzel, Reinhard; Weiss, Axel; Tacconi, Linda; Davies, Richard; Maiolino, Roberto; Gonzalez-Alfonso, Eduardo; Feruglio, Chiara; Christopher, Natalie; Veilleux, Sylvain;</td><td>1.1754694742634952</td><td>0.026013174724762746</td><td>2.34793</td><td>uid://A002/X7d1738/X147</td><td>uid://A002/X7d1738/X148</td><td>uid://A002/Xa4efea/X4ad</td><td>Massive molecular outflows and negative feedback in active galaxies</td><td>S</td><td>TARGET</td><td>60.095210912815425</td><td>5.777802123076612</td><td>Y</td><td>1</td><td>Outflows, jets, feedback, Luminous and Ultra-Luminous Infra-Red Galaxies (LIRG &amp; ULIRG)</td><td>Active galaxies</td><td>2012.1.00306.S</td><td>96.93 .. 112.74</td><td>IRAS13120-5453</td><td>WKK 2031</td><td>198.77649</td><td>-55.15645</td><td>0.030761</td><td>False</td><td>False</td><td>True</td></tr>\n",
       "<tr><td>2013.1.00379.S</td><td>IRAS_13120-5453</td><td>198.77642458333332</td><td>-55.156354722222225</td><td>306.33810137119167</td><td>7.558740947322939</td><td>[3]</td><td>0.8320832838686458</td><td>1953.295462665399</td><td>12m</td><td></td><td>3024.0</td><td>2016-09-11</td><td>[93.06..94.94GHz,1953.30kHz,561.7uJy/beam@10km/s,23uJy/beam@native, XX YY] U [94.67..96.55GHz,1953.30kHz,553uJy/beam@10km/s,22.8uJy/beam@native, XX YY] U [104.76..106.63GHz,1953.30kHz,553.1uJy/beam@10km/s,24uJy/beam@native, XX YY] U [106.36..108.24GHz,1953.30kHz,560.4uJy/beam@10km/s,24.5uJy/beam@native, XX YY]</td><td>5410.569269720324</td><td>XX YY</td><td>2015-07-22T21:35:34</td><td>Sliwa, Kazimierz</td><td>IRAS_131_b_03_TE</td><td>Wilson, Christine;</td><td>0.5529899194942456</td><td>0.011765087759369247</td><td>3.1714032</td><td>uid://A001/X145/X185</td><td>uid://A001/X145/X186</td><td>uid://A002/Xa66f35/X144</td><td>The Forgotten Local Ultra Luminous Infrared Galaxy: IRAS 13120-5453</td><td>S</td><td>TARGET</td><td>62.59205952663193</td><td>4.67502438693053</td><td>Y</td><td>2</td><td>Merging and interacting galaxies, Luminous and Ultra-Luminous Infra-Red Galaxies (LIRG &amp; ULIRG)</td><td>Galaxy evolution</td><td>2013.1.00379.S</td><td>93.06 .. 108.24</td><td>IRAS13120-5453</td><td>WKK 2031</td><td>198.77649</td><td>-55.15645</td><td>0.030761</td><td>True</td><td>True</td><td>False</td></tr>\n",
       "<tr><td>2015.1.00287.S</td><td>IRAS_13120-5453</td><td>198.77642458330507</td><td>-55.15635472222561</td><td>306.3381013711751</td><td>7.558740947321065</td><td>[3]</td><td>0.7077332154639278</td><td>3906.576224269008</td><td>12m</td><td></td><td>786.24</td><td>2018-03-17</td><td>[97.07..98.94GHz,3906.58kHz,1.3mJy/beam@10km/s,54.5uJy/beam@native, XX YY] U [98.70..100.58GHz,3906.58kHz,1.3mJy/beam@10km/s,54.8uJy/beam@native, XX YY] U [109.07..110.94GHz,3906.58kHz,1.4mJy/beam@10km/s,61.6uJy/beam@native, XX YY] U [110.87..112.74GHz,3906.58kHz,1.5mJy/beam@10km/s,66.4uJy/beam@native, XX YY]</td><td>10388.637662248837</td><td>XX YY</td><td>2016-08-27T18:16:42</td><td>Sliwa, Kazimierz</td><td>IRAS_131_c_03_TE</td><td>Wilson, Christine;</td><td>1.3016543849997846</td><td>0.02936122398060878</td><td>2.6087253</td><td>uid://A001/X5a4/X16f</td><td>uid://A001/X5a4/X170</td><td>uid://A002/Xb74a0f/X2b72</td><td>The Almost Forgotten Local Ultra Luminous Infrared Galaxy: IRAS 13120-5453</td><td>S</td><td>TARGET</td><td>60.05450244044836</td><td>3.6661755425721525</td><td>Y</td><td>0</td><td>Merging and interacting galaxies, Luminous and Ultra-Luminous Infra-Red Galaxies (LIRG &amp; ULIRG)</td><td>Galaxy evolution</td><td>2015.1.00287.S</td><td>97.07 .. 112.74</td><td>IRAS13120-5453</td><td>WKK 2031</td><td>198.77649</td><td>-55.15645</td><td>0.030761</td><td>False</td><td>False</td><td>True</td></tr>\n",
       "<tr><td>2015.1.00287.S</td><td>IRAS_13120-5453</td><td>198.77642458328958</td><td>-55.156354722231406</td><td>306.33810137116575</td><td>7.558740947316102</td><td>[3]</td><td>0.6304682493136776</td><td>3906.551321668138</td><td>12m</td><td></td><td>2782.08</td><td>2018-03-20</td><td>[94.08..95.95GHz,3906.55kHz,615.1uJy/beam@10km/s,25.3uJy/beam@native, XX YY] U [95.77..97.65GHz,3906.55kHz,610.4uJy/beam@10km/s,25.3uJy/beam@native, XX YY] U [105.97..107.84GHz,3906.55kHz,608.5uJy/beam@10km/s,26.5uJy/beam@native, XX YY] U [107.66..109.53GHz,3906.55kHz,620.9uJy/beam@10km/s,27.3uJy/beam@native, XX YY]</td><td>10692.913267880172</td><td>XX YY</td><td>2016-09-07T16:54:32</td><td>Sliwa, Kazimierz</td><td>IRAS_131_d_03_TE</td><td>Wilson, Christine;</td><td>0.6085407594125293</td><td>0.013034173471956222</td><td>0.64867234</td><td>uid://A001/X5a4/X173</td><td>uid://A001/X5a4/X174</td><td>uid://A002/Xb7d0ee/X516a</td><td>The Almost Forgotten Local Ultra Luminous Infrared Galaxy: IRAS 13120-5453</td><td>S</td><td>TARGET</td><td>61.88235961140821</td><td>3.097545393266775</td><td>Y</td><td>0</td><td>Merging and interacting galaxies, Luminous and Ultra-Luminous Infra-Red Galaxies (LIRG &amp; ULIRG)</td><td>Galaxy evolution</td><td>2015.1.00287.S</td><td>94.08 .. 109.53</td><td>IRAS13120-5453</td><td>WKK 2031</td><td>198.77649</td><td>-55.15645</td><td>0.030761</td><td>True</td><td>True</td><td>False</td></tr>\n",
       "</table>"
      ],
      "text/plain": [
       "<Table masked=True length=4>\n",
       " Project code  ALMA source name      ALMA RA       ... 13CO J=1-0 12CO J=1-0\n",
       "                                       deg         ...                      \n",
       "   bytes64         bytes256          float64       ...    bool       bool   \n",
       "-------------- ---------------- ------------------ ... ---------- ----------\n",
       "2012.1.00306.S   IRAS13120-5453  198.7758333333333 ...      False       True\n",
       "2013.1.00379.S  IRAS_13120-5453 198.77642458333332 ...       True      False\n",
       "2015.1.00287.S  IRAS_13120-5453 198.77642458330507 ...      False       True\n",
       "2015.1.00287.S  IRAS_13120-5453 198.77642458328958 ...       True      False"
      ]
     },
     "metadata": {},
     "output_type": "display_data"
    },
    {
     "data": {
      "text/html": [
       "<i>Table masked=True length=10</i>\n",
       "<table id=\"table4437466976\" class=\"table-striped table-bordered table-condensed\">\n",
       "<thead><tr><th>Project code</th><th>ALMA source name</th><th>ALMA RA</th><th>ALMA Dec</th><th>Galactic longitude</th><th>Galactic latitude</th><th>Band</th><th>Spatial resolution</th><th>Frequency resolution</th><th>Array</th><th>Mosaic</th><th>Integration</th><th>Release date</th><th>Frequency support</th><th>Velocity resolution</th><th>Pol products</th><th>Observation date</th><th>PI name</th><th>SB name</th><th>Proposal authors</th><th>Line sensitivity (10 km/s)</th><th>Continuum sensitivity</th><th>PWV</th><th>Group ous id</th><th>Member ous id</th><th>Asdm uid</th><th>Project title</th><th>Project type</th><th>Scan intent</th><th>Field of view</th><th>Largest angular scale</th><th>QA2 Status</th><th>COUNT</th><th>Science keyword</th><th>Scientific category</th><th>ASA_PROJECT_CODE</th><th>Frequency ranges [4,2]</th><th>ALMA sanitized source name</th><th>NED source name</th><th>NED RA</th><th>NED Dec</th><th>NED Redshift</th><th>C18O J=1-0</th><th>13CO J=1-0</th><th>12CO J=1-0</th></tr></thead>\n",
       "<thead><tr><th></th><th></th><th>deg</th><th>deg</th><th>deg</th><th>deg</th><th></th><th></th><th>kHz</th><th></th><th></th><th>s</th><th></th><th>GHz</th><th>m / s</th><th></th><th></th><th></th><th></th><th></th><th></th><th>mJy/beam</th><th>mm</th><th></th><th></th><th></th><th></th><th></th><th></th><th>arcs</th><th>arcs</th><th></th><th></th><th></th><th></th><th></th><th>GHz</th><th></th><th></th><th>degrees</th><th>degrees</th><th></th><th></th><th></th><th></th></tr></thead>\n",
       "<thead><tr><th>bytes64</th><th>bytes256</th><th>float64</th><th>float64</th><th>float64</th><th>float64</th><th>object</th><th>float64</th><th>float64</th><th>object</th><th>object</th><th>float64</th><th>object</th><th>bytes2700</th><th>float64</th><th>bytes64</th><th>object</th><th>bytes256</th><th>bytes128</th><th>bytes512</th><th>float64</th><th>float64</th><th>float32</th><th>bytes64</th><th>bytes64</th><th>bytes32</th><th>bytes256</th><th>bytes16</th><th>bytes256</th><th>float64</th><th>float64</th><th>bytes1</th><th>int64</th><th>bytes200</th><th>bytes200</th><th>bytes64</th><th>float64</th><th>str6</th><th>bytes30</th><th>float64</th><th>float64</th><th>float64</th><th>bool</th><th>bool</th><th>bool</th></tr></thead>\n",
       "<tr><td>2015.1.00113.S</td><td>ARP220</td><td>233.7384041666667</td><td>23.50317777777778</td><td>36.627305952700226</td><td>53.02850549164822</td><td>[3]</td><td>0.05044450856909384</td><td>3906.0786078211913</td><td>12m</td><td></td><td>1632.96</td><td>2016-11-27</td><td>[98.41..100.29GHz,3906.08kHz,782.5uJy/beam@10km/s,32.9uJy/beam@native, XX YY] U [100.31..102.18GHz,3906.08kHz,782.5uJy/beam@10km/s,33.2uJy/beam@native, XX YY] U [110.36..112.23GHz,3906.08kHz,898.7uJy/beam@10km/s,40uJy/beam@native, XX YY] U [112.29..114.17GHz,3906.08kHz,1mJy/beam@10km/s,46.9uJy/beam@native, XX YY]</td><td>10256.502457528233</td><td>XX YY</td><td>2015-10-27T16:36:13</td><td>Scoville, Nick</td><td>ARP220_a_03_TE</td><td>Torrey, Paul; Koda, Jin; Walter, Fabian; Murchikova, Lena; Hernquist, Lars; Sanders, David; Hayward, Christopher; Cox, Pierre; Barnes, Joshua; Thompson, Todd; Robertson, Brant; Vanden Bout, Paul; van der Werf, Paul; Decarli, Roberto; Genzel, Reinhard; Armus, Lee; Tacconi, Linda; Vlahakis, Catherine; Sheth, Kartik;</td><td>0.7824880706444973</td><td>0.018536834641801184</td><td>1.0464419</td><td>uid://A001/X2d6/X2e</td><td>uid://A001/X2d6/X2f</td><td>uid://A002/Xac2df7/X1967</td><td>Arp 220 Nuclear Disks at 50 mas Resolution</td><td>S</td><td>TARGET</td><td>59.27163314690586</td><td>0.38962803146741254</td><td>Y</td><td>3</td><td>Luminous and Ultra-Luminous Infra-Red Galaxies (LIRG &amp; ULIRG)</td><td>Galaxy evolution</td><td>2015.1.00113.S</td><td>98.41 .. 114.17</td><td>ARP220</td><td>ARP 220</td><td>233.73856</td><td>23.50314</td><td>0.018126</td><td>False</td><td>False</td><td>True</td></tr>\n",
       "<tr><td>2015.1.00113.S</td><td>ARP220</td><td>233.7384041666667</td><td>23.50317777777778</td><td>36.627305952700226</td><td>53.02850549164822</td><td>[3]</td><td>0.053279525709232764</td><td>3906.0797615918846</td><td>12m</td><td></td><td>1215.648</td><td>2016-11-27</td><td>[94.06..95.94GHz,3906.08kHz,921.4uJy/beam@10km/s,37.9uJy/beam@native, XX YY] U [95.94..97.81GHz,3906.08kHz,913.9uJy/beam@10km/s,37.9uJy/beam@native, XX YY] U [106.56..108.44GHz,3906.08kHz,930.9uJy/beam@10km/s,40.7uJy/beam@native, XX YY] U [107.94..109.81GHz,3906.08kHz,953.9uJy/beam@10km/s,42uJy/beam@native, XX YY]</td><td>10663.470009062945</td><td>XX YY</td><td>2015-10-18T17:29:47</td><td>Scoville, Nick</td><td>ARP220_b_03_TE</td><td>Torrey, Paul; Koda, Jin; Walter, Fabian; Murchikova, Lena; Hernquist, Lars; Sanders, David; Hayward, Christopher; Cox, Pierre; Barnes, Joshua; Thompson, Todd; Robertson, Brant; Vanden Bout, Paul; van der Werf, Paul; Decarli, Roberto; Genzel, Reinhard; Armus, Lee; Tacconi, Linda; Vlahakis, Catherine; Sheth, Kartik;</td><td>0.9138933291732583</td><td>0.019754150475718615</td><td>1.0218359</td><td>uid://A001/X2d6/X32</td><td>uid://A001/X2d6/X33</td><td>uid://A002/Xac2df7/X1b18</td><td>Arp 220 Nuclear Disks at 50 mas Resolution</td><td>S</td><td>TARGET</td><td>61.80306659404423</td><td>0.5478316056798604</td><td>Y</td><td>3</td><td>Luminous and Ultra-Luminous Infra-Red Galaxies (LIRG &amp; ULIRG)</td><td>Galaxy evolution</td><td>2015.1.00113.S</td><td>94.06 .. 109.81</td><td>ARP220</td><td>ARP 220</td><td>233.73856</td><td>23.50314</td><td>0.018126</td><td>True</td><td>True</td><td>False</td></tr>\n",
       "<tr><td>2015.1.00113.S</td><td>ARP220</td><td>233.73840416671834</td><td>23.50317777778901</td><td>36.627305952737856</td><td>53.028505491605166</td><td>[3]</td><td>0.4838313038510857</td><td>3906.2872119731464</td><td>12m</td><td></td><td>483.84</td><td>2017-11-19</td><td>[94.06..95.94GHz,3906.29kHz,1.5mJy/beam@10km/s,60.9uJy/beam@native, XX YY] U [95.94..97.81GHz,3906.29kHz,1.5mJy/beam@10km/s,61.1uJy/beam@native, XX YY] U [106.56..108.44GHz,3906.29kHz,1.5mJy/beam@10km/s,66uJy/beam@native, XX YY] U [107.94..109.81GHz,3906.29kHz,1.5mJy/beam@10km/s,68.1uJy/beam@native, XX YY]</td><td>10664.597821039306</td><td>XX YY</td><td>2016-09-04T23:05:11</td><td>Scoville, Nick</td><td>ARP220_d_03_TE</td><td>Torrey, Paul; Koda, Jin; Walter, Fabian; Murchikova, Lena; Hernquist, Lars; Sanders, David; Hayward, Christopher; Cox, Pierre; Barnes, Joshua; Thompson, Todd; Robertson, Brant; Vanden Bout, Paul; van der Werf, Paul; Decarli, Roberto; Genzel, Reinhard; Armus, Lee; Tacconi, Linda; Vlahakis, Catherine; Sheth, Kartik;</td><td>1.4719337778903994</td><td>0.031906308730580625</td><td>1.9294773</td><td>uid://A001/X2d6/X48</td><td>uid://A001/X2d6/X49</td><td>uid://A002/Xb7a3f8/X9513</td><td>Arp 220 Nuclear Disks at 50 mas Resolution</td><td>S</td><td>TARGET</td><td>61.80304306329056</td><td>2.425079524681709</td><td>Y</td><td>3</td><td>Luminous and Ultra-Luminous Infra-Red Galaxies (LIRG &amp; ULIRG)</td><td>Galaxy evolution</td><td>2015.1.00113.S</td><td>94.06 .. 109.81</td><td>ARP220</td><td>ARP 220</td><td>233.73856</td><td>23.50314</td><td>0.018126</td><td>True</td><td>True</td><td>False</td></tr>\n",
       "<tr><td>2015.1.00167.S</td><td>Arp220</td><td>233.73862916663217</td><td>23.50291111111523</td><td>36.62696198379416</td><td>53.02823924048599</td><td>[3]</td><td>0.5446771638858969</td><td>7812.620032978749</td><td>12m</td><td></td><td>967.68</td><td>2017-12-12</td><td>[98.36..100.23GHz,7812.62kHz,1.1mJy/beam@10km/s,45.3uJy/beam@native, XX YY] U [100.13..102.00GHz,7812.62kHz,1.1mJy/beam@10km/s,45.6uJy/beam@native, XX YY] U [110.36..112.23GHz,7812.62kHz,1.2mJy/beam@10km/s,54.9uJy/beam@native, XX YY] U [112.13..114.00GHz,7812.62kHz,1.4mJy/beam@10km/s,63.3uJy/beam@native, XX YY]</td><td>20545.180242456318</td><td>XX YY</td><td>2016-08-20T20:40:25</td><td>Martin, Sergio</td><td>Arp220_e_03_TE</td><td>Krips, Melanie; Garcia-Burillo, Santiago; Martin-Pintado, Jesus; Muehle, Stefanie; Harada, Nanase; Sakamoto, Kazushi; Aladro, Rebeca; van der Werf, Paul; Viti, Serena; Aalto, Susanne; Muller, Sebastien; Costagliola, Francesco; Henkel, Christian;</td><td>1.0749573961305148</td><td>0.025398225961024052</td><td>0.546057</td><td>uid://A001/X2fe/Xcdd</td><td>uid://A001/X2fe/Xcde</td><td>uid://A002/Xb6fb6f/X30d4</td><td>Spatially resolved wideband spectroscopy in ULIRG obscured nuclei II</td><td>S</td><td>TARGET</td><td>59.332360257545595</td><td>2.474002722976011</td><td>Y</td><td>0</td><td>Galaxy chemistry, Luminous and Ultra-Luminous Infra-Red Galaxies (LIRG &amp; ULIRG)</td><td>Galaxy evolution</td><td>2015.1.00167.S</td><td>98.36 .. 114.0</td><td>ARP220</td><td>ARP 220</td><td>233.73856</td><td>23.50314</td><td>0.018126</td><td>False</td><td>False</td><td>True</td></tr>\n",
       "<tr><td>2015.1.00167.S</td><td>Arp220</td><td>233.73862916664658</td><td>23.502911111112418</td><td>36.62696198379513</td><td>53.028239240472494</td><td>[3]</td><td>0.5070505257793383</td><td>7812.613604801035</td><td>12m</td><td></td><td>967.68</td><td>2017-12-15</td><td>[94.81..96.68GHz,7812.61kHz,1.2mJy/beam@10km/s,50.8uJy/beam@native, XX YY] U [96.58..98.45GHz,7812.61kHz,1.2mJy/beam@10km/s,50.7uJy/beam@native, XX YY] U [106.81..108.68GHz,7812.61kHz,1.3mJy/beam@10km/s,55.1uJy/beam@native, XX YY] U [108.58..110.45GHz,7812.61kHz,1.3mJy/beam@10km/s,58.2uJy/beam@native, XX YY]</td><td>21205.442752925406</td><td>XX YY</td><td>2016-08-23T21:10:04</td><td>Martin, Sergio</td><td>Arp220_d_03_TE</td><td>Krips, Melanie; Garcia-Burillo, Santiago; Martin-Pintado, Jesus; Muehle, Stefanie; Harada, Nanase; Sakamoto, Kazushi; Aladro, Rebeca; van der Werf, Paul; Viti, Serena; Aalto, Susanne; Muller, Sebastien; Costagliola, Francesco; Henkel, Christian;</td><td>1.2181162067839193</td><td>0.026724823904649957</td><td>1.9208107</td><td>uid://A001/X2fe/Xcd9</td><td>uid://A001/X2fe/Xcda</td><td>uid://A002/Xb7189f/X7864</td><td>Spatially resolved wideband spectroscopy in ULIRG obscured nuclei II</td><td>S</td><td>TARGET</td><td>61.38453781100242</td><td>2.514093347920131</td><td>Y</td><td>0</td><td>Galaxy chemistry, Luminous and Ultra-Luminous Infra-Red Galaxies (LIRG &amp; ULIRG)</td><td>Galaxy evolution</td><td>2015.1.00167.S</td><td>94.81 .. 110.45</td><td>ARP220</td><td>ARP 220</td><td>233.73856</td><td>23.50314</td><td>0.018126</td><td>True</td><td>True</td><td>False</td></tr>\n",
       "<tr><td>2015.1.00113.S</td><td>ARP220</td><td>233.73840416669236</td><td>23.50317777778138</td><td>36.62730595271577</td><td>53.02850549162631</td><td>[3]</td><td>0.40461948816483573</td><td>3906.27989561073</td><td>12m</td><td></td><td>1330.56</td><td>2018-07-17</td><td>[98.41..100.29GHz,3906.28kHz,1.2mJy/beam@10km/s,49.1uJy/beam@native, XX YY] U [100.31..102.18GHz,3906.28kHz,1.2mJy/beam@10km/s,49.5uJy/beam@native, XX YY] U [110.36..112.23GHz,3906.28kHz,1.3mJy/beam@10km/s,59.6uJy/beam@native, XX YY] U [112.29..114.17GHz,3906.28kHz,1.6mJy/beam@10km/s,70uJy/beam@native, XX YY]</td><td>10257.554832823467</td><td>XX YY</td><td>2016-09-04T22:37:38</td><td>Scoville, Nick</td><td>ARP220_c_03_TE</td><td>Torrey, Paul; Koda, Jin; Walter, Fabian; Murchikova, Lena; Hernquist, Lars; Sanders, David; Hayward, Christopher; Cox, Pierre; Barnes, Joshua; Thompson, Todd; Robertson, Brant; Vanden Bout, Paul; van der Werf, Paul; Decarli, Roberto; Genzel, Reinhard; Armus, Lee; Tacconi, Linda; Vlahakis, Catherine; Sheth, Kartik;</td><td>1.1668308432440675</td><td>0.027641803991879297</td><td>1.0759993</td><td>uid://A001/X2d6/X44</td><td>uid://A001/X2d6/X45</td><td>uid://A002/Xb7a3f8/X941b</td><td>Arp 220 Nuclear Disks at 50 mas Resolution</td><td>S</td><td>TARGET</td><td>59.27167755920384</td><td>2.3432809251755247</td><td>Y</td><td>3</td><td>Luminous and Ultra-Luminous Infra-Red Galaxies (LIRG &amp; ULIRG)</td><td>Galaxy evolution</td><td>2015.1.00113.S</td><td>98.41 .. 114.17</td><td>ARP220</td><td>ARP 220</td><td>233.73856</td><td>23.50314</td><td>0.018126</td><td>False</td><td>False</td><td>True</td></tr>\n",
       "<tr><td>2017.1.00042.S</td><td>ARP220</td><td>233.73843333330217</td><td>23.50318916667</td><td>36.62733536968483</td><td>53.028482424336694</td><td>[3]</td><td>0.09499703211970881</td><td>976.4962484675956</td><td>12m</td><td></td><td>2122.848</td><td>2018-12-02</td><td>[94.06..95.94GHz,976.50kHz,657.2uJy/beam@10km/s,27uJy/beam@native, XX YY] U [95.88..97.87GHz,31247.88kHz,654uJy/beam@10km/s,26.3uJy/beam@native, XX YY] U [106.51..108.49GHz,31247.88kHz,675.9uJy/beam@10km/s,28.6uJy/beam@native, XX YY] U [107.88..109.87GHz,31247.88kHz,692.9uJy/beam@10km/s,29.5uJy/beam@native, XX YY]</td><td>3051.228923472357</td><td>XX YY</td><td>2017-11-14T15:20:20</td><td>Scoville, Nick</td><td>ARP220_c_03_TM1</td><td>Koda, Jin; Walter, Fabian; Murchikova, Lena; Hernquist, Lars; Sanders, David; Hayward, Christopher; Barnes, Joshua; Thompson, Todd; Vanden Bout, Paul; Zschaechner, Laura; Yun, Min; Armus, Lee; Tacconi, Linda; Vlahakis, Catherine; Sheth, Kartik;</td><td>0.6540069615998098</td><td>0.013887624754324954</td><td>4.2110424</td><td>uid://A001/X1288/Xd60</td><td>uid://A001/X1288/Xd61</td><td>uid://A002/Xc6d2f9/X431f</td><td>Arp 220 Nuclear Disks at 0.027-0.05&apos;&apos; Resolution</td><td>S</td><td>TARGET</td><td>61.78592572419391</td><td>0.832956554067537</td><td>Y</td><td>0</td><td>Starbursts, star formation, Merging and interacting galaxies</td><td>Active galaxies</td><td>2017.1.00042.S</td><td>94.06 .. 109.87</td><td>ARP220</td><td>ARP 220</td><td>233.73856</td><td>23.50314</td><td>0.018126</td><td>True</td><td>True</td><td>False</td></tr>\n",
       "<tr><td>2017.1.00042.S</td><td>ARP220</td><td>233.7384333333084</td><td>23.503189166668733</td><td>36.62733536968517</td><td>53.028482424330875</td><td>[3]</td><td>0.1110934623721982</td><td>976.4937770664418</td><td>12m</td><td></td><td>2812.32</td><td>2019-01-04</td><td>[98.36..100.34GHz,31247.80kHz,541.4uJy/beam@10km/s,22uJy/beam@native, XX YY] U [100.24..102.23GHz,31247.80kHz,541.4uJy/beam@10km/s,22.2uJy/beam@native, XX YY] U [110.28..112.27GHz,31247.80kHz,621.5uJy/beam@10km/s,26.8uJy/beam@native, XX YY] U [112.29..114.17GHz,976.49kHz,723.4uJy/beam@10km/s,32.5uJy/beam@native, XX YY]</td><td>2563.953486080242</td><td>XX YY</td><td>2017-11-16T15:26:23</td><td>Scoville, Nick</td><td>ARP220_b_03_TM1</td><td>Koda, Jin; Walter, Fabian; Murchikova, Lena; Hernquist, Lars; Sanders, David; Hayward, Christopher; Barnes, Joshua; Thompson, Todd; Vanden Bout, Paul; Zschaechner, Laura; Yun, Min; Armus, Lee; Tacconi, Linda; Vlahakis, Catherine; Sheth, Kartik;</td><td>0.5413680017929067</td><td>0.012477539329992189</td><td>1.1511917</td><td>uid://A001/X1288/Xd5c</td><td>uid://A001/X1288/Xd5d</td><td>uid://A002/Xc6e968/X41cf</td><td>Arp 220 Nuclear Disks at 0.027-0.05&apos;&apos; Resolution</td><td>S</td><td>TARGET</td><td>59.28652231283213</td><td>1.0025363564557457</td><td>Y</td><td>0</td><td>Starbursts, star formation, Merging and interacting galaxies</td><td>Active galaxies</td><td>2017.1.00042.S</td><td>98.36 .. 114.17</td><td>ARP220</td><td>ARP 220</td><td>233.73856</td><td>23.50314</td><td>0.018126</td><td>False</td><td>False</td><td>True</td></tr>\n",
       "<tr><td>2017.1.00042.S</td><td>ARP220</td><td>233.73843333337174</td><td>23.503189166672037</td><td>36.6273353697145</td><td>53.028482424275424</td><td>[3]</td><td>0.32814923895087994</td><td>976.45030733727</td><td>12m</td><td></td><td>3084.48</td><td>2019-01-26</td><td>[98.36..100.34GHz,31246.60kHz,818.5uJy/beam@10km/s,33.3uJy/beam@native, XX YY] U [100.24..102.23GHz,31246.60kHz,820.6uJy/beam@10km/s,33.7uJy/beam@native, XX YY] U [110.28..112.27GHz,31246.60kHz,947.5uJy/beam@10km/s,40.8uJy/beam@native, XX YY] U [112.29..114.17GHz,976.46kHz,1.1mJy/beam@10km/s,49.2uJy/beam@native, XX YY]</td><td>2563.7261470781546</td><td>XX YY</td><td>2017-12-14T15:35:42</td><td>Scoville, Nick</td><td>ARP220_a_03_TM2</td><td>Koda, Jin; Walter, Fabian; Murchikova, Lena; Hernquist, Lars; Sanders, David; Hayward, Christopher; Barnes, Joshua; Thompson, Todd; Vanden Bout, Paul; Zschaechner, Laura; Yun, Min; Armus, Lee; Tacconi, Linda; Vlahakis, Catherine; Sheth, Kartik;</td><td>0.8184526680379411</td><td>0.018917087588161047</td><td>3.953352</td><td>uid://A001/X1288/Xd52</td><td>uid://A001/X1288/Xd55</td><td>uid://A002/Xc7e4e4/X361a</td><td>Arp 220 Nuclear Disks at 0.027-0.05&apos;&apos; Resolution</td><td>S</td><td>TARGET</td><td>59.2865217314806</td><td>3.0842070191081867</td><td>Y</td><td>0</td><td>Starbursts, star formation, Merging and interacting galaxies</td><td>Active galaxies</td><td>2017.1.00042.S</td><td>98.36 .. 114.17</td><td>ARP220</td><td>ARP 220</td><td>233.73856</td><td>23.50314</td><td>0.018126</td><td>False</td><td>False</td><td>True</td></tr>\n",
       "<tr><td>2017.1.00042.S</td><td>ARP220</td><td>233.7384333332796</td><td>23.503189166679903</td><td>36.62733536969219</td><td>53.028482424359225</td><td>[3]</td><td>0.05883011459793332</td><td>976.504805927172</td><td>12m</td><td></td><td>4154.976</td><td>NaT</td><td>[98.36..100.34GHz,31248.28kHz,564uJy/beam@10km/s,23uJy/beam@native, XX YY] U [100.24..102.23GHz,31248.28kHz,563.7uJy/beam@10km/s,23.2uJy/beam@native, XX YY] U [110.28..112.27GHz,31248.28kHz,646.6uJy/beam@10km/s,27.9uJy/beam@native, XX YY] U [112.29..114.17GHz,976.51kHz,753.4uJy/beam@10km/s,33.8uJy/beam@native, XX YY]</td><td>2564.0111931979563</td><td>XX YY</td><td>2017-11-01T15:13:58</td><td>Scoville, Nick</td><td>ARP220_a_03_TM1</td><td>Koda, Jin; Walter, Fabian; Murchikova, Lena; Hernquist, Lars; Sanders, David; Hayward, Christopher; Barnes, Joshua; Thompson, Todd; Vanden Bout, Paul; Zschaechner, Laura; Yun, Min; Armus, Lee; Tacconi, Linda; Vlahakis, Catherine; Sheth, Kartik;</td><td>0.5636972199784781</td><td>0.01299199832112588</td><td>0.9077588</td><td>uid://A001/X1288/Xd52</td><td>uid://A001/X1288/Xd53</td><td>uid://A002/Xc64412/X6d84</td><td>Arp 220 Nuclear Disks at 0.027-0.05&apos;&apos; Resolution</td><td>S</td><td>TARGET</td><td>59.28652315835306</td><td>0.682226892858946</td><td></td><td>0</td><td>Starbursts, star formation, Merging and interacting galaxies</td><td>Active galaxies</td><td>2017.1.00042.S</td><td>98.36 .. 114.17</td><td>ARP220</td><td>ARP 220</td><td>233.73856</td><td>23.50314</td><td>0.018126</td><td>False</td><td>False</td><td>True</td></tr>\n",
       "</table>"
      ],
      "text/plain": [
       "<Table masked=True length=10>\n",
       " Project code  ALMA source name      ALMA RA       ... 13CO J=1-0 12CO J=1-0\n",
       "                                       deg         ...                      \n",
       "   bytes64         bytes256          float64       ...    bool       bool   \n",
       "-------------- ---------------- ------------------ ... ---------- ----------\n",
       "2015.1.00113.S           ARP220  233.7384041666667 ...      False       True\n",
       "2015.1.00113.S           ARP220  233.7384041666667 ...       True      False\n",
       "2015.1.00113.S           ARP220 233.73840416671834 ...       True      False\n",
       "2015.1.00167.S           Arp220 233.73862916663217 ...      False       True\n",
       "2015.1.00167.S           Arp220 233.73862916664658 ...       True      False\n",
       "2015.1.00113.S           ARP220 233.73840416669236 ...      False       True\n",
       "2017.1.00042.S           ARP220 233.73843333330217 ...       True      False\n",
       "2017.1.00042.S           ARP220  233.7384333333084 ...      False       True\n",
       "2017.1.00042.S           ARP220 233.73843333337174 ...      False       True\n",
       "2017.1.00042.S           ARP220  233.7384333332796 ...      False       True"
      ]
     },
     "metadata": {},
     "output_type": "display_data"
    },
    {
     "data": {
      "text/html": [
       "<i>Table masked=True length=5</i>\n",
       "<table id=\"table4437426976\" class=\"table-striped table-bordered table-condensed\">\n",
       "<thead><tr><th>Project code</th><th>ALMA source name</th><th>ALMA RA</th><th>ALMA Dec</th><th>Galactic longitude</th><th>Galactic latitude</th><th>Band</th><th>Spatial resolution</th><th>Frequency resolution</th><th>Array</th><th>Mosaic</th><th>Integration</th><th>Release date</th><th>Frequency support</th><th>Velocity resolution</th><th>Pol products</th><th>Observation date</th><th>PI name</th><th>SB name</th><th>Proposal authors</th><th>Line sensitivity (10 km/s)</th><th>Continuum sensitivity</th><th>PWV</th><th>Group ous id</th><th>Member ous id</th><th>Asdm uid</th><th>Project title</th><th>Project type</th><th>Scan intent</th><th>Field of view</th><th>Largest angular scale</th><th>QA2 Status</th><th>COUNT</th><th>Science keyword</th><th>Scientific category</th><th>ASA_PROJECT_CODE</th><th>Frequency ranges</th><th>ALMA sanitized source name</th><th>NED source name</th><th>NED RA</th><th>NED Dec</th><th>NED Redshift</th><th>C18O J=1-0</th><th>13CO J=1-0</th><th>12CO J=1-0</th></tr></thead>\n",
       "<thead><tr><th></th><th></th><th>deg</th><th>deg</th><th>deg</th><th>deg</th><th></th><th></th><th>kHz</th><th></th><th></th><th>s</th><th></th><th>GHz</th><th>m / s</th><th></th><th></th><th></th><th></th><th></th><th></th><th>mJy/beam</th><th>mm</th><th></th><th></th><th></th><th></th><th></th><th></th><th>arcs</th><th>arcs</th><th></th><th></th><th></th><th></th><th></th><th>GHz</th><th></th><th></th><th>degrees</th><th>degrees</th><th></th><th></th><th></th><th></th></tr></thead>\n",
       "<thead><tr><th>bytes64</th><th>bytes256</th><th>float64</th><th>float64</th><th>float64</th><th>float64</th><th>object</th><th>float64</th><th>float64</th><th>object</th><th>object</th><th>float64</th><th>object</th><th>bytes2700</th><th>float64</th><th>bytes64</th><th>object</th><th>bytes256</th><th>bytes128</th><th>bytes512</th><th>float64</th><th>float64</th><th>float32</th><th>bytes64</th><th>bytes64</th><th>bytes32</th><th>bytes256</th><th>bytes16</th><th>bytes256</th><th>float64</th><th>float64</th><th>bytes1</th><th>int64</th><th>bytes200</th><th>bytes200</th><th>bytes64</th><th>object</th><th>str7</th><th>bytes30</th><th>float64</th><th>float64</th><th>float64</th><th>bool</th><th>bool</th><th>bool</th></tr></thead>\n",
       "<tr><td>2013.1.00049.S</td><td>NGC_6240</td><td>253.24525416666663</td><td>2.400986</td><td>20.729013636056607</td><td>27.29104750337486</td><td>[3]</td><td>1.7466723039466299</td><td>1952.8728015528832</td><td>12m</td><td></td><td>2842.56</td><td>2016-08-07</td><td>[94.71..96.59GHz,1952.88kHz,697.6uJy/beam@10km/s,28.8uJy/beam@native, XX YY] U [106.64..108.52GHz,1952.88kHz,719.2uJy/beam@10km/s,31.5uJy/beam@native, XX YY]</td><td>5394.400598303093</td><td>XX YY</td><td>2015-04-11T06:03:58</td><td>Cicone, Claudia</td><td>NGC_6240_a_03_TE</td><td>Papadopoulos, Padelis; Thi, Wing-Fai; Wagg, Jeff; Maiolino, Roberto; Zhang, Zhiyu; Feruglio, Chiara;</td><td>0.6976460758163437</td><td>0.021235647531750175</td><td>7.0027866</td><td>uid://A001/X197/X1d</td><td>uid://A001/X197/X1e</td><td>uid://A002/X9de499/X28d7</td><td>An Unprecedented ALMA View of the Massive Molecular Outflow in NGC 6240</td><td>S</td><td>TARGET</td><td>61.99891585886438</td><td>11.355323532320442</td><td>Y</td><td>0</td><td>Outflows, jets, feedback</td><td>Active galaxies</td><td>2013.1.00049.S</td><td>[array([94.71, 96.59]), array([106.64, 108.52])]</td><td>NGC6240</td><td>NGC 6240</td><td>253.24529</td><td>2.40093</td><td>0.02448</td><td>True</td><td>True</td><td>False</td></tr>\n",
       "<tr><td>2015.1.00003.S</td><td>ngc6240</td><td>253.24525400004578</td><td>2.400986000000825</td><td>20.72901354390882</td><td>27.291047648315168</td><td>[3]</td><td>0.5400291865641982</td><td>1953.1780186712247</td><td>12m</td><td></td><td>635.04</td><td>2017-11-01</td><td>[97.64..99.51GHz,15625.42kHz,1.3mJy/beam@10km/s,54.1uJy/beam@native, XX YY] U [99.47..101.34GHz,7812.71kHz,1.3mJy/beam@10km/s,54.4uJy/beam@native, XX YY] U [109.72..111.59GHz,7812.71kHz,1.4mJy/beam@10km/s,62.3uJy/beam@native, XX YY] U [111.59..113.46GHz,1953.18kHz,1.5mJy/beam@10km/s,67.8uJy/beam@native, XX YY]</td><td>5160.753505336763</td><td>XX YY</td><td>2016-08-12T01:28:41</td><td>Saito, Toshiki</td><td>ngc6240_a_03_TE</td><td>Xu, C. Kevin; Sliwa, Kazimierz; Ando, Misaki; Nakanishi, Kouichiro; Yamashita, Takuji; Kaneko, Hiroyuki; Espada, Daniel; Yun, Min; Michiyama, Tomonari; Iono, Daisuke; Ueda, Junko; Motohara, Kentaro;</td><td>1.2871245916273053</td><td>0.029428988728299008</td><td>0.5699422</td><td>uid://A001/X5a3/X185</td><td>uid://A001/X5a3/X186</td><td>uid://A002/Xb68dbd/X72f9</td><td>SPATIALLY RESOLVED CO SLED IMAGING IN NEARBY LIRGS</td><td>S</td><td>TARGET</td><td>59.68562637206829</td><td>2.7141035201812467</td><td>Y</td><td>1</td><td>Merging and interacting galaxies, Luminous and Ultra-Luminous Infra-Red Galaxies (LIRG &amp; ULIRG)</td><td>Galaxy evolution</td><td>2015.1.00003.S</td><td>[array([97.64, 99.51]), array([ 99.47, 101.34]), array([109.72, 111.59]), array([111.59, 113.46])]</td><td>NGC6240</td><td>NGC 6240</td><td>253.24529</td><td>2.40093</td><td>0.02448</td><td>False</td><td>False</td><td>True</td></tr>\n",
       "<tr><td>2015.1.01439.S</td><td>ngc6240</td><td>253.24525420002365</td><td>2.40098610000017</td><td>20.72901375247403</td><td>27.291047523549974</td><td>[3]</td><td>0.49127181178248386</td><td>15625.497362928949</td><td>12m</td><td></td><td>937.44</td><td>2018-04-21</td><td>[93.27..95.14GHz,15625.50kHz,1.2mJy/beam@10km/s,49.4uJy/beam@native, XX YY] U [95.08..96.95GHz,15625.50kHz,1.2mJy/beam@10km/s,49.6uJy/beam@native, XX YY] U [105.07..107.05GHz,31250.99kHz,1.2mJy/beam@10km/s,50uJy/beam@native, XX YY] U [106.94..108.80GHz,15625.50kHz,1.2mJy/beam@10km/s,52.9uJy/beam@native, XX YY]</td><td>43054.99410637717</td><td>XX YY</td><td>2016-08-23T23:54:33</td><td>Saito, Toshiki</td><td>ngc6240_b_03_TE</td><td>Michiyama, Tomonari; Ando, Misaki; Kawabe, Ryohei; Iono, Daisuke; Ueda, Junko; Yamashita, Takuji;</td><td>1.1885420402544744</td><td>0.02519270787340361</td><td>2.0640316</td><td>uid://A001/X2fe/X727</td><td>uid://A001/X2fe/X728</td><td>uid://A002/Xb7189f/X84e2</td><td>UNVEILING MERGER-INDUCED SHOCKS IN MOLECULAR HYDROGEN EMITTING GALAXIES (MOHEGs)</td><td>S</td><td>TARGET</td><td>62.3536086848821</td><td>2.435858225616976</td><td>Y</td><td>0</td><td>Merging and interacting galaxies, Galaxy chemistry</td><td>Galaxy evolution</td><td>2015.1.01439.S</td><td>[array([93.27, 95.14]), array([95.08, 96.95]), array([105.07, 107.05]), array([106.94, 108.8 ])]</td><td>NGC6240</td><td>NGC 6240</td><td>253.24529</td><td>2.40093</td><td>0.02448</td><td>True</td><td>True</td><td>False</td></tr>\n",
       "<tr><td>2015.1.00003.S</td><td>ngc6240</td><td>253.24525399996847</td><td>2.4009860000004286</td><td>20.729013543865676</td><td>27.291047648382214</td><td>[3]</td><td>0.9536699259173603</td><td>1953.1002389481027</td><td>12m</td><td></td><td>332.64</td><td>2018-06-27</td><td>[97.64..99.51GHz,15624.80kHz,1.5mJy/beam@10km/s,64uJy/beam@native, XX YY] U [99.47..101.34GHz,7812.40kHz,1.5mJy/beam@10km/s,64.5uJy/beam@native, XX YY] U [109.72..111.59GHz,7812.40kHz,1.7mJy/beam@10km/s,74.5uJy/beam@native, XX YY] U [111.59..113.46GHz,1953.10kHz,1.8mJy/beam@10km/s,80.9uJy/beam@native, XX YY]</td><td>5160.344440188312</td><td>XX YY</td><td>2016-07-03T01:27:07</td><td>Saito, Toshiki</td><td>ngc6240_a_03_TC</td><td>Xu, C. Kevin; Sliwa, Kazimierz; Ando, Misaki; Nakanishi, Kouichiro; Yamashita, Takuji; Kaneko, Hiroyuki; Espada, Daniel; Yun, Min; Michiyama, Tomonari; Iono, Daisuke; Ueda, Junko; Motohara, Kentaro;</td><td>1.5257369213262302</td><td>0.0349718626392937</td><td>4.9229636</td><td>uid://A001/X5a3/X185</td><td>uid://A001/X5a3/X188</td><td>uid://A002/Xb51915/X1699</td><td>SPATIALLY RESOLVED CO SLED IMAGING IN NEARBY LIRGS</td><td>S</td><td>TARGET</td><td>59.68555106924069</td><td>4.83965145316753</td><td>Y</td><td>1</td><td>Merging and interacting galaxies, Luminous and Ultra-Luminous Infra-Red Galaxies (LIRG &amp; ULIRG)</td><td>Galaxy evolution</td><td>2015.1.00003.S</td><td>[array([97.64, 99.51]), array([ 99.47, 101.34]), array([109.72, 111.59]), array([111.59, 113.46])]</td><td>NGC6240</td><td>NGC 6240</td><td>253.24529</td><td>2.40093</td><td>0.02448</td><td>False</td><td>False</td><td>True</td></tr>\n",
       "<tr><td>2016.2.00042.S</td><td>ngc6240</td><td>253.2452541666758</td><td>2.4009861111101047</td><td>20.729013744915562</td><td>27.291047558023692</td><td>[3]</td><td>11.099542148547913</td><td>976.5781663597273</td><td>7m</td><td></td><td>3568.32</td><td>2018-08-21</td><td>[97.62..99.61GHz,15625.25kHz,13.2mJy/beam@10km/s,535.2uJy/beam@native, XX YY] U [99.50..101.49GHz,15625.25kHz,13.2mJy/beam@10km/s,541.4uJy/beam@native, XX YY] U [109.79..111.79GHz,976.58kHz,15.2mJy/beam@10km/s,655.4uJy/beam@native, XX YY] U [111.54..113.53GHz,976.58kHz,15.8mJy/beam@10km/s,683.5uJy/beam@native, XX YY]</td><td>2578.7248493074603</td><td>XX YY</td><td>2017-07-29T00:10:33</td><td>Saito, Toshiki</td><td>ngc6240_a_03_7M</td><td>Ando, Misaki; Michiyama, Tomonari; Yun, Min; Sliwa, Kazimierz; Iono, Daisuke; Nakanishi, Kouichiro; Ueda, Junko; Motohara, Kentaro; Yamashita, Takuji; Bouché, Nicolas; Inami, Hanae;</td><td>13.197744087178387</td><td>0.2965507148263334</td><td>5.186</td><td>uid://A001/X1262/Xe4</td><td>uid://A001/X1262/Xe5</td><td>uid://A002/Xc2c2f2/X8e2</td><td>The True Aspect of Gas-rich Merging Galaxies</td><td>S</td><td>TARGET</td><td>59.67128282698371</td><td>46.9710924064089</td><td>Y</td><td>0</td><td>Merging and interacting galaxies, Luminous and Ultra-Luminous Infra-Red Galaxies (LIRG &amp; ULIRG)</td><td>Galaxy evolution</td><td>2016.2.00042.S</td><td>[array([97.62, 99.61]), array([ 99.5 , 101.49]), array([109.79, 111.79]), array([111.54, 113.53])]</td><td>NGC6240</td><td>NGC 6240</td><td>253.24529</td><td>2.40093</td><td>0.02448</td><td>False</td><td>False</td><td>True</td></tr>\n",
       "</table>"
      ],
      "text/plain": [
       "<Table masked=True length=5>\n",
       " Project code  ALMA source name      ALMA RA       ... 13CO J=1-0 12CO J=1-0\n",
       "                                       deg         ...                      \n",
       "   bytes64         bytes256          float64       ...    bool       bool   \n",
       "-------------- ---------------- ------------------ ... ---------- ----------\n",
       "2013.1.00049.S         NGC_6240 253.24525416666663 ...       True      False\n",
       "2015.1.00003.S          ngc6240 253.24525400004578 ...      False       True\n",
       "2015.1.01439.S          ngc6240 253.24525420002365 ...       True      False\n",
       "2015.1.00003.S          ngc6240 253.24525399996847 ...      False       True\n",
       "2016.2.00042.S          ngc6240  253.2452541666758 ...      False       True"
      ]
     },
     "metadata": {},
     "output_type": "display_data"
    }
   ],
   "source": [
    "k=0 #counter\n",
    "for targetname in herusLineQuery.targets.keys():\n",
    "    if len(herusLineQuery.queryResults[targetname])>=1:\n",
    "        # select only galaxies with all three lines\n",
    "        if ((True in herusLineQuery.queryResults[targetname]['12CO J=1-0']) & \n",
    "            (True in herusLineQuery.queryResults[targetname]['13CO J=1-0']) &\n",
    "            (True in herusLineQuery.queryResults[targetname]['C18O J=1-0'])):\n",
    "            k = k+1\n",
    "            display(herusLineQuery.queryResults[targetname])\n"
   ]
  },
  {
   "cell_type": "code",
   "execution_count": 14,
   "metadata": {},
   "outputs": [
    {
     "name": "stdout",
     "output_type": "stream",
     "text": [
      "galaxies with 12CO, 13CO, AND C18O: 4\n"
     ]
    }
   ],
   "source": [
    "print(\"galaxies with 12CO, 13CO, AND C18O:\", k)"
   ]
  },
  {
   "cell_type": "code",
   "execution_count": null,
   "metadata": {},
   "outputs": [],
   "source": []
  },
  {
   "cell_type": "code",
   "execution_count": null,
   "metadata": {},
   "outputs": [],
   "source": []
  },
  {
   "cell_type": "code",
   "execution_count": null,
   "metadata": {},
   "outputs": [],
   "source": []
  },
  {
   "cell_type": "code",
   "execution_count": null,
   "metadata": {},
   "outputs": [],
   "source": []
  },
  {
   "cell_type": "code",
   "execution_count": null,
   "metadata": {},
   "outputs": [],
   "source": []
  },
  {
   "cell_type": "code",
   "execution_count": null,
   "metadata": {},
   "outputs": [],
   "source": []
  },
  {
   "cell_type": "code",
   "execution_count": null,
   "metadata": {},
   "outputs": [],
   "source": []
  },
  {
   "cell_type": "code",
   "execution_count": null,
   "metadata": {},
   "outputs": [],
   "source": []
  },
  {
   "cell_type": "code",
   "execution_count": null,
   "metadata": {},
   "outputs": [],
   "source": []
  },
  {
   "cell_type": "code",
   "execution_count": null,
   "metadata": {},
   "outputs": [],
   "source": []
  },
  {
   "cell_type": "code",
   "execution_count": null,
   "metadata": {},
   "outputs": [],
   "source": []
  }
 ],
 "metadata": {
  "kernelspec": {
   "display_name": "Python 3",
   "language": "python",
   "name": "python3"
  },
  "language_info": {
   "codemirror_mode": {
    "name": "ipython",
    "version": 3
   },
   "file_extension": ".py",
   "mimetype": "text/x-python",
   "name": "python",
   "nbconvert_exporter": "python",
   "pygments_lexer": "ipython3",
   "version": "3.7.3"
  }
 },
 "nbformat": 4,
 "nbformat_minor": 2
}
