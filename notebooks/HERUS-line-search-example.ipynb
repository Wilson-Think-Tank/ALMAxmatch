{
 "cells": [
  {
   "cell_type": "markdown",
   "metadata": {},
   "source": [
    "# Search HERUS for observed lines in ALMA archival data\n",
    "## - HERUS (Clements+2018) is a sample of 43 ULIRGs at z < 0.3\n",
    "## Search the ALMA archive using the `ALMAxmatch` module. Specifically we need the `runQueryWithLines` method"
   ]
  },
  {
   "cell_type": "code",
   "execution_count": 1,
   "metadata": {},
   "outputs": [],
   "source": [
    "from astropy.table import Table\n",
    "# read in sample\n",
    "HERUS_sample = Table.read('HERUS_sample.fits')"
   ]
  },
  {
   "cell_type": "markdown",
   "metadata": {},
   "source": [
    "Tidy up trailing white space in the name column (helps with matching later)"
   ]
  },
  {
   "cell_type": "code",
   "execution_count": 2,
   "metadata": {},
   "outputs": [],
   "source": [
    "names = [name.strip() for name in HERUS_sample['name']]\n",
    "HERUS_sample['name'] = names"
   ]
  },
  {
   "cell_type": "code",
   "execution_count": 3,
   "metadata": {
    "scrolled": false
   },
   "outputs": [
    {
     "data": {
      "text/html": [
       "<i>Table length=43</i>\n",
       "<table id=\"table4549325768\" class=\"table-striped table-bordered table-condensed\">\n",
       "<thead><tr><th>name</th><th>ra</th><th>dec</th><th>z</th><th>log(LIR/L)</th><th>ObsID_C18</th><th>F250</th><th>F350</th><th>F500</th><th>F250_err</th><th>F350_err</th><th>F500_err</th><th>Temp(K)</th><th>T+</th><th>T-</th><th>Beta</th><th>B+</th><th>B-</th><th>A</th><th>A+</th><th>A-</th><th>DustMass(logMsol)</th><th>HERUS</th></tr></thead>\n",
       "<thead><tr><th>str15</th><th>float64</th><th>float64</th><th>float32</th><th>float32</th><th>bytes11</th><th>float32</th><th>float32</th><th>float32</th><th>float32</th><th>float32</th><th>float32</th><th>float32</th><th>float32</th><th>float32</th><th>float32</th><th>float32</th><th>float32</th><th>bytes6</th><th>float32</th><th>float32</th><th>float32</th><th>bool</th></tr></thead>\n",
       "<tr><td>IRAS 00397-1312</td><td>10.5647</td><td>-12.93412</td><td>0.262</td><td>12.97</td><td>1342234696</td><td>0.389</td><td>0.13</td><td>0.04</td><td>0.004</td><td>0.004</td><td>0.005</td><td>41.73</td><td>1.19</td><td>1.19</td><td>2.03</td><td>0.08</td><td>0.08</td><td>- 1.21</td><td>0.05</td><td>0.05</td><td>8.9</td><td>True</td></tr>\n",
       "<tr><td>3C273</td><td>187.27792</td><td>2.05239</td><td>0.158</td><td>12.72</td><td>1342234882</td><td>0.437</td><td>0.633</td><td>0.994</td><td>0.004</td><td>0.004</td><td>0.005</td><td>nan</td><td>nan</td><td>nan</td><td>nan</td><td>nan</td><td>nan</td><td></td><td>nan</td><td>nan</td><td>nan</td><td>True</td></tr>\n",
       "<tr><td>IRAS 20100-4156</td><td>303.37308</td><td>-41.79303</td><td>0.13</td><td>12.63</td><td>1342230817</td><td>1.001</td><td>0.349</td><td>0.102</td><td>0.004</td><td>0.004</td><td>0.005</td><td>39.51</td><td>0.4</td><td>0.39</td><td>1.96</td><td>0.03</td><td>0.03</td><td>- 0.63</td><td>0.02</td><td>0.02</td><td>8.6</td><td>True</td></tr>\n",
       "<tr><td>Mrk1014</td><td>29.95921</td><td>0.39462</td><td>0.163</td><td>12.61</td><td>1342237540</td><td>0.46</td><td>0.175</td><td>0.063</td><td>0.004</td><td>0.004</td><td>0.005</td><td>46.89</td><td>1.1</td><td>1.14</td><td>1.5</td><td>0.07</td><td>0.06</td><td>- 1.30</td><td>0.04</td><td>0.04</td><td>8.4</td><td>True</td></tr>\n",
       "<tr><td>IRAS 03521+0028</td><td>58.6758</td><td>0.61761</td><td>0.152</td><td>12.56</td><td>1342239850</td><td>0.684</td><td>0.27</td><td>0.094</td><td>0.004</td><td>0.004</td><td>0.004</td><td>42.62</td><td>1.15</td><td>1.27</td><td>1.57</td><td>0.05</td><td>0.05</td><td>- 1.02</td><td>0.04</td><td>0.04</td><td>8.6</td><td>True</td></tr>\n",
       "<tr><td>IRAS 03158+4227</td><td>49.80167</td><td>42.64111</td><td>0.134</td><td>12.55</td><td>1342226656</td><td>0.973</td><td>0.377</td><td>0.137</td><td>0.004</td><td>0.004</td><td>0.005</td><td>42.3</td><td>1.26</td><td>1.37</td><td>1.58</td><td>0.04</td><td>0.04</td><td>- 0.84</td><td>0.04</td><td>0.04</td><td>8.6</td><td>True</td></tr>\n",
       "<tr><td>IRAS 16090-0139</td><td>242.91847</td><td>-1.78516</td><td>0.134</td><td>12.54</td><td>1342229565</td><td>1.067</td><td>0.404</td><td>0.116</td><td>0.004</td><td>0.004</td><td>0.005</td><td>37.5</td><td>0.43</td><td>0.44</td><td>1.84</td><td>0.03</td><td>0.03</td><td>- 0.60</td><td>0.02</td><td>0.02</td><td>8.7</td><td>True</td></tr>\n",
       "<tr><td>Mrk231</td><td>194.05931</td><td>56.87368</td><td>0.042</td><td>12.49</td><td>1342201218a</td><td>5.618</td><td>2.011</td><td>0.615</td><td>0.019</td><td>0.008</td><td>0.008</td><td>36.87</td><td>0.41</td><td>0.43</td><td>1.89</td><td>0.02</td><td>0.02</td><td>0.26</td><td>0.02</td><td>0.02</td><td>8.3</td><td>True</td></tr>\n",
       "<tr><td>IRAS 00188-0856</td><td>5.36051</td><td>-8.65722</td><td>0.128</td><td>12.47</td><td>1342234693</td><td>0.877</td><td>0.345</td><td>0.111</td><td>0.004</td><td>0.004</td><td>0.005</td><td>35.76</td><td>0.88</td><td>1.05</td><td>1.74</td><td>0.05</td><td>0.05</td><td>- 0.67</td><td>0.05</td><td>0.04</td><td>8.6</td><td>True</td></tr>\n",
       "<tr><td>IRAS 07598+6508</td><td>121.13783</td><td>64.99683</td><td>0.148</td><td>12.46</td><td>1342229642</td><td>0.5</td><td>0.197</td><td>0.058</td><td>0.004</td><td>0.004</td><td>0.005</td><td>40.34</td><td>0.83</td><td>0.81</td><td>1.6</td><td>0.05</td><td>0.05</td><td>- 1.09</td><td>0.04</td><td>0.04</td><td>8.5</td><td>True</td></tr>\n",
       "<tr><td>...</td><td>...</td><td>...</td><td>...</td><td>...</td><td>...</td><td>...</td><td>...</td><td>...</td><td>...</td><td>...</td><td>...</td><td>...</td><td>...</td><td>...</td><td>...</td><td>...</td><td>...</td><td>...</td><td>...</td><td>...</td><td>...</td><td>...</td></tr>\n",
       "<tr><td>Mrk273</td><td>206.17546</td><td>55.88685</td><td>0.038</td><td>12.13</td><td>1342201217a</td><td>4.19</td><td>1.493</td><td>0.471</td><td>0.011</td><td>0.006</td><td>0.006</td><td>36.34</td><td>0.32</td><td>0.33</td><td>1.89</td><td>0.01</td><td>0.01</td><td>0.15</td><td>0.01</td><td>0.01</td><td>8.1</td><td>True</td></tr>\n",
       "<tr><td>IRAS 05189-2524</td><td>80.2558</td><td>-25.3626</td><td>0.043</td><td>12.12</td><td>1342203632a</td><td>1.963</td><td>0.717</td><td>0.211</td><td>0.011</td><td>0.007</td><td>0.009</td><td>46.73</td><td>0.29</td><td>0.28</td><td>1.44</td><td>0.01</td><td>0.02</td><td>- 0.58</td><td>0.01</td><td>0.01</td><td>7.7</td><td>True</td></tr>\n",
       "<tr><td>IRAS 10565+2448</td><td>164.82549</td><td>24.54291</td><td>0.043</td><td>12.08</td><td>1342234869</td><td>3.619</td><td>1.319</td><td>0.407</td><td>0.011</td><td>0.004</td><td>0.005</td><td>36.6</td><td>0.12</td><td>0.11</td><td>1.67</td><td>0.01</td><td>0.01</td><td>- 0.03</td><td>0.01</td><td>0.01</td><td>8.2</td><td>True</td></tr>\n",
       "<tr><td>IRAS 19254-7245</td><td>292.83917</td><td>-72.655</td><td>0.062</td><td>12.06</td><td>1342206210a</td><td>1.545</td><td>0.587</td><td>0.185</td><td>0.005</td><td>0.004</td><td>0.005</td><td>35.97</td><td>0.24</td><td>0.24</td><td>1.76</td><td>0.02</td><td>0.02</td><td>- 0.35</td><td>0.01</td><td>0.01</td><td>8.2</td><td>True</td></tr>\n",
       "<tr><td>IRAS 23128-5919</td><td>348.94479</td><td>-59.05432</td><td>0.045</td><td>12.06</td><td>1342209299a</td><td>1.565</td><td>0.556</td><td>0.176</td><td>0.008</td><td>0.006</td><td>0.007</td><td>42.25</td><td>0.32</td><td>0.31</td><td>1.72</td><td>0.02</td><td>0.02</td><td>- 0.48</td><td>0.01</td><td>0.01</td><td>7.7</td><td>True</td></tr>\n",
       "<tr><td>IRAS 15250+3609</td><td>231.74752</td><td>35.97709</td><td>0.055</td><td>12.03</td><td>1342234775</td><td>0.966</td><td>0.368</td><td>0.136</td><td>0.004</td><td>0.004</td><td>0.005</td><td>47.67</td><td>1.06</td><td>0.97</td><td>1.45</td><td>0.03</td><td>0.04</td><td>- 0.90</td><td>0.03</td><td>0.03</td><td>7.7</td><td>True</td></tr>\n",
       "<tr><td>IRAS 20551-4250</td><td>314.61159</td><td>-42.65006</td><td>0.043</td><td>12.01</td><td>1342230815</td><td>1.629</td><td>0.556</td><td>0.17</td><td>0.005</td><td>0.004</td><td>0.005</td><td>45.43</td><td>0.21</td><td>0.2</td><td>1.58</td><td>0.01</td><td>0.01</td><td>- 0.58</td><td>0.01</td><td>0.01</td><td>7.6</td><td>True</td></tr>\n",
       "<tr><td>UGC5101</td><td>143.96498</td><td>61.35318</td><td>0.039</td><td>12.01</td><td>1342204962a</td><td>6.071</td><td>2.327</td><td>0.746</td><td>0.039</td><td>0.018</td><td>0.009</td><td>34.47</td><td>0.16</td><td>0.14</td><td>1.51</td><td>0.01</td><td>0.02</td><td>0.17</td><td>0.01</td><td>0.01</td><td>8.4</td><td>True</td></tr>\n",
       "<tr><td>NGC6240</td><td>253.24529</td><td>2.40093</td><td>0.024</td><td>11.93</td><td>1342203586a</td><td>5.166</td><td>2.031</td><td>0.744</td><td>0.029</td><td>0.009</td><td>0.008</td><td>41.36</td><td>0.18</td><td>0.16</td><td>1.41</td><td>0.01</td><td>0.01</td><td>- 0.04</td><td>0.01</td><td>0.01</td><td>7.7</td><td>True</td></tr>\n",
       "<tr><td>Mrk463</td><td>209.01196</td><td>18.37208</td><td>0.05</td><td>11.77</td><td>1342236151</td><td>0.344</td><td>0.134</td><td>0.052</td><td>0.004</td><td>0.004</td><td>0.005</td><td>43.39</td><td>3.84</td><td>4.28</td><td>1.46</td><td>0.15</td><td>0.11</td><td>- 1.26</td><td>0.14</td><td>0.11</td><td>7.2</td><td>True</td></tr>\n",
       "</table>"
      ],
      "text/plain": [
       "<Table length=43>\n",
       "      name          ra       dec       z    ...    A-   DustMass(logMsol) HERUS\n",
       "     str15       float64   float64  float32 ... float32      float32       bool\n",
       "--------------- --------- --------- ------- ... ------- ----------------- -----\n",
       "IRAS 00397-1312   10.5647 -12.93412   0.262 ...    0.05               8.9  True\n",
       "          3C273 187.27792   2.05239   0.158 ...     nan               nan  True\n",
       "IRAS 20100-4156 303.37308 -41.79303    0.13 ...    0.02               8.6  True\n",
       "        Mrk1014  29.95921   0.39462   0.163 ...    0.04               8.4  True\n",
       "IRAS 03521+0028   58.6758   0.61761   0.152 ...    0.04               8.6  True\n",
       "IRAS 03158+4227  49.80167  42.64111   0.134 ...    0.04               8.6  True\n",
       "IRAS 16090-0139 242.91847  -1.78516   0.134 ...    0.02               8.7  True\n",
       "         Mrk231 194.05931  56.87368   0.042 ...    0.02               8.3  True\n",
       "IRAS 00188-0856   5.36051  -8.65722   0.128 ...    0.04               8.6  True\n",
       "IRAS 07598+6508 121.13783  64.99683   0.148 ...    0.04               8.5  True\n",
       "            ...       ...       ...     ... ...     ...               ...   ...\n",
       "         Mrk273 206.17546  55.88685   0.038 ...    0.01               8.1  True\n",
       "IRAS 05189-2524   80.2558  -25.3626   0.043 ...    0.01               7.7  True\n",
       "IRAS 10565+2448 164.82549  24.54291   0.043 ...    0.01               8.2  True\n",
       "IRAS 19254-7245 292.83917   -72.655   0.062 ...    0.01               8.2  True\n",
       "IRAS 23128-5919 348.94479 -59.05432   0.045 ...    0.01               7.7  True\n",
       "IRAS 15250+3609 231.74752  35.97709   0.055 ...    0.03               7.7  True\n",
       "IRAS 20551-4250 314.61159 -42.65006   0.043 ...    0.01               7.6  True\n",
       "        UGC5101 143.96498  61.35318   0.039 ...    0.01               8.4  True\n",
       "        NGC6240 253.24529   2.40093   0.024 ...    0.01               7.7  True\n",
       "         Mrk463 209.01196  18.37208    0.05 ...    0.11               7.2  True"
      ]
     },
     "execution_count": 3,
     "metadata": {},
     "output_type": "execute_result"
    }
   ],
   "source": [
    "HERUS_sample"
   ]
  },
  {
   "cell_type": "markdown",
   "metadata": {},
   "source": [
    "### Set path to custom `astroquery` module\n",
    "This is a temporary hack to \"use a version of ```astroquery``` that does not have a bug in the release date column. \n",
    "To get this set up run the following in terminal:\n",
    "\n",
    "`git clone https://github.com/astropy/astroquery.git`\n",
    "\n",
    "`cd astroquery`\n",
    "\n",
    "`python setup.py build`\n",
    "\n",
    "`python setup.py install`\n",
    "\n",
    "replace `python` with `python3` if necessary"
   ]
  },
  {
   "cell_type": "code",
   "execution_count": 4,
   "metadata": {},
   "outputs": [],
   "source": [
    "import sys\n",
    "sys.path = ['/Users/thbrown/astroquery'] + sys.path"
   ]
  },
  {
   "cell_type": "markdown",
   "metadata": {},
   "source": [
    "### Import the `ALMAxmatch` tool\n",
    "requires adding to the python path for now"
   ]
  },
  {
   "cell_type": "code",
   "execution_count": 5,
   "metadata": {},
   "outputs": [],
   "source": [
    "import sys\n",
    "sys.path = ['/Users/thbrown/ALMA/think_tank_code/tools/archiveDev'] + sys.path\n",
    "from ALMAxmatch import archiveSearch"
   ]
  },
  {
   "cell_type": "markdown",
   "metadata": {},
   "source": [
    "## Run the archive search\n",
    "1. Create list of tuples containing `SkyCoord` objects and search radii ie. (SkyCoord(ra,dec), searchRadius)*\n",
    "2. Define the line rest frequencies (names are optional, output defaults to *line 0*, *line 1*, ...)\n",
    "2. Pass tuple array along with lines of interest to `runQueries`, selecting only science data"
   ]
  },
  {
   "cell_type": "markdown",
   "metadata": {},
   "source": [
    "### 1. `archiveSearch` takes either a tuple ('ra dec', 'radius') or lists of tuples."
   ]
  },
  {
   "cell_type": "code",
   "execution_count": 6,
   "metadata": {},
   "outputs": [],
   "source": [
    "from astropy import units as u\n",
    "from astropy.coordinates import SkyCoord\n",
    "\n",
    "# archive search impact parameter\n",
    "searchradius = '20arcsec'\n",
    "\n",
    "# SkyCoord object\n",
    "herusCoords = [(SkyCoord(ra=ra*u.degree, dec=dec*u.degree), searchradius)\n",
    "                   for ra, dec in zip(HERUS_sample['ra'], HERUS_sample['dec'])]"
   ]
  },
  {
   "cell_type": "markdown",
   "metadata": {},
   "source": [
    "Generate target list in `herusLineQuery`"
   ]
  },
  {
   "cell_type": "code",
   "execution_count": 7,
   "metadata": {},
   "outputs": [],
   "source": [
    "# search using SkyCoord array\n",
    "herusLineQuery = archiveSearch(herusCoords)"
   ]
  },
  {
   "cell_type": "markdown",
   "metadata": {},
   "source": [
    "display the target dictionary"
   ]
  },
  {
   "cell_type": "code",
   "execution_count": 8,
   "metadata": {
    "scrolled": false
   },
   "outputs": [
    {
     "data": {
      "text/plain": [
       "{'coord=(10.5647 deg -12.93412 deg) radius=20arcsec': (<SkyCoord (ICRS): (ra, dec) in deg\n",
       "      (10.5647, -12.93412)>, '20arcsec'),\n",
       " 'coord=(187.27792 deg 2.05239 deg) radius=20arcsec': (<SkyCoord (ICRS): (ra, dec) in deg\n",
       "      (187.27792, 2.05239)>, '20arcsec'),\n",
       " 'coord=(303.37308 deg -41.79303 deg) radius=20arcsec': (<SkyCoord (ICRS): (ra, dec) in deg\n",
       "      (303.37308, -41.79303)>, '20arcsec'),\n",
       " 'coord=(29.95921 deg 0.39462 deg) radius=20arcsec': (<SkyCoord (ICRS): (ra, dec) in deg\n",
       "      (29.95921, 0.39462)>, '20arcsec'),\n",
       " 'coord=(58.6758 deg 0.61761 deg) radius=20arcsec': (<SkyCoord (ICRS): (ra, dec) in deg\n",
       "      (58.6758, 0.61761)>, '20arcsec'),\n",
       " 'coord=(49.80167 deg 42.64111 deg) radius=20arcsec': (<SkyCoord (ICRS): (ra, dec) in deg\n",
       "      (49.80167, 42.64111)>, '20arcsec'),\n",
       " 'coord=(242.91847 deg -1.78516 deg) radius=20arcsec': (<SkyCoord (ICRS): (ra, dec) in deg\n",
       "      (242.91847, -1.78516)>, '20arcsec'),\n",
       " 'coord=(194.05931 deg 56.87368 deg) radius=20arcsec': (<SkyCoord (ICRS): (ra, dec) in deg\n",
       "      (194.05931, 56.87368)>, '20arcsec'),\n",
       " 'coord=(5.36051 deg -8.65722 deg) radius=20arcsec': (<SkyCoord (ICRS): (ra, dec) in deg\n",
       "      (5.36051, -8.65722)>, '20arcsec'),\n",
       " 'coord=(121.13783 deg 64.99683 deg) radius=20arcsec': (<SkyCoord (ICRS): (ra, dec) in deg\n",
       "      (121.13783, 64.99683)>, '20arcsec'),\n",
       " 'coord=(128.33583 deg -25.15936 deg) radius=20arcsec': (<SkyCoord (ICRS): (ra, dec) in deg\n",
       "      (128.33583, -25.15936)>, '20arcsec'),\n",
       " 'coord=(302.84946 deg -2.99742 deg) radius=20arcsec': (<SkyCoord (ICRS): (ra, dec) in deg\n",
       "      (302.84946, -2.99742)>, '20arcsec'),\n",
       " 'coord=(160.12154 deg 10.88842 deg) radius=20arcsec': (<SkyCoord (ICRS): (ra, dec) in deg\n",
       "      (160.12154, 10.88842)>, '20arcsec'),\n",
       " 'coord=(293.08854 deg -3.99896 deg) radius=20arcsec': (<SkyCoord (ICRS): (ra, dec) in deg\n",
       "      (293.08854, -3.99896)>, '20arcsec'),\n",
       " 'coord=(260.84148 deg -0.28359 deg) radius=20arcsec': (<SkyCoord (ICRS): (ra, dec) in deg\n",
       "      (260.84148, -0.28359)>, '20arcsec'),\n",
       " 'coord=(219.41 deg -15.00556 deg) radius=20arcsec': (<SkyCoord (ICRS): (ra, dec) in deg\n",
       "      (219.41, -15.00556)>, '20arcsec'),\n",
       " 'coord=(206.88901 deg 12.29007 deg) radius=20arcsec': (<SkyCoord (ICRS): (ra, dec) in deg\n",
       "      (206.88901, 12.29007)>, '20arcsec'),\n",
       " 'coord=(351.51508 deg -69.17189 deg) radius=20arcsec': (<SkyCoord (ICRS): (ra, dec) in deg\n",
       "      (351.51508, -69.17189)>, '20arcsec'),\n",
       " 'coord=(182.43805 deg -5.02049 deg) radius=20arcsec': (<SkyCoord (ICRS): (ra, dec) in deg\n",
       "      (182.43805, -5.02049)>, '20arcsec'),\n",
       " 'coord=(168.01407 deg -2.90622 deg) radius=20arcsec': (<SkyCoord (ICRS): (ra, dec) in deg\n",
       "      (168.01407, -2.90622)>, '20arcsec'),\n",
       " 'coord=(352.02542 deg -53.97528 deg) radius=20arcsec': (<SkyCoord (ICRS): (ra, dec) in deg\n",
       "      (352.02542, -53.97528)>, '20arcsec'),\n",
       " 'coord=(15.70837 deg -22.36589 deg) radius=20arcsec': (<SkyCoord (ICRS): (ra, dec) in deg\n",
       "      (15.70837, -22.36589)>, '20arcsec'),\n",
       " 'coord=(237.23672 deg -4.99267 deg) radius=20arcsec': (<SkyCoord (ICRS): (ra, dec) in deg\n",
       "      (237.23672, -4.99267)>, '20arcsec'),\n",
       " 'coord=(311.07589 deg -16.67117 deg) radius=20arcsec': (<SkyCoord (ICRS): (ra, dec) in deg\n",
       "      (311.07589, -16.67117)>, '20arcsec'),\n",
       " 'coord=(136.05296 deg -36.45027 deg) radius=20arcsec': (<SkyCoord (ICRS): (ra, dec) in deg\n",
       "      (136.05296, -36.45027)>, '20arcsec'),\n",
       " 'coord=(95.25504 deg -63.28986 deg) radius=20arcsec': (<SkyCoord (ICRS): (ra, dec) in deg\n",
       "      (95.25504, -63.28986)>, '20arcsec'),\n",
       " 'coord=(198.77649 deg -55.15645 deg) radius=20arcsec': (<SkyCoord (ICRS): (ra, dec) in deg\n",
       "      (198.77649, -55.15645)>, '20arcsec'),\n",
       " 'coord=(342.95527 deg -17.87318 deg) radius=20arcsec': (<SkyCoord (ICRS): (ra, dec) in deg\n",
       "      (342.95527, -17.87318)>, '20arcsec'),\n",
       " 'coord=(354.75531 deg 36.35231 deg) radius=20arcsec': (<SkyCoord (ICRS): (ra, dec) in deg\n",
       "      (354.75531, 36.35231)>, '20arcsec'),\n",
       " 'coord=(135.10579 deg 39.06511 deg) radius=20arcsec': (<SkyCoord (ICRS): (ra, dec) in deg\n",
       "      (135.10579, 39.06511)>, '20arcsec'),\n",
       " 'coord=(90.72504 deg -71.05283 deg) radius=20arcsec': (<SkyCoord (ICRS): (ra, dec) in deg\n",
       "      (90.72504, -71.05283)>, '20arcsec'),\n",
       " 'coord=(220.24587 deg -37.07554 deg) radius=20arcsec': (<SkyCoord (ICRS): (ra, dec) in deg\n",
       "      (220.24587, -37.07554)>, '20arcsec'),\n",
       " 'coord=(233.73856 deg 23.50314 deg) radius=20arcsec': (<SkyCoord (ICRS): (ra, dec) in deg\n",
       "      (233.73856, 23.50314)>, '20arcsec'),\n",
       " 'coord=(206.17546 deg 55.88685 deg) radius=20arcsec': (<SkyCoord (ICRS): (ra, dec) in deg\n",
       "      (206.17546, 55.88685)>, '20arcsec'),\n",
       " 'coord=(80.2558 deg -25.3626 deg) radius=20arcsec': (<SkyCoord (ICRS): (ra, dec) in deg\n",
       "      (80.2558, -25.3626)>, '20arcsec'),\n",
       " 'coord=(164.82549 deg 24.54291 deg) radius=20arcsec': (<SkyCoord (ICRS): (ra, dec) in deg\n",
       "      (164.82549, 24.54291)>, '20arcsec'),\n",
       " 'coord=(292.83917 deg -72.655 deg) radius=20arcsec': (<SkyCoord (ICRS): (ra, dec) in deg\n",
       "      (292.83917, -72.655)>, '20arcsec'),\n",
       " 'coord=(348.94479 deg -59.05432 deg) radius=20arcsec': (<SkyCoord (ICRS): (ra, dec) in deg\n",
       "      (348.94479, -59.05432)>, '20arcsec'),\n",
       " 'coord=(231.74752 deg 35.97709 deg) radius=20arcsec': (<SkyCoord (ICRS): (ra, dec) in deg\n",
       "      (231.74752, 35.97709)>, '20arcsec'),\n",
       " 'coord=(314.61159 deg -42.65006 deg) radius=20arcsec': (<SkyCoord (ICRS): (ra, dec) in deg\n",
       "      (314.61159, -42.65006)>, '20arcsec'),\n",
       " 'coord=(143.96498 deg 61.35318 deg) radius=20arcsec': (<SkyCoord (ICRS): (ra, dec) in deg\n",
       "      (143.96498, 61.35318)>, '20arcsec'),\n",
       " 'coord=(253.24529 deg 2.40093 deg) radius=20arcsec': (<SkyCoord (ICRS): (ra, dec) in deg\n",
       "      (253.24529, 2.40093)>, '20arcsec'),\n",
       " 'coord=(209.01196 deg 18.37208 deg) radius=20arcsec': (<SkyCoord (ICRS): (ra, dec) in deg\n",
       "      (209.01196, 18.37208)>, '20arcsec')}"
      ]
     },
     "metadata": {},
     "output_type": "display_data"
    }
   ],
   "source": [
    "display(herusLineQuery.targets)"
   ]
  },
  {
   "cell_type": "markdown",
   "metadata": {},
   "source": [
    "### 2. Define lines of interest\n",
    "\n",
    "Search for the following lines:\n",
    "\n",
    "1. $^{12}$CO ($J=1-0$) @ 115.27120180 GHz rest frequency\n",
    "2. $^{13}$CO ($J=1-0$) @ 109.78217340 GHz rest frequency\n",
    "3. C$^{18}$O ($J=1-0$) @ 110.20135430 GHz rest frequency"
   ]
  },
  {
   "cell_type": "code",
   "execution_count": 9,
   "metadata": {},
   "outputs": [],
   "source": [
    "# rest frame frequencies\n",
    "rf_12CO_10 = 115.27120180 # 12CO J=1-0\n",
    "rf_13CO_10 = 110.20135430 # 13CO J=1-0\n",
    "rf_C18O_10 = 109.78217340 # C18O J=1-0\n",
    "\n",
    "rest_frequencies = [rf_12CO_10, rf_13CO_10, rf_C18O_10]\n",
    "line_names = ['12CO J=1-0', '13CO J=1-0', 'C18O J=1-0'] # column names for observed boolean flags "
   ]
  },
  {
   "cell_type": "markdown",
   "metadata": {},
   "source": [
    "Run the query, pulling only science data where lines are observed"
   ]
  },
  {
   "cell_type": "markdown",
   "metadata": {},
   "source": [
    "### 3. Search using `runQueriesWithLines`"
   ]
  },
  {
   "cell_type": "code",
   "execution_count": 10,
   "metadata": {
    "scrolled": false
   },
   "outputs": [
    {
     "ename": "KeyError",
     "evalue": "'NED Redshift'",
     "output_type": "error",
     "traceback": [
      "\u001b[0;31m---------------------------------------------------------------------------\u001b[0m",
      "\u001b[0;31mKeyError\u001b[0m                                  Traceback (most recent call last)",
      "\u001b[0;32m<ipython-input-10-35c51b3c98d7>\u001b[0m in \u001b[0;36m<module>\u001b[0;34m()\u001b[0m\n\u001b[1;32m      1\u001b[0m herusLineQuery.runQueriesWithLines(restFreqs=rest_frequencies\n\u001b[1;32m      2\u001b[0m                                     \u001b[0;34m,\u001b[0m \u001b[0mline_names\u001b[0m\u001b[0;34m=\u001b[0m\u001b[0mline_names\u001b[0m\u001b[0;34m\u001b[0m\u001b[0m\n\u001b[0;32m----> 3\u001b[0;31m                                     , science=True)\n\u001b[0m",
      "\u001b[0;32m~/ALMA/think_tank_code/tools/archiveDev/ALMAxmatch/core.py\u001b[0m in \u001b[0;36mrunQueriesWithLines\u001b[0;34m(self, restFreqs, redshiftRange, line_names, **kwargs)\u001b[0m\n\u001b[1;32m    412\u001b[0m \u001b[0;34m\u001b[0m\u001b[0m\n\u001b[1;32m    413\u001b[0m                 \u001b[0;31m# remove rows without redshifts in NED\u001b[0m\u001b[0;34m\u001b[0m\u001b[0;34m\u001b[0m\u001b[0m\n\u001b[0;32m--> 414\u001b[0;31m                 \u001b[0mblankZinds\u001b[0m \u001b[0;34m=\u001b[0m \u001b[0mnedResult\u001b[0m\u001b[0;34m[\u001b[0m\u001b[0;34m'NED Redshift'\u001b[0m\u001b[0;34m]\u001b[0m\u001b[0;34m.\u001b[0m\u001b[0mmask\u001b[0m\u001b[0;34m.\u001b[0m\u001b[0mnonzero\u001b[0m\u001b[0;34m(\u001b[0m\u001b[0;34m)\u001b[0m\u001b[0;34m\u001b[0m\u001b[0m\n\u001b[0m\u001b[1;32m    415\u001b[0m                 \u001b[0mblankZnames\u001b[0m \u001b[0;34m=\u001b[0m \u001b[0mnedResult\u001b[0m\u001b[0;34m[\u001b[0m\u001b[0;34m'ALMA sanitized source name'\u001b[0m\u001b[0;34m]\u001b[0m\u001b[0;34m[\u001b[0m\u001b[0mblankZinds\u001b[0m\u001b[0;34m]\u001b[0m\u001b[0;34m\u001b[0m\u001b[0m\n\u001b[1;32m    416\u001b[0m                 \u001b[0mnedResult\u001b[0m\u001b[0;34m.\u001b[0m\u001b[0mremove_rows\u001b[0m\u001b[0;34m(\u001b[0m\u001b[0mblankZinds\u001b[0m\u001b[0;34m)\u001b[0m\u001b[0;34m\u001b[0m\u001b[0m\n",
      "\u001b[0;32m/Library/Frameworks/Python.framework/Versions/3.6/lib/python3.6/site-packages/astropy/table/table.py\u001b[0m in \u001b[0;36m__getitem__\u001b[0;34m(self, item)\u001b[0m\n\u001b[1;32m   1220\u001b[0m     \u001b[0;32mdef\u001b[0m \u001b[0m__getitem__\u001b[0m\u001b[0;34m(\u001b[0m\u001b[0mself\u001b[0m\u001b[0;34m,\u001b[0m \u001b[0mitem\u001b[0m\u001b[0;34m)\u001b[0m\u001b[0;34m:\u001b[0m\u001b[0;34m\u001b[0m\u001b[0m\n\u001b[1;32m   1221\u001b[0m         \u001b[0;32mif\u001b[0m \u001b[0misinstance\u001b[0m\u001b[0;34m(\u001b[0m\u001b[0mitem\u001b[0m\u001b[0;34m,\u001b[0m \u001b[0mstr\u001b[0m\u001b[0;34m)\u001b[0m\u001b[0;34m:\u001b[0m\u001b[0;34m\u001b[0m\u001b[0m\n\u001b[0;32m-> 1222\u001b[0;31m             \u001b[0;32mreturn\u001b[0m \u001b[0mself\u001b[0m\u001b[0;34m.\u001b[0m\u001b[0mcolumns\u001b[0m\u001b[0;34m[\u001b[0m\u001b[0mitem\u001b[0m\u001b[0;34m]\u001b[0m\u001b[0;34m\u001b[0m\u001b[0m\n\u001b[0m\u001b[1;32m   1223\u001b[0m         \u001b[0;32melif\u001b[0m \u001b[0misinstance\u001b[0m\u001b[0;34m(\u001b[0m\u001b[0mitem\u001b[0m\u001b[0;34m,\u001b[0m \u001b[0;34m(\u001b[0m\u001b[0mint\u001b[0m\u001b[0;34m,\u001b[0m \u001b[0mnp\u001b[0m\u001b[0;34m.\u001b[0m\u001b[0minteger\u001b[0m\u001b[0;34m)\u001b[0m\u001b[0;34m)\u001b[0m\u001b[0;34m:\u001b[0m\u001b[0;34m\u001b[0m\u001b[0m\n\u001b[1;32m   1224\u001b[0m             \u001b[0;32mreturn\u001b[0m \u001b[0mself\u001b[0m\u001b[0;34m.\u001b[0m\u001b[0mRow\u001b[0m\u001b[0;34m(\u001b[0m\u001b[0mself\u001b[0m\u001b[0;34m,\u001b[0m \u001b[0mitem\u001b[0m\u001b[0;34m)\u001b[0m\u001b[0;34m\u001b[0m\u001b[0m\n",
      "\u001b[0;32m/Library/Frameworks/Python.framework/Versions/3.6/lib/python3.6/site-packages/astropy/table/table.py\u001b[0m in \u001b[0;36m__getitem__\u001b[0;34m(self, item)\u001b[0m\n\u001b[1;32m    104\u001b[0m         \"\"\"\n\u001b[1;32m    105\u001b[0m         \u001b[0;32mif\u001b[0m \u001b[0misinstance\u001b[0m\u001b[0;34m(\u001b[0m\u001b[0mitem\u001b[0m\u001b[0;34m,\u001b[0m \u001b[0mstr\u001b[0m\u001b[0;34m)\u001b[0m\u001b[0;34m:\u001b[0m\u001b[0;34m\u001b[0m\u001b[0m\n\u001b[0;32m--> 106\u001b[0;31m             \u001b[0;32mreturn\u001b[0m \u001b[0mOrderedDict\u001b[0m\u001b[0;34m.\u001b[0m\u001b[0m__getitem__\u001b[0m\u001b[0;34m(\u001b[0m\u001b[0mself\u001b[0m\u001b[0;34m,\u001b[0m \u001b[0mitem\u001b[0m\u001b[0;34m)\u001b[0m\u001b[0;34m\u001b[0m\u001b[0m\n\u001b[0m\u001b[1;32m    107\u001b[0m         \u001b[0;32melif\u001b[0m \u001b[0misinstance\u001b[0m\u001b[0;34m(\u001b[0m\u001b[0mitem\u001b[0m\u001b[0;34m,\u001b[0m \u001b[0;34m(\u001b[0m\u001b[0mint\u001b[0m\u001b[0;34m,\u001b[0m \u001b[0mnp\u001b[0m\u001b[0;34m.\u001b[0m\u001b[0minteger\u001b[0m\u001b[0;34m)\u001b[0m\u001b[0;34m)\u001b[0m\u001b[0;34m:\u001b[0m\u001b[0;34m\u001b[0m\u001b[0m\n\u001b[1;32m    108\u001b[0m             \u001b[0;32mreturn\u001b[0m \u001b[0mself\u001b[0m\u001b[0;34m.\u001b[0m\u001b[0mvalues\u001b[0m\u001b[0;34m(\u001b[0m\u001b[0;34m)\u001b[0m\u001b[0;34m[\u001b[0m\u001b[0mitem\u001b[0m\u001b[0;34m]\u001b[0m\u001b[0;34m\u001b[0m\u001b[0m\n",
      "\u001b[0;31mKeyError\u001b[0m: 'NED Redshift'"
     ]
    }
   ],
   "source": [
    "herusLineQuery.runQueriesWithLines(restFreqs=rest_frequencies\n",
    "                                    , line_names=line_names\n",
    "                                    , science=True)"
   ]
  },
  {
   "cell_type": "markdown",
   "metadata": {},
   "source": [
    "**Display the results**"
   ]
  },
  {
   "cell_type": "code",
   "execution_count": null,
   "metadata": {
    "scrolled": true
   },
   "outputs": [],
   "source": [
    "n=0 #counter\n",
    "for targetname in herusLineQuery.targets.keys():\n",
    "    if len(herusLineQuery.queryResults[targetname])>=1:\n",
    "        n = n+1\n",
    "        display(herusLineQuery.queryResults[targetname])"
   ]
  },
  {
   "cell_type": "code",
   "execution_count": null,
   "metadata": {},
   "outputs": [],
   "source": [
    "print(\"galaxies with 12CO, 13CO, OR C18O:\", n)"
   ]
  },
  {
   "cell_type": "code",
   "execution_count": null,
   "metadata": {
    "scrolled": true
   },
   "outputs": [],
   "source": [
    "k=0 #counter\n",
    "for targetname in herusLineQuery.targets.keys():\n",
    "    if len(herusLineQuery.queryResults[targetname])>=1:\n",
    "        # select only galaxies with all three lines\n",
    "        if ((True in herusLineQuery.queryResults[targetname]['12CO J=1-0']) & \n",
    "            (True in herusLineQuery.queryResults[targetname]['13CO J=1-0']) &\n",
    "            (True in herusLineQuery.queryResults[targetname]['C18O J=1-0'])):\n",
    "            k = k+1\n",
    "            display(herusLineQuery.queryResults[targetname])\n"
   ]
  },
  {
   "cell_type": "code",
   "execution_count": null,
   "metadata": {},
   "outputs": [],
   "source": [
    "print(\"galaxies with 12CO, 13CO, AND C18O:\", k)"
   ]
  },
  {
   "cell_type": "code",
   "execution_count": null,
   "metadata": {},
   "outputs": [],
   "source": []
  },
  {
   "cell_type": "code",
   "execution_count": null,
   "metadata": {},
   "outputs": [],
   "source": []
  },
  {
   "cell_type": "code",
   "execution_count": null,
   "metadata": {},
   "outputs": [],
   "source": []
  },
  {
   "cell_type": "code",
   "execution_count": null,
   "metadata": {},
   "outputs": [],
   "source": []
  },
  {
   "cell_type": "code",
   "execution_count": null,
   "metadata": {},
   "outputs": [],
   "source": []
  },
  {
   "cell_type": "code",
   "execution_count": null,
   "metadata": {},
   "outputs": [],
   "source": []
  },
  {
   "cell_type": "code",
   "execution_count": null,
   "metadata": {},
   "outputs": [],
   "source": []
  },
  {
   "cell_type": "code",
   "execution_count": null,
   "metadata": {},
   "outputs": [],
   "source": []
  },
  {
   "cell_type": "code",
   "execution_count": null,
   "metadata": {},
   "outputs": [],
   "source": []
  },
  {
   "cell_type": "code",
   "execution_count": null,
   "metadata": {},
   "outputs": [],
   "source": []
  },
  {
   "cell_type": "code",
   "execution_count": null,
   "metadata": {},
   "outputs": [],
   "source": []
  },
  {
   "cell_type": "code",
   "execution_count": null,
   "metadata": {},
   "outputs": [],
   "source": []
  },
  {
   "cell_type": "code",
   "execution_count": null,
   "metadata": {},
   "outputs": [],
   "source": []
  },
  {
   "cell_type": "code",
   "execution_count": null,
   "metadata": {},
   "outputs": [],
   "source": []
  },
  {
   "cell_type": "code",
   "execution_count": null,
   "metadata": {},
   "outputs": [],
   "source": []
  },
  {
   "cell_type": "code",
   "execution_count": null,
   "metadata": {},
   "outputs": [],
   "source": []
  },
  {
   "cell_type": "code",
   "execution_count": null,
   "metadata": {},
   "outputs": [],
   "source": []
  },
  {
   "cell_type": "code",
   "execution_count": null,
   "metadata": {},
   "outputs": [],
   "source": []
  }
 ],
 "metadata": {
  "kernelspec": {
   "display_name": "Python 3",
   "language": "python",
   "name": "python3"
  },
  "language_info": {
   "codemirror_mode": {
    "name": "ipython",
    "version": 3
   },
   "file_extension": ".py",
   "mimetype": "text/x-python",
   "name": "python",
   "nbconvert_exporter": "python",
   "pygments_lexer": "ipython3",
   "version": "3.6.5"
  }
 },
 "nbformat": 4,
 "nbformat_minor": 2
}
