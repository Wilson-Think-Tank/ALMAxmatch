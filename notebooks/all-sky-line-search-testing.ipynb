{
 "cells": [
  {
   "cell_type": "markdown",
   "metadata": {},
   "source": [
    "# Search the entire ALMA archive for some target lines using the `ALMAxmatch` module's `runQueryWithLines` method"
   ]
  },
  {
   "cell_type": "markdown",
   "metadata": {},
   "source": [
    "### Import `astroquery.alma` and `ALMAxmatch` modules\n",
    "- This requires adding to the python path for now"
   ]
  },
  {
   "cell_type": "markdown",
   "metadata": {},
   "source": [
    "### Set path to custom `astroquery` module\n",
    "This is a temporary hack to \"use a version of ```astroquery``` that does not have a bug in the release date column. \n",
    "To get this set up run the following in terminal:\n",
    "\n",
    "`git clone https://github.com/astropy/astroquery.git`\n",
    "\n",
    "`cd astroquery`\n",
    "\n",
    "`python setup.py build`\n",
    "\n",
    "`python setup.py install`\n",
    "\n",
    "replace `python` with `python3` if necessary"
   ]
  },
  {
   "cell_type": "code",
   "execution_count": 1,
   "metadata": {},
   "outputs": [],
   "source": [
    "import sys\n",
    "sys.path = ['/Users/thbrown/astroquery'] + sys.path"
   ]
  },
  {
   "cell_type": "markdown",
   "metadata": {},
   "source": [
    "Import module and print valid payload keywords"
   ]
  },
  {
   "cell_type": "code",
   "execution_count": 2,
   "metadata": {},
   "outputs": [
    {
     "name": "stdout",
     "output_type": "stream",
     "text": [
      "Valid ALMA keywords.  Left column is the description, right column is the name of the keyword to pass to astroquery.alma queries:\n",
      "\n",
      "Position\n",
      "  Source name (Resolver)           : source_name_resolver               \n",
      "  Source name (ALMA)               : source_name_alma                   \n",
      "  RA Dec                           : ra_dec                             \n",
      "  Galactic                         : galactic                           \n",
      "  Angular resolution               : spatial_resolution                 \n",
      "  Largest angular scale            : spatial_scale_max                  \n",
      "  Field of view                    : fov                                \n",
      "\n",
      "Energy\n",
      "  Frequency                        : frequency                          \n",
      "  Bandwidth                        : bandwidth                          \n",
      "  Spectral resolution              : spectral_resolution                \n",
      "  Band                             : band_list            -> 3(84-116 GHz)=3, 4(125-163 GHz)=4, 5(163-211 GHz)=5, 6(211-275 GHz)=6, 7(275-373 GHz)=7, 8(385-500 GHz)=8, 9(602-720 GHz)=9, 10(787-950 GHz)=10\n",
      "\n",
      "Time\n",
      "  Observation date                 : start_date                         \n",
      "  Integration time                 : integration_time                   \n",
      "\n",
      "Polarisation\n",
      "  Polarisation type                : polarisation_type    -> Stokes I=0, Single=1, Dual=2, Full=3|4\n",
      "\n",
      "Observation\n",
      "  Line sensitivity (10 km/s)       : line_sensitivity                   \n",
      "  Continuum sensitivity            : continuum_sensitivity              \n",
      "  Water vapour                     : water_vapour                       \n",
      "\n",
      "Project\n",
      "  Project code                     : project_code                       \n",
      "  Project title                    : project_title                      \n",
      "  PI name                          : pi_name                            \n",
      "  Proposal authors                 : proposal_authors                   \n",
      "  Project abstract                 : project_abstract                   \n",
      "  Publication count                : publication_count                  \n",
      "  Science keyword                  : science_keyword      -> \n",
      "\n",
      "Publication\n",
      "  Bibcode                          : bibcode                            \n",
      "  Title                            : pub_title                          \n",
      "  First author                     : first_author                       \n",
      "  Authors                          : authors                            \n",
      "  Abstract                         : pub_abstract                       \n",
      "  Year                             : publication_year                   \n",
      "\n",
      "Options\n",
      "  (x) View:                        : result_view          = observation    \n",
      "  ( ) View:                        : result_view          = project        \n",
      "  ( ) View:                        : result_view          = biblio         \n",
      "  [ ] public data only             : public_data          = public         \n",
      "  [x] science observations only    : science_observations = =%TARGET%      \n"
     ]
    }
   ],
   "source": [
    "from astroquery.alma import Alma\n",
    "Alma.help()"
   ]
  },
  {
   "cell_type": "code",
   "execution_count": 3,
   "metadata": {},
   "outputs": [],
   "source": [
    "import sys\n",
    "sys.path = ['/Users/thbrown/ALMA/think_tank_code/tools/archiveDev'] + sys.path\n",
    "from ALMAxmatch import archiveSearch"
   ]
  },
  {
   "cell_type": "markdown",
   "metadata": {},
   "source": [
    "## Run the archive search\n",
    "1. Define the line rest frequencies (names are optional, output defaults to *line 0*, *line 1*, ...) and redshift range of search\n",
    "2. Calculate min and max frequencies for lines in the redshift range\n",
    "3. Create a dictionary of payload keywords (including frequency) that are accepted by the ALMA archive system.\n",
    "2. Query the service using `alma.query` and return a table object, selecting only science data"
   ]
  },
  {
   "cell_type": "markdown",
   "metadata": {},
   "source": [
    "### 2. Define lines of interest and redshift\n",
    "\n",
    "Search for the following lines at $ z\\leq 0.1$:\n",
    "\n",
    "1. $^{12}$CO ($J=1-0$) @ 115.27120180 GHz rest frequency\n",
    "2. $^{13}$CO ($J=1-0$) @ 109.78217340 GHz rest frequency\n",
    "3. C$^{18}$O ($J=1-0$) @ 110.20135430 GHz rest frequency"
   ]
  },
  {
   "cell_type": "code",
   "execution_count": 4,
   "metadata": {},
   "outputs": [],
   "source": [
    "# rest frame frequencies\n",
    "rf_12CO_10 = 115.27120180 # 12CO J=1-0\n",
    "rf_13CO_10 = 110.20135430 # 13CO J=1-0\n",
    "rf_C18O_10 = 109.78217340 # C18O J=1-0\n",
    "\n",
    "rest_frequencies = [rf_12CO_10, rf_13CO_10, rf_C18O_10]\n",
    "line_names = ['12CO J=1-0', '13CO J=1-0', 'C18O J=1-0'] # column names for observed boolean flags "
   ]
  },
  {
   "cell_type": "code",
   "execution_count": 5,
   "metadata": {},
   "outputs": [],
   "source": [
    "redshift_range = [0.05,0.055]"
   ]
  },
  {
   "cell_type": "code",
   "execution_count": 6,
   "metadata": {},
   "outputs": [
    {
     "name": "stdout",
     "output_type": "stream",
     "text": [
      "the observered frequency range of interest is 104.05893213270143 .. 109.78209695238095 GHz\n"
     ]
    }
   ],
   "source": [
    "import numpy as np\n",
    "def _observedFreq(restFreq, z):\n",
    "        \"\"\"Return observed frequency according to nu_0 / nu = 1 + z.\"\"\"\n",
    "        return restFreq/(1+z)\n",
    "    \n",
    "# sort redshift range and frequency arrays\n",
    "restFreqs = np.array(rest_frequencies)\n",
    "restFreqs.sort()\n",
    "\n",
    "redshiftRange = np.array(redshift_range)\n",
    "redshiftRange.sort()\n",
    "        \n",
    "# define frequency range from lines and redshifts\n",
    "lowFreq = _observedFreq(restFreqs[0], redshiftRange[1])\n",
    "highFreq = _observedFreq(restFreqs[-1], redshiftRange[0])\n",
    "freqLimits = '{:} .. {:}'.format(lowFreq, highFreq)\n",
    "\n",
    "print('the observered frequency range of interest is '+freqLimits+' GHz')"
   ]
  },
  {
   "cell_type": "code",
   "execution_count": 7,
   "metadata": {},
   "outputs": [],
   "source": [
    "payload = {'frequency':freqLimits, }\n",
    "\n",
    "testQuery = Alma.query(payload=payload, science=True)"
   ]
  },
  {
   "cell_type": "code",
   "execution_count": 8,
   "metadata": {},
   "outputs": [
    {
     "data": {
      "text/html": [
       "<i>Table masked=True length=1689</i>\n",
       "<table id=\"table4421996728\" class=\"table-striped table-bordered table-condensed\">\n",
       "<thead><tr><th>Project code</th><th>Source name</th><th>RA</th><th>Dec</th><th>Galactic longitude</th><th>Galactic latitude</th><th>Band</th><th>Spatial resolution</th><th>Frequency resolution</th><th>Array</th><th>Mosaic</th><th>Integration</th><th>Release date</th><th>Frequency support</th><th>Velocity resolution</th><th>Pol products</th><th>Observation date</th><th>PI name</th><th>SB name</th><th>Proposal authors</th><th>Line sensitivity (10 km/s)</th><th>Continuum sensitivity</th><th>PWV</th><th>Group ous id</th><th>Member ous id</th><th>Asdm uid</th><th>Project title</th><th>Project type</th><th>Scan intent</th><th>Field of view</th><th>Largest angular scale</th><th>QA2 Status</th><th>COUNT</th><th>Science keyword</th><th>Scientific category</th><th>ASA_PROJECT_CODE</th></tr></thead>\n",
       "<thead><tr><th></th><th></th><th>deg</th><th>deg</th><th>deg</th><th>deg</th><th></th><th></th><th>kHz</th><th></th><th></th><th>s</th><th></th><th>GHz</th><th>m / s</th><th></th><th></th><th></th><th></th><th></th><th></th><th>mJy/beam</th><th>mm</th><th></th><th></th><th></th><th></th><th></th><th></th><th>arcs</th><th>arcs</th><th></th><th></th><th></th><th></th><th></th></tr></thead>\n",
       "<thead><tr><th>bytes64</th><th>bytes256</th><th>float64</th><th>float64</th><th>float64</th><th>float64</th><th>object</th><th>float64</th><th>float64</th><th>object</th><th>object</th><th>float64</th><th>object</th><th>bytes2700</th><th>float64</th><th>bytes64</th><th>object</th><th>bytes256</th><th>bytes128</th><th>bytes512</th><th>float64</th><th>float64</th><th>float32</th><th>bytes64</th><th>bytes64</th><th>bytes32</th><th>bytes256</th><th>bytes16</th><th>bytes256</th><th>float64</th><th>float64</th><th>bytes1</th><th>int64</th><th>bytes200</th><th>bytes200</th><th>bytes64</th></tr></thead>\n",
       "<tr><td>2011.0.00957.S</td><td>SPT_0103-45</td><td>15.797875000000001</td><td>-45.64827777777778</td><td>296.5034970667741</td><td>-71.3330336577803</td><td>[3]</td><td>8.004940808270794</td><td>976.657768509833</td><td>12m</td><td></td><td>151.2</td><td>2013-04-25</td><td>[91.67..93.55GHz,976.66kHz,7.4mJy/beam@10km/s,300.4uJy/beam@native, XX YY] U [93.55..95.42GHz,976.66kHz,7.3mJy/beam@10km/s,301.1uJy/beam@native, XX YY] U [103.67..105.55GHz,976.66kHz,7.3mJy/beam@10km/s,313.2uJy/beam@native, XX YY] U [105.55..107.42GHz,976.66kHz,7.3mJy/beam@10km/s,318.9uJy/beam@native, XX YY]</td><td>2725.895948314194</td><td>XX YY</td><td>2011-11-19 03:43:05</td><td>Weiss, Axel</td><td>Tuning3_1-2HA</td><td>Chapman, Scott; Brodwin, Mark; Greve, Thomas; Hezaveh, Yashar; Sharon, Keren; Ashby, Matthew; Menten, Karl; Carlstrom, John; Marrone, Dan; De Breuck, Carlos; Rosenman, Michael; Holzapfel, William; Vieira, Joaquin; Crawford, Thomas; Lupu, Roxana; Fassnacht, Chris; Holder, Gilbert; Aguirre, James;</td><td>7.260172793218402</td><td>0.1540486568273702</td><td>4.0281453</td><td></td><td>uid://A001/X74/X291</td><td>uid://A002/X321719/X723</td><td>The ALMA-SPT Redshift Survey</td><td>S</td><td>TARGET WVR</td><td>63.28655495409857</td><td>32.80138244373298</td><td>Y</td><td>14</td><td>Sub-mm Galaxies (SMG), Gravitational lenses</td><td>Galaxy evolution</td><td>2011.0.00957.S</td></tr>\n",
       "<tr><td>2011.0.00957.S</td><td>SPT_0103-45</td><td>15.797875000000001</td><td>-45.64827777777778</td><td>296.5034970667741</td><td>-71.3330336577803</td><td>[3]</td><td>10.727745046324552</td><td>976.6579716976725</td><td>12m</td><td></td><td>151.2</td><td>2013-04-25</td><td>[95.42..97.30GHz,976.66kHz,7.3mJy/beam@10km/s,304.2uJy/beam@native, XX YY] U [97.30..99.17GHz,976.66kHz,7.2mJy/beam@10km/s,303uJy/beam@native, XX YY] U [107.42..109.30GHz,976.66kHz,7.5mJy/beam@10km/s,327.9uJy/beam@native, XX YY] U [109.30..111.17GHz,976.66kHz,7.8mJy/beam@10km/s,343.8uJy/beam@native, XX YY]</td><td>2633.9398359361962</td><td>XX YY</td><td>2011-11-19 04:46:11</td><td>Weiss, Axel</td><td>Tuning4_1-2HA</td><td>Chapman, Scott; Brodwin, Mark; Greve, Thomas; Hezaveh, Yashar; Sharon, Keren; Ashby, Matthew; Menten, Karl; Carlstrom, John; Marrone, Dan; De Breuck, Carlos; Rosenman, Michael; Holzapfel, William; Vieira, Joaquin; Crawford, Thomas; Lupu, Roxana; Fassnacht, Chris; Holder, Gilbert; Aguirre, James;</td><td>7.468943547865293</td><td>0.15921203104645965</td><td>4.161038</td><td></td><td>uid://A001/X74/X293</td><td>uid://A002/X321719/X826</td><td>The ALMA-SPT Redshift Survey</td><td>S</td><td>TARGET WVR</td><td>60.988833626470466</td><td>43.958459712754184</td><td>Y</td><td>14</td><td>Sub-mm Galaxies (SMG), Gravitational lenses</td><td>Galaxy evolution</td><td>2011.0.00957.S</td></tr>\n",
       "<tr><td>2011.0.00957.S</td><td>SPT_0113-46</td><td>18.285375</td><td>-46.2963611111111</td><td>291.725192459293</td><td>-70.35680731865747</td><td>[3]</td><td>7.806784683409882</td><td>976.657768509833</td><td>12m</td><td></td><td>151.2</td><td>2013-04-25</td><td>[91.67..93.55GHz,976.66kHz,7.4mJy/beam@10km/s,300.6uJy/beam@native, XX YY] U [93.55..95.42GHz,976.66kHz,7.3mJy/beam@10km/s,301.3uJy/beam@native, XX YY] U [103.67..105.55GHz,976.66kHz,7.3mJy/beam@10km/s,313.5uJy/beam@native, XX YY] U [105.55..107.42GHz,976.66kHz,7.3mJy/beam@10km/s,319.2uJy/beam@native, XX YY]</td><td>2725.895948314194</td><td>XX YY</td><td>2011-11-19 03:43:05</td><td>Weiss, Axel</td><td>Tuning3_1-2HA</td><td>Chapman, Scott; Brodwin, Mark; Greve, Thomas; Hezaveh, Yashar; Sharon, Keren; Ashby, Matthew; Menten, Karl; Carlstrom, John; Marrone, Dan; De Breuck, Carlos; Rosenman, Michael; Holzapfel, William; Vieira, Joaquin; Crawford, Thomas; Lupu, Roxana; Fassnacht, Chris; Holder, Gilbert; Aguirre, James;</td><td>7.266922806270144</td><td>0.15418158889140254</td><td>4.0281453</td><td></td><td>uid://A001/X74/X291</td><td>uid://A002/X321719/X723</td><td>The ALMA-SPT Redshift Survey</td><td>S</td><td>TARGET WVR</td><td>63.28655495409857</td><td>31.989409564631213</td><td>Y</td><td>14</td><td>Sub-mm Galaxies (SMG), Gravitational lenses</td><td>Galaxy evolution</td><td>2011.0.00957.S</td></tr>\n",
       "<tr><td>2011.0.00957.S</td><td>SPT_0113-46</td><td>18.285375</td><td>-46.2963611111111</td><td>291.725192459293</td><td>-70.35680731865747</td><td>[3]</td><td>10.173636104942148</td><td>976.6579716976725</td><td>12m</td><td></td><td>151.2</td><td>2013-04-25</td><td>[95.42..97.30GHz,976.66kHz,7.4mJy/beam@10km/s,304.5uJy/beam@native, XX YY] U [97.30..99.17GHz,976.66kHz,7.3mJy/beam@10km/s,303.3uJy/beam@native, XX YY] U [107.42..109.30GHz,976.66kHz,7.5mJy/beam@10km/s,328.3uJy/beam@native, XX YY] U [109.30..111.17GHz,976.66kHz,7.8mJy/beam@10km/s,344.3uJy/beam@native, XX YY]</td><td>2633.9398359361962</td><td>XX YY</td><td>2011-11-19 04:46:11</td><td>Weiss, Axel</td><td>Tuning4_1-2HA</td><td>Chapman, Scott; Brodwin, Mark; Greve, Thomas; Hezaveh, Yashar; Sharon, Keren; Ashby, Matthew; Menten, Karl; Carlstrom, John; Marrone, Dan; De Breuck, Carlos; Rosenman, Michael; Holzapfel, William; Vieira, Joaquin; Crawford, Thomas; Lupu, Roxana; Fassnacht, Chris; Holder, Gilbert; Aguirre, James;</td><td>7.477244332188736</td><td>0.15936862933588364</td><td>4.161038</td><td></td><td>uid://A001/X74/X293</td><td>uid://A002/X321719/X826</td><td>The ALMA-SPT Redshift Survey</td><td>S</td><td>TARGET WVR</td><td>60.988833626470466</td><td>41.68791958796063</td><td>Y</td><td>14</td><td>Sub-mm Galaxies (SMG), Gravitational lenses</td><td>Galaxy evolution</td><td>2011.0.00957.S</td></tr>\n",
       "<tr><td>2011.0.00957.S</td><td>SPT_0125-47</td><td>21.279458333333338</td><td>-47.39902777777778</td><td>287.1112089670969</td><td>-68.68132053101337</td><td>[3]</td><td>7.654228001630472</td><td>976.657768509833</td><td>12m</td><td></td><td>151.2</td><td>2013-04-25</td><td>[91.67..93.55GHz,976.66kHz,7.4mJy/beam@10km/s,301uJy/beam@native, XX YY] U [93.55..95.42GHz,976.66kHz,7.4mJy/beam@10km/s,301.7uJy/beam@native, XX YY] U [103.67..105.55GHz,976.66kHz,7.3mJy/beam@10km/s,314uJy/beam@native, XX YY] U [105.55..107.42GHz,976.66kHz,7.3mJy/beam@10km/s,319.8uJy/beam@native, XX YY]</td><td>2725.895948314194</td><td>XX YY</td><td>2011-11-19 03:43:05</td><td>Weiss, Axel</td><td>Tuning3_1-2HA</td><td>Chapman, Scott; Brodwin, Mark; Greve, Thomas; Hezaveh, Yashar; Sharon, Keren; Ashby, Matthew; Menten, Karl; Carlstrom, John; Marrone, Dan; De Breuck, Carlos; Rosenman, Michael; Holzapfel, William; Vieira, Joaquin; Crawford, Thomas; Lupu, Roxana; Fassnacht, Chris; Holder, Gilbert; Aguirre, James;</td><td>7.278982907678761</td><td>0.15441907905567298</td><td>4.0281453</td><td></td><td>uid://A001/X74/X291</td><td>uid://A002/X321719/X723</td><td>The ALMA-SPT Redshift Survey</td><td>S</td><td>TARGET WVR</td><td>63.28655495409857</td><td>31.364286883121427</td><td>Y</td><td>14</td><td>Sub-mm Galaxies (SMG), Gravitational lenses</td><td>Galaxy evolution</td><td>2011.0.00957.S</td></tr>\n",
       "<tr><td>2011.0.00957.S</td><td>SPT_0125-47</td><td>21.279458333333338</td><td>-47.39902777777778</td><td>287.1112089670969</td><td>-68.68132053101337</td><td>[3]</td><td>9.676980740034256</td><td>976.6579716976725</td><td>12m</td><td></td><td>151.2</td><td>2013-04-25</td><td>[95.42..97.30GHz,976.66kHz,7.4mJy/beam@10km/s,304.9uJy/beam@native, XX YY] U [97.30..99.17GHz,976.66kHz,7.3mJy/beam@10km/s,303.7uJy/beam@native, XX YY] U [107.42..109.30GHz,976.66kHz,7.5mJy/beam@10km/s,328.9uJy/beam@native, XX YY] U [109.30..111.17GHz,976.66kHz,7.8mJy/beam@10km/s,345.1uJy/beam@native, XX YY]</td><td>2633.9398359361962</td><td>XX YY</td><td>2011-11-19 04:46:11</td><td>Weiss, Axel</td><td>Tuning4_1-2HA</td><td>Chapman, Scott; Brodwin, Mark; Greve, Thomas; Hezaveh, Yashar; Sharon, Keren; Ashby, Matthew; Menten, Karl; Carlstrom, John; Marrone, Dan; De Breuck, Carlos; Rosenman, Michael; Holzapfel, William; Vieira, Joaquin; Crawford, Thomas; Lupu, Roxana; Fassnacht, Chris; Holder, Gilbert; Aguirre, James;</td><td>7.4920762739350435</td><td>0.15964838269865667</td><td>4.161038</td><td></td><td>uid://A001/X74/X293</td><td>uid://A002/X321719/X826</td><td>The ALMA-SPT Redshift Survey</td><td>S</td><td>TARGET WVR</td><td>60.988833626470466</td><td>39.65280365677929</td><td>Y</td><td>14</td><td>Sub-mm Galaxies (SMG), Gravitational lenses</td><td>Galaxy evolution</td><td>2011.0.00957.S</td></tr>\n",
       "<tr><td>2011.0.00957.S</td><td>SPT_0125-50</td><td>21.45629166666667</td><td>-50.63905555555556</td><td>289.6681152952509</td><td>-65.59444802712612</td><td>[3]</td><td>8.142043542711383</td><td>976.657768509833</td><td>12m</td><td></td><td>151.2</td><td>2013-04-25</td><td>[91.67..93.55GHz,976.66kHz,7.4mJy/beam@10km/s,302.4uJy/beam@native, XX YY] U [93.55..95.42GHz,976.66kHz,7.4mJy/beam@10km/s,303.1uJy/beam@native, XX YY] U [103.67..105.55GHz,976.66kHz,7.3mJy/beam@10km/s,315.7uJy/beam@native, XX YY] U [105.55..107.42GHz,976.66kHz,7.4mJy/beam@10km/s,321.7uJy/beam@native, XX YY]</td><td>2725.895948314194</td><td>XX YY</td><td>2011-11-19 03:43:05</td><td>Weiss, Axel</td><td>Tuning3_1-2HA</td><td>Chapman, Scott; Brodwin, Mark; Greve, Thomas; Hezaveh, Yashar; Sharon, Keren; Ashby, Matthew; Menten, Karl; Carlstrom, John; Marrone, Dan; De Breuck, Carlos; Rosenman, Michael; Holzapfel, William; Vieira, Joaquin; Crawford, Thomas; Lupu, Roxana; Fassnacht, Chris; Holder, Gilbert; Aguirre, James;</td><td>7.318873984883067</td><td>0.15520447133789222</td><td>4.0281453</td><td></td><td>uid://A001/X74/X291</td><td>uid://A002/X321719/X723</td><td>The ALMA-SPT Redshift Survey</td><td>S</td><td>TARGET WVR</td><td>63.28655495409857</td><td>33.3631803800551</td><td>Y</td><td>14</td><td>Sub-mm Galaxies (SMG), Gravitational lenses</td><td>Galaxy evolution</td><td>2011.0.00957.S</td></tr>\n",
       "<tr><td>2011.0.00957.S</td><td>SPT_0125-50</td><td>21.45629166666667</td><td>-50.63905555555556</td><td>289.6681152952509</td><td>-65.59444802712612</td><td>[3]</td><td>10.27280537144886</td><td>976.6579716976725</td><td>12m</td><td></td><td>151.2</td><td>2013-04-25</td><td>[95.42..97.30GHz,976.66kHz,7.4mJy/beam@10km/s,306.4uJy/beam@native, XX YY] U [97.30..99.17GHz,976.66kHz,7.3mJy/beam@10km/s,305.1uJy/beam@native, XX YY] U [107.42..109.30GHz,976.66kHz,7.5mJy/beam@10km/s,331.1uJy/beam@native, XX YY] U [109.30..111.17GHz,976.66kHz,7.9mJy/beam@10km/s,347.7uJy/beam@native, XX YY]</td><td>2633.9398359361962</td><td>XX YY</td><td>2011-11-19 04:46:11</td><td>Weiss, Axel</td><td>Tuning4_1-2HA</td><td>Chapman, Scott; Brodwin, Mark; Greve, Thomas; Hezaveh, Yashar; Sharon, Keren; Ashby, Matthew; Menten, Karl; Carlstrom, John; Marrone, Dan; De Breuck, Carlos; Rosenman, Michael; Holzapfel, William; Vieira, Joaquin; Crawford, Thomas; Lupu, Roxana; Fassnacht, Chris; Holder, Gilbert; Aguirre, James;</td><td>7.541145885432841</td><td>0.16057338147508105</td><td>4.161038</td><td></td><td>uid://A001/X74/X293</td><td>uid://A002/X321719/X826</td><td>The ALMA-SPT Redshift Survey</td><td>S</td><td>TARGET WVR</td><td>60.988833626470466</td><td>42.09427974917382</td><td>Y</td><td>14</td><td>Sub-mm Galaxies (SMG), Gravitational lenses</td><td>Galaxy evolution</td><td>2011.0.00957.S</td></tr>\n",
       "<tr><td>2011.0.00957.S</td><td>SPT_0128-51</td><td>22.038916666666665</td><td>-51.49661111111111</td><td>289.51191127364234</td><td>-64.66433116613277</td><td>[3]</td><td>8.232002861990082</td><td>976.657768509833</td><td>12m</td><td></td><td>151.2</td><td>2013-04-25</td><td>[91.67..93.55GHz,976.66kHz,7.5mJy/beam@10km/s,302.8uJy/beam@native, XX YY] U [93.55..95.42GHz,976.66kHz,7.4mJy/beam@10km/s,303.5uJy/beam@native, XX YY] U [103.67..105.55GHz,976.66kHz,7.3mJy/beam@10km/s,316.2uJy/beam@native, XX YY] U [105.55..107.42GHz,976.66kHz,7.4mJy/beam@10km/s,322.3uJy/beam@native, XX YY]</td><td>2725.895948314194</td><td>XX YY</td><td>2011-11-19 03:43:05</td><td>Weiss, Axel</td><td>Tuning3_1-2HA</td><td>Chapman, Scott; Brodwin, Mark; Greve, Thomas; Hezaveh, Yashar; Sharon, Keren; Ashby, Matthew; Menten, Karl; Carlstrom, John; Marrone, Dan; De Breuck, Carlos; Rosenman, Michael; Holzapfel, William; Vieira, Joaquin; Crawford, Thomas; Lupu, Roxana; Fassnacht, Chris; Holder, Gilbert; Aguirre, James;</td><td>7.330619927177622</td><td>0.15543568622610568</td><td>4.0281453</td><td></td><td>uid://A001/X74/X291</td><td>uid://A002/X321719/X723</td><td>The ALMA-SPT Redshift Survey</td><td>S</td><td>TARGET WVR</td><td>63.28655495409857</td><td>33.731801473791336</td><td>Y</td><td>14</td><td>Sub-mm Galaxies (SMG), Gravitational lenses</td><td>Galaxy evolution</td><td>2011.0.00957.S</td></tr>\n",
       "<tr><td>...</td><td>...</td><td>...</td><td>...</td><td>...</td><td>...</td><td>...</td><td>...</td><td>...</td><td>...</td><td>...</td><td>...</td><td>...</td><td>...</td><td>...</td><td>...</td><td>...</td><td>...</td><td>...</td><td>...</td><td>...</td><td>...</td><td>...</td><td>...</td><td>...</td><td>...</td><td>...</td><td>...</td><td>...</td><td>...</td><td>...</td><td>...</td><td>...</td><td>...</td><td>...</td><td>...</td></tr>\n",
       "<tr><td>2017.1.01676.S</td><td>HS1442</td><td>221.22362500000875</td><td>29.318222222222463</td><td>44.65335892888089</td><td>64.97302242411301</td><td>[3]</td><td>1.8003203944014459</td><td>31248.673554400877</td><td>12m</td><td></td><td>816.48</td><td>2019-04-25</td><td>[91.42..93.40GHz,31248.67kHz,1.1mJy/beam@10km/s,44.1uJy/beam@native, XX YY] U [93.36..95.34GHz,31248.67kHz,1.1mJy/beam@10km/s,44.3uJy/beam@native, XX YY] U [103.42..105.40GHz,31248.67kHz,1.1mJy/beam@10km/s,46.7uJy/beam@native, XX YY] U [105.42..107.40GHz,31248.67kHz,1.1mJy/beam@10km/s,47.9uJy/beam@native, XX YY]</td><td>87220.9201363223</td><td>XX YY</td><td>2018-04-23 05:21:50</td><td>Ross, Colin</td><td>HS1442_a_03_TM1</td><td>Geach, James; Chapman, Scott; Bertoldi, Frank; Serjeant, Stephen; Gao, Yu; Babul, Arif; Matsuda, Yuichi; Smail, Ian; Wang, Ran; Lacaille, Kevin; Steidel, Charles; Ivison, Rob; Sargent, Mark; Wang, Wei-Hao; Webb, Tracy; Yang, Yujin; Scott, Douglas; Ao, Yiping;</td><td>1.1182186079780483</td><td>0.022823050666738964</td><td>2.8672566</td><td>uid://A001/X12cc/X87</td><td>uid://A001/X12cc/X88</td><td>uid://A002/Xcc626d/X9d08</td><td>ALMA followup to the S2-WEB survey: Constraining the fraction of molecular outflows in the most luminous QSOs</td><td>S</td><td>TARGET</td><td>63.37367959158785</td><td>10.613799367699485</td><td>Y</td><td>0</td><td>Active Galactic Nuclei (AGN)/Quasars (QSO), Merging and interacting galaxies</td><td>Active galaxies</td><td>2017.1.01676.S</td></tr>\n",
       "<tr><td>2017.1.00271.S</td><td>Ridge_center</td><td>84.92211047123145</td><td>-70.12720509058221</td><td>280.6496644854789</td><td>-31.466823753041744</td><td>[3]</td><td>50.57240246772627</td><td>122.07567991056972</td><td>TP</td><td></td><td>71032.032</td><td>2019-04-25</td><td>[97.84..97.96GHz,122.08kHz,14.3mJy/beam@10km/s,2.3mJy/beam@native, XX YY] U [97.94..99.94GHz,1953.22kHz,14.3mJy/beam@10km/s,580.4uJy/beam@native, XX YY] U [109.63..109.75GHz,122.08kHz,15.6mJy/beam@10km/s,2.7mJy/beam@native, XX YY] U [110.05..110.17GHz,122.08kHz,15.8mJy/beam@10km/s,2.7mJy/beam@native, XX YY]</td><td>332.19889412631005</td><td>XX YY</td><td>2018-01-09 01:34:59</td><td>Indebetouw, Remy</td><td>Ridge_ce_b_03_TP</td><td>Onishi, Toshikazu; Chen, Rosie; Ott, Juergen; Zahorecz, Sarolta; Tokuda, Kazuki; Wong, Tony;</td><td>15.600045885314275</td><td>0.5396926842875832</td><td>2.9391875</td><td>uid://A001/X1273/X2ea</td><td>uid://A001/X12a3/X1bb</td><td>uid://A002/Xc8ed16/X9980</td><td>Why is ~ 1/4 of the LMC&apos;s molecular gas not forming massive stars?</td><td>S</td><td>TARGET</td><td>60.57435965098994</td><td>896.4206435610785</td><td>Y</td><td>0</td><td>High-mass star formation, Inter-Stellar Medium (ISM)/Molecular clouds</td><td>ISM and star formation</td><td>2017.1.00271.S</td></tr>\n",
       "<tr><td>2017.1.01616.S</td><td>SN2006tf</td><td>191.56587499998332</td><td>11.432055560000528</td><td>298.2540377388665</td><td>74.2567388041428</td><td>[3]</td><td>1.03121923494801</td><td>976.5299740541279</td><td>12m</td><td></td><td>3931.2</td><td>2019-04-25</td><td>[92.50..94.49GHz,31249.54kHz,711.3uJy/beam@10km/s,28.1uJy/beam@native, XX YY] U [94.26..96.24GHz,31249.54kHz,705.6uJy/beam@10km/s,28.1uJy/beam@native, XX YY] U [104.40..106.38GHz,31249.54kHz,705uJy/beam@10km/s,29.6uJy/beam@native, XX YY] U [106.39..108.26GHz,976.55kHz,716.1uJy/beam@10km/s,31.3uJy/beam@native, XX YY]</td><td>2703.9997734523813</td><td>XX YY</td><td>2018-03-18 05:07:36</td><td>Kim, Sam</td><td>SN2006tf_a_03_TM1</td><td>König, Sabine; Kruehler, Thomas; Schulze, Steve; Amorin, Ricardo; Michalowski, Michal; Thöne, Christina; Bauer, Franz; de Ugarte Postigo, Antonio; Leloudas, Giorgos; Ibar, Edo;</td><td>0.7049746789375838</td><td>0.014589608786997657</td><td>4.7876916</td><td>uid://A001/X1273/X46e</td><td>uid://A001/X1273/X46f</td><td>uid://A002/Xca795f/X214c</td><td>Superluminous Supernova Host galaxies in CO - Assessing Molecular Gas in Nascent Starbursts</td><td>S</td><td>TARGET</td><td>62.759518956947545</td><td>9.233810614816875</td><td>Y</td><td>0</td><td>Starburst galaxies</td><td>Active galaxies</td><td>2017.1.01616.S</td></tr>\n",
       "<tr><td>2017.1.00051.S</td><td>GRS_1915+105</td><td>288.7981085197454</td><td>10.94574607080332</td><td>45.36572598095569</td><td>-0.21907992248395228</td><td>[3]</td><td>1.6938422946051965</td><td>31245.51094998715</td><td>12m</td><td></td><td>3113.856</td><td>2019-04-27</td><td>[89.49..91.47GHz,31245.51kHz,509uJy/beam@10km/s,19.8uJy/beam@native, XX YY] U [91.43..93.41GHz,31245.51kHz,502uJy/beam@10km/s,19.7uJy/beam@native, XX YY] U [101.49..103.47GHz,31245.51kHz,483.8uJy/beam@10km/s,20uJy/beam@native, XX YY] U [103.49..105.47GHz,31245.51kHz,484.4uJy/beam@10km/s,20.2uJy/beam@native, XX YY]</td><td>88799.46930936063</td><td>XX YY</td><td>2018-04-19 07:44:39</td><td>Casella, Piergiorgio</td><td>GRS_1915_c_03_TM1</td><td>Miller-Jones, James; Vincentelli, Federico Maria; Belloni, Tomaso; Diaz Trigo, Maria; Sivakoff, Gregory;</td><td>0.4843919336744103</td><td>0.009961596379823459</td><td>0.8909945</td><td>uid://A001/X1284/Xaaa</td><td>uid://A001/X1284/Xaab</td><td>uid://A002/Xcc3ae3/X6cf6</td><td>Constraining jet physics with multi-lambda variability studies of GRS 1915+105</td><td>S</td><td>TARGET</td><td>64.62826390599761</td><td>9.795003464107912</td><td>Y</td><td>0</td><td>Black holes</td><td>Stars and stellar evolution</td><td>2017.1.00051.S</td></tr>\n",
       "<tr><td>2017.1.01355.L</td><td>G333.60</td><td>245.53899999997628</td><td>-50.099694444452496</td><td>333.6040259667905</td><td>-0.21207242911865257</td><td>[3]</td><td>53.33598647365587</td><td>122.0588555098436</td><td>TP</td><td></td><td>37094.4</td><td>2019-04-29</td><td>[91.71..92.71GHz,976.49kHz,13.7mJy/beam@10km/s,760.8uJy/beam@native, XX YY] U [93.13..93.25GHz,122.06kHz,13.7mJy/beam@10km/s,2.2mJy/beam@native, XX YY] U [102.12..103.12GHz,976.49kHz,13.6mJy/beam@10km/s,797.9uJy/beam@native, XX YY] U [104.52..105.52GHz,976.49kHz,13.8mJy/beam@10km/s,814.3uJy/beam@native, XX YY]</td><td>392.37226673139884</td><td>XX YY</td><td>2018-01-26 09:41:48</td><td>Motte, Frederique</td><td>G333.60_a_03_TP</td><td>Nguyen Luong, Quang; Bronfman, Leonardo; Hennebelle, Patrick; Galvan-Madrid, Roberto; Nakamura, Fumitaka; Bally, John; Menten, Karl; Finger, Ricardo; Lu, Xing; Molet, Jordan; Braine, Jonathan; Ohashi, Satoshi; Herpin, Fabrice; Rosolowsky, Erik; Gusdorf, Antoine; Chen, Vivien; Svoboda, Brian; Sakai, Takeshi; Guzman, Andres Ernesto; Ladjelate, Bilal; Reyes, Nicolas; Nony, Thomas; Marsh, Kenneth; Battersby, Cara; Gomez, Gilberto; Csengeri, Timea; Di Francesco, James; Bontemps, Sylvain; López-Sepulcre, Ana; Ta</td><td>13.75812000440658</td><td>0.4462726232283303</td><td>5.3726788</td><td>uid://A001/X1296/X1a2</td><td>uid://A001/X1296/X1a9</td><td>uid://A002/Xc99ad7/Xa232</td><td>ALMA-IMF: ALMA transforms our view of the origin of stellar masses</td><td>L</td><td>TARGET</td><td>63.88458380396162</td><td>945.4075954801879</td><td>Y</td><td>0</td><td>High-mass star formation, Low-mass star formation</td><td>ISM and star formation</td><td>2017.1.01355.L</td></tr>\n",
       "<tr><td>2017.1.00025.S</td><td>HATLAS_J143430.9+004133</td><td>218.62874999995728</td><td>0.6925000000002326</td><td>350.32414787913444</td><td>53.79733100879668</td><td>[3]</td><td>1.7383409241715013</td><td>1952.9904619728904</td><td>12m</td><td></td><td>151.2</td><td>2019-04-30</td><td>[93.80..95.79GHz,31247.85kHz,2.4mJy/beam@10km/s,95.1uJy/beam@native, XX YY] U [95.67..97.66GHz,31247.85kHz,2.4mJy/beam@10km/s,95.5uJy/beam@native, XX YY] U [105.87..107.86GHz,31247.85kHz,2.4mJy/beam@10km/s,101.2uJy/beam@native, XX YY] U [106.93..108.80GHz,1952.99kHz,2.4mJy/beam@10km/s,106.1uJy/beam@native, XX YY]</td><td>5380.769302494959</td><td>XX YY</td><td>2018-04-10 04:07:54</td><td>Vlahakis, Catherine</td><td>HATLAS_J_a_03_TM1</td><td>Valiante, Elisabetta; Smith, Matthew; Oteo, Ivan; Gomez, Haley; van Kampen, Eelco; Serjeant, Stephen; Dunne, Loretta; Cigan, Phil; Rowlands, Kate; van der Werf, Paul; Ibar, Edo; Ivison, Rob; Eales, Stephen; Smith, Daniel; Papadopoulos, Padelis; Cooray, Asantha; Bourne, Nathan; Viaene, Sebastien; Temi, Pasquale; Hughes, Thomas; Leeuw, Lerothodi;</td><td>2.3974525247909693</td><td>0.04958099719555209</td><td>4.7583475</td><td>uid://A001/X1284/X152b</td><td>uid://A001/X1284/X152c</td><td>uid://A002/Xcbdb2a/X3612</td><td>Unveiling molecular gas in local Herschel-ATLAS galaxies</td><td>S</td><td>TARGET</td><td>62.18969193906132</td><td>9.50387007987371</td><td>Y</td><td>0</td><td>Surveys of galaxies</td><td>Galaxy evolution</td><td>2017.1.00025.S</td></tr>\n",
       "<tr><td>2017.1.00025.S</td><td>HATLAS_J143701.0-010421</td><td>219.25416666662366</td><td>-1.0725000000003326</td><td>349.2125706716637</td><td>52.04877321827001</td><td>[3]</td><td>1.744979692565736</td><td>1952.9904619728904</td><td>12m</td><td></td><td>151.2</td><td>2019-04-30</td><td>[93.80..95.79GHz,31247.85kHz,2.4mJy/beam@10km/s,94.9uJy/beam@native, XX YY] U [95.67..97.66GHz,31247.85kHz,2.4mJy/beam@10km/s,95.3uJy/beam@native, XX YY] U [105.87..107.86GHz,31247.85kHz,2.4mJy/beam@10km/s,100.9uJy/beam@native, XX YY] U [106.93..108.80GHz,1952.99kHz,2.4mJy/beam@10km/s,105.8uJy/beam@native, XX YY]</td><td>5380.769302494959</td><td>XX YY</td><td>2018-04-10 04:07:54</td><td>Vlahakis, Catherine</td><td>HATLAS_J_a_03_TM1</td><td>Valiante, Elisabetta; Smith, Matthew; Oteo, Ivan; Gomez, Haley; van Kampen, Eelco; Serjeant, Stephen; Dunne, Loretta; Cigan, Phil; Rowlands, Kate; van der Werf, Paul; Ibar, Edo; Ivison, Rob; Eales, Stephen; Smith, Daniel; Papadopoulos, Padelis; Cooray, Asantha; Bourne, Nathan; Viaene, Sebastien; Temi, Pasquale; Hughes, Thomas; Leeuw, Lerothodi;</td><td>2.390844932968551</td><td>0.04945984921066412</td><td>4.7583475</td><td>uid://A001/X1284/X152b</td><td>uid://A001/X1284/X152c</td><td>uid://A002/Xcbdb2a/X3612</td><td>Unveiling molecular gas in local Herschel-ATLAS galaxies</td><td>S</td><td>TARGET</td><td>62.18969193906132</td><td>9.54016560247912</td><td>Y</td><td>0</td><td>Surveys of galaxies</td><td>Galaxy evolution</td><td>2017.1.00025.S</td></tr>\n",
       "<tr><td>2017.1.00025.S</td><td>HATLAS_J144244.2+015846</td><td>220.68416666662236</td><td>1.9794444444451624</td><td>354.34030540461123</td><td>53.35680297627943</td><td>[3]</td><td>1.763115722917743</td><td>1952.9904619728904</td><td>12m</td><td></td><td>151.2</td><td>2019-04-30</td><td>[93.80..95.79GHz,31247.85kHz,2.4mJy/beam@10km/s,95.2uJy/beam@native, XX YY] U [95.67..97.66GHz,31247.85kHz,2.4mJy/beam@10km/s,95.6uJy/beam@native, XX YY] U [105.87..107.86GHz,31247.85kHz,2.4mJy/beam@10km/s,101.4uJy/beam@native, XX YY] U [106.93..108.80GHz,1952.99kHz,2.4mJy/beam@10km/s,106.3uJy/beam@native, XX YY]</td><td>5380.769302494959</td><td>XX YY</td><td>2018-04-10 04:07:54</td><td>Vlahakis, Catherine</td><td>HATLAS_J_a_03_TM1</td><td>Valiante, Elisabetta; Smith, Matthew; Oteo, Ivan; Gomez, Haley; van Kampen, Eelco; Serjeant, Stephen; Dunne, Loretta; Cigan, Phil; Rowlands, Kate; van der Werf, Paul; Ibar, Edo; Ivison, Rob; Eales, Stephen; Smith, Daniel; Papadopoulos, Padelis; Cooray, Asantha; Bourne, Nathan; Viaene, Sebastien; Temi, Pasquale; Hughes, Thomas; Leeuw, Lerothodi;</td><td>2.402696335208629</td><td>0.049677120594931054</td><td>4.7583475</td><td>uid://A001/X1284/X152b</td><td>uid://A001/X1284/X152c</td><td>uid://A002/Xcbdb2a/X3612</td><td>Unveiling molecular gas in local Herschel-ATLAS galaxies</td><td>S</td><td>TARGET</td><td>62.18969193906132</td><td>9.639319038858275</td><td>Y</td><td>0</td><td>Surveys of galaxies</td><td>Galaxy evolution</td><td>2017.1.00025.S</td></tr>\n",
       "<tr><td>2017.1.00025.S</td><td>HATLAS_J144652.0+014010</td><td>221.71666666661926</td><td>1.6694444444451608</td><td>355.20175501455617</td><td>52.41292426978146</td><td>[3]</td><td>1.7756912465240864</td><td>1952.9904619728904</td><td>12m</td><td></td><td>151.2</td><td>2019-04-30</td><td>[93.80..95.79GHz,31247.85kHz,2.4mJy/beam@10km/s,95.2uJy/beam@native, XX YY] U [95.67..97.66GHz,31247.85kHz,2.4mJy/beam@10km/s,95.6uJy/beam@native, XX YY] U [105.87..107.86GHz,31247.85kHz,2.4mJy/beam@10km/s,101.4uJy/beam@native, XX YY] U [106.93..108.80GHz,1952.99kHz,2.4mJy/beam@10km/s,106.3uJy/beam@native, XX YY]</td><td>5380.769302494959</td><td>XX YY</td><td>2018-04-10 04:07:54</td><td>Vlahakis, Catherine</td><td>HATLAS_J_a_03_TM1</td><td>Valiante, Elisabetta; Smith, Matthew; Oteo, Ivan; Gomez, Haley; van Kampen, Eelco; Serjeant, Stephen; Dunne, Loretta; Cigan, Phil; Rowlands, Kate; van der Werf, Paul; Ibar, Edo; Ivison, Rob; Eales, Stephen; Smith, Daniel; Papadopoulos, Padelis; Cooray, Asantha; Bourne, Nathan; Viaene, Sebastien; Temi, Pasquale; Hughes, Thomas; Leeuw, Lerothodi;</td><td>2.4013992980350936</td><td>0.049653346479280505</td><td>4.7583475</td><td>uid://A001/X1284/X152b</td><td>uid://A001/X1284/X152c</td><td>uid://A002/Xcbdb2a/X3612</td><td>Unveiling molecular gas in local Herschel-ATLAS galaxies</td><td>S</td><td>TARGET</td><td>62.18969193906132</td><td>9.708072032519766</td><td>Y</td><td>0</td><td>Surveys of galaxies</td><td>Galaxy evolution</td><td>2017.1.00025.S</td></tr>\n",
       "<tr><td>2017.1.01355.L</td><td>W51-E</td><td>290.9340833333202</td><td>14.508194368278476</td><td>49.48906730459607</td><td>-0.3890933507007016</td><td>[3]</td><td>1.6283051697926239</td><td>122.05312323889048</td><td>12m</td><td>mosaic</td><td>811.171</td><td>2019-04-30</td><td>[91.71..92.65GHz,976.43kHz,1.5mJy/beam@10km/s,84.8uJy/beam@native, XX YY] U [93.10..93.21GHz,122.05kHz,1.5mJy/beam@10km/s,240.2uJy/beam@native, XX YY] U [102.11..103.05GHz,976.43kHz,1.5mJy/beam@10km/s,87.6uJy/beam@native, XX YY] U [104.51..105.45GHz,976.43kHz,1.5mJy/beam@10km/s,89.2uJy/beam@native, XX YY]</td><td>392.485257051394</td><td>XX YY</td><td>2018-04-09 09:36:45</td><td>Motte, Frederique</td><td>W51-E_a_03_TM2</td><td>Nguyen Luong, Quang; Bronfman, Leonardo; Hennebelle, Patrick; Galvan-Madrid, Roberto; Nakamura, Fumitaka; Bally, John; Menten, Karl; Finger, Ricardo; Lu, Xing; Molet, Jordan; Braine, Jonathan; Ohashi, Satoshi; Herpin, Fabrice; Rosolowsky, Erik; Gusdorf, Antoine; Chen, Vivien; Svoboda, Brian; Sakai, Takeshi; Guzman, Andres Ernesto; Ladjelate, Bilal; Reyes, Nicolas; Nony, Thomas; Marsh, Kenneth; Battersby, Cara; Gomez, Gilberto; Csengeri, Timea; Di Francesco, James; Bontemps, Sylvain; López-Sepulcre, Ana; Ta</td><td>1.4600960893618122</td><td>0.04926080361064086</td><td>3.0635426</td><td>uid://A001/X1296/X106</td><td>uid://A001/X1296/X109</td><td>uid://A002/Xcc626d/Xb34f</td><td>ALMA-IMF: ALMA transforms our view of the origin of stellar masses</td><td>L</td><td>TARGET</td><td>127.7798970563214</td><td>9.600600229669341</td><td>Y</td><td>0</td><td>High-mass star formation, Low-mass star formation</td><td>ISM and star formation</td><td>2017.1.01355.L</td></tr>\n",
       "</table>"
      ],
      "text/plain": [
       "<Table masked=True length=1689>\n",
       " Project code        Source name       ... ASA_PROJECT_CODE\n",
       "                                       ...                 \n",
       "   bytes64             bytes256        ...     bytes64     \n",
       "-------------- ----------------------- ... ----------------\n",
       "2011.0.00957.S             SPT_0103-45 ...   2011.0.00957.S\n",
       "2011.0.00957.S             SPT_0103-45 ...   2011.0.00957.S\n",
       "2011.0.00957.S             SPT_0113-46 ...   2011.0.00957.S\n",
       "2011.0.00957.S             SPT_0113-46 ...   2011.0.00957.S\n",
       "2011.0.00957.S             SPT_0125-47 ...   2011.0.00957.S\n",
       "2011.0.00957.S             SPT_0125-47 ...   2011.0.00957.S\n",
       "2011.0.00957.S             SPT_0125-50 ...   2011.0.00957.S\n",
       "2011.0.00957.S             SPT_0125-50 ...   2011.0.00957.S\n",
       "2011.0.00957.S             SPT_0128-51 ...   2011.0.00957.S\n",
       "           ...                     ... ...              ...\n",
       "2017.1.01676.S                  HS1442 ...   2017.1.01676.S\n",
       "2017.1.00271.S            Ridge_center ...   2017.1.00271.S\n",
       "2017.1.01616.S                SN2006tf ...   2017.1.01616.S\n",
       "2017.1.00051.S            GRS_1915+105 ...   2017.1.00051.S\n",
       "2017.1.01355.L                 G333.60 ...   2017.1.01355.L\n",
       "2017.1.00025.S HATLAS_J143430.9+004133 ...   2017.1.00025.S\n",
       "2017.1.00025.S HATLAS_J143701.0-010421 ...   2017.1.00025.S\n",
       "2017.1.00025.S HATLAS_J144244.2+015846 ...   2017.1.00025.S\n",
       "2017.1.00025.S HATLAS_J144652.0+014010 ...   2017.1.00025.S\n",
       "2017.1.01355.L                   W51-E ...   2017.1.01355.L"
      ]
     },
     "execution_count": 8,
     "metadata": {},
     "output_type": "execute_result"
    }
   ],
   "source": [
    "testQuery"
   ]
  },
  {
   "cell_type": "code",
   "execution_count": 9,
   "metadata": {},
   "outputs": [],
   "source": [
    "# sanitize ALMA source names\n",
    "safeNames = testQuery['Source name']\n",
    "safeNames = np.char.replace(safeNames, b' ', b'')\n",
    "safeNames = np.char.replace(safeNames, b'_', b'')\n",
    "safeNames = np.char.upper(safeNames)\n",
    "testQuery['ALMA sanitized source name'] = safeNames"
   ]
  },
  {
   "cell_type": "code",
   "execution_count": 10,
   "metadata": {},
   "outputs": [
    {
     "data": {
      "text/html": [
       "<i>Table masked=True length=1689</i>\n",
       "<table id=\"table4421996728\" class=\"table-striped table-bordered table-condensed\">\n",
       "<thead><tr><th>Project code</th><th>Source name</th><th>RA</th><th>Dec</th><th>Galactic longitude</th><th>Galactic latitude</th><th>Band</th><th>Spatial resolution</th><th>Frequency resolution</th><th>Array</th><th>Mosaic</th><th>Integration</th><th>Release date</th><th>Frequency support</th><th>Velocity resolution</th><th>Pol products</th><th>Observation date</th><th>PI name</th><th>SB name</th><th>Proposal authors</th><th>Line sensitivity (10 km/s)</th><th>Continuum sensitivity</th><th>PWV</th><th>Group ous id</th><th>Member ous id</th><th>Asdm uid</th><th>Project title</th><th>Project type</th><th>Scan intent</th><th>Field of view</th><th>Largest angular scale</th><th>QA2 Status</th><th>COUNT</th><th>Science keyword</th><th>Scientific category</th><th>ASA_PROJECT_CODE</th><th>ALMA sanitized source name</th></tr></thead>\n",
       "<thead><tr><th></th><th></th><th>deg</th><th>deg</th><th>deg</th><th>deg</th><th></th><th></th><th>kHz</th><th></th><th></th><th>s</th><th></th><th>GHz</th><th>m / s</th><th></th><th></th><th></th><th></th><th></th><th></th><th>mJy/beam</th><th>mm</th><th></th><th></th><th></th><th></th><th></th><th></th><th>arcs</th><th>arcs</th><th></th><th></th><th></th><th></th><th></th><th></th></tr></thead>\n",
       "<thead><tr><th>bytes64</th><th>bytes256</th><th>float64</th><th>float64</th><th>float64</th><th>float64</th><th>object</th><th>float64</th><th>float64</th><th>object</th><th>object</th><th>float64</th><th>object</th><th>bytes2700</th><th>float64</th><th>bytes64</th><th>object</th><th>bytes256</th><th>bytes128</th><th>bytes512</th><th>float64</th><th>float64</th><th>float32</th><th>bytes64</th><th>bytes64</th><th>bytes32</th><th>bytes256</th><th>bytes16</th><th>bytes256</th><th>float64</th><th>float64</th><th>bytes1</th><th>int64</th><th>bytes200</th><th>bytes200</th><th>bytes64</th><th>bytes29</th></tr></thead>\n",
       "<tr><td>2011.0.00957.S</td><td>SPT_0103-45</td><td>15.797875000000001</td><td>-45.64827777777778</td><td>296.5034970667741</td><td>-71.3330336577803</td><td>[3]</td><td>8.004940808270794</td><td>976.657768509833</td><td>12m</td><td></td><td>151.2</td><td>2013-04-25</td><td>[91.67..93.55GHz,976.66kHz,7.4mJy/beam@10km/s,300.4uJy/beam@native, XX YY] U [93.55..95.42GHz,976.66kHz,7.3mJy/beam@10km/s,301.1uJy/beam@native, XX YY] U [103.67..105.55GHz,976.66kHz,7.3mJy/beam@10km/s,313.2uJy/beam@native, XX YY] U [105.55..107.42GHz,976.66kHz,7.3mJy/beam@10km/s,318.9uJy/beam@native, XX YY]</td><td>2725.895948314194</td><td>XX YY</td><td>2011-11-19 03:43:05</td><td>Weiss, Axel</td><td>Tuning3_1-2HA</td><td>Chapman, Scott; Brodwin, Mark; Greve, Thomas; Hezaveh, Yashar; Sharon, Keren; Ashby, Matthew; Menten, Karl; Carlstrom, John; Marrone, Dan; De Breuck, Carlos; Rosenman, Michael; Holzapfel, William; Vieira, Joaquin; Crawford, Thomas; Lupu, Roxana; Fassnacht, Chris; Holder, Gilbert; Aguirre, James;</td><td>7.260172793218402</td><td>0.1540486568273702</td><td>4.0281453</td><td></td><td>uid://A001/X74/X291</td><td>uid://A002/X321719/X723</td><td>The ALMA-SPT Redshift Survey</td><td>S</td><td>TARGET WVR</td><td>63.28655495409857</td><td>32.80138244373298</td><td>Y</td><td>14</td><td>Sub-mm Galaxies (SMG), Gravitational lenses</td><td>Galaxy evolution</td><td>2011.0.00957.S</td><td>SPT0103-45</td></tr>\n",
       "<tr><td>2011.0.00957.S</td><td>SPT_0103-45</td><td>15.797875000000001</td><td>-45.64827777777778</td><td>296.5034970667741</td><td>-71.3330336577803</td><td>[3]</td><td>10.727745046324552</td><td>976.6579716976725</td><td>12m</td><td></td><td>151.2</td><td>2013-04-25</td><td>[95.42..97.30GHz,976.66kHz,7.3mJy/beam@10km/s,304.2uJy/beam@native, XX YY] U [97.30..99.17GHz,976.66kHz,7.2mJy/beam@10km/s,303uJy/beam@native, XX YY] U [107.42..109.30GHz,976.66kHz,7.5mJy/beam@10km/s,327.9uJy/beam@native, XX YY] U [109.30..111.17GHz,976.66kHz,7.8mJy/beam@10km/s,343.8uJy/beam@native, XX YY]</td><td>2633.9398359361962</td><td>XX YY</td><td>2011-11-19 04:46:11</td><td>Weiss, Axel</td><td>Tuning4_1-2HA</td><td>Chapman, Scott; Brodwin, Mark; Greve, Thomas; Hezaveh, Yashar; Sharon, Keren; Ashby, Matthew; Menten, Karl; Carlstrom, John; Marrone, Dan; De Breuck, Carlos; Rosenman, Michael; Holzapfel, William; Vieira, Joaquin; Crawford, Thomas; Lupu, Roxana; Fassnacht, Chris; Holder, Gilbert; Aguirre, James;</td><td>7.468943547865293</td><td>0.15921203104645965</td><td>4.161038</td><td></td><td>uid://A001/X74/X293</td><td>uid://A002/X321719/X826</td><td>The ALMA-SPT Redshift Survey</td><td>S</td><td>TARGET WVR</td><td>60.988833626470466</td><td>43.958459712754184</td><td>Y</td><td>14</td><td>Sub-mm Galaxies (SMG), Gravitational lenses</td><td>Galaxy evolution</td><td>2011.0.00957.S</td><td>SPT0103-45</td></tr>\n",
       "<tr><td>2011.0.00957.S</td><td>SPT_0113-46</td><td>18.285375</td><td>-46.2963611111111</td><td>291.725192459293</td><td>-70.35680731865747</td><td>[3]</td><td>7.806784683409882</td><td>976.657768509833</td><td>12m</td><td></td><td>151.2</td><td>2013-04-25</td><td>[91.67..93.55GHz,976.66kHz,7.4mJy/beam@10km/s,300.6uJy/beam@native, XX YY] U [93.55..95.42GHz,976.66kHz,7.3mJy/beam@10km/s,301.3uJy/beam@native, XX YY] U [103.67..105.55GHz,976.66kHz,7.3mJy/beam@10km/s,313.5uJy/beam@native, XX YY] U [105.55..107.42GHz,976.66kHz,7.3mJy/beam@10km/s,319.2uJy/beam@native, XX YY]</td><td>2725.895948314194</td><td>XX YY</td><td>2011-11-19 03:43:05</td><td>Weiss, Axel</td><td>Tuning3_1-2HA</td><td>Chapman, Scott; Brodwin, Mark; Greve, Thomas; Hezaveh, Yashar; Sharon, Keren; Ashby, Matthew; Menten, Karl; Carlstrom, John; Marrone, Dan; De Breuck, Carlos; Rosenman, Michael; Holzapfel, William; Vieira, Joaquin; Crawford, Thomas; Lupu, Roxana; Fassnacht, Chris; Holder, Gilbert; Aguirre, James;</td><td>7.266922806270144</td><td>0.15418158889140254</td><td>4.0281453</td><td></td><td>uid://A001/X74/X291</td><td>uid://A002/X321719/X723</td><td>The ALMA-SPT Redshift Survey</td><td>S</td><td>TARGET WVR</td><td>63.28655495409857</td><td>31.989409564631213</td><td>Y</td><td>14</td><td>Sub-mm Galaxies (SMG), Gravitational lenses</td><td>Galaxy evolution</td><td>2011.0.00957.S</td><td>SPT0113-46</td></tr>\n",
       "<tr><td>2011.0.00957.S</td><td>SPT_0113-46</td><td>18.285375</td><td>-46.2963611111111</td><td>291.725192459293</td><td>-70.35680731865747</td><td>[3]</td><td>10.173636104942148</td><td>976.6579716976725</td><td>12m</td><td></td><td>151.2</td><td>2013-04-25</td><td>[95.42..97.30GHz,976.66kHz,7.4mJy/beam@10km/s,304.5uJy/beam@native, XX YY] U [97.30..99.17GHz,976.66kHz,7.3mJy/beam@10km/s,303.3uJy/beam@native, XX YY] U [107.42..109.30GHz,976.66kHz,7.5mJy/beam@10km/s,328.3uJy/beam@native, XX YY] U [109.30..111.17GHz,976.66kHz,7.8mJy/beam@10km/s,344.3uJy/beam@native, XX YY]</td><td>2633.9398359361962</td><td>XX YY</td><td>2011-11-19 04:46:11</td><td>Weiss, Axel</td><td>Tuning4_1-2HA</td><td>Chapman, Scott; Brodwin, Mark; Greve, Thomas; Hezaveh, Yashar; Sharon, Keren; Ashby, Matthew; Menten, Karl; Carlstrom, John; Marrone, Dan; De Breuck, Carlos; Rosenman, Michael; Holzapfel, William; Vieira, Joaquin; Crawford, Thomas; Lupu, Roxana; Fassnacht, Chris; Holder, Gilbert; Aguirre, James;</td><td>7.477244332188736</td><td>0.15936862933588364</td><td>4.161038</td><td></td><td>uid://A001/X74/X293</td><td>uid://A002/X321719/X826</td><td>The ALMA-SPT Redshift Survey</td><td>S</td><td>TARGET WVR</td><td>60.988833626470466</td><td>41.68791958796063</td><td>Y</td><td>14</td><td>Sub-mm Galaxies (SMG), Gravitational lenses</td><td>Galaxy evolution</td><td>2011.0.00957.S</td><td>SPT0113-46</td></tr>\n",
       "<tr><td>2011.0.00957.S</td><td>SPT_0125-47</td><td>21.279458333333338</td><td>-47.39902777777778</td><td>287.1112089670969</td><td>-68.68132053101337</td><td>[3]</td><td>7.654228001630472</td><td>976.657768509833</td><td>12m</td><td></td><td>151.2</td><td>2013-04-25</td><td>[91.67..93.55GHz,976.66kHz,7.4mJy/beam@10km/s,301uJy/beam@native, XX YY] U [93.55..95.42GHz,976.66kHz,7.4mJy/beam@10km/s,301.7uJy/beam@native, XX YY] U [103.67..105.55GHz,976.66kHz,7.3mJy/beam@10km/s,314uJy/beam@native, XX YY] U [105.55..107.42GHz,976.66kHz,7.3mJy/beam@10km/s,319.8uJy/beam@native, XX YY]</td><td>2725.895948314194</td><td>XX YY</td><td>2011-11-19 03:43:05</td><td>Weiss, Axel</td><td>Tuning3_1-2HA</td><td>Chapman, Scott; Brodwin, Mark; Greve, Thomas; Hezaveh, Yashar; Sharon, Keren; Ashby, Matthew; Menten, Karl; Carlstrom, John; Marrone, Dan; De Breuck, Carlos; Rosenman, Michael; Holzapfel, William; Vieira, Joaquin; Crawford, Thomas; Lupu, Roxana; Fassnacht, Chris; Holder, Gilbert; Aguirre, James;</td><td>7.278982907678761</td><td>0.15441907905567298</td><td>4.0281453</td><td></td><td>uid://A001/X74/X291</td><td>uid://A002/X321719/X723</td><td>The ALMA-SPT Redshift Survey</td><td>S</td><td>TARGET WVR</td><td>63.28655495409857</td><td>31.364286883121427</td><td>Y</td><td>14</td><td>Sub-mm Galaxies (SMG), Gravitational lenses</td><td>Galaxy evolution</td><td>2011.0.00957.S</td><td>SPT0125-47</td></tr>\n",
       "<tr><td>2011.0.00957.S</td><td>SPT_0125-47</td><td>21.279458333333338</td><td>-47.39902777777778</td><td>287.1112089670969</td><td>-68.68132053101337</td><td>[3]</td><td>9.676980740034256</td><td>976.6579716976725</td><td>12m</td><td></td><td>151.2</td><td>2013-04-25</td><td>[95.42..97.30GHz,976.66kHz,7.4mJy/beam@10km/s,304.9uJy/beam@native, XX YY] U [97.30..99.17GHz,976.66kHz,7.3mJy/beam@10km/s,303.7uJy/beam@native, XX YY] U [107.42..109.30GHz,976.66kHz,7.5mJy/beam@10km/s,328.9uJy/beam@native, XX YY] U [109.30..111.17GHz,976.66kHz,7.8mJy/beam@10km/s,345.1uJy/beam@native, XX YY]</td><td>2633.9398359361962</td><td>XX YY</td><td>2011-11-19 04:46:11</td><td>Weiss, Axel</td><td>Tuning4_1-2HA</td><td>Chapman, Scott; Brodwin, Mark; Greve, Thomas; Hezaveh, Yashar; Sharon, Keren; Ashby, Matthew; Menten, Karl; Carlstrom, John; Marrone, Dan; De Breuck, Carlos; Rosenman, Michael; Holzapfel, William; Vieira, Joaquin; Crawford, Thomas; Lupu, Roxana; Fassnacht, Chris; Holder, Gilbert; Aguirre, James;</td><td>7.4920762739350435</td><td>0.15964838269865667</td><td>4.161038</td><td></td><td>uid://A001/X74/X293</td><td>uid://A002/X321719/X826</td><td>The ALMA-SPT Redshift Survey</td><td>S</td><td>TARGET WVR</td><td>60.988833626470466</td><td>39.65280365677929</td><td>Y</td><td>14</td><td>Sub-mm Galaxies (SMG), Gravitational lenses</td><td>Galaxy evolution</td><td>2011.0.00957.S</td><td>SPT0125-47</td></tr>\n",
       "<tr><td>2011.0.00957.S</td><td>SPT_0125-50</td><td>21.45629166666667</td><td>-50.63905555555556</td><td>289.6681152952509</td><td>-65.59444802712612</td><td>[3]</td><td>8.142043542711383</td><td>976.657768509833</td><td>12m</td><td></td><td>151.2</td><td>2013-04-25</td><td>[91.67..93.55GHz,976.66kHz,7.4mJy/beam@10km/s,302.4uJy/beam@native, XX YY] U [93.55..95.42GHz,976.66kHz,7.4mJy/beam@10km/s,303.1uJy/beam@native, XX YY] U [103.67..105.55GHz,976.66kHz,7.3mJy/beam@10km/s,315.7uJy/beam@native, XX YY] U [105.55..107.42GHz,976.66kHz,7.4mJy/beam@10km/s,321.7uJy/beam@native, XX YY]</td><td>2725.895948314194</td><td>XX YY</td><td>2011-11-19 03:43:05</td><td>Weiss, Axel</td><td>Tuning3_1-2HA</td><td>Chapman, Scott; Brodwin, Mark; Greve, Thomas; Hezaveh, Yashar; Sharon, Keren; Ashby, Matthew; Menten, Karl; Carlstrom, John; Marrone, Dan; De Breuck, Carlos; Rosenman, Michael; Holzapfel, William; Vieira, Joaquin; Crawford, Thomas; Lupu, Roxana; Fassnacht, Chris; Holder, Gilbert; Aguirre, James;</td><td>7.318873984883067</td><td>0.15520447133789222</td><td>4.0281453</td><td></td><td>uid://A001/X74/X291</td><td>uid://A002/X321719/X723</td><td>The ALMA-SPT Redshift Survey</td><td>S</td><td>TARGET WVR</td><td>63.28655495409857</td><td>33.3631803800551</td><td>Y</td><td>14</td><td>Sub-mm Galaxies (SMG), Gravitational lenses</td><td>Galaxy evolution</td><td>2011.0.00957.S</td><td>SPT0125-50</td></tr>\n",
       "<tr><td>2011.0.00957.S</td><td>SPT_0125-50</td><td>21.45629166666667</td><td>-50.63905555555556</td><td>289.6681152952509</td><td>-65.59444802712612</td><td>[3]</td><td>10.27280537144886</td><td>976.6579716976725</td><td>12m</td><td></td><td>151.2</td><td>2013-04-25</td><td>[95.42..97.30GHz,976.66kHz,7.4mJy/beam@10km/s,306.4uJy/beam@native, XX YY] U [97.30..99.17GHz,976.66kHz,7.3mJy/beam@10km/s,305.1uJy/beam@native, XX YY] U [107.42..109.30GHz,976.66kHz,7.5mJy/beam@10km/s,331.1uJy/beam@native, XX YY] U [109.30..111.17GHz,976.66kHz,7.9mJy/beam@10km/s,347.7uJy/beam@native, XX YY]</td><td>2633.9398359361962</td><td>XX YY</td><td>2011-11-19 04:46:11</td><td>Weiss, Axel</td><td>Tuning4_1-2HA</td><td>Chapman, Scott; Brodwin, Mark; Greve, Thomas; Hezaveh, Yashar; Sharon, Keren; Ashby, Matthew; Menten, Karl; Carlstrom, John; Marrone, Dan; De Breuck, Carlos; Rosenman, Michael; Holzapfel, William; Vieira, Joaquin; Crawford, Thomas; Lupu, Roxana; Fassnacht, Chris; Holder, Gilbert; Aguirre, James;</td><td>7.541145885432841</td><td>0.16057338147508105</td><td>4.161038</td><td></td><td>uid://A001/X74/X293</td><td>uid://A002/X321719/X826</td><td>The ALMA-SPT Redshift Survey</td><td>S</td><td>TARGET WVR</td><td>60.988833626470466</td><td>42.09427974917382</td><td>Y</td><td>14</td><td>Sub-mm Galaxies (SMG), Gravitational lenses</td><td>Galaxy evolution</td><td>2011.0.00957.S</td><td>SPT0125-50</td></tr>\n",
       "<tr><td>2011.0.00957.S</td><td>SPT_0128-51</td><td>22.038916666666665</td><td>-51.49661111111111</td><td>289.51191127364234</td><td>-64.66433116613277</td><td>[3]</td><td>8.232002861990082</td><td>976.657768509833</td><td>12m</td><td></td><td>151.2</td><td>2013-04-25</td><td>[91.67..93.55GHz,976.66kHz,7.5mJy/beam@10km/s,302.8uJy/beam@native, XX YY] U [93.55..95.42GHz,976.66kHz,7.4mJy/beam@10km/s,303.5uJy/beam@native, XX YY] U [103.67..105.55GHz,976.66kHz,7.3mJy/beam@10km/s,316.2uJy/beam@native, XX YY] U [105.55..107.42GHz,976.66kHz,7.4mJy/beam@10km/s,322.3uJy/beam@native, XX YY]</td><td>2725.895948314194</td><td>XX YY</td><td>2011-11-19 03:43:05</td><td>Weiss, Axel</td><td>Tuning3_1-2HA</td><td>Chapman, Scott; Brodwin, Mark; Greve, Thomas; Hezaveh, Yashar; Sharon, Keren; Ashby, Matthew; Menten, Karl; Carlstrom, John; Marrone, Dan; De Breuck, Carlos; Rosenman, Michael; Holzapfel, William; Vieira, Joaquin; Crawford, Thomas; Lupu, Roxana; Fassnacht, Chris; Holder, Gilbert; Aguirre, James;</td><td>7.330619927177622</td><td>0.15543568622610568</td><td>4.0281453</td><td></td><td>uid://A001/X74/X291</td><td>uid://A002/X321719/X723</td><td>The ALMA-SPT Redshift Survey</td><td>S</td><td>TARGET WVR</td><td>63.28655495409857</td><td>33.731801473791336</td><td>Y</td><td>14</td><td>Sub-mm Galaxies (SMG), Gravitational lenses</td><td>Galaxy evolution</td><td>2011.0.00957.S</td><td>SPT0128-51</td></tr>\n",
       "<tr><td>...</td><td>...</td><td>...</td><td>...</td><td>...</td><td>...</td><td>...</td><td>...</td><td>...</td><td>...</td><td>...</td><td>...</td><td>...</td><td>...</td><td>...</td><td>...</td><td>...</td><td>...</td><td>...</td><td>...</td><td>...</td><td>...</td><td>...</td><td>...</td><td>...</td><td>...</td><td>...</td><td>...</td><td>...</td><td>...</td><td>...</td><td>...</td><td>...</td><td>...</td><td>...</td><td>...</td><td>...</td></tr>\n",
       "<tr><td>2017.1.01676.S</td><td>HS1442</td><td>221.22362500000875</td><td>29.318222222222463</td><td>44.65335892888089</td><td>64.97302242411301</td><td>[3]</td><td>1.8003203944014459</td><td>31248.673554400877</td><td>12m</td><td></td><td>816.48</td><td>2019-04-25</td><td>[91.42..93.40GHz,31248.67kHz,1.1mJy/beam@10km/s,44.1uJy/beam@native, XX YY] U [93.36..95.34GHz,31248.67kHz,1.1mJy/beam@10km/s,44.3uJy/beam@native, XX YY] U [103.42..105.40GHz,31248.67kHz,1.1mJy/beam@10km/s,46.7uJy/beam@native, XX YY] U [105.42..107.40GHz,31248.67kHz,1.1mJy/beam@10km/s,47.9uJy/beam@native, XX YY]</td><td>87220.9201363223</td><td>XX YY</td><td>2018-04-23 05:21:50</td><td>Ross, Colin</td><td>HS1442_a_03_TM1</td><td>Geach, James; Chapman, Scott; Bertoldi, Frank; Serjeant, Stephen; Gao, Yu; Babul, Arif; Matsuda, Yuichi; Smail, Ian; Wang, Ran; Lacaille, Kevin; Steidel, Charles; Ivison, Rob; Sargent, Mark; Wang, Wei-Hao; Webb, Tracy; Yang, Yujin; Scott, Douglas; Ao, Yiping;</td><td>1.1182186079780483</td><td>0.022823050666738964</td><td>2.8672566</td><td>uid://A001/X12cc/X87</td><td>uid://A001/X12cc/X88</td><td>uid://A002/Xcc626d/X9d08</td><td>ALMA followup to the S2-WEB survey: Constraining the fraction of molecular outflows in the most luminous QSOs</td><td>S</td><td>TARGET</td><td>63.37367959158785</td><td>10.613799367699485</td><td>Y</td><td>0</td><td>Active Galactic Nuclei (AGN)/Quasars (QSO), Merging and interacting galaxies</td><td>Active galaxies</td><td>2017.1.01676.S</td><td>HS1442</td></tr>\n",
       "<tr><td>2017.1.00271.S</td><td>Ridge_center</td><td>84.92211047123145</td><td>-70.12720509058221</td><td>280.6496644854789</td><td>-31.466823753041744</td><td>[3]</td><td>50.57240246772627</td><td>122.07567991056972</td><td>TP</td><td></td><td>71032.032</td><td>2019-04-25</td><td>[97.84..97.96GHz,122.08kHz,14.3mJy/beam@10km/s,2.3mJy/beam@native, XX YY] U [97.94..99.94GHz,1953.22kHz,14.3mJy/beam@10km/s,580.4uJy/beam@native, XX YY] U [109.63..109.75GHz,122.08kHz,15.6mJy/beam@10km/s,2.7mJy/beam@native, XX YY] U [110.05..110.17GHz,122.08kHz,15.8mJy/beam@10km/s,2.7mJy/beam@native, XX YY]</td><td>332.19889412631005</td><td>XX YY</td><td>2018-01-09 01:34:59</td><td>Indebetouw, Remy</td><td>Ridge_ce_b_03_TP</td><td>Onishi, Toshikazu; Chen, Rosie; Ott, Juergen; Zahorecz, Sarolta; Tokuda, Kazuki; Wong, Tony;</td><td>15.600045885314275</td><td>0.5396926842875832</td><td>2.9391875</td><td>uid://A001/X1273/X2ea</td><td>uid://A001/X12a3/X1bb</td><td>uid://A002/Xc8ed16/X9980</td><td>Why is ~ 1/4 of the LMC&apos;s molecular gas not forming massive stars?</td><td>S</td><td>TARGET</td><td>60.57435965098994</td><td>896.4206435610785</td><td>Y</td><td>0</td><td>High-mass star formation, Inter-Stellar Medium (ISM)/Molecular clouds</td><td>ISM and star formation</td><td>2017.1.00271.S</td><td>RIDGECENTER</td></tr>\n",
       "<tr><td>2017.1.01616.S</td><td>SN2006tf</td><td>191.56587499998332</td><td>11.432055560000528</td><td>298.2540377388665</td><td>74.2567388041428</td><td>[3]</td><td>1.03121923494801</td><td>976.5299740541279</td><td>12m</td><td></td><td>3931.2</td><td>2019-04-25</td><td>[92.50..94.49GHz,31249.54kHz,711.3uJy/beam@10km/s,28.1uJy/beam@native, XX YY] U [94.26..96.24GHz,31249.54kHz,705.6uJy/beam@10km/s,28.1uJy/beam@native, XX YY] U [104.40..106.38GHz,31249.54kHz,705uJy/beam@10km/s,29.6uJy/beam@native, XX YY] U [106.39..108.26GHz,976.55kHz,716.1uJy/beam@10km/s,31.3uJy/beam@native, XX YY]</td><td>2703.9997734523813</td><td>XX YY</td><td>2018-03-18 05:07:36</td><td>Kim, Sam</td><td>SN2006tf_a_03_TM1</td><td>König, Sabine; Kruehler, Thomas; Schulze, Steve; Amorin, Ricardo; Michalowski, Michal; Thöne, Christina; Bauer, Franz; de Ugarte Postigo, Antonio; Leloudas, Giorgos; Ibar, Edo;</td><td>0.7049746789375838</td><td>0.014589608786997657</td><td>4.7876916</td><td>uid://A001/X1273/X46e</td><td>uid://A001/X1273/X46f</td><td>uid://A002/Xca795f/X214c</td><td>Superluminous Supernova Host galaxies in CO - Assessing Molecular Gas in Nascent Starbursts</td><td>S</td><td>TARGET</td><td>62.759518956947545</td><td>9.233810614816875</td><td>Y</td><td>0</td><td>Starburst galaxies</td><td>Active galaxies</td><td>2017.1.01616.S</td><td>SN2006TF</td></tr>\n",
       "<tr><td>2017.1.00051.S</td><td>GRS_1915+105</td><td>288.7981085197454</td><td>10.94574607080332</td><td>45.36572598095569</td><td>-0.21907992248395228</td><td>[3]</td><td>1.6938422946051965</td><td>31245.51094998715</td><td>12m</td><td></td><td>3113.856</td><td>2019-04-27</td><td>[89.49..91.47GHz,31245.51kHz,509uJy/beam@10km/s,19.8uJy/beam@native, XX YY] U [91.43..93.41GHz,31245.51kHz,502uJy/beam@10km/s,19.7uJy/beam@native, XX YY] U [101.49..103.47GHz,31245.51kHz,483.8uJy/beam@10km/s,20uJy/beam@native, XX YY] U [103.49..105.47GHz,31245.51kHz,484.4uJy/beam@10km/s,20.2uJy/beam@native, XX YY]</td><td>88799.46930936063</td><td>XX YY</td><td>2018-04-19 07:44:39</td><td>Casella, Piergiorgio</td><td>GRS_1915_c_03_TM1</td><td>Miller-Jones, James; Vincentelli, Federico Maria; Belloni, Tomaso; Diaz Trigo, Maria; Sivakoff, Gregory;</td><td>0.4843919336744103</td><td>0.009961596379823459</td><td>0.8909945</td><td>uid://A001/X1284/Xaaa</td><td>uid://A001/X1284/Xaab</td><td>uid://A002/Xcc3ae3/X6cf6</td><td>Constraining jet physics with multi-lambda variability studies of GRS 1915+105</td><td>S</td><td>TARGET</td><td>64.62826390599761</td><td>9.795003464107912</td><td>Y</td><td>0</td><td>Black holes</td><td>Stars and stellar evolution</td><td>2017.1.00051.S</td><td>GRS1915+105</td></tr>\n",
       "<tr><td>2017.1.01355.L</td><td>G333.60</td><td>245.53899999997628</td><td>-50.099694444452496</td><td>333.6040259667905</td><td>-0.21207242911865257</td><td>[3]</td><td>53.33598647365587</td><td>122.0588555098436</td><td>TP</td><td></td><td>37094.4</td><td>2019-04-29</td><td>[91.71..92.71GHz,976.49kHz,13.7mJy/beam@10km/s,760.8uJy/beam@native, XX YY] U [93.13..93.25GHz,122.06kHz,13.7mJy/beam@10km/s,2.2mJy/beam@native, XX YY] U [102.12..103.12GHz,976.49kHz,13.6mJy/beam@10km/s,797.9uJy/beam@native, XX YY] U [104.52..105.52GHz,976.49kHz,13.8mJy/beam@10km/s,814.3uJy/beam@native, XX YY]</td><td>392.37226673139884</td><td>XX YY</td><td>2018-01-26 09:41:48</td><td>Motte, Frederique</td><td>G333.60_a_03_TP</td><td>Nguyen Luong, Quang; Bronfman, Leonardo; Hennebelle, Patrick; Galvan-Madrid, Roberto; Nakamura, Fumitaka; Bally, John; Menten, Karl; Finger, Ricardo; Lu, Xing; Molet, Jordan; Braine, Jonathan; Ohashi, Satoshi; Herpin, Fabrice; Rosolowsky, Erik; Gusdorf, Antoine; Chen, Vivien; Svoboda, Brian; Sakai, Takeshi; Guzman, Andres Ernesto; Ladjelate, Bilal; Reyes, Nicolas; Nony, Thomas; Marsh, Kenneth; Battersby, Cara; Gomez, Gilberto; Csengeri, Timea; Di Francesco, James; Bontemps, Sylvain; López-Sepulcre, Ana; Ta</td><td>13.75812000440658</td><td>0.4462726232283303</td><td>5.3726788</td><td>uid://A001/X1296/X1a2</td><td>uid://A001/X1296/X1a9</td><td>uid://A002/Xc99ad7/Xa232</td><td>ALMA-IMF: ALMA transforms our view of the origin of stellar masses</td><td>L</td><td>TARGET</td><td>63.88458380396162</td><td>945.4075954801879</td><td>Y</td><td>0</td><td>High-mass star formation, Low-mass star formation</td><td>ISM and star formation</td><td>2017.1.01355.L</td><td>G333.60</td></tr>\n",
       "<tr><td>2017.1.00025.S</td><td>HATLAS_J143430.9+004133</td><td>218.62874999995728</td><td>0.6925000000002326</td><td>350.32414787913444</td><td>53.79733100879668</td><td>[3]</td><td>1.7383409241715013</td><td>1952.9904619728904</td><td>12m</td><td></td><td>151.2</td><td>2019-04-30</td><td>[93.80..95.79GHz,31247.85kHz,2.4mJy/beam@10km/s,95.1uJy/beam@native, XX YY] U [95.67..97.66GHz,31247.85kHz,2.4mJy/beam@10km/s,95.5uJy/beam@native, XX YY] U [105.87..107.86GHz,31247.85kHz,2.4mJy/beam@10km/s,101.2uJy/beam@native, XX YY] U [106.93..108.80GHz,1952.99kHz,2.4mJy/beam@10km/s,106.1uJy/beam@native, XX YY]</td><td>5380.769302494959</td><td>XX YY</td><td>2018-04-10 04:07:54</td><td>Vlahakis, Catherine</td><td>HATLAS_J_a_03_TM1</td><td>Valiante, Elisabetta; Smith, Matthew; Oteo, Ivan; Gomez, Haley; van Kampen, Eelco; Serjeant, Stephen; Dunne, Loretta; Cigan, Phil; Rowlands, Kate; van der Werf, Paul; Ibar, Edo; Ivison, Rob; Eales, Stephen; Smith, Daniel; Papadopoulos, Padelis; Cooray, Asantha; Bourne, Nathan; Viaene, Sebastien; Temi, Pasquale; Hughes, Thomas; Leeuw, Lerothodi;</td><td>2.3974525247909693</td><td>0.04958099719555209</td><td>4.7583475</td><td>uid://A001/X1284/X152b</td><td>uid://A001/X1284/X152c</td><td>uid://A002/Xcbdb2a/X3612</td><td>Unveiling molecular gas in local Herschel-ATLAS galaxies</td><td>S</td><td>TARGET</td><td>62.18969193906132</td><td>9.50387007987371</td><td>Y</td><td>0</td><td>Surveys of galaxies</td><td>Galaxy evolution</td><td>2017.1.00025.S</td><td>HATLASJ143430.9+004133</td></tr>\n",
       "<tr><td>2017.1.00025.S</td><td>HATLAS_J143701.0-010421</td><td>219.25416666662366</td><td>-1.0725000000003326</td><td>349.2125706716637</td><td>52.04877321827001</td><td>[3]</td><td>1.744979692565736</td><td>1952.9904619728904</td><td>12m</td><td></td><td>151.2</td><td>2019-04-30</td><td>[93.80..95.79GHz,31247.85kHz,2.4mJy/beam@10km/s,94.9uJy/beam@native, XX YY] U [95.67..97.66GHz,31247.85kHz,2.4mJy/beam@10km/s,95.3uJy/beam@native, XX YY] U [105.87..107.86GHz,31247.85kHz,2.4mJy/beam@10km/s,100.9uJy/beam@native, XX YY] U [106.93..108.80GHz,1952.99kHz,2.4mJy/beam@10km/s,105.8uJy/beam@native, XX YY]</td><td>5380.769302494959</td><td>XX YY</td><td>2018-04-10 04:07:54</td><td>Vlahakis, Catherine</td><td>HATLAS_J_a_03_TM1</td><td>Valiante, Elisabetta; Smith, Matthew; Oteo, Ivan; Gomez, Haley; van Kampen, Eelco; Serjeant, Stephen; Dunne, Loretta; Cigan, Phil; Rowlands, Kate; van der Werf, Paul; Ibar, Edo; Ivison, Rob; Eales, Stephen; Smith, Daniel; Papadopoulos, Padelis; Cooray, Asantha; Bourne, Nathan; Viaene, Sebastien; Temi, Pasquale; Hughes, Thomas; Leeuw, Lerothodi;</td><td>2.390844932968551</td><td>0.04945984921066412</td><td>4.7583475</td><td>uid://A001/X1284/X152b</td><td>uid://A001/X1284/X152c</td><td>uid://A002/Xcbdb2a/X3612</td><td>Unveiling molecular gas in local Herschel-ATLAS galaxies</td><td>S</td><td>TARGET</td><td>62.18969193906132</td><td>9.54016560247912</td><td>Y</td><td>0</td><td>Surveys of galaxies</td><td>Galaxy evolution</td><td>2017.1.00025.S</td><td>HATLASJ143701.0-010421</td></tr>\n",
       "<tr><td>2017.1.00025.S</td><td>HATLAS_J144244.2+015846</td><td>220.68416666662236</td><td>1.9794444444451624</td><td>354.34030540461123</td><td>53.35680297627943</td><td>[3]</td><td>1.763115722917743</td><td>1952.9904619728904</td><td>12m</td><td></td><td>151.2</td><td>2019-04-30</td><td>[93.80..95.79GHz,31247.85kHz,2.4mJy/beam@10km/s,95.2uJy/beam@native, XX YY] U [95.67..97.66GHz,31247.85kHz,2.4mJy/beam@10km/s,95.6uJy/beam@native, XX YY] U [105.87..107.86GHz,31247.85kHz,2.4mJy/beam@10km/s,101.4uJy/beam@native, XX YY] U [106.93..108.80GHz,1952.99kHz,2.4mJy/beam@10km/s,106.3uJy/beam@native, XX YY]</td><td>5380.769302494959</td><td>XX YY</td><td>2018-04-10 04:07:54</td><td>Vlahakis, Catherine</td><td>HATLAS_J_a_03_TM1</td><td>Valiante, Elisabetta; Smith, Matthew; Oteo, Ivan; Gomez, Haley; van Kampen, Eelco; Serjeant, Stephen; Dunne, Loretta; Cigan, Phil; Rowlands, Kate; van der Werf, Paul; Ibar, Edo; Ivison, Rob; Eales, Stephen; Smith, Daniel; Papadopoulos, Padelis; Cooray, Asantha; Bourne, Nathan; Viaene, Sebastien; Temi, Pasquale; Hughes, Thomas; Leeuw, Lerothodi;</td><td>2.402696335208629</td><td>0.049677120594931054</td><td>4.7583475</td><td>uid://A001/X1284/X152b</td><td>uid://A001/X1284/X152c</td><td>uid://A002/Xcbdb2a/X3612</td><td>Unveiling molecular gas in local Herschel-ATLAS galaxies</td><td>S</td><td>TARGET</td><td>62.18969193906132</td><td>9.639319038858275</td><td>Y</td><td>0</td><td>Surveys of galaxies</td><td>Galaxy evolution</td><td>2017.1.00025.S</td><td>HATLASJ144244.2+015846</td></tr>\n",
       "<tr><td>2017.1.00025.S</td><td>HATLAS_J144652.0+014010</td><td>221.71666666661926</td><td>1.6694444444451608</td><td>355.20175501455617</td><td>52.41292426978146</td><td>[3]</td><td>1.7756912465240864</td><td>1952.9904619728904</td><td>12m</td><td></td><td>151.2</td><td>2019-04-30</td><td>[93.80..95.79GHz,31247.85kHz,2.4mJy/beam@10km/s,95.2uJy/beam@native, XX YY] U [95.67..97.66GHz,31247.85kHz,2.4mJy/beam@10km/s,95.6uJy/beam@native, XX YY] U [105.87..107.86GHz,31247.85kHz,2.4mJy/beam@10km/s,101.4uJy/beam@native, XX YY] U [106.93..108.80GHz,1952.99kHz,2.4mJy/beam@10km/s,106.3uJy/beam@native, XX YY]</td><td>5380.769302494959</td><td>XX YY</td><td>2018-04-10 04:07:54</td><td>Vlahakis, Catherine</td><td>HATLAS_J_a_03_TM1</td><td>Valiante, Elisabetta; Smith, Matthew; Oteo, Ivan; Gomez, Haley; van Kampen, Eelco; Serjeant, Stephen; Dunne, Loretta; Cigan, Phil; Rowlands, Kate; van der Werf, Paul; Ibar, Edo; Ivison, Rob; Eales, Stephen; Smith, Daniel; Papadopoulos, Padelis; Cooray, Asantha; Bourne, Nathan; Viaene, Sebastien; Temi, Pasquale; Hughes, Thomas; Leeuw, Lerothodi;</td><td>2.4013992980350936</td><td>0.049653346479280505</td><td>4.7583475</td><td>uid://A001/X1284/X152b</td><td>uid://A001/X1284/X152c</td><td>uid://A002/Xcbdb2a/X3612</td><td>Unveiling molecular gas in local Herschel-ATLAS galaxies</td><td>S</td><td>TARGET</td><td>62.18969193906132</td><td>9.708072032519766</td><td>Y</td><td>0</td><td>Surveys of galaxies</td><td>Galaxy evolution</td><td>2017.1.00025.S</td><td>HATLASJ144652.0+014010</td></tr>\n",
       "<tr><td>2017.1.01355.L</td><td>W51-E</td><td>290.9340833333202</td><td>14.508194368278476</td><td>49.48906730459607</td><td>-0.3890933507007016</td><td>[3]</td><td>1.6283051697926239</td><td>122.05312323889048</td><td>12m</td><td>mosaic</td><td>811.171</td><td>2019-04-30</td><td>[91.71..92.65GHz,976.43kHz,1.5mJy/beam@10km/s,84.8uJy/beam@native, XX YY] U [93.10..93.21GHz,122.05kHz,1.5mJy/beam@10km/s,240.2uJy/beam@native, XX YY] U [102.11..103.05GHz,976.43kHz,1.5mJy/beam@10km/s,87.6uJy/beam@native, XX YY] U [104.51..105.45GHz,976.43kHz,1.5mJy/beam@10km/s,89.2uJy/beam@native, XX YY]</td><td>392.485257051394</td><td>XX YY</td><td>2018-04-09 09:36:45</td><td>Motte, Frederique</td><td>W51-E_a_03_TM2</td><td>Nguyen Luong, Quang; Bronfman, Leonardo; Hennebelle, Patrick; Galvan-Madrid, Roberto; Nakamura, Fumitaka; Bally, John; Menten, Karl; Finger, Ricardo; Lu, Xing; Molet, Jordan; Braine, Jonathan; Ohashi, Satoshi; Herpin, Fabrice; Rosolowsky, Erik; Gusdorf, Antoine; Chen, Vivien; Svoboda, Brian; Sakai, Takeshi; Guzman, Andres Ernesto; Ladjelate, Bilal; Reyes, Nicolas; Nony, Thomas; Marsh, Kenneth; Battersby, Cara; Gomez, Gilberto; Csengeri, Timea; Di Francesco, James; Bontemps, Sylvain; López-Sepulcre, Ana; Ta</td><td>1.4600960893618122</td><td>0.04926080361064086</td><td>3.0635426</td><td>uid://A001/X1296/X106</td><td>uid://A001/X1296/X109</td><td>uid://A002/Xcc626d/Xb34f</td><td>ALMA-IMF: ALMA transforms our view of the origin of stellar masses</td><td>L</td><td>TARGET</td><td>127.7798970563214</td><td>9.600600229669341</td><td>Y</td><td>0</td><td>High-mass star formation, Low-mass star formation</td><td>ISM and star formation</td><td>2017.1.01355.L</td><td>W51-E</td></tr>\n",
       "</table>"
      ],
      "text/plain": [
       "<Table masked=True length=1689>\n",
       " Project code        Source name       ... ALMA sanitized source name\n",
       "                                       ...                           \n",
       "   bytes64             bytes256        ...          bytes29          \n",
       "-------------- ----------------------- ... --------------------------\n",
       "2011.0.00957.S             SPT_0103-45 ...                 SPT0103-45\n",
       "2011.0.00957.S             SPT_0103-45 ...                 SPT0103-45\n",
       "2011.0.00957.S             SPT_0113-46 ...                 SPT0113-46\n",
       "2011.0.00957.S             SPT_0113-46 ...                 SPT0113-46\n",
       "2011.0.00957.S             SPT_0125-47 ...                 SPT0125-47\n",
       "2011.0.00957.S             SPT_0125-47 ...                 SPT0125-47\n",
       "2011.0.00957.S             SPT_0125-50 ...                 SPT0125-50\n",
       "2011.0.00957.S             SPT_0125-50 ...                 SPT0125-50\n",
       "2011.0.00957.S             SPT_0128-51 ...                 SPT0128-51\n",
       "           ...                     ... ...                        ...\n",
       "2017.1.01676.S                  HS1442 ...                     HS1442\n",
       "2017.1.00271.S            Ridge_center ...                RIDGECENTER\n",
       "2017.1.01616.S                SN2006tf ...                   SN2006TF\n",
       "2017.1.00051.S            GRS_1915+105 ...                GRS1915+105\n",
       "2017.1.01355.L                 G333.60 ...                    G333.60\n",
       "2017.1.00025.S HATLAS_J143430.9+004133 ...     HATLASJ143430.9+004133\n",
       "2017.1.00025.S HATLAS_J143701.0-010421 ...     HATLASJ143701.0-010421\n",
       "2017.1.00025.S HATLAS_J144244.2+015846 ...     HATLASJ144244.2+015846\n",
       "2017.1.00025.S HATLAS_J144652.0+014010 ...     HATLASJ144652.0+014010\n",
       "2017.1.01355.L                   W51-E ...                      W51-E"
      ]
     },
     "execution_count": 10,
     "metadata": {},
     "output_type": "execute_result"
    }
   ],
   "source": [
    "testQuery"
   ]
  },
  {
   "cell_type": "code",
   "execution_count": 11,
   "metadata": {},
   "outputs": [],
   "source": [
    "uniqueALMAnames = np.unique(testQuery['ALMA sanitized source name'])"
   ]
  },
  {
   "cell_type": "code",
   "execution_count": null,
   "metadata": {
    "scrolled": true
   },
   "outputs": [],
   "source": [
    "from astropy.table import join, setdiff, unique, vstack\n",
    "from astroquery.ned import Ned\n",
    "# query NED for object redshifts\n",
    "nedResult = list()\n",
    "for sourceName in uniqueALMAnames:\n",
    "    try:\n",
    "        nedSearch = Ned.query_object(sourceName)\n",
    "        nedSearch['ALMA sanitized source name'] = sourceName\n",
    "        # doing this prevents vstack warnings\n",
    "        nedSearch.meta = None\n",
    "        nedResult.append(nedSearch)\n",
    "    except Exception:\n",
    "        pass\n",
    "nedResult = vstack(nedResult)"
   ]
  },
  {
   "cell_type": "code",
   "execution_count": null,
   "metadata": {
    "scrolled": true
   },
   "outputs": [],
   "source": [
    "nedResult"
   ]
  },
  {
   "cell_type": "code",
   "execution_count": null,
   "metadata": {},
   "outputs": [],
   "source": [
    "# store rows without matching name in NED\n",
    "queryResultsNoNED = setdiff(testQuery, nedResult,\n",
    "                                         keys='ALMA sanitized source name')"
   ]
  },
  {
   "cell_type": "code",
   "execution_count": null,
   "metadata": {},
   "outputs": [],
   "source": [
    "# remove rows without redshifts in NED\n",
    "blankZinds = nedResult['Redshift'].mask.nonzero()\n",
    "blankZnames = nedResult['ALMA sanitized source name'][blankZinds]\n",
    "nedResult.remove_rows(blankZinds)"
   ]
  },
  {
   "cell_type": "code",
   "execution_count": null,
   "metadata": {},
   "outputs": [],
   "source": [
    "# store rows with matching name in NED but no z\n",
    "# (this seems like a dumb approach)\n",
    "blankZinds = list()\n",
    "for i,row in enumerate(testQuery):\n",
    "    if row['ALMA sanitized source name'] in blankZnames:\n",
    "        blankZinds.append(i)\n",
    "queryResultsNoNEDz = testQuery[blankZinds]"
   ]
  },
  {
   "cell_type": "code",
   "execution_count": null,
   "metadata": {},
   "outputs": [],
   "source": [
    "# rectify this naming difference between NED and ALMA\n",
    "nedResult.rename_column('DEC', 'Dec')\n"
   ]
  },
  {
   "cell_type": "code",
   "execution_count": null,
   "metadata": {},
   "outputs": [],
   "source": [
    "# keep redshifts, positions too if we wanna check later\n",
    "nedResult.keep_columns(['Object Name', 'RA', 'Dec', 'Redshift',\n",
    "                        'ALMA sanitized source name'])\n",
    "\n"
   ]
  },
  {
   "cell_type": "code",
   "execution_count": null,
   "metadata": {},
   "outputs": [],
   "source": [
    "from astropy import units as u\n",
    "import string\n",
    "\n",
    "def parseFrequencyRanges(queryResults):\n",
    "    \"\"\"parse frequency ranges for payload query\"\"\"\n",
    "    targetFreqRanges = list()\n",
    "    freqUnit = queryResults['Frequency support'].unit\n",
    "    for i in range(len(queryResults)):\n",
    "        freqStr = queryResults['Frequency support'][i]\n",
    "        freqStr = freqStr.split('U')\n",
    "        rowFreqRanges = list()\n",
    "        for j in range(len(freqStr)):\n",
    "            freqRange = freqStr[j].split(',')\n",
    "            freqRange = freqRange[0].strip(' [')\n",
    "            freqRange = freqRange.split('..')\n",
    "            freqRange[1] = freqRange[1].strip(string.ascii_letters)\n",
    "            freqRange = np.array(freqRange, dtype='float')\n",
    "            rowFreqRanges.append(freqRange)\n",
    "        targetFreqRanges.append(rowFreqRanges)\n",
    "    queryResults['Frequency ranges'] = targetFreqRanges\n",
    "    queryResults['Frequency ranges'].unit = freqUnit\n",
    "    "
   ]
  },
  {
   "cell_type": "code",
   "execution_count": null,
   "metadata": {},
   "outputs": [],
   "source": [
    "# parse frequencies\n",
    "parseFrequencyRanges(testQuery)\n",
    "\n",
    "testQuery"
   ]
  },
  {
   "cell_type": "code",
   "execution_count": null,
   "metadata": {},
   "outputs": [],
   "source": [
    "# join NED redshift table and ALMA archive table based on name\n",
    "ALMAnedResults = join(testQuery, nedResult,\n",
    "                      keys='ALMA sanitized source name')\n",
    "\n"
   ]
  },
  {
   "cell_type": "code",
   "execution_count": null,
   "metadata": {},
   "outputs": [],
   "source": [
    "# tidy up column names\n",
    "ALMAnedResults.rename_column('Source name', 'ALMA source name')\n",
    "ALMAnedResults.rename_column('RA_1', 'ALMA RA')\n",
    "ALMAnedResults.rename_column('Dec_1', 'ALMA Dec')\n",
    "ALMAnedResults.rename_column('Object Name', 'NED source name')\n",
    "ALMAnedResults.rename_column('RA_2', 'NED RA')\n",
    "ALMAnedResults.rename_column('Dec_2', 'NED Dec')\n",
    "ALMAnedResults.rename_column('Redshift', 'NED Redshift')"
   ]
  },
  {
   "cell_type": "code",
   "execution_count": null,
   "metadata": {},
   "outputs": [],
   "source": [
    "def _lineObserved(target_frequency, observed_frequency_ranges, linename=\"\"):\n",
    "        \"\"\"Loop through the observed spectral windows to check if \n",
    "            target_frequency is covered by spectral setup\"\"\"\n",
    "        \n",
    "        # Initialize boolean line observed flag array (i.e., True = line frequency in archive spw coverage)\n",
    "        lineObserved = []\n",
    "        \n",
    "        # loop over spectral window frequencies for each observation\n",
    "        for spw in observed_frequency_ranges:\n",
    "            # if observed frequency is in spw, flag as True and break inner loop (move on to next observation) \n",
    "            if spw[0] <= target_frequency <= spw[-1]:\n",
    "                print(linename,\"observed frequency\", target_frequency, \"GHz\",\n",
    "                          \"in range\", spw[0], \"-\", spw[-1])\n",
    "                lineObserved.append(True) # line IS observed\n",
    "            else:\n",
    "                lineObserved.append(False) # line NOT observed\n",
    "            \n",
    "        # Boolean line observed flag for each observation \n",
    "        if True in lineObserved:\n",
    "            return True\n",
    "        else:\n",
    "            return False\n"
   ]
  },
  {
   "cell_type": "code",
   "execution_count": null,
   "metadata": {},
   "outputs": [],
   "source": [
    "# mark flags if spw is on line (initialized to False)\n",
    "lineObserved = np.zeros((len(ALMAnedResults), len(restFreqs)),\n",
    "                         dtype=bool)\n",
    "\n",
    "for i, row in enumerate(ALMAnedResults):\n",
    "\n",
    "    # target redshift\n",
    "    z = row['NED Redshift']\n",
    "\n",
    "    # observed frequencies\n",
    "    observed_frequencies = [_observedFreq(rf, row['NED Redshift']) for rf in restFreqs]\n",
    "\n",
    "    if line_names == \"\":\n",
    "        line_names = ['Line{:}'.format(i) for i in range(len(restFreqs))]\n",
    "\n",
    "    # loop over the target lines, return a boolean flag array and add it to astropy table\n",
    "    for j, (observed_frequency, linename) in enumerate(zip(observed_frequencies,line_names)):\n",
    "        lineObserved[i, j]=_lineObserved(target_frequency=observed_frequency\n",
    "                                                    , observed_frequency_ranges=row['Frequency ranges']\n",
    "                                                    , linename=linename)"
   ]
  },
  {
   "cell_type": "code",
   "execution_count": null,
   "metadata": {},
   "outputs": [],
   "source": [
    "# add flag columns to array\n",
    "for i in range(len(restFreqs)):\n",
    "                    ALMAnedResults[line_names[i]] = lineObserved[:, i]\n"
   ]
  },
  {
   "cell_type": "code",
   "execution_count": null,
   "metadata": {},
   "outputs": [],
   "source": [
    "# remove rows which have no lines covered\n",
    "lineCount = np.array(ALMAnedResults[line_names[0]], dtype=int)\n",
    "for i in range(1, len(restFreqs)):\n",
    "    lineCount += np.array(ALMAnedResults[line_names[i]], dtype=int)\n",
    "noLinesInds = np.where(lineCount == 0)\n",
    "ALMAnedResults.remove_rows(noLinesInds)"
   ]
  },
  {
   "cell_type": "code",
   "execution_count": null,
   "metadata": {},
   "outputs": [],
   "source": [
    "queryResults = ALMAnedResults"
   ]
  },
  {
   "cell_type": "code",
   "execution_count": null,
   "metadata": {
    "scrolled": true
   },
   "outputs": [],
   "source": [
    "queryResults"
   ]
  },
  {
   "cell_type": "code",
   "execution_count": null,
   "metadata": {},
   "outputs": [],
   "source": [
    "print(\"galaxies with 12CO, 13CO, OR C18O:\", len(queryResults))"
   ]
  },
  {
   "cell_type": "code",
   "execution_count": null,
   "metadata": {
    "scrolled": true
   },
   "outputs": [],
   "source": [
    "idx = np.where((True in queryResults['12CO J=1-0']) & \n",
    "    (True in queryResults['13CO J=1-0']) &\n",
    "    (True in queryResults['C18O J=1-0']))\n",
    "\n",
    "display(queryResults[idx])\n"
   ]
  },
  {
   "cell_type": "code",
   "execution_count": null,
   "metadata": {},
   "outputs": [],
   "source": [
    "print(\"galaxies with 12CO, 13CO, AND C18O:\", k)"
   ]
  },
  {
   "cell_type": "markdown",
   "metadata": {},
   "source": [
    "Reload `ALMAxmatch` using IPythons `%autoreload` extenstion"
   ]
  },
  {
   "cell_type": "code",
   "execution_count": null,
   "metadata": {},
   "outputs": [],
   "source": [
    "%load_ext autoreload\n",
    "%autoreload"
   ]
  },
  {
   "cell_type": "code",
   "execution_count": null,
   "metadata": {},
   "outputs": [],
   "source": [
    "from ALMAxmatch import archiveSearch"
   ]
  },
  {
   "cell_type": "markdown",
   "metadata": {},
   "source": [
    "### runPayloadQuery Test"
   ]
  },
  {
   "cell_type": "code",
   "execution_count": null,
   "metadata": {
    "scrolled": true
   },
   "outputs": [],
   "source": [
    "payload = {'frequency':freqLimits, }\n",
    "\n",
    "payload"
   ]
  },
  {
   "cell_type": "code",
   "execution_count": null,
   "metadata": {},
   "outputs": [],
   "source": [
    "testPayloadQuery = archiveSearch()"
   ]
  },
  {
   "cell_type": "code",
   "execution_count": null,
   "metadata": {},
   "outputs": [],
   "source": [
    "testPayloadQuery.runPayloadQuery(payload=payload,science=True)"
   ]
  },
  {
   "cell_type": "code",
   "execution_count": null,
   "metadata": {},
   "outputs": [],
   "source": [
    "testPayloadQuery.queryResults"
   ]
  },
  {
   "cell_type": "markdown",
   "metadata": {},
   "source": [
    "## runPayloadQueryWithLines test"
   ]
  },
  {
   "cell_type": "code",
   "execution_count": null,
   "metadata": {},
   "outputs": [],
   "source": [
    "testPayloadLinesQuery = archiveSearch()"
   ]
  },
  {
   "cell_type": "code",
   "execution_count": null,
   "metadata": {},
   "outputs": [],
   "source": [
    "testPayloadLinesQuery.runPayloadQueryWithLines(restFreqs=rest_frequencies,\n",
    "                                          redshiftRange=redshift_range,\n",
    "                                          line_names=line_names, science=True)"
   ]
  },
  {
   "cell_type": "code",
   "execution_count": null,
   "metadata": {},
   "outputs": [],
   "source": [
    "testPayloadLinesQuery.queryResults"
   ]
  },
  {
   "cell_type": "code",
   "execution_count": null,
   "metadata": {},
   "outputs": [],
   "source": [
    "print(len(testPayloadLinesQuery.queryResults), \"observations of 12CO, 13CO, OR C18O:\")"
   ]
  },
  {
   "cell_type": "code",
   "execution_count": null,
   "metadata": {},
   "outputs": [],
   "source": []
  },
  {
   "cell_type": "code",
   "execution_count": null,
   "metadata": {},
   "outputs": [],
   "source": []
  },
  {
   "cell_type": "code",
   "execution_count": null,
   "metadata": {},
   "outputs": [],
   "source": []
  },
  {
   "cell_type": "code",
   "execution_count": null,
   "metadata": {},
   "outputs": [],
   "source": []
  },
  {
   "cell_type": "code",
   "execution_count": null,
   "metadata": {},
   "outputs": [],
   "source": []
  },
  {
   "cell_type": "code",
   "execution_count": null,
   "metadata": {},
   "outputs": [],
   "source": []
  },
  {
   "cell_type": "code",
   "execution_count": null,
   "metadata": {},
   "outputs": [],
   "source": []
  },
  {
   "cell_type": "code",
   "execution_count": null,
   "metadata": {},
   "outputs": [],
   "source": []
  },
  {
   "cell_type": "code",
   "execution_count": null,
   "metadata": {},
   "outputs": [],
   "source": []
  },
  {
   "cell_type": "code",
   "execution_count": null,
   "metadata": {},
   "outputs": [],
   "source": []
  },
  {
   "cell_type": "code",
   "execution_count": null,
   "metadata": {},
   "outputs": [],
   "source": []
  },
  {
   "cell_type": "code",
   "execution_count": null,
   "metadata": {},
   "outputs": [],
   "source": []
  },
  {
   "cell_type": "code",
   "execution_count": null,
   "metadata": {},
   "outputs": [],
   "source": []
  },
  {
   "cell_type": "code",
   "execution_count": null,
   "metadata": {},
   "outputs": [],
   "source": []
  },
  {
   "cell_type": "code",
   "execution_count": null,
   "metadata": {},
   "outputs": [],
   "source": []
  },
  {
   "cell_type": "code",
   "execution_count": null,
   "metadata": {},
   "outputs": [],
   "source": []
  },
  {
   "cell_type": "code",
   "execution_count": null,
   "metadata": {},
   "outputs": [],
   "source": []
  },
  {
   "cell_type": "code",
   "execution_count": null,
   "metadata": {},
   "outputs": [],
   "source": []
  },
  {
   "cell_type": "code",
   "execution_count": null,
   "metadata": {},
   "outputs": [],
   "source": []
  },
  {
   "cell_type": "code",
   "execution_count": null,
   "metadata": {},
   "outputs": [],
   "source": []
  }
 ],
 "metadata": {
  "kernelspec": {
   "display_name": "Python 3",
   "language": "python",
   "name": "python3"
  },
  "language_info": {
   "codemirror_mode": {
    "name": "ipython",
    "version": 3
   },
   "file_extension": ".py",
   "mimetype": "text/x-python",
   "name": "python",
   "nbconvert_exporter": "python",
   "pygments_lexer": "ipython3",
   "version": "3.6.5"
  }
 },
 "nbformat": 4,
 "nbformat_minor": 2
}
