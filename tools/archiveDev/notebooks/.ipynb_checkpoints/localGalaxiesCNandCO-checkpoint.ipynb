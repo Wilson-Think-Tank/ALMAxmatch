{
 "cells": [
  {
   "cell_type": "markdown",
   "metadata": {},
   "source": [
    "# Introduction\n",
    "## (Author: Nathan Brunetti)\n",
    "This notebook will walk you through using the ALMA archive query enhanced for identifying spectral lines potentially observed. It works through an example looking for observations from a circular region of radius 6&deg; centered on the Virgo Cluster in a redshift range of $0.005 \\leq z \\leq 0.1$ which may contain CO (J=2-1) and CN (N=1-0). The ```survey.runQueriesWithLines``` convenience function does most of the work so the remainder of the notebook explores the results tables and checks for projects and sources that may have had both lines observed.\n",
    "\n",
    "The underlying approach wrapped up in the ```survey.runQueriesWithLines``` function is to \n",
    "1. calculate the frequency range that contains our lines, in the given redshift range\n",
    "1. query the ALMA archive region using that frequency range\n",
    "1. match the source names in the ALMA archive against names in the NED database\n",
    "1. use the redshift from NED to calculate the observed frequency of our lines for each source\n",
    "1. check if the ALMA spectral window coverage contains the observed line frequencies"
   ]
  },
  {
   "cell_type": "markdown",
   "metadata": {},
   "source": [
    "### To do for this notebook\n",
    "* Display project codes at the end for sources which have both lines observed but are necessarily done in different projects. It is hard to see which projects are listed in the big full table so make it more human-accessible.\n",
    "* Add exploration of tables where no there are no NED matches and where NED matches but does not have redshift."
   ]
  },
  {
   "cell_type": "markdown",
   "metadata": {},
   "source": [
    "# Import modules we use"
   ]
  },
  {
   "cell_type": "markdown",
   "metadata": {},
   "source": [
    "This is a temporary hack to use a version of ```astroquery``` that does not have a bug in the release date column. Talk to brunettn for details on getting this set up."
   ]
  },
  {
   "cell_type": "code",
   "execution_count": null,
   "metadata": {
    "collapsed": true
   },
   "outputs": [],
   "source": [
    "import sys\n",
    "sys.path = ['/Users/nbrunett/Downloads/astroquery'] + sys.path"
   ]
  },
  {
   "cell_type": "markdown",
   "metadata": {},
   "source": [
    "Imports of external modules."
   ]
  },
  {
   "cell_type": "code",
   "execution_count": null,
   "metadata": {
    "collapsed": true
   },
   "outputs": [],
   "source": [
    "from astropy.table import vstack\n",
    "from astroquery.ned import Ned\n",
    "import numpy as np\n",
    "import os"
   ]
  },
  {
   "cell_type": "markdown",
   "metadata": {},
   "source": [
    "Import the enhanced ALMA query class, called ```survey```."
   ]
  },
  {
   "cell_type": "code",
   "execution_count": null,
   "metadata": {},
   "outputs": [],
   "source": [
    "sys.path.insert(0, os.path.abspath('..'))\n",
    "from superAlmaSearch.core import survey"
   ]
  },
  {
   "cell_type": "markdown",
   "metadata": {},
   "source": [
    "# Run the archive query"
   ]
  },
  {
   "cell_type": "markdown",
   "metadata": {},
   "source": [
    "We initialize the survey, like in any other case, by feeding it our targets. We specify the region to query with a tuple containing the coordinates of the center and the radius of the search region."
   ]
  },
  {
   "cell_type": "code",
   "execution_count": null,
   "metadata": {
    "collapsed": true
   },
   "outputs": [],
   "source": [
    "mySurvey = survey(('12h26m32.1s 12d43m24s', '6deg'))"
   ]
  },
  {
   "cell_type": "markdown",
   "metadata": {},
   "source": [
    "Now we have a survey instance called ```mySurvey``` that contains our desired search targets. Running the actual archive query to include the search for lines is almost as easy as one without a line search. All of the same arguments that ```astroquery```'s ALMA query tool accepts can be used here (e.g. science, band, polarization, etc.) except the frequency argument. This is because the survey class uses the frequency parameter to limit the search to where the lines may appear.\n",
    "\n",
    "We have to specify the rest frequencies of the spectral lines we are interested in to do the line search. A redshift range is optional and we choose to use one here. In this case, we also choose to limit the archive search to only the science targets (excluding calibrators). This is fine because we want local galaxies!"
   ]
  },
  {
   "cell_type": "code",
   "execution_count": null,
   "metadata": {},
   "outputs": [],
   "source": [
    "mySurvey.runQueriesWithLines([113.123337, 230.538], redshiftRange=(0.005, 0.1), science=True)"
   ]
  },
  {
   "cell_type": "markdown",
   "metadata": {},
   "source": [
    "And that's it! Stored within ```mySurvey``` are the ALMA observations in the specified region, with spectral coverage set by the rest fruquencies of the lines and redshift range, as well as whether CN and CO fall in the observed frequency coverage. There are also a table that contains the ALMA observations that fell in the frequency range but did not match any objects in NED by name, and a table for objects that were found in NED but did not have a redshift.\n",
    "\n",
    "So all of the ALMA observations in that region within that frequency range are stored in ```mySurvey```. These tables can be accessed as ```mySurvey.queryResults```, ```mySurvey.queryResultsNoNED```, and ```mySurvey.queryResultsNoNEDz```."
   ]
  },
  {
   "cell_type": "markdown",
   "metadata": {},
   "source": [
    "# Find observations with both CN and CO\n",
    "The rest of this notebook will deal with manipulating the archive query results to find information that may be useful. The first goal will be to find what observations (if any) have both CN and CO spectral coverage for the object's redshift."
   ]
  },
  {
   "cell_type": "markdown",
   "metadata": {},
   "source": [
    "We'll just set a couple convenience variables here to make accessing the table easier, since there was only one targed in our query."
   ]
  },
  {
   "cell_type": "code",
   "execution_count": null,
   "metadata": {
    "scrolled": true
   },
   "outputs": [],
   "source": [
    "print(mySurvey.targets)"
   ]
  },
  {
   "cell_type": "code",
   "execution_count": null,
   "metadata": {
    "collapsed": true
   },
   "outputs": [],
   "source": [
    "target = 'coord=12h26m32.1s 12d43m24s radius=6deg'\n",
    "surveyTable = mySurvey.queryResults[target]"
   ]
  },
  {
   "cell_type": "markdown",
   "metadata": {},
   "source": [
    "Let's take a look at the whole results table for observations that had at least one of the lines covered. Which line is covered is in the \"Line# observed\" columns all the way on the right side of the table where 0 is CN and 1 is CO. Also here are all of the standard ALMA archive data columns, with some extras added by the ```survey``` class to make the table a bit more machine-capable (e.g. \"Frequency ranges\" giving all of the SPW frequency ranges as a list of lists rather than the default mile-long string)."
   ]
  },
  {
   "cell_type": "code",
   "execution_count": null,
   "metadata": {},
   "outputs": [],
   "source": [
    "surveyTable.show_in_notebook()"
   ]
  },
  {
   "cell_type": "markdown",
   "metadata": {},
   "source": [
    "We can do a quick check of the number of observations that have CN, CO, or both observed. ```np.sum``` treats ```True``` as 1 and ```False``` as 0 so the sum gets us what we want. There are no observations with both lines which sounds disappointing until you remember that each observation is only in a single band and these lines are too far apart to be in the same band for the redshift range we specified (not until $z\\approx14$ are they $\\leq$ 8 GHz apart)."
   ]
  },
  {
   "cell_type": "code",
   "execution_count": null,
   "metadata": {},
   "outputs": [],
   "source": [
    "print('No. observations with CN(1-0): ', np.sum(surveyTable['Line0 observed']))\n",
    "print('No. observations with CO(2-1): ', np.sum(surveyTable['Line1 observed']))\n",
    "print('No. observations with both: ', np.sum((surveyTable['Line0 observed']) & (surveyTable['Line1 observed'])))"
   ]
  },
  {
   "cell_type": "markdown",
   "metadata": {},
   "source": [
    "So we need to to the check a little differently to find sources that were observed in both lines. How about we check based on project?"
   ]
  },
  {
   "cell_type": "code",
   "execution_count": null,
   "metadata": {
    "collapsed": true
   },
   "outputs": [],
   "source": [
    "CN10observed = surveyTable['Line0 observed']\n",
    "CO21observed = surveyTable['Line1 observed']\n",
    "\n",
    "CNprojects = np.unique(surveyTable['Project code'][CN10observed])\n",
    "COprojects = np.unique(surveyTable['Project code'][CO21observed])"
   ]
  },
  {
   "cell_type": "markdown",
   "metadata": {},
   "source": [
    "CN projects."
   ]
  },
  {
   "cell_type": "code",
   "execution_count": null,
   "metadata": {
    "scrolled": false
   },
   "outputs": [],
   "source": [
    "print(CNprojects)"
   ]
  },
  {
   "cell_type": "markdown",
   "metadata": {},
   "source": [
    "CO projects."
   ]
  },
  {
   "cell_type": "code",
   "execution_count": null,
   "metadata": {
    "scrolled": true
   },
   "outputs": [],
   "source": [
    "print(COprojects)"
   ]
  },
  {
   "cell_type": "markdown",
   "metadata": {},
   "source": [
    "Projects with both lines. Still none! I'm not out of tricks yet though."
   ]
  },
  {
   "cell_type": "code",
   "execution_count": null,
   "metadata": {},
   "outputs": [],
   "source": [
    "print(np.intersect1d(np.array(CNprojects), np.array(COprojects)))"
   ]
  },
  {
   "cell_type": "markdown",
   "metadata": {},
   "source": [
    "This time, let's find the ALMA source names that had both lines observed even if the observations come from different projects. Here we use another of the ```survey``` class added column names called \"ALMA sanitized source name\" which just took the normal \"Source name\" column that comes out of the archive, removed whitespace, removed underscores, and made all letter uppercase. This makes it possible to match projects where the PI named something like \"m 87\" to another with \"M87\" (which is something I think the ALMA archive team should do...)."
   ]
  },
  {
   "cell_type": "code",
   "execution_count": null,
   "metadata": {
    "collapsed": true
   },
   "outputs": [],
   "source": [
    "CNsources = np.unique(surveyTable['ALMA sanitized source name'][CN10observed])\n",
    "COsources = np.unique(surveyTable['ALMA sanitized source name'][CO21observed])\n",
    "lineIntersectSources = np.intersect1d(np.array(CNsources), np.array(COsources))"
   ]
  },
  {
   "cell_type": "markdown",
   "metadata": {},
   "source": [
    "Sources with CN."
   ]
  },
  {
   "cell_type": "code",
   "execution_count": null,
   "metadata": {},
   "outputs": [],
   "source": [
    "print(CNsources)"
   ]
  },
  {
   "cell_type": "markdown",
   "metadata": {},
   "source": [
    "Sources with CO."
   ]
  },
  {
   "cell_type": "code",
   "execution_count": null,
   "metadata": {},
   "outputs": [],
   "source": [
    "print(COsources)"
   ]
  },
  {
   "cell_type": "markdown",
   "metadata": {},
   "source": [
    "Sources with both lines and this time we have victory."
   ]
  },
  {
   "cell_type": "code",
   "execution_count": null,
   "metadata": {},
   "outputs": [],
   "source": [
    "print(lineIntersectSources)"
   ]
  },
  {
   "cell_type": "markdown",
   "metadata": {},
   "source": [
    "Now we know we have several ALMA source names that have both so let's grab the full archive result rows for those."
   ]
  },
  {
   "cell_type": "code",
   "execution_count": null,
   "metadata": {
    "collapsed": true
   },
   "outputs": [],
   "source": [
    "CNandCOobs = dict()\n",
    "for sourceName in lineIntersectSources:\n",
    "    CNobs = surveyTable[CN10observed]\n",
    "    CNobs = CNobs.group_by('ALMA sanitized source name')\n",
    "    mask = CNobs.groups.keys['ALMA sanitized source name'] == [sourceName]\n",
    "    CNobs = CNobs.groups[mask]\n",
    "\n",
    "    COobs = surveyTable[CO21observed]\n",
    "    COobs = COobs.group_by('ALMA sanitized source name')\n",
    "    mask = COobs.groups.keys['ALMA sanitized source name'] == [sourceName]\n",
    "    COobs = COobs.groups[mask]\n",
    "\n",
    "    CNandCOobs[sourceName] = vstack([CNobs.group_by('Project code'), COobs.group_by('Project code')])"
   ]
  },
  {
   "cell_type": "markdown",
   "metadata": {},
   "source": [
    "M87."
   ]
  },
  {
   "cell_type": "code",
   "execution_count": null,
   "metadata": {},
   "outputs": [],
   "source": [
    "display(CNandCOobs[lineIntersectSources[0]])"
   ]
  },
  {
   "cell_type": "markdown",
   "metadata": {},
   "source": [
    "NGC4321."
   ]
  },
  {
   "cell_type": "code",
   "execution_count": null,
   "metadata": {},
   "outputs": [],
   "source": [
    "display(CNandCOobs[lineIntersectSources[1]])"
   ]
  },
  {
   "cell_type": "markdown",
   "metadata": {},
   "source": [
    "NGC4477"
   ]
  },
  {
   "cell_type": "code",
   "execution_count": null,
   "metadata": {},
   "outputs": [],
   "source": [
    "display(CNandCOobs[lineIntersectSources[2]])"
   ]
  },
  {
   "cell_type": "markdown",
   "metadata": {},
   "source": [
    "NGC4596"
   ]
  },
  {
   "cell_type": "code",
   "execution_count": null,
   "metadata": {},
   "outputs": [],
   "source": [
    "display(CNandCOobs[lineIntersectSources[3]])"
   ]
  }
 ],
 "metadata": {
  "kernelspec": {
   "display_name": "Python 3",
   "language": "python",
   "name": "python3"
  },
  "language_info": {
   "codemirror_mode": {
    "name": "ipython",
    "version": 3
   },
   "file_extension": ".py",
   "mimetype": "text/x-python",
   "name": "python",
   "nbconvert_exporter": "python",
   "pygments_lexer": "ipython3",
   "version": "3.6.5"
  }
 },
 "nbformat": 4,
 "nbformat_minor": 2
}
