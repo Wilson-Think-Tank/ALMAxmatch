{
 "cells": [
  {
   "cell_type": "markdown",
   "metadata": {},
   "source": [
    "# Search the entire ALMA archive for some target lines using the `ALMAxmatch` module's `runQueryWithLines` method"
   ]
  },
  {
   "cell_type": "markdown",
   "metadata": {},
   "source": [
    "### Import `astroquery.alma` and `ALMAxmatch` modules\n",
    "- This requires adding to the python path for now"
   ]
  },
  {
   "cell_type": "markdown",
   "metadata": {},
   "source": [
    "### Set path to custom `astroquery` module\n",
    "This is a temporary hack to \"use a version of ```astroquery``` that does not have a bug in the release date column. \n",
    "To get this set up run the following in terminal:\n",
    "\n",
    "`git clone https://github.com/astropy/astroquery.git`\n",
    "\n",
    "`cd astroquery`\n",
    "\n",
    "`python setup.py build`\n",
    "\n",
    "`python setup.py install`\n",
    "\n",
    "replace `python` with `python3` if necessary"
   ]
  },
  {
   "cell_type": "code",
   "execution_count": 1,
   "metadata": {},
   "outputs": [],
   "source": [
    "import sys\n",
    "sys.path = ['/Users/thbrown/astroquery'] + sys.path"
   ]
  },
  {
   "cell_type": "markdown",
   "metadata": {},
   "source": [
    "Import module and print valid payload keywords"
   ]
  },
  {
   "cell_type": "code",
   "execution_count": 2,
   "metadata": {},
   "outputs": [
    {
     "name": "stdout",
     "output_type": "stream",
     "text": [
      "Valid ALMA keywords.  Left column is the description, right column is the name of the keyword to pass to astroquery.alma queries:\n",
      "\n",
      "Position\n",
      "  Source name (Resolver)           : source_name_resolver               \n",
      "  Source name (ALMA)               : source_name_alma                   \n",
      "  RA Dec                           : ra_dec                             \n",
      "  Galactic                         : galactic                           \n",
      "  Angular resolution               : spatial_resolution                 \n",
      "  Largest angular scale            : spatial_scale_max                  \n",
      "  Field of view                    : fov                                \n",
      "\n",
      "Energy\n",
      "  Frequency                        : frequency                          \n",
      "  Bandwidth                        : bandwidth                          \n",
      "  Spectral resolution              : spectral_resolution                \n",
      "  Band                             : band_list            -> 3(84-116 GHz)=3, 4(125-163 GHz)=4, 5(163-211 GHz)=5, 6(211-275 GHz)=6, 7(275-373 GHz)=7, 8(385-500 GHz)=8, 9(602-720 GHz)=9, 10(787-950 GHz)=10\n",
      "\n",
      "Time\n",
      "  Observation date                 : start_date                         \n",
      "  Integration time                 : integration_time                   \n",
      "\n",
      "Polarisation\n",
      "  Polarisation type                : polarisation_type    -> Stokes I=0, Single=1, Dual=2, Full=3|4\n",
      "\n",
      "Observation\n",
      "  Line sensitivity (10 km/s)       : line_sensitivity                   \n",
      "  Continuum sensitivity            : continuum_sensitivity              \n",
      "  Water vapour                     : water_vapour                       \n",
      "\n",
      "Project\n",
      "  Project code                     : project_code                       \n",
      "  Project title                    : project_title                      \n",
      "  PI name                          : pi_name                            \n",
      "  Proposal authors                 : proposal_authors                   \n",
      "  Project abstract                 : project_abstract                   \n",
      "  Publication count                : publication_count                  \n",
      "  Science keyword                  : science_keyword      -> \n",
      "\n",
      "Publication\n",
      "  Bibcode                          : bibcode                            \n",
      "  Title                            : pub_title                          \n",
      "  First author                     : first_author                       \n",
      "  Authors                          : authors                            \n",
      "  Abstract                         : pub_abstract                       \n",
      "  Year                             : publication_year                   \n",
      "\n",
      "Options\n",
      "  (x) View:                        : result_view          = observation    \n",
      "  ( ) View:                        : result_view          = project        \n",
      "  ( ) View:                        : result_view          = biblio         \n",
      "  [ ] public data only             : public_data          = public         \n",
      "  [x] science observations only    : science_observations = =%TARGET%      \n"
     ]
    }
   ],
   "source": [
    "from astroquery.alma import Alma\n",
    "Alma.help()"
   ]
  },
  {
   "cell_type": "code",
   "execution_count": 3,
   "metadata": {},
   "outputs": [],
   "source": [
    "import sys\n",
    "sys.path = ['/Users/thbrown/ALMA/think_tank_code/tools/archiveDev'] + sys.path\n",
    "from ALMAxmatch import archiveSearch"
   ]
  },
  {
   "cell_type": "markdown",
   "metadata": {},
   "source": [
    "## Run the archive search\n",
    "1. Define the line rest frequencies (names are optional, output defaults to *line 0*, *line 1*, ...) and redshift range of search\n",
    "2. Calculate min and max frequencies for lines in the redshift range\n",
    "3. Create a dictionary of payload keywords (including frequency) that are accepted by the ALMA archive system.\n",
    "2. Query the service using `alma.query` and return a table object, selecting only science data"
   ]
  },
  {
   "cell_type": "markdown",
   "metadata": {},
   "source": [
    "### 2. Define lines of interest and redshift\n",
    "\n",
    "Search for the following lines at $ z\\leq 0.1$:\n",
    "\n",
    "1. $^{12}$CO ($J=1-0$) @ 115.27120180 GHz rest frequency\n",
    "2. $^{13}$CO ($J=1-0$) @ 109.78217340 GHz rest frequency\n",
    "3. C$^{18}$O ($J=1-0$) @ 110.20135430 GHz rest frequency"
   ]
  },
  {
   "cell_type": "code",
   "execution_count": 4,
   "metadata": {},
   "outputs": [],
   "source": [
    "# rest frame frequencies\n",
    "rf_12CO_10 = 115.27120180 # 12CO J=1-0\n",
    "rf_13CO_10 = 110.20135430 # 13CO J=1-0\n",
    "rf_C18O_10 = 109.78217340 # C18O J=1-0\n",
    "\n",
    "rest_frequencies = [rf_12CO_10, rf_13CO_10, rf_C18O_10]\n",
    "line_names = ['12CO J=1-0', '13CO J=1-0', 'C18O J=1-0'] # column names for observed boolean flags "
   ]
  },
  {
   "cell_type": "code",
   "execution_count": 5,
   "metadata": {},
   "outputs": [],
   "source": [
    "redshift_range = [0.05,0.055]"
   ]
  },
  {
   "cell_type": "code",
   "execution_count": 6,
   "metadata": {},
   "outputs": [
    {
     "name": "stdout",
     "output_type": "stream",
     "text": [
      "the observered frequency range of interest is 104.05893213270143 .. 109.78209695238095 GHz\n"
     ]
    }
   ],
   "source": [
    "import numpy as np\n",
    "def _observedFreq(restFreq, z):\n",
    "        \"\"\"Return observed frequency according to nu_0 / nu = 1 + z.\"\"\"\n",
    "        return restFreq/(1+z)\n",
    "    \n",
    "# sort redshift range and frequency arrays\n",
    "restFreqs = np.array(rest_frequencies)\n",
    "restFreqs.sort()\n",
    "\n",
    "redshiftRange = np.array(redshift_range)\n",
    "redshiftRange.sort()\n",
    "        \n",
    "# define frequency range from lines and redshifts\n",
    "lowFreq = _observedFreq(restFreqs[0], redshiftRange[1])\n",
    "highFreq = _observedFreq(restFreqs[-1], redshiftRange[0])\n",
    "freqLimits = '{:} .. {:}'.format(lowFreq, highFreq)\n",
    "\n",
    "print('the observered frequency range of interest is '+freqLimits+' GHz')"
   ]
  },
  {
   "cell_type": "code",
   "execution_count": 7,
   "metadata": {},
   "outputs": [],
   "source": [
    "payload = {'frequency':freqLimits, }\n",
    "\n",
    "testQuery = Alma.query(payload=payload, science=True)"
   ]
  },
  {
   "cell_type": "code",
   "execution_count": 8,
   "metadata": {},
   "outputs": [
    {
     "data": {
      "text/html": [
       "<i>Table masked=True length=1689</i>\n",
       "<table id=\"table4448909464\" class=\"table-striped table-bordered table-condensed\">\n",
       "<thead><tr><th>Project code</th><th>Source name</th><th>RA</th><th>Dec</th><th>Galactic longitude</th><th>Galactic latitude</th><th>Band</th><th>Spatial resolution</th><th>Frequency resolution</th><th>Array</th><th>Mosaic</th><th>Integration</th><th>Release date</th><th>Frequency support</th><th>Velocity resolution</th><th>Pol products</th><th>Observation date</th><th>PI name</th><th>SB name</th><th>Proposal authors</th><th>Line sensitivity (10 km/s)</th><th>Continuum sensitivity</th><th>PWV</th><th>Group ous id</th><th>Member ous id</th><th>Asdm uid</th><th>Project title</th><th>Project type</th><th>Scan intent</th><th>Field of view</th><th>Largest angular scale</th><th>QA2 Status</th><th>COUNT</th><th>Science keyword</th><th>Scientific category</th><th>ASA_PROJECT_CODE</th></tr></thead>\n",
       "<thead><tr><th></th><th></th><th>deg</th><th>deg</th><th>deg</th><th>deg</th><th></th><th></th><th>kHz</th><th></th><th></th><th>s</th><th></th><th>GHz</th><th>m / s</th><th></th><th></th><th></th><th></th><th></th><th></th><th>mJy/beam</th><th>mm</th><th></th><th></th><th></th><th></th><th></th><th></th><th>arcs</th><th>arcs</th><th></th><th></th><th></th><th></th><th></th></tr></thead>\n",
       "<thead><tr><th>bytes64</th><th>bytes256</th><th>float64</th><th>float64</th><th>float64</th><th>float64</th><th>object</th><th>float64</th><th>float64</th><th>object</th><th>object</th><th>float64</th><th>object</th><th>bytes2700</th><th>float64</th><th>bytes64</th><th>object</th><th>bytes256</th><th>bytes128</th><th>bytes512</th><th>float64</th><th>float64</th><th>float32</th><th>bytes64</th><th>bytes64</th><th>bytes32</th><th>bytes256</th><th>bytes16</th><th>bytes256</th><th>float64</th><th>float64</th><th>bytes1</th><th>int64</th><th>bytes200</th><th>bytes200</th><th>bytes64</th></tr></thead>\n",
       "<tr><td>2011.0.00957.S</td><td>SPT_0103-45</td><td>15.797875000000001</td><td>-45.64827777777778</td><td>296.5034970667741</td><td>-71.3330336577803</td><td>[3]</td><td>8.004940808270794</td><td>976.657768509833</td><td>12m</td><td></td><td>151.2</td><td>2013-04-25</td><td>[91.67..93.55GHz,976.66kHz,7.4mJy/beam@10km/s,300.4uJy/beam@native, XX YY] U [93.55..95.42GHz,976.66kHz,7.3mJy/beam@10km/s,301.1uJy/beam@native, XX YY] U [103.67..105.55GHz,976.66kHz,7.3mJy/beam@10km/s,313.2uJy/beam@native, XX YY] U [105.55..107.42GHz,976.66kHz,7.3mJy/beam@10km/s,318.9uJy/beam@native, XX YY]</td><td>2725.895948314194</td><td>XX YY</td><td>2011-11-19 03:43:05</td><td>Weiss, Axel</td><td>Tuning3_1-2HA</td><td>Chapman, Scott; Brodwin, Mark; Greve, Thomas; Hezaveh, Yashar; Sharon, Keren; Ashby, Matthew; Menten, Karl; Carlstrom, John; Marrone, Dan; De Breuck, Carlos; Rosenman, Michael; Holzapfel, William; Vieira, Joaquin; Crawford, Thomas; Lupu, Roxana; Fassnacht, Chris; Holder, Gilbert; Aguirre, James;</td><td>7.260172793218402</td><td>0.1540486568273702</td><td>4.0281453</td><td></td><td>uid://A001/X74/X291</td><td>uid://A002/X321719/X723</td><td>The ALMA-SPT Redshift Survey</td><td>S</td><td>TARGET WVR</td><td>63.28655495409857</td><td>32.80138244373298</td><td>Y</td><td>14</td><td>Sub-mm Galaxies (SMG), Gravitational lenses</td><td>Galaxy evolution</td><td>2011.0.00957.S</td></tr>\n",
       "<tr><td>2011.0.00957.S</td><td>SPT_0103-45</td><td>15.797875000000001</td><td>-45.64827777777778</td><td>296.5034970667741</td><td>-71.3330336577803</td><td>[3]</td><td>10.727745046324552</td><td>976.6579716976725</td><td>12m</td><td></td><td>151.2</td><td>2013-04-25</td><td>[95.42..97.30GHz,976.66kHz,7.3mJy/beam@10km/s,304.2uJy/beam@native, XX YY] U [97.30..99.17GHz,976.66kHz,7.2mJy/beam@10km/s,303uJy/beam@native, XX YY] U [107.42..109.30GHz,976.66kHz,7.5mJy/beam@10km/s,327.9uJy/beam@native, XX YY] U [109.30..111.17GHz,976.66kHz,7.8mJy/beam@10km/s,343.8uJy/beam@native, XX YY]</td><td>2633.9398359361962</td><td>XX YY</td><td>2011-11-19 04:46:11</td><td>Weiss, Axel</td><td>Tuning4_1-2HA</td><td>Chapman, Scott; Brodwin, Mark; Greve, Thomas; Hezaveh, Yashar; Sharon, Keren; Ashby, Matthew; Menten, Karl; Carlstrom, John; Marrone, Dan; De Breuck, Carlos; Rosenman, Michael; Holzapfel, William; Vieira, Joaquin; Crawford, Thomas; Lupu, Roxana; Fassnacht, Chris; Holder, Gilbert; Aguirre, James;</td><td>7.468943547865293</td><td>0.15921203104645965</td><td>4.161038</td><td></td><td>uid://A001/X74/X293</td><td>uid://A002/X321719/X826</td><td>The ALMA-SPT Redshift Survey</td><td>S</td><td>TARGET WVR</td><td>60.988833626470466</td><td>43.958459712754184</td><td>Y</td><td>14</td><td>Sub-mm Galaxies (SMG), Gravitational lenses</td><td>Galaxy evolution</td><td>2011.0.00957.S</td></tr>\n",
       "<tr><td>2011.0.00957.S</td><td>SPT_0113-46</td><td>18.285375</td><td>-46.2963611111111</td><td>291.725192459293</td><td>-70.35680731865747</td><td>[3]</td><td>7.806784683409882</td><td>976.657768509833</td><td>12m</td><td></td><td>151.2</td><td>2013-04-25</td><td>[91.67..93.55GHz,976.66kHz,7.4mJy/beam@10km/s,300.6uJy/beam@native, XX YY] U [93.55..95.42GHz,976.66kHz,7.3mJy/beam@10km/s,301.3uJy/beam@native, XX YY] U [103.67..105.55GHz,976.66kHz,7.3mJy/beam@10km/s,313.5uJy/beam@native, XX YY] U [105.55..107.42GHz,976.66kHz,7.3mJy/beam@10km/s,319.2uJy/beam@native, XX YY]</td><td>2725.895948314194</td><td>XX YY</td><td>2011-11-19 03:43:05</td><td>Weiss, Axel</td><td>Tuning3_1-2HA</td><td>Chapman, Scott; Brodwin, Mark; Greve, Thomas; Hezaveh, Yashar; Sharon, Keren; Ashby, Matthew; Menten, Karl; Carlstrom, John; Marrone, Dan; De Breuck, Carlos; Rosenman, Michael; Holzapfel, William; Vieira, Joaquin; Crawford, Thomas; Lupu, Roxana; Fassnacht, Chris; Holder, Gilbert; Aguirre, James;</td><td>7.266922806270144</td><td>0.15418158889140254</td><td>4.0281453</td><td></td><td>uid://A001/X74/X291</td><td>uid://A002/X321719/X723</td><td>The ALMA-SPT Redshift Survey</td><td>S</td><td>TARGET WVR</td><td>63.28655495409857</td><td>31.989409564631213</td><td>Y</td><td>14</td><td>Sub-mm Galaxies (SMG), Gravitational lenses</td><td>Galaxy evolution</td><td>2011.0.00957.S</td></tr>\n",
       "<tr><td>2011.0.00957.S</td><td>SPT_0113-46</td><td>18.285375</td><td>-46.2963611111111</td><td>291.725192459293</td><td>-70.35680731865747</td><td>[3]</td><td>10.173636104942148</td><td>976.6579716976725</td><td>12m</td><td></td><td>151.2</td><td>2013-04-25</td><td>[95.42..97.30GHz,976.66kHz,7.4mJy/beam@10km/s,304.5uJy/beam@native, XX YY] U [97.30..99.17GHz,976.66kHz,7.3mJy/beam@10km/s,303.3uJy/beam@native, XX YY] U [107.42..109.30GHz,976.66kHz,7.5mJy/beam@10km/s,328.3uJy/beam@native, XX YY] U [109.30..111.17GHz,976.66kHz,7.8mJy/beam@10km/s,344.3uJy/beam@native, XX YY]</td><td>2633.9398359361962</td><td>XX YY</td><td>2011-11-19 04:46:11</td><td>Weiss, Axel</td><td>Tuning4_1-2HA</td><td>Chapman, Scott; Brodwin, Mark; Greve, Thomas; Hezaveh, Yashar; Sharon, Keren; Ashby, Matthew; Menten, Karl; Carlstrom, John; Marrone, Dan; De Breuck, Carlos; Rosenman, Michael; Holzapfel, William; Vieira, Joaquin; Crawford, Thomas; Lupu, Roxana; Fassnacht, Chris; Holder, Gilbert; Aguirre, James;</td><td>7.477244332188736</td><td>0.15936862933588364</td><td>4.161038</td><td></td><td>uid://A001/X74/X293</td><td>uid://A002/X321719/X826</td><td>The ALMA-SPT Redshift Survey</td><td>S</td><td>TARGET WVR</td><td>60.988833626470466</td><td>41.68791958796063</td><td>Y</td><td>14</td><td>Sub-mm Galaxies (SMG), Gravitational lenses</td><td>Galaxy evolution</td><td>2011.0.00957.S</td></tr>\n",
       "<tr><td>2011.0.00957.S</td><td>SPT_0125-47</td><td>21.279458333333338</td><td>-47.39902777777778</td><td>287.1112089670969</td><td>-68.68132053101337</td><td>[3]</td><td>7.654228001630472</td><td>976.657768509833</td><td>12m</td><td></td><td>151.2</td><td>2013-04-25</td><td>[91.67..93.55GHz,976.66kHz,7.4mJy/beam@10km/s,301uJy/beam@native, XX YY] U [93.55..95.42GHz,976.66kHz,7.4mJy/beam@10km/s,301.7uJy/beam@native, XX YY] U [103.67..105.55GHz,976.66kHz,7.3mJy/beam@10km/s,314uJy/beam@native, XX YY] U [105.55..107.42GHz,976.66kHz,7.3mJy/beam@10km/s,319.8uJy/beam@native, XX YY]</td><td>2725.895948314194</td><td>XX YY</td><td>2011-11-19 03:43:05</td><td>Weiss, Axel</td><td>Tuning3_1-2HA</td><td>Chapman, Scott; Brodwin, Mark; Greve, Thomas; Hezaveh, Yashar; Sharon, Keren; Ashby, Matthew; Menten, Karl; Carlstrom, John; Marrone, Dan; De Breuck, Carlos; Rosenman, Michael; Holzapfel, William; Vieira, Joaquin; Crawford, Thomas; Lupu, Roxana; Fassnacht, Chris; Holder, Gilbert; Aguirre, James;</td><td>7.278982907678761</td><td>0.15441907905567298</td><td>4.0281453</td><td></td><td>uid://A001/X74/X291</td><td>uid://A002/X321719/X723</td><td>The ALMA-SPT Redshift Survey</td><td>S</td><td>TARGET WVR</td><td>63.28655495409857</td><td>31.364286883121427</td><td>Y</td><td>14</td><td>Sub-mm Galaxies (SMG), Gravitational lenses</td><td>Galaxy evolution</td><td>2011.0.00957.S</td></tr>\n",
       "<tr><td>2011.0.00957.S</td><td>SPT_0125-47</td><td>21.279458333333338</td><td>-47.39902777777778</td><td>287.1112089670969</td><td>-68.68132053101337</td><td>[3]</td><td>9.676980740034256</td><td>976.6579716976725</td><td>12m</td><td></td><td>151.2</td><td>2013-04-25</td><td>[95.42..97.30GHz,976.66kHz,7.4mJy/beam@10km/s,304.9uJy/beam@native, XX YY] U [97.30..99.17GHz,976.66kHz,7.3mJy/beam@10km/s,303.7uJy/beam@native, XX YY] U [107.42..109.30GHz,976.66kHz,7.5mJy/beam@10km/s,328.9uJy/beam@native, XX YY] U [109.30..111.17GHz,976.66kHz,7.8mJy/beam@10km/s,345.1uJy/beam@native, XX YY]</td><td>2633.9398359361962</td><td>XX YY</td><td>2011-11-19 04:46:11</td><td>Weiss, Axel</td><td>Tuning4_1-2HA</td><td>Chapman, Scott; Brodwin, Mark; Greve, Thomas; Hezaveh, Yashar; Sharon, Keren; Ashby, Matthew; Menten, Karl; Carlstrom, John; Marrone, Dan; De Breuck, Carlos; Rosenman, Michael; Holzapfel, William; Vieira, Joaquin; Crawford, Thomas; Lupu, Roxana; Fassnacht, Chris; Holder, Gilbert; Aguirre, James;</td><td>7.4920762739350435</td><td>0.15964838269865667</td><td>4.161038</td><td></td><td>uid://A001/X74/X293</td><td>uid://A002/X321719/X826</td><td>The ALMA-SPT Redshift Survey</td><td>S</td><td>TARGET WVR</td><td>60.988833626470466</td><td>39.65280365677929</td><td>Y</td><td>14</td><td>Sub-mm Galaxies (SMG), Gravitational lenses</td><td>Galaxy evolution</td><td>2011.0.00957.S</td></tr>\n",
       "<tr><td>2011.0.00957.S</td><td>SPT_0125-50</td><td>21.45629166666667</td><td>-50.63905555555556</td><td>289.6681152952509</td><td>-65.59444802712612</td><td>[3]</td><td>8.142043542711383</td><td>976.657768509833</td><td>12m</td><td></td><td>151.2</td><td>2013-04-25</td><td>[91.67..93.55GHz,976.66kHz,7.4mJy/beam@10km/s,302.4uJy/beam@native, XX YY] U [93.55..95.42GHz,976.66kHz,7.4mJy/beam@10km/s,303.1uJy/beam@native, XX YY] U [103.67..105.55GHz,976.66kHz,7.3mJy/beam@10km/s,315.7uJy/beam@native, XX YY] U [105.55..107.42GHz,976.66kHz,7.4mJy/beam@10km/s,321.7uJy/beam@native, XX YY]</td><td>2725.895948314194</td><td>XX YY</td><td>2011-11-19 03:43:05</td><td>Weiss, Axel</td><td>Tuning3_1-2HA</td><td>Chapman, Scott; Brodwin, Mark; Greve, Thomas; Hezaveh, Yashar; Sharon, Keren; Ashby, Matthew; Menten, Karl; Carlstrom, John; Marrone, Dan; De Breuck, Carlos; Rosenman, Michael; Holzapfel, William; Vieira, Joaquin; Crawford, Thomas; Lupu, Roxana; Fassnacht, Chris; Holder, Gilbert; Aguirre, James;</td><td>7.318873984883067</td><td>0.15520447133789222</td><td>4.0281453</td><td></td><td>uid://A001/X74/X291</td><td>uid://A002/X321719/X723</td><td>The ALMA-SPT Redshift Survey</td><td>S</td><td>TARGET WVR</td><td>63.28655495409857</td><td>33.3631803800551</td><td>Y</td><td>14</td><td>Sub-mm Galaxies (SMG), Gravitational lenses</td><td>Galaxy evolution</td><td>2011.0.00957.S</td></tr>\n",
       "<tr><td>2011.0.00957.S</td><td>SPT_0125-50</td><td>21.45629166666667</td><td>-50.63905555555556</td><td>289.6681152952509</td><td>-65.59444802712612</td><td>[3]</td><td>10.27280537144886</td><td>976.6579716976725</td><td>12m</td><td></td><td>151.2</td><td>2013-04-25</td><td>[95.42..97.30GHz,976.66kHz,7.4mJy/beam@10km/s,306.4uJy/beam@native, XX YY] U [97.30..99.17GHz,976.66kHz,7.3mJy/beam@10km/s,305.1uJy/beam@native, XX YY] U [107.42..109.30GHz,976.66kHz,7.5mJy/beam@10km/s,331.1uJy/beam@native, XX YY] U [109.30..111.17GHz,976.66kHz,7.9mJy/beam@10km/s,347.7uJy/beam@native, XX YY]</td><td>2633.9398359361962</td><td>XX YY</td><td>2011-11-19 04:46:11</td><td>Weiss, Axel</td><td>Tuning4_1-2HA</td><td>Chapman, Scott; Brodwin, Mark; Greve, Thomas; Hezaveh, Yashar; Sharon, Keren; Ashby, Matthew; Menten, Karl; Carlstrom, John; Marrone, Dan; De Breuck, Carlos; Rosenman, Michael; Holzapfel, William; Vieira, Joaquin; Crawford, Thomas; Lupu, Roxana; Fassnacht, Chris; Holder, Gilbert; Aguirre, James;</td><td>7.541145885432841</td><td>0.16057338147508105</td><td>4.161038</td><td></td><td>uid://A001/X74/X293</td><td>uid://A002/X321719/X826</td><td>The ALMA-SPT Redshift Survey</td><td>S</td><td>TARGET WVR</td><td>60.988833626470466</td><td>42.09427974917382</td><td>Y</td><td>14</td><td>Sub-mm Galaxies (SMG), Gravitational lenses</td><td>Galaxy evolution</td><td>2011.0.00957.S</td></tr>\n",
       "<tr><td>2011.0.00957.S</td><td>SPT_0128-51</td><td>22.038916666666665</td><td>-51.49661111111111</td><td>289.51191127364234</td><td>-64.66433116613277</td><td>[3]</td><td>8.232002861990082</td><td>976.657768509833</td><td>12m</td><td></td><td>151.2</td><td>2013-04-25</td><td>[91.67..93.55GHz,976.66kHz,7.5mJy/beam@10km/s,302.8uJy/beam@native, XX YY] U [93.55..95.42GHz,976.66kHz,7.4mJy/beam@10km/s,303.5uJy/beam@native, XX YY] U [103.67..105.55GHz,976.66kHz,7.3mJy/beam@10km/s,316.2uJy/beam@native, XX YY] U [105.55..107.42GHz,976.66kHz,7.4mJy/beam@10km/s,322.3uJy/beam@native, XX YY]</td><td>2725.895948314194</td><td>XX YY</td><td>2011-11-19 03:43:05</td><td>Weiss, Axel</td><td>Tuning3_1-2HA</td><td>Chapman, Scott; Brodwin, Mark; Greve, Thomas; Hezaveh, Yashar; Sharon, Keren; Ashby, Matthew; Menten, Karl; Carlstrom, John; Marrone, Dan; De Breuck, Carlos; Rosenman, Michael; Holzapfel, William; Vieira, Joaquin; Crawford, Thomas; Lupu, Roxana; Fassnacht, Chris; Holder, Gilbert; Aguirre, James;</td><td>7.330619927177622</td><td>0.15543568622610568</td><td>4.0281453</td><td></td><td>uid://A001/X74/X291</td><td>uid://A002/X321719/X723</td><td>The ALMA-SPT Redshift Survey</td><td>S</td><td>TARGET WVR</td><td>63.28655495409857</td><td>33.731801473791336</td><td>Y</td><td>14</td><td>Sub-mm Galaxies (SMG), Gravitational lenses</td><td>Galaxy evolution</td><td>2011.0.00957.S</td></tr>\n",
       "<tr><td>...</td><td>...</td><td>...</td><td>...</td><td>...</td><td>...</td><td>...</td><td>...</td><td>...</td><td>...</td><td>...</td><td>...</td><td>...</td><td>...</td><td>...</td><td>...</td><td>...</td><td>...</td><td>...</td><td>...</td><td>...</td><td>...</td><td>...</td><td>...</td><td>...</td><td>...</td><td>...</td><td>...</td><td>...</td><td>...</td><td>...</td><td>...</td><td>...</td><td>...</td><td>...</td><td>...</td></tr>\n",
       "<tr><td>2017.1.01676.S</td><td>HS1442</td><td>221.22362500000875</td><td>29.318222222222463</td><td>44.65335892888089</td><td>64.97302242411301</td><td>[3]</td><td>1.8003203944014459</td><td>31248.673554400877</td><td>12m</td><td></td><td>816.48</td><td>2019-04-25</td><td>[91.42..93.40GHz,31248.67kHz,1.1mJy/beam@10km/s,44.1uJy/beam@native, XX YY] U [93.36..95.34GHz,31248.67kHz,1.1mJy/beam@10km/s,44.3uJy/beam@native, XX YY] U [103.42..105.40GHz,31248.67kHz,1.1mJy/beam@10km/s,46.7uJy/beam@native, XX YY] U [105.42..107.40GHz,31248.67kHz,1.1mJy/beam@10km/s,47.9uJy/beam@native, XX YY]</td><td>87220.9201363223</td><td>XX YY</td><td>2018-04-23 05:21:50</td><td>Ross, Colin</td><td>HS1442_a_03_TM1</td><td>Geach, James; Chapman, Scott; Bertoldi, Frank; Serjeant, Stephen; Gao, Yu; Babul, Arif; Matsuda, Yuichi; Smail, Ian; Wang, Ran; Lacaille, Kevin; Steidel, Charles; Ivison, Rob; Sargent, Mark; Wang, Wei-Hao; Webb, Tracy; Yang, Yujin; Scott, Douglas; Ao, Yiping;</td><td>1.1182186079780483</td><td>0.022823050666738964</td><td>2.8672566</td><td>uid://A001/X12cc/X87</td><td>uid://A001/X12cc/X88</td><td>uid://A002/Xcc626d/X9d08</td><td>ALMA followup to the S2-WEB survey: Constraining the fraction of molecular outflows in the most luminous QSOs</td><td>S</td><td>TARGET</td><td>63.37367959158785</td><td>10.613799367699485</td><td>Y</td><td>0</td><td>Active Galactic Nuclei (AGN)/Quasars (QSO), Merging and interacting galaxies</td><td>Active galaxies</td><td>2017.1.01676.S</td></tr>\n",
       "<tr><td>2017.1.00271.S</td><td>Ridge_center</td><td>84.92211047123145</td><td>-70.12720509058221</td><td>280.6496644854789</td><td>-31.466823753041744</td><td>[3]</td><td>50.57240246772627</td><td>122.07567991056972</td><td>TP</td><td></td><td>71032.032</td><td>2019-04-25</td><td>[97.84..97.96GHz,122.08kHz,14.3mJy/beam@10km/s,2.3mJy/beam@native, XX YY] U [97.94..99.94GHz,1953.22kHz,14.3mJy/beam@10km/s,580.4uJy/beam@native, XX YY] U [109.63..109.75GHz,122.08kHz,15.6mJy/beam@10km/s,2.7mJy/beam@native, XX YY] U [110.05..110.17GHz,122.08kHz,15.8mJy/beam@10km/s,2.7mJy/beam@native, XX YY]</td><td>332.19889412631005</td><td>XX YY</td><td>2018-01-09 01:34:59</td><td>Indebetouw, Remy</td><td>Ridge_ce_b_03_TP</td><td>Onishi, Toshikazu; Chen, Rosie; Ott, Juergen; Zahorecz, Sarolta; Tokuda, Kazuki; Wong, Tony;</td><td>15.600045885314275</td><td>0.5396926842875832</td><td>2.9391875</td><td>uid://A001/X1273/X2ea</td><td>uid://A001/X12a3/X1bb</td><td>uid://A002/Xc8ed16/X9980</td><td>Why is ~ 1/4 of the LMC&apos;s molecular gas not forming massive stars?</td><td>S</td><td>TARGET</td><td>60.57435965098994</td><td>896.4206435610785</td><td>Y</td><td>0</td><td>High-mass star formation, Inter-Stellar Medium (ISM)/Molecular clouds</td><td>ISM and star formation</td><td>2017.1.00271.S</td></tr>\n",
       "<tr><td>2017.1.01616.S</td><td>SN2006tf</td><td>191.56587499998332</td><td>11.432055560000528</td><td>298.2540377388665</td><td>74.2567388041428</td><td>[3]</td><td>1.03121923494801</td><td>976.5299740541279</td><td>12m</td><td></td><td>3931.2</td><td>2019-04-25</td><td>[92.50..94.49GHz,31249.54kHz,711.3uJy/beam@10km/s,28.1uJy/beam@native, XX YY] U [94.26..96.24GHz,31249.54kHz,705.6uJy/beam@10km/s,28.1uJy/beam@native, XX YY] U [104.40..106.38GHz,31249.54kHz,705uJy/beam@10km/s,29.6uJy/beam@native, XX YY] U [106.39..108.26GHz,976.55kHz,716.1uJy/beam@10km/s,31.3uJy/beam@native, XX YY]</td><td>2703.9997734523813</td><td>XX YY</td><td>2018-03-18 05:07:36</td><td>Kim, Sam</td><td>SN2006tf_a_03_TM1</td><td>König, Sabine; Kruehler, Thomas; Schulze, Steve; Amorin, Ricardo; Michalowski, Michal; Thöne, Christina; Bauer, Franz; de Ugarte Postigo, Antonio; Leloudas, Giorgos; Ibar, Edo;</td><td>0.7049746789375838</td><td>0.014589608786997657</td><td>4.7876916</td><td>uid://A001/X1273/X46e</td><td>uid://A001/X1273/X46f</td><td>uid://A002/Xca795f/X214c</td><td>Superluminous Supernova Host galaxies in CO - Assessing Molecular Gas in Nascent Starbursts</td><td>S</td><td>TARGET</td><td>62.759518956947545</td><td>9.233810614816875</td><td>Y</td><td>0</td><td>Starburst galaxies</td><td>Active galaxies</td><td>2017.1.01616.S</td></tr>\n",
       "<tr><td>2017.1.00051.S</td><td>GRS_1915+105</td><td>288.7981085197454</td><td>10.94574607080332</td><td>45.36572598095569</td><td>-0.21907992248395228</td><td>[3]</td><td>1.6938422946051965</td><td>31245.51094998715</td><td>12m</td><td></td><td>3113.856</td><td>2019-04-27</td><td>[89.49..91.47GHz,31245.51kHz,509uJy/beam@10km/s,19.8uJy/beam@native, XX YY] U [91.43..93.41GHz,31245.51kHz,502uJy/beam@10km/s,19.7uJy/beam@native, XX YY] U [101.49..103.47GHz,31245.51kHz,483.8uJy/beam@10km/s,20uJy/beam@native, XX YY] U [103.49..105.47GHz,31245.51kHz,484.4uJy/beam@10km/s,20.2uJy/beam@native, XX YY]</td><td>88799.46930936063</td><td>XX YY</td><td>2018-04-19 07:44:39</td><td>Casella, Piergiorgio</td><td>GRS_1915_c_03_TM1</td><td>Miller-Jones, James; Vincentelli, Federico Maria; Belloni, Tomaso; Diaz Trigo, Maria; Sivakoff, Gregory;</td><td>0.4843919336744103</td><td>0.009961596379823459</td><td>0.8909945</td><td>uid://A001/X1284/Xaaa</td><td>uid://A001/X1284/Xaab</td><td>uid://A002/Xcc3ae3/X6cf6</td><td>Constraining jet physics with multi-lambda variability studies of GRS 1915+105</td><td>S</td><td>TARGET</td><td>64.62826390599761</td><td>9.795003464107912</td><td>Y</td><td>0</td><td>Black holes</td><td>Stars and stellar evolution</td><td>2017.1.00051.S</td></tr>\n",
       "<tr><td>2017.1.01355.L</td><td>G333.60</td><td>245.53899999997628</td><td>-50.099694444452496</td><td>333.6040259667905</td><td>-0.21207242911865257</td><td>[3]</td><td>53.33598647365587</td><td>122.0588555098436</td><td>TP</td><td></td><td>37094.4</td><td>2019-04-29</td><td>[91.71..92.71GHz,976.49kHz,13.7mJy/beam@10km/s,760.8uJy/beam@native, XX YY] U [93.13..93.25GHz,122.06kHz,13.7mJy/beam@10km/s,2.2mJy/beam@native, XX YY] U [102.12..103.12GHz,976.49kHz,13.6mJy/beam@10km/s,797.9uJy/beam@native, XX YY] U [104.52..105.52GHz,976.49kHz,13.8mJy/beam@10km/s,814.3uJy/beam@native, XX YY]</td><td>392.37226673139884</td><td>XX YY</td><td>2018-01-26 09:41:48</td><td>Motte, Frederique</td><td>G333.60_a_03_TP</td><td>Nguyen Luong, Quang; Bronfman, Leonardo; Hennebelle, Patrick; Galvan-Madrid, Roberto; Nakamura, Fumitaka; Bally, John; Menten, Karl; Finger, Ricardo; Lu, Xing; Molet, Jordan; Braine, Jonathan; Ohashi, Satoshi; Herpin, Fabrice; Rosolowsky, Erik; Gusdorf, Antoine; Chen, Vivien; Svoboda, Brian; Sakai, Takeshi; Guzman, Andres Ernesto; Ladjelate, Bilal; Reyes, Nicolas; Nony, Thomas; Marsh, Kenneth; Battersby, Cara; Gomez, Gilberto; Csengeri, Timea; Di Francesco, James; Bontemps, Sylvain; López-Sepulcre, Ana; Ta</td><td>13.75812000440658</td><td>0.4462726232283303</td><td>5.3726788</td><td>uid://A001/X1296/X1a2</td><td>uid://A001/X1296/X1a9</td><td>uid://A002/Xc99ad7/Xa232</td><td>ALMA-IMF: ALMA transforms our view of the origin of stellar masses</td><td>L</td><td>TARGET</td><td>63.88458380396162</td><td>945.4075954801879</td><td>Y</td><td>0</td><td>High-mass star formation, Low-mass star formation</td><td>ISM and star formation</td><td>2017.1.01355.L</td></tr>\n",
       "<tr><td>2017.1.00025.S</td><td>HATLAS_J143430.9+004133</td><td>218.62874999995728</td><td>0.6925000000002326</td><td>350.32414787913444</td><td>53.79733100879668</td><td>[3]</td><td>1.7383409241715013</td><td>1952.9904619728904</td><td>12m</td><td></td><td>151.2</td><td>2019-04-30</td><td>[93.80..95.79GHz,31247.85kHz,2.4mJy/beam@10km/s,95.1uJy/beam@native, XX YY] U [95.67..97.66GHz,31247.85kHz,2.4mJy/beam@10km/s,95.5uJy/beam@native, XX YY] U [105.87..107.86GHz,31247.85kHz,2.4mJy/beam@10km/s,101.2uJy/beam@native, XX YY] U [106.93..108.80GHz,1952.99kHz,2.4mJy/beam@10km/s,106.1uJy/beam@native, XX YY]</td><td>5380.769302494959</td><td>XX YY</td><td>2018-04-10 04:07:54</td><td>Vlahakis, Catherine</td><td>HATLAS_J_a_03_TM1</td><td>Valiante, Elisabetta; Smith, Matthew; Oteo, Ivan; Gomez, Haley; van Kampen, Eelco; Serjeant, Stephen; Dunne, Loretta; Cigan, Phil; Rowlands, Kate; van der Werf, Paul; Ibar, Edo; Ivison, Rob; Eales, Stephen; Smith, Daniel; Papadopoulos, Padelis; Cooray, Asantha; Bourne, Nathan; Viaene, Sebastien; Temi, Pasquale; Hughes, Thomas; Leeuw, Lerothodi;</td><td>2.3974525247909693</td><td>0.04958099719555209</td><td>4.7583475</td><td>uid://A001/X1284/X152b</td><td>uid://A001/X1284/X152c</td><td>uid://A002/Xcbdb2a/X3612</td><td>Unveiling molecular gas in local Herschel-ATLAS galaxies</td><td>S</td><td>TARGET</td><td>62.18969193906132</td><td>9.50387007987371</td><td>Y</td><td>0</td><td>Surveys of galaxies</td><td>Galaxy evolution</td><td>2017.1.00025.S</td></tr>\n",
       "<tr><td>2017.1.00025.S</td><td>HATLAS_J143701.0-010421</td><td>219.25416666662366</td><td>-1.0725000000003326</td><td>349.2125706716637</td><td>52.04877321827001</td><td>[3]</td><td>1.744979692565736</td><td>1952.9904619728904</td><td>12m</td><td></td><td>151.2</td><td>2019-04-30</td><td>[93.80..95.79GHz,31247.85kHz,2.4mJy/beam@10km/s,94.9uJy/beam@native, XX YY] U [95.67..97.66GHz,31247.85kHz,2.4mJy/beam@10km/s,95.3uJy/beam@native, XX YY] U [105.87..107.86GHz,31247.85kHz,2.4mJy/beam@10km/s,100.9uJy/beam@native, XX YY] U [106.93..108.80GHz,1952.99kHz,2.4mJy/beam@10km/s,105.8uJy/beam@native, XX YY]</td><td>5380.769302494959</td><td>XX YY</td><td>2018-04-10 04:07:54</td><td>Vlahakis, Catherine</td><td>HATLAS_J_a_03_TM1</td><td>Valiante, Elisabetta; Smith, Matthew; Oteo, Ivan; Gomez, Haley; van Kampen, Eelco; Serjeant, Stephen; Dunne, Loretta; Cigan, Phil; Rowlands, Kate; van der Werf, Paul; Ibar, Edo; Ivison, Rob; Eales, Stephen; Smith, Daniel; Papadopoulos, Padelis; Cooray, Asantha; Bourne, Nathan; Viaene, Sebastien; Temi, Pasquale; Hughes, Thomas; Leeuw, Lerothodi;</td><td>2.390844932968551</td><td>0.04945984921066412</td><td>4.7583475</td><td>uid://A001/X1284/X152b</td><td>uid://A001/X1284/X152c</td><td>uid://A002/Xcbdb2a/X3612</td><td>Unveiling molecular gas in local Herschel-ATLAS galaxies</td><td>S</td><td>TARGET</td><td>62.18969193906132</td><td>9.54016560247912</td><td>Y</td><td>0</td><td>Surveys of galaxies</td><td>Galaxy evolution</td><td>2017.1.00025.S</td></tr>\n",
       "<tr><td>2017.1.00025.S</td><td>HATLAS_J144244.2+015846</td><td>220.68416666662236</td><td>1.9794444444451624</td><td>354.34030540461123</td><td>53.35680297627943</td><td>[3]</td><td>1.763115722917743</td><td>1952.9904619728904</td><td>12m</td><td></td><td>151.2</td><td>2019-04-30</td><td>[93.80..95.79GHz,31247.85kHz,2.4mJy/beam@10km/s,95.2uJy/beam@native, XX YY] U [95.67..97.66GHz,31247.85kHz,2.4mJy/beam@10km/s,95.6uJy/beam@native, XX YY] U [105.87..107.86GHz,31247.85kHz,2.4mJy/beam@10km/s,101.4uJy/beam@native, XX YY] U [106.93..108.80GHz,1952.99kHz,2.4mJy/beam@10km/s,106.3uJy/beam@native, XX YY]</td><td>5380.769302494959</td><td>XX YY</td><td>2018-04-10 04:07:54</td><td>Vlahakis, Catherine</td><td>HATLAS_J_a_03_TM1</td><td>Valiante, Elisabetta; Smith, Matthew; Oteo, Ivan; Gomez, Haley; van Kampen, Eelco; Serjeant, Stephen; Dunne, Loretta; Cigan, Phil; Rowlands, Kate; van der Werf, Paul; Ibar, Edo; Ivison, Rob; Eales, Stephen; Smith, Daniel; Papadopoulos, Padelis; Cooray, Asantha; Bourne, Nathan; Viaene, Sebastien; Temi, Pasquale; Hughes, Thomas; Leeuw, Lerothodi;</td><td>2.402696335208629</td><td>0.049677120594931054</td><td>4.7583475</td><td>uid://A001/X1284/X152b</td><td>uid://A001/X1284/X152c</td><td>uid://A002/Xcbdb2a/X3612</td><td>Unveiling molecular gas in local Herschel-ATLAS galaxies</td><td>S</td><td>TARGET</td><td>62.18969193906132</td><td>9.639319038858275</td><td>Y</td><td>0</td><td>Surveys of galaxies</td><td>Galaxy evolution</td><td>2017.1.00025.S</td></tr>\n",
       "<tr><td>2017.1.00025.S</td><td>HATLAS_J144652.0+014010</td><td>221.71666666661926</td><td>1.6694444444451608</td><td>355.20175501455617</td><td>52.41292426978146</td><td>[3]</td><td>1.7756912465240864</td><td>1952.9904619728904</td><td>12m</td><td></td><td>151.2</td><td>2019-04-30</td><td>[93.80..95.79GHz,31247.85kHz,2.4mJy/beam@10km/s,95.2uJy/beam@native, XX YY] U [95.67..97.66GHz,31247.85kHz,2.4mJy/beam@10km/s,95.6uJy/beam@native, XX YY] U [105.87..107.86GHz,31247.85kHz,2.4mJy/beam@10km/s,101.4uJy/beam@native, XX YY] U [106.93..108.80GHz,1952.99kHz,2.4mJy/beam@10km/s,106.3uJy/beam@native, XX YY]</td><td>5380.769302494959</td><td>XX YY</td><td>2018-04-10 04:07:54</td><td>Vlahakis, Catherine</td><td>HATLAS_J_a_03_TM1</td><td>Valiante, Elisabetta; Smith, Matthew; Oteo, Ivan; Gomez, Haley; van Kampen, Eelco; Serjeant, Stephen; Dunne, Loretta; Cigan, Phil; Rowlands, Kate; van der Werf, Paul; Ibar, Edo; Ivison, Rob; Eales, Stephen; Smith, Daniel; Papadopoulos, Padelis; Cooray, Asantha; Bourne, Nathan; Viaene, Sebastien; Temi, Pasquale; Hughes, Thomas; Leeuw, Lerothodi;</td><td>2.4013992980350936</td><td>0.049653346479280505</td><td>4.7583475</td><td>uid://A001/X1284/X152b</td><td>uid://A001/X1284/X152c</td><td>uid://A002/Xcbdb2a/X3612</td><td>Unveiling molecular gas in local Herschel-ATLAS galaxies</td><td>S</td><td>TARGET</td><td>62.18969193906132</td><td>9.708072032519766</td><td>Y</td><td>0</td><td>Surveys of galaxies</td><td>Galaxy evolution</td><td>2017.1.00025.S</td></tr>\n",
       "<tr><td>2017.1.01355.L</td><td>W51-E</td><td>290.9340833333202</td><td>14.508194368278476</td><td>49.48906730459607</td><td>-0.3890933507007016</td><td>[3]</td><td>1.6283051697926239</td><td>122.05312323889048</td><td>12m</td><td>mosaic</td><td>811.171</td><td>2019-04-30</td><td>[91.71..92.65GHz,976.43kHz,1.5mJy/beam@10km/s,84.8uJy/beam@native, XX YY] U [93.10..93.21GHz,122.05kHz,1.5mJy/beam@10km/s,240.2uJy/beam@native, XX YY] U [102.11..103.05GHz,976.43kHz,1.5mJy/beam@10km/s,87.6uJy/beam@native, XX YY] U [104.51..105.45GHz,976.43kHz,1.5mJy/beam@10km/s,89.2uJy/beam@native, XX YY]</td><td>392.485257051394</td><td>XX YY</td><td>2018-04-09 09:36:45</td><td>Motte, Frederique</td><td>W51-E_a_03_TM2</td><td>Nguyen Luong, Quang; Bronfman, Leonardo; Hennebelle, Patrick; Galvan-Madrid, Roberto; Nakamura, Fumitaka; Bally, John; Menten, Karl; Finger, Ricardo; Lu, Xing; Molet, Jordan; Braine, Jonathan; Ohashi, Satoshi; Herpin, Fabrice; Rosolowsky, Erik; Gusdorf, Antoine; Chen, Vivien; Svoboda, Brian; Sakai, Takeshi; Guzman, Andres Ernesto; Ladjelate, Bilal; Reyes, Nicolas; Nony, Thomas; Marsh, Kenneth; Battersby, Cara; Gomez, Gilberto; Csengeri, Timea; Di Francesco, James; Bontemps, Sylvain; López-Sepulcre, Ana; Ta</td><td>1.4600960893618122</td><td>0.04926080361064086</td><td>3.0635426</td><td>uid://A001/X1296/X106</td><td>uid://A001/X1296/X109</td><td>uid://A002/Xcc626d/Xb34f</td><td>ALMA-IMF: ALMA transforms our view of the origin of stellar masses</td><td>L</td><td>TARGET</td><td>127.7798970563214</td><td>9.600600229669341</td><td>Y</td><td>0</td><td>High-mass star formation, Low-mass star formation</td><td>ISM and star formation</td><td>2017.1.01355.L</td></tr>\n",
       "</table>"
      ],
      "text/plain": [
       "<Table masked=True length=1689>\n",
       " Project code        Source name       ... ASA_PROJECT_CODE\n",
       "                                       ...                 \n",
       "   bytes64             bytes256        ...     bytes64     \n",
       "-------------- ----------------------- ... ----------------\n",
       "2011.0.00957.S             SPT_0103-45 ...   2011.0.00957.S\n",
       "2011.0.00957.S             SPT_0103-45 ...   2011.0.00957.S\n",
       "2011.0.00957.S             SPT_0113-46 ...   2011.0.00957.S\n",
       "2011.0.00957.S             SPT_0113-46 ...   2011.0.00957.S\n",
       "2011.0.00957.S             SPT_0125-47 ...   2011.0.00957.S\n",
       "2011.0.00957.S             SPT_0125-47 ...   2011.0.00957.S\n",
       "2011.0.00957.S             SPT_0125-50 ...   2011.0.00957.S\n",
       "2011.0.00957.S             SPT_0125-50 ...   2011.0.00957.S\n",
       "2011.0.00957.S             SPT_0128-51 ...   2011.0.00957.S\n",
       "           ...                     ... ...              ...\n",
       "2017.1.01676.S                  HS1442 ...   2017.1.01676.S\n",
       "2017.1.00271.S            Ridge_center ...   2017.1.00271.S\n",
       "2017.1.01616.S                SN2006tf ...   2017.1.01616.S\n",
       "2017.1.00051.S            GRS_1915+105 ...   2017.1.00051.S\n",
       "2017.1.01355.L                 G333.60 ...   2017.1.01355.L\n",
       "2017.1.00025.S HATLAS_J143430.9+004133 ...   2017.1.00025.S\n",
       "2017.1.00025.S HATLAS_J143701.0-010421 ...   2017.1.00025.S\n",
       "2017.1.00025.S HATLAS_J144244.2+015846 ...   2017.1.00025.S\n",
       "2017.1.00025.S HATLAS_J144652.0+014010 ...   2017.1.00025.S\n",
       "2017.1.01355.L                   W51-E ...   2017.1.01355.L"
      ]
     },
     "execution_count": 8,
     "metadata": {},
     "output_type": "execute_result"
    }
   ],
   "source": [
    "testQuery"
   ]
  },
  {
   "cell_type": "code",
   "execution_count": 51,
   "metadata": {},
   "outputs": [],
   "source": [
    "# sanitize ALMA source names\n",
    "safeNames = testQuery['Source name']\n",
    "safeNames = np.char.replace(safeNames, b' ', b'')\n",
    "safeNames = np.char.replace(safeNames, b'_', b'')\n",
    "safeNames = np.char.upper(safeNames)\n",
    "testQuery['ALMA sanitized source name'] = safeNames"
   ]
  },
  {
   "cell_type": "code",
   "execution_count": 52,
   "metadata": {},
   "outputs": [
    {
     "data": {
      "text/html": [
       "<i>Table masked=True length=1689</i>\n",
       "<table id=\"table4730746528\" class=\"table-striped table-bordered table-condensed\">\n",
       "<thead><tr><th>Project code</th><th>Source name</th><th>RA</th><th>Dec</th><th>Galactic longitude</th><th>Galactic latitude</th><th>Band</th><th>Spatial resolution</th><th>Frequency resolution</th><th>Array</th><th>Mosaic</th><th>Integration</th><th>Release date</th><th>Frequency support</th><th>Velocity resolution</th><th>Pol products</th><th>Observation date</th><th>PI name</th><th>SB name</th><th>Proposal authors</th><th>Line sensitivity (10 km/s)</th><th>Continuum sensitivity</th><th>PWV</th><th>Group ous id</th><th>Member ous id</th><th>Asdm uid</th><th>Project title</th><th>Project type</th><th>Scan intent</th><th>Field of view</th><th>Largest angular scale</th><th>QA2 Status</th><th>COUNT</th><th>Science keyword</th><th>Scientific category</th><th>ASA_PROJECT_CODE</th><th>ALMA sanitized source name</th></tr></thead>\n",
       "<thead><tr><th></th><th></th><th>deg</th><th>deg</th><th>deg</th><th>deg</th><th></th><th></th><th>kHz</th><th></th><th></th><th>s</th><th></th><th>GHz</th><th>m / s</th><th></th><th></th><th></th><th></th><th></th><th></th><th>mJy/beam</th><th>mm</th><th></th><th></th><th></th><th></th><th></th><th></th><th>arcs</th><th>arcs</th><th></th><th></th><th></th><th></th><th></th><th></th></tr></thead>\n",
       "<thead><tr><th>bytes64</th><th>bytes256</th><th>float64</th><th>float64</th><th>float64</th><th>float64</th><th>object</th><th>float64</th><th>float64</th><th>object</th><th>object</th><th>float64</th><th>object</th><th>bytes2700</th><th>float64</th><th>bytes64</th><th>object</th><th>bytes256</th><th>bytes128</th><th>bytes512</th><th>float64</th><th>float64</th><th>float32</th><th>bytes64</th><th>bytes64</th><th>bytes32</th><th>bytes256</th><th>bytes16</th><th>bytes256</th><th>float64</th><th>float64</th><th>bytes1</th><th>int64</th><th>bytes200</th><th>bytes200</th><th>bytes64</th><th>bytes29</th></tr></thead>\n",
       "<tr><td>2011.0.00957.S</td><td>SPT_0103-45</td><td>15.797875000000001</td><td>-45.64827777777778</td><td>296.5034970667741</td><td>-71.3330336577803</td><td>[3]</td><td>8.004940808270794</td><td>976.657768509833</td><td>12m</td><td></td><td>151.2</td><td>2013-04-25</td><td>[91.67..93.55GHz,976.66kHz,7.4mJy/beam@10km/s,300.4uJy/beam@native, XX YY] U [93.55..95.42GHz,976.66kHz,7.3mJy/beam@10km/s,301.1uJy/beam@native, XX YY] U [103.67..105.55GHz,976.66kHz,7.3mJy/beam@10km/s,313.2uJy/beam@native, XX YY] U [105.55..107.42GHz,976.66kHz,7.3mJy/beam@10km/s,318.9uJy/beam@native, XX YY]</td><td>2725.895948314194</td><td>XX YY</td><td>2011-11-19 03:43:05</td><td>Weiss, Axel</td><td>Tuning3_1-2HA</td><td>Chapman, Scott; Brodwin, Mark; Greve, Thomas; Hezaveh, Yashar; Sharon, Keren; Ashby, Matthew; Menten, Karl; Carlstrom, John; Marrone, Dan; De Breuck, Carlos; Rosenman, Michael; Holzapfel, William; Vieira, Joaquin; Crawford, Thomas; Lupu, Roxana; Fassnacht, Chris; Holder, Gilbert; Aguirre, James;</td><td>7.260172793218402</td><td>0.1540486568273702</td><td>4.0281453</td><td></td><td>uid://A001/X74/X291</td><td>uid://A002/X321719/X723</td><td>The ALMA-SPT Redshift Survey</td><td>S</td><td>TARGET WVR</td><td>63.28655495409857</td><td>32.80138244373298</td><td>Y</td><td>14</td><td>Sub-mm Galaxies (SMG), Gravitational lenses</td><td>Galaxy evolution</td><td>2011.0.00957.S</td><td>SPT0103-45</td></tr>\n",
       "<tr><td>2011.0.00957.S</td><td>SPT_0103-45</td><td>15.797875000000001</td><td>-45.64827777777778</td><td>296.5034970667741</td><td>-71.3330336577803</td><td>[3]</td><td>10.727745046324552</td><td>976.6579716976725</td><td>12m</td><td></td><td>151.2</td><td>2013-04-25</td><td>[95.42..97.30GHz,976.66kHz,7.3mJy/beam@10km/s,304.2uJy/beam@native, XX YY] U [97.30..99.17GHz,976.66kHz,7.2mJy/beam@10km/s,303uJy/beam@native, XX YY] U [107.42..109.30GHz,976.66kHz,7.5mJy/beam@10km/s,327.9uJy/beam@native, XX YY] U [109.30..111.17GHz,976.66kHz,7.8mJy/beam@10km/s,343.8uJy/beam@native, XX YY]</td><td>2633.9398359361962</td><td>XX YY</td><td>2011-11-19 04:46:11</td><td>Weiss, Axel</td><td>Tuning4_1-2HA</td><td>Chapman, Scott; Brodwin, Mark; Greve, Thomas; Hezaveh, Yashar; Sharon, Keren; Ashby, Matthew; Menten, Karl; Carlstrom, John; Marrone, Dan; De Breuck, Carlos; Rosenman, Michael; Holzapfel, William; Vieira, Joaquin; Crawford, Thomas; Lupu, Roxana; Fassnacht, Chris; Holder, Gilbert; Aguirre, James;</td><td>7.468943547865293</td><td>0.15921203104645965</td><td>4.161038</td><td></td><td>uid://A001/X74/X293</td><td>uid://A002/X321719/X826</td><td>The ALMA-SPT Redshift Survey</td><td>S</td><td>TARGET WVR</td><td>60.988833626470466</td><td>43.958459712754184</td><td>Y</td><td>14</td><td>Sub-mm Galaxies (SMG), Gravitational lenses</td><td>Galaxy evolution</td><td>2011.0.00957.S</td><td>SPT0103-45</td></tr>\n",
       "<tr><td>2011.0.00957.S</td><td>SPT_0113-46</td><td>18.285375</td><td>-46.2963611111111</td><td>291.725192459293</td><td>-70.35680731865747</td><td>[3]</td><td>7.806784683409882</td><td>976.657768509833</td><td>12m</td><td></td><td>151.2</td><td>2013-04-25</td><td>[91.67..93.55GHz,976.66kHz,7.4mJy/beam@10km/s,300.6uJy/beam@native, XX YY] U [93.55..95.42GHz,976.66kHz,7.3mJy/beam@10km/s,301.3uJy/beam@native, XX YY] U [103.67..105.55GHz,976.66kHz,7.3mJy/beam@10km/s,313.5uJy/beam@native, XX YY] U [105.55..107.42GHz,976.66kHz,7.3mJy/beam@10km/s,319.2uJy/beam@native, XX YY]</td><td>2725.895948314194</td><td>XX YY</td><td>2011-11-19 03:43:05</td><td>Weiss, Axel</td><td>Tuning3_1-2HA</td><td>Chapman, Scott; Brodwin, Mark; Greve, Thomas; Hezaveh, Yashar; Sharon, Keren; Ashby, Matthew; Menten, Karl; Carlstrom, John; Marrone, Dan; De Breuck, Carlos; Rosenman, Michael; Holzapfel, William; Vieira, Joaquin; Crawford, Thomas; Lupu, Roxana; Fassnacht, Chris; Holder, Gilbert; Aguirre, James;</td><td>7.266922806270144</td><td>0.15418158889140254</td><td>4.0281453</td><td></td><td>uid://A001/X74/X291</td><td>uid://A002/X321719/X723</td><td>The ALMA-SPT Redshift Survey</td><td>S</td><td>TARGET WVR</td><td>63.28655495409857</td><td>31.989409564631213</td><td>Y</td><td>14</td><td>Sub-mm Galaxies (SMG), Gravitational lenses</td><td>Galaxy evolution</td><td>2011.0.00957.S</td><td>SPT0113-46</td></tr>\n",
       "<tr><td>2011.0.00957.S</td><td>SPT_0113-46</td><td>18.285375</td><td>-46.2963611111111</td><td>291.725192459293</td><td>-70.35680731865747</td><td>[3]</td><td>10.173636104942148</td><td>976.6579716976725</td><td>12m</td><td></td><td>151.2</td><td>2013-04-25</td><td>[95.42..97.30GHz,976.66kHz,7.4mJy/beam@10km/s,304.5uJy/beam@native, XX YY] U [97.30..99.17GHz,976.66kHz,7.3mJy/beam@10km/s,303.3uJy/beam@native, XX YY] U [107.42..109.30GHz,976.66kHz,7.5mJy/beam@10km/s,328.3uJy/beam@native, XX YY] U [109.30..111.17GHz,976.66kHz,7.8mJy/beam@10km/s,344.3uJy/beam@native, XX YY]</td><td>2633.9398359361962</td><td>XX YY</td><td>2011-11-19 04:46:11</td><td>Weiss, Axel</td><td>Tuning4_1-2HA</td><td>Chapman, Scott; Brodwin, Mark; Greve, Thomas; Hezaveh, Yashar; Sharon, Keren; Ashby, Matthew; Menten, Karl; Carlstrom, John; Marrone, Dan; De Breuck, Carlos; Rosenman, Michael; Holzapfel, William; Vieira, Joaquin; Crawford, Thomas; Lupu, Roxana; Fassnacht, Chris; Holder, Gilbert; Aguirre, James;</td><td>7.477244332188736</td><td>0.15936862933588364</td><td>4.161038</td><td></td><td>uid://A001/X74/X293</td><td>uid://A002/X321719/X826</td><td>The ALMA-SPT Redshift Survey</td><td>S</td><td>TARGET WVR</td><td>60.988833626470466</td><td>41.68791958796063</td><td>Y</td><td>14</td><td>Sub-mm Galaxies (SMG), Gravitational lenses</td><td>Galaxy evolution</td><td>2011.0.00957.S</td><td>SPT0113-46</td></tr>\n",
       "<tr><td>2011.0.00957.S</td><td>SPT_0125-47</td><td>21.279458333333338</td><td>-47.39902777777778</td><td>287.1112089670969</td><td>-68.68132053101337</td><td>[3]</td><td>7.654228001630472</td><td>976.657768509833</td><td>12m</td><td></td><td>151.2</td><td>2013-04-25</td><td>[91.67..93.55GHz,976.66kHz,7.4mJy/beam@10km/s,301uJy/beam@native, XX YY] U [93.55..95.42GHz,976.66kHz,7.4mJy/beam@10km/s,301.7uJy/beam@native, XX YY] U [103.67..105.55GHz,976.66kHz,7.3mJy/beam@10km/s,314uJy/beam@native, XX YY] U [105.55..107.42GHz,976.66kHz,7.3mJy/beam@10km/s,319.8uJy/beam@native, XX YY]</td><td>2725.895948314194</td><td>XX YY</td><td>2011-11-19 03:43:05</td><td>Weiss, Axel</td><td>Tuning3_1-2HA</td><td>Chapman, Scott; Brodwin, Mark; Greve, Thomas; Hezaveh, Yashar; Sharon, Keren; Ashby, Matthew; Menten, Karl; Carlstrom, John; Marrone, Dan; De Breuck, Carlos; Rosenman, Michael; Holzapfel, William; Vieira, Joaquin; Crawford, Thomas; Lupu, Roxana; Fassnacht, Chris; Holder, Gilbert; Aguirre, James;</td><td>7.278982907678761</td><td>0.15441907905567298</td><td>4.0281453</td><td></td><td>uid://A001/X74/X291</td><td>uid://A002/X321719/X723</td><td>The ALMA-SPT Redshift Survey</td><td>S</td><td>TARGET WVR</td><td>63.28655495409857</td><td>31.364286883121427</td><td>Y</td><td>14</td><td>Sub-mm Galaxies (SMG), Gravitational lenses</td><td>Galaxy evolution</td><td>2011.0.00957.S</td><td>SPT0125-47</td></tr>\n",
       "<tr><td>2011.0.00957.S</td><td>SPT_0125-47</td><td>21.279458333333338</td><td>-47.39902777777778</td><td>287.1112089670969</td><td>-68.68132053101337</td><td>[3]</td><td>9.676980740034256</td><td>976.6579716976725</td><td>12m</td><td></td><td>151.2</td><td>2013-04-25</td><td>[95.42..97.30GHz,976.66kHz,7.4mJy/beam@10km/s,304.9uJy/beam@native, XX YY] U [97.30..99.17GHz,976.66kHz,7.3mJy/beam@10km/s,303.7uJy/beam@native, XX YY] U [107.42..109.30GHz,976.66kHz,7.5mJy/beam@10km/s,328.9uJy/beam@native, XX YY] U [109.30..111.17GHz,976.66kHz,7.8mJy/beam@10km/s,345.1uJy/beam@native, XX YY]</td><td>2633.9398359361962</td><td>XX YY</td><td>2011-11-19 04:46:11</td><td>Weiss, Axel</td><td>Tuning4_1-2HA</td><td>Chapman, Scott; Brodwin, Mark; Greve, Thomas; Hezaveh, Yashar; Sharon, Keren; Ashby, Matthew; Menten, Karl; Carlstrom, John; Marrone, Dan; De Breuck, Carlos; Rosenman, Michael; Holzapfel, William; Vieira, Joaquin; Crawford, Thomas; Lupu, Roxana; Fassnacht, Chris; Holder, Gilbert; Aguirre, James;</td><td>7.4920762739350435</td><td>0.15964838269865667</td><td>4.161038</td><td></td><td>uid://A001/X74/X293</td><td>uid://A002/X321719/X826</td><td>The ALMA-SPT Redshift Survey</td><td>S</td><td>TARGET WVR</td><td>60.988833626470466</td><td>39.65280365677929</td><td>Y</td><td>14</td><td>Sub-mm Galaxies (SMG), Gravitational lenses</td><td>Galaxy evolution</td><td>2011.0.00957.S</td><td>SPT0125-47</td></tr>\n",
       "<tr><td>2011.0.00957.S</td><td>SPT_0125-50</td><td>21.45629166666667</td><td>-50.63905555555556</td><td>289.6681152952509</td><td>-65.59444802712612</td><td>[3]</td><td>8.142043542711383</td><td>976.657768509833</td><td>12m</td><td></td><td>151.2</td><td>2013-04-25</td><td>[91.67..93.55GHz,976.66kHz,7.4mJy/beam@10km/s,302.4uJy/beam@native, XX YY] U [93.55..95.42GHz,976.66kHz,7.4mJy/beam@10km/s,303.1uJy/beam@native, XX YY] U [103.67..105.55GHz,976.66kHz,7.3mJy/beam@10km/s,315.7uJy/beam@native, XX YY] U [105.55..107.42GHz,976.66kHz,7.4mJy/beam@10km/s,321.7uJy/beam@native, XX YY]</td><td>2725.895948314194</td><td>XX YY</td><td>2011-11-19 03:43:05</td><td>Weiss, Axel</td><td>Tuning3_1-2HA</td><td>Chapman, Scott; Brodwin, Mark; Greve, Thomas; Hezaveh, Yashar; Sharon, Keren; Ashby, Matthew; Menten, Karl; Carlstrom, John; Marrone, Dan; De Breuck, Carlos; Rosenman, Michael; Holzapfel, William; Vieira, Joaquin; Crawford, Thomas; Lupu, Roxana; Fassnacht, Chris; Holder, Gilbert; Aguirre, James;</td><td>7.318873984883067</td><td>0.15520447133789222</td><td>4.0281453</td><td></td><td>uid://A001/X74/X291</td><td>uid://A002/X321719/X723</td><td>The ALMA-SPT Redshift Survey</td><td>S</td><td>TARGET WVR</td><td>63.28655495409857</td><td>33.3631803800551</td><td>Y</td><td>14</td><td>Sub-mm Galaxies (SMG), Gravitational lenses</td><td>Galaxy evolution</td><td>2011.0.00957.S</td><td>SPT0125-50</td></tr>\n",
       "<tr><td>2011.0.00957.S</td><td>SPT_0125-50</td><td>21.45629166666667</td><td>-50.63905555555556</td><td>289.6681152952509</td><td>-65.59444802712612</td><td>[3]</td><td>10.27280537144886</td><td>976.6579716976725</td><td>12m</td><td></td><td>151.2</td><td>2013-04-25</td><td>[95.42..97.30GHz,976.66kHz,7.4mJy/beam@10km/s,306.4uJy/beam@native, XX YY] U [97.30..99.17GHz,976.66kHz,7.3mJy/beam@10km/s,305.1uJy/beam@native, XX YY] U [107.42..109.30GHz,976.66kHz,7.5mJy/beam@10km/s,331.1uJy/beam@native, XX YY] U [109.30..111.17GHz,976.66kHz,7.9mJy/beam@10km/s,347.7uJy/beam@native, XX YY]</td><td>2633.9398359361962</td><td>XX YY</td><td>2011-11-19 04:46:11</td><td>Weiss, Axel</td><td>Tuning4_1-2HA</td><td>Chapman, Scott; Brodwin, Mark; Greve, Thomas; Hezaveh, Yashar; Sharon, Keren; Ashby, Matthew; Menten, Karl; Carlstrom, John; Marrone, Dan; De Breuck, Carlos; Rosenman, Michael; Holzapfel, William; Vieira, Joaquin; Crawford, Thomas; Lupu, Roxana; Fassnacht, Chris; Holder, Gilbert; Aguirre, James;</td><td>7.541145885432841</td><td>0.16057338147508105</td><td>4.161038</td><td></td><td>uid://A001/X74/X293</td><td>uid://A002/X321719/X826</td><td>The ALMA-SPT Redshift Survey</td><td>S</td><td>TARGET WVR</td><td>60.988833626470466</td><td>42.09427974917382</td><td>Y</td><td>14</td><td>Sub-mm Galaxies (SMG), Gravitational lenses</td><td>Galaxy evolution</td><td>2011.0.00957.S</td><td>SPT0125-50</td></tr>\n",
       "<tr><td>2011.0.00957.S</td><td>SPT_0128-51</td><td>22.038916666666665</td><td>-51.49661111111111</td><td>289.51191127364234</td><td>-64.66433116613277</td><td>[3]</td><td>8.232002861990082</td><td>976.657768509833</td><td>12m</td><td></td><td>151.2</td><td>2013-04-25</td><td>[91.67..93.55GHz,976.66kHz,7.5mJy/beam@10km/s,302.8uJy/beam@native, XX YY] U [93.55..95.42GHz,976.66kHz,7.4mJy/beam@10km/s,303.5uJy/beam@native, XX YY] U [103.67..105.55GHz,976.66kHz,7.3mJy/beam@10km/s,316.2uJy/beam@native, XX YY] U [105.55..107.42GHz,976.66kHz,7.4mJy/beam@10km/s,322.3uJy/beam@native, XX YY]</td><td>2725.895948314194</td><td>XX YY</td><td>2011-11-19 03:43:05</td><td>Weiss, Axel</td><td>Tuning3_1-2HA</td><td>Chapman, Scott; Brodwin, Mark; Greve, Thomas; Hezaveh, Yashar; Sharon, Keren; Ashby, Matthew; Menten, Karl; Carlstrom, John; Marrone, Dan; De Breuck, Carlos; Rosenman, Michael; Holzapfel, William; Vieira, Joaquin; Crawford, Thomas; Lupu, Roxana; Fassnacht, Chris; Holder, Gilbert; Aguirre, James;</td><td>7.330619927177622</td><td>0.15543568622610568</td><td>4.0281453</td><td></td><td>uid://A001/X74/X291</td><td>uid://A002/X321719/X723</td><td>The ALMA-SPT Redshift Survey</td><td>S</td><td>TARGET WVR</td><td>63.28655495409857</td><td>33.731801473791336</td><td>Y</td><td>14</td><td>Sub-mm Galaxies (SMG), Gravitational lenses</td><td>Galaxy evolution</td><td>2011.0.00957.S</td><td>SPT0128-51</td></tr>\n",
       "<tr><td>...</td><td>...</td><td>...</td><td>...</td><td>...</td><td>...</td><td>...</td><td>...</td><td>...</td><td>...</td><td>...</td><td>...</td><td>...</td><td>...</td><td>...</td><td>...</td><td>...</td><td>...</td><td>...</td><td>...</td><td>...</td><td>...</td><td>...</td><td>...</td><td>...</td><td>...</td><td>...</td><td>...</td><td>...</td><td>...</td><td>...</td><td>...</td><td>...</td><td>...</td><td>...</td><td>...</td><td>...</td></tr>\n",
       "<tr><td>2017.1.01676.S</td><td>HS1442</td><td>221.22362500000875</td><td>29.318222222222463</td><td>44.65335892888089</td><td>64.97302242411301</td><td>[3]</td><td>1.8003203944014459</td><td>31248.673554400877</td><td>12m</td><td></td><td>816.48</td><td>2019-04-25</td><td>[91.42..93.40GHz,31248.67kHz,1.1mJy/beam@10km/s,44.1uJy/beam@native, XX YY] U [93.36..95.34GHz,31248.67kHz,1.1mJy/beam@10km/s,44.3uJy/beam@native, XX YY] U [103.42..105.40GHz,31248.67kHz,1.1mJy/beam@10km/s,46.7uJy/beam@native, XX YY] U [105.42..107.40GHz,31248.67kHz,1.1mJy/beam@10km/s,47.9uJy/beam@native, XX YY]</td><td>87220.9201363223</td><td>XX YY</td><td>2018-04-23 05:21:50</td><td>Ross, Colin</td><td>HS1442_a_03_TM1</td><td>Geach, James; Chapman, Scott; Bertoldi, Frank; Serjeant, Stephen; Gao, Yu; Babul, Arif; Matsuda, Yuichi; Smail, Ian; Wang, Ran; Lacaille, Kevin; Steidel, Charles; Ivison, Rob; Sargent, Mark; Wang, Wei-Hao; Webb, Tracy; Yang, Yujin; Scott, Douglas; Ao, Yiping;</td><td>1.1182186079780483</td><td>0.022823050666738964</td><td>2.8672566</td><td>uid://A001/X12cc/X87</td><td>uid://A001/X12cc/X88</td><td>uid://A002/Xcc626d/X9d08</td><td>ALMA followup to the S2-WEB survey: Constraining the fraction of molecular outflows in the most luminous QSOs</td><td>S</td><td>TARGET</td><td>63.37367959158785</td><td>10.613799367699485</td><td>Y</td><td>0</td><td>Active Galactic Nuclei (AGN)/Quasars (QSO), Merging and interacting galaxies</td><td>Active galaxies</td><td>2017.1.01676.S</td><td>HS1442</td></tr>\n",
       "<tr><td>2017.1.00271.S</td><td>Ridge_center</td><td>84.92211047123145</td><td>-70.12720509058221</td><td>280.6496644854789</td><td>-31.466823753041744</td><td>[3]</td><td>50.57240246772627</td><td>122.07567991056972</td><td>TP</td><td></td><td>71032.032</td><td>2019-04-25</td><td>[97.84..97.96GHz,122.08kHz,14.3mJy/beam@10km/s,2.3mJy/beam@native, XX YY] U [97.94..99.94GHz,1953.22kHz,14.3mJy/beam@10km/s,580.4uJy/beam@native, XX YY] U [109.63..109.75GHz,122.08kHz,15.6mJy/beam@10km/s,2.7mJy/beam@native, XX YY] U [110.05..110.17GHz,122.08kHz,15.8mJy/beam@10km/s,2.7mJy/beam@native, XX YY]</td><td>332.19889412631005</td><td>XX YY</td><td>2018-01-09 01:34:59</td><td>Indebetouw, Remy</td><td>Ridge_ce_b_03_TP</td><td>Onishi, Toshikazu; Chen, Rosie; Ott, Juergen; Zahorecz, Sarolta; Tokuda, Kazuki; Wong, Tony;</td><td>15.600045885314275</td><td>0.5396926842875832</td><td>2.9391875</td><td>uid://A001/X1273/X2ea</td><td>uid://A001/X12a3/X1bb</td><td>uid://A002/Xc8ed16/X9980</td><td>Why is ~ 1/4 of the LMC&apos;s molecular gas not forming massive stars?</td><td>S</td><td>TARGET</td><td>60.57435965098994</td><td>896.4206435610785</td><td>Y</td><td>0</td><td>High-mass star formation, Inter-Stellar Medium (ISM)/Molecular clouds</td><td>ISM and star formation</td><td>2017.1.00271.S</td><td>RIDGECENTER</td></tr>\n",
       "<tr><td>2017.1.01616.S</td><td>SN2006tf</td><td>191.56587499998332</td><td>11.432055560000528</td><td>298.2540377388665</td><td>74.2567388041428</td><td>[3]</td><td>1.03121923494801</td><td>976.5299740541279</td><td>12m</td><td></td><td>3931.2</td><td>2019-04-25</td><td>[92.50..94.49GHz,31249.54kHz,711.3uJy/beam@10km/s,28.1uJy/beam@native, XX YY] U [94.26..96.24GHz,31249.54kHz,705.6uJy/beam@10km/s,28.1uJy/beam@native, XX YY] U [104.40..106.38GHz,31249.54kHz,705uJy/beam@10km/s,29.6uJy/beam@native, XX YY] U [106.39..108.26GHz,976.55kHz,716.1uJy/beam@10km/s,31.3uJy/beam@native, XX YY]</td><td>2703.9997734523813</td><td>XX YY</td><td>2018-03-18 05:07:36</td><td>Kim, Sam</td><td>SN2006tf_a_03_TM1</td><td>König, Sabine; Kruehler, Thomas; Schulze, Steve; Amorin, Ricardo; Michalowski, Michal; Thöne, Christina; Bauer, Franz; de Ugarte Postigo, Antonio; Leloudas, Giorgos; Ibar, Edo;</td><td>0.7049746789375838</td><td>0.014589608786997657</td><td>4.7876916</td><td>uid://A001/X1273/X46e</td><td>uid://A001/X1273/X46f</td><td>uid://A002/Xca795f/X214c</td><td>Superluminous Supernova Host galaxies in CO - Assessing Molecular Gas in Nascent Starbursts</td><td>S</td><td>TARGET</td><td>62.759518956947545</td><td>9.233810614816875</td><td>Y</td><td>0</td><td>Starburst galaxies</td><td>Active galaxies</td><td>2017.1.01616.S</td><td>SN2006TF</td></tr>\n",
       "<tr><td>2017.1.00051.S</td><td>GRS_1915+105</td><td>288.7981085197454</td><td>10.94574607080332</td><td>45.36572598095569</td><td>-0.21907992248395228</td><td>[3]</td><td>1.6938422946051965</td><td>31245.51094998715</td><td>12m</td><td></td><td>3113.856</td><td>2019-04-27</td><td>[89.49..91.47GHz,31245.51kHz,509uJy/beam@10km/s,19.8uJy/beam@native, XX YY] U [91.43..93.41GHz,31245.51kHz,502uJy/beam@10km/s,19.7uJy/beam@native, XX YY] U [101.49..103.47GHz,31245.51kHz,483.8uJy/beam@10km/s,20uJy/beam@native, XX YY] U [103.49..105.47GHz,31245.51kHz,484.4uJy/beam@10km/s,20.2uJy/beam@native, XX YY]</td><td>88799.46930936063</td><td>XX YY</td><td>2018-04-19 07:44:39</td><td>Casella, Piergiorgio</td><td>GRS_1915_c_03_TM1</td><td>Miller-Jones, James; Vincentelli, Federico Maria; Belloni, Tomaso; Diaz Trigo, Maria; Sivakoff, Gregory;</td><td>0.4843919336744103</td><td>0.009961596379823459</td><td>0.8909945</td><td>uid://A001/X1284/Xaaa</td><td>uid://A001/X1284/Xaab</td><td>uid://A002/Xcc3ae3/X6cf6</td><td>Constraining jet physics with multi-lambda variability studies of GRS 1915+105</td><td>S</td><td>TARGET</td><td>64.62826390599761</td><td>9.795003464107912</td><td>Y</td><td>0</td><td>Black holes</td><td>Stars and stellar evolution</td><td>2017.1.00051.S</td><td>GRS1915+105</td></tr>\n",
       "<tr><td>2017.1.01355.L</td><td>G333.60</td><td>245.53899999997628</td><td>-50.099694444452496</td><td>333.6040259667905</td><td>-0.21207242911865257</td><td>[3]</td><td>53.33598647365587</td><td>122.0588555098436</td><td>TP</td><td></td><td>37094.4</td><td>2019-04-29</td><td>[91.71..92.71GHz,976.49kHz,13.7mJy/beam@10km/s,760.8uJy/beam@native, XX YY] U [93.13..93.25GHz,122.06kHz,13.7mJy/beam@10km/s,2.2mJy/beam@native, XX YY] U [102.12..103.12GHz,976.49kHz,13.6mJy/beam@10km/s,797.9uJy/beam@native, XX YY] U [104.52..105.52GHz,976.49kHz,13.8mJy/beam@10km/s,814.3uJy/beam@native, XX YY]</td><td>392.37226673139884</td><td>XX YY</td><td>2018-01-26 09:41:48</td><td>Motte, Frederique</td><td>G333.60_a_03_TP</td><td>Nguyen Luong, Quang; Bronfman, Leonardo; Hennebelle, Patrick; Galvan-Madrid, Roberto; Nakamura, Fumitaka; Bally, John; Menten, Karl; Finger, Ricardo; Lu, Xing; Molet, Jordan; Braine, Jonathan; Ohashi, Satoshi; Herpin, Fabrice; Rosolowsky, Erik; Gusdorf, Antoine; Chen, Vivien; Svoboda, Brian; Sakai, Takeshi; Guzman, Andres Ernesto; Ladjelate, Bilal; Reyes, Nicolas; Nony, Thomas; Marsh, Kenneth; Battersby, Cara; Gomez, Gilberto; Csengeri, Timea; Di Francesco, James; Bontemps, Sylvain; López-Sepulcre, Ana; Ta</td><td>13.75812000440658</td><td>0.4462726232283303</td><td>5.3726788</td><td>uid://A001/X1296/X1a2</td><td>uid://A001/X1296/X1a9</td><td>uid://A002/Xc99ad7/Xa232</td><td>ALMA-IMF: ALMA transforms our view of the origin of stellar masses</td><td>L</td><td>TARGET</td><td>63.88458380396162</td><td>945.4075954801879</td><td>Y</td><td>0</td><td>High-mass star formation, Low-mass star formation</td><td>ISM and star formation</td><td>2017.1.01355.L</td><td>G333.60</td></tr>\n",
       "<tr><td>2017.1.00025.S</td><td>HATLAS_J143430.9+004133</td><td>218.62874999995728</td><td>0.6925000000002326</td><td>350.32414787913444</td><td>53.79733100879668</td><td>[3]</td><td>1.7383409241715013</td><td>1952.9904619728904</td><td>12m</td><td></td><td>151.2</td><td>2019-04-30</td><td>[93.80..95.79GHz,31247.85kHz,2.4mJy/beam@10km/s,95.1uJy/beam@native, XX YY] U [95.67..97.66GHz,31247.85kHz,2.4mJy/beam@10km/s,95.5uJy/beam@native, XX YY] U [105.87..107.86GHz,31247.85kHz,2.4mJy/beam@10km/s,101.2uJy/beam@native, XX YY] U [106.93..108.80GHz,1952.99kHz,2.4mJy/beam@10km/s,106.1uJy/beam@native, XX YY]</td><td>5380.769302494959</td><td>XX YY</td><td>2018-04-10 04:07:54</td><td>Vlahakis, Catherine</td><td>HATLAS_J_a_03_TM1</td><td>Valiante, Elisabetta; Smith, Matthew; Oteo, Ivan; Gomez, Haley; van Kampen, Eelco; Serjeant, Stephen; Dunne, Loretta; Cigan, Phil; Rowlands, Kate; van der Werf, Paul; Ibar, Edo; Ivison, Rob; Eales, Stephen; Smith, Daniel; Papadopoulos, Padelis; Cooray, Asantha; Bourne, Nathan; Viaene, Sebastien; Temi, Pasquale; Hughes, Thomas; Leeuw, Lerothodi;</td><td>2.3974525247909693</td><td>0.04958099719555209</td><td>4.7583475</td><td>uid://A001/X1284/X152b</td><td>uid://A001/X1284/X152c</td><td>uid://A002/Xcbdb2a/X3612</td><td>Unveiling molecular gas in local Herschel-ATLAS galaxies</td><td>S</td><td>TARGET</td><td>62.18969193906132</td><td>9.50387007987371</td><td>Y</td><td>0</td><td>Surveys of galaxies</td><td>Galaxy evolution</td><td>2017.1.00025.S</td><td>HATLASJ143430.9+004133</td></tr>\n",
       "<tr><td>2017.1.00025.S</td><td>HATLAS_J143701.0-010421</td><td>219.25416666662366</td><td>-1.0725000000003326</td><td>349.2125706716637</td><td>52.04877321827001</td><td>[3]</td><td>1.744979692565736</td><td>1952.9904619728904</td><td>12m</td><td></td><td>151.2</td><td>2019-04-30</td><td>[93.80..95.79GHz,31247.85kHz,2.4mJy/beam@10km/s,94.9uJy/beam@native, XX YY] U [95.67..97.66GHz,31247.85kHz,2.4mJy/beam@10km/s,95.3uJy/beam@native, XX YY] U [105.87..107.86GHz,31247.85kHz,2.4mJy/beam@10km/s,100.9uJy/beam@native, XX YY] U [106.93..108.80GHz,1952.99kHz,2.4mJy/beam@10km/s,105.8uJy/beam@native, XX YY]</td><td>5380.769302494959</td><td>XX YY</td><td>2018-04-10 04:07:54</td><td>Vlahakis, Catherine</td><td>HATLAS_J_a_03_TM1</td><td>Valiante, Elisabetta; Smith, Matthew; Oteo, Ivan; Gomez, Haley; van Kampen, Eelco; Serjeant, Stephen; Dunne, Loretta; Cigan, Phil; Rowlands, Kate; van der Werf, Paul; Ibar, Edo; Ivison, Rob; Eales, Stephen; Smith, Daniel; Papadopoulos, Padelis; Cooray, Asantha; Bourne, Nathan; Viaene, Sebastien; Temi, Pasquale; Hughes, Thomas; Leeuw, Lerothodi;</td><td>2.390844932968551</td><td>0.04945984921066412</td><td>4.7583475</td><td>uid://A001/X1284/X152b</td><td>uid://A001/X1284/X152c</td><td>uid://A002/Xcbdb2a/X3612</td><td>Unveiling molecular gas in local Herschel-ATLAS galaxies</td><td>S</td><td>TARGET</td><td>62.18969193906132</td><td>9.54016560247912</td><td>Y</td><td>0</td><td>Surveys of galaxies</td><td>Galaxy evolution</td><td>2017.1.00025.S</td><td>HATLASJ143701.0-010421</td></tr>\n",
       "<tr><td>2017.1.00025.S</td><td>HATLAS_J144244.2+015846</td><td>220.68416666662236</td><td>1.9794444444451624</td><td>354.34030540461123</td><td>53.35680297627943</td><td>[3]</td><td>1.763115722917743</td><td>1952.9904619728904</td><td>12m</td><td></td><td>151.2</td><td>2019-04-30</td><td>[93.80..95.79GHz,31247.85kHz,2.4mJy/beam@10km/s,95.2uJy/beam@native, XX YY] U [95.67..97.66GHz,31247.85kHz,2.4mJy/beam@10km/s,95.6uJy/beam@native, XX YY] U [105.87..107.86GHz,31247.85kHz,2.4mJy/beam@10km/s,101.4uJy/beam@native, XX YY] U [106.93..108.80GHz,1952.99kHz,2.4mJy/beam@10km/s,106.3uJy/beam@native, XX YY]</td><td>5380.769302494959</td><td>XX YY</td><td>2018-04-10 04:07:54</td><td>Vlahakis, Catherine</td><td>HATLAS_J_a_03_TM1</td><td>Valiante, Elisabetta; Smith, Matthew; Oteo, Ivan; Gomez, Haley; van Kampen, Eelco; Serjeant, Stephen; Dunne, Loretta; Cigan, Phil; Rowlands, Kate; van der Werf, Paul; Ibar, Edo; Ivison, Rob; Eales, Stephen; Smith, Daniel; Papadopoulos, Padelis; Cooray, Asantha; Bourne, Nathan; Viaene, Sebastien; Temi, Pasquale; Hughes, Thomas; Leeuw, Lerothodi;</td><td>2.402696335208629</td><td>0.049677120594931054</td><td>4.7583475</td><td>uid://A001/X1284/X152b</td><td>uid://A001/X1284/X152c</td><td>uid://A002/Xcbdb2a/X3612</td><td>Unveiling molecular gas in local Herschel-ATLAS galaxies</td><td>S</td><td>TARGET</td><td>62.18969193906132</td><td>9.639319038858275</td><td>Y</td><td>0</td><td>Surveys of galaxies</td><td>Galaxy evolution</td><td>2017.1.00025.S</td><td>HATLASJ144244.2+015846</td></tr>\n",
       "<tr><td>2017.1.00025.S</td><td>HATLAS_J144652.0+014010</td><td>221.71666666661926</td><td>1.6694444444451608</td><td>355.20175501455617</td><td>52.41292426978146</td><td>[3]</td><td>1.7756912465240864</td><td>1952.9904619728904</td><td>12m</td><td></td><td>151.2</td><td>2019-04-30</td><td>[93.80..95.79GHz,31247.85kHz,2.4mJy/beam@10km/s,95.2uJy/beam@native, XX YY] U [95.67..97.66GHz,31247.85kHz,2.4mJy/beam@10km/s,95.6uJy/beam@native, XX YY] U [105.87..107.86GHz,31247.85kHz,2.4mJy/beam@10km/s,101.4uJy/beam@native, XX YY] U [106.93..108.80GHz,1952.99kHz,2.4mJy/beam@10km/s,106.3uJy/beam@native, XX YY]</td><td>5380.769302494959</td><td>XX YY</td><td>2018-04-10 04:07:54</td><td>Vlahakis, Catherine</td><td>HATLAS_J_a_03_TM1</td><td>Valiante, Elisabetta; Smith, Matthew; Oteo, Ivan; Gomez, Haley; van Kampen, Eelco; Serjeant, Stephen; Dunne, Loretta; Cigan, Phil; Rowlands, Kate; van der Werf, Paul; Ibar, Edo; Ivison, Rob; Eales, Stephen; Smith, Daniel; Papadopoulos, Padelis; Cooray, Asantha; Bourne, Nathan; Viaene, Sebastien; Temi, Pasquale; Hughes, Thomas; Leeuw, Lerothodi;</td><td>2.4013992980350936</td><td>0.049653346479280505</td><td>4.7583475</td><td>uid://A001/X1284/X152b</td><td>uid://A001/X1284/X152c</td><td>uid://A002/Xcbdb2a/X3612</td><td>Unveiling molecular gas in local Herschel-ATLAS galaxies</td><td>S</td><td>TARGET</td><td>62.18969193906132</td><td>9.708072032519766</td><td>Y</td><td>0</td><td>Surveys of galaxies</td><td>Galaxy evolution</td><td>2017.1.00025.S</td><td>HATLASJ144652.0+014010</td></tr>\n",
       "<tr><td>2017.1.01355.L</td><td>W51-E</td><td>290.9340833333202</td><td>14.508194368278476</td><td>49.48906730459607</td><td>-0.3890933507007016</td><td>[3]</td><td>1.6283051697926239</td><td>122.05312323889048</td><td>12m</td><td>mosaic</td><td>811.171</td><td>2019-04-30</td><td>[91.71..92.65GHz,976.43kHz,1.5mJy/beam@10km/s,84.8uJy/beam@native, XX YY] U [93.10..93.21GHz,122.05kHz,1.5mJy/beam@10km/s,240.2uJy/beam@native, XX YY] U [102.11..103.05GHz,976.43kHz,1.5mJy/beam@10km/s,87.6uJy/beam@native, XX YY] U [104.51..105.45GHz,976.43kHz,1.5mJy/beam@10km/s,89.2uJy/beam@native, XX YY]</td><td>392.485257051394</td><td>XX YY</td><td>2018-04-09 09:36:45</td><td>Motte, Frederique</td><td>W51-E_a_03_TM2</td><td>Nguyen Luong, Quang; Bronfman, Leonardo; Hennebelle, Patrick; Galvan-Madrid, Roberto; Nakamura, Fumitaka; Bally, John; Menten, Karl; Finger, Ricardo; Lu, Xing; Molet, Jordan; Braine, Jonathan; Ohashi, Satoshi; Herpin, Fabrice; Rosolowsky, Erik; Gusdorf, Antoine; Chen, Vivien; Svoboda, Brian; Sakai, Takeshi; Guzman, Andres Ernesto; Ladjelate, Bilal; Reyes, Nicolas; Nony, Thomas; Marsh, Kenneth; Battersby, Cara; Gomez, Gilberto; Csengeri, Timea; Di Francesco, James; Bontemps, Sylvain; López-Sepulcre, Ana; Ta</td><td>1.4600960893618122</td><td>0.04926080361064086</td><td>3.0635426</td><td>uid://A001/X1296/X106</td><td>uid://A001/X1296/X109</td><td>uid://A002/Xcc626d/Xb34f</td><td>ALMA-IMF: ALMA transforms our view of the origin of stellar masses</td><td>L</td><td>TARGET</td><td>127.7798970563214</td><td>9.600600229669341</td><td>Y</td><td>0</td><td>High-mass star formation, Low-mass star formation</td><td>ISM and star formation</td><td>2017.1.01355.L</td><td>W51-E</td></tr>\n",
       "</table>"
      ],
      "text/plain": [
       "<Table masked=True length=1689>\n",
       " Project code        Source name       ... ALMA sanitized source name\n",
       "                                       ...                           \n",
       "   bytes64             bytes256        ...          bytes29          \n",
       "-------------- ----------------------- ... --------------------------\n",
       "2011.0.00957.S             SPT_0103-45 ...                 SPT0103-45\n",
       "2011.0.00957.S             SPT_0103-45 ...                 SPT0103-45\n",
       "2011.0.00957.S             SPT_0113-46 ...                 SPT0113-46\n",
       "2011.0.00957.S             SPT_0113-46 ...                 SPT0113-46\n",
       "2011.0.00957.S             SPT_0125-47 ...                 SPT0125-47\n",
       "2011.0.00957.S             SPT_0125-47 ...                 SPT0125-47\n",
       "2011.0.00957.S             SPT_0125-50 ...                 SPT0125-50\n",
       "2011.0.00957.S             SPT_0125-50 ...                 SPT0125-50\n",
       "2011.0.00957.S             SPT_0128-51 ...                 SPT0128-51\n",
       "           ...                     ... ...                        ...\n",
       "2017.1.01676.S                  HS1442 ...                     HS1442\n",
       "2017.1.00271.S            Ridge_center ...                RIDGECENTER\n",
       "2017.1.01616.S                SN2006tf ...                   SN2006TF\n",
       "2017.1.00051.S            GRS_1915+105 ...                GRS1915+105\n",
       "2017.1.01355.L                 G333.60 ...                    G333.60\n",
       "2017.1.00025.S HATLAS_J143430.9+004133 ...     HATLASJ143430.9+004133\n",
       "2017.1.00025.S HATLAS_J143701.0-010421 ...     HATLASJ143701.0-010421\n",
       "2017.1.00025.S HATLAS_J144244.2+015846 ...     HATLASJ144244.2+015846\n",
       "2017.1.00025.S HATLAS_J144652.0+014010 ...     HATLASJ144652.0+014010\n",
       "2017.1.01355.L                   W51-E ...                      W51-E"
      ]
     },
     "execution_count": 52,
     "metadata": {},
     "output_type": "execute_result"
    }
   ],
   "source": [
    "testQuery"
   ]
  },
  {
   "cell_type": "code",
   "execution_count": 53,
   "metadata": {},
   "outputs": [],
   "source": [
    "uniqueALMAnames = np.unique(testQuery['ALMA sanitized source name'])"
   ]
  },
  {
   "cell_type": "code",
   "execution_count": 54,
   "metadata": {
    "scrolled": true
   },
   "outputs": [],
   "source": [
    "from astropy.table import join, setdiff, unique, vstack\n",
    "from astroquery.ned import Ned\n",
    "# query NED for object redshifts\n",
    "nedResult = list()\n",
    "for sourceName in uniqueALMAnames:\n",
    "    try:\n",
    "        nedSearch = Ned.query_object(sourceName)\n",
    "        nedSearch['ALMA sanitized source name'] = sourceName\n",
    "        # doing this prevents vstack warnings\n",
    "        nedSearch.meta = None\n",
    "        nedResult.append(nedSearch)\n",
    "    except Exception:\n",
    "        pass\n",
    "nedResult = vstack(nedResult)"
   ]
  },
  {
   "cell_type": "code",
   "execution_count": 57,
   "metadata": {
    "scrolled": true
   },
   "outputs": [
    {
     "data": {
      "text/html": [
       "<i>Table masked=True length=294</i>\n",
       "<table id=\"table4613658888\" class=\"table-striped table-bordered table-condensed\">\n",
       "<thead><tr><th>No.</th><th>Object Name</th><th>RA</th><th>DEC</th><th>Type</th><th>Velocity</th><th>Redshift</th><th>Redshift Flag</th><th>Magnitude and Filter</th><th>Separation</th><th>References</th><th>Notes</th><th>Photometry Points</th><th>Positions</th><th>Redshift Points</th><th>Diameter Points</th><th>Associations</th><th>ALMA sanitized source name</th></tr></thead>\n",
       "<thead><tr><th></th><th></th><th>degrees</th><th>degrees</th><th></th><th>km / s</th><th></th><th></th><th></th><th>arcm</th><th></th><th></th><th></th><th></th><th></th><th></th><th></th><th></th></tr></thead>\n",
       "<thead><tr><th>int32</th><th>bytes30</th><th>float64</th><th>float64</th><th>object</th><th>float64</th><th>float64</th><th>object</th><th>object</th><th>float64</th><th>int32</th><th>int32</th><th>int32</th><th>int32</th><th>int32</th><th>int32</th><th>int32</th><th>str23</th></tr></thead>\n",
       "<tr><td>1</td><td>MCXC J0338.6+0958</td><td>54.64708</td><td>9.9652</td><td>GClstr</td><td>10894.0</td><td>0.03634</td><td></td><td></td><td>--</td><td>214</td><td>4</td><td>16</td><td>4</td><td>7</td><td>0</td><td>0</td><td>2A0335+096</td></tr>\n",
       "<tr><td>1</td><td>2FGL J1104.7-6036</td><td>166.193</td><td>-60.614</td><td>GammaS</td><td>--</td><td>--</td><td></td><td></td><td>--</td><td>6</td><td>0</td><td>1</td><td>1</td><td>0</td><td>0</td><td>0</td><td>2FGLJ1104.7-6036</td></tr>\n",
       "<tr><td>1</td><td>3FGL J1208.4-6239</td><td>182.139</td><td>-62.674</td><td>GammaS</td><td>--</td><td>--</td><td></td><td></td><td>--</td><td>6</td><td>0</td><td>1</td><td>2</td><td>0</td><td>0</td><td>0</td><td>2FGLJ1208.5-6240</td></tr>\n",
       "<tr><td>1</td><td>2FGL J1405.5-6121</td><td>211.299</td><td>-61.395</td><td>GammaS</td><td>--</td><td>--</td><td></td><td></td><td>--</td><td>7</td><td>0</td><td>2</td><td>1</td><td>0</td><td>0</td><td>0</td><td>2FGLJ1405.5-6121</td></tr>\n",
       "<tr><td>1</td><td>2FGL J1844.3-0343c</td><td>281.025</td><td>-3.58333</td><td>GammaS</td><td>--</td><td>--</td><td></td><td></td><td>--</td><td>8</td><td>0</td><td>2</td><td>0</td><td>0</td><td>0</td><td>0</td><td>2FGLJ1844.3-0343C</td></tr>\n",
       "<tr><td>1</td><td>2FGL J1847.2-0236</td><td>281.7</td><td>-2.563</td><td>GammaS</td><td>--</td><td>--</td><td></td><td></td><td>--</td><td>7</td><td>0</td><td>2</td><td>1</td><td>0</td><td>0</td><td>0</td><td>2FGLJ1847.2-0236</td></tr>\n",
       "<tr><td>1</td><td>2MASS J16002612-4153553</td><td>240.10882</td><td>-41.89873</td><td>IrS</td><td>--</td><td>--</td><td></td><td></td><td>--</td><td>0</td><td>0</td><td>16</td><td>2</td><td>0</td><td>0</td><td>0</td><td>2MASSJ16002612-4153553</td></tr>\n",
       "<tr><td>1</td><td>2MASS J16011549-4152351</td><td>240.31465</td><td>-41.8765</td><td>IrS</td><td>--</td><td>--</td><td></td><td></td><td>--</td><td>0</td><td>0</td><td>16</td><td>2</td><td>0</td><td>0</td><td>0</td><td>2MASSJ16011549-4152351</td></tr>\n",
       "<tr><td>1</td><td>2MASS J16070854-3914075</td><td>241.78562</td><td>-39.23544</td><td>IrS</td><td>--</td><td>--</td><td></td><td></td><td>--</td><td>0</td><td>0</td><td>16</td><td>2</td><td>0</td><td>0</td><td>0</td><td>2MASSJ16070854-3914075</td></tr>\n",
       "<tr><td>...</td><td>...</td><td>...</td><td>...</td><td>...</td><td>...</td><td>...</td><td>...</td><td>...</td><td>...</td><td>...</td><td>...</td><td>...</td><td>...</td><td>...</td><td>...</td><td>...</td><td>...</td></tr>\n",
       "<tr><td>1</td><td>ULAS J2315+0143</td><td>348.9843</td><td>1.7307</td><td>QSO</td><td>767469.0</td><td>2.56</td><td></td><td></td><td>--</td><td>5</td><td>0</td><td>0</td><td>1</td><td>1</td><td>0</td><td>0</td><td>ULASJ2315+0143</td></tr>\n",
       "<tr><td>1</td><td>UV Cet</td><td>24.75417</td><td>-17.95</td><td>V*</td><td>--</td><td>--</td><td></td><td>12.5</td><td>--</td><td>8</td><td>0</td><td>3</td><td>0</td><td>0</td><td>0</td><td>1</td><td>UVCET</td></tr>\n",
       "<tr><td>1</td><td>UX Tau</td><td>67.51663</td><td>18.23039</td><td>!V*</td><td>--</td><td>--</td><td></td><td></td><td>--</td><td>9</td><td>0</td><td>19</td><td>5</td><td>0</td><td>0</td><td>0</td><td>UXTAU</td></tr>\n",
       "<tr><td>1</td><td>UY Aur</td><td>72.94733</td><td>30.78697</td><td>!*</td><td>--</td><td>--</td><td></td><td></td><td>--</td><td>2</td><td>0</td><td>13</td><td>3</td><td>1</td><td>0</td><td>0</td><td>UYAUR</td></tr>\n",
       "<tr><td>1</td><td>V0856 Sco</td><td>242.14329</td><td>-39.10534</td><td>!*</td><td>--</td><td>--</td><td></td><td>7.07</td><td>--</td><td>1</td><td>0</td><td>0</td><td>0</td><td>0</td><td>0</td><td>0</td><td>V856SCO</td></tr>\n",
       "<tr><td>1</td><td>V0892 Tau</td><td>64.66945</td><td>28.32117</td><td>!V*</td><td>--</td><td>--</td><td></td><td></td><td>--</td><td>3</td><td>0</td><td>12</td><td>5</td><td>0</td><td>0</td><td>0</td><td>V892TAU</td></tr>\n",
       "<tr><td>1</td><td>2MASS J21011948-5943447</td><td>315.3311</td><td>-59.7291</td><td>QSO</td><td>693420.0</td><td>2.313</td><td></td><td></td><td>--</td><td>2</td><td>0</td><td>4</td><td>2</td><td>1</td><td>0</td><td>0</td><td>VHSJ2101-5943</td></tr>\n",
       "<tr><td>1</td><td>IC 1623</td><td>16.94658</td><td>-17.50703</td><td>GPair</td><td>6016.0</td><td>0.020067</td><td></td><td>11.7</td><td>--</td><td>180</td><td>10</td><td>67</td><td>21</td><td>10</td><td>1</td><td>1</td><td>VV114</td></tr>\n",
       "<tr><td>1</td><td>W Com</td><td>185.38204</td><td>28.23292</td><td>QSO</td><td>30579.0</td><td>0.102</td><td></td><td>16.5</td><td>--</td><td>528</td><td>8</td><td>109</td><td>47</td><td>28</td><td>4</td><td>1</td><td>WCOMAE</td></tr>\n",
       "<tr><td>1</td><td>XRF 020903</td><td>342.35417</td><td>-20.89972</td><td>XrayS</td><td>--</td><td>--</td><td></td><td></td><td>--</td><td>100</td><td>0</td><td>6</td><td>0</td><td>0</td><td>0</td><td>0</td><td>XRF020903</td></tr>\n",
       "</table>"
      ],
      "text/plain": [
       "<Table masked=True length=294>\n",
       " No.        Object Name       ... Associations ALMA sanitized source name\n",
       "                              ...                                        \n",
       "int32         bytes30         ...    int32               str23           \n",
       "----- ----------------------- ... ------------ --------------------------\n",
       "    1       MCXC J0338.6+0958 ...            0                 2A0335+096\n",
       "    1       2FGL J1104.7-6036 ...            0           2FGLJ1104.7-6036\n",
       "    1       3FGL J1208.4-6239 ...            0           2FGLJ1208.5-6240\n",
       "    1       2FGL J1405.5-6121 ...            0           2FGLJ1405.5-6121\n",
       "    1      2FGL J1844.3-0343c ...            0          2FGLJ1844.3-0343C\n",
       "    1       2FGL J1847.2-0236 ...            0           2FGLJ1847.2-0236\n",
       "    1 2MASS J16002612-4153553 ...            0     2MASSJ16002612-4153553\n",
       "    1 2MASS J16011549-4152351 ...            0     2MASSJ16011549-4152351\n",
       "    1 2MASS J16070854-3914075 ...            0     2MASSJ16070854-3914075\n",
       "  ...                     ... ...          ...                        ...\n",
       "    1         ULAS J2315+0143 ...            0             ULASJ2315+0143\n",
       "    1                  UV Cet ...            1                      UVCET\n",
       "    1                  UX Tau ...            0                      UXTAU\n",
       "    1                  UY Aur ...            0                      UYAUR\n",
       "    1               V0856 Sco ...            0                    V856SCO\n",
       "    1               V0892 Tau ...            0                    V892TAU\n",
       "    1 2MASS J21011948-5943447 ...            0              VHSJ2101-5943\n",
       "    1                 IC 1623 ...            1                      VV114\n",
       "    1                   W Com ...            1                     WCOMAE\n",
       "    1              XRF 020903 ...            0                  XRF020903"
      ]
     },
     "execution_count": 57,
     "metadata": {},
     "output_type": "execute_result"
    }
   ],
   "source": [
    "nedResult"
   ]
  },
  {
   "cell_type": "code",
   "execution_count": 59,
   "metadata": {},
   "outputs": [],
   "source": [
    "# store rows without matching name in NED\n",
    "queryResultsNoNED = setdiff(testQuery, nedResult,\n",
    "                                         keys='ALMA sanitized source name')"
   ]
  },
  {
   "cell_type": "code",
   "execution_count": 60,
   "metadata": {},
   "outputs": [],
   "source": [
    "# remove rows without redshifts in NED\n",
    "blankZinds = nedResult['Redshift'].mask.nonzero()\n",
    "blankZnames = nedResult['ALMA sanitized source name'][blankZinds]\n",
    "nedResult.remove_rows(blankZinds)"
   ]
  },
  {
   "cell_type": "code",
   "execution_count": 62,
   "metadata": {},
   "outputs": [],
   "source": [
    "# store rows with matching name in NED but no z\n",
    "# (this seems like a dumb approach)\n",
    "blankZinds = list()\n",
    "for i,row in enumerate(testQuery):\n",
    "    if row['ALMA sanitized source name'] in blankZnames:\n",
    "        blankZinds.append(i)\n",
    "queryResultsNoNEDz = testQuery[blankZinds]"
   ]
  },
  {
   "cell_type": "code",
   "execution_count": 63,
   "metadata": {},
   "outputs": [],
   "source": [
    "# rectify this naming difference between NED and ALMA\n",
    "nedResult.rename_column('DEC', 'Dec')\n"
   ]
  },
  {
   "cell_type": "code",
   "execution_count": 64,
   "metadata": {},
   "outputs": [],
   "source": [
    "# keep redshifts, positions too if we wanna check later\n",
    "nedResult.keep_columns(['Object Name', 'RA', 'Dec', 'Redshift',\n",
    "                        'ALMA sanitized source name'])\n",
    "\n"
   ]
  },
  {
   "cell_type": "code",
   "execution_count": 72,
   "metadata": {},
   "outputs": [],
   "source": [
    "from astropy import units as u\n",
    "import string\n",
    "\n",
    "def parseFrequencyRanges(queryResults):\n",
    "    \"\"\"parse frequency ranges for payload query\"\"\"\n",
    "    targetFreqRanges = list()\n",
    "    freqUnit = queryResults['Frequency support'].unit\n",
    "    for i in range(len(queryResults)):\n",
    "        freqStr = queryResults['Frequency support'][i]\n",
    "        freqStr = freqStr.split('U')\n",
    "        rowFreqRanges = list()\n",
    "        for j in range(len(freqStr)):\n",
    "            freqRange = freqStr[j].split(',')\n",
    "            freqRange = freqRange[0].strip(' [')\n",
    "            freqRange = freqRange.split('..')\n",
    "            freqRange[1] = freqRange[1].strip(string.ascii_letters)\n",
    "            freqRange = np.array(freqRange, dtype='float')\n",
    "            rowFreqRanges.append(freqRange)\n",
    "        targetFreqRanges.append(rowFreqRanges)\n",
    "    queryResults['Frequency ranges'] = targetFreqRanges\n",
    "    queryResults['Frequency ranges'].unit = freqUnit\n",
    "    "
   ]
  },
  {
   "cell_type": "code",
   "execution_count": 73,
   "metadata": {},
   "outputs": [
    {
     "data": {
      "text/html": [
       "<i>Table masked=True length=1689</i>\n",
       "<table id=\"table4730746528\" class=\"table-striped table-bordered table-condensed\">\n",
       "<thead><tr><th>Project code</th><th>Source name</th><th>RA</th><th>Dec</th><th>Galactic longitude</th><th>Galactic latitude</th><th>Band</th><th>Spatial resolution</th><th>Frequency resolution</th><th>Array</th><th>Mosaic</th><th>Integration</th><th>Release date</th><th>Frequency support</th><th>Velocity resolution</th><th>Pol products</th><th>Observation date</th><th>PI name</th><th>SB name</th><th>Proposal authors</th><th>Line sensitivity (10 km/s)</th><th>Continuum sensitivity</th><th>PWV</th><th>Group ous id</th><th>Member ous id</th><th>Asdm uid</th><th>Project title</th><th>Project type</th><th>Scan intent</th><th>Field of view</th><th>Largest angular scale</th><th>QA2 Status</th><th>COUNT</th><th>Science keyword</th><th>Scientific category</th><th>ASA_PROJECT_CODE</th><th>ALMA sanitized source name</th><th>Frequency ranges</th></tr></thead>\n",
       "<thead><tr><th></th><th></th><th>deg</th><th>deg</th><th>deg</th><th>deg</th><th></th><th></th><th>kHz</th><th></th><th></th><th>s</th><th></th><th>GHz</th><th>m / s</th><th></th><th></th><th></th><th></th><th></th><th></th><th>mJy/beam</th><th>mm</th><th></th><th></th><th></th><th></th><th></th><th></th><th>arcs</th><th>arcs</th><th></th><th></th><th></th><th></th><th></th><th></th><th>GHz</th></tr></thead>\n",
       "<thead><tr><th>bytes64</th><th>bytes256</th><th>float64</th><th>float64</th><th>float64</th><th>float64</th><th>object</th><th>float64</th><th>float64</th><th>object</th><th>object</th><th>float64</th><th>object</th><th>bytes2700</th><th>float64</th><th>bytes64</th><th>object</th><th>bytes256</th><th>bytes128</th><th>bytes512</th><th>float64</th><th>float64</th><th>float32</th><th>bytes64</th><th>bytes64</th><th>bytes32</th><th>bytes256</th><th>bytes16</th><th>bytes256</th><th>float64</th><th>float64</th><th>bytes1</th><th>int64</th><th>bytes200</th><th>bytes200</th><th>bytes64</th><th>bytes29</th><th>object</th></tr></thead>\n",
       "<tr><td>2011.0.00957.S</td><td>SPT_0103-45</td><td>15.797875000000001</td><td>-45.64827777777778</td><td>296.5034970667741</td><td>-71.3330336577803</td><td>[3]</td><td>8.004940808270794</td><td>976.657768509833</td><td>12m</td><td></td><td>151.2</td><td>2013-04-25</td><td>[91.67..93.55GHz,976.66kHz,7.4mJy/beam@10km/s,300.4uJy/beam@native, XX YY] U [93.55..95.42GHz,976.66kHz,7.3mJy/beam@10km/s,301.1uJy/beam@native, XX YY] U [103.67..105.55GHz,976.66kHz,7.3mJy/beam@10km/s,313.2uJy/beam@native, XX YY] U [105.55..107.42GHz,976.66kHz,7.3mJy/beam@10km/s,318.9uJy/beam@native, XX YY]</td><td>2725.895948314194</td><td>XX YY</td><td>2011-11-19 03:43:05</td><td>Weiss, Axel</td><td>Tuning3_1-2HA</td><td>Chapman, Scott; Brodwin, Mark; Greve, Thomas; Hezaveh, Yashar; Sharon, Keren; Ashby, Matthew; Menten, Karl; Carlstrom, John; Marrone, Dan; De Breuck, Carlos; Rosenman, Michael; Holzapfel, William; Vieira, Joaquin; Crawford, Thomas; Lupu, Roxana; Fassnacht, Chris; Holder, Gilbert; Aguirre, James;</td><td>7.260172793218402</td><td>0.1540486568273702</td><td>4.0281453</td><td></td><td>uid://A001/X74/X291</td><td>uid://A002/X321719/X723</td><td>The ALMA-SPT Redshift Survey</td><td>S</td><td>TARGET WVR</td><td>63.28655495409857</td><td>32.80138244373298</td><td>Y</td><td>14</td><td>Sub-mm Galaxies (SMG), Gravitational lenses</td><td>Galaxy evolution</td><td>2011.0.00957.S</td><td>SPT0103-45</td><td>[array([91.67, 93.55]), array([93.55, 95.42]), array([103.67, 105.55]), array([105.55, 107.42])]</td></tr>\n",
       "<tr><td>2011.0.00957.S</td><td>SPT_0103-45</td><td>15.797875000000001</td><td>-45.64827777777778</td><td>296.5034970667741</td><td>-71.3330336577803</td><td>[3]</td><td>10.727745046324552</td><td>976.6579716976725</td><td>12m</td><td></td><td>151.2</td><td>2013-04-25</td><td>[95.42..97.30GHz,976.66kHz,7.3mJy/beam@10km/s,304.2uJy/beam@native, XX YY] U [97.30..99.17GHz,976.66kHz,7.2mJy/beam@10km/s,303uJy/beam@native, XX YY] U [107.42..109.30GHz,976.66kHz,7.5mJy/beam@10km/s,327.9uJy/beam@native, XX YY] U [109.30..111.17GHz,976.66kHz,7.8mJy/beam@10km/s,343.8uJy/beam@native, XX YY]</td><td>2633.9398359361962</td><td>XX YY</td><td>2011-11-19 04:46:11</td><td>Weiss, Axel</td><td>Tuning4_1-2HA</td><td>Chapman, Scott; Brodwin, Mark; Greve, Thomas; Hezaveh, Yashar; Sharon, Keren; Ashby, Matthew; Menten, Karl; Carlstrom, John; Marrone, Dan; De Breuck, Carlos; Rosenman, Michael; Holzapfel, William; Vieira, Joaquin; Crawford, Thomas; Lupu, Roxana; Fassnacht, Chris; Holder, Gilbert; Aguirre, James;</td><td>7.468943547865293</td><td>0.15921203104645965</td><td>4.161038</td><td></td><td>uid://A001/X74/X293</td><td>uid://A002/X321719/X826</td><td>The ALMA-SPT Redshift Survey</td><td>S</td><td>TARGET WVR</td><td>60.988833626470466</td><td>43.958459712754184</td><td>Y</td><td>14</td><td>Sub-mm Galaxies (SMG), Gravitational lenses</td><td>Galaxy evolution</td><td>2011.0.00957.S</td><td>SPT0103-45</td><td>[array([95.42, 97.3 ]), array([97.3 , 99.17]), array([107.42, 109.3 ]), array([109.3 , 111.17])]</td></tr>\n",
       "<tr><td>2011.0.00957.S</td><td>SPT_0113-46</td><td>18.285375</td><td>-46.2963611111111</td><td>291.725192459293</td><td>-70.35680731865747</td><td>[3]</td><td>7.806784683409882</td><td>976.657768509833</td><td>12m</td><td></td><td>151.2</td><td>2013-04-25</td><td>[91.67..93.55GHz,976.66kHz,7.4mJy/beam@10km/s,300.6uJy/beam@native, XX YY] U [93.55..95.42GHz,976.66kHz,7.3mJy/beam@10km/s,301.3uJy/beam@native, XX YY] U [103.67..105.55GHz,976.66kHz,7.3mJy/beam@10km/s,313.5uJy/beam@native, XX YY] U [105.55..107.42GHz,976.66kHz,7.3mJy/beam@10km/s,319.2uJy/beam@native, XX YY]</td><td>2725.895948314194</td><td>XX YY</td><td>2011-11-19 03:43:05</td><td>Weiss, Axel</td><td>Tuning3_1-2HA</td><td>Chapman, Scott; Brodwin, Mark; Greve, Thomas; Hezaveh, Yashar; Sharon, Keren; Ashby, Matthew; Menten, Karl; Carlstrom, John; Marrone, Dan; De Breuck, Carlos; Rosenman, Michael; Holzapfel, William; Vieira, Joaquin; Crawford, Thomas; Lupu, Roxana; Fassnacht, Chris; Holder, Gilbert; Aguirre, James;</td><td>7.266922806270144</td><td>0.15418158889140254</td><td>4.0281453</td><td></td><td>uid://A001/X74/X291</td><td>uid://A002/X321719/X723</td><td>The ALMA-SPT Redshift Survey</td><td>S</td><td>TARGET WVR</td><td>63.28655495409857</td><td>31.989409564631213</td><td>Y</td><td>14</td><td>Sub-mm Galaxies (SMG), Gravitational lenses</td><td>Galaxy evolution</td><td>2011.0.00957.S</td><td>SPT0113-46</td><td>[array([91.67, 93.55]), array([93.55, 95.42]), array([103.67, 105.55]), array([105.55, 107.42])]</td></tr>\n",
       "<tr><td>2011.0.00957.S</td><td>SPT_0113-46</td><td>18.285375</td><td>-46.2963611111111</td><td>291.725192459293</td><td>-70.35680731865747</td><td>[3]</td><td>10.173636104942148</td><td>976.6579716976725</td><td>12m</td><td></td><td>151.2</td><td>2013-04-25</td><td>[95.42..97.30GHz,976.66kHz,7.4mJy/beam@10km/s,304.5uJy/beam@native, XX YY] U [97.30..99.17GHz,976.66kHz,7.3mJy/beam@10km/s,303.3uJy/beam@native, XX YY] U [107.42..109.30GHz,976.66kHz,7.5mJy/beam@10km/s,328.3uJy/beam@native, XX YY] U [109.30..111.17GHz,976.66kHz,7.8mJy/beam@10km/s,344.3uJy/beam@native, XX YY]</td><td>2633.9398359361962</td><td>XX YY</td><td>2011-11-19 04:46:11</td><td>Weiss, Axel</td><td>Tuning4_1-2HA</td><td>Chapman, Scott; Brodwin, Mark; Greve, Thomas; Hezaveh, Yashar; Sharon, Keren; Ashby, Matthew; Menten, Karl; Carlstrom, John; Marrone, Dan; De Breuck, Carlos; Rosenman, Michael; Holzapfel, William; Vieira, Joaquin; Crawford, Thomas; Lupu, Roxana; Fassnacht, Chris; Holder, Gilbert; Aguirre, James;</td><td>7.477244332188736</td><td>0.15936862933588364</td><td>4.161038</td><td></td><td>uid://A001/X74/X293</td><td>uid://A002/X321719/X826</td><td>The ALMA-SPT Redshift Survey</td><td>S</td><td>TARGET WVR</td><td>60.988833626470466</td><td>41.68791958796063</td><td>Y</td><td>14</td><td>Sub-mm Galaxies (SMG), Gravitational lenses</td><td>Galaxy evolution</td><td>2011.0.00957.S</td><td>SPT0113-46</td><td>[array([95.42, 97.3 ]), array([97.3 , 99.17]), array([107.42, 109.3 ]), array([109.3 , 111.17])]</td></tr>\n",
       "<tr><td>2011.0.00957.S</td><td>SPT_0125-47</td><td>21.279458333333338</td><td>-47.39902777777778</td><td>287.1112089670969</td><td>-68.68132053101337</td><td>[3]</td><td>7.654228001630472</td><td>976.657768509833</td><td>12m</td><td></td><td>151.2</td><td>2013-04-25</td><td>[91.67..93.55GHz,976.66kHz,7.4mJy/beam@10km/s,301uJy/beam@native, XX YY] U [93.55..95.42GHz,976.66kHz,7.4mJy/beam@10km/s,301.7uJy/beam@native, XX YY] U [103.67..105.55GHz,976.66kHz,7.3mJy/beam@10km/s,314uJy/beam@native, XX YY] U [105.55..107.42GHz,976.66kHz,7.3mJy/beam@10km/s,319.8uJy/beam@native, XX YY]</td><td>2725.895948314194</td><td>XX YY</td><td>2011-11-19 03:43:05</td><td>Weiss, Axel</td><td>Tuning3_1-2HA</td><td>Chapman, Scott; Brodwin, Mark; Greve, Thomas; Hezaveh, Yashar; Sharon, Keren; Ashby, Matthew; Menten, Karl; Carlstrom, John; Marrone, Dan; De Breuck, Carlos; Rosenman, Michael; Holzapfel, William; Vieira, Joaquin; Crawford, Thomas; Lupu, Roxana; Fassnacht, Chris; Holder, Gilbert; Aguirre, James;</td><td>7.278982907678761</td><td>0.15441907905567298</td><td>4.0281453</td><td></td><td>uid://A001/X74/X291</td><td>uid://A002/X321719/X723</td><td>The ALMA-SPT Redshift Survey</td><td>S</td><td>TARGET WVR</td><td>63.28655495409857</td><td>31.364286883121427</td><td>Y</td><td>14</td><td>Sub-mm Galaxies (SMG), Gravitational lenses</td><td>Galaxy evolution</td><td>2011.0.00957.S</td><td>SPT0125-47</td><td>[array([91.67, 93.55]), array([93.55, 95.42]), array([103.67, 105.55]), array([105.55, 107.42])]</td></tr>\n",
       "<tr><td>2011.0.00957.S</td><td>SPT_0125-47</td><td>21.279458333333338</td><td>-47.39902777777778</td><td>287.1112089670969</td><td>-68.68132053101337</td><td>[3]</td><td>9.676980740034256</td><td>976.6579716976725</td><td>12m</td><td></td><td>151.2</td><td>2013-04-25</td><td>[95.42..97.30GHz,976.66kHz,7.4mJy/beam@10km/s,304.9uJy/beam@native, XX YY] U [97.30..99.17GHz,976.66kHz,7.3mJy/beam@10km/s,303.7uJy/beam@native, XX YY] U [107.42..109.30GHz,976.66kHz,7.5mJy/beam@10km/s,328.9uJy/beam@native, XX YY] U [109.30..111.17GHz,976.66kHz,7.8mJy/beam@10km/s,345.1uJy/beam@native, XX YY]</td><td>2633.9398359361962</td><td>XX YY</td><td>2011-11-19 04:46:11</td><td>Weiss, Axel</td><td>Tuning4_1-2HA</td><td>Chapman, Scott; Brodwin, Mark; Greve, Thomas; Hezaveh, Yashar; Sharon, Keren; Ashby, Matthew; Menten, Karl; Carlstrom, John; Marrone, Dan; De Breuck, Carlos; Rosenman, Michael; Holzapfel, William; Vieira, Joaquin; Crawford, Thomas; Lupu, Roxana; Fassnacht, Chris; Holder, Gilbert; Aguirre, James;</td><td>7.4920762739350435</td><td>0.15964838269865667</td><td>4.161038</td><td></td><td>uid://A001/X74/X293</td><td>uid://A002/X321719/X826</td><td>The ALMA-SPT Redshift Survey</td><td>S</td><td>TARGET WVR</td><td>60.988833626470466</td><td>39.65280365677929</td><td>Y</td><td>14</td><td>Sub-mm Galaxies (SMG), Gravitational lenses</td><td>Galaxy evolution</td><td>2011.0.00957.S</td><td>SPT0125-47</td><td>[array([95.42, 97.3 ]), array([97.3 , 99.17]), array([107.42, 109.3 ]), array([109.3 , 111.17])]</td></tr>\n",
       "<tr><td>2011.0.00957.S</td><td>SPT_0125-50</td><td>21.45629166666667</td><td>-50.63905555555556</td><td>289.6681152952509</td><td>-65.59444802712612</td><td>[3]</td><td>8.142043542711383</td><td>976.657768509833</td><td>12m</td><td></td><td>151.2</td><td>2013-04-25</td><td>[91.67..93.55GHz,976.66kHz,7.4mJy/beam@10km/s,302.4uJy/beam@native, XX YY] U [93.55..95.42GHz,976.66kHz,7.4mJy/beam@10km/s,303.1uJy/beam@native, XX YY] U [103.67..105.55GHz,976.66kHz,7.3mJy/beam@10km/s,315.7uJy/beam@native, XX YY] U [105.55..107.42GHz,976.66kHz,7.4mJy/beam@10km/s,321.7uJy/beam@native, XX YY]</td><td>2725.895948314194</td><td>XX YY</td><td>2011-11-19 03:43:05</td><td>Weiss, Axel</td><td>Tuning3_1-2HA</td><td>Chapman, Scott; Brodwin, Mark; Greve, Thomas; Hezaveh, Yashar; Sharon, Keren; Ashby, Matthew; Menten, Karl; Carlstrom, John; Marrone, Dan; De Breuck, Carlos; Rosenman, Michael; Holzapfel, William; Vieira, Joaquin; Crawford, Thomas; Lupu, Roxana; Fassnacht, Chris; Holder, Gilbert; Aguirre, James;</td><td>7.318873984883067</td><td>0.15520447133789222</td><td>4.0281453</td><td></td><td>uid://A001/X74/X291</td><td>uid://A002/X321719/X723</td><td>The ALMA-SPT Redshift Survey</td><td>S</td><td>TARGET WVR</td><td>63.28655495409857</td><td>33.3631803800551</td><td>Y</td><td>14</td><td>Sub-mm Galaxies (SMG), Gravitational lenses</td><td>Galaxy evolution</td><td>2011.0.00957.S</td><td>SPT0125-50</td><td>[array([91.67, 93.55]), array([93.55, 95.42]), array([103.67, 105.55]), array([105.55, 107.42])]</td></tr>\n",
       "<tr><td>2011.0.00957.S</td><td>SPT_0125-50</td><td>21.45629166666667</td><td>-50.63905555555556</td><td>289.6681152952509</td><td>-65.59444802712612</td><td>[3]</td><td>10.27280537144886</td><td>976.6579716976725</td><td>12m</td><td></td><td>151.2</td><td>2013-04-25</td><td>[95.42..97.30GHz,976.66kHz,7.4mJy/beam@10km/s,306.4uJy/beam@native, XX YY] U [97.30..99.17GHz,976.66kHz,7.3mJy/beam@10km/s,305.1uJy/beam@native, XX YY] U [107.42..109.30GHz,976.66kHz,7.5mJy/beam@10km/s,331.1uJy/beam@native, XX YY] U [109.30..111.17GHz,976.66kHz,7.9mJy/beam@10km/s,347.7uJy/beam@native, XX YY]</td><td>2633.9398359361962</td><td>XX YY</td><td>2011-11-19 04:46:11</td><td>Weiss, Axel</td><td>Tuning4_1-2HA</td><td>Chapman, Scott; Brodwin, Mark; Greve, Thomas; Hezaveh, Yashar; Sharon, Keren; Ashby, Matthew; Menten, Karl; Carlstrom, John; Marrone, Dan; De Breuck, Carlos; Rosenman, Michael; Holzapfel, William; Vieira, Joaquin; Crawford, Thomas; Lupu, Roxana; Fassnacht, Chris; Holder, Gilbert; Aguirre, James;</td><td>7.541145885432841</td><td>0.16057338147508105</td><td>4.161038</td><td></td><td>uid://A001/X74/X293</td><td>uid://A002/X321719/X826</td><td>The ALMA-SPT Redshift Survey</td><td>S</td><td>TARGET WVR</td><td>60.988833626470466</td><td>42.09427974917382</td><td>Y</td><td>14</td><td>Sub-mm Galaxies (SMG), Gravitational lenses</td><td>Galaxy evolution</td><td>2011.0.00957.S</td><td>SPT0125-50</td><td>[array([95.42, 97.3 ]), array([97.3 , 99.17]), array([107.42, 109.3 ]), array([109.3 , 111.17])]</td></tr>\n",
       "<tr><td>2011.0.00957.S</td><td>SPT_0128-51</td><td>22.038916666666665</td><td>-51.49661111111111</td><td>289.51191127364234</td><td>-64.66433116613277</td><td>[3]</td><td>8.232002861990082</td><td>976.657768509833</td><td>12m</td><td></td><td>151.2</td><td>2013-04-25</td><td>[91.67..93.55GHz,976.66kHz,7.5mJy/beam@10km/s,302.8uJy/beam@native, XX YY] U [93.55..95.42GHz,976.66kHz,7.4mJy/beam@10km/s,303.5uJy/beam@native, XX YY] U [103.67..105.55GHz,976.66kHz,7.3mJy/beam@10km/s,316.2uJy/beam@native, XX YY] U [105.55..107.42GHz,976.66kHz,7.4mJy/beam@10km/s,322.3uJy/beam@native, XX YY]</td><td>2725.895948314194</td><td>XX YY</td><td>2011-11-19 03:43:05</td><td>Weiss, Axel</td><td>Tuning3_1-2HA</td><td>Chapman, Scott; Brodwin, Mark; Greve, Thomas; Hezaveh, Yashar; Sharon, Keren; Ashby, Matthew; Menten, Karl; Carlstrom, John; Marrone, Dan; De Breuck, Carlos; Rosenman, Michael; Holzapfel, William; Vieira, Joaquin; Crawford, Thomas; Lupu, Roxana; Fassnacht, Chris; Holder, Gilbert; Aguirre, James;</td><td>7.330619927177622</td><td>0.15543568622610568</td><td>4.0281453</td><td></td><td>uid://A001/X74/X291</td><td>uid://A002/X321719/X723</td><td>The ALMA-SPT Redshift Survey</td><td>S</td><td>TARGET WVR</td><td>63.28655495409857</td><td>33.731801473791336</td><td>Y</td><td>14</td><td>Sub-mm Galaxies (SMG), Gravitational lenses</td><td>Galaxy evolution</td><td>2011.0.00957.S</td><td>SPT0128-51</td><td>[array([91.67, 93.55]), array([93.55, 95.42]), array([103.67, 105.55]), array([105.55, 107.42])]</td></tr>\n",
       "<tr><td>...</td><td>...</td><td>...</td><td>...</td><td>...</td><td>...</td><td>...</td><td>...</td><td>...</td><td>...</td><td>...</td><td>...</td><td>...</td><td>...</td><td>...</td><td>...</td><td>...</td><td>...</td><td>...</td><td>...</td><td>...</td><td>...</td><td>...</td><td>...</td><td>...</td><td>...</td><td>...</td><td>...</td><td>...</td><td>...</td><td>...</td><td>...</td><td>...</td><td>...</td><td>...</td><td>...</td><td>...</td><td>...</td></tr>\n",
       "<tr><td>2017.1.01676.S</td><td>HS1442</td><td>221.22362500000875</td><td>29.318222222222463</td><td>44.65335892888089</td><td>64.97302242411301</td><td>[3]</td><td>1.8003203944014459</td><td>31248.673554400877</td><td>12m</td><td></td><td>816.48</td><td>2019-04-25</td><td>[91.42..93.40GHz,31248.67kHz,1.1mJy/beam@10km/s,44.1uJy/beam@native, XX YY] U [93.36..95.34GHz,31248.67kHz,1.1mJy/beam@10km/s,44.3uJy/beam@native, XX YY] U [103.42..105.40GHz,31248.67kHz,1.1mJy/beam@10km/s,46.7uJy/beam@native, XX YY] U [105.42..107.40GHz,31248.67kHz,1.1mJy/beam@10km/s,47.9uJy/beam@native, XX YY]</td><td>87220.9201363223</td><td>XX YY</td><td>2018-04-23 05:21:50</td><td>Ross, Colin</td><td>HS1442_a_03_TM1</td><td>Geach, James; Chapman, Scott; Bertoldi, Frank; Serjeant, Stephen; Gao, Yu; Babul, Arif; Matsuda, Yuichi; Smail, Ian; Wang, Ran; Lacaille, Kevin; Steidel, Charles; Ivison, Rob; Sargent, Mark; Wang, Wei-Hao; Webb, Tracy; Yang, Yujin; Scott, Douglas; Ao, Yiping;</td><td>1.1182186079780483</td><td>0.022823050666738964</td><td>2.8672566</td><td>uid://A001/X12cc/X87</td><td>uid://A001/X12cc/X88</td><td>uid://A002/Xcc626d/X9d08</td><td>ALMA followup to the S2-WEB survey: Constraining the fraction of molecular outflows in the most luminous QSOs</td><td>S</td><td>TARGET</td><td>63.37367959158785</td><td>10.613799367699485</td><td>Y</td><td>0</td><td>Active Galactic Nuclei (AGN)/Quasars (QSO), Merging and interacting galaxies</td><td>Active galaxies</td><td>2017.1.01676.S</td><td>HS1442</td><td>[array([91.42, 93.4 ]), array([93.36, 95.34]), array([103.42, 105.4 ]), array([105.42, 107.4 ])]</td></tr>\n",
       "<tr><td>2017.1.00271.S</td><td>Ridge_center</td><td>84.92211047123145</td><td>-70.12720509058221</td><td>280.6496644854789</td><td>-31.466823753041744</td><td>[3]</td><td>50.57240246772627</td><td>122.07567991056972</td><td>TP</td><td></td><td>71032.032</td><td>2019-04-25</td><td>[97.84..97.96GHz,122.08kHz,14.3mJy/beam@10km/s,2.3mJy/beam@native, XX YY] U [97.94..99.94GHz,1953.22kHz,14.3mJy/beam@10km/s,580.4uJy/beam@native, XX YY] U [109.63..109.75GHz,122.08kHz,15.6mJy/beam@10km/s,2.7mJy/beam@native, XX YY] U [110.05..110.17GHz,122.08kHz,15.8mJy/beam@10km/s,2.7mJy/beam@native, XX YY]</td><td>332.19889412631005</td><td>XX YY</td><td>2018-01-09 01:34:59</td><td>Indebetouw, Remy</td><td>Ridge_ce_b_03_TP</td><td>Onishi, Toshikazu; Chen, Rosie; Ott, Juergen; Zahorecz, Sarolta; Tokuda, Kazuki; Wong, Tony;</td><td>15.600045885314275</td><td>0.5396926842875832</td><td>2.9391875</td><td>uid://A001/X1273/X2ea</td><td>uid://A001/X12a3/X1bb</td><td>uid://A002/Xc8ed16/X9980</td><td>Why is ~ 1/4 of the LMC&apos;s molecular gas not forming massive stars?</td><td>S</td><td>TARGET</td><td>60.57435965098994</td><td>896.4206435610785</td><td>Y</td><td>0</td><td>High-mass star formation, Inter-Stellar Medium (ISM)/Molecular clouds</td><td>ISM and star formation</td><td>2017.1.00271.S</td><td>RIDGECENTER</td><td>[array([97.84, 97.96]), array([97.94, 99.94]), array([109.63, 109.75]), array([110.05, 110.17])]</td></tr>\n",
       "<tr><td>2017.1.01616.S</td><td>SN2006tf</td><td>191.56587499998332</td><td>11.432055560000528</td><td>298.2540377388665</td><td>74.2567388041428</td><td>[3]</td><td>1.03121923494801</td><td>976.5299740541279</td><td>12m</td><td></td><td>3931.2</td><td>2019-04-25</td><td>[92.50..94.49GHz,31249.54kHz,711.3uJy/beam@10km/s,28.1uJy/beam@native, XX YY] U [94.26..96.24GHz,31249.54kHz,705.6uJy/beam@10km/s,28.1uJy/beam@native, XX YY] U [104.40..106.38GHz,31249.54kHz,705uJy/beam@10km/s,29.6uJy/beam@native, XX YY] U [106.39..108.26GHz,976.55kHz,716.1uJy/beam@10km/s,31.3uJy/beam@native, XX YY]</td><td>2703.9997734523813</td><td>XX YY</td><td>2018-03-18 05:07:36</td><td>Kim, Sam</td><td>SN2006tf_a_03_TM1</td><td>König, Sabine; Kruehler, Thomas; Schulze, Steve; Amorin, Ricardo; Michalowski, Michal; Thöne, Christina; Bauer, Franz; de Ugarte Postigo, Antonio; Leloudas, Giorgos; Ibar, Edo;</td><td>0.7049746789375838</td><td>0.014589608786997657</td><td>4.7876916</td><td>uid://A001/X1273/X46e</td><td>uid://A001/X1273/X46f</td><td>uid://A002/Xca795f/X214c</td><td>Superluminous Supernova Host galaxies in CO - Assessing Molecular Gas in Nascent Starbursts</td><td>S</td><td>TARGET</td><td>62.759518956947545</td><td>9.233810614816875</td><td>Y</td><td>0</td><td>Starburst galaxies</td><td>Active galaxies</td><td>2017.1.01616.S</td><td>SN2006TF</td><td>[array([92.5 , 94.49]), array([94.26, 96.24]), array([104.4 , 106.38]), array([106.39, 108.26])]</td></tr>\n",
       "<tr><td>2017.1.00051.S</td><td>GRS_1915+105</td><td>288.7981085197454</td><td>10.94574607080332</td><td>45.36572598095569</td><td>-0.21907992248395228</td><td>[3]</td><td>1.6938422946051965</td><td>31245.51094998715</td><td>12m</td><td></td><td>3113.856</td><td>2019-04-27</td><td>[89.49..91.47GHz,31245.51kHz,509uJy/beam@10km/s,19.8uJy/beam@native, XX YY] U [91.43..93.41GHz,31245.51kHz,502uJy/beam@10km/s,19.7uJy/beam@native, XX YY] U [101.49..103.47GHz,31245.51kHz,483.8uJy/beam@10km/s,20uJy/beam@native, XX YY] U [103.49..105.47GHz,31245.51kHz,484.4uJy/beam@10km/s,20.2uJy/beam@native, XX YY]</td><td>88799.46930936063</td><td>XX YY</td><td>2018-04-19 07:44:39</td><td>Casella, Piergiorgio</td><td>GRS_1915_c_03_TM1</td><td>Miller-Jones, James; Vincentelli, Federico Maria; Belloni, Tomaso; Diaz Trigo, Maria; Sivakoff, Gregory;</td><td>0.4843919336744103</td><td>0.009961596379823459</td><td>0.8909945</td><td>uid://A001/X1284/Xaaa</td><td>uid://A001/X1284/Xaab</td><td>uid://A002/Xcc3ae3/X6cf6</td><td>Constraining jet physics with multi-lambda variability studies of GRS 1915+105</td><td>S</td><td>TARGET</td><td>64.62826390599761</td><td>9.795003464107912</td><td>Y</td><td>0</td><td>Black holes</td><td>Stars and stellar evolution</td><td>2017.1.00051.S</td><td>GRS1915+105</td><td>[array([89.49, 91.47]), array([91.43, 93.41]), array([101.49, 103.47]), array([103.49, 105.47])]</td></tr>\n",
       "<tr><td>2017.1.01355.L</td><td>G333.60</td><td>245.53899999997628</td><td>-50.099694444452496</td><td>333.6040259667905</td><td>-0.21207242911865257</td><td>[3]</td><td>53.33598647365587</td><td>122.0588555098436</td><td>TP</td><td></td><td>37094.4</td><td>2019-04-29</td><td>[91.71..92.71GHz,976.49kHz,13.7mJy/beam@10km/s,760.8uJy/beam@native, XX YY] U [93.13..93.25GHz,122.06kHz,13.7mJy/beam@10km/s,2.2mJy/beam@native, XX YY] U [102.12..103.12GHz,976.49kHz,13.6mJy/beam@10km/s,797.9uJy/beam@native, XX YY] U [104.52..105.52GHz,976.49kHz,13.8mJy/beam@10km/s,814.3uJy/beam@native, XX YY]</td><td>392.37226673139884</td><td>XX YY</td><td>2018-01-26 09:41:48</td><td>Motte, Frederique</td><td>G333.60_a_03_TP</td><td>Nguyen Luong, Quang; Bronfman, Leonardo; Hennebelle, Patrick; Galvan-Madrid, Roberto; Nakamura, Fumitaka; Bally, John; Menten, Karl; Finger, Ricardo; Lu, Xing; Molet, Jordan; Braine, Jonathan; Ohashi, Satoshi; Herpin, Fabrice; Rosolowsky, Erik; Gusdorf, Antoine; Chen, Vivien; Svoboda, Brian; Sakai, Takeshi; Guzman, Andres Ernesto; Ladjelate, Bilal; Reyes, Nicolas; Nony, Thomas; Marsh, Kenneth; Battersby, Cara; Gomez, Gilberto; Csengeri, Timea; Di Francesco, James; Bontemps, Sylvain; López-Sepulcre, Ana; Ta</td><td>13.75812000440658</td><td>0.4462726232283303</td><td>5.3726788</td><td>uid://A001/X1296/X1a2</td><td>uid://A001/X1296/X1a9</td><td>uid://A002/Xc99ad7/Xa232</td><td>ALMA-IMF: ALMA transforms our view of the origin of stellar masses</td><td>L</td><td>TARGET</td><td>63.88458380396162</td><td>945.4075954801879</td><td>Y</td><td>0</td><td>High-mass star formation, Low-mass star formation</td><td>ISM and star formation</td><td>2017.1.01355.L</td><td>G333.60</td><td>[array([91.71, 92.71]), array([93.13, 93.25]), array([102.12, 103.12]), array([104.52, 105.52])]</td></tr>\n",
       "<tr><td>2017.1.00025.S</td><td>HATLAS_J143430.9+004133</td><td>218.62874999995728</td><td>0.6925000000002326</td><td>350.32414787913444</td><td>53.79733100879668</td><td>[3]</td><td>1.7383409241715013</td><td>1952.9904619728904</td><td>12m</td><td></td><td>151.2</td><td>2019-04-30</td><td>[93.80..95.79GHz,31247.85kHz,2.4mJy/beam@10km/s,95.1uJy/beam@native, XX YY] U [95.67..97.66GHz,31247.85kHz,2.4mJy/beam@10km/s,95.5uJy/beam@native, XX YY] U [105.87..107.86GHz,31247.85kHz,2.4mJy/beam@10km/s,101.2uJy/beam@native, XX YY] U [106.93..108.80GHz,1952.99kHz,2.4mJy/beam@10km/s,106.1uJy/beam@native, XX YY]</td><td>5380.769302494959</td><td>XX YY</td><td>2018-04-10 04:07:54</td><td>Vlahakis, Catherine</td><td>HATLAS_J_a_03_TM1</td><td>Valiante, Elisabetta; Smith, Matthew; Oteo, Ivan; Gomez, Haley; van Kampen, Eelco; Serjeant, Stephen; Dunne, Loretta; Cigan, Phil; Rowlands, Kate; van der Werf, Paul; Ibar, Edo; Ivison, Rob; Eales, Stephen; Smith, Daniel; Papadopoulos, Padelis; Cooray, Asantha; Bourne, Nathan; Viaene, Sebastien; Temi, Pasquale; Hughes, Thomas; Leeuw, Lerothodi;</td><td>2.3974525247909693</td><td>0.04958099719555209</td><td>4.7583475</td><td>uid://A001/X1284/X152b</td><td>uid://A001/X1284/X152c</td><td>uid://A002/Xcbdb2a/X3612</td><td>Unveiling molecular gas in local Herschel-ATLAS galaxies</td><td>S</td><td>TARGET</td><td>62.18969193906132</td><td>9.50387007987371</td><td>Y</td><td>0</td><td>Surveys of galaxies</td><td>Galaxy evolution</td><td>2017.1.00025.S</td><td>HATLASJ143430.9+004133</td><td>[array([93.8 , 95.79]), array([95.67, 97.66]), array([105.87, 107.86]), array([106.93, 108.8 ])]</td></tr>\n",
       "<tr><td>2017.1.00025.S</td><td>HATLAS_J143701.0-010421</td><td>219.25416666662366</td><td>-1.0725000000003326</td><td>349.2125706716637</td><td>52.04877321827001</td><td>[3]</td><td>1.744979692565736</td><td>1952.9904619728904</td><td>12m</td><td></td><td>151.2</td><td>2019-04-30</td><td>[93.80..95.79GHz,31247.85kHz,2.4mJy/beam@10km/s,94.9uJy/beam@native, XX YY] U [95.67..97.66GHz,31247.85kHz,2.4mJy/beam@10km/s,95.3uJy/beam@native, XX YY] U [105.87..107.86GHz,31247.85kHz,2.4mJy/beam@10km/s,100.9uJy/beam@native, XX YY] U [106.93..108.80GHz,1952.99kHz,2.4mJy/beam@10km/s,105.8uJy/beam@native, XX YY]</td><td>5380.769302494959</td><td>XX YY</td><td>2018-04-10 04:07:54</td><td>Vlahakis, Catherine</td><td>HATLAS_J_a_03_TM1</td><td>Valiante, Elisabetta; Smith, Matthew; Oteo, Ivan; Gomez, Haley; van Kampen, Eelco; Serjeant, Stephen; Dunne, Loretta; Cigan, Phil; Rowlands, Kate; van der Werf, Paul; Ibar, Edo; Ivison, Rob; Eales, Stephen; Smith, Daniel; Papadopoulos, Padelis; Cooray, Asantha; Bourne, Nathan; Viaene, Sebastien; Temi, Pasquale; Hughes, Thomas; Leeuw, Lerothodi;</td><td>2.390844932968551</td><td>0.04945984921066412</td><td>4.7583475</td><td>uid://A001/X1284/X152b</td><td>uid://A001/X1284/X152c</td><td>uid://A002/Xcbdb2a/X3612</td><td>Unveiling molecular gas in local Herschel-ATLAS galaxies</td><td>S</td><td>TARGET</td><td>62.18969193906132</td><td>9.54016560247912</td><td>Y</td><td>0</td><td>Surveys of galaxies</td><td>Galaxy evolution</td><td>2017.1.00025.S</td><td>HATLASJ143701.0-010421</td><td>[array([93.8 , 95.79]), array([95.67, 97.66]), array([105.87, 107.86]), array([106.93, 108.8 ])]</td></tr>\n",
       "<tr><td>2017.1.00025.S</td><td>HATLAS_J144244.2+015846</td><td>220.68416666662236</td><td>1.9794444444451624</td><td>354.34030540461123</td><td>53.35680297627943</td><td>[3]</td><td>1.763115722917743</td><td>1952.9904619728904</td><td>12m</td><td></td><td>151.2</td><td>2019-04-30</td><td>[93.80..95.79GHz,31247.85kHz,2.4mJy/beam@10km/s,95.2uJy/beam@native, XX YY] U [95.67..97.66GHz,31247.85kHz,2.4mJy/beam@10km/s,95.6uJy/beam@native, XX YY] U [105.87..107.86GHz,31247.85kHz,2.4mJy/beam@10km/s,101.4uJy/beam@native, XX YY] U [106.93..108.80GHz,1952.99kHz,2.4mJy/beam@10km/s,106.3uJy/beam@native, XX YY]</td><td>5380.769302494959</td><td>XX YY</td><td>2018-04-10 04:07:54</td><td>Vlahakis, Catherine</td><td>HATLAS_J_a_03_TM1</td><td>Valiante, Elisabetta; Smith, Matthew; Oteo, Ivan; Gomez, Haley; van Kampen, Eelco; Serjeant, Stephen; Dunne, Loretta; Cigan, Phil; Rowlands, Kate; van der Werf, Paul; Ibar, Edo; Ivison, Rob; Eales, Stephen; Smith, Daniel; Papadopoulos, Padelis; Cooray, Asantha; Bourne, Nathan; Viaene, Sebastien; Temi, Pasquale; Hughes, Thomas; Leeuw, Lerothodi;</td><td>2.402696335208629</td><td>0.049677120594931054</td><td>4.7583475</td><td>uid://A001/X1284/X152b</td><td>uid://A001/X1284/X152c</td><td>uid://A002/Xcbdb2a/X3612</td><td>Unveiling molecular gas in local Herschel-ATLAS galaxies</td><td>S</td><td>TARGET</td><td>62.18969193906132</td><td>9.639319038858275</td><td>Y</td><td>0</td><td>Surveys of galaxies</td><td>Galaxy evolution</td><td>2017.1.00025.S</td><td>HATLASJ144244.2+015846</td><td>[array([93.8 , 95.79]), array([95.67, 97.66]), array([105.87, 107.86]), array([106.93, 108.8 ])]</td></tr>\n",
       "<tr><td>2017.1.00025.S</td><td>HATLAS_J144652.0+014010</td><td>221.71666666661926</td><td>1.6694444444451608</td><td>355.20175501455617</td><td>52.41292426978146</td><td>[3]</td><td>1.7756912465240864</td><td>1952.9904619728904</td><td>12m</td><td></td><td>151.2</td><td>2019-04-30</td><td>[93.80..95.79GHz,31247.85kHz,2.4mJy/beam@10km/s,95.2uJy/beam@native, XX YY] U [95.67..97.66GHz,31247.85kHz,2.4mJy/beam@10km/s,95.6uJy/beam@native, XX YY] U [105.87..107.86GHz,31247.85kHz,2.4mJy/beam@10km/s,101.4uJy/beam@native, XX YY] U [106.93..108.80GHz,1952.99kHz,2.4mJy/beam@10km/s,106.3uJy/beam@native, XX YY]</td><td>5380.769302494959</td><td>XX YY</td><td>2018-04-10 04:07:54</td><td>Vlahakis, Catherine</td><td>HATLAS_J_a_03_TM1</td><td>Valiante, Elisabetta; Smith, Matthew; Oteo, Ivan; Gomez, Haley; van Kampen, Eelco; Serjeant, Stephen; Dunne, Loretta; Cigan, Phil; Rowlands, Kate; van der Werf, Paul; Ibar, Edo; Ivison, Rob; Eales, Stephen; Smith, Daniel; Papadopoulos, Padelis; Cooray, Asantha; Bourne, Nathan; Viaene, Sebastien; Temi, Pasquale; Hughes, Thomas; Leeuw, Lerothodi;</td><td>2.4013992980350936</td><td>0.049653346479280505</td><td>4.7583475</td><td>uid://A001/X1284/X152b</td><td>uid://A001/X1284/X152c</td><td>uid://A002/Xcbdb2a/X3612</td><td>Unveiling molecular gas in local Herschel-ATLAS galaxies</td><td>S</td><td>TARGET</td><td>62.18969193906132</td><td>9.708072032519766</td><td>Y</td><td>0</td><td>Surveys of galaxies</td><td>Galaxy evolution</td><td>2017.1.00025.S</td><td>HATLASJ144652.0+014010</td><td>[array([93.8 , 95.79]), array([95.67, 97.66]), array([105.87, 107.86]), array([106.93, 108.8 ])]</td></tr>\n",
       "<tr><td>2017.1.01355.L</td><td>W51-E</td><td>290.9340833333202</td><td>14.508194368278476</td><td>49.48906730459607</td><td>-0.3890933507007016</td><td>[3]</td><td>1.6283051697926239</td><td>122.05312323889048</td><td>12m</td><td>mosaic</td><td>811.171</td><td>2019-04-30</td><td>[91.71..92.65GHz,976.43kHz,1.5mJy/beam@10km/s,84.8uJy/beam@native, XX YY] U [93.10..93.21GHz,122.05kHz,1.5mJy/beam@10km/s,240.2uJy/beam@native, XX YY] U [102.11..103.05GHz,976.43kHz,1.5mJy/beam@10km/s,87.6uJy/beam@native, XX YY] U [104.51..105.45GHz,976.43kHz,1.5mJy/beam@10km/s,89.2uJy/beam@native, XX YY]</td><td>392.485257051394</td><td>XX YY</td><td>2018-04-09 09:36:45</td><td>Motte, Frederique</td><td>W51-E_a_03_TM2</td><td>Nguyen Luong, Quang; Bronfman, Leonardo; Hennebelle, Patrick; Galvan-Madrid, Roberto; Nakamura, Fumitaka; Bally, John; Menten, Karl; Finger, Ricardo; Lu, Xing; Molet, Jordan; Braine, Jonathan; Ohashi, Satoshi; Herpin, Fabrice; Rosolowsky, Erik; Gusdorf, Antoine; Chen, Vivien; Svoboda, Brian; Sakai, Takeshi; Guzman, Andres Ernesto; Ladjelate, Bilal; Reyes, Nicolas; Nony, Thomas; Marsh, Kenneth; Battersby, Cara; Gomez, Gilberto; Csengeri, Timea; Di Francesco, James; Bontemps, Sylvain; López-Sepulcre, Ana; Ta</td><td>1.4600960893618122</td><td>0.04926080361064086</td><td>3.0635426</td><td>uid://A001/X1296/X106</td><td>uid://A001/X1296/X109</td><td>uid://A002/Xcc626d/Xb34f</td><td>ALMA-IMF: ALMA transforms our view of the origin of stellar masses</td><td>L</td><td>TARGET</td><td>127.7798970563214</td><td>9.600600229669341</td><td>Y</td><td>0</td><td>High-mass star formation, Low-mass star formation</td><td>ISM and star formation</td><td>2017.1.01355.L</td><td>W51-E</td><td>[array([91.71, 92.65]), array([93.1 , 93.21]), array([102.11, 103.05]), array([104.51, 105.45])]</td></tr>\n",
       "</table>"
      ],
      "text/plain": [
       "<Table masked=True length=1689>\n",
       " Project code  ...\n",
       "               ...\n",
       "   bytes64     ...\n",
       "-------------- ...\n",
       "2011.0.00957.S ...\n",
       "2011.0.00957.S ...\n",
       "2011.0.00957.S ...\n",
       "2011.0.00957.S ...\n",
       "2011.0.00957.S ...\n",
       "2011.0.00957.S ...\n",
       "2011.0.00957.S ...\n",
       "2011.0.00957.S ...\n",
       "2011.0.00957.S ...\n",
       "           ... ...\n",
       "2017.1.01676.S ...\n",
       "2017.1.00271.S ...\n",
       "2017.1.01616.S ...\n",
       "2017.1.00051.S ...\n",
       "2017.1.01355.L ...\n",
       "2017.1.00025.S ...\n",
       "2017.1.00025.S ...\n",
       "2017.1.00025.S ...\n",
       "2017.1.00025.S ...\n",
       "2017.1.01355.L ..."
      ]
     },
     "execution_count": 73,
     "metadata": {},
     "output_type": "execute_result"
    }
   ],
   "source": [
    "# parse frequencies\n",
    "parseFrequencyRanges(testQuery)\n",
    "\n",
    "testQuery"
   ]
  },
  {
   "cell_type": "code",
   "execution_count": 74,
   "metadata": {},
   "outputs": [],
   "source": [
    "# join NED redshift table and ALMA archive table based on name\n",
    "ALMAnedResults = join(testQuery, nedResult,\n",
    "                      keys='ALMA sanitized source name')\n",
    "\n"
   ]
  },
  {
   "cell_type": "code",
   "execution_count": 75,
   "metadata": {},
   "outputs": [],
   "source": [
    "# tidy up column names\n",
    "ALMAnedResults.rename_column('Source name', 'ALMA source name')\n",
    "ALMAnedResults.rename_column('RA_1', 'ALMA RA')\n",
    "ALMAnedResults.rename_column('Dec_1', 'ALMA Dec')\n",
    "ALMAnedResults.rename_column('Object Name', 'NED source name')\n",
    "ALMAnedResults.rename_column('RA_2', 'NED RA')\n",
    "ALMAnedResults.rename_column('Dec_2', 'NED Dec')\n",
    "ALMAnedResults.rename_column('Redshift', 'NED Redshift')"
   ]
  },
  {
   "cell_type": "code",
   "execution_count": 76,
   "metadata": {},
   "outputs": [],
   "source": [
    "def _lineObserved(target_frequency, observed_frequency_ranges, linename=\"\"):\n",
    "        \"\"\"Loop through the observed spectral windows to check if \n",
    "            target_frequency is covered by spectral setup\"\"\"\n",
    "        \n",
    "        # Initialize boolean line observed flag array (i.e., True = line frequency in archive spw coverage)\n",
    "        lineObserved = []\n",
    "        \n",
    "        # loop over spectral window frequencies for each observation\n",
    "        for spw in observed_frequency_ranges:\n",
    "            # if observed frequency is in spw, flag as True and break inner loop (move on to next observation) \n",
    "            if spw[0] <= target_frequency <= spw[-1]:\n",
    "                print(linename,\"observed frequency\", target_frequency, \"GHz\",\n",
    "                          \"in range\", spw[0], \"-\", spw[-1])\n",
    "                lineObserved.append(True) # line IS observed\n",
    "            else:\n",
    "                lineObserved.append(False) # line NOT observed\n",
    "            \n",
    "        # Boolean line observed flag for each observation \n",
    "        if True in lineObserved:\n",
    "            return True\n",
    "        else:\n",
    "            return False\n"
   ]
  },
  {
   "cell_type": "code",
   "execution_count": 77,
   "metadata": {},
   "outputs": [
    {
     "name": "stdout",
     "output_type": "stream",
     "text": [
      "C18O J=1-0 observed frequency 111.22913503290425 GHz in range 110.45 - 112.33\n",
      "C18O J=1-0 observed frequency 110.87276821225176 GHz in range 109.93 - 111.8\n",
      "C18O J=1-0 observed frequency 106.91891036046148 GHz in range 105.99 - 107.86\n",
      "C18O J=1-0 observed frequency 111.16456060223233 GHz in range 110.22 - 112.1\n",
      "C18O J=1-0 observed frequency 106.51404322242509 GHz in range 105.57 - 107.44\n",
      "12CO J=1-0 observed frequency 102.2767000439731 GHz in range 101.51 - 103.5\n",
      "13CO J=1-0 observed frequency 102.66722282053767 GHz in range 101.51 - 103.5\n",
      "12CO J=1-0 observed frequency 103.97230497055061 GHz in range 103.51 - 105.48\n",
      "13CO J=1-0 observed frequency 104.36930206965003 GHz in range 103.51 - 105.48\n",
      "C18O J=1-0 observed frequency 92.91471377456145 GHz in range 91.43 - 93.42\n",
      "C18O J=1-0 observed frequency 92.91471377456145 GHz in range 91.44 - 93.43\n",
      "12CO J=1-0 observed frequency 103.10944562629436 GHz in range 101.5 - 103.48\n",
      "13CO J=1-0 observed frequency 103.50314807248888 GHz in range 103.5 - 105.48\n",
      "12CO J=1-0 observed frequency 103.66588611898018 GHz in range 103.5 - 105.48\n",
      "13CO J=1-0 observed frequency 104.0617132200189 GHz in range 103.5 - 105.48\n",
      "12CO J=1-0 observed frequency 103.66588611898018 GHz in range 103.51 - 105.49\n",
      "13CO J=1-0 observed frequency 104.0617132200189 GHz in range 103.51 - 105.49\n",
      "C18O J=1-0 observed frequency 93.86905684039088 GHz in range 92.74 - 94.61\n",
      "C18O J=1-0 observed frequency 108.94168963235988 GHz in range 107.85 - 109.73\n",
      "C18O J=1-0 observed frequency 106.22115904902323 GHz in range 105.59 - 107.46\n",
      "C18O J=1-0 observed frequency 107.20389434290752 GHz in range 106.2 - 108.07\n",
      "C18O J=1-0 observed frequency 111.59957575757576 GHz in range 110.66 - 112.54\n",
      "C18O J=1-0 observed frequency 91.98148882859878 GHz in range 90.23 - 92.11\n",
      "C18O J=1-0 observed frequency 91.98148882859878 GHz in range 91.84 - 93.71\n",
      "C18O J=1-0 observed frequency 103.71711517005579 GHz in range 102.79 - 104.66\n",
      "C18O J=1-0 observed frequency 104.94464839766934 GHz in range 103.61 - 105.6\n",
      "C18O J=1-0 observed frequency 89.496274689441 GHz in range 88.52 - 90.51\n",
      "C18O J=1-0 observed frequency 108.9519865784499 GHz in range 108.01 - 109.89\n",
      "C18O J=1-0 observed frequency 110.04631290937574 GHz in range 109.11 - 110.99\n",
      "C18O J=1-0 observed frequency 97.99089876617933 GHz in range 96.79 - 98.78\n",
      "C18O J=1-0 observed frequency 97.99089876617933 GHz in range 97.09 - 98.96\n",
      "C18O J=1-0 observed frequency 110.35478574047605 GHz in range 109.42 - 111.29\n",
      "C18O J=1-0 observed frequency 96.42873725429834 GHz in range 95.22 - 97.21\n",
      "C18O J=1-0 observed frequency 96.42873725429834 GHz in range 95.49 - 97.36\n",
      "C18O J=1-0 observed frequency 92.55519514513838 GHz in range 91.34 - 93.32\n",
      "C18O J=1-0 observed frequency 92.55519514513838 GHz in range 91.62 - 93.5\n",
      "C18O J=1-0 observed frequency 98.07852649760274 GHz in range 96.84 - 98.82\n",
      "C18O J=1-0 observed frequency 98.07852649760274 GHz in range 97.13 - 99.0\n",
      "C18O J=1-0 observed frequency 110.11779892796993 GHz in range 109.19 - 111.06\n",
      "C18O J=1-0 observed frequency 110.22130260007496 GHz in range 109.29 - 111.16\n",
      "C18O J=1-0 observed frequency 109.7958998655069 GHz in range 108.86 - 110.73\n",
      "C18O J=1-0 observed frequency 110.55959413628796 GHz in range 109.62 - 111.5\n",
      "C18O J=1-0 observed frequency 109.3761551650683 GHz in range 108.44 - 110.31\n",
      "C18O J=1-0 observed frequency 109.16278011320536 GHz in range 108.22 - 110.09\n",
      "C18O J=1-0 observed frequency 110.35024306094041 GHz in range 109.41 - 111.28\n",
      "C18O J=1-0 observed frequency 111.2991574682723 GHz in range 110.37 - 112.25\n",
      "C18O J=1-0 observed frequency 111.65081255218291 GHz in range 110.17 - 112.05\n",
      "C18O J=1-0 observed frequency 111.65081255218291 GHz in range 110.63 - 112.63\n",
      "C18O J=1-0 observed frequency 111.91737385760902 GHz in range 110.9 - 112.9\n",
      "C18O J=1-0 observed frequency 111.91737385760902 GHz in range 111.42 - 113.3\n",
      "C18O J=1-0 observed frequency 112.82272306406371 GHz in range 111.42 - 113.3\n",
      "C18O J=1-0 observed frequency 112.73004121102116 GHz in range 111.42 - 113.3\n",
      "C18O J=1-0 observed frequency 110.51931340101017 GHz in range 109.52 - 111.52\n",
      "C18O J=1-0 observed frequency 110.51931340101017 GHz in range 109.57 - 111.45\n",
      "C18O J=1-0 observed frequency 110.51539289744427 GHz in range 109.57 - 111.45\n",
      "C18O J=1-0 observed frequency 110.51539289744427 GHz in range 109.49 - 111.49\n",
      "C18O J=1-0 observed frequency 110.8009379580812 GHz in range 110.17 - 112.05\n",
      "C18O J=1-0 observed frequency 110.8009379580812 GHz in range 109.87 - 111.87\n",
      "12CO J=1-0 observed frequency 107.82768871436345 GHz in range 106.51 - 108.49\n",
      "13CO J=1-0 observed frequency 108.23940681212345 GHz in range 106.51 - 108.49\n",
      "13CO J=1-0 observed frequency 108.23940681212345 GHz in range 107.88 - 109.87\n",
      "12CO J=1-0 observed frequency 107.82768871436345 GHz in range 106.56 - 108.44\n",
      "13CO J=1-0 observed frequency 108.23940681212345 GHz in range 106.56 - 108.44\n",
      "13CO J=1-0 observed frequency 108.23940681212345 GHz in range 107.94 - 109.81\n",
      "12CO J=1-0 observed frequency 107.82768871436345 GHz in range 106.56 - 108.44\n",
      "13CO J=1-0 observed frequency 108.23940681212345 GHz in range 106.56 - 108.44\n",
      "13CO J=1-0 observed frequency 108.23940681212345 GHz in range 107.94 - 109.81\n",
      "12CO J=1-0 observed frequency 107.82768871436345 GHz in range 106.81 - 108.68\n",
      "13CO J=1-0 observed frequency 108.23940681212345 GHz in range 106.81 - 108.68\n",
      "12CO J=1-0 observed frequency 109.58218591071295 GHz in range 109.48 - 109.71\n",
      "13CO J=1-0 observed frequency 110.00060319916155 GHz in range 109.89 - 110.12\n",
      "12CO J=1-0 observed frequency 109.58218591071295 GHz in range 109.53 - 110.47\n",
      "13CO J=1-0 observed frequency 110.00060319916155 GHz in range 109.53 - 110.47\n",
      "12CO J=1-0 observed frequency 109.58218591071295 GHz in range 109.35 - 109.82\n",
      "13CO J=1-0 observed frequency 110.00060319916155 GHz in range 109.77 - 110.23\n",
      "12CO J=1-0 observed frequency 109.58218591071295 GHz in range 109.53 - 110.47\n",
      "13CO J=1-0 observed frequency 110.00060319916155 GHz in range 109.53 - 110.47\n",
      "12CO J=1-0 observed frequency 109.58218591071295 GHz in range 108.77 - 110.64\n",
      "13CO J=1-0 observed frequency 110.00060319916155 GHz in range 108.77 - 110.64\n",
      "C18O J=1-0 observed frequency 111.3764777495751 GHz in range 110.45 - 112.33\n",
      "C18O J=1-0 observed frequency 110.06312479769775 GHz in range 109.07 - 110.94\n",
      "C18O J=1-0 observed frequency 110.06312479769775 GHz in range 109.06 - 110.94\n",
      "C18O J=1-0 observed frequency 112.25545889673911 GHz in range 111.06 - 112.94\n",
      "C18O J=1-0 observed frequency 112.25545889673911 GHz in range 111.06 - 112.94\n",
      "C18O J=1-0 observed frequency 110.34950359036607 GHz in range 109.37 - 111.25\n",
      "C18O J=1-0 observed frequency 110.81989892007725 GHz in range 109.89 - 111.77\n",
      "C18O J=1-0 observed frequency 111.94519802158081 GHz in range 111.01 - 112.88\n",
      "C18O J=1-0 observed frequency 112.35896966524648 GHz in range 111.44 - 113.31\n",
      "C18O J=1-0 observed frequency 112.22256363625743 GHz in range 111.28 - 113.16\n",
      "C18O J=1-0 observed frequency 109.73736591179977 GHz in range 108.8 - 110.68\n",
      "C18O J=1-0 observed frequency 109.34585904425107 GHz in range 108.42 - 110.29\n",
      "C18O J=1-0 observed frequency 112.37079910431844 GHz in range 111.45 - 113.32\n",
      "C18O J=1-0 observed frequency 110.47832080837047 GHz in range 109.54 - 111.41\n",
      "C18O J=1-0 observed frequency 111.90542241016935 GHz in range 110.98 - 112.86\n",
      "C18O J=1-0 observed frequency 109.10419621324267 GHz in range 108.17 - 110.04\n",
      "C18O J=1-0 observed frequency 109.10419621324267 GHz in range 108.8 - 110.78\n",
      "C18O J=1-0 observed frequency 111.43666611885035 GHz in range 110.5 - 112.37\n",
      "C18O J=1-0 observed frequency 111.3144194463597 GHz in range 110.36 - 112.24\n",
      "C18O J=1-0 observed frequency 109.09882658701315 GHz in range 108.18 - 110.05\n",
      "C18O J=1-0 observed frequency 109.33009510205902 GHz in range 108.39 - 110.27\n",
      "C18O J=1-0 observed frequency 110.50373898880595 GHz in range 109.52 - 111.39\n",
      "C18O J=1-0 observed frequency 110.50373898880595 GHz in range 109.52 - 111.39\n",
      "C18O J=1-0 observed frequency 111.31398947419247 GHz in range 110.35 - 112.22\n",
      "C18O J=1-0 observed frequency 111.31398947419247 GHz in range 110.35 - 112.22\n",
      "C18O J=1-0 observed frequency 111.37088213669095 GHz in range 110.36 - 112.23\n",
      "C18O J=1-0 observed frequency 111.37088213669095 GHz in range 110.35 - 112.23\n",
      "C18O J=1-0 observed frequency 110.11138241980781 GHz in range 109.16 - 111.03\n",
      "C18O J=1-0 observed frequency 110.11138241980781 GHz in range 109.16 - 111.03\n",
      "12CO J=1-0 observed frequency 108.57009683889063 GHz in range 107.24 - 109.11\n",
      "13CO J=1-0 observed frequency 108.98464967107216 GHz in range 107.24 - 109.11\n",
      "C18O J=1-0 observed frequency 106.78549262829273 GHz in range 105.87 - 107.74\n",
      "C18O J=1-0 observed frequency 103.21561765759313 GHz in range 102.26 - 104.13\n",
      "C18O J=1-0 observed frequency 107.39716393199771 GHz in range 106.48 - 108.36\n",
      "C18O J=1-0 observed frequency 111.83116338317029 GHz in range 110.87 - 112.74\n",
      "C18O J=1-0 observed frequency 111.83116338317029 GHz in range 110.86 - 112.74\n",
      "12CO J=1-0 observed frequency 106.5059440549264 GHz in range 105.97 - 107.84\n",
      "13CO J=1-0 observed frequency 106.9126153395404 GHz in range 105.97 - 107.84\n",
      "12CO J=1-0 observed frequency 106.5059440549264 GHz in range 104.76 - 106.63\n",
      "12CO J=1-0 observed frequency 106.5059440549264 GHz in range 106.36 - 108.24\n",
      "13CO J=1-0 observed frequency 106.9126153395404 GHz in range 106.36 - 108.24\n",
      "12CO J=1-0 observed frequency 105.2753362549266 GHz in range 104.34 - 106.22\n",
      "13CO J=1-0 observed frequency 105.67730871395557 GHz in range 104.34 - 106.22\n",
      "C18O J=1-0 observed frequency 109.91535623665645 GHz in range 108.99 - 110.86\n",
      "C18O J=1-0 observed frequency 108.24044377461958 GHz in range 107.3 - 109.17\n",
      "C18O J=1-0 observed frequency 108.24044377461958 GHz in range 107.3 - 109.17\n",
      "C18O J=1-0 observed frequency 110.34950359036607 GHz in range 109.43 - 111.3\n",
      "C18O J=1-0 observed frequency 109.96568728553481 GHz in range 109.03 - 110.9\n",
      "C18O J=1-0 observed frequency 110.56521457216495 GHz in range 109.62 - 111.49\n",
      "C18O J=1-0 observed frequency 109.87763817490827 GHz in range 108.94 - 110.82\n",
      "C18O J=1-0 observed frequency 96.94802506307822 GHz in range 96.0 - 97.88\n",
      "C18O J=1-0 observed frequency 112.31091081279631 GHz in range 111.38 - 113.25\n",
      "C18O J=1-0 observed frequency 107.96853406167078 GHz in range 106.98 - 108.85\n",
      "C18O J=1-0 observed frequency 104.81182059880413 GHz in range 103.85 - 105.73\n",
      "12CO J=1-0 observed frequency 106.89473287556524 GHz in range 105.49 - 107.36\n",
      "13CO J=1-0 observed frequency 107.3028886712132 GHz in range 105.49 - 107.36\n",
      "C18O J=1-0 observed frequency 110.53902609296037 GHz in range 109.6 - 111.48\n",
      "C18O J=1-0 observed frequency 110.53902609296037 GHz in range 109.6 - 111.47\n",
      "C18O J=1-0 observed frequency 110.51931340101017 GHz in range 109.59 - 111.46\n",
      "C18O J=1-0 observed frequency 105.6390346230686 GHz in range 104.62 - 106.5\n",
      "C18O J=1-0 observed frequency 108.85938407781661 GHz in range 107.71 - 109.58\n",
      "12CO J=1-0 observed frequency 109.59465694197229 GHz in range 108.83 - 110.71\n",
      "13CO J=1-0 observed frequency 110.01312184851719 GHz in range 108.83 - 110.71\n",
      "12CO J=1-0 observed frequency 109.59465694197229 GHz in range 108.19 - 110.06\n",
      "13CO J=1-0 observed frequency 110.01312184851719 GHz in range 108.19 - 110.06\n",
      "13CO J=1-0 observed frequency 110.01312184851719 GHz in range 109.69 - 111.56\n",
      "12CO J=1-0 observed frequency 109.59465694197229 GHz in range 108.88 - 110.76\n",
      "13CO J=1-0 observed frequency 110.01312184851719 GHz in range 108.88 - 110.76\n",
      "12CO J=1-0 observed frequency 109.59465694197229 GHz in range 108.65 - 110.52\n",
      "12CO J=1-0 observed frequency 109.59465694197229 GHz in range 109.08 - 110.95\n",
      "13CO J=1-0 observed frequency 110.01312184851719 GHz in range 108.65 - 110.52\n",
      "13CO J=1-0 observed frequency 110.01312184851719 GHz in range 109.08 - 110.95\n",
      "12CO J=1-0 observed frequency 109.59465694197229 GHz in range 108.82 - 110.82\n",
      "13CO J=1-0 observed frequency 110.01312184851719 GHz in range 108.82 - 110.82\n",
      "12CO J=1-0 observed frequency 109.59465694197229 GHz in range 108.77 - 110.77\n",
      "13CO J=1-0 observed frequency 110.01312184851719 GHz in range 108.77 - 110.77\n",
      "12CO J=1-0 observed frequency 109.59465694197229 GHz in range 108.84 - 110.71\n",
      "13CO J=1-0 observed frequency 110.01312184851719 GHz in range 108.84 - 110.71\n",
      "C18O J=1-0 observed frequency 111.75516092691731 GHz in range 110.74 - 112.62\n",
      "13CO J=1-0 observed frequency 110.15398808512342 GHz in range 110.05 - 110.16\n",
      "13CO J=1-0 observed frequency 110.15398808512342 GHz in range 110.05 - 110.16\n",
      "12CO J=1-0 observed frequency 109.24251537405219 GHz in range 108.72 - 110.6\n",
      "12CO J=1-0 observed frequency 109.24251537405219 GHz in range 108.78 - 109.71\n",
      "13CO J=1-0 observed frequency 109.65963569964377 GHz in range 108.72 - 110.6\n",
      "13CO J=1-0 observed frequency 109.65963569964377 GHz in range 108.78 - 109.71\n",
      "12CO J=1-0 observed frequency 109.24251537405219 GHz in range 108.72 - 110.6\n",
      "12CO J=1-0 observed frequency 109.24251537405219 GHz in range 108.78 - 109.71\n",
      "13CO J=1-0 observed frequency 109.65963569964377 GHz in range 108.72 - 110.6\n",
      "13CO J=1-0 observed frequency 109.65963569964377 GHz in range 108.78 - 109.71\n",
      "13CO J=1-0 observed frequency 109.7849400224947 GHz in range 109.59 - 111.46\n",
      "12CO J=1-0 observed frequency 109.36734306774406 GHz in range 109.1 - 110.05\n",
      "13CO J=1-0 observed frequency 109.7849400224947 GHz in range 109.1 - 110.05\n"
     ]
    },
    {
     "name": "stdout",
     "output_type": "stream",
     "text": [
      "12CO J=1-0 observed frequency 109.36734306774406 GHz in range 109.1 - 110.04\n",
      "13CO J=1-0 observed frequency 109.7849400224947 GHz in range 109.1 - 110.04\n",
      "12CO J=1-0 observed frequency 109.36734306774406 GHz in range 108.85 - 110.72\n",
      "13CO J=1-0 observed frequency 109.7849400224947 GHz in range 108.85 - 110.72\n",
      "12CO J=1-0 observed frequency 109.36734306774406 GHz in range 108.12 - 110.0\n",
      "12CO J=1-0 observed frequency 109.36734306774406 GHz in range 109.08 - 110.96\n",
      "13CO J=1-0 observed frequency 109.7849400224947 GHz in range 108.12 - 110.0\n",
      "13CO J=1-0 observed frequency 109.7849400224947 GHz in range 109.08 - 110.96\n",
      "12CO J=1-0 observed frequency 109.31866227196686 GHz in range 109.09 - 109.56\n",
      "13CO J=1-0 observed frequency 109.73607334900024 GHz in range 109.51 - 109.98\n",
      "12CO J=1-0 observed frequency 108.99328003907715 GHz in range 108.25 - 110.12\n",
      "13CO J=1-0 observed frequency 109.40944871023531 GHz in range 108.25 - 110.12\n",
      "12CO J=1-0 observed frequency 108.05991448297043 GHz in range 107.56 - 109.43\n",
      "13CO J=1-0 observed frequency 108.47251928759432 GHz in range 107.56 - 109.43\n",
      "12CO J=1-0 observed frequency 108.05991448297043 GHz in range 107.54 - 109.42\n",
      "13CO J=1-0 observed frequency 108.47251928759432 GHz in range 107.54 - 109.42\n",
      "12CO J=1-0 observed frequency 108.05991448297043 GHz in range 107.56 - 109.43\n",
      "13CO J=1-0 observed frequency 108.47251928759432 GHz in range 107.56 - 109.43\n",
      "12CO J=1-0 observed frequency 108.05991448297043 GHz in range 107.5 - 109.49\n",
      "13CO J=1-0 observed frequency 108.47251928759432 GHz in range 107.5 - 109.49\n",
      "12CO J=1-0 observed frequency 109.69321220490184 GHz in range 108.96 - 110.83\n",
      "13CO J=1-0 observed frequency 110.11205342467261 GHz in range 108.96 - 110.83\n",
      "12CO J=1-0 observed frequency 109.69321220490184 GHz in range 108.66 - 110.54\n",
      "13CO J=1-0 observed frequency 110.11205342467261 GHz in range 108.66 - 110.54\n",
      "12CO J=1-0 observed frequency 109.69321220490184 GHz in range 108.41 - 110.29\n",
      "12CO J=1-0 observed frequency 109.69321220490184 GHz in range 109.41 - 111.29\n",
      "13CO J=1-0 observed frequency 110.11205342467261 GHz in range 108.41 - 110.29\n",
      "13CO J=1-0 observed frequency 110.11205342467261 GHz in range 109.41 - 111.29\n",
      "12CO J=1-0 observed frequency 109.69321220490184 GHz in range 109.18 - 111.04\n",
      "13CO J=1-0 observed frequency 110.11205342467261 GHz in range 109.18 - 111.04\n",
      "12CO J=1-0 observed frequency 109.69321220490184 GHz in range 108.33 - 110.2\n",
      "13CO J=1-0 observed frequency 110.11205342467261 GHz in range 108.33 - 110.2\n",
      "13CO J=1-0 observed frequency 110.11205342467261 GHz in range 109.71 - 111.58\n",
      "12CO J=1-0 observed frequency 109.69321220490184 GHz in range 109.14 - 111.02\n",
      "13CO J=1-0 observed frequency 110.11205342467261 GHz in range 109.14 - 111.02\n",
      "12CO J=1-0 observed frequency 109.69321220490184 GHz in range 108.66 - 110.54\n",
      "13CO J=1-0 observed frequency 110.11205342467261 GHz in range 108.66 - 110.54\n",
      "12CO J=1-0 observed frequency 109.69321220490184 GHz in range 109.17 - 111.04\n",
      "13CO J=1-0 observed frequency 110.11205342467261 GHz in range 109.17 - 111.04\n",
      "12CO J=1-0 observed frequency 107.78714120346505 GHz in range 107.27 - 109.14\n",
      "13CO J=1-0 observed frequency 108.19870447880184 GHz in range 107.27 - 109.14\n",
      "12CO J=1-0 observed frequency 107.96214751715578 GHz in range 107.45 - 109.32\n",
      "13CO J=1-0 observed frequency 108.37437901850603 GHz in range 107.45 - 109.32\n",
      "12CO J=1-0 observed frequency 108.7647875770047 GHz in range 108.43 - 110.3\n",
      "13CO J=1-0 observed frequency 109.18008379617062 GHz in range 108.43 - 110.3\n",
      "12CO J=1-0 observed frequency 108.7647875770047 GHz in range 107.75 - 109.62\n",
      "13CO J=1-0 observed frequency 109.18008379617062 GHz in range 107.75 - 109.62\n",
      "12CO J=1-0 observed frequency 109.4980260224717 GHz in range 108.78 - 110.65\n",
      "13CO J=1-0 observed frequency 109.91612196350472 GHz in range 108.78 - 110.65\n",
      "12CO J=1-0 observed frequency 109.51659565553534 GHz in range 108.8 - 110.68\n",
      "13CO J=1-0 observed frequency 109.93476250093525 GHz in range 108.8 - 110.68\n",
      "12CO J=1-0 observed frequency 109.18417169164488 GHz in range 108.43 - 109.37\n",
      "12CO J=1-0 observed frequency 108.90775305075549 GHz in range 108.18 - 110.05\n",
      "13CO J=1-0 observed frequency 109.32359515450449 GHz in range 108.18 - 110.05\n",
      "12CO J=1-0 observed frequency 109.20991345350366 GHz in range 108.48 - 110.36\n",
      "13CO J=1-0 observed frequency 109.62690929529268 GHz in range 108.48 - 110.36\n",
      "12CO J=1-0 observed frequency 108.99003383409381 GHz in range 107.63 - 109.5\n",
      "13CO J=1-0 observed frequency 109.4061901102785 GHz in range 107.63 - 109.5\n",
      "13CO J=1-0 observed frequency 109.4061901102785 GHz in range 109.24 - 111.12\n",
      "12CO J=1-0 observed frequency 108.99003383409381 GHz in range 108.21 - 110.08\n",
      "13CO J=1-0 observed frequency 109.4061901102785 GHz in range 108.21 - 110.08\n",
      "12CO J=1-0 observed frequency 108.99003383409381 GHz in range 107.79 - 109.67\n",
      "13CO J=1-0 observed frequency 109.4061901102785 GHz in range 107.79 - 109.67\n",
      "12CO J=1-0 observed frequency 108.9358507753265 GHz in range 108.42 - 110.29\n",
      "13CO J=1-0 observed frequency 109.35180016452185 GHz in range 108.42 - 110.29\n",
      "C18O J=1-0 observed frequency 112.32513807847769 GHz in range 111.39 - 113.26\n",
      "12CO J=1-0 observed frequency 109.57638894156774 GHz in range 109.07 - 110.93\n",
      "13CO J=1-0 observed frequency 109.99478409546872 GHz in range 109.07 - 110.93\n",
      "12CO J=1-0 observed frequency 107.34795125728971 GHz in range 106.81 - 108.68\n",
      "13CO J=1-0 observed frequency 107.757837575146 GHz in range 106.81 - 108.68\n",
      "12CO J=1-0 observed frequency 107.36233375939695 GHz in range 106.81 - 108.68\n",
      "13CO J=1-0 observed frequency 107.7722749939122 GHz in range 106.81 - 108.68\n",
      "C18O J=1-0 observed frequency 111.5841274758166 GHz in range 110.64 - 112.52\n",
      "12CO J=1-0 observed frequency 109.73498735543717 GHz in range 109.5 - 109.97\n",
      "12CO J=1-0 observed frequency 109.73498735543717 GHz in range 109.69 - 110.62\n",
      "13CO J=1-0 observed frequency 110.15398808512342 GHz in range 109.69 - 110.62\n",
      "12CO J=1-0 observed frequency 109.86501161876055 GHz in range 109.57 - 110.07\n",
      "13CO J=1-0 observed frequency 110.28450881965003 GHz in range 110.05 - 110.55\n",
      "12CO J=1-0 observed frequency 107.15892296579729 GHz in range 106.64 - 108.52\n",
      "13CO J=1-0 observed frequency 107.5680875175699 GHz in range 106.64 - 108.52\n",
      "C18O J=1-0 observed frequency 112.51679076214273 GHz in range 111.59 - 113.46\n",
      "C18O J=1-0 observed frequency 112.51679076214273 GHz in range 111.59 - 113.46\n",
      "12CO J=1-0 observed frequency 107.15892296579729 GHz in range 106.94 - 108.8\n",
      "13CO J=1-0 observed frequency 107.5680875175699 GHz in range 106.94 - 108.8\n",
      "12CO J=1-0 observed frequency 109.54205721059438 GHz in range 108.03 - 109.9\n",
      "13CO J=1-0 observed frequency 109.96032127576353 GHz in range 109.82 - 111.7\n",
      "12CO J=1-0 observed frequency 109.54205721059438 GHz in range 107.97 - 109.96\n",
      "13CO J=1-0 observed frequency 109.96032127576353 GHz in range 109.76 - 111.75\n",
      "12CO J=1-0 observed frequency 108.01961730444341 GHz in range 107.09 - 108.96\n",
      "13CO J=1-0 observed frequency 108.43206824248735 GHz in range 107.09 - 108.96\n",
      "12CO J=1-0 observed frequency 105.24172946566291 GHz in range 103.5 - 105.48\n",
      "C18O J=1-0 observed frequency 92.91471377456145 GHz in range 91.98 - 93.85\n",
      "C18O J=1-0 observed frequency 104.52593561842582 GHz in range 103.59 - 105.47\n",
      "C18O J=1-0 observed frequency 95.42318029801325 GHz in range 94.51 - 96.38\n",
      "12CO J=1-0 observed frequency 90.33339372994323 GHz in range 89.49 - 91.48\n",
      "13CO J=1-0 observed frequency 90.6783134205546 GHz in range 89.49 - 91.48\n",
      "C18O J=1-0 observed frequency 94.84999736690528 GHz in range 93.91 - 95.78\n",
      "C18O J=1-0 observed frequency 107.44892039522745 GHz in range 106.51 - 108.38\n",
      "C18O J=1-0 observed frequency 103.84792954954953 GHz in range 102.92 - 104.79\n",
      "12CO J=1-0 observed frequency 107.62251244281013 GHz in range 107.05 - 108.93\n",
      "13CO J=1-0 observed frequency 108.033447116709 GHz in range 107.05 - 108.93\n",
      "12CO J=1-0 observed frequency 107.62251244281013 GHz in range 107.31 - 109.18\n",
      "13CO J=1-0 observed frequency 108.033447116709 GHz in range 107.31 - 109.18\n",
      "12CO J=1-0 observed frequency 107.62251244281013 GHz in range 107.05 - 108.93\n",
      "13CO J=1-0 observed frequency 108.033447116709 GHz in range 107.05 - 108.93\n",
      "12CO J=1-0 observed frequency 107.62251244281013 GHz in range 107.06 - 108.93\n",
      "13CO J=1-0 observed frequency 108.033447116709 GHz in range 107.06 - 108.93\n",
      "C18O J=1-0 observed frequency 104.60181651542649 GHz in range 103.51 - 105.48\n"
     ]
    }
   ],
   "source": [
    "# mark flags if spw is on line (initialized to False)\n",
    "lineObserved = np.zeros((len(ALMAnedResults), len(restFreqs)),\n",
    "                         dtype=bool)\n",
    "\n",
    "for i, row in enumerate(ALMAnedResults):\n",
    "\n",
    "    # target redshift\n",
    "    z = row['NED Redshift']\n",
    "\n",
    "    # observed frequencies\n",
    "    observed_frequencies = [_observedFreq(rf, row['NED Redshift']) for rf in restFreqs]\n",
    "\n",
    "    if line_names == \"\":\n",
    "        line_names = ['Line{:}'.format(i) for i in range(len(restFreqs))]\n",
    "\n",
    "    # loop over the target lines, return a boolean flag array and add it to astropy table\n",
    "    for j, (observed_frequency, linename) in enumerate(zip(observed_frequencies,line_names)):\n",
    "        lineObserved[i, j]=_lineObserved(target_frequency=observed_frequency\n",
    "                                                    , observed_frequency_ranges=row['Frequency ranges']\n",
    "                                                    , linename=linename)"
   ]
  },
  {
   "cell_type": "code",
   "execution_count": 78,
   "metadata": {},
   "outputs": [],
   "source": [
    "# add flag columns to array\n",
    "for i in range(len(restFreqs)):\n",
    "                    ALMAnedResults[line_names[i]] = lineObserved[:, i]\n"
   ]
  },
  {
   "cell_type": "code",
   "execution_count": 79,
   "metadata": {},
   "outputs": [],
   "source": [
    "# remove rows which have no lines covered\n",
    "lineCount = np.array(ALMAnedResults[line_names[0]], dtype=int)\n",
    "for i in range(1, len(restFreqs)):\n",
    "    lineCount += np.array(ALMAnedResults[line_names[i]], dtype=int)\n",
    "noLinesInds = np.where(lineCount == 0)\n",
    "ALMAnedResults.remove_rows(noLinesInds)"
   ]
  },
  {
   "cell_type": "code",
   "execution_count": 80,
   "metadata": {},
   "outputs": [],
   "source": [
    "queryResults = ALMAnedResults"
   ]
  },
  {
   "cell_type": "code",
   "execution_count": 81,
   "metadata": {
    "scrolled": true
   },
   "outputs": [
    {
     "data": {
      "text/html": [
       "<i>Table masked=True length=183</i>\n",
       "<table id=\"table4673203392\" class=\"table-striped table-bordered table-condensed\">\n",
       "<thead><tr><th>Project code</th><th>ALMA source name</th><th>ALMA RA</th><th>ALMA Dec</th><th>Galactic longitude</th><th>Galactic latitude</th><th>Band</th><th>Spatial resolution</th><th>Frequency resolution</th><th>Array</th><th>Mosaic</th><th>Integration</th><th>Release date</th><th>Frequency support</th><th>Velocity resolution</th><th>Pol products</th><th>Observation date</th><th>PI name</th><th>SB name</th><th>Proposal authors</th><th>Line sensitivity (10 km/s)</th><th>Continuum sensitivity</th><th>PWV</th><th>Group ous id</th><th>Member ous id</th><th>Asdm uid</th><th>Project title</th><th>Project type</th><th>Scan intent</th><th>Field of view</th><th>Largest angular scale</th><th>QA2 Status</th><th>COUNT</th><th>Science keyword</th><th>Scientific category</th><th>ASA_PROJECT_CODE</th><th>ALMA sanitized source name</th><th>Frequency ranges</th><th>NED source name</th><th>NED RA</th><th>NED Dec</th><th>NED Redshift</th><th>12CO J=1-0</th><th>13CO J=1-0</th><th>C18O J=1-0</th></tr></thead>\n",
       "<thead><tr><th></th><th></th><th>deg</th><th>deg</th><th>deg</th><th>deg</th><th></th><th></th><th>kHz</th><th></th><th></th><th>s</th><th></th><th>GHz</th><th>m / s</th><th></th><th></th><th></th><th></th><th></th><th></th><th>mJy/beam</th><th>mm</th><th></th><th></th><th></th><th></th><th></th><th></th><th>arcs</th><th>arcs</th><th></th><th></th><th></th><th></th><th></th><th></th><th>GHz</th><th></th><th>degrees</th><th>degrees</th><th></th><th></th><th></th><th></th></tr></thead>\n",
       "<thead><tr><th>bytes64</th><th>bytes256</th><th>float64</th><th>float64</th><th>float64</th><th>float64</th><th>object</th><th>float64</th><th>float64</th><th>object</th><th>object</th><th>float64</th><th>object</th><th>bytes2700</th><th>float64</th><th>bytes64</th><th>object</th><th>bytes256</th><th>bytes128</th><th>bytes512</th><th>float64</th><th>float64</th><th>float32</th><th>bytes64</th><th>bytes64</th><th>bytes32</th><th>bytes256</th><th>bytes16</th><th>bytes256</th><th>float64</th><th>float64</th><th>bytes1</th><th>int64</th><th>bytes200</th><th>bytes200</th><th>bytes64</th><th>str29</th><th>object</th><th>bytes30</th><th>float64</th><th>float64</th><th>float64</th><th>bool</th><th>bool</th><th>bool</th></tr></thead>\n",
       "<tr><td>2012.1.00837.S</td><td>2A0335+096</td><td>54.66875</td><td>9.970083333333333</td><td>176.2640969511151</td><td>-35.057909888065936</td><td>[3]</td><td>0.8277836843988817</td><td>976.516116235474</td><td>12m</td><td></td><td>4112.64</td><td>2016-03-31</td><td>[108.45..110.43GHz,31251.32kHz,1mJy/beam@10km/s,43.1uJy/beam@native, XX YY] U [110.45..112.33GHz,976.60kHz,1.1mJy/beam@10km/s,47.7uJy/beam@native, XX YY]</td><td>2606.155620549255</td><td>XX YY</td><td>2014-07-22 11:29:56</td><td>McNamara, Brian</td><td>2A0335_111_12m_C32-5</td><td>Sanders, Jeremy; Baum, Stefi; Russell, Helen; Combes, Francoise; Salome, Philippe; Tremblay, Grant; Donahue, Megan; O&apos;Connell, Robert; O&apos;Dea, Christopher; Voit, Mark; Nulsen, Paul; Oonk, Raymond; Edge, Alastair; Hamer, Stephen; Vantyghem, Adrian; Main, Robert; Wilman, Richard; Fabian, Andrew;</td><td>1.0096809521179075</td><td>0.03198805008682507</td><td>4.8730683</td><td>uid://A002/X5d50dc/X1c</td><td>uid://A002/X5d50dc/X1d</td><td>uid://A002/X877956/X176e</td><td>Understanding Molecular Gas Accretion and Feedback from Supermassive Black Holes</td><td>S</td><td>TARGET</td><td>57.07246246439364</td><td>10.60783856649499</td><td>Y</td><td>3</td><td>Galaxy groups and clusters</td><td>Cosmology</td><td>2012.1.00837.S</td><td>2A0335+096</td><td>[array([108.45, 110.43]), array([110.45, 112.33])]</td><td>MCXC J0338.6+0958</td><td>54.64708</td><td>9.9652</td><td>0.03634</td><td>False</td><td>False</td><td>True</td></tr>\n",
       "<tr><td>2015.1.00320.S</td><td>2MASXJ09033081-0106127</td><td>135.8783874999434</td><td>-1.1035556000009548</td><td>230.50909689454966</td><td>28.430756729860168</td><td>[3]</td><td>1.7495016697572436</td><td>976.6620075399063</td><td>12m</td><td></td><td>665.28</td><td>2017-05-11</td><td>[95.99..97.86GHz,3906.65kHz,1.3mJy/beam@10km/s,54.2uJy/beam@native, XX YY] U [97.91..99.78GHz,3906.65kHz,1.3mJy/beam@10km/s,54.5uJy/beam@native, XX YY] U [108.22..110.10GHz,3906.65kHz,1.4mJy/beam@10km/s,59.8uJy/beam@native, XX YY] U [109.93..111.80GHz,976.66kHz,1.5mJy/beam@10km/s,65.4uJy/beam@native, XX YY]</td><td>2619.0887968819543</td><td>XX YY</td><td>2016-03-19 23:03:31</td><td>van de Voort, Freeke</td><td>2MASXJ09_a_03_TE</td><td>Smith, Matthew; Oteo, Ivan; Dunne, Loretta; Matsushita, Satoki; Rowlands, Kate; Davis, Timothy; van der Werf, Paul; Shabala, Stanislav; Eales, Stephen; Bourne, Nathan; Cooray, Asantha; Bremer, Malcolm; Kaviraj, Sugata; Allison, James; Sansom, Anne; Vlahakis, Catherine; Temi, Pasquale; Leeuw, Lerothodi;</td><td>1.3567541990499785</td><td>0.028981111930152566</td><td>3.6928656</td><td>uid://A001/X2fa/X42</td><td>uid://A001/X2fa/X43</td><td>uid://A002/Xb09eed/X6efb</td><td>Star formation suppression in recent minor mergers</td><td>S</td><td>TARGET</td><td>60.63683187187325</td><td>7.952783892105759</td><td>Y</td><td>1</td><td>Starbursts, star formation, Merging and interacting galaxies</td><td>Active galaxies</td><td>2015.1.00320.S</td><td>2MASXJ09033081-0106127</td><td>[array([95.99, 97.86]), array([97.91, 99.78]), array([108.22, 110.1 ]), array([109.93, 111.8 ])]</td><td>2MASX J09033081-0106127</td><td>135.87842</td><td>-1.10347</td><td>0.039671</td><td>False</td><td>False</td><td>True</td></tr>\n",
       "<tr><td>2015.1.00320.S</td><td>2MASXJ13010083+2701312</td><td>195.25349579996598</td><td>27.02533890000439</td><td>30.71193026316314</td><td>87.86592288700037</td><td>[3]</td><td>1.4155025709359037</td><td>976.5888619784672</td><td>12m</td><td></td><td>695.52</td><td>2017-08-10</td><td>[92.34..94.22GHz,3906.36kHz,1.3mJy/beam@10km/s,51.4uJy/beam@native, XX YY] U [94.18..96.05GHz,3906.36kHz,1.3mJy/beam@10km/s,51.4uJy/beam@native, XX YY] U [104.34..106.22GHz,3906.36kHz,1.3mJy/beam@10km/s,54.1uJy/beam@native, XX YY] U [105.99..107.86GHz,976.59kHz,1.3mJy/beam@10km/s,55.4uJy/beam@native, XX YY]</td><td>2714.396460734305</td><td>XX YY</td><td>2016-05-04 01:22:27</td><td>van de Voort, Freeke</td><td>2MASXJ13_b_03_TE</td><td>Smith, Matthew; Oteo, Ivan; Dunne, Loretta; Matsushita, Satoki; Rowlands, Kate; Davis, Timothy; van der Werf, Paul; Shabala, Stanislav; Eales, Stephen; Bourne, Nathan; Cooray, Asantha; Bremer, Malcolm; Kaviraj, Sugata; Allison, James; Sansom, Anne; Vlahakis, Catherine; Temi, Pasquale; Leeuw, Lerothodi;</td><td>1.251021055887852</td><td>0.026507428687637388</td><td>2.6074445</td><td>uid://A001/X2fa/X46</td><td>uid://A001/X2fa/X47</td><td>uid://A002/Xb28642/X9da6</td><td>Star formation suppression in recent minor mergers</td><td>S</td><td>TARGET</td><td>62.935328979847554</td><td>7.333557423545629</td><td>Y</td><td>1</td><td>Starbursts, star formation, Merging and interacting galaxies</td><td>Active galaxies</td><td>2015.1.00320.S</td><td>2MASXJ13010083+2701312</td><td>[array([92.34, 94.22]), array([94.18, 96.05]), array([104.34, 106.22]), array([105.99, 107.86])]</td><td>2MASX J13010083+2701312</td><td>195.25362</td><td>27.02544</td><td>0.078118</td><td>False</td><td>False</td><td>True</td></tr>\n",
       "<tr><td>2015.1.00320.S</td><td>2MASXJ13333299+2616190</td><td>203.3874958000515</td><td>26.271966700012126</td><td>30.114917795247266</td><td>80.55850093238827</td><td>[3]</td><td>1.5199797433158024</td><td>976.5729788204131</td><td>12m</td><td></td><td>544.32</td><td>2017-07-26</td><td>[96.24..98.11GHz,3906.29kHz,1.4mJy/beam@10km/s,58.2uJy/beam@native, XX YY] U [98.16..100.03GHz,3906.29kHz,1.4mJy/beam@10km/s,58.5uJy/beam@native, XX YY] U [108.49..110.37GHz,3906.29kHz,1.5mJy/beam@10km/s,66.6uJy/beam@native, XX YY] U [110.22..112.10GHz,976.57kHz,1.6mJy/beam@10km/s,71.8uJy/beam@native, XX YY]</td><td>2611.7918045277183</td><td>XX YY</td><td>2016-05-04 05:08:27</td><td>van de Voort, Freeke</td><td>2MASXJ13_a_03_TE</td><td>Smith, Matthew; Oteo, Ivan; Dunne, Loretta; Matsushita, Satoki; Rowlands, Kate; Davis, Timothy; van der Werf, Paul; Shabala, Stanislav; Eales, Stephen; Bourne, Nathan; Cooray, Asantha; Bremer, Malcolm; Kaviraj, Sugata; Allison, James; Sansom, Anne; Vlahakis, Catherine; Temi, Pasquale; Leeuw, Lerothodi;</td><td>1.5094336982810852</td><td>0.03151277638458426</td><td>2.3989837</td><td>uid://A001/X2fa/X32</td><td>uid://A001/X2fa/X33</td><td>uid://A002/Xb28642/Xab44</td><td>Star formation suppression in recent minor mergers</td><td>S</td><td>TARGET</td><td>60.47956425454063</td><td>7.723235435738713</td><td>Y</td><td>1</td><td>Starbursts, star formation, Merging and interacting galaxies</td><td>Active galaxies</td><td>2015.1.00320.S</td><td>2MASXJ13333299+2616190</td><td>[array([96.24, 98.11]), array([ 98.16, 100.03]), array([108.49, 110.37]), array([110.22, 112.1 ])]</td><td>2MASX J13333299+2616190</td><td>203.38773</td><td>26.27197</td><td>0.036942</td><td>False</td><td>False</td><td>True</td></tr>\n",
       "<tr><td>2015.1.00320.S</td><td>2MASXJ14161186+0152048</td><td>214.04927919996024</td><td>1.867974300000529</td><td>345.3116938307601</td><td>57.590228991730484</td><td>[3]</td><td>1.7012307748463424</td><td>976.5097442049275</td><td>12m</td><td></td><td>1209.6</td><td>2017-06-23</td><td>[91.98..93.86GHz,3906.04kHz,865.1uJy/beam@10km/s,35.2uJy/beam@native, XX YY] U [93.81..95.69GHz,3906.04kHz,857.4uJy/beam@10km/s,35.2uJy/beam@native, XX YY] U [103.93..105.80GHz,3906.04kHz,844.2uJy/beam@10km/s,36.5uJy/beam@native, XX YY] U [105.57..107.44GHz,976.51kHz,851.1uJy/beam@10km/s,37uJy/beam@native, XX YY]</td><td>2724.6358074084183</td><td>XX YY</td><td>2016-04-09 03:55:18</td><td>van de Voort, Freeke</td><td>2MASXJ14_a_03_TE</td><td>Smith, Matthew; Oteo, Ivan; Dunne, Loretta; Matsushita, Satoki; Rowlands, Kate; Davis, Timothy; van der Werf, Paul; Shabala, Stanislav; Eales, Stephen; Bourne, Nathan; Cooray, Asantha; Bremer, Malcolm; Kaviraj, Sugata; Allison, James; Sansom, Anne; Vlahakis, Catherine; Temi, Pasquale; Leeuw, Lerothodi;</td><td>0.8442164617410581</td><td>0.017972053345057575</td><td>2.140075</td><td>uid://A001/X2fa/X3a</td><td>uid://A001/X2fa/X3b</td><td>uid://A002/Xb18ac0/X20ab</td><td>Star formation suppression in recent minor mergers</td><td>S</td><td>TARGET</td><td>63.18204631686815</td><td>7.95690773889376</td><td>Y</td><td>1</td><td>Starbursts, star formation, Merging and interacting galaxies</td><td>Active galaxies</td><td>2015.1.00320.S</td><td>2MASXJ14161186+0152048</td><td>[array([91.98, 93.86]), array([93.81, 95.69]), array([103.93, 105.8 ]), array([105.57, 107.44])]</td><td>2MASX J14161186+0152048</td><td>214.04928</td><td>1.86797</td><td>0.082216</td><td>False</td><td>False</td><td>True</td></tr>\n",
       "<tr><td>2017.1.01572.S</td><td>3C15</td><td>9.267066666616113</td><td>-1.1522777777806776</td><td>114.775767012637</td><td>-63.79618626351886</td><td>[3]</td><td>0.12722362690547925</td><td>31252.732446356185</td><td>12m</td><td></td><td>308.448</td><td>2018-12-11</td><td>[89.51..91.49GHz,31252.73kHz,1.4mJy/beam@10km/s,56.2uJy/beam@native, XX YY] U [91.45..93.43GHz,31252.73kHz,1.4mJy/beam@10km/s,56.1uJy/beam@native, XX YY] U [101.51..103.50GHz,31252.73kHz,1.4mJy/beam@10km/s,57uJy/beam@native, XX YY] U [103.51..105.50GHz,31252.73kHz,1.4mJy/beam@10km/s,57.6uJy/beam@native, XX YY]</td><td>88819.99273898915</td><td>XX YY</td><td>2017-11-21 22:44:19</td><td>Meyer, Eileen</td><td>3C15_a_03_TM1</td><td>Sparks, William; Chiaberge, Marco; Georganopoulos, Markos; Perlman, Eric;</td><td>1.3786918377841848</td><td>0.028354714670604828</td><td>1.1420088</td><td>uid://A001/X1294/X67</td><td>uid://A001/X1294/X68</td><td>uid://A002/Xc7111c/X537c</td><td>ALMA Observations of Resolved Extragalactic Jets in a Critically Unsampled Spectral Window</td><td>S</td><td>TARGET</td><td>64.61333040301717</td><td>1.1201953711498662</td><td>Y</td><td>0</td><td>Active Galactic Nuclei (AGN)/Quasars (QSO), Outflows, jets, feedback</td><td>Active galaxies</td><td>2017.1.01572.S</td><td>3C15</td><td>[array([89.51, 91.49]), array([91.45, 93.43]), array([101.51, 103.5 ]), array([103.51, 105.5 ])]</td><td>3C 015</td><td>9.2673</td><td>-1.15225</td><td>0.073384</td><td>True</td><td>True</td><td>False</td></tr>\n",
       "<tr><td>2013.1.00286.S</td><td>3C_445</td><td>335.9691666666667</td><td>-2.1791666666666667</td><td>61.79163096617299</td><td>-46.77113224500823</td><td>[3]</td><td>0.45158761481371523</td><td>62498.92088278956</td><td>12m</td><td></td><td>6713.28</td><td>2016-12-20</td><td>[89.51..91.48GHz,62499.23kHz,792.8uJy/beam@10km/s,30.8uJy/beam@native, XX XY YY] U [91.45..93.42GHz,62499.23kHz,784.5uJy/beam@10km/s,30.8uJy/beam@native, XX XY YY] U [101.51..103.48GHz,62499.23kHz,766.2uJy/beam@10km/s,31.7uJy/beam@native, XX XY YY] U [103.51..105.48GHz,62499.23kHz,768.4uJy/beam@10km/s,32.1uJy/beam@native, XX XY YY]</td><td>177634.54332640793</td><td>XX XY YX YY</td><td>2015-09-03 01:28:19</td><td>Orienti, Monica</td><td>3C_445_a_03_TE</td><td>Brunetti, Gianfranco; Nagai, Hiroshi; Mack, Karl-Heinz;</td><td>0.7684156222017572</td><td>0.015662477809920604</td><td>3.9949458</td><td>uid://A001/X136/Xbe</td><td>uid://A001/X136/Xbf</td><td>uid://A002/Xa98f9c/X1158</td><td>Particle acceleration and magnetic field in the hot spot of 3C 445</td><td>S</td><td>TARGET</td><td>64.6200958042326</td><td>2.722873555983321</td><td>Y</td><td>1</td><td>Active Galactic Nuclei (AGN)/Quasars (QSO)</td><td>Active galaxies</td><td>2013.1.00286.S</td><td>3C445</td><td>[array([89.51, 91.48]), array([91.45, 93.42]), array([101.51, 103.48]), array([103.51, 105.48])]</td><td>3C 445</td><td>335.95638</td><td>-2.10357</td><td>0.055879</td><td>True</td><td>True</td><td>False</td></tr>\n",
       "<tr><td>2016.1.01481.S</td><td>4C_+13.41</td><td>151.85874874995406</td><td>12.815613890004729</td><td>225.11773214434254</td><td>49.12039806553533</td><td>[3]</td><td>1.1885142259357386</td><td>31247.46669485644</td><td>12m</td><td></td><td>72.576</td><td>2017-12-09</td><td>[89.50..91.48GHz,31247.47kHz,3.6mJy/beam@10km/s,141.5uJy/beam@native, XX YY] U [91.43..93.42GHz,31247.47kHz,3.6mJy/beam@10km/s,141.2uJy/beam@native, XX YY] U [101.49..103.48GHz,31247.47kHz,3.5mJy/beam@10km/s,144.7uJy/beam@native, XX YY] U [103.49..105.48GHz,31247.47kHz,3.5mJy/beam@10km/s,146.5uJy/beam@native, XX YY]</td><td>88805.02751920317</td><td>XX YY</td><td>2016-11-19 08:54:01</td><td>Meyer, Eileen</td><td>4C_+13.4_a_03_TM2</td><td>Sparks, William; Biretta, John; Chiaberge, Marco; Georganopoulos, Markos; Perlman, Eric;</td><td>3.5102107101468576</td><td>0.07171271615188579</td><td>1.9221303</td><td>uid://A001/X885/Xb7</td><td>uid://A001/X885/Xba</td><td>uid://A002/Xbad2b0/X3ccf</td><td>Measuring the Spectral Evolution, Structure, and Speed of Extragalactic Jets with ALMA</td><td>S</td><td>TARGET</td><td>64.62421889342811</td><td>5.669325038419523</td><td>Y</td><td>1</td><td>Active Galactic Nuclei (AGN)/Quasars (QSO)</td><td>Active galaxies</td><td>2016.1.01481.S</td><td>4C+13.41</td><td>[array([89.5 , 91.48]), array([91.43, 93.42]), array([101.49, 103.48]), array([103.49, 105.48])]</td><td>PG 1004+130</td><td>151.85878</td><td>12.81559</td><td>0.240613</td><td>False</td><td>False</td><td>True</td></tr>\n",
       "<tr><td>2016.1.01481.S</td><td>4C_+13.41</td><td>151.85874874995358</td><td>12.815613890004885</td><td>225.11773214434197</td><td>49.12039806553499</td><td>[3]</td><td>0.239468490576128</td><td>31250.45552257404</td><td>12m</td><td></td><td>254.016</td><td>2018-09-09</td><td>[89.50..91.49GHz,31250.46kHz,1.8mJy/beam@10km/s,69uJy/beam@native, XX YY] U [91.44..93.43GHz,31250.46kHz,1.8mJy/beam@10km/s,68.7uJy/beam@native, XX YY] U [101.50..103.49GHz,31250.46kHz,1.7mJy/beam@10km/s,69.7uJy/beam@native, XX YY] U [103.50..105.49GHz,31250.46kHz,1.7mJy/beam@10km/s,70.4uJy/beam@native, XX YY]</td><td>88813.52174148057</td><td>XX YY</td><td>2017-08-24 14:32:25</td><td>Meyer, Eileen</td><td>4C_+13.4_a_03_TM1</td><td>Sparks, William; Biretta, John; Chiaberge, Marco; Georganopoulos, Markos; Perlman, Eric;</td><td>1.686744100191027</td><td>0.03471455448618459</td><td>0.38888556</td><td>uid://A001/X885/Xb7</td><td>uid://A001/X885/Xb8</td><td>uid://A002/Xc3b6e5/X440d</td><td>Measuring the Spectral Evolution, Structure, and Speed of Extragalactic Jets with ALMA</td><td>S</td><td>TARGET</td><td>64.6180381625099</td><td>1.6193788247559875</td><td>Y</td><td>1</td><td>Active Galactic Nuclei (AGN)/Quasars (QSO)</td><td>Active galaxies</td><td>2016.1.01481.S</td><td>4C+13.41</td><td>[array([89.5 , 91.49]), array([91.44, 93.43]), array([101.5 , 103.49]), array([103.5 , 105.49])]</td><td>PG 1004+130</td><td>151.85878</td><td>12.81559</td><td>0.240613</td><td>False</td><td>False</td><td>True</td></tr>\n",
       "<tr><td>...</td><td>...</td><td>...</td><td>...</td><td>...</td><td>...</td><td>...</td><td>...</td><td>...</td><td>...</td><td>...</td><td>...</td><td>...</td><td>...</td><td>...</td><td>...</td><td>...</td><td>...</td><td>...</td><td>...</td><td>...</td><td>...</td><td>...</td><td>...</td><td>...</td><td>...</td><td>...</td><td>...</td><td>...</td><td>...</td><td>...</td><td>...</td><td>...</td><td>...</td><td>...</td><td>...</td><td>...</td><td>...</td><td>...</td><td>...</td><td>...</td><td>...</td><td>...</td><td>...</td><td>...</td></tr>\n",
       "<tr><td>2017.1.00629.S</td><td>RXCJ0439.0+0520</td><td>69.75942500004743</td><td>5.345465000002327</td><td>191.29574364043776</td><td>-26.19523483371201</td><td>[3]</td><td>0.4281292627649317</td><td>976.6751520721755</td><td>12m</td><td></td><td>1300.32</td><td>2019-02-20</td><td>[92.56..94.54GHz,31253.60kHz,798.7uJy/beam@10km/s,31.5uJy/beam@native, XX YY] U [94.51..96.38GHz,976.68kHz,790.8uJy/beam@10km/s,32.6uJy/beam@native, XX YY] U [104.56..106.55GHz,31253.60kHz,783.8uJy/beam@10km/s,32.9uJy/beam@native, XX YY] U [106.49..108.48GHz,31253.60kHz,795.1uJy/beam@10km/s,33.7uJy/beam@native, XX YY]</td><td>3038.3062608953305</td><td>XX YY</td><td>2018-01-11 03:30:42</td><td>Edge, Alastair</td><td>RXCJ0439_a_03_TM1</td><td>McNamara, Brian; Rose, Thomas; Russell, Helen; Hogan, Michael; Salome, Philippe; Combes, Francoise; Tremblay, Grant; Hamer, Stephen; McDonald, Michael; Vantyghem, Adrian; Gaspari, Massimo; Fabian, Andrew;</td><td>0.7837810110725104</td><td>0.016322148134841383</td><td>2.5811768</td><td>uid://A001/X1284/X3b4</td><td>uid://A001/X1284/X3b5</td><td>uid://A002/Xc9020b/X2824</td><td>Constraining the cold accretion onto the most massive Black Holes</td><td>S</td><td>TARGET</td><td>62.674607343582736</td><td>3.480166833999946</td><td>Y</td><td>1</td><td>Outflows, jets, feedback, Galaxy groups and clusters</td><td>Active galaxies</td><td>2017.1.00629.S</td><td>RXCJ0439.0+0520</td><td>[array([92.56, 94.54]), array([94.51, 96.38]), array([104.56, 106.55]), array([106.49, 108.48])]</td><td>MCXC J0439.0+0520</td><td>69.75934</td><td>5.34533</td><td>0.208</td><td>False</td><td>False</td><td>True</td></tr>\n",
       "<tr><td>2013.1.00843.S</td><td>RXCJ1504.1-0248</td><td>226.03124999980184</td><td>-2.804722222519084</td><td>355.075623724001</td><td>46.19876499777532</td><td>[3]</td><td>2.4748419134965607</td><td>31245.853184413914</td><td>12m</td><td></td><td>6078.24</td><td>2016-03-20</td><td>[89.49..91.48GHz,31246.01kHz,856.9uJy/beam@10km/s,33.3uJy/beam@native, XX YY] U [91.43..93.41GHz,31246.01kHz,847.8uJy/beam@10km/s,33.3uJy/beam@native, XX YY] U [101.49..103.47GHz,31246.01kHz,828uJy/beam@10km/s,34.2uJy/beam@native, XX YY] U [103.49..105.47GHz,31246.01kHz,830.3uJy/beam@10km/s,34.7uJy/beam@native, XX YY]</td><td>88800.44193661337</td><td>XX YY</td><td>2015-01-04 12:54:06</td><td>Giacintucci, Simona</td><td>RXCJ1504_a_03_TE</td><td>Mundy, Lee; ZuHone, John; Mushotzky, Richard;</td><td>0.8303124256173424</td><td>0.016925304024648466</td><td>3.2063124</td><td>uid://A001/X144/X57</td><td>uid://A001/X144/X58</td><td>uid://A002/X9896b4/X692d</td><td>Sunyaev-Zeldovich mapping of an extreme cool core in the galaxy cluster RXJ1504-02</td><td>S</td><td>TARGET</td><td>64.62755603552532</td><td>15.598549043064835</td><td>Y</td><td>0</td><td>Galaxy Clusters</td><td>Cosmology</td><td>2013.1.00843.S</td><td>RXCJ1504.1-0248</td><td>[array([89.49, 91.48]), array([91.43, 93.41]), array([101.49, 103.47]), array([103.49, 105.47])]</td><td>WHL J150407.5-024816</td><td>226.03125</td><td>-2.80444</td><td>0.2153</td><td>True</td><td>True</td><td>False</td></tr>\n",
       "<tr><td>2016.1.01269.S</td><td>RXCJ1504.1-0248</td><td>226.0312416666653</td><td>-2.804708333334683</td><td>355.07562929581445</td><td>46.19878072390462</td><td>[3]</td><td>0.5978421459320422</td><td>976.5286374338941</td><td>12m</td><td></td><td>9192.96</td><td>2018-06-09</td><td>[93.91..95.78GHz,976.53kHz,641uJy/beam@10km/s,26.3uJy/beam@native, XX YY] U [95.73..97.71GHz,31249.09kHz,635.4uJy/beam@10km/s,25.5uJy/beam@native, XX YY] U [105.85..107.84GHz,31249.09kHz,631.5uJy/beam@10km/s,26.7uJy/beam@native, XX YY] U [107.73..109.71GHz,31249.09kHz,644.3uJy/beam@10km/s,27.4uJy/beam@native, XX YY]</td><td>3056.3283914713406</td><td>XX YY</td><td>2016-10-27 18:10:05</td><td>McNamara, Brian</td><td>RXCJ1504_a_03_TM1</td><td>Parrish, Ian; Nulsen, Paul; Murray, Norman; Edge, Alastair; McDonald, Michael; Vantyghem, Adrian; Russell, Helen; Hogan, Michael; Combes, Francoise; Salome, Philippe; Fabian, Andrew;</td><td>0.6315246214193276</td><td>0.01322977890096457</td><td>0.89892775</td><td>uid://A001/X87a/X656</td><td>uid://A001/X87a/X657</td><td>uid://A002/Xb9dfa4/X7110</td><td>Stimulated AGN feedback in cluster cores</td><td>S</td><td>TARGET</td><td>61.8793901904933</td><td>4.035112195732013</td><td>Y</td><td>3</td><td>Outflows, jets, feedback, Galaxy groups and clusters</td><td>Active galaxies</td><td>2016.1.01269.S</td><td>RXCJ1504.1-0248</td><td>[array([93.91, 95.78]), array([95.73, 97.71]), array([105.85, 107.84]), array([107.73, 109.71])]</td><td>WHL J150407.5-024816</td><td>226.03125</td><td>-2.80444</td><td>0.2153</td><td>False</td><td>False</td><td>True</td></tr>\n",
       "<tr><td>2015.1.01198.S</td><td>RXC_J1539.5-8335</td><td>234.89422916666666</td><td>-83.58958055555556</td><td>307.56632846045324</td><td>-22.292185878369324</td><td>[3]</td><td>13.093559571483516</td><td>1953.0857538216594</td><td>12m</td><td></td><td>3205.44</td><td>2017-04-08</td><td>[92.57..94.44GHz,3906.17kHz,856.6uJy/beam@10km/s,34.9uJy/beam@native, XX YY] U [94.37..96.24GHz,3906.17kHz,848.4uJy/beam@10km/s,34.9uJy/beam@native, XX YY] U [104.67..106.55GHz,1953.09kHz,862.6uJy/beam@10km/s,37.4uJy/beam@native, XX YY] U [106.51..108.38GHz,1953.09kHz,886.3uJy/beam@10km/s,38.7uJy/beam@native, XX YY]</td><td>5402.323406931749</td><td>XX YY</td><td>2016-03-06 08:52:20</td><td>Hamer, Stephen</td><td>RXC_J153_a_03_TE</td><td>Tremblay, Grant; McNamara, Brian; Edge, Alastair; Russell, Helen; Salome, Quentin; Salome, Philippe; Combes, Francoise;</td><td>0.8626484674470812</td><td>0.01819692417798795</td><td>2.3566985</td><td>uid://A001/X2fe/X1e3</td><td>uid://A001/X2fe/X1e4</td><td>uid://A002/Xb02e35/X3727</td><td>Detection and mapping of molecular filaments in galaxy cluster cores</td><td>S</td><td>TARGET</td><td>62.703102050207974</td><td>50.45069309982115</td><td>Y</td><td>0</td><td>Galaxy Clusters</td><td>Cosmology</td><td>2015.1.01198.S</td><td>RXCJ1539.5-8335</td><td>[array([92.57, 94.44]), array([94.37, 96.24]), array([104.67, 106.55]), array([106.51, 108.38])]</td><td>MCXC J1539.5-8335</td><td>234.89125</td><td>-83.59222</td><td>0.0728</td><td>False</td><td>False</td><td>True</td></tr>\n",
       "<tr><td>2016.1.01269.S</td><td>RXJ0820.9+0752</td><td>125.25919166665493</td><td>7.86346388889101</td><td>216.07956336718246</td><td>23.474405373741565</td><td>[3]</td><td>0.6194054054627778</td><td>976.508374496387</td><td>12m</td><td></td><td>5201.28</td><td>2017-12-01</td><td>[90.86..92.84GHz,31248.27kHz,589.1uJy/beam@10km/s,23.1uJy/beam@native, XX YY] U [92.73..94.72GHz,31248.27kHz,585.4uJy/beam@10km/s,23.1uJy/beam@native, XX YY] U [102.92..104.79GHz,976.51kHz,571.5uJy/beam@10km/s,24.6uJy/beam@native, XX YY] U [104.74..106.72GHz,31248.27kHz,568.1uJy/beam@10km/s,23.9uJy/beam@native, XX YY]</td><td>2793.5350804521427</td><td>XX YY</td><td>2016-10-30 11:00:21</td><td>McNamara, Brian</td><td>RXJ0820._a_03_TM1</td><td>Parrish, Ian; Nulsen, Paul; Murray, Norman; Edge, Alastair; McDonald, Michael; Vantyghem, Adrian; Russell, Helen; Hogan, Michael; Combes, Francoise; Salome, Philippe; Fabian, Andrew;</td><td>0.5680858798916301</td><td>0.011816294527772163</td><td>0.9113649</td><td>uid://A001/X87d/Xc76</td><td>uid://A001/X87d/Xc77</td><td>uid://A002/Xb9fa0c/X3685</td><td>Stimulated AGN feedback in cluster cores</td><td>S</td><td>TARGET</td><td>63.77179870742411</td><td>3.2110343258051453</td><td>Y</td><td>3</td><td>Outflows, jets, feedback, Galaxy groups and clusters</td><td>Active galaxies</td><td>2016.1.01269.S</td><td>RXJ0820.9+0752</td><td>[array([90.86, 92.84]), array([92.73, 94.72]), array([102.92, 104.79]), array([104.74, 106.72])]</td><td>GCwM 056</td><td>125.25993</td><td>7.86313</td><td>0.11</td><td>False</td><td>False</td><td>True</td></tr>\n",
       "<tr><td>2011.0.00467.S</td><td>vv114</td><td>16.9467</td><td>-17.5069</td><td>145.19626782629928</td><td>-79.66480613901771</td><td>[3]</td><td>1.7647276286640976</td><td>976.4983196937587</td><td>12m</td><td></td><td>1814.4</td><td>2013-05-15</td><td>[94.61..96.49GHz,976.54kHz,2.4mJy/beam@10km/s,97.7uJy/beam@native, XX YY] U [96.56..98.44GHz,976.54kHz,2.3mJy/beam@10km/s,97.8uJy/beam@native, XX YY] U [107.05..108.93GHz,976.54kHz,2.4mJy/beam@10km/s,104.3uJy/beam@native, XX YY] U [108.31..110.20GHz,976.54kHz,2.4mJy/beam@10km/s,106.9uJy/beam@native, XX YY]</td><td>2656.65173777566</td><td>XX YY</td><td>2012-03-27 21:23:26</td><td>Iono, Daisuke</td><td>SB4-B3-comp SB4-B3-ext</td><td>Imanishi, Masatoshi; Yun, Min; Sugai, Hajime; Nakanishi, Kouichiro; Hagiwara, Yoshiaki; Motohara, Kentaro; Tateuchi, Ken;</td><td>2.379520940172917</td><td>0.05071508418963458</td><td>2.3642786</td><td></td><td>uid://A001/X74/X249</td><td>uid://A002/X3b55d6/Xa0</td><td>Dense Gas and Starburst/AGN Activities in the Late-stage IR-Bright Merger VV114</td><td>S</td><td>TARGET</td><td>61.525874632753975</td><td>17.413505486522034</td><td>Y</td><td>10</td><td>Merging and interacting galaxies, Inter-Stellar Medium (ISM)/Molecular clouds</td><td>Galaxy evolution</td><td>2011.0.00467.S</td><td>VV114</td><td>[array([94.61, 96.49]), array([96.56, 98.44]), array([107.05, 108.93]), array([108.31, 110.2 ])]</td><td>IC 1623</td><td>16.94658</td><td>-17.50703</td><td>0.020067</td><td>True</td><td>True</td><td>False</td></tr>\n",
       "<tr><td>2013.1.01057.S</td><td>vv114</td><td>16.9467</td><td>-17.5069</td><td>145.19626782629928</td><td>-79.66480613901771</td><td>[3]</td><td>1.122445154581778</td><td>3905.9942432309967</td><td>12m</td><td></td><td>1330.56</td><td>2016-02-13</td><td>[95.31..97.18GHz,3905.99kHz,1.1mJy/beam@10km/s,45.6uJy/beam@native, XX YY] U [97.18..99.06GHz,3905.99kHz,1.1mJy/beam@10km/s,44.9uJy/beam@native, XX YY] U [107.31..109.18GHz,3905.99kHz,1.1mJy/beam@10km/s,48uJy/beam@native, XX YY] U [109.18..111.05GHz,3905.99kHz,1.1mJy/beam@10km/s,50.1uJy/beam@native, XX YY]</td><td>10543.59402670219</td><td>XX YY</td><td>2014-07-04 08:24:48</td><td>Saito, Toshiki</td><td>vv114_d_03_TE_tuning4</td><td>Kawabe, Ryohei; Sugai, Hajime; Nakanishi, Kouichiro; Lee, Minju; Hagiwara, Yoshiaki; Tateuchi, Ken; Takano, Shuro; Espada, Daniel; Imanishi, Masatoshi; Yun, Min; Iono, Daisuke; Ueda, Junko; Ohashi, Satoshi; Motohara, Kentaro;</td><td>1.0943051283633118</td><td>0.02351249717556701</td><td>2.2014961</td><td>uid://A001/X12b/X20e</td><td>uid://A001/X12b/X215</td><td>uid://A002/X85f3e3/X8c9</td><td>Band 3/4 spectral scan in the central filament of merging LIRG VV114</td><td>S</td><td>TARGET</td><td>61.05790441215041</td><td>5.208217913830632</td><td>Y</td><td>2</td><td>Merging and interacting galaxies, Galaxy chemistry</td><td>Galaxy evolution</td><td>2013.1.01057.S</td><td>VV114</td><td>[array([95.31, 97.18]), array([97.18, 99.06]), array([107.31, 109.18]), array([109.18, 111.05])]</td><td>IC 1623</td><td>16.94658</td><td>-17.50703</td><td>0.020067</td><td>True</td><td>True</td><td>False</td></tr>\n",
       "<tr><td>2011.0.00467.S</td><td>vv114</td><td>16.9467</td><td>-17.5069</td><td>145.19626782629928</td><td>-79.66480613901771</td><td>[3]</td><td>1.7647276286640976</td><td>976.4983196937587</td><td>12m</td><td></td><td>1814.4</td><td>2013-08-24</td><td>[94.61..96.49GHz,976.54kHz,2.4mJy/beam@10km/s,97.7uJy/beam@native, XX YY] U [96.56..98.44GHz,976.54kHz,2.3mJy/beam@10km/s,97.8uJy/beam@native, XX YY] U [107.05..108.93GHz,976.54kHz,2.4mJy/beam@10km/s,104.3uJy/beam@native, XX YY] U [108.31..110.20GHz,976.54kHz,2.4mJy/beam@10km/s,106.9uJy/beam@native, XX YY]</td><td>2656.65173777566</td><td>XX YY</td><td>2012-03-27 21:23:26</td><td>Iono, Daisuke</td><td>SB4-B3-comp SB4-B3-ext</td><td>Imanishi, Masatoshi; Yun, Min; Sugai, Hajime; Nakanishi, Kouichiro; Hagiwara, Yoshiaki; Motohara, Kentaro; Tateuchi, Ken;</td><td>2.379520940172917</td><td>0.05071508418963458</td><td>2.3642786</td><td></td><td>uid://A001/X74/X249</td><td>uid://A002/X3b55d6/Xa0</td><td>Dense Gas and Starburst/AGN Activities in the Late-stage IR-Bright Merger VV114</td><td>S</td><td>TARGET</td><td>61.525874632753975</td><td>17.413505486522034</td><td>Y</td><td>10</td><td>Merging and interacting galaxies, Inter-Stellar Medium (ISM)/Molecular clouds</td><td>Galaxy evolution</td><td>2011.0.00467.S</td><td>VV114</td><td>[array([94.61, 96.49]), array([96.56, 98.44]), array([107.05, 108.93]), array([108.31, 110.2 ])]</td><td>IC 1623</td><td>16.94658</td><td>-17.50703</td><td>0.020067</td><td>True</td><td>True</td><td>False</td></tr>\n",
       "<tr><td>2013.1.00469.S</td><td>VV114</td><td>16.946350477037736</td><td>-17.50701111116915</td><td>145.19474881155168</td><td>-79.66502792835925</td><td>[3]</td><td>2.6356681862470714</td><td>3906.7083233749036</td><td>12m</td><td></td><td>2540.16</td><td>2016-03-04</td><td>[93.32..95.19GHz,3906.71kHz,647.7uJy/beam@10km/s,26.5uJy/beam@native, XX YY] U [95.07..96.94GHz,3906.71kHz,644uJy/beam@10km/s,26.6uJy/beam@native, XX YY] U [105.26..107.14GHz,3906.71kHz,637.1uJy/beam@10km/s,27.7uJy/beam@native, XX YY] U [107.06..108.93GHz,3906.71kHz,646.2uJy/beam@10km/s,28.3uJy/beam@native, XX YY]</td><td>10753.1017872218</td><td>XX YY</td><td>2014-12-28 19:39:26</td><td>Sliwa, Kazimierz</td><td>VV114_a_03_TE</td><td>Krips, Melanie; Wilson, Christine; Iono, Daisuke;</td><td>0.637091395011652</td><td>0.013628667043276395</td><td>2.271671</td><td>uid://A001/X120/X2a</td><td>uid://A001/X120/X2b</td><td>uid://A002/X98124f/X3982</td><td>The Warm Molecular Gas of VV 114</td><td>S</td><td>TARGET</td><td>62.30031597065838</td><td>13.203596513066406</td><td>Y</td><td>0</td><td>Starbursts, star formation, Merging and interacting galaxies</td><td>Active galaxies</td><td>2013.1.00469.S</td><td>VV114</td><td>[array([93.32, 95.19]), array([95.07, 96.94]), array([105.26, 107.14]), array([107.06, 108.93])]</td><td>IC 1623</td><td>16.94658</td><td>-17.50703</td><td>0.020067</td><td>True</td><td>True</td><td>False</td></tr>\n",
       "<tr><td>2015.1.00727.S</td><td>W_Comae</td><td>185.38204383301218</td><td>28.232916722003196</td><td>201.73566654617574</td><td>83.28803269012654</td><td>[3]</td><td>1.395709630930916</td><td>62501.70607556519</td><td>12m</td><td></td><td>5443.2</td><td>2017-12-20</td><td>[89.51..91.48GHz,62502.16kHz,812.3uJy/beam@10km/s,31.6uJy/beam@native, XX XY YY] U [91.45..93.42GHz,62502.16kHz,803.7uJy/beam@10km/s,31.6uJy/beam@native, XX XY YY] U [101.51..103.48GHz,62502.16kHz,793.3uJy/beam@10km/s,32.8uJy/beam@native, XX XY YY] U [103.51..105.48GHz,62502.16kHz,799.4uJy/beam@10km/s,33.4uJy/beam@native, XX XY YY]</td><td>177642.45940623435</td><td>XX XY YX YY</td><td>2016-04-28 01:36:00</td><td>Akiyama, Kazunori</td><td>W_Comae_a_03_TE</td><td>Asada, Keiichi; Honma, Mareki; Hada, Kazuhiro; Nagai, Hiroshi; Kino, Motoki; Doi, Akihiro;</td><td>0.7994393279687011</td><td>0.016146801823194668</td><td>3.6232085</td><td>uid://A001/X2fb/X930</td><td>uid://A001/X2fb/X931</td><td>uid://A002/Xb24884/X14b6</td><td>Locating the origin of the radio jet in the blazars</td><td>S</td><td>TARGET</td><td>64.61721640721862</td><td>9.310869055363282</td><td>Y</td><td>0</td><td>Active Galactic Nuclei (AGN)/Quasars (QSO)</td><td>Active galaxies</td><td>2015.1.00727.S</td><td>WCOMAE</td><td>[array([89.51, 91.48]), array([91.45, 93.42]), array([101.51, 103.48]), array([103.51, 105.48])]</td><td>W Com</td><td>185.38204</td><td>28.23292</td><td>0.102</td><td>False</td><td>False</td><td>True</td></tr>\n",
       "</table>"
      ],
      "text/plain": [
       "<Table masked=True length=183>\n",
       " Project code     ALMA source name    ... 13CO J=1-0 C18O J=1-0\n",
       "                                      ...                      \n",
       "   bytes64            bytes256        ...    bool       bool   \n",
       "-------------- ---------------------- ... ---------- ----------\n",
       "2012.1.00837.S             2A0335+096 ...      False       True\n",
       "2015.1.00320.S 2MASXJ09033081-0106127 ...      False       True\n",
       "2015.1.00320.S 2MASXJ13010083+2701312 ...      False       True\n",
       "2015.1.00320.S 2MASXJ13333299+2616190 ...      False       True\n",
       "2015.1.00320.S 2MASXJ14161186+0152048 ...      False       True\n",
       "2017.1.01572.S                   3C15 ...       True      False\n",
       "2013.1.00286.S                 3C_445 ...       True      False\n",
       "2016.1.01481.S              4C_+13.41 ...      False       True\n",
       "2016.1.01481.S              4C_+13.41 ...      False       True\n",
       "           ...                    ... ...        ...        ...\n",
       "2017.1.00629.S        RXCJ0439.0+0520 ...      False       True\n",
       "2013.1.00843.S        RXCJ1504.1-0248 ...       True      False\n",
       "2016.1.01269.S        RXCJ1504.1-0248 ...      False       True\n",
       "2015.1.01198.S       RXC_J1539.5-8335 ...      False       True\n",
       "2016.1.01269.S         RXJ0820.9+0752 ...      False       True\n",
       "2011.0.00467.S                  vv114 ...       True      False\n",
       "2013.1.01057.S                  vv114 ...       True      False\n",
       "2011.0.00467.S                  vv114 ...       True      False\n",
       "2013.1.00469.S                  VV114 ...       True      False\n",
       "2015.1.00727.S                W_Comae ...      False       True"
      ]
     },
     "execution_count": 81,
     "metadata": {},
     "output_type": "execute_result"
    }
   ],
   "source": [
    "queryResults"
   ]
  },
  {
   "cell_type": "code",
   "execution_count": 82,
   "metadata": {},
   "outputs": [
    {
     "name": "stdout",
     "output_type": "stream",
     "text": [
      "galaxies with 12CO, 13CO, OR C18O: 183\n"
     ]
    }
   ],
   "source": [
    "print(\"galaxies with 12CO, 13CO, OR C18O:\", len(queryResults))"
   ]
  },
  {
   "cell_type": "code",
   "execution_count": 85,
   "metadata": {
    "scrolled": true
   },
   "outputs": [
    {
     "data": {
      "text/html": [
       "<i>Table masked=True length=1</i>\n",
       "<table id=\"table4731170944\" class=\"table-striped table-bordered table-condensed\">\n",
       "<thead><tr><th>Project code</th><th>ALMA source name</th><th>ALMA RA</th><th>ALMA Dec</th><th>Galactic longitude</th><th>Galactic latitude</th><th>Band</th><th>Spatial resolution</th><th>Frequency resolution</th><th>Array</th><th>Mosaic</th><th>Integration</th><th>Release date</th><th>Frequency support</th><th>Velocity resolution</th><th>Pol products</th><th>Observation date</th><th>PI name</th><th>SB name</th><th>Proposal authors</th><th>Line sensitivity (10 km/s)</th><th>Continuum sensitivity</th><th>PWV</th><th>Group ous id</th><th>Member ous id</th><th>Asdm uid</th><th>Project title</th><th>Project type</th><th>Scan intent</th><th>Field of view</th><th>Largest angular scale</th><th>QA2 Status</th><th>COUNT</th><th>Science keyword</th><th>Scientific category</th><th>ASA_PROJECT_CODE</th><th>ALMA sanitized source name</th><th>Frequency ranges</th><th>NED source name</th><th>NED RA</th><th>NED Dec</th><th>NED Redshift</th><th>12CO J=1-0</th><th>13CO J=1-0</th><th>C18O J=1-0</th></tr></thead>\n",
       "<thead><tr><th></th><th></th><th>deg</th><th>deg</th><th>deg</th><th>deg</th><th></th><th></th><th>kHz</th><th></th><th></th><th>s</th><th></th><th>GHz</th><th>m / s</th><th></th><th></th><th></th><th></th><th></th><th></th><th>mJy/beam</th><th>mm</th><th></th><th></th><th></th><th></th><th></th><th></th><th>arcs</th><th>arcs</th><th></th><th></th><th></th><th></th><th></th><th></th><th>GHz</th><th></th><th>degrees</th><th>degrees</th><th></th><th></th><th></th><th></th></tr></thead>\n",
       "<thead><tr><th>bytes64</th><th>bytes256</th><th>float64</th><th>float64</th><th>float64</th><th>float64</th><th>object</th><th>float64</th><th>float64</th><th>object</th><th>object</th><th>float64</th><th>object</th><th>bytes2700</th><th>float64</th><th>bytes64</th><th>object</th><th>bytes256</th><th>bytes128</th><th>bytes512</th><th>float64</th><th>float64</th><th>float32</th><th>bytes64</th><th>bytes64</th><th>bytes32</th><th>bytes256</th><th>bytes16</th><th>bytes256</th><th>float64</th><th>float64</th><th>bytes1</th><th>int64</th><th>bytes200</th><th>bytes200</th><th>bytes64</th><th>str29</th><th>object</th><th>bytes30</th><th>float64</th><th>float64</th><th>float64</th><th>bool</th><th>bool</th><th>bool</th></tr></thead>\n",
       "<tr><td>2012.1.00837.S</td><td>2A0335+096</td><td>54.66875</td><td>9.970083333333333</td><td>176.2640969511151</td><td>-35.057909888065936</td><td>[3]</td><td>0.8277836843988817</td><td>976.516116235474</td><td>12m</td><td></td><td>4112.64</td><td>2016-03-31</td><td>[108.45..110.43GHz,31251.32kHz,1mJy/beam@10km/s,43.1uJy/beam@native, XX YY] U [110.45..112.33GHz,976.60kHz,1.1mJy/beam@10km/s,47.7uJy/beam@native, XX YY]</td><td>2606.155620549255</td><td>XX YY</td><td>2014-07-22 11:29:56</td><td>McNamara, Brian</td><td>2A0335_111_12m_C32-5</td><td>Sanders, Jeremy; Baum, Stefi; Russell, Helen; Combes, Francoise; Salome, Philippe; Tremblay, Grant; Donahue, Megan; O&apos;Connell, Robert; O&apos;Dea, Christopher; Voit, Mark; Nulsen, Paul; Oonk, Raymond; Edge, Alastair; Hamer, Stephen; Vantyghem, Adrian; Main, Robert; Wilman, Richard; Fabian, Andrew;</td><td>1.0096809521179075</td><td>0.03198805008682507</td><td>4.8730683</td><td>uid://A002/X5d50dc/X1c</td><td>uid://A002/X5d50dc/X1d</td><td>uid://A002/X877956/X176e</td><td>Understanding Molecular Gas Accretion and Feedback from Supermassive Black Holes</td><td>S</td><td>TARGET</td><td>57.07246246439364</td><td>10.60783856649499</td><td>Y</td><td>3</td><td>Galaxy groups and clusters</td><td>Cosmology</td><td>2012.1.00837.S</td><td>2A0335+096</td><td>[array([108.45, 110.43]), array([110.45, 112.33])]</td><td>MCXC J0338.6+0958</td><td>54.64708</td><td>9.9652</td><td>0.03634</td><td>False</td><td>False</td><td>True</td></tr>\n",
       "</table>"
      ],
      "text/plain": [
       "<Table masked=True length=1>\n",
       " Project code  ALMA source name ALMA RA  ... 12CO J=1-0 13CO J=1-0 C18O J=1-0\n",
       "                                  deg    ...                                 \n",
       "   bytes64         bytes256     float64  ...    bool       bool       bool   \n",
       "-------------- ---------------- -------- ... ---------- ---------- ----------\n",
       "2012.1.00837.S       2A0335+096 54.66875 ...      False      False       True"
      ]
     },
     "metadata": {},
     "output_type": "display_data"
    }
   ],
   "source": [
    "k=0 #counter\n",
    "\n",
    "idx = np.where((True in queryResults['12CO J=1-0']) & \n",
    "    (True in queryResults['13CO J=1-0']) &\n",
    "    (True in queryResults['C18O J=1-0']))\n",
    "\n",
    "display(queryResults[idx])\n"
   ]
  },
  {
   "cell_type": "code",
   "execution_count": 14,
   "metadata": {},
   "outputs": [
    {
     "name": "stdout",
     "output_type": "stream",
     "text": [
      "galaxies with 12CO, 13CO, AND C18O: 4\n"
     ]
    }
   ],
   "source": [
    "print(\"galaxies with 12CO, 13CO, AND C18O:\", k)"
   ]
  },
  {
   "cell_type": "markdown",
   "metadata": {},
   "source": [
    "Reload `ALMAxmatch` using IPythons `%autoreload` extenstion"
   ]
  },
  {
   "cell_type": "code",
   "execution_count": 9,
   "metadata": {},
   "outputs": [],
   "source": [
    "%load_ext autoreload\n",
    "%autoreload"
   ]
  },
  {
   "cell_type": "code",
   "execution_count": 10,
   "metadata": {},
   "outputs": [],
   "source": [
    "from ALMAxmatch import archiveSearch"
   ]
  },
  {
   "cell_type": "markdown",
   "metadata": {},
   "source": [
    "### runPayloadQuery Test"
   ]
  },
  {
   "cell_type": "code",
   "execution_count": 12,
   "metadata": {
    "scrolled": true
   },
   "outputs": [
    {
     "data": {
      "text/plain": [
       "{'frequency': '104.05893213270143 .. 109.78209695238095'}"
      ]
     },
     "execution_count": 12,
     "metadata": {},
     "output_type": "execute_result"
    }
   ],
   "source": [
    "payload = {'frequency':freqLimits, }\n",
    "\n",
    "payload"
   ]
  },
  {
   "cell_type": "code",
   "execution_count": 13,
   "metadata": {},
   "outputs": [],
   "source": [
    "testPayloadQuery = archiveSearch()"
   ]
  },
  {
   "cell_type": "code",
   "execution_count": 14,
   "metadata": {},
   "outputs": [],
   "source": [
    "testPayloadQuery.runPayloadQuery(payload=payload,science=True)"
   ]
  },
  {
   "cell_type": "code",
   "execution_count": 15,
   "metadata": {},
   "outputs": [
    {
     "data": {
      "text/html": [
       "<i>Table masked=True length=1689</i>\n",
       "<table id=\"table4549013912\" class=\"table-striped table-bordered table-condensed\">\n",
       "<thead><tr><th>Project code</th><th>Source name</th><th>RA</th><th>Dec</th><th>Galactic longitude</th><th>Galactic latitude</th><th>Band</th><th>Spatial resolution</th><th>Frequency resolution</th><th>Array</th><th>Mosaic</th><th>Integration</th><th>Release date</th><th>Frequency support</th><th>Velocity resolution</th><th>Pol products</th><th>Observation date</th><th>PI name</th><th>SB name</th><th>Proposal authors</th><th>Line sensitivity (10 km/s)</th><th>Continuum sensitivity</th><th>PWV</th><th>Group ous id</th><th>Member ous id</th><th>Asdm uid</th><th>Project title</th><th>Project type</th><th>Scan intent</th><th>Field of view</th><th>Largest angular scale</th><th>QA2 Status</th><th>COUNT</th><th>Science keyword</th><th>Scientific category</th><th>ASA_PROJECT_CODE</th></tr></thead>\n",
       "<thead><tr><th></th><th></th><th>deg</th><th>deg</th><th>deg</th><th>deg</th><th></th><th></th><th>kHz</th><th></th><th></th><th>s</th><th></th><th>GHz</th><th>m / s</th><th></th><th></th><th></th><th></th><th></th><th></th><th>mJy/beam</th><th>mm</th><th></th><th></th><th></th><th></th><th></th><th></th><th>arcs</th><th>arcs</th><th></th><th></th><th></th><th></th><th></th></tr></thead>\n",
       "<thead><tr><th>bytes64</th><th>bytes256</th><th>float64</th><th>float64</th><th>float64</th><th>float64</th><th>object</th><th>float64</th><th>float64</th><th>object</th><th>object</th><th>float64</th><th>object</th><th>bytes2700</th><th>float64</th><th>bytes64</th><th>object</th><th>bytes256</th><th>bytes128</th><th>bytes512</th><th>float64</th><th>float64</th><th>float32</th><th>bytes64</th><th>bytes64</th><th>bytes32</th><th>bytes256</th><th>bytes16</th><th>bytes256</th><th>float64</th><th>float64</th><th>bytes1</th><th>int64</th><th>bytes200</th><th>bytes200</th><th>bytes64</th></tr></thead>\n",
       "<tr><td>2011.0.00957.S</td><td>SPT_0103-45</td><td>15.797875000000001</td><td>-45.64827777777778</td><td>296.5034970667741</td><td>-71.3330336577803</td><td>[3]</td><td>8.004940808270794</td><td>976.657768509833</td><td>12m</td><td></td><td>151.2</td><td>2013-04-25</td><td>[91.67..93.55GHz,976.66kHz,7.4mJy/beam@10km/s,300.4uJy/beam@native, XX YY] U [93.55..95.42GHz,976.66kHz,7.3mJy/beam@10km/s,301.1uJy/beam@native, XX YY] U [103.67..105.55GHz,976.66kHz,7.3mJy/beam@10km/s,313.2uJy/beam@native, XX YY] U [105.55..107.42GHz,976.66kHz,7.3mJy/beam@10km/s,318.9uJy/beam@native, XX YY]</td><td>2725.895948314194</td><td>XX YY</td><td>2011-11-19 03:43:05</td><td>Weiss, Axel</td><td>Tuning3_1-2HA</td><td>Chapman, Scott; Brodwin, Mark; Greve, Thomas; Hezaveh, Yashar; Sharon, Keren; Ashby, Matthew; Menten, Karl; Carlstrom, John; Marrone, Dan; De Breuck, Carlos; Rosenman, Michael; Holzapfel, William; Vieira, Joaquin; Crawford, Thomas; Lupu, Roxana; Fassnacht, Chris; Holder, Gilbert; Aguirre, James;</td><td>7.260172793218402</td><td>0.1540486568273702</td><td>4.0281453</td><td></td><td>uid://A001/X74/X291</td><td>uid://A002/X321719/X723</td><td>The ALMA-SPT Redshift Survey</td><td>S</td><td>TARGET WVR</td><td>63.28655495409857</td><td>32.80138244373298</td><td>Y</td><td>14</td><td>Sub-mm Galaxies (SMG), Gravitational lenses</td><td>Galaxy evolution</td><td>2011.0.00957.S</td></tr>\n",
       "<tr><td>2011.0.00957.S</td><td>SPT_0103-45</td><td>15.797875000000001</td><td>-45.64827777777778</td><td>296.5034970667741</td><td>-71.3330336577803</td><td>[3]</td><td>10.727745046324552</td><td>976.6579716976725</td><td>12m</td><td></td><td>151.2</td><td>2013-04-25</td><td>[95.42..97.30GHz,976.66kHz,7.3mJy/beam@10km/s,304.2uJy/beam@native, XX YY] U [97.30..99.17GHz,976.66kHz,7.2mJy/beam@10km/s,303uJy/beam@native, XX YY] U [107.42..109.30GHz,976.66kHz,7.5mJy/beam@10km/s,327.9uJy/beam@native, XX YY] U [109.30..111.17GHz,976.66kHz,7.8mJy/beam@10km/s,343.8uJy/beam@native, XX YY]</td><td>2633.9398359361962</td><td>XX YY</td><td>2011-11-19 04:46:11</td><td>Weiss, Axel</td><td>Tuning4_1-2HA</td><td>Chapman, Scott; Brodwin, Mark; Greve, Thomas; Hezaveh, Yashar; Sharon, Keren; Ashby, Matthew; Menten, Karl; Carlstrom, John; Marrone, Dan; De Breuck, Carlos; Rosenman, Michael; Holzapfel, William; Vieira, Joaquin; Crawford, Thomas; Lupu, Roxana; Fassnacht, Chris; Holder, Gilbert; Aguirre, James;</td><td>7.468943547865293</td><td>0.15921203104645965</td><td>4.161038</td><td></td><td>uid://A001/X74/X293</td><td>uid://A002/X321719/X826</td><td>The ALMA-SPT Redshift Survey</td><td>S</td><td>TARGET WVR</td><td>60.988833626470466</td><td>43.958459712754184</td><td>Y</td><td>14</td><td>Sub-mm Galaxies (SMG), Gravitational lenses</td><td>Galaxy evolution</td><td>2011.0.00957.S</td></tr>\n",
       "<tr><td>2011.0.00957.S</td><td>SPT_0113-46</td><td>18.285375</td><td>-46.2963611111111</td><td>291.725192459293</td><td>-70.35680731865747</td><td>[3]</td><td>7.806784683409882</td><td>976.657768509833</td><td>12m</td><td></td><td>151.2</td><td>2013-04-25</td><td>[91.67..93.55GHz,976.66kHz,7.4mJy/beam@10km/s,300.6uJy/beam@native, XX YY] U [93.55..95.42GHz,976.66kHz,7.3mJy/beam@10km/s,301.3uJy/beam@native, XX YY] U [103.67..105.55GHz,976.66kHz,7.3mJy/beam@10km/s,313.5uJy/beam@native, XX YY] U [105.55..107.42GHz,976.66kHz,7.3mJy/beam@10km/s,319.2uJy/beam@native, XX YY]</td><td>2725.895948314194</td><td>XX YY</td><td>2011-11-19 03:43:05</td><td>Weiss, Axel</td><td>Tuning3_1-2HA</td><td>Chapman, Scott; Brodwin, Mark; Greve, Thomas; Hezaveh, Yashar; Sharon, Keren; Ashby, Matthew; Menten, Karl; Carlstrom, John; Marrone, Dan; De Breuck, Carlos; Rosenman, Michael; Holzapfel, William; Vieira, Joaquin; Crawford, Thomas; Lupu, Roxana; Fassnacht, Chris; Holder, Gilbert; Aguirre, James;</td><td>7.266922806270144</td><td>0.15418158889140254</td><td>4.0281453</td><td></td><td>uid://A001/X74/X291</td><td>uid://A002/X321719/X723</td><td>The ALMA-SPT Redshift Survey</td><td>S</td><td>TARGET WVR</td><td>63.28655495409857</td><td>31.989409564631213</td><td>Y</td><td>14</td><td>Sub-mm Galaxies (SMG), Gravitational lenses</td><td>Galaxy evolution</td><td>2011.0.00957.S</td></tr>\n",
       "<tr><td>2011.0.00957.S</td><td>SPT_0113-46</td><td>18.285375</td><td>-46.2963611111111</td><td>291.725192459293</td><td>-70.35680731865747</td><td>[3]</td><td>10.173636104942148</td><td>976.6579716976725</td><td>12m</td><td></td><td>151.2</td><td>2013-04-25</td><td>[95.42..97.30GHz,976.66kHz,7.4mJy/beam@10km/s,304.5uJy/beam@native, XX YY] U [97.30..99.17GHz,976.66kHz,7.3mJy/beam@10km/s,303.3uJy/beam@native, XX YY] U [107.42..109.30GHz,976.66kHz,7.5mJy/beam@10km/s,328.3uJy/beam@native, XX YY] U [109.30..111.17GHz,976.66kHz,7.8mJy/beam@10km/s,344.3uJy/beam@native, XX YY]</td><td>2633.9398359361962</td><td>XX YY</td><td>2011-11-19 04:46:11</td><td>Weiss, Axel</td><td>Tuning4_1-2HA</td><td>Chapman, Scott; Brodwin, Mark; Greve, Thomas; Hezaveh, Yashar; Sharon, Keren; Ashby, Matthew; Menten, Karl; Carlstrom, John; Marrone, Dan; De Breuck, Carlos; Rosenman, Michael; Holzapfel, William; Vieira, Joaquin; Crawford, Thomas; Lupu, Roxana; Fassnacht, Chris; Holder, Gilbert; Aguirre, James;</td><td>7.477244332188736</td><td>0.15936862933588364</td><td>4.161038</td><td></td><td>uid://A001/X74/X293</td><td>uid://A002/X321719/X826</td><td>The ALMA-SPT Redshift Survey</td><td>S</td><td>TARGET WVR</td><td>60.988833626470466</td><td>41.68791958796063</td><td>Y</td><td>14</td><td>Sub-mm Galaxies (SMG), Gravitational lenses</td><td>Galaxy evolution</td><td>2011.0.00957.S</td></tr>\n",
       "<tr><td>2011.0.00957.S</td><td>SPT_0125-47</td><td>21.279458333333338</td><td>-47.39902777777778</td><td>287.1112089670969</td><td>-68.68132053101337</td><td>[3]</td><td>7.654228001630472</td><td>976.657768509833</td><td>12m</td><td></td><td>151.2</td><td>2013-04-25</td><td>[91.67..93.55GHz,976.66kHz,7.4mJy/beam@10km/s,301uJy/beam@native, XX YY] U [93.55..95.42GHz,976.66kHz,7.4mJy/beam@10km/s,301.7uJy/beam@native, XX YY] U [103.67..105.55GHz,976.66kHz,7.3mJy/beam@10km/s,314uJy/beam@native, XX YY] U [105.55..107.42GHz,976.66kHz,7.3mJy/beam@10km/s,319.8uJy/beam@native, XX YY]</td><td>2725.895948314194</td><td>XX YY</td><td>2011-11-19 03:43:05</td><td>Weiss, Axel</td><td>Tuning3_1-2HA</td><td>Chapman, Scott; Brodwin, Mark; Greve, Thomas; Hezaveh, Yashar; Sharon, Keren; Ashby, Matthew; Menten, Karl; Carlstrom, John; Marrone, Dan; De Breuck, Carlos; Rosenman, Michael; Holzapfel, William; Vieira, Joaquin; Crawford, Thomas; Lupu, Roxana; Fassnacht, Chris; Holder, Gilbert; Aguirre, James;</td><td>7.278982907678761</td><td>0.15441907905567298</td><td>4.0281453</td><td></td><td>uid://A001/X74/X291</td><td>uid://A002/X321719/X723</td><td>The ALMA-SPT Redshift Survey</td><td>S</td><td>TARGET WVR</td><td>63.28655495409857</td><td>31.364286883121427</td><td>Y</td><td>14</td><td>Sub-mm Galaxies (SMG), Gravitational lenses</td><td>Galaxy evolution</td><td>2011.0.00957.S</td></tr>\n",
       "<tr><td>2011.0.00957.S</td><td>SPT_0125-47</td><td>21.279458333333338</td><td>-47.39902777777778</td><td>287.1112089670969</td><td>-68.68132053101337</td><td>[3]</td><td>9.676980740034256</td><td>976.6579716976725</td><td>12m</td><td></td><td>151.2</td><td>2013-04-25</td><td>[95.42..97.30GHz,976.66kHz,7.4mJy/beam@10km/s,304.9uJy/beam@native, XX YY] U [97.30..99.17GHz,976.66kHz,7.3mJy/beam@10km/s,303.7uJy/beam@native, XX YY] U [107.42..109.30GHz,976.66kHz,7.5mJy/beam@10km/s,328.9uJy/beam@native, XX YY] U [109.30..111.17GHz,976.66kHz,7.8mJy/beam@10km/s,345.1uJy/beam@native, XX YY]</td><td>2633.9398359361962</td><td>XX YY</td><td>2011-11-19 04:46:11</td><td>Weiss, Axel</td><td>Tuning4_1-2HA</td><td>Chapman, Scott; Brodwin, Mark; Greve, Thomas; Hezaveh, Yashar; Sharon, Keren; Ashby, Matthew; Menten, Karl; Carlstrom, John; Marrone, Dan; De Breuck, Carlos; Rosenman, Michael; Holzapfel, William; Vieira, Joaquin; Crawford, Thomas; Lupu, Roxana; Fassnacht, Chris; Holder, Gilbert; Aguirre, James;</td><td>7.4920762739350435</td><td>0.15964838269865667</td><td>4.161038</td><td></td><td>uid://A001/X74/X293</td><td>uid://A002/X321719/X826</td><td>The ALMA-SPT Redshift Survey</td><td>S</td><td>TARGET WVR</td><td>60.988833626470466</td><td>39.65280365677929</td><td>Y</td><td>14</td><td>Sub-mm Galaxies (SMG), Gravitational lenses</td><td>Galaxy evolution</td><td>2011.0.00957.S</td></tr>\n",
       "<tr><td>2011.0.00957.S</td><td>SPT_0125-50</td><td>21.45629166666667</td><td>-50.63905555555556</td><td>289.6681152952509</td><td>-65.59444802712612</td><td>[3]</td><td>8.142043542711383</td><td>976.657768509833</td><td>12m</td><td></td><td>151.2</td><td>2013-04-25</td><td>[91.67..93.55GHz,976.66kHz,7.4mJy/beam@10km/s,302.4uJy/beam@native, XX YY] U [93.55..95.42GHz,976.66kHz,7.4mJy/beam@10km/s,303.1uJy/beam@native, XX YY] U [103.67..105.55GHz,976.66kHz,7.3mJy/beam@10km/s,315.7uJy/beam@native, XX YY] U [105.55..107.42GHz,976.66kHz,7.4mJy/beam@10km/s,321.7uJy/beam@native, XX YY]</td><td>2725.895948314194</td><td>XX YY</td><td>2011-11-19 03:43:05</td><td>Weiss, Axel</td><td>Tuning3_1-2HA</td><td>Chapman, Scott; Brodwin, Mark; Greve, Thomas; Hezaveh, Yashar; Sharon, Keren; Ashby, Matthew; Menten, Karl; Carlstrom, John; Marrone, Dan; De Breuck, Carlos; Rosenman, Michael; Holzapfel, William; Vieira, Joaquin; Crawford, Thomas; Lupu, Roxana; Fassnacht, Chris; Holder, Gilbert; Aguirre, James;</td><td>7.318873984883067</td><td>0.15520447133789222</td><td>4.0281453</td><td></td><td>uid://A001/X74/X291</td><td>uid://A002/X321719/X723</td><td>The ALMA-SPT Redshift Survey</td><td>S</td><td>TARGET WVR</td><td>63.28655495409857</td><td>33.3631803800551</td><td>Y</td><td>14</td><td>Sub-mm Galaxies (SMG), Gravitational lenses</td><td>Galaxy evolution</td><td>2011.0.00957.S</td></tr>\n",
       "<tr><td>2011.0.00957.S</td><td>SPT_0125-50</td><td>21.45629166666667</td><td>-50.63905555555556</td><td>289.6681152952509</td><td>-65.59444802712612</td><td>[3]</td><td>10.27280537144886</td><td>976.6579716976725</td><td>12m</td><td></td><td>151.2</td><td>2013-04-25</td><td>[95.42..97.30GHz,976.66kHz,7.4mJy/beam@10km/s,306.4uJy/beam@native, XX YY] U [97.30..99.17GHz,976.66kHz,7.3mJy/beam@10km/s,305.1uJy/beam@native, XX YY] U [107.42..109.30GHz,976.66kHz,7.5mJy/beam@10km/s,331.1uJy/beam@native, XX YY] U [109.30..111.17GHz,976.66kHz,7.9mJy/beam@10km/s,347.7uJy/beam@native, XX YY]</td><td>2633.9398359361962</td><td>XX YY</td><td>2011-11-19 04:46:11</td><td>Weiss, Axel</td><td>Tuning4_1-2HA</td><td>Chapman, Scott; Brodwin, Mark; Greve, Thomas; Hezaveh, Yashar; Sharon, Keren; Ashby, Matthew; Menten, Karl; Carlstrom, John; Marrone, Dan; De Breuck, Carlos; Rosenman, Michael; Holzapfel, William; Vieira, Joaquin; Crawford, Thomas; Lupu, Roxana; Fassnacht, Chris; Holder, Gilbert; Aguirre, James;</td><td>7.541145885432841</td><td>0.16057338147508105</td><td>4.161038</td><td></td><td>uid://A001/X74/X293</td><td>uid://A002/X321719/X826</td><td>The ALMA-SPT Redshift Survey</td><td>S</td><td>TARGET WVR</td><td>60.988833626470466</td><td>42.09427974917382</td><td>Y</td><td>14</td><td>Sub-mm Galaxies (SMG), Gravitational lenses</td><td>Galaxy evolution</td><td>2011.0.00957.S</td></tr>\n",
       "<tr><td>2011.0.00957.S</td><td>SPT_0128-51</td><td>22.038916666666665</td><td>-51.49661111111111</td><td>289.51191127364234</td><td>-64.66433116613277</td><td>[3]</td><td>8.232002861990082</td><td>976.657768509833</td><td>12m</td><td></td><td>151.2</td><td>2013-04-25</td><td>[91.67..93.55GHz,976.66kHz,7.5mJy/beam@10km/s,302.8uJy/beam@native, XX YY] U [93.55..95.42GHz,976.66kHz,7.4mJy/beam@10km/s,303.5uJy/beam@native, XX YY] U [103.67..105.55GHz,976.66kHz,7.3mJy/beam@10km/s,316.2uJy/beam@native, XX YY] U [105.55..107.42GHz,976.66kHz,7.4mJy/beam@10km/s,322.3uJy/beam@native, XX YY]</td><td>2725.895948314194</td><td>XX YY</td><td>2011-11-19 03:43:05</td><td>Weiss, Axel</td><td>Tuning3_1-2HA</td><td>Chapman, Scott; Brodwin, Mark; Greve, Thomas; Hezaveh, Yashar; Sharon, Keren; Ashby, Matthew; Menten, Karl; Carlstrom, John; Marrone, Dan; De Breuck, Carlos; Rosenman, Michael; Holzapfel, William; Vieira, Joaquin; Crawford, Thomas; Lupu, Roxana; Fassnacht, Chris; Holder, Gilbert; Aguirre, James;</td><td>7.330619927177622</td><td>0.15543568622610568</td><td>4.0281453</td><td></td><td>uid://A001/X74/X291</td><td>uid://A002/X321719/X723</td><td>The ALMA-SPT Redshift Survey</td><td>S</td><td>TARGET WVR</td><td>63.28655495409857</td><td>33.731801473791336</td><td>Y</td><td>14</td><td>Sub-mm Galaxies (SMG), Gravitational lenses</td><td>Galaxy evolution</td><td>2011.0.00957.S</td></tr>\n",
       "<tr><td>...</td><td>...</td><td>...</td><td>...</td><td>...</td><td>...</td><td>...</td><td>...</td><td>...</td><td>...</td><td>...</td><td>...</td><td>...</td><td>...</td><td>...</td><td>...</td><td>...</td><td>...</td><td>...</td><td>...</td><td>...</td><td>...</td><td>...</td><td>...</td><td>...</td><td>...</td><td>...</td><td>...</td><td>...</td><td>...</td><td>...</td><td>...</td><td>...</td><td>...</td><td>...</td><td>...</td></tr>\n",
       "<tr><td>2017.1.01676.S</td><td>HS1442</td><td>221.22362500000875</td><td>29.318222222222463</td><td>44.65335892888089</td><td>64.97302242411301</td><td>[3]</td><td>1.8003203944014459</td><td>31248.673554400877</td><td>12m</td><td></td><td>816.48</td><td>2019-04-25</td><td>[91.42..93.40GHz,31248.67kHz,1.1mJy/beam@10km/s,44.1uJy/beam@native, XX YY] U [93.36..95.34GHz,31248.67kHz,1.1mJy/beam@10km/s,44.3uJy/beam@native, XX YY] U [103.42..105.40GHz,31248.67kHz,1.1mJy/beam@10km/s,46.7uJy/beam@native, XX YY] U [105.42..107.40GHz,31248.67kHz,1.1mJy/beam@10km/s,47.9uJy/beam@native, XX YY]</td><td>87220.9201363223</td><td>XX YY</td><td>2018-04-23 05:21:50</td><td>Ross, Colin</td><td>HS1442_a_03_TM1</td><td>Geach, James; Chapman, Scott; Bertoldi, Frank; Serjeant, Stephen; Gao, Yu; Babul, Arif; Matsuda, Yuichi; Smail, Ian; Wang, Ran; Lacaille, Kevin; Steidel, Charles; Ivison, Rob; Sargent, Mark; Wang, Wei-Hao; Webb, Tracy; Yang, Yujin; Scott, Douglas; Ao, Yiping;</td><td>1.1182186079780483</td><td>0.022823050666738964</td><td>2.8672566</td><td>uid://A001/X12cc/X87</td><td>uid://A001/X12cc/X88</td><td>uid://A002/Xcc626d/X9d08</td><td>ALMA followup to the S2-WEB survey: Constraining the fraction of molecular outflows in the most luminous QSOs</td><td>S</td><td>TARGET</td><td>63.37367959158785</td><td>10.613799367699485</td><td>Y</td><td>0</td><td>Active Galactic Nuclei (AGN)/Quasars (QSO), Merging and interacting galaxies</td><td>Active galaxies</td><td>2017.1.01676.S</td></tr>\n",
       "<tr><td>2017.1.00271.S</td><td>Ridge_center</td><td>84.92211047123145</td><td>-70.12720509058221</td><td>280.6496644854789</td><td>-31.466823753041744</td><td>[3]</td><td>50.57240246772627</td><td>122.07567991056972</td><td>TP</td><td></td><td>71032.032</td><td>2019-04-25</td><td>[97.84..97.96GHz,122.08kHz,14.3mJy/beam@10km/s,2.3mJy/beam@native, XX YY] U [97.94..99.94GHz,1953.22kHz,14.3mJy/beam@10km/s,580.4uJy/beam@native, XX YY] U [109.63..109.75GHz,122.08kHz,15.6mJy/beam@10km/s,2.7mJy/beam@native, XX YY] U [110.05..110.17GHz,122.08kHz,15.8mJy/beam@10km/s,2.7mJy/beam@native, XX YY]</td><td>332.19889412631005</td><td>XX YY</td><td>2018-01-09 01:34:59</td><td>Indebetouw, Remy</td><td>Ridge_ce_b_03_TP</td><td>Onishi, Toshikazu; Chen, Rosie; Ott, Juergen; Zahorecz, Sarolta; Tokuda, Kazuki; Wong, Tony;</td><td>15.600045885314275</td><td>0.5396926842875832</td><td>2.9391875</td><td>uid://A001/X1273/X2ea</td><td>uid://A001/X12a3/X1bb</td><td>uid://A002/Xc8ed16/X9980</td><td>Why is ~ 1/4 of the LMC&apos;s molecular gas not forming massive stars?</td><td>S</td><td>TARGET</td><td>60.57435965098994</td><td>896.4206435610785</td><td>Y</td><td>0</td><td>High-mass star formation, Inter-Stellar Medium (ISM)/Molecular clouds</td><td>ISM and star formation</td><td>2017.1.00271.S</td></tr>\n",
       "<tr><td>2017.1.01616.S</td><td>SN2006tf</td><td>191.56587499998332</td><td>11.432055560000528</td><td>298.2540377388665</td><td>74.2567388041428</td><td>[3]</td><td>1.03121923494801</td><td>976.5299740541279</td><td>12m</td><td></td><td>3931.2</td><td>2019-04-25</td><td>[92.50..94.49GHz,31249.54kHz,711.3uJy/beam@10km/s,28.1uJy/beam@native, XX YY] U [94.26..96.24GHz,31249.54kHz,705.6uJy/beam@10km/s,28.1uJy/beam@native, XX YY] U [104.40..106.38GHz,31249.54kHz,705uJy/beam@10km/s,29.6uJy/beam@native, XX YY] U [106.39..108.26GHz,976.55kHz,716.1uJy/beam@10km/s,31.3uJy/beam@native, XX YY]</td><td>2703.9997734523813</td><td>XX YY</td><td>2018-03-18 05:07:36</td><td>Kim, Sam</td><td>SN2006tf_a_03_TM1</td><td>König, Sabine; Kruehler, Thomas; Schulze, Steve; Amorin, Ricardo; Michalowski, Michal; Thöne, Christina; Bauer, Franz; de Ugarte Postigo, Antonio; Leloudas, Giorgos; Ibar, Edo;</td><td>0.7049746789375838</td><td>0.014589608786997657</td><td>4.7876916</td><td>uid://A001/X1273/X46e</td><td>uid://A001/X1273/X46f</td><td>uid://A002/Xca795f/X214c</td><td>Superluminous Supernova Host galaxies in CO - Assessing Molecular Gas in Nascent Starbursts</td><td>S</td><td>TARGET</td><td>62.759518956947545</td><td>9.233810614816875</td><td>Y</td><td>0</td><td>Starburst galaxies</td><td>Active galaxies</td><td>2017.1.01616.S</td></tr>\n",
       "<tr><td>2017.1.00051.S</td><td>GRS_1915+105</td><td>288.7981085197454</td><td>10.94574607080332</td><td>45.36572598095569</td><td>-0.21907992248395228</td><td>[3]</td><td>1.6938422946051965</td><td>31245.51094998715</td><td>12m</td><td></td><td>3113.856</td><td>2019-04-27</td><td>[89.49..91.47GHz,31245.51kHz,509uJy/beam@10km/s,19.8uJy/beam@native, XX YY] U [91.43..93.41GHz,31245.51kHz,502uJy/beam@10km/s,19.7uJy/beam@native, XX YY] U [101.49..103.47GHz,31245.51kHz,483.8uJy/beam@10km/s,20uJy/beam@native, XX YY] U [103.49..105.47GHz,31245.51kHz,484.4uJy/beam@10km/s,20.2uJy/beam@native, XX YY]</td><td>88799.46930936063</td><td>XX YY</td><td>2018-04-19 07:44:39</td><td>Casella, Piergiorgio</td><td>GRS_1915_c_03_TM1</td><td>Miller-Jones, James; Vincentelli, Federico Maria; Belloni, Tomaso; Diaz Trigo, Maria; Sivakoff, Gregory;</td><td>0.4843919336744103</td><td>0.009961596379823459</td><td>0.8909945</td><td>uid://A001/X1284/Xaaa</td><td>uid://A001/X1284/Xaab</td><td>uid://A002/Xcc3ae3/X6cf6</td><td>Constraining jet physics with multi-lambda variability studies of GRS 1915+105</td><td>S</td><td>TARGET</td><td>64.62826390599761</td><td>9.795003464107912</td><td>Y</td><td>0</td><td>Black holes</td><td>Stars and stellar evolution</td><td>2017.1.00051.S</td></tr>\n",
       "<tr><td>2017.1.01355.L</td><td>G333.60</td><td>245.53899999997628</td><td>-50.099694444452496</td><td>333.6040259667905</td><td>-0.21207242911865257</td><td>[3]</td><td>53.33598647365587</td><td>122.0588555098436</td><td>TP</td><td></td><td>37094.4</td><td>2019-04-29</td><td>[91.71..92.71GHz,976.49kHz,13.7mJy/beam@10km/s,760.8uJy/beam@native, XX YY] U [93.13..93.25GHz,122.06kHz,13.7mJy/beam@10km/s,2.2mJy/beam@native, XX YY] U [102.12..103.12GHz,976.49kHz,13.6mJy/beam@10km/s,797.9uJy/beam@native, XX YY] U [104.52..105.52GHz,976.49kHz,13.8mJy/beam@10km/s,814.3uJy/beam@native, XX YY]</td><td>392.37226673139884</td><td>XX YY</td><td>2018-01-26 09:41:48</td><td>Motte, Frederique</td><td>G333.60_a_03_TP</td><td>Nguyen Luong, Quang; Bronfman, Leonardo; Hennebelle, Patrick; Galvan-Madrid, Roberto; Nakamura, Fumitaka; Bally, John; Menten, Karl; Finger, Ricardo; Lu, Xing; Molet, Jordan; Braine, Jonathan; Ohashi, Satoshi; Herpin, Fabrice; Rosolowsky, Erik; Gusdorf, Antoine; Chen, Vivien; Svoboda, Brian; Sakai, Takeshi; Guzman, Andres Ernesto; Ladjelate, Bilal; Reyes, Nicolas; Nony, Thomas; Marsh, Kenneth; Battersby, Cara; Gomez, Gilberto; Csengeri, Timea; Di Francesco, James; Bontemps, Sylvain; López-Sepulcre, Ana; Ta</td><td>13.75812000440658</td><td>0.4462726232283303</td><td>5.3726788</td><td>uid://A001/X1296/X1a2</td><td>uid://A001/X1296/X1a9</td><td>uid://A002/Xc99ad7/Xa232</td><td>ALMA-IMF: ALMA transforms our view of the origin of stellar masses</td><td>L</td><td>TARGET</td><td>63.88458380396162</td><td>945.4075954801879</td><td>Y</td><td>0</td><td>High-mass star formation, Low-mass star formation</td><td>ISM and star formation</td><td>2017.1.01355.L</td></tr>\n",
       "<tr><td>2017.1.00025.S</td><td>HATLAS_J143430.9+004133</td><td>218.62874999995728</td><td>0.6925000000002326</td><td>350.32414787913444</td><td>53.79733100879668</td><td>[3]</td><td>1.7383409241715013</td><td>1952.9904619728904</td><td>12m</td><td></td><td>151.2</td><td>2019-04-30</td><td>[93.80..95.79GHz,31247.85kHz,2.4mJy/beam@10km/s,95.1uJy/beam@native, XX YY] U [95.67..97.66GHz,31247.85kHz,2.4mJy/beam@10km/s,95.5uJy/beam@native, XX YY] U [105.87..107.86GHz,31247.85kHz,2.4mJy/beam@10km/s,101.2uJy/beam@native, XX YY] U [106.93..108.80GHz,1952.99kHz,2.4mJy/beam@10km/s,106.1uJy/beam@native, XX YY]</td><td>5380.769302494959</td><td>XX YY</td><td>2018-04-10 04:07:54</td><td>Vlahakis, Catherine</td><td>HATLAS_J_a_03_TM1</td><td>Valiante, Elisabetta; Smith, Matthew; Oteo, Ivan; Gomez, Haley; van Kampen, Eelco; Serjeant, Stephen; Dunne, Loretta; Cigan, Phil; Rowlands, Kate; van der Werf, Paul; Ibar, Edo; Ivison, Rob; Eales, Stephen; Smith, Daniel; Papadopoulos, Padelis; Cooray, Asantha; Bourne, Nathan; Viaene, Sebastien; Temi, Pasquale; Hughes, Thomas; Leeuw, Lerothodi;</td><td>2.3974525247909693</td><td>0.04958099719555209</td><td>4.7583475</td><td>uid://A001/X1284/X152b</td><td>uid://A001/X1284/X152c</td><td>uid://A002/Xcbdb2a/X3612</td><td>Unveiling molecular gas in local Herschel-ATLAS galaxies</td><td>S</td><td>TARGET</td><td>62.18969193906132</td><td>9.50387007987371</td><td>Y</td><td>0</td><td>Surveys of galaxies</td><td>Galaxy evolution</td><td>2017.1.00025.S</td></tr>\n",
       "<tr><td>2017.1.00025.S</td><td>HATLAS_J143701.0-010421</td><td>219.25416666662366</td><td>-1.0725000000003326</td><td>349.2125706716637</td><td>52.04877321827001</td><td>[3]</td><td>1.744979692565736</td><td>1952.9904619728904</td><td>12m</td><td></td><td>151.2</td><td>2019-04-30</td><td>[93.80..95.79GHz,31247.85kHz,2.4mJy/beam@10km/s,94.9uJy/beam@native, XX YY] U [95.67..97.66GHz,31247.85kHz,2.4mJy/beam@10km/s,95.3uJy/beam@native, XX YY] U [105.87..107.86GHz,31247.85kHz,2.4mJy/beam@10km/s,100.9uJy/beam@native, XX YY] U [106.93..108.80GHz,1952.99kHz,2.4mJy/beam@10km/s,105.8uJy/beam@native, XX YY]</td><td>5380.769302494959</td><td>XX YY</td><td>2018-04-10 04:07:54</td><td>Vlahakis, Catherine</td><td>HATLAS_J_a_03_TM1</td><td>Valiante, Elisabetta; Smith, Matthew; Oteo, Ivan; Gomez, Haley; van Kampen, Eelco; Serjeant, Stephen; Dunne, Loretta; Cigan, Phil; Rowlands, Kate; van der Werf, Paul; Ibar, Edo; Ivison, Rob; Eales, Stephen; Smith, Daniel; Papadopoulos, Padelis; Cooray, Asantha; Bourne, Nathan; Viaene, Sebastien; Temi, Pasquale; Hughes, Thomas; Leeuw, Lerothodi;</td><td>2.390844932968551</td><td>0.04945984921066412</td><td>4.7583475</td><td>uid://A001/X1284/X152b</td><td>uid://A001/X1284/X152c</td><td>uid://A002/Xcbdb2a/X3612</td><td>Unveiling molecular gas in local Herschel-ATLAS galaxies</td><td>S</td><td>TARGET</td><td>62.18969193906132</td><td>9.54016560247912</td><td>Y</td><td>0</td><td>Surveys of galaxies</td><td>Galaxy evolution</td><td>2017.1.00025.S</td></tr>\n",
       "<tr><td>2017.1.00025.S</td><td>HATLAS_J144244.2+015846</td><td>220.68416666662236</td><td>1.9794444444451624</td><td>354.34030540461123</td><td>53.35680297627943</td><td>[3]</td><td>1.763115722917743</td><td>1952.9904619728904</td><td>12m</td><td></td><td>151.2</td><td>2019-04-30</td><td>[93.80..95.79GHz,31247.85kHz,2.4mJy/beam@10km/s,95.2uJy/beam@native, XX YY] U [95.67..97.66GHz,31247.85kHz,2.4mJy/beam@10km/s,95.6uJy/beam@native, XX YY] U [105.87..107.86GHz,31247.85kHz,2.4mJy/beam@10km/s,101.4uJy/beam@native, XX YY] U [106.93..108.80GHz,1952.99kHz,2.4mJy/beam@10km/s,106.3uJy/beam@native, XX YY]</td><td>5380.769302494959</td><td>XX YY</td><td>2018-04-10 04:07:54</td><td>Vlahakis, Catherine</td><td>HATLAS_J_a_03_TM1</td><td>Valiante, Elisabetta; Smith, Matthew; Oteo, Ivan; Gomez, Haley; van Kampen, Eelco; Serjeant, Stephen; Dunne, Loretta; Cigan, Phil; Rowlands, Kate; van der Werf, Paul; Ibar, Edo; Ivison, Rob; Eales, Stephen; Smith, Daniel; Papadopoulos, Padelis; Cooray, Asantha; Bourne, Nathan; Viaene, Sebastien; Temi, Pasquale; Hughes, Thomas; Leeuw, Lerothodi;</td><td>2.402696335208629</td><td>0.049677120594931054</td><td>4.7583475</td><td>uid://A001/X1284/X152b</td><td>uid://A001/X1284/X152c</td><td>uid://A002/Xcbdb2a/X3612</td><td>Unveiling molecular gas in local Herschel-ATLAS galaxies</td><td>S</td><td>TARGET</td><td>62.18969193906132</td><td>9.639319038858275</td><td>Y</td><td>0</td><td>Surveys of galaxies</td><td>Galaxy evolution</td><td>2017.1.00025.S</td></tr>\n",
       "<tr><td>2017.1.00025.S</td><td>HATLAS_J144652.0+014010</td><td>221.71666666661926</td><td>1.6694444444451608</td><td>355.20175501455617</td><td>52.41292426978146</td><td>[3]</td><td>1.7756912465240864</td><td>1952.9904619728904</td><td>12m</td><td></td><td>151.2</td><td>2019-04-30</td><td>[93.80..95.79GHz,31247.85kHz,2.4mJy/beam@10km/s,95.2uJy/beam@native, XX YY] U [95.67..97.66GHz,31247.85kHz,2.4mJy/beam@10km/s,95.6uJy/beam@native, XX YY] U [105.87..107.86GHz,31247.85kHz,2.4mJy/beam@10km/s,101.4uJy/beam@native, XX YY] U [106.93..108.80GHz,1952.99kHz,2.4mJy/beam@10km/s,106.3uJy/beam@native, XX YY]</td><td>5380.769302494959</td><td>XX YY</td><td>2018-04-10 04:07:54</td><td>Vlahakis, Catherine</td><td>HATLAS_J_a_03_TM1</td><td>Valiante, Elisabetta; Smith, Matthew; Oteo, Ivan; Gomez, Haley; van Kampen, Eelco; Serjeant, Stephen; Dunne, Loretta; Cigan, Phil; Rowlands, Kate; van der Werf, Paul; Ibar, Edo; Ivison, Rob; Eales, Stephen; Smith, Daniel; Papadopoulos, Padelis; Cooray, Asantha; Bourne, Nathan; Viaene, Sebastien; Temi, Pasquale; Hughes, Thomas; Leeuw, Lerothodi;</td><td>2.4013992980350936</td><td>0.049653346479280505</td><td>4.7583475</td><td>uid://A001/X1284/X152b</td><td>uid://A001/X1284/X152c</td><td>uid://A002/Xcbdb2a/X3612</td><td>Unveiling molecular gas in local Herschel-ATLAS galaxies</td><td>S</td><td>TARGET</td><td>62.18969193906132</td><td>9.708072032519766</td><td>Y</td><td>0</td><td>Surveys of galaxies</td><td>Galaxy evolution</td><td>2017.1.00025.S</td></tr>\n",
       "<tr><td>2017.1.01355.L</td><td>W51-E</td><td>290.9340833333202</td><td>14.508194368278476</td><td>49.48906730459607</td><td>-0.3890933507007016</td><td>[3]</td><td>1.6283051697926239</td><td>122.05312323889048</td><td>12m</td><td>mosaic</td><td>811.171</td><td>2019-04-30</td><td>[91.71..92.65GHz,976.43kHz,1.5mJy/beam@10km/s,84.8uJy/beam@native, XX YY] U [93.10..93.21GHz,122.05kHz,1.5mJy/beam@10km/s,240.2uJy/beam@native, XX YY] U [102.11..103.05GHz,976.43kHz,1.5mJy/beam@10km/s,87.6uJy/beam@native, XX YY] U [104.51..105.45GHz,976.43kHz,1.5mJy/beam@10km/s,89.2uJy/beam@native, XX YY]</td><td>392.485257051394</td><td>XX YY</td><td>2018-04-09 09:36:45</td><td>Motte, Frederique</td><td>W51-E_a_03_TM2</td><td>Nguyen Luong, Quang; Bronfman, Leonardo; Hennebelle, Patrick; Galvan-Madrid, Roberto; Nakamura, Fumitaka; Bally, John; Menten, Karl; Finger, Ricardo; Lu, Xing; Molet, Jordan; Braine, Jonathan; Ohashi, Satoshi; Herpin, Fabrice; Rosolowsky, Erik; Gusdorf, Antoine; Chen, Vivien; Svoboda, Brian; Sakai, Takeshi; Guzman, Andres Ernesto; Ladjelate, Bilal; Reyes, Nicolas; Nony, Thomas; Marsh, Kenneth; Battersby, Cara; Gomez, Gilberto; Csengeri, Timea; Di Francesco, James; Bontemps, Sylvain; López-Sepulcre, Ana; Ta</td><td>1.4600960893618122</td><td>0.04926080361064086</td><td>3.0635426</td><td>uid://A001/X1296/X106</td><td>uid://A001/X1296/X109</td><td>uid://A002/Xcc626d/Xb34f</td><td>ALMA-IMF: ALMA transforms our view of the origin of stellar masses</td><td>L</td><td>TARGET</td><td>127.7798970563214</td><td>9.600600229669341</td><td>Y</td><td>0</td><td>High-mass star formation, Low-mass star formation</td><td>ISM and star formation</td><td>2017.1.01355.L</td></tr>\n",
       "</table>"
      ],
      "text/plain": [
       "<Table masked=True length=1689>\n",
       " Project code        Source name       ... ASA_PROJECT_CODE\n",
       "                                       ...                 \n",
       "   bytes64             bytes256        ...     bytes64     \n",
       "-------------- ----------------------- ... ----------------\n",
       "2011.0.00957.S             SPT_0103-45 ...   2011.0.00957.S\n",
       "2011.0.00957.S             SPT_0103-45 ...   2011.0.00957.S\n",
       "2011.0.00957.S             SPT_0113-46 ...   2011.0.00957.S\n",
       "2011.0.00957.S             SPT_0113-46 ...   2011.0.00957.S\n",
       "2011.0.00957.S             SPT_0125-47 ...   2011.0.00957.S\n",
       "2011.0.00957.S             SPT_0125-47 ...   2011.0.00957.S\n",
       "2011.0.00957.S             SPT_0125-50 ...   2011.0.00957.S\n",
       "2011.0.00957.S             SPT_0125-50 ...   2011.0.00957.S\n",
       "2011.0.00957.S             SPT_0128-51 ...   2011.0.00957.S\n",
       "           ...                     ... ...              ...\n",
       "2017.1.01676.S                  HS1442 ...   2017.1.01676.S\n",
       "2017.1.00271.S            Ridge_center ...   2017.1.00271.S\n",
       "2017.1.01616.S                SN2006tf ...   2017.1.01616.S\n",
       "2017.1.00051.S            GRS_1915+105 ...   2017.1.00051.S\n",
       "2017.1.01355.L                 G333.60 ...   2017.1.01355.L\n",
       "2017.1.00025.S HATLAS_J143430.9+004133 ...   2017.1.00025.S\n",
       "2017.1.00025.S HATLAS_J143701.0-010421 ...   2017.1.00025.S\n",
       "2017.1.00025.S HATLAS_J144244.2+015846 ...   2017.1.00025.S\n",
       "2017.1.00025.S HATLAS_J144652.0+014010 ...   2017.1.00025.S\n",
       "2017.1.01355.L                   W51-E ...   2017.1.01355.L"
      ]
     },
     "execution_count": 15,
     "metadata": {},
     "output_type": "execute_result"
    }
   ],
   "source": [
    "testPayloadQuery.queryResults"
   ]
  },
  {
   "cell_type": "markdown",
   "metadata": {},
   "source": [
    "## runPayloadQueryWithLines test"
   ]
  },
  {
   "cell_type": "code",
   "execution_count": 11,
   "metadata": {},
   "outputs": [],
   "source": [
    "testPayloadLinesQuery = archiveSearch()"
   ]
  },
  {
   "cell_type": "code",
   "execution_count": 13,
   "metadata": {},
   "outputs": [
    {
     "name": "stdout",
     "output_type": "stream",
     "text": [
      "C18O J=1-0 observed frequency 111.22913503290425 GHz in range 110.45 - 112.33\n",
      "C18O J=1-0 observed frequency 110.87276821225176 GHz in range 109.93 - 111.8\n",
      "C18O J=1-0 observed frequency 106.91891036046148 GHz in range 105.99 - 107.86\n",
      "C18O J=1-0 observed frequency 111.16456060223233 GHz in range 110.22 - 112.1\n",
      "C18O J=1-0 observed frequency 106.51404322242509 GHz in range 105.57 - 107.44\n",
      "12CO J=1-0 observed frequency 102.2767000439731 GHz in range 101.51 - 103.5\n",
      "13CO J=1-0 observed frequency 102.66722282053767 GHz in range 101.51 - 103.5\n",
      "12CO J=1-0 observed frequency 103.97230497055061 GHz in range 103.51 - 105.48\n",
      "13CO J=1-0 observed frequency 104.36930206965003 GHz in range 103.51 - 105.48\n",
      "C18O J=1-0 observed frequency 92.91471377456145 GHz in range 91.43 - 93.42\n",
      "C18O J=1-0 observed frequency 92.91471377456145 GHz in range 91.44 - 93.43\n",
      "12CO J=1-0 observed frequency 103.10944562629436 GHz in range 101.5 - 103.48\n",
      "13CO J=1-0 observed frequency 103.50314807248888 GHz in range 103.5 - 105.48\n",
      "12CO J=1-0 observed frequency 103.66588611898018 GHz in range 103.5 - 105.48\n",
      "13CO J=1-0 observed frequency 104.0617132200189 GHz in range 103.5 - 105.48\n",
      "12CO J=1-0 observed frequency 103.66588611898018 GHz in range 103.51 - 105.49\n",
      "13CO J=1-0 observed frequency 104.0617132200189 GHz in range 103.51 - 105.49\n",
      "C18O J=1-0 observed frequency 93.86905684039088 GHz in range 92.74 - 94.61\n",
      "C18O J=1-0 observed frequency 108.94168963235988 GHz in range 107.85 - 109.73\n",
      "C18O J=1-0 observed frequency 106.22115904902323 GHz in range 105.59 - 107.46\n",
      "C18O J=1-0 observed frequency 107.20389434290752 GHz in range 106.2 - 108.07\n",
      "C18O J=1-0 observed frequency 111.59957575757576 GHz in range 110.66 - 112.54\n",
      "C18O J=1-0 observed frequency 91.98148882859878 GHz in range 90.23 - 92.11\n",
      "C18O J=1-0 observed frequency 91.98148882859878 GHz in range 91.84 - 93.71\n",
      "C18O J=1-0 observed frequency 103.71711517005579 GHz in range 102.79 - 104.66\n",
      "C18O J=1-0 observed frequency 104.94464839766934 GHz in range 103.61 - 105.6\n",
      "C18O J=1-0 observed frequency 89.496274689441 GHz in range 88.52 - 90.51\n",
      "C18O J=1-0 observed frequency 108.9519865784499 GHz in range 108.01 - 109.89\n",
      "C18O J=1-0 observed frequency 110.04631290937574 GHz in range 109.11 - 110.99\n",
      "C18O J=1-0 observed frequency 97.99089876617933 GHz in range 96.79 - 98.78\n",
      "C18O J=1-0 observed frequency 97.99089876617933 GHz in range 97.09 - 98.96\n",
      "C18O J=1-0 observed frequency 110.35478574047605 GHz in range 109.42 - 111.29\n",
      "C18O J=1-0 observed frequency 96.42873725429834 GHz in range 95.22 - 97.21\n",
      "C18O J=1-0 observed frequency 96.42873725429834 GHz in range 95.49 - 97.36\n",
      "C18O J=1-0 observed frequency 92.55519514513838 GHz in range 91.34 - 93.32\n",
      "C18O J=1-0 observed frequency 92.55519514513838 GHz in range 91.62 - 93.5\n",
      "C18O J=1-0 observed frequency 98.07852649760274 GHz in range 96.84 - 98.82\n",
      "C18O J=1-0 observed frequency 98.07852649760274 GHz in range 97.13 - 99.0\n",
      "C18O J=1-0 observed frequency 110.11779892796993 GHz in range 109.19 - 111.06\n",
      "C18O J=1-0 observed frequency 110.22130260007496 GHz in range 109.29 - 111.16\n",
      "C18O J=1-0 observed frequency 109.7958998655069 GHz in range 108.86 - 110.73\n",
      "C18O J=1-0 observed frequency 110.55959413628796 GHz in range 109.62 - 111.5\n",
      "C18O J=1-0 observed frequency 109.3761551650683 GHz in range 108.44 - 110.31\n",
      "C18O J=1-0 observed frequency 109.16278011320536 GHz in range 108.22 - 110.09\n",
      "C18O J=1-0 observed frequency 110.35024306094041 GHz in range 109.41 - 111.28\n",
      "C18O J=1-0 observed frequency 111.2991574682723 GHz in range 110.37 - 112.25\n",
      "C18O J=1-0 observed frequency 111.65081255218291 GHz in range 110.17 - 112.05\n",
      "C18O J=1-0 observed frequency 111.65081255218291 GHz in range 110.63 - 112.63\n",
      "C18O J=1-0 observed frequency 111.91737385760902 GHz in range 110.9 - 112.9\n",
      "C18O J=1-0 observed frequency 111.91737385760902 GHz in range 111.42 - 113.3\n",
      "C18O J=1-0 observed frequency 112.82272306406371 GHz in range 111.42 - 113.3\n",
      "C18O J=1-0 observed frequency 112.73004121102116 GHz in range 111.42 - 113.3\n",
      "C18O J=1-0 observed frequency 110.51931340101017 GHz in range 109.52 - 111.52\n",
      "C18O J=1-0 observed frequency 110.51931340101017 GHz in range 109.57 - 111.45\n",
      "C18O J=1-0 observed frequency 110.51539289744427 GHz in range 109.57 - 111.45\n",
      "C18O J=1-0 observed frequency 110.51539289744427 GHz in range 109.49 - 111.49\n",
      "C18O J=1-0 observed frequency 110.8009379580812 GHz in range 110.17 - 112.05\n",
      "C18O J=1-0 observed frequency 110.8009379580812 GHz in range 109.87 - 111.87\n",
      "12CO J=1-0 observed frequency 107.82768871436345 GHz in range 106.51 - 108.49\n",
      "13CO J=1-0 observed frequency 108.23940681212345 GHz in range 106.51 - 108.49\n",
      "13CO J=1-0 observed frequency 108.23940681212345 GHz in range 107.88 - 109.87\n",
      "12CO J=1-0 observed frequency 107.82768871436345 GHz in range 106.56 - 108.44\n",
      "13CO J=1-0 observed frequency 108.23940681212345 GHz in range 106.56 - 108.44\n",
      "13CO J=1-0 observed frequency 108.23940681212345 GHz in range 107.94 - 109.81\n",
      "12CO J=1-0 observed frequency 107.82768871436345 GHz in range 106.56 - 108.44\n",
      "13CO J=1-0 observed frequency 108.23940681212345 GHz in range 106.56 - 108.44\n",
      "13CO J=1-0 observed frequency 108.23940681212345 GHz in range 107.94 - 109.81\n",
      "12CO J=1-0 observed frequency 107.82768871436345 GHz in range 106.81 - 108.68\n",
      "13CO J=1-0 observed frequency 108.23940681212345 GHz in range 106.81 - 108.68\n",
      "12CO J=1-0 observed frequency 109.58218591071295 GHz in range 109.48 - 109.71\n",
      "13CO J=1-0 observed frequency 110.00060319916155 GHz in range 109.89 - 110.12\n",
      "12CO J=1-0 observed frequency 109.58218591071295 GHz in range 109.53 - 110.47\n",
      "13CO J=1-0 observed frequency 110.00060319916155 GHz in range 109.53 - 110.47\n",
      "12CO J=1-0 observed frequency 109.58218591071295 GHz in range 109.35 - 109.82\n",
      "13CO J=1-0 observed frequency 110.00060319916155 GHz in range 109.77 - 110.23\n",
      "12CO J=1-0 observed frequency 109.58218591071295 GHz in range 109.53 - 110.47\n",
      "13CO J=1-0 observed frequency 110.00060319916155 GHz in range 109.53 - 110.47\n",
      "12CO J=1-0 observed frequency 109.58218591071295 GHz in range 108.77 - 110.64\n",
      "13CO J=1-0 observed frequency 110.00060319916155 GHz in range 108.77 - 110.64\n",
      "C18O J=1-0 observed frequency 111.3764777495751 GHz in range 110.45 - 112.33\n",
      "C18O J=1-0 observed frequency 110.06312479769775 GHz in range 109.07 - 110.94\n",
      "C18O J=1-0 observed frequency 110.06312479769775 GHz in range 109.06 - 110.94\n",
      "C18O J=1-0 observed frequency 112.25545889673911 GHz in range 111.06 - 112.94\n",
      "C18O J=1-0 observed frequency 112.25545889673911 GHz in range 111.06 - 112.94\n",
      "C18O J=1-0 observed frequency 110.34950359036607 GHz in range 109.37 - 111.25\n",
      "C18O J=1-0 observed frequency 110.81989892007725 GHz in range 109.89 - 111.77\n",
      "C18O J=1-0 observed frequency 111.94519802158081 GHz in range 111.01 - 112.88\n",
      "C18O J=1-0 observed frequency 112.35896966524648 GHz in range 111.44 - 113.31\n",
      "C18O J=1-0 observed frequency 112.22256363625743 GHz in range 111.28 - 113.16\n",
      "C18O J=1-0 observed frequency 109.73736591179977 GHz in range 108.8 - 110.68\n",
      "C18O J=1-0 observed frequency 109.34585904425107 GHz in range 108.42 - 110.29\n",
      "C18O J=1-0 observed frequency 112.37079910431844 GHz in range 111.45 - 113.32\n",
      "C18O J=1-0 observed frequency 110.47832080837047 GHz in range 109.54 - 111.41\n",
      "C18O J=1-0 observed frequency 111.90542241016935 GHz in range 110.98 - 112.86\n",
      "C18O J=1-0 observed frequency 109.10419621324267 GHz in range 108.17 - 110.04\n",
      "C18O J=1-0 observed frequency 109.10419621324267 GHz in range 108.8 - 110.78\n",
      "C18O J=1-0 observed frequency 111.43666611885035 GHz in range 110.5 - 112.37\n",
      "C18O J=1-0 observed frequency 111.3144194463597 GHz in range 110.36 - 112.24\n",
      "C18O J=1-0 observed frequency 109.09882658701315 GHz in range 108.18 - 110.05\n",
      "C18O J=1-0 observed frequency 109.33009510205902 GHz in range 108.39 - 110.27\n",
      "C18O J=1-0 observed frequency 110.50373898880595 GHz in range 109.52 - 111.39\n",
      "C18O J=1-0 observed frequency 110.50373898880595 GHz in range 109.52 - 111.39\n",
      "C18O J=1-0 observed frequency 111.31398947419247 GHz in range 110.35 - 112.22\n",
      "C18O J=1-0 observed frequency 111.31398947419247 GHz in range 110.35 - 112.22\n",
      "C18O J=1-0 observed frequency 111.37088213669095 GHz in range 110.36 - 112.23\n",
      "C18O J=1-0 observed frequency 111.37088213669095 GHz in range 110.35 - 112.23\n",
      "C18O J=1-0 observed frequency 110.11138241980781 GHz in range 109.16 - 111.03\n",
      "C18O J=1-0 observed frequency 110.11138241980781 GHz in range 109.16 - 111.03\n",
      "12CO J=1-0 observed frequency 108.57009683889063 GHz in range 107.24 - 109.11\n",
      "13CO J=1-0 observed frequency 108.98464967107216 GHz in range 107.24 - 109.11\n",
      "C18O J=1-0 observed frequency 106.78549262829273 GHz in range 105.87 - 107.74\n",
      "C18O J=1-0 observed frequency 103.21561765759313 GHz in range 102.26 - 104.13\n",
      "C18O J=1-0 observed frequency 107.39716393199771 GHz in range 106.48 - 108.36\n",
      "C18O J=1-0 observed frequency 111.83116338317029 GHz in range 110.87 - 112.74\n",
      "C18O J=1-0 observed frequency 111.83116338317029 GHz in range 110.86 - 112.74\n",
      "12CO J=1-0 observed frequency 106.5059440549264 GHz in range 105.97 - 107.84\n",
      "13CO J=1-0 observed frequency 106.9126153395404 GHz in range 105.97 - 107.84\n",
      "12CO J=1-0 observed frequency 106.5059440549264 GHz in range 104.76 - 106.63\n",
      "12CO J=1-0 observed frequency 106.5059440549264 GHz in range 106.36 - 108.24\n",
      "13CO J=1-0 observed frequency 106.9126153395404 GHz in range 106.36 - 108.24\n",
      "12CO J=1-0 observed frequency 105.2753362549266 GHz in range 104.34 - 106.22\n",
      "13CO J=1-0 observed frequency 105.67730871395557 GHz in range 104.34 - 106.22\n",
      "C18O J=1-0 observed frequency 109.91535623665645 GHz in range 108.99 - 110.86\n",
      "C18O J=1-0 observed frequency 108.24044377461958 GHz in range 107.3 - 109.17\n",
      "C18O J=1-0 observed frequency 108.24044377461958 GHz in range 107.3 - 109.17\n",
      "C18O J=1-0 observed frequency 110.34950359036607 GHz in range 109.43 - 111.3\n",
      "C18O J=1-0 observed frequency 109.96568728553481 GHz in range 109.03 - 110.9\n",
      "C18O J=1-0 observed frequency 110.56521457216495 GHz in range 109.62 - 111.49\n",
      "C18O J=1-0 observed frequency 109.87763817490827 GHz in range 108.94 - 110.82\n",
      "C18O J=1-0 observed frequency 96.94802506307822 GHz in range 96.0 - 97.88\n",
      "C18O J=1-0 observed frequency 112.31091081279631 GHz in range 111.38 - 113.25\n",
      "C18O J=1-0 observed frequency 107.96853406167078 GHz in range 106.98 - 108.85\n",
      "C18O J=1-0 observed frequency 104.81182059880413 GHz in range 103.85 - 105.73\n",
      "12CO J=1-0 observed frequency 106.89473287556524 GHz in range 105.49 - 107.36\n",
      "13CO J=1-0 observed frequency 107.3028886712132 GHz in range 105.49 - 107.36\n",
      "C18O J=1-0 observed frequency 110.53902609296037 GHz in range 109.6 - 111.48\n",
      "C18O J=1-0 observed frequency 110.53902609296037 GHz in range 109.6 - 111.47\n",
      "C18O J=1-0 observed frequency 110.51931340101017 GHz in range 109.59 - 111.46\n",
      "C18O J=1-0 observed frequency 105.6390346230686 GHz in range 104.62 - 106.5\n",
      "C18O J=1-0 observed frequency 108.85938407781661 GHz in range 107.71 - 109.58\n",
      "12CO J=1-0 observed frequency 109.59465694197229 GHz in range 108.83 - 110.71\n",
      "13CO J=1-0 observed frequency 110.01312184851719 GHz in range 108.83 - 110.71\n",
      "12CO J=1-0 observed frequency 109.59465694197229 GHz in range 108.19 - 110.06\n",
      "13CO J=1-0 observed frequency 110.01312184851719 GHz in range 108.19 - 110.06\n",
      "13CO J=1-0 observed frequency 110.01312184851719 GHz in range 109.69 - 111.56\n",
      "12CO J=1-0 observed frequency 109.59465694197229 GHz in range 108.88 - 110.76\n",
      "13CO J=1-0 observed frequency 110.01312184851719 GHz in range 108.88 - 110.76\n",
      "12CO J=1-0 observed frequency 109.59465694197229 GHz in range 108.65 - 110.52\n",
      "12CO J=1-0 observed frequency 109.59465694197229 GHz in range 109.08 - 110.95\n",
      "13CO J=1-0 observed frequency 110.01312184851719 GHz in range 108.65 - 110.52\n",
      "13CO J=1-0 observed frequency 110.01312184851719 GHz in range 109.08 - 110.95\n",
      "12CO J=1-0 observed frequency 109.59465694197229 GHz in range 108.82 - 110.82\n",
      "13CO J=1-0 observed frequency 110.01312184851719 GHz in range 108.82 - 110.82\n",
      "12CO J=1-0 observed frequency 109.59465694197229 GHz in range 108.77 - 110.77\n",
      "13CO J=1-0 observed frequency 110.01312184851719 GHz in range 108.77 - 110.77\n",
      "12CO J=1-0 observed frequency 109.59465694197229 GHz in range 108.84 - 110.71\n",
      "13CO J=1-0 observed frequency 110.01312184851719 GHz in range 108.84 - 110.71\n",
      "C18O J=1-0 observed frequency 111.75516092691731 GHz in range 110.74 - 112.62\n",
      "13CO J=1-0 observed frequency 110.15398808512342 GHz in range 110.05 - 110.16\n",
      "13CO J=1-0 observed frequency 110.15398808512342 GHz in range 110.05 - 110.16\n",
      "12CO J=1-0 observed frequency 109.24251537405219 GHz in range 108.72 - 110.6\n",
      "12CO J=1-0 observed frequency 109.24251537405219 GHz in range 108.78 - 109.71\n",
      "13CO J=1-0 observed frequency 109.65963569964377 GHz in range 108.72 - 110.6\n",
      "13CO J=1-0 observed frequency 109.65963569964377 GHz in range 108.78 - 109.71\n",
      "12CO J=1-0 observed frequency 109.24251537405219 GHz in range 108.72 - 110.6\n",
      "12CO J=1-0 observed frequency 109.24251537405219 GHz in range 108.78 - 109.71\n",
      "13CO J=1-0 observed frequency 109.65963569964377 GHz in range 108.72 - 110.6\n",
      "13CO J=1-0 observed frequency 109.65963569964377 GHz in range 108.78 - 109.71\n",
      "13CO J=1-0 observed frequency 109.7849400224947 GHz in range 109.59 - 111.46\n",
      "12CO J=1-0 observed frequency 109.36734306774406 GHz in range 109.1 - 110.05\n",
      "13CO J=1-0 observed frequency 109.7849400224947 GHz in range 109.1 - 110.05\n",
      "12CO J=1-0 observed frequency 109.36734306774406 GHz in range 109.1 - 110.04\n",
      "13CO J=1-0 observed frequency 109.7849400224947 GHz in range 109.1 - 110.04\n",
      "12CO J=1-0 observed frequency 109.36734306774406 GHz in range 108.85 - 110.72\n",
      "13CO J=1-0 observed frequency 109.7849400224947 GHz in range 108.85 - 110.72\n",
      "12CO J=1-0 observed frequency 109.36734306774406 GHz in range 108.12 - 110.0\n",
      "12CO J=1-0 observed frequency 109.36734306774406 GHz in range 109.08 - 110.96\n",
      "13CO J=1-0 observed frequency 109.7849400224947 GHz in range 108.12 - 110.0\n",
      "13CO J=1-0 observed frequency 109.7849400224947 GHz in range 109.08 - 110.96\n",
      "12CO J=1-0 observed frequency 109.31866227196686 GHz in range 109.09 - 109.56\n",
      "13CO J=1-0 observed frequency 109.73607334900024 GHz in range 109.51 - 109.98\n",
      "12CO J=1-0 observed frequency 108.99328003907715 GHz in range 108.25 - 110.12\n",
      "13CO J=1-0 observed frequency 109.40944871023531 GHz in range 108.25 - 110.12\n",
      "12CO J=1-0 observed frequency 108.05991448297043 GHz in range 107.56 - 109.43\n",
      "13CO J=1-0 observed frequency 108.47251928759432 GHz in range 107.56 - 109.43\n",
      "12CO J=1-0 observed frequency 108.05991448297043 GHz in range 107.54 - 109.42\n",
      "13CO J=1-0 observed frequency 108.47251928759432 GHz in range 107.54 - 109.42\n",
      "12CO J=1-0 observed frequency 108.05991448297043 GHz in range 107.56 - 109.43\n",
      "13CO J=1-0 observed frequency 108.47251928759432 GHz in range 107.56 - 109.43\n",
      "12CO J=1-0 observed frequency 108.05991448297043 GHz in range 107.5 - 109.49\n",
      "13CO J=1-0 observed frequency 108.47251928759432 GHz in range 107.5 - 109.49\n",
      "12CO J=1-0 observed frequency 109.69321220490184 GHz in range 108.96 - 110.83\n",
      "13CO J=1-0 observed frequency 110.11205342467261 GHz in range 108.96 - 110.83\n",
      "12CO J=1-0 observed frequency 109.69321220490184 GHz in range 108.66 - 110.54\n"
     ]
    },
    {
     "name": "stdout",
     "output_type": "stream",
     "text": [
      "13CO J=1-0 observed frequency 110.11205342467261 GHz in range 108.66 - 110.54\n",
      "12CO J=1-0 observed frequency 109.69321220490184 GHz in range 108.41 - 110.29\n",
      "12CO J=1-0 observed frequency 109.69321220490184 GHz in range 109.41 - 111.29\n",
      "13CO J=1-0 observed frequency 110.11205342467261 GHz in range 108.41 - 110.29\n",
      "13CO J=1-0 observed frequency 110.11205342467261 GHz in range 109.41 - 111.29\n",
      "12CO J=1-0 observed frequency 109.69321220490184 GHz in range 109.18 - 111.04\n",
      "13CO J=1-0 observed frequency 110.11205342467261 GHz in range 109.18 - 111.04\n",
      "12CO J=1-0 observed frequency 109.69321220490184 GHz in range 108.33 - 110.2\n",
      "13CO J=1-0 observed frequency 110.11205342467261 GHz in range 108.33 - 110.2\n",
      "13CO J=1-0 observed frequency 110.11205342467261 GHz in range 109.71 - 111.58\n",
      "12CO J=1-0 observed frequency 109.69321220490184 GHz in range 109.14 - 111.02\n",
      "13CO J=1-0 observed frequency 110.11205342467261 GHz in range 109.14 - 111.02\n",
      "12CO J=1-0 observed frequency 109.69321220490184 GHz in range 108.66 - 110.54\n",
      "13CO J=1-0 observed frequency 110.11205342467261 GHz in range 108.66 - 110.54\n",
      "12CO J=1-0 observed frequency 109.69321220490184 GHz in range 109.17 - 111.04\n",
      "13CO J=1-0 observed frequency 110.11205342467261 GHz in range 109.17 - 111.04\n",
      "12CO J=1-0 observed frequency 107.78714120346505 GHz in range 107.27 - 109.14\n",
      "13CO J=1-0 observed frequency 108.19870447880184 GHz in range 107.27 - 109.14\n",
      "12CO J=1-0 observed frequency 107.96214751715578 GHz in range 107.45 - 109.32\n",
      "13CO J=1-0 observed frequency 108.37437901850603 GHz in range 107.45 - 109.32\n",
      "12CO J=1-0 observed frequency 108.7647875770047 GHz in range 108.43 - 110.3\n",
      "13CO J=1-0 observed frequency 109.18008379617062 GHz in range 108.43 - 110.3\n",
      "12CO J=1-0 observed frequency 108.7647875770047 GHz in range 107.75 - 109.62\n",
      "13CO J=1-0 observed frequency 109.18008379617062 GHz in range 107.75 - 109.62\n",
      "12CO J=1-0 observed frequency 109.4980260224717 GHz in range 108.78 - 110.65\n",
      "13CO J=1-0 observed frequency 109.91612196350472 GHz in range 108.78 - 110.65\n",
      "12CO J=1-0 observed frequency 109.51659565553534 GHz in range 108.8 - 110.68\n",
      "13CO J=1-0 observed frequency 109.93476250093525 GHz in range 108.8 - 110.68\n",
      "12CO J=1-0 observed frequency 109.18417169164488 GHz in range 108.43 - 109.37\n",
      "12CO J=1-0 observed frequency 108.90775305075549 GHz in range 108.18 - 110.05\n",
      "13CO J=1-0 observed frequency 109.32359515450449 GHz in range 108.18 - 110.05\n",
      "12CO J=1-0 observed frequency 109.20991345350366 GHz in range 108.48 - 110.36\n",
      "13CO J=1-0 observed frequency 109.62690929529268 GHz in range 108.48 - 110.36\n",
      "12CO J=1-0 observed frequency 108.99003383409381 GHz in range 107.63 - 109.5\n",
      "13CO J=1-0 observed frequency 109.4061901102785 GHz in range 107.63 - 109.5\n",
      "13CO J=1-0 observed frequency 109.4061901102785 GHz in range 109.24 - 111.12\n",
      "12CO J=1-0 observed frequency 108.99003383409381 GHz in range 108.21 - 110.08\n",
      "13CO J=1-0 observed frequency 109.4061901102785 GHz in range 108.21 - 110.08\n",
      "12CO J=1-0 observed frequency 108.99003383409381 GHz in range 107.79 - 109.67\n",
      "13CO J=1-0 observed frequency 109.4061901102785 GHz in range 107.79 - 109.67\n",
      "12CO J=1-0 observed frequency 108.9358507753265 GHz in range 108.42 - 110.29\n",
      "13CO J=1-0 observed frequency 109.35180016452185 GHz in range 108.42 - 110.29\n",
      "C18O J=1-0 observed frequency 112.32513807847769 GHz in range 111.39 - 113.26\n",
      "12CO J=1-0 observed frequency 109.57638894156774 GHz in range 109.07 - 110.93\n",
      "13CO J=1-0 observed frequency 109.99478409546872 GHz in range 109.07 - 110.93\n",
      "12CO J=1-0 observed frequency 107.34795125728971 GHz in range 106.81 - 108.68\n",
      "13CO J=1-0 observed frequency 107.757837575146 GHz in range 106.81 - 108.68\n",
      "12CO J=1-0 observed frequency 107.36233375939695 GHz in range 106.81 - 108.68\n",
      "13CO J=1-0 observed frequency 107.7722749939122 GHz in range 106.81 - 108.68\n",
      "C18O J=1-0 observed frequency 111.5841274758166 GHz in range 110.64 - 112.52\n",
      "12CO J=1-0 observed frequency 109.73498735543717 GHz in range 109.5 - 109.97\n",
      "12CO J=1-0 observed frequency 109.73498735543717 GHz in range 109.69 - 110.62\n",
      "13CO J=1-0 observed frequency 110.15398808512342 GHz in range 109.69 - 110.62\n",
      "12CO J=1-0 observed frequency 109.86501161876055 GHz in range 109.57 - 110.07\n",
      "13CO J=1-0 observed frequency 110.28450881965003 GHz in range 110.05 - 110.55\n",
      "12CO J=1-0 observed frequency 107.15892296579729 GHz in range 106.64 - 108.52\n",
      "13CO J=1-0 observed frequency 107.5680875175699 GHz in range 106.64 - 108.52\n",
      "C18O J=1-0 observed frequency 112.51679076214273 GHz in range 111.59 - 113.46\n",
      "C18O J=1-0 observed frequency 112.51679076214273 GHz in range 111.59 - 113.46\n",
      "12CO J=1-0 observed frequency 107.15892296579729 GHz in range 106.94 - 108.8\n",
      "13CO J=1-0 observed frequency 107.5680875175699 GHz in range 106.94 - 108.8\n",
      "12CO J=1-0 observed frequency 109.54205721059438 GHz in range 108.03 - 109.9\n",
      "13CO J=1-0 observed frequency 109.96032127576353 GHz in range 109.82 - 111.7\n",
      "12CO J=1-0 observed frequency 109.54205721059438 GHz in range 107.97 - 109.96\n",
      "13CO J=1-0 observed frequency 109.96032127576353 GHz in range 109.76 - 111.75\n",
      "12CO J=1-0 observed frequency 108.01961730444341 GHz in range 107.09 - 108.96\n",
      "13CO J=1-0 observed frequency 108.43206824248735 GHz in range 107.09 - 108.96\n",
      "12CO J=1-0 observed frequency 105.24172946566291 GHz in range 103.5 - 105.48\n",
      "C18O J=1-0 observed frequency 92.91471377456145 GHz in range 91.98 - 93.85\n",
      "C18O J=1-0 observed frequency 104.52593561842582 GHz in range 103.59 - 105.47\n",
      "C18O J=1-0 observed frequency 95.42318029801325 GHz in range 94.51 - 96.38\n",
      "12CO J=1-0 observed frequency 90.33339372994323 GHz in range 89.49 - 91.48\n",
      "13CO J=1-0 observed frequency 90.6783134205546 GHz in range 89.49 - 91.48\n",
      "C18O J=1-0 observed frequency 94.84999736690528 GHz in range 93.91 - 95.78\n",
      "C18O J=1-0 observed frequency 107.44892039522745 GHz in range 106.51 - 108.38\n",
      "C18O J=1-0 observed frequency 103.84792954954953 GHz in range 102.92 - 104.79\n",
      "12CO J=1-0 observed frequency 107.62251244281013 GHz in range 107.05 - 108.93\n",
      "13CO J=1-0 observed frequency 108.033447116709 GHz in range 107.05 - 108.93\n",
      "12CO J=1-0 observed frequency 107.62251244281013 GHz in range 107.31 - 109.18\n",
      "13CO J=1-0 observed frequency 108.033447116709 GHz in range 107.31 - 109.18\n",
      "12CO J=1-0 observed frequency 107.62251244281013 GHz in range 107.05 - 108.93\n",
      "13CO J=1-0 observed frequency 108.033447116709 GHz in range 107.05 - 108.93\n",
      "12CO J=1-0 observed frequency 107.62251244281013 GHz in range 107.06 - 108.93\n",
      "13CO J=1-0 observed frequency 108.033447116709 GHz in range 107.06 - 108.93\n",
      "C18O J=1-0 observed frequency 104.60181651542649 GHz in range 103.51 - 105.48\n"
     ]
    }
   ],
   "source": [
    "testPayloadLinesQuery.runPayloadQueryWithLines(restFreqs=rest_frequencies,\n",
    "                                          redshiftRange=redshift_range,\n",
    "                                          line_names=line_names, science=True)"
   ]
  },
  {
   "cell_type": "code",
   "execution_count": 14,
   "metadata": {},
   "outputs": [
    {
     "data": {
      "text/html": [
       "<i>Table masked=True length=183</i>\n",
       "<table id=\"table4582156664\" class=\"table-striped table-bordered table-condensed\">\n",
       "<thead><tr><th>Project code</th><th>ALMA source name</th><th>ALMA RA</th><th>ALMA Dec</th><th>Galactic longitude</th><th>Galactic latitude</th><th>Band</th><th>Spatial resolution</th><th>Frequency resolution</th><th>Array</th><th>Mosaic</th><th>Integration</th><th>Release date</th><th>Frequency support</th><th>Velocity resolution</th><th>Pol products</th><th>Observation date</th><th>PI name</th><th>SB name</th><th>Proposal authors</th><th>Line sensitivity (10 km/s)</th><th>Continuum sensitivity</th><th>PWV</th><th>Group ous id</th><th>Member ous id</th><th>Asdm uid</th><th>Project title</th><th>Project type</th><th>Scan intent</th><th>Field of view</th><th>Largest angular scale</th><th>QA2 Status</th><th>COUNT</th><th>Science keyword</th><th>Scientific category</th><th>ASA_PROJECT_CODE</th><th>Frequency ranges</th><th>ALMA sanitized source name</th><th>NED source name</th><th>NED RA</th><th>NED Dec</th><th>NED Redshift</th><th>12CO J=1-0</th><th>13CO J=1-0</th><th>C18O J=1-0</th></tr></thead>\n",
       "<thead><tr><th></th><th></th><th>deg</th><th>deg</th><th>deg</th><th>deg</th><th></th><th></th><th>kHz</th><th></th><th></th><th>s</th><th></th><th>GHz</th><th>m / s</th><th></th><th></th><th></th><th></th><th></th><th></th><th>mJy/beam</th><th>mm</th><th></th><th></th><th></th><th></th><th></th><th></th><th>arcs</th><th>arcs</th><th></th><th></th><th></th><th></th><th></th><th>GHz</th><th></th><th></th><th>degrees</th><th>degrees</th><th></th><th></th><th></th><th></th></tr></thead>\n",
       "<thead><tr><th>bytes64</th><th>bytes256</th><th>float64</th><th>float64</th><th>float64</th><th>float64</th><th>object</th><th>float64</th><th>float64</th><th>object</th><th>object</th><th>float64</th><th>object</th><th>bytes2700</th><th>float64</th><th>bytes64</th><th>object</th><th>bytes256</th><th>bytes128</th><th>bytes512</th><th>float64</th><th>float64</th><th>float32</th><th>bytes64</th><th>bytes64</th><th>bytes32</th><th>bytes256</th><th>bytes16</th><th>bytes256</th><th>float64</th><th>float64</th><th>bytes1</th><th>int64</th><th>bytes200</th><th>bytes200</th><th>bytes64</th><th>object</th><th>str29</th><th>bytes30</th><th>float64</th><th>float64</th><th>float64</th><th>bool</th><th>bool</th><th>bool</th></tr></thead>\n",
       "<tr><td>2012.1.00837.S</td><td>2A0335+096</td><td>54.66875</td><td>9.970083333333333</td><td>176.2640969511151</td><td>-35.057909888065936</td><td>[3]</td><td>0.8277836843988817</td><td>976.516116235474</td><td>12m</td><td></td><td>4112.64</td><td>2016-03-31</td><td>[108.45..110.43GHz,31251.32kHz,1mJy/beam@10km/s,43.1uJy/beam@native, XX YY] U [110.45..112.33GHz,976.60kHz,1.1mJy/beam@10km/s,47.7uJy/beam@native, XX YY]</td><td>2606.155620549255</td><td>XX YY</td><td>2014-07-22 11:29:56</td><td>McNamara, Brian</td><td>2A0335_111_12m_C32-5</td><td>Sanders, Jeremy; Baum, Stefi; Russell, Helen; Combes, Francoise; Salome, Philippe; Tremblay, Grant; Donahue, Megan; O&apos;Connell, Robert; O&apos;Dea, Christopher; Voit, Mark; Nulsen, Paul; Oonk, Raymond; Edge, Alastair; Hamer, Stephen; Vantyghem, Adrian; Main, Robert; Wilman, Richard; Fabian, Andrew;</td><td>1.0096809521179075</td><td>0.03198805008682507</td><td>4.8730683</td><td>uid://A002/X5d50dc/X1c</td><td>uid://A002/X5d50dc/X1d</td><td>uid://A002/X877956/X176e</td><td>Understanding Molecular Gas Accretion and Feedback from Supermassive Black Holes</td><td>S</td><td>TARGET</td><td>57.07246246439364</td><td>10.60783856649499</td><td>Y</td><td>3</td><td>Galaxy groups and clusters</td><td>Cosmology</td><td>2012.1.00837.S</td><td>[array([108.45, 110.43]), array([110.45, 112.33])]</td><td>2A0335+096</td><td>MCXC J0338.6+0958</td><td>54.64708</td><td>9.9652</td><td>0.03634</td><td>False</td><td>False</td><td>True</td></tr>\n",
       "<tr><td>2015.1.00320.S</td><td>2MASXJ09033081-0106127</td><td>135.8783874999434</td><td>-1.1035556000009548</td><td>230.50909689454966</td><td>28.430756729860168</td><td>[3]</td><td>1.7495016697572436</td><td>976.6620075399063</td><td>12m</td><td></td><td>665.28</td><td>2017-05-11</td><td>[95.99..97.86GHz,3906.65kHz,1.3mJy/beam@10km/s,54.2uJy/beam@native, XX YY] U [97.91..99.78GHz,3906.65kHz,1.3mJy/beam@10km/s,54.5uJy/beam@native, XX YY] U [108.22..110.10GHz,3906.65kHz,1.4mJy/beam@10km/s,59.8uJy/beam@native, XX YY] U [109.93..111.80GHz,976.66kHz,1.5mJy/beam@10km/s,65.4uJy/beam@native, XX YY]</td><td>2619.0887968819543</td><td>XX YY</td><td>2016-03-19 23:03:31</td><td>van de Voort, Freeke</td><td>2MASXJ09_a_03_TE</td><td>Smith, Matthew; Oteo, Ivan; Dunne, Loretta; Matsushita, Satoki; Rowlands, Kate; Davis, Timothy; van der Werf, Paul; Shabala, Stanislav; Eales, Stephen; Bourne, Nathan; Cooray, Asantha; Bremer, Malcolm; Kaviraj, Sugata; Allison, James; Sansom, Anne; Vlahakis, Catherine; Temi, Pasquale; Leeuw, Lerothodi;</td><td>1.3567541990499785</td><td>0.028981111930152566</td><td>3.6928656</td><td>uid://A001/X2fa/X42</td><td>uid://A001/X2fa/X43</td><td>uid://A002/Xb09eed/X6efb</td><td>Star formation suppression in recent minor mergers</td><td>S</td><td>TARGET</td><td>60.63683187187325</td><td>7.952783892105759</td><td>Y</td><td>1</td><td>Starbursts, star formation, Merging and interacting galaxies</td><td>Active galaxies</td><td>2015.1.00320.S</td><td>[array([95.99, 97.86]), array([97.91, 99.78]), array([108.22, 110.1 ]), array([109.93, 111.8 ])]</td><td>2MASXJ09033081-0106127</td><td>2MASX J09033081-0106127</td><td>135.87842</td><td>-1.10347</td><td>0.039671</td><td>False</td><td>False</td><td>True</td></tr>\n",
       "<tr><td>2015.1.00320.S</td><td>2MASXJ13010083+2701312</td><td>195.25349579996598</td><td>27.02533890000439</td><td>30.71193026316314</td><td>87.86592288700037</td><td>[3]</td><td>1.4155025709359037</td><td>976.5888619784672</td><td>12m</td><td></td><td>695.52</td><td>2017-08-10</td><td>[92.34..94.22GHz,3906.36kHz,1.3mJy/beam@10km/s,51.4uJy/beam@native, XX YY] U [94.18..96.05GHz,3906.36kHz,1.3mJy/beam@10km/s,51.4uJy/beam@native, XX YY] U [104.34..106.22GHz,3906.36kHz,1.3mJy/beam@10km/s,54.1uJy/beam@native, XX YY] U [105.99..107.86GHz,976.59kHz,1.3mJy/beam@10km/s,55.4uJy/beam@native, XX YY]</td><td>2714.396460734305</td><td>XX YY</td><td>2016-05-04 01:22:27</td><td>van de Voort, Freeke</td><td>2MASXJ13_b_03_TE</td><td>Smith, Matthew; Oteo, Ivan; Dunne, Loretta; Matsushita, Satoki; Rowlands, Kate; Davis, Timothy; van der Werf, Paul; Shabala, Stanislav; Eales, Stephen; Bourne, Nathan; Cooray, Asantha; Bremer, Malcolm; Kaviraj, Sugata; Allison, James; Sansom, Anne; Vlahakis, Catherine; Temi, Pasquale; Leeuw, Lerothodi;</td><td>1.251021055887852</td><td>0.026507428687637388</td><td>2.6074445</td><td>uid://A001/X2fa/X46</td><td>uid://A001/X2fa/X47</td><td>uid://A002/Xb28642/X9da6</td><td>Star formation suppression in recent minor mergers</td><td>S</td><td>TARGET</td><td>62.935328979847554</td><td>7.333557423545629</td><td>Y</td><td>1</td><td>Starbursts, star formation, Merging and interacting galaxies</td><td>Active galaxies</td><td>2015.1.00320.S</td><td>[array([92.34, 94.22]), array([94.18, 96.05]), array([104.34, 106.22]), array([105.99, 107.86])]</td><td>2MASXJ13010083+2701312</td><td>2MASX J13010083+2701312</td><td>195.25362</td><td>27.02544</td><td>0.078118</td><td>False</td><td>False</td><td>True</td></tr>\n",
       "<tr><td>2015.1.00320.S</td><td>2MASXJ13333299+2616190</td><td>203.3874958000515</td><td>26.271966700012126</td><td>30.114917795247266</td><td>80.55850093238827</td><td>[3]</td><td>1.5199797433158024</td><td>976.5729788204131</td><td>12m</td><td></td><td>544.32</td><td>2017-07-26</td><td>[96.24..98.11GHz,3906.29kHz,1.4mJy/beam@10km/s,58.2uJy/beam@native, XX YY] U [98.16..100.03GHz,3906.29kHz,1.4mJy/beam@10km/s,58.5uJy/beam@native, XX YY] U [108.49..110.37GHz,3906.29kHz,1.5mJy/beam@10km/s,66.6uJy/beam@native, XX YY] U [110.22..112.10GHz,976.57kHz,1.6mJy/beam@10km/s,71.8uJy/beam@native, XX YY]</td><td>2611.7918045277183</td><td>XX YY</td><td>2016-05-04 05:08:27</td><td>van de Voort, Freeke</td><td>2MASXJ13_a_03_TE</td><td>Smith, Matthew; Oteo, Ivan; Dunne, Loretta; Matsushita, Satoki; Rowlands, Kate; Davis, Timothy; van der Werf, Paul; Shabala, Stanislav; Eales, Stephen; Bourne, Nathan; Cooray, Asantha; Bremer, Malcolm; Kaviraj, Sugata; Allison, James; Sansom, Anne; Vlahakis, Catherine; Temi, Pasquale; Leeuw, Lerothodi;</td><td>1.5094336982810852</td><td>0.03151277638458426</td><td>2.3989837</td><td>uid://A001/X2fa/X32</td><td>uid://A001/X2fa/X33</td><td>uid://A002/Xb28642/Xab44</td><td>Star formation suppression in recent minor mergers</td><td>S</td><td>TARGET</td><td>60.47956425454063</td><td>7.723235435738713</td><td>Y</td><td>1</td><td>Starbursts, star formation, Merging and interacting galaxies</td><td>Active galaxies</td><td>2015.1.00320.S</td><td>[array([96.24, 98.11]), array([ 98.16, 100.03]), array([108.49, 110.37]), array([110.22, 112.1 ])]</td><td>2MASXJ13333299+2616190</td><td>2MASX J13333299+2616190</td><td>203.38773</td><td>26.27197</td><td>0.036942</td><td>False</td><td>False</td><td>True</td></tr>\n",
       "<tr><td>2015.1.00320.S</td><td>2MASXJ14161186+0152048</td><td>214.04927919996024</td><td>1.867974300000529</td><td>345.3116938307601</td><td>57.590228991730484</td><td>[3]</td><td>1.7012307748463424</td><td>976.5097442049275</td><td>12m</td><td></td><td>1209.6</td><td>2017-06-23</td><td>[91.98..93.86GHz,3906.04kHz,865.1uJy/beam@10km/s,35.2uJy/beam@native, XX YY] U [93.81..95.69GHz,3906.04kHz,857.4uJy/beam@10km/s,35.2uJy/beam@native, XX YY] U [103.93..105.80GHz,3906.04kHz,844.2uJy/beam@10km/s,36.5uJy/beam@native, XX YY] U [105.57..107.44GHz,976.51kHz,851.1uJy/beam@10km/s,37uJy/beam@native, XX YY]</td><td>2724.6358074084183</td><td>XX YY</td><td>2016-04-09 03:55:18</td><td>van de Voort, Freeke</td><td>2MASXJ14_a_03_TE</td><td>Smith, Matthew; Oteo, Ivan; Dunne, Loretta; Matsushita, Satoki; Rowlands, Kate; Davis, Timothy; van der Werf, Paul; Shabala, Stanislav; Eales, Stephen; Bourne, Nathan; Cooray, Asantha; Bremer, Malcolm; Kaviraj, Sugata; Allison, James; Sansom, Anne; Vlahakis, Catherine; Temi, Pasquale; Leeuw, Lerothodi;</td><td>0.8442164617410581</td><td>0.017972053345057575</td><td>2.140075</td><td>uid://A001/X2fa/X3a</td><td>uid://A001/X2fa/X3b</td><td>uid://A002/Xb18ac0/X20ab</td><td>Star formation suppression in recent minor mergers</td><td>S</td><td>TARGET</td><td>63.18204631686815</td><td>7.95690773889376</td><td>Y</td><td>1</td><td>Starbursts, star formation, Merging and interacting galaxies</td><td>Active galaxies</td><td>2015.1.00320.S</td><td>[array([91.98, 93.86]), array([93.81, 95.69]), array([103.93, 105.8 ]), array([105.57, 107.44])]</td><td>2MASXJ14161186+0152048</td><td>2MASX J14161186+0152048</td><td>214.04928</td><td>1.86797</td><td>0.082216</td><td>False</td><td>False</td><td>True</td></tr>\n",
       "<tr><td>2017.1.01572.S</td><td>3C15</td><td>9.267066666616113</td><td>-1.1522777777806776</td><td>114.775767012637</td><td>-63.79618626351886</td><td>[3]</td><td>0.12722362690547925</td><td>31252.732446356185</td><td>12m</td><td></td><td>308.448</td><td>2018-12-11</td><td>[89.51..91.49GHz,31252.73kHz,1.4mJy/beam@10km/s,56.2uJy/beam@native, XX YY] U [91.45..93.43GHz,31252.73kHz,1.4mJy/beam@10km/s,56.1uJy/beam@native, XX YY] U [101.51..103.50GHz,31252.73kHz,1.4mJy/beam@10km/s,57uJy/beam@native, XX YY] U [103.51..105.50GHz,31252.73kHz,1.4mJy/beam@10km/s,57.6uJy/beam@native, XX YY]</td><td>88819.99273898915</td><td>XX YY</td><td>2017-11-21 22:44:19</td><td>Meyer, Eileen</td><td>3C15_a_03_TM1</td><td>Sparks, William; Chiaberge, Marco; Georganopoulos, Markos; Perlman, Eric;</td><td>1.3786918377841848</td><td>0.028354714670604828</td><td>1.1420088</td><td>uid://A001/X1294/X67</td><td>uid://A001/X1294/X68</td><td>uid://A002/Xc7111c/X537c</td><td>ALMA Observations of Resolved Extragalactic Jets in a Critically Unsampled Spectral Window</td><td>S</td><td>TARGET</td><td>64.61333040301717</td><td>1.1201953711498662</td><td>Y</td><td>0</td><td>Active Galactic Nuclei (AGN)/Quasars (QSO), Outflows, jets, feedback</td><td>Active galaxies</td><td>2017.1.01572.S</td><td>[array([89.51, 91.49]), array([91.45, 93.43]), array([101.51, 103.5 ]), array([103.51, 105.5 ])]</td><td>3C15</td><td>3C 015</td><td>9.2673</td><td>-1.15225</td><td>0.073384</td><td>True</td><td>True</td><td>False</td></tr>\n",
       "<tr><td>2013.1.00286.S</td><td>3C_445</td><td>335.9691666666667</td><td>-2.1791666666666667</td><td>61.79163096617299</td><td>-46.77113224500823</td><td>[3]</td><td>0.45158761481371523</td><td>62498.92088278956</td><td>12m</td><td></td><td>6713.28</td><td>2016-12-20</td><td>[89.51..91.48GHz,62499.23kHz,792.8uJy/beam@10km/s,30.8uJy/beam@native, XX XY YY] U [91.45..93.42GHz,62499.23kHz,784.5uJy/beam@10km/s,30.8uJy/beam@native, XX XY YY] U [101.51..103.48GHz,62499.23kHz,766.2uJy/beam@10km/s,31.7uJy/beam@native, XX XY YY] U [103.51..105.48GHz,62499.23kHz,768.4uJy/beam@10km/s,32.1uJy/beam@native, XX XY YY]</td><td>177634.54332640793</td><td>XX XY YX YY</td><td>2015-09-03 01:28:19</td><td>Orienti, Monica</td><td>3C_445_a_03_TE</td><td>Brunetti, Gianfranco; Nagai, Hiroshi; Mack, Karl-Heinz;</td><td>0.7684156222017572</td><td>0.015662477809920604</td><td>3.9949458</td><td>uid://A001/X136/Xbe</td><td>uid://A001/X136/Xbf</td><td>uid://A002/Xa98f9c/X1158</td><td>Particle acceleration and magnetic field in the hot spot of 3C 445</td><td>S</td><td>TARGET</td><td>64.6200958042326</td><td>2.722873555983321</td><td>Y</td><td>1</td><td>Active Galactic Nuclei (AGN)/Quasars (QSO)</td><td>Active galaxies</td><td>2013.1.00286.S</td><td>[array([89.51, 91.48]), array([91.45, 93.42]), array([101.51, 103.48]), array([103.51, 105.48])]</td><td>3C445</td><td>3C 445</td><td>335.95638</td><td>-2.10357</td><td>0.055879</td><td>True</td><td>True</td><td>False</td></tr>\n",
       "<tr><td>2016.1.01481.S</td><td>4C_+13.41</td><td>151.85874874995406</td><td>12.815613890004729</td><td>225.11773214434254</td><td>49.12039806553533</td><td>[3]</td><td>1.1885142259357386</td><td>31247.46669485644</td><td>12m</td><td></td><td>72.576</td><td>2017-12-09</td><td>[89.50..91.48GHz,31247.47kHz,3.6mJy/beam@10km/s,141.5uJy/beam@native, XX YY] U [91.43..93.42GHz,31247.47kHz,3.6mJy/beam@10km/s,141.2uJy/beam@native, XX YY] U [101.49..103.48GHz,31247.47kHz,3.5mJy/beam@10km/s,144.7uJy/beam@native, XX YY] U [103.49..105.48GHz,31247.47kHz,3.5mJy/beam@10km/s,146.5uJy/beam@native, XX YY]</td><td>88805.02751920317</td><td>XX YY</td><td>2016-11-19 08:54:01</td><td>Meyer, Eileen</td><td>4C_+13.4_a_03_TM2</td><td>Sparks, William; Biretta, John; Chiaberge, Marco; Georganopoulos, Markos; Perlman, Eric;</td><td>3.5102107101468576</td><td>0.07171271615188579</td><td>1.9221303</td><td>uid://A001/X885/Xb7</td><td>uid://A001/X885/Xba</td><td>uid://A002/Xbad2b0/X3ccf</td><td>Measuring the Spectral Evolution, Structure, and Speed of Extragalactic Jets with ALMA</td><td>S</td><td>TARGET</td><td>64.62421889342811</td><td>5.669325038419523</td><td>Y</td><td>1</td><td>Active Galactic Nuclei (AGN)/Quasars (QSO)</td><td>Active galaxies</td><td>2016.1.01481.S</td><td>[array([89.5 , 91.48]), array([91.43, 93.42]), array([101.49, 103.48]), array([103.49, 105.48])]</td><td>4C+13.41</td><td>PG 1004+130</td><td>151.85878</td><td>12.81559</td><td>0.240613</td><td>False</td><td>False</td><td>True</td></tr>\n",
       "<tr><td>2016.1.01481.S</td><td>4C_+13.41</td><td>151.85874874995358</td><td>12.815613890004885</td><td>225.11773214434197</td><td>49.12039806553499</td><td>[3]</td><td>0.239468490576128</td><td>31250.45552257404</td><td>12m</td><td></td><td>254.016</td><td>2018-09-09</td><td>[89.50..91.49GHz,31250.46kHz,1.8mJy/beam@10km/s,69uJy/beam@native, XX YY] U [91.44..93.43GHz,31250.46kHz,1.8mJy/beam@10km/s,68.7uJy/beam@native, XX YY] U [101.50..103.49GHz,31250.46kHz,1.7mJy/beam@10km/s,69.7uJy/beam@native, XX YY] U [103.50..105.49GHz,31250.46kHz,1.7mJy/beam@10km/s,70.4uJy/beam@native, XX YY]</td><td>88813.52174148057</td><td>XX YY</td><td>2017-08-24 14:32:25</td><td>Meyer, Eileen</td><td>4C_+13.4_a_03_TM1</td><td>Sparks, William; Biretta, John; Chiaberge, Marco; Georganopoulos, Markos; Perlman, Eric;</td><td>1.686744100191027</td><td>0.03471455448618459</td><td>0.38888556</td><td>uid://A001/X885/Xb7</td><td>uid://A001/X885/Xb8</td><td>uid://A002/Xc3b6e5/X440d</td><td>Measuring the Spectral Evolution, Structure, and Speed of Extragalactic Jets with ALMA</td><td>S</td><td>TARGET</td><td>64.6180381625099</td><td>1.6193788247559875</td><td>Y</td><td>1</td><td>Active Galactic Nuclei (AGN)/Quasars (QSO)</td><td>Active galaxies</td><td>2016.1.01481.S</td><td>[array([89.5 , 91.49]), array([91.44, 93.43]), array([101.5 , 103.49]), array([103.5 , 105.49])]</td><td>4C+13.41</td><td>PG 1004+130</td><td>151.85878</td><td>12.81559</td><td>0.240613</td><td>False</td><td>False</td><td>True</td></tr>\n",
       "<tr><td>...</td><td>...</td><td>...</td><td>...</td><td>...</td><td>...</td><td>...</td><td>...</td><td>...</td><td>...</td><td>...</td><td>...</td><td>...</td><td>...</td><td>...</td><td>...</td><td>...</td><td>...</td><td>...</td><td>...</td><td>...</td><td>...</td><td>...</td><td>...</td><td>...</td><td>...</td><td>...</td><td>...</td><td>...</td><td>...</td><td>...</td><td>...</td><td>...</td><td>...</td><td>...</td><td>...</td><td>...</td><td>...</td><td>...</td><td>...</td><td>...</td><td>...</td><td>...</td><td>...</td><td>...</td></tr>\n",
       "<tr><td>2017.1.00629.S</td><td>RXCJ0439.0+0520</td><td>69.75942500004743</td><td>5.345465000002327</td><td>191.29574364043776</td><td>-26.19523483371201</td><td>[3]</td><td>0.4281292627649317</td><td>976.6751520721755</td><td>12m</td><td></td><td>1300.32</td><td>2019-02-20</td><td>[92.56..94.54GHz,31253.60kHz,798.7uJy/beam@10km/s,31.5uJy/beam@native, XX YY] U [94.51..96.38GHz,976.68kHz,790.8uJy/beam@10km/s,32.6uJy/beam@native, XX YY] U [104.56..106.55GHz,31253.60kHz,783.8uJy/beam@10km/s,32.9uJy/beam@native, XX YY] U [106.49..108.48GHz,31253.60kHz,795.1uJy/beam@10km/s,33.7uJy/beam@native, XX YY]</td><td>3038.3062608953305</td><td>XX YY</td><td>2018-01-11 03:30:42</td><td>Edge, Alastair</td><td>RXCJ0439_a_03_TM1</td><td>McNamara, Brian; Rose, Thomas; Russell, Helen; Hogan, Michael; Salome, Philippe; Combes, Francoise; Tremblay, Grant; Hamer, Stephen; McDonald, Michael; Vantyghem, Adrian; Gaspari, Massimo; Fabian, Andrew;</td><td>0.7837810110725104</td><td>0.016322148134841383</td><td>2.5811768</td><td>uid://A001/X1284/X3b4</td><td>uid://A001/X1284/X3b5</td><td>uid://A002/Xc9020b/X2824</td><td>Constraining the cold accretion onto the most massive Black Holes</td><td>S</td><td>TARGET</td><td>62.674607343582736</td><td>3.480166833999946</td><td>Y</td><td>1</td><td>Outflows, jets, feedback, Galaxy groups and clusters</td><td>Active galaxies</td><td>2017.1.00629.S</td><td>[array([92.56, 94.54]), array([94.51, 96.38]), array([104.56, 106.55]), array([106.49, 108.48])]</td><td>RXCJ0439.0+0520</td><td>MCXC J0439.0+0520</td><td>69.75934</td><td>5.34533</td><td>0.208</td><td>False</td><td>False</td><td>True</td></tr>\n",
       "<tr><td>2013.1.00843.S</td><td>RXCJ1504.1-0248</td><td>226.03124999980184</td><td>-2.804722222519084</td><td>355.075623724001</td><td>46.19876499777532</td><td>[3]</td><td>2.4748419134965607</td><td>31245.853184413914</td><td>12m</td><td></td><td>6078.24</td><td>2016-03-20</td><td>[89.49..91.48GHz,31246.01kHz,856.9uJy/beam@10km/s,33.3uJy/beam@native, XX YY] U [91.43..93.41GHz,31246.01kHz,847.8uJy/beam@10km/s,33.3uJy/beam@native, XX YY] U [101.49..103.47GHz,31246.01kHz,828uJy/beam@10km/s,34.2uJy/beam@native, XX YY] U [103.49..105.47GHz,31246.01kHz,830.3uJy/beam@10km/s,34.7uJy/beam@native, XX YY]</td><td>88800.44193661337</td><td>XX YY</td><td>2015-01-04 12:54:06</td><td>Giacintucci, Simona</td><td>RXCJ1504_a_03_TE</td><td>Mundy, Lee; ZuHone, John; Mushotzky, Richard;</td><td>0.8303124256173424</td><td>0.016925304024648466</td><td>3.2063124</td><td>uid://A001/X144/X57</td><td>uid://A001/X144/X58</td><td>uid://A002/X9896b4/X692d</td><td>Sunyaev-Zeldovich mapping of an extreme cool core in the galaxy cluster RXJ1504-02</td><td>S</td><td>TARGET</td><td>64.62755603552532</td><td>15.598549043064835</td><td>Y</td><td>0</td><td>Galaxy Clusters</td><td>Cosmology</td><td>2013.1.00843.S</td><td>[array([89.49, 91.48]), array([91.43, 93.41]), array([101.49, 103.47]), array([103.49, 105.47])]</td><td>RXCJ1504.1-0248</td><td>WHL J150407.5-024816</td><td>226.03125</td><td>-2.80444</td><td>0.2153</td><td>True</td><td>True</td><td>False</td></tr>\n",
       "<tr><td>2016.1.01269.S</td><td>RXCJ1504.1-0248</td><td>226.0312416666653</td><td>-2.804708333334683</td><td>355.07562929581445</td><td>46.19878072390462</td><td>[3]</td><td>0.5978421459320422</td><td>976.5286374338941</td><td>12m</td><td></td><td>9192.96</td><td>2018-06-09</td><td>[93.91..95.78GHz,976.53kHz,641uJy/beam@10km/s,26.3uJy/beam@native, XX YY] U [95.73..97.71GHz,31249.09kHz,635.4uJy/beam@10km/s,25.5uJy/beam@native, XX YY] U [105.85..107.84GHz,31249.09kHz,631.5uJy/beam@10km/s,26.7uJy/beam@native, XX YY] U [107.73..109.71GHz,31249.09kHz,644.3uJy/beam@10km/s,27.4uJy/beam@native, XX YY]</td><td>3056.3283914713406</td><td>XX YY</td><td>2016-10-27 18:10:05</td><td>McNamara, Brian</td><td>RXCJ1504_a_03_TM1</td><td>Parrish, Ian; Nulsen, Paul; Murray, Norman; Edge, Alastair; McDonald, Michael; Vantyghem, Adrian; Russell, Helen; Hogan, Michael; Combes, Francoise; Salome, Philippe; Fabian, Andrew;</td><td>0.6315246214193276</td><td>0.01322977890096457</td><td>0.89892775</td><td>uid://A001/X87a/X656</td><td>uid://A001/X87a/X657</td><td>uid://A002/Xb9dfa4/X7110</td><td>Stimulated AGN feedback in cluster cores</td><td>S</td><td>TARGET</td><td>61.8793901904933</td><td>4.035112195732013</td><td>Y</td><td>3</td><td>Outflows, jets, feedback, Galaxy groups and clusters</td><td>Active galaxies</td><td>2016.1.01269.S</td><td>[array([93.91, 95.78]), array([95.73, 97.71]), array([105.85, 107.84]), array([107.73, 109.71])]</td><td>RXCJ1504.1-0248</td><td>WHL J150407.5-024816</td><td>226.03125</td><td>-2.80444</td><td>0.2153</td><td>False</td><td>False</td><td>True</td></tr>\n",
       "<tr><td>2015.1.01198.S</td><td>RXC_J1539.5-8335</td><td>234.89422916666666</td><td>-83.58958055555556</td><td>307.56632846045324</td><td>-22.292185878369324</td><td>[3]</td><td>13.093559571483516</td><td>1953.0857538216594</td><td>12m</td><td></td><td>3205.44</td><td>2017-04-08</td><td>[92.57..94.44GHz,3906.17kHz,856.6uJy/beam@10km/s,34.9uJy/beam@native, XX YY] U [94.37..96.24GHz,3906.17kHz,848.4uJy/beam@10km/s,34.9uJy/beam@native, XX YY] U [104.67..106.55GHz,1953.09kHz,862.6uJy/beam@10km/s,37.4uJy/beam@native, XX YY] U [106.51..108.38GHz,1953.09kHz,886.3uJy/beam@10km/s,38.7uJy/beam@native, XX YY]</td><td>5402.323406931749</td><td>XX YY</td><td>2016-03-06 08:52:20</td><td>Hamer, Stephen</td><td>RXC_J153_a_03_TE</td><td>Tremblay, Grant; McNamara, Brian; Edge, Alastair; Russell, Helen; Salome, Quentin; Salome, Philippe; Combes, Francoise;</td><td>0.8626484674470812</td><td>0.01819692417798795</td><td>2.3566985</td><td>uid://A001/X2fe/X1e3</td><td>uid://A001/X2fe/X1e4</td><td>uid://A002/Xb02e35/X3727</td><td>Detection and mapping of molecular filaments in galaxy cluster cores</td><td>S</td><td>TARGET</td><td>62.703102050207974</td><td>50.45069309982115</td><td>Y</td><td>0</td><td>Galaxy Clusters</td><td>Cosmology</td><td>2015.1.01198.S</td><td>[array([92.57, 94.44]), array([94.37, 96.24]), array([104.67, 106.55]), array([106.51, 108.38])]</td><td>RXCJ1539.5-8335</td><td>MCXC J1539.5-8335</td><td>234.89125</td><td>-83.59222</td><td>0.0728</td><td>False</td><td>False</td><td>True</td></tr>\n",
       "<tr><td>2016.1.01269.S</td><td>RXJ0820.9+0752</td><td>125.25919166665493</td><td>7.86346388889101</td><td>216.07956336718246</td><td>23.474405373741565</td><td>[3]</td><td>0.6194054054627778</td><td>976.508374496387</td><td>12m</td><td></td><td>5201.28</td><td>2017-12-01</td><td>[90.86..92.84GHz,31248.27kHz,589.1uJy/beam@10km/s,23.1uJy/beam@native, XX YY] U [92.73..94.72GHz,31248.27kHz,585.4uJy/beam@10km/s,23.1uJy/beam@native, XX YY] U [102.92..104.79GHz,976.51kHz,571.5uJy/beam@10km/s,24.6uJy/beam@native, XX YY] U [104.74..106.72GHz,31248.27kHz,568.1uJy/beam@10km/s,23.9uJy/beam@native, XX YY]</td><td>2793.5350804521427</td><td>XX YY</td><td>2016-10-30 11:00:21</td><td>McNamara, Brian</td><td>RXJ0820._a_03_TM1</td><td>Parrish, Ian; Nulsen, Paul; Murray, Norman; Edge, Alastair; McDonald, Michael; Vantyghem, Adrian; Russell, Helen; Hogan, Michael; Combes, Francoise; Salome, Philippe; Fabian, Andrew;</td><td>0.5680858798916301</td><td>0.011816294527772163</td><td>0.9113649</td><td>uid://A001/X87d/Xc76</td><td>uid://A001/X87d/Xc77</td><td>uid://A002/Xb9fa0c/X3685</td><td>Stimulated AGN feedback in cluster cores</td><td>S</td><td>TARGET</td><td>63.77179870742411</td><td>3.2110343258051453</td><td>Y</td><td>3</td><td>Outflows, jets, feedback, Galaxy groups and clusters</td><td>Active galaxies</td><td>2016.1.01269.S</td><td>[array([90.86, 92.84]), array([92.73, 94.72]), array([102.92, 104.79]), array([104.74, 106.72])]</td><td>RXJ0820.9+0752</td><td>GCwM 056</td><td>125.25993</td><td>7.86313</td><td>0.11</td><td>False</td><td>False</td><td>True</td></tr>\n",
       "<tr><td>2011.0.00467.S</td><td>vv114</td><td>16.9467</td><td>-17.5069</td><td>145.19626782629928</td><td>-79.66480613901771</td><td>[3]</td><td>1.7647276286640976</td><td>976.4983196937587</td><td>12m</td><td></td><td>1814.4</td><td>2013-05-15</td><td>[94.61..96.49GHz,976.54kHz,2.4mJy/beam@10km/s,97.7uJy/beam@native, XX YY] U [96.56..98.44GHz,976.54kHz,2.3mJy/beam@10km/s,97.8uJy/beam@native, XX YY] U [107.05..108.93GHz,976.54kHz,2.4mJy/beam@10km/s,104.3uJy/beam@native, XX YY] U [108.31..110.20GHz,976.54kHz,2.4mJy/beam@10km/s,106.9uJy/beam@native, XX YY]</td><td>2656.65173777566</td><td>XX YY</td><td>2012-03-27 21:23:26</td><td>Iono, Daisuke</td><td>SB4-B3-comp SB4-B3-ext</td><td>Imanishi, Masatoshi; Yun, Min; Sugai, Hajime; Nakanishi, Kouichiro; Hagiwara, Yoshiaki; Motohara, Kentaro; Tateuchi, Ken;</td><td>2.379520940172917</td><td>0.05071508418963458</td><td>2.3642786</td><td></td><td>uid://A001/X74/X249</td><td>uid://A002/X3b55d6/Xa0</td><td>Dense Gas and Starburst/AGN Activities in the Late-stage IR-Bright Merger VV114</td><td>S</td><td>TARGET</td><td>61.525874632753975</td><td>17.413505486522034</td><td>Y</td><td>10</td><td>Merging and interacting galaxies, Inter-Stellar Medium (ISM)/Molecular clouds</td><td>Galaxy evolution</td><td>2011.0.00467.S</td><td>[array([94.61, 96.49]), array([96.56, 98.44]), array([107.05, 108.93]), array([108.31, 110.2 ])]</td><td>VV114</td><td>IC 1623</td><td>16.94658</td><td>-17.50703</td><td>0.020067</td><td>True</td><td>True</td><td>False</td></tr>\n",
       "<tr><td>2013.1.01057.S</td><td>vv114</td><td>16.9467</td><td>-17.5069</td><td>145.19626782629928</td><td>-79.66480613901771</td><td>[3]</td><td>1.122445154581778</td><td>3905.9942432309967</td><td>12m</td><td></td><td>1330.56</td><td>2016-02-13</td><td>[95.31..97.18GHz,3905.99kHz,1.1mJy/beam@10km/s,45.6uJy/beam@native, XX YY] U [97.18..99.06GHz,3905.99kHz,1.1mJy/beam@10km/s,44.9uJy/beam@native, XX YY] U [107.31..109.18GHz,3905.99kHz,1.1mJy/beam@10km/s,48uJy/beam@native, XX YY] U [109.18..111.05GHz,3905.99kHz,1.1mJy/beam@10km/s,50.1uJy/beam@native, XX YY]</td><td>10543.59402670219</td><td>XX YY</td><td>2014-07-04 08:24:48</td><td>Saito, Toshiki</td><td>vv114_d_03_TE_tuning4</td><td>Kawabe, Ryohei; Sugai, Hajime; Nakanishi, Kouichiro; Lee, Minju; Hagiwara, Yoshiaki; Tateuchi, Ken; Takano, Shuro; Espada, Daniel; Imanishi, Masatoshi; Yun, Min; Iono, Daisuke; Ueda, Junko; Ohashi, Satoshi; Motohara, Kentaro;</td><td>1.0943051283633118</td><td>0.02351249717556701</td><td>2.2014961</td><td>uid://A001/X12b/X20e</td><td>uid://A001/X12b/X215</td><td>uid://A002/X85f3e3/X8c9</td><td>Band 3/4 spectral scan in the central filament of merging LIRG VV114</td><td>S</td><td>TARGET</td><td>61.05790441215041</td><td>5.208217913830632</td><td>Y</td><td>2</td><td>Merging and interacting galaxies, Galaxy chemistry</td><td>Galaxy evolution</td><td>2013.1.01057.S</td><td>[array([95.31, 97.18]), array([97.18, 99.06]), array([107.31, 109.18]), array([109.18, 111.05])]</td><td>VV114</td><td>IC 1623</td><td>16.94658</td><td>-17.50703</td><td>0.020067</td><td>True</td><td>True</td><td>False</td></tr>\n",
       "<tr><td>2011.0.00467.S</td><td>vv114</td><td>16.9467</td><td>-17.5069</td><td>145.19626782629928</td><td>-79.66480613901771</td><td>[3]</td><td>1.7647276286640976</td><td>976.4983196937587</td><td>12m</td><td></td><td>1814.4</td><td>2013-08-24</td><td>[94.61..96.49GHz,976.54kHz,2.4mJy/beam@10km/s,97.7uJy/beam@native, XX YY] U [96.56..98.44GHz,976.54kHz,2.3mJy/beam@10km/s,97.8uJy/beam@native, XX YY] U [107.05..108.93GHz,976.54kHz,2.4mJy/beam@10km/s,104.3uJy/beam@native, XX YY] U [108.31..110.20GHz,976.54kHz,2.4mJy/beam@10km/s,106.9uJy/beam@native, XX YY]</td><td>2656.65173777566</td><td>XX YY</td><td>2012-03-27 21:23:26</td><td>Iono, Daisuke</td><td>SB4-B3-comp SB4-B3-ext</td><td>Imanishi, Masatoshi; Yun, Min; Sugai, Hajime; Nakanishi, Kouichiro; Hagiwara, Yoshiaki; Motohara, Kentaro; Tateuchi, Ken;</td><td>2.379520940172917</td><td>0.05071508418963458</td><td>2.3642786</td><td></td><td>uid://A001/X74/X249</td><td>uid://A002/X3b55d6/Xa0</td><td>Dense Gas and Starburst/AGN Activities in the Late-stage IR-Bright Merger VV114</td><td>S</td><td>TARGET</td><td>61.525874632753975</td><td>17.413505486522034</td><td>Y</td><td>10</td><td>Merging and interacting galaxies, Inter-Stellar Medium (ISM)/Molecular clouds</td><td>Galaxy evolution</td><td>2011.0.00467.S</td><td>[array([94.61, 96.49]), array([96.56, 98.44]), array([107.05, 108.93]), array([108.31, 110.2 ])]</td><td>VV114</td><td>IC 1623</td><td>16.94658</td><td>-17.50703</td><td>0.020067</td><td>True</td><td>True</td><td>False</td></tr>\n",
       "<tr><td>2013.1.00469.S</td><td>VV114</td><td>16.946350477037736</td><td>-17.50701111116915</td><td>145.19474881155168</td><td>-79.66502792835925</td><td>[3]</td><td>2.6356681862470714</td><td>3906.7083233749036</td><td>12m</td><td></td><td>2540.16</td><td>2016-03-04</td><td>[93.32..95.19GHz,3906.71kHz,647.7uJy/beam@10km/s,26.5uJy/beam@native, XX YY] U [95.07..96.94GHz,3906.71kHz,644uJy/beam@10km/s,26.6uJy/beam@native, XX YY] U [105.26..107.14GHz,3906.71kHz,637.1uJy/beam@10km/s,27.7uJy/beam@native, XX YY] U [107.06..108.93GHz,3906.71kHz,646.2uJy/beam@10km/s,28.3uJy/beam@native, XX YY]</td><td>10753.1017872218</td><td>XX YY</td><td>2014-12-28 19:39:26</td><td>Sliwa, Kazimierz</td><td>VV114_a_03_TE</td><td>Krips, Melanie; Wilson, Christine; Iono, Daisuke;</td><td>0.637091395011652</td><td>0.013628667043276395</td><td>2.271671</td><td>uid://A001/X120/X2a</td><td>uid://A001/X120/X2b</td><td>uid://A002/X98124f/X3982</td><td>The Warm Molecular Gas of VV 114</td><td>S</td><td>TARGET</td><td>62.30031597065838</td><td>13.203596513066406</td><td>Y</td><td>0</td><td>Starbursts, star formation, Merging and interacting galaxies</td><td>Active galaxies</td><td>2013.1.00469.S</td><td>[array([93.32, 95.19]), array([95.07, 96.94]), array([105.26, 107.14]), array([107.06, 108.93])]</td><td>VV114</td><td>IC 1623</td><td>16.94658</td><td>-17.50703</td><td>0.020067</td><td>True</td><td>True</td><td>False</td></tr>\n",
       "<tr><td>2015.1.00727.S</td><td>W_Comae</td><td>185.38204383301218</td><td>28.232916722003196</td><td>201.73566654617574</td><td>83.28803269012654</td><td>[3]</td><td>1.395709630930916</td><td>62501.70607556519</td><td>12m</td><td></td><td>5443.2</td><td>2017-12-20</td><td>[89.51..91.48GHz,62502.16kHz,812.3uJy/beam@10km/s,31.6uJy/beam@native, XX XY YY] U [91.45..93.42GHz,62502.16kHz,803.7uJy/beam@10km/s,31.6uJy/beam@native, XX XY YY] U [101.51..103.48GHz,62502.16kHz,793.3uJy/beam@10km/s,32.8uJy/beam@native, XX XY YY] U [103.51..105.48GHz,62502.16kHz,799.4uJy/beam@10km/s,33.4uJy/beam@native, XX XY YY]</td><td>177642.45940623435</td><td>XX XY YX YY</td><td>2016-04-28 01:36:00</td><td>Akiyama, Kazunori</td><td>W_Comae_a_03_TE</td><td>Asada, Keiichi; Honma, Mareki; Hada, Kazuhiro; Nagai, Hiroshi; Kino, Motoki; Doi, Akihiro;</td><td>0.7994393279687011</td><td>0.016146801823194668</td><td>3.6232085</td><td>uid://A001/X2fb/X930</td><td>uid://A001/X2fb/X931</td><td>uid://A002/Xb24884/X14b6</td><td>Locating the origin of the radio jet in the blazars</td><td>S</td><td>TARGET</td><td>64.61721640721862</td><td>9.310869055363282</td><td>Y</td><td>0</td><td>Active Galactic Nuclei (AGN)/Quasars (QSO)</td><td>Active galaxies</td><td>2015.1.00727.S</td><td>[array([89.51, 91.48]), array([91.45, 93.42]), array([101.51, 103.48]), array([103.51, 105.48])]</td><td>WCOMAE</td><td>W Com</td><td>185.38204</td><td>28.23292</td><td>0.102</td><td>False</td><td>False</td><td>True</td></tr>\n",
       "</table>"
      ],
      "text/plain": [
       "<Table masked=True length=183>\n",
       " Project code     ALMA source name    ... 13CO J=1-0 C18O J=1-0\n",
       "                                      ...                      \n",
       "   bytes64            bytes256        ...    bool       bool   \n",
       "-------------- ---------------------- ... ---------- ----------\n",
       "2012.1.00837.S             2A0335+096 ...      False       True\n",
       "2015.1.00320.S 2MASXJ09033081-0106127 ...      False       True\n",
       "2015.1.00320.S 2MASXJ13010083+2701312 ...      False       True\n",
       "2015.1.00320.S 2MASXJ13333299+2616190 ...      False       True\n",
       "2015.1.00320.S 2MASXJ14161186+0152048 ...      False       True\n",
       "2017.1.01572.S                   3C15 ...       True      False\n",
       "2013.1.00286.S                 3C_445 ...       True      False\n",
       "2016.1.01481.S              4C_+13.41 ...      False       True\n",
       "2016.1.01481.S              4C_+13.41 ...      False       True\n",
       "           ...                    ... ...        ...        ...\n",
       "2017.1.00629.S        RXCJ0439.0+0520 ...      False       True\n",
       "2013.1.00843.S        RXCJ1504.1-0248 ...       True      False\n",
       "2016.1.01269.S        RXCJ1504.1-0248 ...      False       True\n",
       "2015.1.01198.S       RXC_J1539.5-8335 ...      False       True\n",
       "2016.1.01269.S         RXJ0820.9+0752 ...      False       True\n",
       "2011.0.00467.S                  vv114 ...       True      False\n",
       "2013.1.01057.S                  vv114 ...       True      False\n",
       "2011.0.00467.S                  vv114 ...       True      False\n",
       "2013.1.00469.S                  VV114 ...       True      False\n",
       "2015.1.00727.S                W_Comae ...      False       True"
      ]
     },
     "execution_count": 14,
     "metadata": {},
     "output_type": "execute_result"
    }
   ],
   "source": [
    "testPayloadLinesQuery.queryResults"
   ]
  },
  {
   "cell_type": "code",
   "execution_count": 18,
   "metadata": {},
   "outputs": [
    {
     "name": "stdout",
     "output_type": "stream",
     "text": [
      "183 observations of 12CO, 13CO, OR C18O:\n"
     ]
    }
   ],
   "source": [
    "print(len(testPayloadLinesQuery.queryResults), \"observations of 12CO, 13CO, OR C18O:\")"
   ]
  },
  {
   "cell_type": "code",
   "execution_count": null,
   "metadata": {},
   "outputs": [],
   "source": [
    "k=0 #counter\n",
    "\n",
    "idx = np.where((True in testPayloadLinesQuery.queryResults['12CO J=1-0']) & \n",
    "               (True in testPayloadLinesQuery.queryResults['13CO J=1-0']) &\n",
    "               (True in testPayloadLinesQuery.queryResults['C18O J=1-0']))\n",
    "\n",
    "display(queryResults[idx])"
   ]
  },
  {
   "cell_type": "code",
   "execution_count": null,
   "metadata": {},
   "outputs": [],
   "source": []
  },
  {
   "cell_type": "code",
   "execution_count": null,
   "metadata": {},
   "outputs": [],
   "source": []
  },
  {
   "cell_type": "code",
   "execution_count": null,
   "metadata": {},
   "outputs": [],
   "source": []
  },
  {
   "cell_type": "code",
   "execution_count": null,
   "metadata": {},
   "outputs": [],
   "source": []
  },
  {
   "cell_type": "code",
   "execution_count": null,
   "metadata": {},
   "outputs": [],
   "source": []
  },
  {
   "cell_type": "code",
   "execution_count": null,
   "metadata": {},
   "outputs": [],
   "source": []
  },
  {
   "cell_type": "code",
   "execution_count": null,
   "metadata": {},
   "outputs": [],
   "source": []
  },
  {
   "cell_type": "code",
   "execution_count": null,
   "metadata": {},
   "outputs": [],
   "source": []
  },
  {
   "cell_type": "code",
   "execution_count": null,
   "metadata": {},
   "outputs": [],
   "source": []
  },
  {
   "cell_type": "code",
   "execution_count": null,
   "metadata": {},
   "outputs": [],
   "source": []
  },
  {
   "cell_type": "code",
   "execution_count": null,
   "metadata": {},
   "outputs": [],
   "source": []
  },
  {
   "cell_type": "code",
   "execution_count": null,
   "metadata": {},
   "outputs": [],
   "source": []
  },
  {
   "cell_type": "code",
   "execution_count": null,
   "metadata": {},
   "outputs": [],
   "source": []
  },
  {
   "cell_type": "code",
   "execution_count": null,
   "metadata": {},
   "outputs": [],
   "source": []
  },
  {
   "cell_type": "code",
   "execution_count": null,
   "metadata": {},
   "outputs": [],
   "source": []
  },
  {
   "cell_type": "code",
   "execution_count": null,
   "metadata": {},
   "outputs": [],
   "source": []
  },
  {
   "cell_type": "code",
   "execution_count": null,
   "metadata": {},
   "outputs": [],
   "source": []
  },
  {
   "cell_type": "code",
   "execution_count": null,
   "metadata": {},
   "outputs": [],
   "source": []
  },
  {
   "cell_type": "code",
   "execution_count": null,
   "metadata": {},
   "outputs": [],
   "source": []
  },
  {
   "cell_type": "code",
   "execution_count": null,
   "metadata": {},
   "outputs": [],
   "source": []
  }
 ],
 "metadata": {
  "kernelspec": {
   "display_name": "Python 3",
   "language": "python",
   "name": "python3"
  },
  "language_info": {
   "codemirror_mode": {
    "name": "ipython",
    "version": 3
   },
   "file_extension": ".py",
   "mimetype": "text/x-python",
   "name": "python",
   "nbconvert_exporter": "python",
   "pygments_lexer": "ipython3",
   "version": "3.6.5"
  }
 },
 "nbformat": 4,
 "nbformat_minor": 2
}
