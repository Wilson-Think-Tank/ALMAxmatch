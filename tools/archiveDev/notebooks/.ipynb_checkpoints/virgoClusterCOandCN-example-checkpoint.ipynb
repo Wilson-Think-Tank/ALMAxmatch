{
 "cells": [
  {
   "cell_type": "markdown",
   "metadata": {},
   "source": [
    "# Introduction\n",
    "## (Author: Nathan Brunetti)\n",
    "This notebook will walk you through using the ALMA archive query enhanced for identifying spectral lines potentially observed. It works through an example looking for observations from a circular region of radius 6&deg; centered on the Virgo Cluster in a redshift range of $0.005 \\leq z \\leq 0.1$ which may contain CO (J=2-1) and CN (N=1-0). The `archiveSearch.runTargetQueryWithLines` convenience function does most of the work so the remainder of the notebook explores the results tables and checks for projects and sources that may have had both lines observed.\n",
    "\n",
    "The underlying approach wrapped up in the `archiveSearch.runTargetQueryWithLines` function is to \n",
    "1. calculate the frequency range that contains our lines, in the given redshift range\n",
    "1. query the ALMA archive region using that frequency range\n",
    "1. match the source names in the ALMA archive against names in the NED database\n",
    "1. use the redshift from NED to calculate the observed frequency of our lines for each source\n",
    "1. check if the ALMA spectral window coverage contains the observed line frequencies"
   ]
  },
  {
   "cell_type": "markdown",
   "metadata": {},
   "source": [
    "### To do for this notebook\n",
    "* Display project codes at the end for sources which have both lines observed but are necessarily done in different projects. It is hard to see which projects are listed in the big full table so make it more human-accessible.\n",
    "* Add exploration of tables where no there are no NED matches and where NED matches but does not have redshift."
   ]
  },
  {
   "cell_type": "markdown",
   "metadata": {},
   "source": [
    "# Import modules we use"
   ]
  },
  {
   "cell_type": "markdown",
   "metadata": {},
   "source": [
    "In the short-term it is necessary to install the \"bleeding edge\" version of `astroquery` to avoid a bug in the release date column. To do so, run the following commands in a terminal in a directory you do not mind downloading ~100 MB of code\n",
    "```\n",
    "git clone https://github.com/astropy/astroquery.git\n",
    "cd astroquery\n",
    "python setup.py build\n",
    "python setup.py install\n",
    "```"
   ]
  },
  {
   "cell_type": "markdown",
   "metadata": {},
   "source": [
    "Imports of external modules."
   ]
  },
  {
   "cell_type": "code",
   "execution_count": null,
   "metadata": {},
   "outputs": [],
   "source": [
    "from astropy.table import vstack\n",
    "from astroquery.ned import Ned\n",
    "import numpy as np\n",
    "import os\n",
    "import sys"
   ]
  },
  {
   "cell_type": "markdown",
   "metadata": {},
   "source": [
    "Import the enhanced ALMA query class, called `ALMAxmatch.archiveSearch`."
   ]
  },
  {
   "cell_type": "code",
   "execution_count": null,
   "metadata": {},
   "outputs": [],
   "source": [
    "sys.path.insert(0, os.path.abspath('..'))\n",
    "from ALMAxmatch import archiveSearch"
   ]
  },
  {
   "cell_type": "markdown",
   "metadata": {},
   "source": [
    "# Run the archive query"
   ]
  },
  {
   "cell_type": "markdown",
   "metadata": {},
   "source": [
    "Since we have a particular target that we want to query on, we initialize the `archiveSearch` with that target. In this case, we specify the target as a region defined by a tuple containing the coordinates of the region center and a search radius."
   ]
  },
  {
   "cell_type": "code",
   "execution_count": null,
   "metadata": {},
   "outputs": [],
   "source": [
    "virgoLineQuery = archiveSearch(('12h26m32.1s 12d43m24s', '6deg'))"
   ]
  },
  {
   "cell_type": "markdown",
   "metadata": {},
   "source": [
    "Now we have an `archiveSearch` instance called `virgoLineQuery` that contains our desired search target. Running the actual archive query to include the search for lines is almost as easy as one without a line search. All of the same arguments that `astroquery`'s ALMA query tool accepts can be used here (e.g. science, band, polarization, etc.) except the frequency argument. This is because the `archiveSearch` class uses the frequency parameter to limit the search to where the lines may appear.\n",
    "\n",
    "We have to specify the rest frequencies of the spectral lines we are interested in to do the line search (names are optional, output defaults to *line 0*, *line 1*, ...). A redshift range is optional and we choose to use one here. In this case, we also choose to limit the archive search to only science targets (excluding calibrators). This is fine because we want local galaxies!"
   ]
  },
  {
   "cell_type": "code",
   "execution_count": null,
   "metadata": {},
   "outputs": [],
   "source": [
    "virgoLineQuery.runTargetQueryWithLines([230.538, 113.123337],\n",
    "                                       redshiftRange=(0.005, 0.1),\n",
    "                                       lineNames=['CO (J=2-1)', 'CN (N=1-0)'],\n",
    "                                       science=True)"
   ]
  },
  {
   "cell_type": "markdown",
   "metadata": {},
   "source": [
    "And that's it! Stored within `virgoLineQuery` are the ALMA observations in the specified region, with spectral coverage set by the rest fruquencies of the lines and redshift range, as well as whether CN and CO fall in the observed frequency coverage. There are also tables that contain the ALMA observations that fell in the frequency range but did not match any objects in NED by name and for objects that were found in NED but did not have a redshift.\n",
    "\n",
    "So all of the ALMA observations in that region within that frequency range are stored in `virgoLineQuery`. These tables can be accessed as \n",
    "* `virgoLineQuery.queryResults`\n",
    "* `virgoLineQuery.queryResultsNoNED`\n",
    "* `virgoLineQuery.queryResultsNoNEDz`."
   ]
  },
  {
   "cell_type": "markdown",
   "metadata": {},
   "source": [
    "# Find observations with both CN and CO\n",
    "The rest of this notebook will deal with manipulating the archive query results to find information that may be useful. The first goal will be to find what observations (if any) have both CN and CO spectral coverage for the object's redshift."
   ]
  },
  {
   "cell_type": "markdown",
   "metadata": {},
   "source": [
    "We will just set a couple convenience variables here to make accessing the table easier, since there was only one target in our query."
   ]
  },
  {
   "cell_type": "code",
   "execution_count": null,
   "metadata": {
    "scrolled": true
   },
   "outputs": [],
   "source": [
    "print(virgoLineQuery.targets)"
   ]
  },
  {
   "cell_type": "code",
   "execution_count": null,
   "metadata": {},
   "outputs": [],
   "source": [
    "target = 'coord=12h26m32.1s 12d43m24s radius=6deg'\n",
    "searchTable = virgoLineQuery.queryResults[target]"
   ]
  },
  {
   "cell_type": "markdown",
   "metadata": {},
   "source": [
    "Let us take a look at the whole results table for observations that had at least one of the lines covered. Two columns all the way on the right side of the table with our given line names \"CO (J=2-1)\" and \"CN (N=1-0)\" specify if each line was covered in the spectral setup. Also here are all of the standard ALMA archive data columns, with some extras added by the `archiveSearch` class to make the table a bit more machine-capable (e.g. \"Frequency ranges\" giving all of the SPW frequency ranges as a list of lists rather than the default mile-long string)."
   ]
  },
  {
   "cell_type": "code",
   "execution_count": null,
   "metadata": {
    "scrolled": true
   },
   "outputs": [],
   "source": [
    "searchTable.show_in_notebook()"
   ]
  },
  {
   "cell_type": "markdown",
   "metadata": {},
   "source": [
    "We can do a quick check of the number of observations that have CN, CO, or both observed. ```np.sum``` treats ```True``` as 1 and ```False``` as 0 so the sum gets us what we want. There are no observations with both lines which sounds disappointing until you remember that each observation is only in a single band and these lines are too far apart to be in the same band for the redshift range we specified (not until $z\\approx14$ are they $\\leq$ 8 GHz apart)."
   ]
  },
  {
   "cell_type": "code",
   "execution_count": null,
   "metadata": {},
   "outputs": [],
   "source": [
    "print('No. observations with CO(2-1): ', np.sum(searchTable['CO (J=2-1)']))\n",
    "print('No. observations with CN(1-0): ', np.sum(searchTable['CN (N=1-0)']))\n",
    "print('No. observations with both: ', np.sum((searchTable['CO (J=2-1)']) & (searchTable['CN (N=1-0)'])))"
   ]
  },
  {
   "cell_type": "markdown",
   "metadata": {},
   "source": [
    "So we need to do the check a little differently to find sources that were observed in both lines. How about we check based on project?"
   ]
  },
  {
   "cell_type": "code",
   "execution_count": null,
   "metadata": {},
   "outputs": [],
   "source": [
    "CO21observed = searchTable['CO (J=2-1)']\n",
    "CN10observed = searchTable['CN (N=1-0)']\n",
    "\n",
    "COprojects = np.unique(searchTable['Project code'][CO21observed])\n",
    "CNprojects = np.unique(searchTable['Project code'][CN10observed])"
   ]
  },
  {
   "cell_type": "markdown",
   "metadata": {},
   "source": [
    "CO projects."
   ]
  },
  {
   "cell_type": "code",
   "execution_count": null,
   "metadata": {
    "scrolled": true
   },
   "outputs": [],
   "source": [
    "print(COprojects)"
   ]
  },
  {
   "cell_type": "markdown",
   "metadata": {},
   "source": [
    "CN projects."
   ]
  },
  {
   "cell_type": "code",
   "execution_count": null,
   "metadata": {
    "scrolled": false
   },
   "outputs": [],
   "source": [
    "print(CNprojects)"
   ]
  },
  {
   "cell_type": "markdown",
   "metadata": {},
   "source": [
    "Projects with both lines. Still none! I am not out of tricks yet though."
   ]
  },
  {
   "cell_type": "code",
   "execution_count": null,
   "metadata": {},
   "outputs": [],
   "source": [
    "print(np.intersect1d(np.array(CNprojects), np.array(COprojects)))"
   ]
  },
  {
   "cell_type": "markdown",
   "metadata": {},
   "source": [
    "This time, let us find the ALMA source names that had both lines observed even if the observations come from different projects. Here we use another of the `archiveSearch` class added column names called \"ALMA sanitized source name\" which just took the normal \"Source name\" column that comes out of the archive, removed whitespace, removed underscores, and made all letter uppercase. This makes it possible to match projects where the PI named something like \"m 87\" to another with \"M87\" (which is something I think the ALMA archive team should do...)."
   ]
  },
  {
   "cell_type": "code",
   "execution_count": null,
   "metadata": {},
   "outputs": [],
   "source": [
    "COsources = np.unique(searchTable['ALMA sanitized source name'][CO21observed])\n",
    "CNsources = np.unique(searchTable['ALMA sanitized source name'][CN10observed])\n",
    "lineIntersectSources = np.intersect1d(np.array(CNsources), np.array(COsources))"
   ]
  },
  {
   "cell_type": "markdown",
   "metadata": {},
   "source": [
    "Sources with CO."
   ]
  },
  {
   "cell_type": "code",
   "execution_count": null,
   "metadata": {},
   "outputs": [],
   "source": [
    "print(COsources)"
   ]
  },
  {
   "cell_type": "markdown",
   "metadata": {},
   "source": [
    "Sources with CN."
   ]
  },
  {
   "cell_type": "code",
   "execution_count": null,
   "metadata": {},
   "outputs": [],
   "source": [
    "print(CNsources)"
   ]
  },
  {
   "cell_type": "markdown",
   "metadata": {},
   "source": [
    "Sources with both lines, and this time we have victory."
   ]
  },
  {
   "cell_type": "code",
   "execution_count": null,
   "metadata": {},
   "outputs": [],
   "source": [
    "print(lineIntersectSources)"
   ]
  },
  {
   "cell_type": "markdown",
   "metadata": {},
   "source": [
    "Now we know we have several ALMA source names that have both so let us grab the full archive result rows for those."
   ]
  },
  {
   "cell_type": "code",
   "execution_count": null,
   "metadata": {},
   "outputs": [],
   "source": [
    "COandCNobs = dict()\n",
    "for sourceName in lineIntersectSources:\n",
    "    COobs = searchTable[CO21observed]\n",
    "    COobs = COobs.group_by('ALMA sanitized source name')\n",
    "    mask = COobs.groups.keys['ALMA sanitized source name'] == [sourceName]\n",
    "    COobs = COobs.groups[mask]\n",
    "\n",
    "    CNobs = searchTable[CN10observed]\n",
    "    CNobs = CNobs.group_by('ALMA sanitized source name')\n",
    "    mask = CNobs.groups.keys['ALMA sanitized source name'] == [sourceName]\n",
    "    CNobs = CNobs.groups[mask]\n",
    "\n",
    "    COandCNobs[sourceName] = vstack([COobs.group_by('Project code'),\n",
    "                                     CNobs.group_by('Project code')])"
   ]
  },
  {
   "cell_type": "markdown",
   "metadata": {},
   "source": [
    "M87."
   ]
  },
  {
   "cell_type": "code",
   "execution_count": null,
   "metadata": {
    "scrolled": true
   },
   "outputs": [],
   "source": [
    "display(COandCNobs[lineIntersectSources[0]])"
   ]
  },
  {
   "cell_type": "markdown",
   "metadata": {},
   "source": [
    "NGC4321."
   ]
  },
  {
   "cell_type": "code",
   "execution_count": null,
   "metadata": {},
   "outputs": [],
   "source": [
    "display(COandCNobs[lineIntersectSources[1]])"
   ]
  },
  {
   "cell_type": "markdown",
   "metadata": {},
   "source": [
    "NGC4477"
   ]
  },
  {
   "cell_type": "code",
   "execution_count": null,
   "metadata": {},
   "outputs": [],
   "source": [
    "display(COandCNobs[lineIntersectSources[2]])"
   ]
  },
  {
   "cell_type": "markdown",
   "metadata": {},
   "source": [
    "NGC4596"
   ]
  },
  {
   "cell_type": "code",
   "execution_count": null,
   "metadata": {},
   "outputs": [],
   "source": [
    "display(COandCNobs[lineIntersectSources[3]])"
   ]
  }
 ],
 "metadata": {
  "kernelspec": {
   "display_name": "Python 3",
   "language": "python",
   "name": "python3"
  },
  "language_info": {
   "codemirror_mode": {
    "name": "ipython",
    "version": 3
   },
   "file_extension": ".py",
   "mimetype": "text/x-python",
   "name": "python",
   "nbconvert_exporter": "python",
   "pygments_lexer": "ipython3",
   "version": "3.6.5"
  }
 },
 "nbformat": 4,
 "nbformat_minor": 2
}
